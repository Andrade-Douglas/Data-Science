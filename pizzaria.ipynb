{
  "nbformat": 4,
  "nbformat_minor": 0,
  "metadata": {
    "kernelspec": {
      "display_name": "Python 3",
      "language": "python",
      "name": "python3"
    },
    "language_info": {
      "codemirror_mode": {
        "name": "ipython",
        "version": 3
      },
      "file_extension": ".py",
      "mimetype": "text/x-python",
      "name": "python",
      "nbconvert_exporter": "python",
      "pygments_lexer": "ipython3",
      "version": "3.6.5"
    },
    "colab": {
      "name": "pizzaria.ipynb",
      "provenance": [],
      "collapsed_sections": [],
      "toc_visible": true,
      "include_colab_link": true
    }
  },
  "cells": [
    {
      "cell_type": "markdown",
      "metadata": {
        "id": "view-in-github",
        "colab_type": "text"
      },
      "source": [
        "<a href=\"https://colab.research.google.com/github/Andrade-Douglas/Data-Science/blob/master/pizzaria.ipynb\" target=\"_parent\"><img src=\"https://colab.research.google.com/assets/colab-badge.svg\" alt=\"Open In Colab\"/></a>"
      ]
    },
    {
      "cell_type": "markdown",
      "metadata": {
        "id": "PV-ZRqSQMTlz",
        "colab_type": "text"
      },
      "source": [
        "# **Lista de Pizzarias**\n",
        "url: https://www.guiamais.com.br\n",
        "\n",
        "data: [clique aqui](https://www.guiamais.com.br/encontre?searchbox=true&what=pizzaria&where=Sorocaba%2C+SP)"
      ]
    },
    {
      "cell_type": "code",
      "metadata": {
        "id": "lts4B2bhMIxR",
        "colab_type": "code",
        "colab": {}
      },
      "source": [
        "from requests import get\n",
        "from bs4 import BeautifulSoup\n",
        "import pandas as pd\n",
        "from time import sleep\n",
        "from random import randint\n",
        "from time import time"
      ],
      "execution_count": 0,
      "outputs": []
    },
    {
      "cell_type": "code",
      "metadata": {
        "id": "c_xIKEgxMIxU",
        "colab_type": "code",
        "colab": {}
      },
      "source": [
        "url = 'https://www.guiamais.com.br/encontre?searchbox=true&what=pizzaria&where=Sorocaba%2C+SP'"
      ],
      "execution_count": 0,
      "outputs": []
    },
    {
      "cell_type": "code",
      "metadata": {
        "id": "2ld0UgPHMIxX",
        "colab_type": "code",
        "colab": {
          "base_uri": "https://localhost:8080/",
          "height": 170
        },
        "outputId": "adb7d0a4-2ca9-43b7-9124-412e284408b6"
      },
      "source": [
        "response = get(url)\n",
        "print(response.text[:500])"
      ],
      "execution_count": 3,
      "outputs": [
        {
          "output_type": "stream",
          "text": [
            "<!DOCTYPE html>\r\n",
            "<!--[if lte IE 9 ]><html class=\"ie\"><![endif]-->\r\n",
            "<!--[if !IE]> --><html lang=\"pt-br\"><!-- <![endif]-->\r\n",
            "<head>\r\n",
            "    <meta charset=\"utf-8\">\r\n",
            "    <title>pizzaria em Sorocaba, SP</title>\r\n",
            "    <meta name='robots' content='noindex, nofollow'><meta name=\"language\" content=\"pt-br\">\r\n",
            "    <meta name=\"description\" content=\"Encontre pizzaria em Sorocaba, SP. Veja dicas, avalia&ccedil;&otilde;es, mapas, telefone, endere&ccedil;o e descontos\">\r\n",
            "    <meta name=\"apple-itunes-app\" content=\"app\n"
          ],
          "name": "stdout"
        }
      ]
    },
    {
      "cell_type": "code",
      "metadata": {
        "id": "vpuf7vjTMIxb",
        "colab_type": "code",
        "colab": {
          "base_uri": "https://localhost:8080/",
          "height": 34
        },
        "outputId": "167397f5-7069-4268-aa1d-128c9da84fb3"
      },
      "source": [
        "html_soup = BeautifulSoup(response.text, 'html.parser')\n",
        "type(html_soup)"
      ],
      "execution_count": 4,
      "outputs": [
        {
          "output_type": "execute_result",
          "data": {
            "text/plain": [
              "bs4.BeautifulSoup"
            ]
          },
          "metadata": {
            "tags": []
          },
          "execution_count": 4
        }
      ]
    },
    {
      "cell_type": "code",
      "metadata": {
        "id": "WZGRnGrhMIxe",
        "colab_type": "code",
        "colab": {
          "base_uri": "https://localhost:8080/",
          "height": 51
        },
        "outputId": "4c023fc3-bb53-4162-fdba-480e22e8c74d"
      },
      "source": [
        "pizza_containers = html_soup.find_all('div', {'class':'free'})\n",
        "print(type(pizza_containers))\n",
        "print(len(pizza_containers))"
      ],
      "execution_count": 5,
      "outputs": [
        {
          "output_type": "stream",
          "text": [
            "<class 'bs4.element.ResultSet'>\n",
            "23\n"
          ],
          "name": "stdout"
        }
      ]
    },
    {
      "cell_type": "code",
      "metadata": {
        "id": "qnc6gUNRMIxi",
        "colab_type": "code",
        "colab": {
          "base_uri": "https://localhost:8080/",
          "height": 751
        },
        "outputId": "93dcaf0e-b7c7-4b28-8444-4e1446b64da4"
      },
      "source": [
        "first_containers = pizza_containers[0]\n",
        "first_containers"
      ],
      "execution_count": 6,
      "outputs": [
        {
          "output_type": "execute_result",
          "data": {
            "text/plain": [
              "<div class=\"free\" itemprop=\"itemListElement\" itemscope=\"\" itemtype=\"http://schema.org/ListItem\">\n",
              "<meta content=\"2\" itemprop=\"position\"/>\n",
              "<meta content=\"https://www.guiamais.com.br/sorocaba-sp/restaurantes/pizzarias/3030477047-6668922/pizzaria-caserita\" itemprop=\"url\"/>\n",
              "<div class=\"left\">\n",
              "<h2 class=\"aTitle\">\n",
              "<a href=\"/sorocaba-sp/restaurantes/pizzarias/3030477047-6668922/pizzaria-caserita\" onclick=\"ga('send', 'event', 'Teste AB', 'Click', 'gm8_anunciogratis');\" onmousedown=\"statsClickAdv('3030477047-3030477047-6668922-F', '7');\">\n",
              "\t\t\t\t\t\t\t\t\t\t\tPIZZARIA CASERITA</a>\n",
              "</h2>\n",
              "<p class=\"advCategory\">\n",
              "<a href=\"/sorocaba-sp/restaurantes/pizzarias\">Pizzarias</a>\n",
              "</p>\n",
              "<div class=\"reviews\">\n",
              "<ul class=\"stars\">\n",
              "<li></li>\n",
              "<li></li>\n",
              "<li></li>\n",
              "<li></li>\n",
              "<li></li>\n",
              "</ul>\n",
              "</div>\n",
              "</div>\n",
              "<div class=\"right\">\n",
              "<p class=\"distance\"></p>\n",
              "</div>\n",
              "<div class=\"bottom\">\n",
              "<div class=\"advAdress\">\n",
              "<address>\n",
              "<span>\n",
              "\t\t\t\t\t\t\t\t\t\t\t\t\tR Polônia, 135, Jardim Europa - Sorocaba, SP</span>\n",
              "</address>\n",
              "</div>\n",
              "<ul class=\"advPhone\">\n",
              "<a class=\"seeMore\" onclick=\"ga('send', 'event', 'Teste AB', 'Click', 'gm8_anunciogratis');\" onmousedown=\"statsClickAdv('3030477047-3030477047-6668922-F', '83');\">ver telefone</a>\n",
              "<li>\n",
              "<p class=\"phone\">(15) 2104-24aa</p>\n",
              "</li>\n",
              "</ul>\n",
              "<p class=\"infoLine ellipsis\">Pizzaria Com Sabores Diferenciados e Pizzas Exóticas na Cidade de Sorocaba/sp.</p>\n",
              "<nav class=\"advFeatures\">\n",
              "</nav>\n",
              "</div>\n",
              "</div>"
            ]
          },
          "metadata": {
            "tags": []
          },
          "execution_count": 6
        }
      ]
    },
    {
      "cell_type": "code",
      "metadata": {
        "id": "h2cV-tWSMIxl",
        "colab_type": "code",
        "colab": {
          "base_uri": "https://localhost:8080/",
          "height": 34
        },
        "outputId": "fa27c588-77a9-4ad0-dee3-3b6ee0f33d84"
      },
      "source": [
        "pizza_name = first_containers.h2.a.text\n",
        "pizza_name "
      ],
      "execution_count": 7,
      "outputs": [
        {
          "output_type": "execute_result",
          "data": {
            "text/plain": [
              "'\\r\\n\\t\\t\\t\\t\\t\\t\\t\\t\\t\\t\\tPIZZARIA CASERITA'"
            ]
          },
          "metadata": {
            "tags": []
          },
          "execution_count": 7
        }
      ]
    },
    {
      "cell_type": "code",
      "metadata": {
        "id": "Kqrnbi7bMIxo",
        "colab_type": "code",
        "colab": {
          "base_uri": "https://localhost:8080/",
          "height": 34
        },
        "outputId": "1e78dc0c-e6aa-4358-9d70-def27dc46363"
      },
      "source": [
        "pizza_address = first_containers.address.span.text\n",
        "pizza_address"
      ],
      "execution_count": 8,
      "outputs": [
        {
          "output_type": "execute_result",
          "data": {
            "text/plain": [
              "'\\r\\n\\t\\t\\t\\t\\t\\t\\t\\t\\t\\t\\t\\t\\tR Polônia, 135, Jardim Europa - Sorocaba, SP'"
            ]
          },
          "metadata": {
            "tags": []
          },
          "execution_count": 8
        }
      ]
    },
    {
      "cell_type": "code",
      "metadata": {
        "id": "e0iMN4HZMIxr",
        "colab_type": "code",
        "colab": {
          "base_uri": "https://localhost:8080/",
          "height": 153
        },
        "outputId": "637f0f00-4325-4d49-c400-fd88cdfec389"
      },
      "source": [
        "base_url = 'https://www.guiamais.com.br/'\n",
        "url_site = f'{base_url}sorocaba-sp/restaurantes/pizzarias/3030477047-6668922/pizzaria-caserita#maisFone'\n",
        "\n",
        "response_ = get(url_site)\n",
        "print(response_.text[:500])"
      ],
      "execution_count": 9,
      "outputs": [
        {
          "output_type": "stream",
          "text": [
            "<!DOCTYPE html>\r\n",
            "<!--[if lte IE 9 ]><html class=\"ie\"><![endif]-->\r\n",
            "<!--[if !IE]> --><html lang=\"pt-br\"><!-- <![endif]-->\r\n",
            "<head>\r\n",
            "    <meta charset=\"utf-8\">\r\n",
            "    <title>PIZZARIA CASERITA | Jardim Europa, Sorocaba, SP</title>\r\n",
            "    <meta name='robots' content='index, follow'><meta name='googlebot' content='index, follow'><meta name=\"language\" content=\"pt-br\">\r\n",
            "    <meta name=\"description\" content=\"Veja as avalia&ccedil;&otilde;es, o telefone e o endere&ccedil;o de PIZZARIA CASERITA especializado e\n"
          ],
          "name": "stdout"
        }
      ]
    },
    {
      "cell_type": "code",
      "metadata": {
        "id": "mV8VX7ECMIxu",
        "colab_type": "code",
        "colab": {
          "base_uri": "https://localhost:8080/",
          "height": 34
        },
        "outputId": "c60d358e-c4fc-457e-e719-20ac0c983c01"
      },
      "source": [
        "html_soup = BeautifulSoup(response_.text,'html.parser')\n",
        "type(html_soup)"
      ],
      "execution_count": 10,
      "outputs": [
        {
          "output_type": "execute_result",
          "data": {
            "text/plain": [
              "bs4.BeautifulSoup"
            ]
          },
          "metadata": {
            "tags": []
          },
          "execution_count": 10
        }
      ]
    },
    {
      "cell_type": "code",
      "metadata": {
        "id": "3O30zb2AMIxx",
        "colab_type": "code",
        "colab": {
          "base_uri": "https://localhost:8080/",
          "height": 51
        },
        "outputId": "dd919ca7-5102-4ce2-d8e2-ff31fb2e17c7"
      },
      "source": [
        "pizzas_containers = html_soup.find_all('div', {'class': 'infoContent'})\n",
        "print(type(pizzas_containers))\n",
        "print(len(pizzas_containers))"
      ],
      "execution_count": 11,
      "outputs": [
        {
          "output_type": "stream",
          "text": [
            "<class 'bs4.element.ResultSet'>\n",
            "1\n"
          ],
          "name": "stdout"
        }
      ]
    },
    {
      "cell_type": "code",
      "metadata": {
        "id": "s85ccBzTMIx2",
        "colab_type": "code",
        "colab": {}
      },
      "source": [
        "second_containers = pizzas_containers[0]"
      ],
      "execution_count": 0,
      "outputs": []
    },
    {
      "cell_type": "code",
      "metadata": {
        "id": "Eur7L4egMIx5",
        "colab_type": "code",
        "colab": {
          "base_uri": "https://localhost:8080/",
          "height": 34
        },
        "outputId": "8e15834b-b2ad-4e25-ad33-4a7b30234e8f"
      },
      "source": [
        "pizzaria_name = second_containers.h1.text\n",
        "pizza_name"
      ],
      "execution_count": 13,
      "outputs": [
        {
          "output_type": "execute_result",
          "data": {
            "text/plain": [
              "'\\r\\n\\t\\t\\t\\t\\t\\t\\t\\t\\t\\t\\tPIZZARIA CASERITA'"
            ]
          },
          "metadata": {
            "tags": []
          },
          "execution_count": 13
        }
      ]
    },
    {
      "cell_type": "code",
      "metadata": {
        "id": "p5M-gQorMIx8",
        "colab_type": "code",
        "colab": {
          "base_uri": "https://localhost:8080/",
          "height": 85
        },
        "outputId": "3c0140e9-d99d-42ec-a64d-881ba1afab0f"
      },
      "source": [
        "spans = second_containers.findAll('span')\n",
        "pizzaria_address = [span.get_text() for span in spans]\n",
        "pizzaria_address"
      ],
      "execution_count": 14,
      "outputs": [
        {
          "output_type": "execute_result",
          "data": {
            "text/plain": [
              "['\\r\\n\\t\\t\\t\\t\\t\\t\\t\\t\\tR Polônia, 135\\r\\n\\t\\t\\t\\t\\t\\t\\t\\t\\t\\t - Jardim Europa - \\r\\n\\t\\t\\t\\t\\t\\t\\t\\t\\t',\n",
              " 'Sorocaba',\n",
              " 'SP',\n",
              " '18045-010']"
            ]
          },
          "metadata": {
            "tags": []
          },
          "execution_count": 14
        }
      ]
    },
    {
      "cell_type": "code",
      "metadata": {
        "id": "PsXGbO25MIx_",
        "colab_type": "code",
        "colab": {
          "base_uri": "https://localhost:8080/",
          "height": 51
        },
        "outputId": "8e7c8af3-faec-4019-c203-9b56ad43f5bb"
      },
      "source": [
        "phones = second_containers.findAll('p',{'class':'phone detail'})\n",
        "phone = [phone.get_text() for phone in phones ]\n",
        "phone"
      ],
      "execution_count": 15,
      "outputs": [
        {
          "output_type": "execute_result",
          "data": {
            "text/plain": [
              "['\\r\\n\\t\\t\\t\\t\\t\\t\\t\\t\\t\\t(15) 2104-2468',\n",
              " '\\r\\n\\t\\t\\t\\t\\t\\t\\t\\t\\t\\t(15) 3011-7099']"
            ]
          },
          "metadata": {
            "tags": []
          },
          "execution_count": 15
        }
      ]
    },
    {
      "cell_type": "code",
      "metadata": {
        "id": "HbN_pc-zMIyD",
        "colab_type": "code",
        "colab": {}
      },
      "source": [
        "nomes = []\n",
        "enderecos = []\n",
        "telefones = []\n",
        "\n",
        "for pizzaria_container in html_soup.find_all('div', {'class': 'infoContent'}):\n",
        "    nome = pizzaria_container.h1.text\n",
        "    nomes.append(nome)\n",
        "    \n",
        "    spans = second_containers.findAll('span')\n",
        "    endereco = [span.get_text() for span in spans]\n",
        "    enderecos.append(endereco)\n",
        "    \n",
        "    phones = second_containers.findAll('p',{'class':'phone detail'})\n",
        "    telefone = [phone.get_text() for phone in phones ]\n",
        "    telefones.append(telefone)"
      ],
      "execution_count": 0,
      "outputs": []
    },
    {
      "cell_type": "code",
      "metadata": {
        "id": "KF5ftUHUMIyG",
        "colab_type": "code",
        "colab": {
          "base_uri": "https://localhost:8080/",
          "height": 233
        },
        "outputId": "b917b155-adba-4f17-d3a9-8804950ffbb0"
      },
      "source": [
        "df = pd.DataFrame({ 'nome': nomes,\n",
        "                    'endereco': enderecos,\n",
        "                    'telefone': telefones   \n",
        "                   })\n",
        "print(df.info())\n",
        "df"
      ],
      "execution_count": 17,
      "outputs": [
        {
          "output_type": "stream",
          "text": [
            "<class 'pandas.core.frame.DataFrame'>\n",
            "RangeIndex: 1 entries, 0 to 0\n",
            "Data columns (total 3 columns):\n",
            "nome        1 non-null object\n",
            "endereco    1 non-null object\n",
            "telefone    1 non-null object\n",
            "dtypes: object(3)\n",
            "memory usage: 104.0+ bytes\n",
            "None\n"
          ],
          "name": "stdout"
        },
        {
          "output_type": "execute_result",
          "data": {
            "text/html": [
              "<div>\n",
              "<style scoped>\n",
              "    .dataframe tbody tr th:only-of-type {\n",
              "        vertical-align: middle;\n",
              "    }\n",
              "\n",
              "    .dataframe tbody tr th {\n",
              "        vertical-align: top;\n",
              "    }\n",
              "\n",
              "    .dataframe thead th {\n",
              "        text-align: right;\n",
              "    }\n",
              "</style>\n",
              "<table border=\"1\" class=\"dataframe\">\n",
              "  <thead>\n",
              "    <tr style=\"text-align: right;\">\n",
              "      <th></th>\n",
              "      <th>nome</th>\n",
              "      <th>endereco</th>\n",
              "      <th>telefone</th>\n",
              "    </tr>\n",
              "  </thead>\n",
              "  <tbody>\n",
              "    <tr>\n",
              "      <th>0</th>\n",
              "      <td>PIZZARIA CASERITA</td>\n",
              "      <td>[\\r\\n\\t\\t\\t\\t\\t\\t\\t\\t\\tR Polônia, 135\\r\\n\\t\\t\\...</td>\n",
              "      <td>[\\r\\n\\t\\t\\t\\t\\t\\t\\t\\t\\t\\t(15) 2104-2468, \\r\\n\\...</td>\n",
              "    </tr>\n",
              "  </tbody>\n",
              "</table>\n",
              "</div>"
            ],
            "text/plain": [
              "                nome  ...                                           telefone\n",
              "0  PIZZARIA CASERITA  ...  [\\r\\n\\t\\t\\t\\t\\t\\t\\t\\t\\t\\t(15) 2104-2468, \\r\\n\\...\n",
              "\n",
              "[1 rows x 3 columns]"
            ]
          },
          "metadata": {
            "tags": []
          },
          "execution_count": 17
        }
      ]
    },
    {
      "cell_type": "code",
      "metadata": {
        "id": "-lLufU9PMIyJ",
        "colab_type": "code",
        "colab": {}
      },
      "source": [
        "pages = [str(i) for i in range(1,12)]"
      ],
      "execution_count": 0,
      "outputs": []
    },
    {
      "cell_type": "code",
      "metadata": {
        "id": "Kh8b25n-MIyM",
        "colab_type": "code",
        "colab": {
          "base_uri": "https://localhost:8080/",
          "height": 102
        },
        "outputId": "827735d7-3944-47c8-e9d3-d62eea30347e"
      },
      "source": [
        "start_time = time()\n",
        "requests = 0\n",
        "\n",
        "for _ in range(5):\n",
        "    # A request would go here\n",
        "    requests += 1\n",
        "    sleep(randint(1,3))\n",
        "    elapsed_time = time() - start_time\n",
        "    \n",
        "    print('Request: {}; Frequency: {} requests/s'.format(requests, requests/elapsed_time))"
      ],
      "execution_count": 19,
      "outputs": [
        {
          "output_type": "stream",
          "text": [
            "Request: 1; Frequency: 0.49945991029187947 requests/s\n",
            "Request: 2; Frequency: 0.39956852775194784 requests/s\n",
            "Request: 3; Frequency: 0.49944761889867756 requests/s\n",
            "Request: 4; Frequency: 0.4994446254412989 requests/s\n",
            "Request: 5; Frequency: 0.4540451101500284 requests/s\n"
          ],
          "name": "stdout"
        }
      ]
    },
    {
      "cell_type": "code",
      "metadata": {
        "id": "stwGPFmYMIyR",
        "colab_type": "code",
        "colab": {
          "base_uri": "https://localhost:8080/",
          "height": 34
        },
        "outputId": "abf05532-0457-47f7-ff73-8e4a9e676d14"
      },
      "source": [
        "from IPython.core.display import clear_output\n",
        "\n",
        "start_time = time()\n",
        "requests = 0\n",
        "\n",
        "for _ in range(5):\n",
        "    # A request would go here\n",
        "    requests += 1\n",
        "    sleep(randint(1,3))\n",
        "    current_time = time()\n",
        "    elapsed_time = current_time - start_time\n",
        "    \n",
        "    print('Request: {}; Frequency: {} requests/s'.format(requests, requests/elapsed_time))\n",
        "    clear_output(wait = True)"
      ],
      "execution_count": 20,
      "outputs": [
        {
          "output_type": "stream",
          "text": [
            "Request: 5; Frequency: 0.4538054651226224 requests/s\n"
          ],
          "name": "stdout"
        }
      ]
    },
    {
      "cell_type": "code",
      "metadata": {
        "id": "LqA-zzonMIyW",
        "colab_type": "code",
        "colab": {
          "base_uri": "https://localhost:8080/",
          "height": 51
        },
        "outputId": "058cb4c1-edcd-4ed9-b261-58e3d5854722"
      },
      "source": [
        "from warnings import warn\n",
        "warn(\"Warning Simulation\")"
      ],
      "execution_count": 21,
      "outputs": [
        {
          "output_type": "stream",
          "text": [
            "/usr/local/lib/python3.6/dist-packages/ipykernel_launcher.py:2: UserWarning: Warning Simulation\n",
            "  \n"
          ],
          "name": "stderr"
        }
      ]
    },
    {
      "cell_type": "code",
      "metadata": {
        "id": "CKV0JoqfMIya",
        "colab_type": "code",
        "colab": {
          "base_uri": "https://localhost:8080/",
          "height": 34
        },
        "outputId": "b97ed1ac-c00c-4f51-bbd8-6d65c6a2d311"
      },
      "source": [
        "nomes = []\n",
        "enderecos = []\n",
        "telefones = []\n",
        "\n",
        "start_time = time()\n",
        "request = 0\n",
        "for page in pages:\n",
        "    \n",
        "    base_url = 'https://www.guiamais.com.br/'\n",
        "    url_site = f'{base_url}encontre?searchbox=true&what=pizzaria&where=Sorocaba%2C+SP&page='\n",
        "    \n",
        "    response = get(url_site + page)\n",
        "    sleep(randint(8,15))\n",
        "    \n",
        "    requests +=1\n",
        "    elapsed_time = time() - start_time\n",
        "    print('Request:{}; Frequency: {} requests/s'.format(requests, requests/elapsed_time))\n",
        "    clear_output(wait = True)\n",
        "        \n",
        "    if response.status_code != 200:\n",
        "        warn('Request: {}; Status code: {}'.format(requests, response.status_code))\n",
        "              \n",
        "        # Break the loop if the number of requests is greater than expected\n",
        "    if requests > 72:\n",
        "        warn('Number of requests was greater than expected.')  \n",
        "        break \n",
        "           \n",
        "    html_soup = BeautifulSoup(response.text, 'html.parser')\n",
        "\n",
        "    boxes = html_soup.find_all('div', {'class':'left'})\n",
        "    href_links = [box.find('a').get('href') for box in boxes]\n",
        "    page_links = [f'{base_url}{link}' for link in href_links]\n",
        "\n",
        "    for link in page_links:\n",
        "        r = get(link)\n",
        "        bs_page = BeautifulSoup(r.text, 'html.parser')\n",
        "    \n",
        "        nome = bs_page.h1.text\n",
        "        nomes.append(nome)\n",
        "        \n",
        "        spans = bs_page.findAll('span')[5:9]\n",
        "        endereco = [span.get_text() for span in spans]\n",
        "        enderecos.append(endereco)\n",
        "        \n",
        "        phones = bs_page.findAll('p',{'class':'phone detail'})\n",
        "        telefone = [phone.get_text() for phone in phones ]\n",
        "        telefones.append(telefone)        "
      ],
      "execution_count": 92,
      "outputs": [
        {
          "output_type": "stream",
          "text": [
            "Request:26; Frequency: 0.10164061170067933 requests/s\n"
          ],
          "name": "stdout"
        }
      ]
    },
    {
      "cell_type": "code",
      "metadata": {
        "id": "wOF3er1sMIyd",
        "colab_type": "code",
        "colab": {
          "base_uri": "https://localhost:8080/",
          "height": 357
        },
        "outputId": "31e02ed6-7b0f-4869-a53d-e5d92da88341"
      },
      "source": [
        "df = pd.DataFrame({ 'nome': nomes,\n",
        "                    'endereco': enderecos,\n",
        "                    'telefone': telefones   \n",
        "                   })\n",
        "print(df.info())\n",
        "df.head()"
      ],
      "execution_count": 108,
      "outputs": [
        {
          "output_type": "stream",
          "text": [
            "<class 'pandas.core.frame.DataFrame'>\n",
            "RangeIndex: 216 entries, 0 to 215\n",
            "Data columns (total 3 columns):\n",
            "nome        216 non-null object\n",
            "endereco    216 non-null object\n",
            "telefone    216 non-null object\n",
            "dtypes: object(3)\n",
            "memory usage: 5.1+ KB\n",
            "None\n"
          ],
          "name": "stdout"
        },
        {
          "output_type": "execute_result",
          "data": {
            "text/html": [
              "<div>\n",
              "<style scoped>\n",
              "    .dataframe tbody tr th:only-of-type {\n",
              "        vertical-align: middle;\n",
              "    }\n",
              "\n",
              "    .dataframe tbody tr th {\n",
              "        vertical-align: top;\n",
              "    }\n",
              "\n",
              "    .dataframe thead th {\n",
              "        text-align: right;\n",
              "    }\n",
              "</style>\n",
              "<table border=\"1\" class=\"dataframe\">\n",
              "  <thead>\n",
              "    <tr style=\"text-align: right;\">\n",
              "      <th></th>\n",
              "      <th>nome</th>\n",
              "      <th>endereco</th>\n",
              "      <th>telefone</th>\n",
              "    </tr>\n",
              "  </thead>\n",
              "  <tbody>\n",
              "    <tr>\n",
              "      <th>0</th>\n",
              "      <td>FORMAGGIO PIZZA DELIVERY</td>\n",
              "      <td>[\\r\\n\\t\\t\\t\\t\\t\\t\\t\\t\\tRod João Leme dos Santo...</td>\n",
              "      <td>[\\r\\n\\t\\t\\t\\t\\t\\t\\t\\t\\t\\t(15) 3232-5550, \\r\\n\\...</td>\n",
              "    </tr>\n",
              "    <tr>\n",
              "      <th>1</th>\n",
              "      <td>PIZZARIA CASERITA</td>\n",
              "      <td>[\\r\\n\\t\\t\\t\\t\\t\\t\\t\\t\\tR Polônia, 135\\r\\n\\t\\t\\...</td>\n",
              "      <td>[\\r\\n\\t\\t\\t\\t\\t\\t\\t\\t\\t\\t(15) 2104-2468, \\r\\n\\...</td>\n",
              "    </tr>\n",
              "    <tr>\n",
              "      <th>2</th>\n",
              "      <td>PIZZARIA LIGEIRINHO</td>\n",
              "      <td>[\\r\\n\\t\\t\\t\\t\\t\\t\\t\\t\\tR Romeu Antônio Caruso,...</td>\n",
              "      <td>[\\r\\n\\t\\t\\t\\t\\t\\t\\t\\t\\t\\t(15) 3021-4485]</td>\n",
              "    </tr>\n",
              "    <tr>\n",
              "      <th>3</th>\n",
              "      <td>CARTOLA PIZZARIA</td>\n",
              "      <td>[\\r\\n\\t\\t\\t\\t\\t\\t\\t\\t\\tR Padre Luiz, 626\\r\\n\\t...</td>\n",
              "      <td>[\\r\\n\\t\\t\\t\\t\\t\\t\\t\\t\\t\\t(15) 3018-0353, \\r\\n\\...</td>\n",
              "    </tr>\n",
              "    <tr>\n",
              "      <th>4</th>\n",
              "      <td>PIZZARIA JÚNIOR</td>\n",
              "      <td>[\\r\\n\\t\\t\\t\\t\\t\\t\\t\\t\\tAv Angélica, 431\\r\\n\\t\\...</td>\n",
              "      <td>[\\r\\n\\t\\t\\t\\t\\t\\t\\t\\t\\t\\t(15) 3213-5590]</td>\n",
              "    </tr>\n",
              "  </tbody>\n",
              "</table>\n",
              "</div>"
            ],
            "text/plain": [
              "                       nome  ...                                           telefone\n",
              "0  FORMAGGIO PIZZA DELIVERY  ...  [\\r\\n\\t\\t\\t\\t\\t\\t\\t\\t\\t\\t(15) 3232-5550, \\r\\n\\...\n",
              "1         PIZZARIA CASERITA  ...  [\\r\\n\\t\\t\\t\\t\\t\\t\\t\\t\\t\\t(15) 2104-2468, \\r\\n\\...\n",
              "2       PIZZARIA LIGEIRINHO  ...           [\\r\\n\\t\\t\\t\\t\\t\\t\\t\\t\\t\\t(15) 3021-4485]\n",
              "3          CARTOLA PIZZARIA  ...  [\\r\\n\\t\\t\\t\\t\\t\\t\\t\\t\\t\\t(15) 3018-0353, \\r\\n\\...\n",
              "4           PIZZARIA JÚNIOR  ...           [\\r\\n\\t\\t\\t\\t\\t\\t\\t\\t\\t\\t(15) 3213-5590]\n",
              "\n",
              "[5 rows x 3 columns]"
            ]
          },
          "metadata": {
            "tags": []
          },
          "execution_count": 108
        }
      ]
    },
    {
      "cell_type": "code",
      "metadata": {
        "id": "sQy5tjaeO53r",
        "colab_type": "code",
        "colab": {}
      },
      "source": [
        "from google.colab import drive\n",
        "drive.mount('/drive')"
      ],
      "execution_count": 0,
      "outputs": []
    },
    {
      "cell_type": "code",
      "metadata": {
        "id": "GONtRvqpMIyg",
        "colab_type": "code",
        "colab": {}
      },
      "source": [
        "df.to_excel(\"/drive/My Drive/Colab Notebooks/Datasets/pizzarias.xlsx\")"
      ],
      "execution_count": 0,
      "outputs": []
    },
    {
      "cell_type": "code",
      "metadata": {
        "id": "zZBJOqApPXZr",
        "colab_type": "code",
        "colab": {
          "base_uri": "https://localhost:8080/",
          "height": 204
        },
        "outputId": "1f3f846e-ff47-4537-cc1b-a5523ec35c6f"
      },
      "source": [
        "df_ = pd.read_excel('/drive/My Drive/Colab Notebooks/Datasets/pizzarias.xlsx')\n",
        "df_.head()"
      ],
      "execution_count": 96,
      "outputs": [
        {
          "output_type": "execute_result",
          "data": {
            "text/html": [
              "<div>\n",
              "<style scoped>\n",
              "    .dataframe tbody tr th:only-of-type {\n",
              "        vertical-align: middle;\n",
              "    }\n",
              "\n",
              "    .dataframe tbody tr th {\n",
              "        vertical-align: top;\n",
              "    }\n",
              "\n",
              "    .dataframe thead th {\n",
              "        text-align: right;\n",
              "    }\n",
              "</style>\n",
              "<table border=\"1\" class=\"dataframe\">\n",
              "  <thead>\n",
              "    <tr style=\"text-align: right;\">\n",
              "      <th></th>\n",
              "      <th>Unnamed: 0</th>\n",
              "      <th>nome</th>\n",
              "      <th>endereco</th>\n",
              "      <th>telefone</th>\n",
              "    </tr>\n",
              "  </thead>\n",
              "  <tbody>\n",
              "    <tr>\n",
              "      <th>0</th>\n",
              "      <td>0</td>\n",
              "      <td>FORMAGGIO PIZZA DELIVERY</td>\n",
              "      <td>['\\r\\n\\t\\t\\t\\t\\t\\t\\t\\t\\tRod João Leme dos Sant...</td>\n",
              "      <td>['\\r\\n\\t\\t\\t\\t\\t\\t\\t\\t\\t\\t(15) 3232-5550', '\\r...</td>\n",
              "    </tr>\n",
              "    <tr>\n",
              "      <th>1</th>\n",
              "      <td>1</td>\n",
              "      <td>PIZZARIA CASERITA</td>\n",
              "      <td>['\\r\\n\\t\\t\\t\\t\\t\\t\\t\\t\\tR Polônia, 135\\r\\n\\t\\t...</td>\n",
              "      <td>['\\r\\n\\t\\t\\t\\t\\t\\t\\t\\t\\t\\t(15) 2104-2468', '\\r...</td>\n",
              "    </tr>\n",
              "    <tr>\n",
              "      <th>2</th>\n",
              "      <td>2</td>\n",
              "      <td>PIZZARIA LIGEIRINHO</td>\n",
              "      <td>['\\r\\n\\t\\t\\t\\t\\t\\t\\t\\t\\tR Romeu Antônio Caruso...</td>\n",
              "      <td>['\\r\\n\\t\\t\\t\\t\\t\\t\\t\\t\\t\\t(15) 3021-4485']</td>\n",
              "    </tr>\n",
              "    <tr>\n",
              "      <th>3</th>\n",
              "      <td>3</td>\n",
              "      <td>CARTOLA PIZZARIA</td>\n",
              "      <td>['\\r\\n\\t\\t\\t\\t\\t\\t\\t\\t\\tR Padre Luiz, 626\\r\\n\\...</td>\n",
              "      <td>['\\r\\n\\t\\t\\t\\t\\t\\t\\t\\t\\t\\t(15) 3018-0353', '\\r...</td>\n",
              "    </tr>\n",
              "    <tr>\n",
              "      <th>4</th>\n",
              "      <td>4</td>\n",
              "      <td>PIZZARIA JÚNIOR</td>\n",
              "      <td>['\\r\\n\\t\\t\\t\\t\\t\\t\\t\\t\\tAv Angélica, 431\\r\\n\\t...</td>\n",
              "      <td>['\\r\\n\\t\\t\\t\\t\\t\\t\\t\\t\\t\\t(15) 3213-5590']</td>\n",
              "    </tr>\n",
              "  </tbody>\n",
              "</table>\n",
              "</div>"
            ],
            "text/plain": [
              "   Unnamed: 0  ...                                           telefone\n",
              "0           0  ...  ['\\r\\n\\t\\t\\t\\t\\t\\t\\t\\t\\t\\t(15) 3232-5550', '\\r...\n",
              "1           1  ...  ['\\r\\n\\t\\t\\t\\t\\t\\t\\t\\t\\t\\t(15) 2104-2468', '\\r...\n",
              "2           2  ...         ['\\r\\n\\t\\t\\t\\t\\t\\t\\t\\t\\t\\t(15) 3021-4485']\n",
              "3           3  ...  ['\\r\\n\\t\\t\\t\\t\\t\\t\\t\\t\\t\\t(15) 3018-0353', '\\r...\n",
              "4           4  ...         ['\\r\\n\\t\\t\\t\\t\\t\\t\\t\\t\\t\\t(15) 3213-5590']\n",
              "\n",
              "[5 rows x 4 columns]"
            ]
          },
          "metadata": {
            "tags": []
          },
          "execution_count": 96
        }
      ]
    },
    {
      "cell_type": "code",
      "metadata": {
        "id": "J5TglXmQPgah",
        "colab_type": "code",
        "colab": {}
      },
      "source": [
        "df_['endereco'].replace(r'\\s+|\\\\r', ' ', regex=True, inplace=True)\n",
        "df_['endereco'].replace(r'\\s+|\\\\t', ' ', regex=True, inplace=True)\n",
        "df_['endereco'].replace(r'\\s+|\\\\n', ' ', regex=True, inplace=True)\n",
        "df_['endereco'].replace(r'\\s+|\\[', ' ', regex=True, inplace=True)\n",
        "df_['endereco'].replace(r'\\s+|\\]', ' ', regex=True, inplace=True)\n",
        "df_['endereco'].replace(r'\\s+|\\'', ' ', regex=True, inplace=True)"
      ],
      "execution_count": 0,
      "outputs": []
    },
    {
      "cell_type": "code",
      "metadata": {
        "id": "KZJrGTCdQXIW",
        "colab_type": "code",
        "colab": {}
      },
      "source": [
        "df_['telefone'].replace(r'\\s+|\\\\r', ' ', regex=True, inplace=True)\n",
        "df_['telefone'].replace(r'\\s+|\\\\t', ' ', regex=True, inplace=True)\n",
        "df_['telefone'].replace(r'\\s+|\\\\n', ' ', regex=True, inplace=True)\n",
        "df_['telefone'].replace(r'\\s+|\\[', ' ', regex=True, inplace=True)\n",
        "df_['telefone'].replace(r'\\s+|\\]', ' ', regex=True, inplace=True)\n",
        "df_['telefone'].replace(r'\\s+|\\'', ' ', regex=True, inplace=True)"
      ],
      "execution_count": 0,
      "outputs": []
    },
    {
      "cell_type": "code",
      "metadata": {
        "id": "EGMd2i1TRQ8G",
        "colab_type": "code",
        "colab": {}
      },
      "source": [
        "database = df_.drop('Unnamed: 0', axis = 1)"
      ],
      "execution_count": 0,
      "outputs": []
    },
    {
      "cell_type": "code",
      "metadata": {
        "id": "K21ie9fdQXFG",
        "colab_type": "code",
        "colab": {
          "base_uri": "https://localhost:8080/",
          "height": 204
        },
        "outputId": "84b18423-296e-4d94-f4aa-45432f958569"
      },
      "source": [
        "database.head()"
      ],
      "execution_count": 100,
      "outputs": [
        {
          "output_type": "execute_result",
          "data": {
            "text/html": [
              "<div>\n",
              "<style scoped>\n",
              "    .dataframe tbody tr th:only-of-type {\n",
              "        vertical-align: middle;\n",
              "    }\n",
              "\n",
              "    .dataframe tbody tr th {\n",
              "        vertical-align: top;\n",
              "    }\n",
              "\n",
              "    .dataframe thead th {\n",
              "        text-align: right;\n",
              "    }\n",
              "</style>\n",
              "<table border=\"1\" class=\"dataframe\">\n",
              "  <thead>\n",
              "    <tr style=\"text-align: right;\">\n",
              "      <th></th>\n",
              "      <th>nome</th>\n",
              "      <th>endereco</th>\n",
              "      <th>telefone</th>\n",
              "    </tr>\n",
              "  </thead>\n",
              "  <tbody>\n",
              "    <tr>\n",
              "      <th>0</th>\n",
              "      <td>FORMAGGIO PIZZA DELIVERY</td>\n",
              "      <td>Rod João Leme dos Santos, 1668 - Km 102,5 -...</td>\n",
              "      <td>(15) 3232-5550 ,   (15) 99179-0298</td>\n",
              "    </tr>\n",
              "    <tr>\n",
              "      <th>1</th>\n",
              "      <td>PIZZARIA CASERITA</td>\n",
              "      <td>R Polônia, 135 - Jardim Europa -  ,  Soroca...</td>\n",
              "      <td>(15) 2104-2468 ,   (15) 3011-7099</td>\n",
              "    </tr>\n",
              "    <tr>\n",
              "      <th>2</th>\n",
              "      <td>PIZZARIA LIGEIRINHO</td>\n",
              "      <td>R Romeu Antônio Caruso, 96 - Jardim Santa B...</td>\n",
              "      <td>(15) 3021-4485</td>\n",
              "    </tr>\n",
              "    <tr>\n",
              "      <th>3</th>\n",
              "      <td>CARTOLA PIZZARIA</td>\n",
              "      <td>R Padre Luiz, 626 - Centro -  ,  Sorocaba ,...</td>\n",
              "      <td>(15) 3018-0353 ,   (15) 3016-0282 ,   (15) ...</td>\n",
              "    </tr>\n",
              "    <tr>\n",
              "      <th>4</th>\n",
              "      <td>PIZZARIA JÚNIOR</td>\n",
              "      <td>Av Angélica, 431 - Vila Angélica -  ,  Soro...</td>\n",
              "      <td>(15) 3213-5590</td>\n",
              "    </tr>\n",
              "  </tbody>\n",
              "</table>\n",
              "</div>"
            ],
            "text/plain": [
              "                       nome  ...                                           telefone\n",
              "0  FORMAGGIO PIZZA DELIVERY  ...               (15) 3232-5550 ,   (15) 99179-0298  \n",
              "1         PIZZARIA CASERITA  ...                (15) 2104-2468 ,   (15) 3011-7099  \n",
              "2       PIZZARIA LIGEIRINHO  ...                                   (15) 3021-4485  \n",
              "3          CARTOLA PIZZARIA  ...     (15) 3018-0353 ,   (15) 3016-0282 ,   (15) ...\n",
              "4           PIZZARIA JÚNIOR  ...                                   (15) 3213-5590  \n",
              "\n",
              "[5 rows x 3 columns]"
            ]
          },
          "metadata": {
            "tags": []
          },
          "execution_count": 100
        }
      ]
    },
    {
      "cell_type": "code",
      "metadata": {
        "id": "D9-DP_TnPtRp",
        "colab_type": "code",
        "colab": {
          "base_uri": "https://localhost:8080/",
          "height": 34
        },
        "outputId": "d3e41ed9-8ab9-4a72-c6d5-e1eadb818eeb"
      },
      "source": [
        "database.shape"
      ],
      "execution_count": 109,
      "outputs": [
        {
          "output_type": "execute_result",
          "data": {
            "text/plain": [
              "(216, 3)"
            ]
          },
          "metadata": {
            "tags": []
          },
          "execution_count": 109
        }
      ]
    },
    {
      "cell_type": "code",
      "metadata": {
        "id": "CSYotyVePx6Z",
        "colab_type": "code",
        "colab": {
          "base_uri": "https://localhost:8080/",
          "height": 153
        },
        "outputId": "140f6f02-4647-45e6-c00c-95726ab289fc"
      },
      "source": [
        "database.info()"
      ],
      "execution_count": 102,
      "outputs": [
        {
          "output_type": "stream",
          "text": [
            "<class 'pandas.core.frame.DataFrame'>\n",
            "RangeIndex: 216 entries, 0 to 215\n",
            "Data columns (total 3 columns):\n",
            "nome        216 non-null object\n",
            "endereco    216 non-null object\n",
            "telefone    216 non-null object\n",
            "dtypes: object(3)\n",
            "memory usage: 5.1+ KB\n"
          ],
          "name": "stdout"
        }
      ]
    },
    {
      "cell_type": "code",
      "metadata": {
        "id": "rvEvCFX8SVm8",
        "colab_type": "code",
        "colab": {
          "base_uri": "https://localhost:8080/",
          "height": 34
        },
        "outputId": "40da8627-106c-4c8e-9a21-6d68dc1238c3"
      },
      "source": [
        "database.isnull().values.any()"
      ],
      "execution_count": 103,
      "outputs": [
        {
          "output_type": "execute_result",
          "data": {
            "text/plain": [
              "False"
            ]
          },
          "metadata": {
            "tags": []
          },
          "execution_count": 103
        }
      ]
    },
    {
      "cell_type": "code",
      "metadata": {
        "id": "NrBu74ROSa7r",
        "colab_type": "code",
        "colab": {
          "base_uri": "https://localhost:8080/",
          "height": 34
        },
        "outputId": "151e9033-060c-4417-ba53-1ca42f6f8727"
      },
      "source": [
        "df.isnull().sum().sum()"
      ],
      "execution_count": 104,
      "outputs": [
        {
          "output_type": "execute_result",
          "data": {
            "text/plain": [
              "0"
            ]
          },
          "metadata": {
            "tags": []
          },
          "execution_count": 104
        }
      ]
    },
    {
      "cell_type": "code",
      "metadata": {
        "id": "CXCM3DxCSjKb",
        "colab_type": "code",
        "colab": {
          "base_uri": "https://localhost:8080/",
          "height": 85
        },
        "outputId": "649d1906-c171-4804-97e3-74dbcc029dc8"
      },
      "source": [
        "df.isnull().sum()"
      ],
      "execution_count": 105,
      "outputs": [
        {
          "output_type": "execute_result",
          "data": {
            "text/plain": [
              "nome        0\n",
              "endereco    0\n",
              "telefone    0\n",
              "dtype: int64"
            ]
          },
          "metadata": {
            "tags": []
          },
          "execution_count": 105
        }
      ]
    },
    {
      "cell_type": "code",
      "metadata": {
        "id": "3_c-zaQqSrZt",
        "colab_type": "code",
        "colab": {
          "base_uri": "https://localhost:8080/",
          "height": 1000
        },
        "outputId": "0f630c77-1e57-4d73-bf0e-14a3d663c7e7"
      },
      "source": [
        "database"
      ],
      "execution_count": 110,
      "outputs": [
        {
          "output_type": "execute_result",
          "data": {
            "text/html": [
              "<div>\n",
              "<style scoped>\n",
              "    .dataframe tbody tr th:only-of-type {\n",
              "        vertical-align: middle;\n",
              "    }\n",
              "\n",
              "    .dataframe tbody tr th {\n",
              "        vertical-align: top;\n",
              "    }\n",
              "\n",
              "    .dataframe thead th {\n",
              "        text-align: right;\n",
              "    }\n",
              "</style>\n",
              "<table border=\"1\" class=\"dataframe\">\n",
              "  <thead>\n",
              "    <tr style=\"text-align: right;\">\n",
              "      <th></th>\n",
              "      <th>nome</th>\n",
              "      <th>endereco</th>\n",
              "      <th>telefone</th>\n",
              "    </tr>\n",
              "  </thead>\n",
              "  <tbody>\n",
              "    <tr>\n",
              "      <th>0</th>\n",
              "      <td>FORMAGGIO PIZZA DELIVERY</td>\n",
              "      <td>Rod João Leme dos Santos, 1668 - Km 102,5 -...</td>\n",
              "      <td>(15) 3232-5550 ,   (15) 99179-0298</td>\n",
              "    </tr>\n",
              "    <tr>\n",
              "      <th>1</th>\n",
              "      <td>PIZZARIA CASERITA</td>\n",
              "      <td>R Polônia, 135 - Jardim Europa -  ,  Soroca...</td>\n",
              "      <td>(15) 2104-2468 ,   (15) 3011-7099</td>\n",
              "    </tr>\n",
              "    <tr>\n",
              "      <th>2</th>\n",
              "      <td>PIZZARIA LIGEIRINHO</td>\n",
              "      <td>R Romeu Antônio Caruso, 96 - Jardim Santa B...</td>\n",
              "      <td>(15) 3021-4485</td>\n",
              "    </tr>\n",
              "    <tr>\n",
              "      <th>3</th>\n",
              "      <td>CARTOLA PIZZARIA</td>\n",
              "      <td>R Padre Luiz, 626 - Centro -  ,  Sorocaba ,...</td>\n",
              "      <td>(15) 3018-0353 ,   (15) 3016-0282 ,   (15) ...</td>\n",
              "    </tr>\n",
              "    <tr>\n",
              "      <th>4</th>\n",
              "      <td>PIZZARIA JÚNIOR</td>\n",
              "      <td>Av Angélica, 431 - Vila Angélica -  ,  Soro...</td>\n",
              "      <td>(15) 3213-5590</td>\n",
              "    </tr>\n",
              "    <tr>\n",
              "      <th>5</th>\n",
              "      <td>PIZZARIA MARTINEZ</td>\n",
              "      <td>R Aparecida, 1010 - Jardim Santa Rosália - ...</td>\n",
              "      <td>(15) 3233-9834 ,   (15) 3232-4082 ,   (15) ...</td>\n",
              "    </tr>\n",
              "    <tr>\n",
              "      <th>6</th>\n",
              "      <td>TONI'S PIZZARIA</td>\n",
              "      <td>R Jesuíno Pinto Bandeira, 63 - SL 1 - - Vil...</td>\n",
              "      <td></td>\n",
              "    </tr>\n",
              "    <tr>\n",
              "      <th>7</th>\n",
              "      <td>PIZZARIA CAPRICIO</td>\n",
              "      <td>R Comendador Vicente Amaral, 227 - Jardim G...</td>\n",
              "      <td>(15) 3012-5526</td>\n",
              "    </tr>\n",
              "    <tr>\n",
              "      <th>8</th>\n",
              "      <td>PIZZARIA MICHELANGELO</td>\n",
              "      <td>R Santa Terezinha, 290 - Vila Augusta -  , ...</td>\n",
              "      <td>(15) 3202-4378</td>\n",
              "    </tr>\n",
              "    <tr>\n",
              "      <th>9</th>\n",
              "      <td>CABRAL PIZZARIA</td>\n",
              "      <td>R Maurício Garcia Vieira, 78 - Jardim Soroc...</td>\n",
              "      <td>(15) 3233-2620</td>\n",
              "    </tr>\n",
              "    <tr>\n",
              "      <th>10</th>\n",
              "      <td>PIZZARIA SPLENDORE</td>\n",
              "      <td>R Visconde do Rio Branco, 1116 - Vila Jardi...</td>\n",
              "      <td>(15) 3222-8987</td>\n",
              "    </tr>\n",
              "    <tr>\n",
              "      <th>11</th>\n",
              "      <td>PIZZARIA ACHIROPITA</td>\n",
              "      <td>Av Padre Joaquim Gonçalves Pacheco, 338 - J...</td>\n",
              "      <td>(15) 3221-3445</td>\n",
              "    </tr>\n",
              "    <tr>\n",
              "      <th>12</th>\n",
              "      <td>SAPORITO PIZZARIA</td>\n",
              "      <td>Pc Olinda Alves Mendes, 59 - Jardim Marco A...</td>\n",
              "      <td>(15) 3231-3333</td>\n",
              "    </tr>\n",
              "    <tr>\n",
              "      <th>13</th>\n",
              "      <td>PIZZARIA DA RITA</td>\n",
              "      <td>R Bonifácio de Oliveira Cassu, 474 - Éden -...</td>\n",
              "      <td>(15) 3225-1803 ,   (15) 3225-3790</td>\n",
              "    </tr>\n",
              "    <tr>\n",
              "      <th>14</th>\n",
              "      <td>DONABELLA PIZZARIA</td>\n",
              "      <td>R Avelino Argento, 197 - Jardim Paulistano ...</td>\n",
              "      <td>(15) 3202-4455</td>\n",
              "    </tr>\n",
              "    <tr>\n",
              "      <th>15</th>\n",
              "      <td>PIZZARIA MARTINES</td>\n",
              "      <td>Av Antônio Carlos Comitre, 2031 - Parque Ca...</td>\n",
              "      <td>(15) 3231-7566</td>\n",
              "    </tr>\n",
              "    <tr>\n",
              "      <th>16</th>\n",
              "      <td>CABRAL PIZZARIA</td>\n",
              "      <td>R José Joaquim de Lacerda, 250 - Jardim Sor...</td>\n",
              "      <td>(15) 3233-2620</td>\n",
              "    </tr>\n",
              "    <tr>\n",
              "      <th>17</th>\n",
              "      <td>PIZZARIA GENERAL</td>\n",
              "      <td>Av General Carneiro, 1583 - Vila Lucy -  , ...</td>\n",
              "      <td>(15) 3221-8800</td>\n",
              "    </tr>\n",
              "    <tr>\n",
              "      <th>18</th>\n",
              "      <td>PIZZARIA PRIMAVERA</td>\n",
              "      <td>R Juvenal Alves Senne, 345 - LJ 1 - - Parqu...</td>\n",
              "      <td>(15) 3239-1878 ,   (15) 3239-3348</td>\n",
              "    </tr>\n",
              "    <tr>\n",
              "      <th>19</th>\n",
              "      <td>PIZZARIA DOMANI</td>\n",
              "      <td>R Capitão Nascimento Filho, 198 - Jardim Ve...</td>\n",
              "      <td>(15) 3224-2444 ,   (15) 3234-2777</td>\n",
              "    </tr>\n",
              "    <tr>\n",
              "      <th>20</th>\n",
              "      <td>AHAZZO PIZZARIA</td>\n",
              "      <td>R Lauro Pacheco, 63 - Além Ponte -  ,  Soro...</td>\n",
              "      <td>(15) 3227-5685</td>\n",
              "    </tr>\n",
              "    <tr>\n",
              "      <th>21</th>\n",
              "      <td>PIZZARIA PIZZAIOLO</td>\n",
              "      <td>R Doutor Azevedo Sampaio, 165 - Centro -  ,...</td>\n",
              "      <td>(15) 3234-5535</td>\n",
              "    </tr>\n",
              "    <tr>\n",
              "      <th>22</th>\n",
              "      <td>FORNAZZARI PIZZARIA</td>\n",
              "      <td>Av São Paulo, 1920 - Além Ponte -  ,  Soroc...</td>\n",
              "      <td>(15) 3012-4663</td>\n",
              "    </tr>\n",
              "    <tr>\n",
              "      <th>23</th>\n",
              "      <td>PIZZARIA RAVENA</td>\n",
              "      <td>R Aristides da Silva Lobo, 206 - Vila Haro ...</td>\n",
              "      <td></td>\n",
              "    </tr>\n",
              "    <tr>\n",
              "      <th>24</th>\n",
              "      <td>CAVANI PIZZARIA</td>\n",
              "      <td>R Padre Madureira, 645 - Além Ponte -  ,  S...</td>\n",
              "      <td>(15) 3031-3026 ,   (15) 3012-0492</td>\n",
              "    </tr>\n",
              "    <tr>\n",
              "      <th>25</th>\n",
              "      <td>PIZZARIA VITÓRIA</td>\n",
              "      <td>Av Edward Fru-Fru Marciano da Silva, 824 - ...</td>\n",
              "      <td>(15) 3226-1525 ,   (15) 3012-2402 ,   (15) ...</td>\n",
              "    </tr>\n",
              "    <tr>\n",
              "      <th>26</th>\n",
              "      <td>PIZZARIA DINUZI</td>\n",
              "      <td>Av Engenheiro Carlos Reinaldo Mendes, 1761 ...</td>\n",
              "      <td></td>\n",
              "    </tr>\n",
              "    <tr>\n",
              "      <th>27</th>\n",
              "      <td>PIZZARIA INGOU'S</td>\n",
              "      <td>R Miguel Sutil, 62 - Vila Santana -  ,  Sor...</td>\n",
              "      <td></td>\n",
              "    </tr>\n",
              "    <tr>\n",
              "      <th>28</th>\n",
              "      <td>MACERATA PIZZARIA</td>\n",
              "      <td>Av Doutor Artur Bernardes, 1224 - Vila Gabr...</td>\n",
              "      <td>(15) 3031-2002</td>\n",
              "    </tr>\n",
              "    <tr>\n",
              "      <th>29</th>\n",
              "      <td>PIZZARIA FORNAZZARI</td>\n",
              "      <td>R Antônio Monteiro, 1920 - Vila Haro -  ,  ...</td>\n",
              "      <td>(15) 3227-0964</td>\n",
              "    </tr>\n",
              "    <tr>\n",
              "      <th>...</th>\n",
              "      <td>...</td>\n",
              "      <td>...</td>\n",
              "      <td>...</td>\n",
              "    </tr>\n",
              "    <tr>\n",
              "      <th>186</th>\n",
              "      <td>VIVITALIA PIZZA DELIVERY</td>\n",
              "      <td>R Coronel Nogueira Padilha, 1640 - Vila Hor...</td>\n",
              "      <td>(15) 3016-3655 ,   (15) 3316-0373</td>\n",
              "    </tr>\n",
              "    <tr>\n",
              "      <th>187</th>\n",
              "      <td>BELLA PIZZA SOROCABA</td>\n",
              "      <td>R Roberto Florio Santana, 34 - Parque São B...</td>\n",
              "      <td>(15) 3223-1595</td>\n",
              "    </tr>\n",
              "    <tr>\n",
              "      <th>188</th>\n",
              "      <td>LAGUSTA PIZZAS E MASSAS</td>\n",
              "      <td>Av Professora Izoraida Marques Peres, 401 -...</td>\n",
              "      <td>(15) 3012-4577</td>\n",
              "    </tr>\n",
              "    <tr>\n",
              "      <th>189</th>\n",
              "      <td>CASARÃO DISK MARMITEX</td>\n",
              "      <td>Av Ipanema, 2055 - Jardim Planalto -  ,  So...</td>\n",
              "      <td>(15) 3223-1493</td>\n",
              "    </tr>\n",
              "    <tr>\n",
              "      <th>190</th>\n",
              "      <td>VI LANCHES</td>\n",
              "      <td>R Sandro Antônio Mendes, 48 - Parque Vitóri...</td>\n",
              "      <td>(15) 3016-4540</td>\n",
              "    </tr>\n",
              "    <tr>\n",
              "      <th>191</th>\n",
              "      <td>DISK THID S PIZZAS</td>\n",
              "      <td>R Barão do Rio Branco, 116 - Centro -  ,  S...</td>\n",
              "      <td>(15) 3202-5960</td>\n",
              "    </tr>\n",
              "    <tr>\n",
              "      <th>192</th>\n",
              "      <td>DISK PIZZAS SIMUS</td>\n",
              "      <td>R João Alberto Pivetta, 271 - Cj Hab Júlio ...</td>\n",
              "      <td>(15) 3217-3039</td>\n",
              "    </tr>\n",
              "    <tr>\n",
              "      <th>193</th>\n",
              "      <td>DISK SUPER MEGA PIZZA</td>\n",
              "      <td>Av Itavuvu, 222 - Vila Olímpia -  ,  Soroca...</td>\n",
              "      <td>(15) 3013-0280</td>\n",
              "    </tr>\n",
              "    <tr>\n",
              "      <th>194</th>\n",
              "      <td>PORTO CALLE PIZZA</td>\n",
              "      <td>Av Doutor Afonso Vergueiro, 1493 - 116 Cent...</td>\n",
              "      <td>(15) 3211-1921</td>\n",
              "    </tr>\n",
              "    <tr>\n",
              "      <th>195</th>\n",
              "      <td>DISK PIZZA TONYS</td>\n",
              "      <td>R Jesuíno Pinto Bandeira, 63 - Vila Esperan...</td>\n",
              "      <td>(15) 3014-1465</td>\n",
              "    </tr>\n",
              "    <tr>\n",
              "      <th>196</th>\n",
              "      <td>PIZZARIA VITÓRIA</td>\n",
              "      <td>R Ovídio Antônio Ribeiro, 66 - Jardim Wanel...</td>\n",
              "      <td>(15) 3012-5945</td>\n",
              "    </tr>\n",
              "    <tr>\n",
              "      <th>197</th>\n",
              "      <td>FOGÃO MINEIRO RESTAURANTE E PIZZARIA</td>\n",
              "      <td>Av Independência, 4615 - Éden -  ,  Sorocab...</td>\n",
              "      <td>(15) 3325-1419 ,   (15) 3325-7066 ,   (15) ...</td>\n",
              "    </tr>\n",
              "    <tr>\n",
              "      <th>198</th>\n",
              "      <td>FOGÃO MINEIRO RESTAURANTE E PIZZARIA</td>\n",
              "      <td>R da Penha, 788 - FDS - - Centro -  ,  Soro...</td>\n",
              "      <td>(15) 3233-5599</td>\n",
              "    </tr>\n",
              "    <tr>\n",
              "      <th>199</th>\n",
              "      <td>LA BONNA PIZZARIA SOROCABA</td>\n",
              "      <td>R Doutor Arlindo Luz, 87 - Jardim Santa Ros...</td>\n",
              "      <td>(15) 99113-3498 ,   (15) 99113-3518 ,   (15...</td>\n",
              "    </tr>\n",
              "    <tr>\n",
              "      <th>200</th>\n",
              "      <td>RESTAURANTE E PIZZARIA MATHEUSZINHO</td>\n",
              "      <td>R Roque Vicente Pedro Amêndola, 20 - Jardim...</td>\n",
              "      <td>(15) 4101-0826 ,   (15) 3343-2306</td>\n",
              "    </tr>\n",
              "    <tr>\n",
              "      <th>201</th>\n",
              "      <td>DISK PIZZARIA GUILHERME</td>\n",
              "      <td>R Pedro Pegoretti, 223 - CS 1 - - Jardim Br...</td>\n",
              "      <td>(15) 3011-4279</td>\n",
              "    </tr>\n",
              "    <tr>\n",
              "      <th>202</th>\n",
              "      <td>RESTAURANTE E PIZZARIA VATICANO</td>\n",
              "      <td>Av Professora Izoraida Marques Peres, 482 -...</td>\n",
              "      <td>(15) 3211-3838</td>\n",
              "    </tr>\n",
              "    <tr>\n",
              "      <th>203</th>\n",
              "      <td>RESTAURANTE E PIZZARIA CASARÃO</td>\n",
              "      <td>Av Ipanema, 2055 - Jardim Planalto -  ,  So...</td>\n",
              "      <td>(15) 3223-4231 ,   (15) 3223-4142</td>\n",
              "    </tr>\n",
              "    <tr>\n",
              "      <th>204</th>\n",
              "      <td>DG PIZZARIA E RESTAURANTE</td>\n",
              "      <td>Av Barão de Tatuí, 1365 - FRENTE - - Jardim...</td>\n",
              "      <td>(15) 3233-5949 ,   (15) 3233-6134 ,   (15) ...</td>\n",
              "    </tr>\n",
              "    <tr>\n",
              "      <th>205</th>\n",
              "      <td>VILLA MONJOLO RESTAURANTE E PIZZARIA</td>\n",
              "      <td>Av Washington Luiz, 1525 - Jardim América -...</td>\n",
              "      <td>(15) 3217-4869 ,   (15) 3318-6533</td>\n",
              "    </tr>\n",
              "    <tr>\n",
              "      <th>206</th>\n",
              "      <td>LA BONNA CHURRASCARIA E PIZZARIA</td>\n",
              "      <td>R Maria Cinto de Biaggi, 164 - Jardim Santa...</td>\n",
              "      <td></td>\n",
              "    </tr>\n",
              "    <tr>\n",
              "      <th>207</th>\n",
              "      <td>JHOVANA PIZZARIA E LANCHONETE</td>\n",
              "      <td>R Pedro de Almeida Lima, 470 - Éden -  ,  S...</td>\n",
              "      <td>(15) 3325-4744 ,   (15) 3225-3801</td>\n",
              "    </tr>\n",
              "    <tr>\n",
              "      <th>208</th>\n",
              "      <td>MARGUERITA PIZZARIA E RESTAURANTE</td>\n",
              "      <td>R Manoel Soares da Silva, 32 - Wanel Ville ...</td>\n",
              "      <td>(15) 3217-2876 ,   (15) 3217-2858 ,   (15) ...</td>\n",
              "    </tr>\n",
              "    <tr>\n",
              "      <th>209</th>\n",
              "      <td>BAR, LANCHONETE E PIZZARIA MÜLLER</td>\n",
              "      <td>R Jamir Caetano da Silva, 72 - Parque São B...</td>\n",
              "      <td></td>\n",
              "    </tr>\n",
              "    <tr>\n",
              "      <th>210</th>\n",
              "      <td>PIZZARIA DONABELLA DELIVERY</td>\n",
              "      <td>R Coronel Nogueira Padilha, 1648 - SALAO 01...</td>\n",
              "      <td>(15) 3033-3420</td>\n",
              "    </tr>\n",
              "    <tr>\n",
              "      <th>211</th>\n",
              "      <td>CHOPERIA E PIZZARIA PINGUIM</td>\n",
              "      <td>R Belo Horizonte, 1091 - FRENTE - - Vila He...</td>\n",
              "      <td></td>\n",
              "    </tr>\n",
              "    <tr>\n",
              "      <th>212</th>\n",
              "      <td>PIZZARIA E RESTAURANTE DO NATELLO</td>\n",
              "      <td>R Luiz Fernando Carvalho, 153 - Central Par...</td>\n",
              "      <td></td>\n",
              "    </tr>\n",
              "    <tr>\n",
              "      <th>213</th>\n",
              "      <td>PIZZARIA E CHOPERIA PINGUIM</td>\n",
              "      <td>R Belo Horizonte, 1081 - Vila Helena -  ,  ...</td>\n",
              "      <td>(15) 3213-5093 ,   (15) 3213-2618</td>\n",
              "    </tr>\n",
              "    <tr>\n",
              "      <th>214</th>\n",
              "      <td>SHALON LANCHONETE E PIZZARIA</td>\n",
              "      <td>R Vicinal, 1242 - Parque São Bento -  ,  So...</td>\n",
              "      <td></td>\n",
              "    </tr>\n",
              "    <tr>\n",
              "      <th>215</th>\n",
              "      <td>J. MOREIRA LANCHONETE, RESTAURANTE E PIZZARIA</td>\n",
              "      <td>R Alfredo Grans, 60 - CS 1 - - Vila Formosa...</td>\n",
              "      <td>(15) 3213-8884</td>\n",
              "    </tr>\n",
              "  </tbody>\n",
              "</table>\n",
              "<p>216 rows × 3 columns</p>\n",
              "</div>"
            ],
            "text/plain": [
              "                                              nome  ...                                           telefone\n",
              "0                         FORMAGGIO PIZZA DELIVERY  ...               (15) 3232-5550 ,   (15) 99179-0298  \n",
              "1                                PIZZARIA CASERITA  ...                (15) 2104-2468 ,   (15) 3011-7099  \n",
              "2                              PIZZARIA LIGEIRINHO  ...                                   (15) 3021-4485  \n",
              "3                                 CARTOLA PIZZARIA  ...     (15) 3018-0353 ,   (15) 3016-0282 ,   (15) ...\n",
              "4                                  PIZZARIA JÚNIOR  ...                                   (15) 3213-5590  \n",
              "5                                PIZZARIA MARTINEZ  ...     (15) 3233-9834 ,   (15) 3232-4082 ,   (15) ...\n",
              "6                                  TONI'S PIZZARIA  ...                                                   \n",
              "7                                PIZZARIA CAPRICIO  ...                                   (15) 3012-5526  \n",
              "8                            PIZZARIA MICHELANGELO  ...                                   (15) 3202-4378  \n",
              "9                                  CABRAL PIZZARIA  ...                                   (15) 3233-2620  \n",
              "10                              PIZZARIA SPLENDORE  ...                                   (15) 3222-8987  \n",
              "11                             PIZZARIA ACHIROPITA  ...                                   (15) 3221-3445  \n",
              "12                               SAPORITO PIZZARIA  ...                                   (15) 3231-3333  \n",
              "13                                PIZZARIA DA RITA  ...                (15) 3225-1803 ,   (15) 3225-3790  \n",
              "14                              DONABELLA PIZZARIA  ...                                   (15) 3202-4455  \n",
              "15                               PIZZARIA MARTINES  ...                                   (15) 3231-7566  \n",
              "16                                 CABRAL PIZZARIA  ...                                   (15) 3233-2620  \n",
              "17                                PIZZARIA GENERAL  ...                                   (15) 3221-8800  \n",
              "18                              PIZZARIA PRIMAVERA  ...                (15) 3239-1878 ,   (15) 3239-3348  \n",
              "19                                 PIZZARIA DOMANI  ...                (15) 3224-2444 ,   (15) 3234-2777  \n",
              "20                                 AHAZZO PIZZARIA  ...                                   (15) 3227-5685  \n",
              "21                              PIZZARIA PIZZAIOLO  ...                                   (15) 3234-5535  \n",
              "22                             FORNAZZARI PIZZARIA  ...                                   (15) 3012-4663  \n",
              "23                                 PIZZARIA RAVENA  ...                                                   \n",
              "24                                 CAVANI PIZZARIA  ...                (15) 3031-3026 ,   (15) 3012-0492  \n",
              "25                                PIZZARIA VITÓRIA  ...     (15) 3226-1525 ,   (15) 3012-2402 ,   (15) ...\n",
              "26                                 PIZZARIA DINUZI  ...                                                   \n",
              "27                                PIZZARIA INGOU'S  ...                                                   \n",
              "28                               MACERATA PIZZARIA  ...                                   (15) 3031-2002  \n",
              "29                             PIZZARIA FORNAZZARI  ...                                   (15) 3227-0964  \n",
              "..                                             ...  ...                                                ...\n",
              "186                       VIVITALIA PIZZA DELIVERY  ...                (15) 3016-3655 ,   (15) 3316-0373  \n",
              "187                           BELLA PIZZA SOROCABA  ...                                   (15) 3223-1595  \n",
              "188                        LAGUSTA PIZZAS E MASSAS  ...                                   (15) 3012-4577  \n",
              "189                          CASARÃO DISK MARMITEX  ...                                   (15) 3223-1493  \n",
              "190                                     VI LANCHES  ...                                   (15) 3016-4540  \n",
              "191                             DISK THID S PIZZAS  ...                                   (15) 3202-5960  \n",
              "192                              DISK PIZZAS SIMUS  ...                                   (15) 3217-3039  \n",
              "193                          DISK SUPER MEGA PIZZA  ...                                   (15) 3013-0280  \n",
              "194                              PORTO CALLE PIZZA  ...                                   (15) 3211-1921  \n",
              "195                               DISK PIZZA TONYS  ...                                   (15) 3014-1465  \n",
              "196                               PIZZARIA VITÓRIA  ...                                   (15) 3012-5945  \n",
              "197           FOGÃO MINEIRO RESTAURANTE E PIZZARIA  ...     (15) 3325-1419 ,   (15) 3325-7066 ,   (15) ...\n",
              "198           FOGÃO MINEIRO RESTAURANTE E PIZZARIA  ...                                   (15) 3233-5599  \n",
              "199                     LA BONNA PIZZARIA SOROCABA  ...     (15) 99113-3498 ,   (15) 99113-3518 ,   (15...\n",
              "200            RESTAURANTE E PIZZARIA MATHEUSZINHO  ...                (15) 4101-0826 ,   (15) 3343-2306  \n",
              "201                        DISK PIZZARIA GUILHERME  ...                                   (15) 3011-4279  \n",
              "202                RESTAURANTE E PIZZARIA VATICANO  ...                                   (15) 3211-3838  \n",
              "203                 RESTAURANTE E PIZZARIA CASARÃO  ...                (15) 3223-4231 ,   (15) 3223-4142  \n",
              "204                      DG PIZZARIA E RESTAURANTE  ...     (15) 3233-5949 ,   (15) 3233-6134 ,   (15) ...\n",
              "205           VILLA MONJOLO RESTAURANTE E PIZZARIA  ...                (15) 3217-4869 ,   (15) 3318-6533  \n",
              "206               LA BONNA CHURRASCARIA E PIZZARIA  ...                                                   \n",
              "207                  JHOVANA PIZZARIA E LANCHONETE  ...                (15) 3325-4744 ,   (15) 3225-3801  \n",
              "208              MARGUERITA PIZZARIA E RESTAURANTE  ...     (15) 3217-2876 ,   (15) 3217-2858 ,   (15) ...\n",
              "209              BAR, LANCHONETE E PIZZARIA MÜLLER  ...                                                   \n",
              "210                    PIZZARIA DONABELLA DELIVERY  ...                                   (15) 3033-3420  \n",
              "211                    CHOPERIA E PIZZARIA PINGUIM  ...                                                   \n",
              "212              PIZZARIA E RESTAURANTE DO NATELLO  ...                                                   \n",
              "213                    PIZZARIA E CHOPERIA PINGUIM  ...                (15) 3213-5093 ,   (15) 3213-2618  \n",
              "214                   SHALON LANCHONETE E PIZZARIA  ...                                                   \n",
              "215  J. MOREIRA LANCHONETE, RESTAURANTE E PIZZARIA  ...                                   (15) 3213-8884  \n",
              "\n",
              "[216 rows x 3 columns]"
            ]
          },
          "metadata": {
            "tags": []
          },
          "execution_count": 110
        }
      ]
    },
    {
      "cell_type": "code",
      "metadata": {
        "id": "SUs3-iOFTakz",
        "colab_type": "code",
        "colab": {}
      },
      "source": [
        "database.to_excel(\"/drive/My Drive/Colab Notebooks/Datasets/pizzarias_final.xlsx\")"
      ],
      "execution_count": 0,
      "outputs": []
    }
  ]
}
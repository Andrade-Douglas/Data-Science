{
  "nbformat": 4,
  "nbformat_minor": 0,
  "metadata": {
    "kernelspec": {
      "display_name": "Python 3",
      "language": "python",
      "name": "python3"
    },
    "language_info": {
      "codemirror_mode": {
        "name": "ipython",
        "version": 3
      },
      "file_extension": ".py",
      "mimetype": "text/x-python",
      "name": "python",
      "nbconvert_exporter": "python",
      "pygments_lexer": "ipython3",
      "version": "3.6.5"
    },
    "colab": {
      "name": "pizzaria.ipynb",
      "provenance": [],
      "toc_visible": true,
      "include_colab_link": true
    }
  },
  "cells": [
    {
      "cell_type": "markdown",
      "metadata": {
        "id": "view-in-github",
        "colab_type": "text"
      },
      "source": [
        "<a href=\"https://colab.research.google.com/github/Andrade-Douglas/Data-Science/blob/master/pizzaria.ipynb\" target=\"_parent\"><img src=\"https://colab.research.google.com/assets/colab-badge.svg\" alt=\"Open In Colab\"/></a>"
      ]
    },
    {
      "cell_type": "markdown",
      "metadata": {
        "id": "PV-ZRqSQMTlz",
        "colab_type": "text"
      },
      "source": [
        "# **Lista de Pizzarias**\n",
        "url: https://www.guiamais.com.br\n",
        "\n",
        "data: [clique aqui](https://www.guiamais.com.br/encontre?searchbox=true&what=pizzaria&where=Sorocaba%2C+SP)"
      ]
    },
    {
      "cell_type": "code",
      "metadata": {
        "id": "lts4B2bhMIxR",
        "colab_type": "code",
        "colab": {}
      },
      "source": [
        "from requests import get\n",
        "from bs4 import BeautifulSoup\n",
        "import pandas as pd\n",
        "from time import sleep\n",
        "from random import randint\n",
        "from time import time"
      ],
      "execution_count": 0,
      "outputs": []
    },
    {
      "cell_type": "code",
      "metadata": {
        "id": "c_xIKEgxMIxU",
        "colab_type": "code",
        "colab": {}
      },
      "source": [
        "url = 'https://www.guiamais.com.br/encontre?searchbox=true&what=pizzaria&where=Sorocaba%2C+SP'"
      ],
      "execution_count": 0,
      "outputs": []
    },
    {
      "cell_type": "code",
      "metadata": {
        "id": "2ld0UgPHMIxX",
        "colab_type": "code",
        "colab": {
          "base_uri": "https://localhost:8080/",
          "height": 170
        },
        "outputId": "adb7d0a4-2ca9-43b7-9124-412e284408b6"
      },
      "source": [
        "response = get(url)\n",
        "print(response.text[:500])"
      ],
      "execution_count": 3,
      "outputs": [
        {
          "output_type": "stream",
          "text": [
            "<!DOCTYPE html>\r\n",
            "<!--[if lte IE 9 ]><html class=\"ie\"><![endif]-->\r\n",
            "<!--[if !IE]> --><html lang=\"pt-br\"><!-- <![endif]-->\r\n",
            "<head>\r\n",
            "    <meta charset=\"utf-8\">\r\n",
            "    <title>pizzaria em Sorocaba, SP</title>\r\n",
            "    <meta name='robots' content='noindex, nofollow'><meta name=\"language\" content=\"pt-br\">\r\n",
            "    <meta name=\"description\" content=\"Encontre pizzaria em Sorocaba, SP. Veja dicas, avalia&ccedil;&otilde;es, mapas, telefone, endere&ccedil;o e descontos\">\r\n",
            "    <meta name=\"apple-itunes-app\" content=\"app\n"
          ],
          "name": "stdout"
        }
      ]
    },
    {
      "cell_type": "code",
      "metadata": {
        "id": "vpuf7vjTMIxb",
        "colab_type": "code",
        "colab": {
          "base_uri": "https://localhost:8080/",
          "height": 34
        },
        "outputId": "167397f5-7069-4268-aa1d-128c9da84fb3"
      },
      "source": [
        "html_soup = BeautifulSoup(response.text, 'html.parser')\n",
        "type(html_soup)"
      ],
      "execution_count": 4,
      "outputs": [
        {
          "output_type": "execute_result",
          "data": {
            "text/plain": [
              "bs4.BeautifulSoup"
            ]
          },
          "metadata": {
            "tags": []
          },
          "execution_count": 4
        }
      ]
    },
    {
      "cell_type": "code",
      "metadata": {
        "id": "WZGRnGrhMIxe",
        "colab_type": "code",
        "colab": {
          "base_uri": "https://localhost:8080/",
          "height": 51
        },
        "outputId": "4c023fc3-bb53-4162-fdba-480e22e8c74d"
      },
      "source": [
        "pizza_containers = html_soup.find_all('div', {'class':'free'})\n",
        "print(type(pizza_containers))\n",
        "print(len(pizza_containers))"
      ],
      "execution_count": 5,
      "outputs": [
        {
          "output_type": "stream",
          "text": [
            "<class 'bs4.element.ResultSet'>\n",
            "23\n"
          ],
          "name": "stdout"
        }
      ]
    },
    {
      "cell_type": "code",
      "metadata": {
        "id": "qnc6gUNRMIxi",
        "colab_type": "code",
        "colab": {
          "base_uri": "https://localhost:8080/",
          "height": 751
        },
        "outputId": "93dcaf0e-b7c7-4b28-8444-4e1446b64da4"
      },
      "source": [
        "first_containers = pizza_containers[0]\n",
        "first_containers"
      ],
      "execution_count": 6,
      "outputs": [
        {
          "output_type": "execute_result",
          "data": {
            "text/plain": [
              "<div class=\"free\" itemprop=\"itemListElement\" itemscope=\"\" itemtype=\"http://schema.org/ListItem\">\n",
              "<meta content=\"2\" itemprop=\"position\"/>\n",
              "<meta content=\"https://www.guiamais.com.br/sorocaba-sp/restaurantes/pizzarias/3030477047-6668922/pizzaria-caserita\" itemprop=\"url\"/>\n",
              "<div class=\"left\">\n",
              "<h2 class=\"aTitle\">\n",
              "<a href=\"/sorocaba-sp/restaurantes/pizzarias/3030477047-6668922/pizzaria-caserita\" onclick=\"ga('send', 'event', 'Teste AB', 'Click', 'gm8_anunciogratis');\" onmousedown=\"statsClickAdv('3030477047-3030477047-6668922-F', '7');\">\n",
              "\t\t\t\t\t\t\t\t\t\t\tPIZZARIA CASERITA</a>\n",
              "</h2>\n",
              "<p class=\"advCategory\">\n",
              "<a href=\"/sorocaba-sp/restaurantes/pizzarias\">Pizzarias</a>\n",
              "</p>\n",
              "<div class=\"reviews\">\n",
              "<ul class=\"stars\">\n",
              "<li></li>\n",
              "<li></li>\n",
              "<li></li>\n",
              "<li></li>\n",
              "<li></li>\n",
              "</ul>\n",
              "</div>\n",
              "</div>\n",
              "<div class=\"right\">\n",
              "<p class=\"distance\"></p>\n",
              "</div>\n",
              "<div class=\"bottom\">\n",
              "<div class=\"advAdress\">\n",
              "<address>\n",
              "<span>\n",
              "\t\t\t\t\t\t\t\t\t\t\t\t\tR Polônia, 135, Jardim Europa - Sorocaba, SP</span>\n",
              "</address>\n",
              "</div>\n",
              "<ul class=\"advPhone\">\n",
              "<a class=\"seeMore\" onclick=\"ga('send', 'event', 'Teste AB', 'Click', 'gm8_anunciogratis');\" onmousedown=\"statsClickAdv('3030477047-3030477047-6668922-F', '83');\">ver telefone</a>\n",
              "<li>\n",
              "<p class=\"phone\">(15) 2104-24aa</p>\n",
              "</li>\n",
              "</ul>\n",
              "<p class=\"infoLine ellipsis\">Pizzaria Com Sabores Diferenciados e Pizzas Exóticas na Cidade de Sorocaba/sp.</p>\n",
              "<nav class=\"advFeatures\">\n",
              "</nav>\n",
              "</div>\n",
              "</div>"
            ]
          },
          "metadata": {
            "tags": []
          },
          "execution_count": 6
        }
      ]
    },
    {
      "cell_type": "code",
      "metadata": {
        "id": "h2cV-tWSMIxl",
        "colab_type": "code",
        "colab": {
          "base_uri": "https://localhost:8080/",
          "height": 34
        },
        "outputId": "fa27c588-77a9-4ad0-dee3-3b6ee0f33d84"
      },
      "source": [
        "pizza_name = first_containers.h2.a.text\n",
        "pizza_name "
      ],
      "execution_count": 7,
      "outputs": [
        {
          "output_type": "execute_result",
          "data": {
            "text/plain": [
              "'\\r\\n\\t\\t\\t\\t\\t\\t\\t\\t\\t\\t\\tPIZZARIA CASERITA'"
            ]
          },
          "metadata": {
            "tags": []
          },
          "execution_count": 7
        }
      ]
    },
    {
      "cell_type": "code",
      "metadata": {
        "id": "Kqrnbi7bMIxo",
        "colab_type": "code",
        "colab": {
          "base_uri": "https://localhost:8080/",
          "height": 34
        },
        "outputId": "1e78dc0c-e6aa-4358-9d70-def27dc46363"
      },
      "source": [
        "pizza_address = first_containers.address.span.text\n",
        "pizza_address"
      ],
      "execution_count": 8,
      "outputs": [
        {
          "output_type": "execute_result",
          "data": {
            "text/plain": [
              "'\\r\\n\\t\\t\\t\\t\\t\\t\\t\\t\\t\\t\\t\\t\\tR Polônia, 135, Jardim Europa - Sorocaba, SP'"
            ]
          },
          "metadata": {
            "tags": []
          },
          "execution_count": 8
        }
      ]
    },
    {
      "cell_type": "code",
      "metadata": {
        "id": "e0iMN4HZMIxr",
        "colab_type": "code",
        "colab": {
          "base_uri": "https://localhost:8080/",
          "height": 153
        },
        "outputId": "637f0f00-4325-4d49-c400-fd88cdfec389"
      },
      "source": [
        "base_url = 'https://www.guiamais.com.br/'\n",
        "url_site = f'{base_url}sorocaba-sp/restaurantes/pizzarias/3030477047-6668922/pizzaria-caserita#maisFone'\n",
        "\n",
        "response_ = get(url_site)\n",
        "print(response_.text[:500])"
      ],
      "execution_count": 9,
      "outputs": [
        {
          "output_type": "stream",
          "text": [
            "<!DOCTYPE html>\r\n",
            "<!--[if lte IE 9 ]><html class=\"ie\"><![endif]-->\r\n",
            "<!--[if !IE]> --><html lang=\"pt-br\"><!-- <![endif]-->\r\n",
            "<head>\r\n",
            "    <meta charset=\"utf-8\">\r\n",
            "    <title>PIZZARIA CASERITA | Jardim Europa, Sorocaba, SP</title>\r\n",
            "    <meta name='robots' content='index, follow'><meta name='googlebot' content='index, follow'><meta name=\"language\" content=\"pt-br\">\r\n",
            "    <meta name=\"description\" content=\"Veja as avalia&ccedil;&otilde;es, o telefone e o endere&ccedil;o de PIZZARIA CASERITA especializado e\n"
          ],
          "name": "stdout"
        }
      ]
    },
    {
      "cell_type": "code",
      "metadata": {
        "id": "mV8VX7ECMIxu",
        "colab_type": "code",
        "colab": {
          "base_uri": "https://localhost:8080/",
          "height": 34
        },
        "outputId": "c60d358e-c4fc-457e-e719-20ac0c983c01"
      },
      "source": [
        "html_soup = BeautifulSoup(response_.text,'html.parser')\n",
        "type(html_soup)"
      ],
      "execution_count": 10,
      "outputs": [
        {
          "output_type": "execute_result",
          "data": {
            "text/plain": [
              "bs4.BeautifulSoup"
            ]
          },
          "metadata": {
            "tags": []
          },
          "execution_count": 10
        }
      ]
    },
    {
      "cell_type": "code",
      "metadata": {
        "id": "3O30zb2AMIxx",
        "colab_type": "code",
        "colab": {
          "base_uri": "https://localhost:8080/",
          "height": 51
        },
        "outputId": "dd919ca7-5102-4ce2-d8e2-ff31fb2e17c7"
      },
      "source": [
        "pizzas_containers = html_soup.find_all('div', {'class': 'infoContent'})\n",
        "print(type(pizzas_containers))\n",
        "print(len(pizzas_containers))"
      ],
      "execution_count": 11,
      "outputs": [
        {
          "output_type": "stream",
          "text": [
            "<class 'bs4.element.ResultSet'>\n",
            "1\n"
          ],
          "name": "stdout"
        }
      ]
    },
    {
      "cell_type": "code",
      "metadata": {
        "id": "s85ccBzTMIx2",
        "colab_type": "code",
        "colab": {}
      },
      "source": [
        "second_containers = pizzas_containers[0]"
      ],
      "execution_count": 0,
      "outputs": []
    },
    {
      "cell_type": "code",
      "metadata": {
        "id": "Eur7L4egMIx5",
        "colab_type": "code",
        "colab": {
          "base_uri": "https://localhost:8080/",
          "height": 34
        },
        "outputId": "8e15834b-b2ad-4e25-ad33-4a7b30234e8f"
      },
      "source": [
        "pizzaria_name = second_containers.h1.text\n",
        "pizza_name"
      ],
      "execution_count": 13,
      "outputs": [
        {
          "output_type": "execute_result",
          "data": {
            "text/plain": [
              "'\\r\\n\\t\\t\\t\\t\\t\\t\\t\\t\\t\\t\\tPIZZARIA CASERITA'"
            ]
          },
          "metadata": {
            "tags": []
          },
          "execution_count": 13
        }
      ]
    },
    {
      "cell_type": "code",
      "metadata": {
        "id": "p5M-gQorMIx8",
        "colab_type": "code",
        "colab": {
          "base_uri": "https://localhost:8080/",
          "height": 85
        },
        "outputId": "3c0140e9-d99d-42ec-a64d-881ba1afab0f"
      },
      "source": [
        "spans = second_containers.findAll('span')\n",
        "pizzaria_address = [span.get_text() for span in spans]\n",
        "pizzaria_address"
      ],
      "execution_count": 14,
      "outputs": [
        {
          "output_type": "execute_result",
          "data": {
            "text/plain": [
              "['\\r\\n\\t\\t\\t\\t\\t\\t\\t\\t\\tR Polônia, 135\\r\\n\\t\\t\\t\\t\\t\\t\\t\\t\\t\\t - Jardim Europa - \\r\\n\\t\\t\\t\\t\\t\\t\\t\\t\\t',\n",
              " 'Sorocaba',\n",
              " 'SP',\n",
              " '18045-010']"
            ]
          },
          "metadata": {
            "tags": []
          },
          "execution_count": 14
        }
      ]
    },
    {
      "cell_type": "code",
      "metadata": {
        "id": "PsXGbO25MIx_",
        "colab_type": "code",
        "colab": {
          "base_uri": "https://localhost:8080/",
          "height": 51
        },
        "outputId": "8e7c8af3-faec-4019-c203-9b56ad43f5bb"
      },
      "source": [
        "phones = second_containers.findAll('p',{'class':'phone detail'})\n",
        "phone = [phone.get_text() for phone in phones ]\n",
        "phone"
      ],
      "execution_count": 15,
      "outputs": [
        {
          "output_type": "execute_result",
          "data": {
            "text/plain": [
              "['\\r\\n\\t\\t\\t\\t\\t\\t\\t\\t\\t\\t(15) 2104-2468',\n",
              " '\\r\\n\\t\\t\\t\\t\\t\\t\\t\\t\\t\\t(15) 3011-7099']"
            ]
          },
          "metadata": {
            "tags": []
          },
          "execution_count": 15
        }
      ]
    },
    {
      "cell_type": "code",
      "metadata": {
        "id": "HbN_pc-zMIyD",
        "colab_type": "code",
        "colab": {}
      },
      "source": [
        "nomes = []\n",
        "enderecos = []\n",
        "telefones = []\n",
        "\n",
        "for pizzaria_container in html_soup.find_all('div', {'class': 'infoContent'}):\n",
        "    nome = pizzaria_container.h1.text\n",
        "    nomes.append(nome)\n",
        "    \n",
        "    spans = second_containers.findAll('span')\n",
        "    endereco = [span.get_text() for span in spans]\n",
        "    enderecos.append(endereco)\n",
        "    \n",
        "    phones = second_containers.findAll('p',{'class':'phone detail'})\n",
        "    telefone = [phone.get_text() for phone in phones ]\n",
        "    telefones.append(telefone)"
      ],
      "execution_count": 0,
      "outputs": []
    },
    {
      "cell_type": "code",
      "metadata": {
        "id": "KF5ftUHUMIyG",
        "colab_type": "code",
        "colab": {
          "base_uri": "https://localhost:8080/",
          "height": 233
        },
        "outputId": "b917b155-adba-4f17-d3a9-8804950ffbb0"
      },
      "source": [
        "df = pd.DataFrame({ 'nome': nomes,\n",
        "                    'endereco': enderecos,\n",
        "                    'telefone': telefones   \n",
        "                   })\n",
        "print(df.info())\n",
        "df"
      ],
      "execution_count": 17,
      "outputs": [
        {
          "output_type": "stream",
          "text": [
            "<class 'pandas.core.frame.DataFrame'>\n",
            "RangeIndex: 1 entries, 0 to 0\n",
            "Data columns (total 3 columns):\n",
            "nome        1 non-null object\n",
            "endereco    1 non-null object\n",
            "telefone    1 non-null object\n",
            "dtypes: object(3)\n",
            "memory usage: 104.0+ bytes\n",
            "None\n"
          ],
          "name": "stdout"
        },
        {
          "output_type": "execute_result",
          "data": {
            "text/html": [
              "<div>\n",
              "<style scoped>\n",
              "    .dataframe tbody tr th:only-of-type {\n",
              "        vertical-align: middle;\n",
              "    }\n",
              "\n",
              "    .dataframe tbody tr th {\n",
              "        vertical-align: top;\n",
              "    }\n",
              "\n",
              "    .dataframe thead th {\n",
              "        text-align: right;\n",
              "    }\n",
              "</style>\n",
              "<table border=\"1\" class=\"dataframe\">\n",
              "  <thead>\n",
              "    <tr style=\"text-align: right;\">\n",
              "      <th></th>\n",
              "      <th>nome</th>\n",
              "      <th>endereco</th>\n",
              "      <th>telefone</th>\n",
              "    </tr>\n",
              "  </thead>\n",
              "  <tbody>\n",
              "    <tr>\n",
              "      <th>0</th>\n",
              "      <td>PIZZARIA CASERITA</td>\n",
              "      <td>[\\r\\n\\t\\t\\t\\t\\t\\t\\t\\t\\tR Polônia, 135\\r\\n\\t\\t\\...</td>\n",
              "      <td>[\\r\\n\\t\\t\\t\\t\\t\\t\\t\\t\\t\\t(15) 2104-2468, \\r\\n\\...</td>\n",
              "    </tr>\n",
              "  </tbody>\n",
              "</table>\n",
              "</div>"
            ],
            "text/plain": [
              "                nome  ...                                           telefone\n",
              "0  PIZZARIA CASERITA  ...  [\\r\\n\\t\\t\\t\\t\\t\\t\\t\\t\\t\\t(15) 2104-2468, \\r\\n\\...\n",
              "\n",
              "[1 rows x 3 columns]"
            ]
          },
          "metadata": {
            "tags": []
          },
          "execution_count": 17
        }
      ]
    },
    {
      "cell_type": "code",
      "metadata": {
        "id": "-lLufU9PMIyJ",
        "colab_type": "code",
        "colab": {}
      },
      "source": [
        "pages = [str(i) for i in range(1,11)]"
      ],
      "execution_count": 0,
      "outputs": []
    },
    {
      "cell_type": "code",
      "metadata": {
        "id": "Kh8b25n-MIyM",
        "colab_type": "code",
        "colab": {
          "base_uri": "https://localhost:8080/",
          "height": 102
        },
        "outputId": "827735d7-3944-47c8-e9d3-d62eea30347e"
      },
      "source": [
        "start_time = time()\n",
        "requests = 0\n",
        "\n",
        "for _ in range(5):\n",
        "    # A request would go here\n",
        "    requests += 1\n",
        "    sleep(randint(1,3))\n",
        "    elapsed_time = time() - start_time\n",
        "    \n",
        "    print('Request: {}; Frequency: {} requests/s'.format(requests, requests/elapsed_time))"
      ],
      "execution_count": 19,
      "outputs": [
        {
          "output_type": "stream",
          "text": [
            "Request: 1; Frequency: 0.49945991029187947 requests/s\n",
            "Request: 2; Frequency: 0.39956852775194784 requests/s\n",
            "Request: 3; Frequency: 0.49944761889867756 requests/s\n",
            "Request: 4; Frequency: 0.4994446254412989 requests/s\n",
            "Request: 5; Frequency: 0.4540451101500284 requests/s\n"
          ],
          "name": "stdout"
        }
      ]
    },
    {
      "cell_type": "code",
      "metadata": {
        "id": "stwGPFmYMIyR",
        "colab_type": "code",
        "colab": {
          "base_uri": "https://localhost:8080/",
          "height": 34
        },
        "outputId": "abf05532-0457-47f7-ff73-8e4a9e676d14"
      },
      "source": [
        "from IPython.core.display import clear_output\n",
        "\n",
        "start_time = time()\n",
        "requests = 0\n",
        "\n",
        "for _ in range(5):\n",
        "    # A request would go here\n",
        "    requests += 1\n",
        "    sleep(randint(1,3))\n",
        "    current_time = time()\n",
        "    elapsed_time = current_time - start_time\n",
        "    \n",
        "    print('Request: {}; Frequency: {} requests/s'.format(requests, requests/elapsed_time))\n",
        "    clear_output(wait = True)"
      ],
      "execution_count": 20,
      "outputs": [
        {
          "output_type": "stream",
          "text": [
            "Request: 5; Frequency: 0.4538054651226224 requests/s\n"
          ],
          "name": "stdout"
        }
      ]
    },
    {
      "cell_type": "code",
      "metadata": {
        "id": "LqA-zzonMIyW",
        "colab_type": "code",
        "colab": {
          "base_uri": "https://localhost:8080/",
          "height": 51
        },
        "outputId": "058cb4c1-edcd-4ed9-b261-58e3d5854722"
      },
      "source": [
        "from warnings import warn\n",
        "warn(\"Warning Simulation\")"
      ],
      "execution_count": 21,
      "outputs": [
        {
          "output_type": "stream",
          "text": [
            "/usr/local/lib/python3.6/dist-packages/ipykernel_launcher.py:2: UserWarning: Warning Simulation\n",
            "  \n"
          ],
          "name": "stderr"
        }
      ]
    },
    {
      "cell_type": "code",
      "metadata": {
        "id": "CKV0JoqfMIya",
        "colab_type": "code",
        "colab": {
          "base_uri": "https://localhost:8080/",
          "height": 34
        },
        "outputId": "8859e917-4244-4db5-f44a-1f9379169d94"
      },
      "source": [
        "nomes = []\n",
        "enderecos = []\n",
        "telefones = []\n",
        "\n",
        "start_time = time()\n",
        "request = 0\n",
        "for page in pages:\n",
        "    \n",
        "    base_url = 'https://www.guiamais.com.br/'\n",
        "    url_site = f'{base_url}encontre?searchbox=true&what=pizzaria&where=Sorocaba%2C+SP&page='\n",
        "    \n",
        "    response = get(url_site + page)\n",
        "    sleep(randint(8,15))\n",
        "    \n",
        "    requests +=1\n",
        "    elapsed_time = time() - start_time\n",
        "    print('Request:{}; Frequency: {} requests/s'.format(requests, requests/elapsed_time))\n",
        "    clear_output(wait = True)\n",
        "        \n",
        "    if response.status_code != 200:\n",
        "        warn('Request: {}; Status code: {}'.format(requests, response.status_code))\n",
        "              \n",
        "        # Break the loop if the number of requests is greater than expected\n",
        "    if requests > 72:\n",
        "        warn('Number of requests was greater than expected.')  \n",
        "        break \n",
        "           \n",
        "    html_soup = BeautifulSoup(response.text, 'html.parser')\n",
        "\n",
        "    boxes = html_soup.find_all('div', {'class':'left'})\n",
        "    href_links = [box.find('a').get('href') for box in boxes]\n",
        "    page_links = [f'{base_url}{link}' for link in href_links]\n",
        "\n",
        "    for link in page_links:\n",
        "        r = get(link)\n",
        "        bs_page = BeautifulSoup(r.text, 'html.parser')\n",
        "    \n",
        "        nome = bs_page.h1.text\n",
        "        nomes.append(nome)\n",
        "        \n",
        "        spans = bs_page.findAll('span')[5:9]\n",
        "        endereco = [span.get_text() for span in spans]\n",
        "        enderecos.append(endereco)\n",
        "        \n",
        "        phones = bs_page.findAll('p',{'class':'phone detail'})\n",
        "        telefone = [phone.get_text() for phone in phones ]\n",
        "        telefones.append(telefone)        "
      ],
      "execution_count": 22,
      "outputs": [
        {
          "output_type": "stream",
          "text": [
            "Request:15; Frequency: 0.06814931083217382 requests/s\n"
          ],
          "name": "stdout"
        }
      ]
    },
    {
      "cell_type": "code",
      "metadata": {
        "id": "wOF3er1sMIyd",
        "colab_type": "code",
        "colab": {
          "base_uri": "https://localhost:8080/",
          "height": 1000
        },
        "outputId": "133b3a06-6730-4830-fc25-aa98c3c59565"
      },
      "source": [
        "df = pd.DataFrame({ 'nome': nomes,\n",
        "                    'endereco': enderecos,\n",
        "                    'telefone': telefones   \n",
        "                   })\n",
        "print(df.info())\n",
        "df"
      ],
      "execution_count": 23,
      "outputs": [
        {
          "output_type": "stream",
          "text": [
            "<class 'pandas.core.frame.DataFrame'>\n",
            "RangeIndex: 200 entries, 0 to 199\n",
            "Data columns (total 3 columns):\n",
            "nome        200 non-null object\n",
            "endereco    200 non-null object\n",
            "telefone    200 non-null object\n",
            "dtypes: object(3)\n",
            "memory usage: 4.8+ KB\n",
            "None\n"
          ],
          "name": "stdout"
        },
        {
          "output_type": "execute_result",
          "data": {
            "text/html": [
              "<div>\n",
              "<style scoped>\n",
              "    .dataframe tbody tr th:only-of-type {\n",
              "        vertical-align: middle;\n",
              "    }\n",
              "\n",
              "    .dataframe tbody tr th {\n",
              "        vertical-align: top;\n",
              "    }\n",
              "\n",
              "    .dataframe thead th {\n",
              "        text-align: right;\n",
              "    }\n",
              "</style>\n",
              "<table border=\"1\" class=\"dataframe\">\n",
              "  <thead>\n",
              "    <tr style=\"text-align: right;\">\n",
              "      <th></th>\n",
              "      <th>nome</th>\n",
              "      <th>endereco</th>\n",
              "      <th>telefone</th>\n",
              "    </tr>\n",
              "  </thead>\n",
              "  <tbody>\n",
              "    <tr>\n",
              "      <th>0</th>\n",
              "      <td>FORMAGGIO PIZZA DELIVERY</td>\n",
              "      <td>[\\r\\n\\t\\t\\t\\t\\t\\t\\t\\t\\tRod João Leme dos Santo...</td>\n",
              "      <td>[\\r\\n\\t\\t\\t\\t\\t\\t\\t\\t\\t\\t(15) 3232-5550, \\r\\n\\...</td>\n",
              "    </tr>\n",
              "    <tr>\n",
              "      <th>1</th>\n",
              "      <td>PIZZARIA CASERITA</td>\n",
              "      <td>[\\r\\n\\t\\t\\t\\t\\t\\t\\t\\t\\tR Polônia, 135\\r\\n\\t\\t\\...</td>\n",
              "      <td>[\\r\\n\\t\\t\\t\\t\\t\\t\\t\\t\\t\\t(15) 2104-2468, \\r\\n\\...</td>\n",
              "    </tr>\n",
              "    <tr>\n",
              "      <th>2</th>\n",
              "      <td>PIZZARIA LIGEIRINHO</td>\n",
              "      <td>[\\r\\n\\t\\t\\t\\t\\t\\t\\t\\t\\tR Romeu Antônio Caruso,...</td>\n",
              "      <td>[\\r\\n\\t\\t\\t\\t\\t\\t\\t\\t\\t\\t(15) 3021-4485]</td>\n",
              "    </tr>\n",
              "    <tr>\n",
              "      <th>3</th>\n",
              "      <td>CARTOLA PIZZARIA</td>\n",
              "      <td>[\\r\\n\\t\\t\\t\\t\\t\\t\\t\\t\\tR Padre Luiz, 626\\r\\n\\t...</td>\n",
              "      <td>[\\r\\n\\t\\t\\t\\t\\t\\t\\t\\t\\t\\t(15) 3018-0353, \\r\\n\\...</td>\n",
              "    </tr>\n",
              "    <tr>\n",
              "      <th>4</th>\n",
              "      <td>PIZZARIA JÚNIOR</td>\n",
              "      <td>[\\r\\n\\t\\t\\t\\t\\t\\t\\t\\t\\tAv Angélica, 431\\r\\n\\t\\...</td>\n",
              "      <td>[\\r\\n\\t\\t\\t\\t\\t\\t\\t\\t\\t\\t(15) 3213-5590]</td>\n",
              "    </tr>\n",
              "    <tr>\n",
              "      <th>5</th>\n",
              "      <td>PIZZARIA MARTINEZ</td>\n",
              "      <td>[\\r\\n\\t\\t\\t\\t\\t\\t\\t\\t\\tR Aparecida, 1010\\r\\n\\t...</td>\n",
              "      <td>[\\r\\n\\t\\t\\t\\t\\t\\t\\t\\t\\t\\t(15) 3233-9834, \\r\\n\\...</td>\n",
              "    </tr>\n",
              "    <tr>\n",
              "      <th>6</th>\n",
              "      <td>TONI'S PIZZARIA</td>\n",
              "      <td>[\\r\\n\\t\\t\\t\\t\\t\\t\\t\\t\\tR Jesuíno Pinto Bandeir...</td>\n",
              "      <td>[]</td>\n",
              "    </tr>\n",
              "    <tr>\n",
              "      <th>7</th>\n",
              "      <td>PIZZARIA CAPRICIO</td>\n",
              "      <td>[\\r\\n\\t\\t\\t\\t\\t\\t\\t\\t\\tR Comendador Vicente Am...</td>\n",
              "      <td>[\\r\\n\\t\\t\\t\\t\\t\\t\\t\\t\\t\\t(15) 3012-5526]</td>\n",
              "    </tr>\n",
              "    <tr>\n",
              "      <th>8</th>\n",
              "      <td>PIZZARIA MICHELANGELO</td>\n",
              "      <td>[\\r\\n\\t\\t\\t\\t\\t\\t\\t\\t\\tR Santa Terezinha, 290\\...</td>\n",
              "      <td>[\\r\\n\\t\\t\\t\\t\\t\\t\\t\\t\\t\\t(15) 3202-4378]</td>\n",
              "    </tr>\n",
              "    <tr>\n",
              "      <th>9</th>\n",
              "      <td>CABRAL PIZZARIA</td>\n",
              "      <td>[\\r\\n\\t\\t\\t\\t\\t\\t\\t\\t\\tR Maurício Garcia Vieir...</td>\n",
              "      <td>[\\r\\n\\t\\t\\t\\t\\t\\t\\t\\t\\t\\t(15) 3233-2620]</td>\n",
              "    </tr>\n",
              "    <tr>\n",
              "      <th>10</th>\n",
              "      <td>PIZZARIA SPLENDORE</td>\n",
              "      <td>[\\r\\n\\t\\t\\t\\t\\t\\t\\t\\t\\tR Visconde do Rio Branc...</td>\n",
              "      <td>[\\r\\n\\t\\t\\t\\t\\t\\t\\t\\t\\t\\t(15) 3222-8987]</td>\n",
              "    </tr>\n",
              "    <tr>\n",
              "      <th>11</th>\n",
              "      <td>PIZZARIA ACHIROPITA</td>\n",
              "      <td>[\\r\\n\\t\\t\\t\\t\\t\\t\\t\\t\\tAv Padre Joaquim Gonçal...</td>\n",
              "      <td>[\\r\\n\\t\\t\\t\\t\\t\\t\\t\\t\\t\\t(15) 3221-3445]</td>\n",
              "    </tr>\n",
              "    <tr>\n",
              "      <th>12</th>\n",
              "      <td>SAPORITO PIZZARIA</td>\n",
              "      <td>[\\r\\n\\t\\t\\t\\t\\t\\t\\t\\t\\tPc Olinda Alves Mendes,...</td>\n",
              "      <td>[\\r\\n\\t\\t\\t\\t\\t\\t\\t\\t\\t\\t(15) 3231-3333]</td>\n",
              "    </tr>\n",
              "    <tr>\n",
              "      <th>13</th>\n",
              "      <td>PIZZARIA DA RITA</td>\n",
              "      <td>[\\r\\n\\t\\t\\t\\t\\t\\t\\t\\t\\tR Bonifácio de Oliveira...</td>\n",
              "      <td>[\\r\\n\\t\\t\\t\\t\\t\\t\\t\\t\\t\\t(15) 3225-1803, \\r\\n\\...</td>\n",
              "    </tr>\n",
              "    <tr>\n",
              "      <th>14</th>\n",
              "      <td>DONABELLA PIZZARIA</td>\n",
              "      <td>[\\r\\n\\t\\t\\t\\t\\t\\t\\t\\t\\tR Avelino Argento, 197\\...</td>\n",
              "      <td>[\\r\\n\\t\\t\\t\\t\\t\\t\\t\\t\\t\\t(15) 3202-4455]</td>\n",
              "    </tr>\n",
              "    <tr>\n",
              "      <th>15</th>\n",
              "      <td>PIZZARIA MARTINES</td>\n",
              "      <td>[\\r\\n\\t\\t\\t\\t\\t\\t\\t\\t\\tAv Antônio Carlos Comit...</td>\n",
              "      <td>[\\r\\n\\t\\t\\t\\t\\t\\t\\t\\t\\t\\t(15) 3231-7566]</td>\n",
              "    </tr>\n",
              "    <tr>\n",
              "      <th>16</th>\n",
              "      <td>CABRAL PIZZARIA</td>\n",
              "      <td>[\\r\\n\\t\\t\\t\\t\\t\\t\\t\\t\\tR José Joaquim de Lacer...</td>\n",
              "      <td>[\\r\\n\\t\\t\\t\\t\\t\\t\\t\\t\\t\\t(15) 3233-2620]</td>\n",
              "    </tr>\n",
              "    <tr>\n",
              "      <th>17</th>\n",
              "      <td>PIZZARIA GENERAL</td>\n",
              "      <td>[\\r\\n\\t\\t\\t\\t\\t\\t\\t\\t\\tAv General Carneiro, 15...</td>\n",
              "      <td>[\\r\\n\\t\\t\\t\\t\\t\\t\\t\\t\\t\\t(15) 3221-8800]</td>\n",
              "    </tr>\n",
              "    <tr>\n",
              "      <th>18</th>\n",
              "      <td>PIZZARIA PRIMAVERA</td>\n",
              "      <td>[\\r\\n\\t\\t\\t\\t\\t\\t\\t\\t\\tR Juvenal Alves Senne, ...</td>\n",
              "      <td>[\\r\\n\\t\\t\\t\\t\\t\\t\\t\\t\\t\\t(15) 3239-1878, \\r\\n\\...</td>\n",
              "    </tr>\n",
              "    <tr>\n",
              "      <th>19</th>\n",
              "      <td>PIZZARIA DOMANI</td>\n",
              "      <td>[\\r\\n\\t\\t\\t\\t\\t\\t\\t\\t\\tR Capitão Nascimento Fi...</td>\n",
              "      <td>[\\r\\n\\t\\t\\t\\t\\t\\t\\t\\t\\t\\t(15) 3224-2444, \\r\\n\\...</td>\n",
              "    </tr>\n",
              "    <tr>\n",
              "      <th>20</th>\n",
              "      <td>AHAZZO PIZZARIA</td>\n",
              "      <td>[\\r\\n\\t\\t\\t\\t\\t\\t\\t\\t\\tR Lauro Pacheco, 63\\r\\n...</td>\n",
              "      <td>[\\r\\n\\t\\t\\t\\t\\t\\t\\t\\t\\t\\t(15) 3227-5685]</td>\n",
              "    </tr>\n",
              "    <tr>\n",
              "      <th>21</th>\n",
              "      <td>PIZZARIA PIZZAIOLO</td>\n",
              "      <td>[\\r\\n\\t\\t\\t\\t\\t\\t\\t\\t\\tR Doutor Azevedo Sampai...</td>\n",
              "      <td>[\\r\\n\\t\\t\\t\\t\\t\\t\\t\\t\\t\\t(15) 3234-5535]</td>\n",
              "    </tr>\n",
              "    <tr>\n",
              "      <th>22</th>\n",
              "      <td>FORNAZZARI PIZZARIA</td>\n",
              "      <td>[\\r\\n\\t\\t\\t\\t\\t\\t\\t\\t\\tAv São Paulo, 1920\\r\\n\\...</td>\n",
              "      <td>[\\r\\n\\t\\t\\t\\t\\t\\t\\t\\t\\t\\t(15) 3012-4663]</td>\n",
              "    </tr>\n",
              "    <tr>\n",
              "      <th>23</th>\n",
              "      <td>PIZZARIA RAVENA</td>\n",
              "      <td>[\\r\\n\\t\\t\\t\\t\\t\\t\\t\\t\\tR Aristides da Silva Lo...</td>\n",
              "      <td>[]</td>\n",
              "    </tr>\n",
              "    <tr>\n",
              "      <th>24</th>\n",
              "      <td>CAVANI PIZZARIA</td>\n",
              "      <td>[\\r\\n\\t\\t\\t\\t\\t\\t\\t\\t\\tR Padre Madureira, 645\\...</td>\n",
              "      <td>[\\r\\n\\t\\t\\t\\t\\t\\t\\t\\t\\t\\t(15) 3031-3026, \\r\\n\\...</td>\n",
              "    </tr>\n",
              "    <tr>\n",
              "      <th>25</th>\n",
              "      <td>PIZZARIA VITÓRIA</td>\n",
              "      <td>[\\r\\n\\t\\t\\t\\t\\t\\t\\t\\t\\tAv Edward Fru-Fru Marci...</td>\n",
              "      <td>[\\r\\n\\t\\t\\t\\t\\t\\t\\t\\t\\t\\t(15) 3226-1525, \\r\\n\\...</td>\n",
              "    </tr>\n",
              "    <tr>\n",
              "      <th>26</th>\n",
              "      <td>PIZZARIA DINUZI</td>\n",
              "      <td>[\\r\\n\\t\\t\\t\\t\\t\\t\\t\\t\\tAv Engenheiro Carlos Re...</td>\n",
              "      <td>[]</td>\n",
              "    </tr>\n",
              "    <tr>\n",
              "      <th>27</th>\n",
              "      <td>PIZZARIA INGOU'S</td>\n",
              "      <td>[\\r\\n\\t\\t\\t\\t\\t\\t\\t\\t\\tR Miguel Sutil, 62\\r\\n\\...</td>\n",
              "      <td>[]</td>\n",
              "    </tr>\n",
              "    <tr>\n",
              "      <th>28</th>\n",
              "      <td>MACERATA PIZZARIA</td>\n",
              "      <td>[\\r\\n\\t\\t\\t\\t\\t\\t\\t\\t\\tAv Doutor Artur Bernard...</td>\n",
              "      <td>[\\r\\n\\t\\t\\t\\t\\t\\t\\t\\t\\t\\t(15) 3031-2002]</td>\n",
              "    </tr>\n",
              "    <tr>\n",
              "      <th>29</th>\n",
              "      <td>PIZZARIA FORNAZZARI</td>\n",
              "      <td>[\\r\\n\\t\\t\\t\\t\\t\\t\\t\\t\\tR Antônio Monteiro, 192...</td>\n",
              "      <td>[\\r\\n\\t\\t\\t\\t\\t\\t\\t\\t\\t\\t(15) 3227-0964]</td>\n",
              "    </tr>\n",
              "    <tr>\n",
              "      <th>...</th>\n",
              "      <td>...</td>\n",
              "      <td>...</td>\n",
              "      <td>...</td>\n",
              "    </tr>\n",
              "    <tr>\n",
              "      <th>170</th>\n",
              "      <td>ROMA DISK PIZZAS</td>\n",
              "      <td>[\\r\\n\\t\\t\\t\\t\\t\\t\\t\\t\\tAv General Carneiro, 10...</td>\n",
              "      <td>[\\r\\n\\t\\t\\t\\t\\t\\t\\t\\t\\t\\t(15) 3202-8809, \\r\\n\\...</td>\n",
              "    </tr>\n",
              "    <tr>\n",
              "      <th>171</th>\n",
              "      <td>SMACK PIZZA</td>\n",
              "      <td>[\\r\\n\\t\\t\\t\\t\\t\\t\\t\\t\\tR Martins de Oliveira, ...</td>\n",
              "      <td>[\\r\\n\\t\\t\\t\\t\\t\\t\\t\\t\\t\\t(15) 3227-1611]</td>\n",
              "    </tr>\n",
              "    <tr>\n",
              "      <th>172</th>\n",
              "      <td>LA BELLA ITÁLIA DELIVERY</td>\n",
              "      <td>[\\r\\n\\t\\t\\t\\t\\t\\t\\t\\t\\tR Doutor Américo Figuei...</td>\n",
              "      <td>[\\r\\n\\t\\t\\t\\t\\t\\t\\t\\t\\t\\t(15) 3202-3465]</td>\n",
              "    </tr>\n",
              "    <tr>\n",
              "      <th>173</th>\n",
              "      <td>PIETRO DISK PIZZA</td>\n",
              "      <td>[\\r\\n\\t\\t\\t\\t\\t\\t\\t\\t\\tR Aparecida, 93\\r\\n\\t\\t...</td>\n",
              "      <td>[\\r\\n\\t\\t\\t\\t\\t\\t\\t\\t\\t\\t(15) 3232-6590]</td>\n",
              "    </tr>\n",
              "    <tr>\n",
              "      <th>174</th>\n",
              "      <td>PIETRO PIZZA</td>\n",
              "      <td>[\\r\\n\\t\\t\\t\\t\\t\\t\\t\\t\\tR Aparecida, 93\\r\\n\\t\\t...</td>\n",
              "      <td>[]</td>\n",
              "    </tr>\n",
              "    <tr>\n",
              "      <th>175</th>\n",
              "      <td>PIZZA PAZZA</td>\n",
              "      <td>[\\r\\n\\t\\t\\t\\t\\t\\t\\t\\t\\tR José Maria Hannickel,...</td>\n",
              "      <td>[]</td>\n",
              "    </tr>\n",
              "    <tr>\n",
              "      <th>176</th>\n",
              "      <td>VILLA DELIVERY ESFIHARIA BATATARIA</td>\n",
              "      <td>[\\r\\n\\t\\t\\t\\t\\t\\t\\t\\t\\tR Josefa Rúbio Bastida,...</td>\n",
              "      <td>[\\r\\n\\t\\t\\t\\t\\t\\t\\t\\t\\t\\t(15) 3302-3062]</td>\n",
              "    </tr>\n",
              "    <tr>\n",
              "      <th>177</th>\n",
              "      <td>TRE SORELLE PIZZAS</td>\n",
              "      <td>[\\r\\n\\t\\t\\t\\t\\t\\t\\t\\t\\tR Santa Terezinha, 312\\...</td>\n",
              "      <td>[\\r\\n\\t\\t\\t\\t\\t\\t\\t\\t\\t\\t(15) 3411-2400]</td>\n",
              "    </tr>\n",
              "    <tr>\n",
              "      <th>178</th>\n",
              "      <td>PRIMUS PIZZAS E LANCHES</td>\n",
              "      <td>[\\r\\n\\t\\t\\t\\t\\t\\t\\t\\t\\tAv Gonçalves Magalhães,...</td>\n",
              "      <td>[\\r\\n\\t\\t\\t\\t\\t\\t\\t\\t\\t\\t(15) 2104-2170]</td>\n",
              "    </tr>\n",
              "    <tr>\n",
              "      <th>179</th>\n",
              "      <td>ORLANDO B PIZZA</td>\n",
              "      <td>[\\r\\n\\t\\t\\t\\t\\t\\t\\t\\t\\tR Carlos Gomes, 268\\r\\n...</td>\n",
              "      <td>[\\r\\n\\t\\t\\t\\t\\t\\t\\t\\t\\t\\t(15) 3217-8386]</td>\n",
              "    </tr>\n",
              "    <tr>\n",
              "      <th>180</th>\n",
              "      <td>LUÍZA A PIZZA</td>\n",
              "      <td>[\\r\\n\\t\\t\\t\\t\\t\\t\\t\\t\\tR Benedicto Wenceslau M...</td>\n",
              "      <td>[\\r\\n\\t\\t\\t\\t\\t\\t\\t\\t\\t\\t(15) 3222-6631]</td>\n",
              "    </tr>\n",
              "    <tr>\n",
              "      <th>181</th>\n",
              "      <td>DISK-PIZZA PAPA LÉGUAS</td>\n",
              "      <td>[\\r\\n\\t\\t\\t\\t\\t\\t\\t\\t\\tR Doutor Américo Figuei...</td>\n",
              "      <td>[\\r\\n\\t\\t\\t\\t\\t\\t\\t\\t\\t\\t(15) 3202-8576]</td>\n",
              "    </tr>\n",
              "    <tr>\n",
              "      <th>182</th>\n",
              "      <td>BIG PIZZA</td>\n",
              "      <td>[\\r\\n\\t\\t\\t\\t\\t\\t\\t\\t\\tR Itanguá, 589\\r\\n\\t\\t\\...</td>\n",
              "      <td>[\\r\\n\\t\\t\\t\\t\\t\\t\\t\\t\\t\\t(15) 3202-5323]</td>\n",
              "    </tr>\n",
              "    <tr>\n",
              "      <th>183</th>\n",
              "      <td>CASA DA PIZZA</td>\n",
              "      <td>[\\r\\n\\t\\t\\t\\t\\t\\t\\t\\t\\tAl Miltonias, 320\\r\\n\\t...</td>\n",
              "      <td>[\\r\\n\\t\\t\\t\\t\\t\\t\\t\\t\\t\\t(15) 3222-5793]</td>\n",
              "    </tr>\n",
              "    <tr>\n",
              "      <th>184</th>\n",
              "      <td>BONGA DELIVERY</td>\n",
              "      <td>[\\r\\n\\t\\t\\t\\t\\t\\t\\t\\t\\tAv Doutor Afonso Vergue...</td>\n",
              "      <td>[\\r\\n\\t\\t\\t\\t\\t\\t\\t\\t\\t\\t(15) 3221-6999]</td>\n",
              "    </tr>\n",
              "    <tr>\n",
              "      <th>185</th>\n",
              "      <td>RINALDO BIAGIO PIZZO JÚNIOR E CIA</td>\n",
              "      <td>[\\r\\n\\t\\t\\t\\t\\t\\t\\t\\t\\tPc Pio XII, 65\\r\\n\\t\\t\\...</td>\n",
              "      <td>[\\r\\n\\t\\t\\t\\t\\t\\t\\t\\t\\t\\t(15) 3233-1975]</td>\n",
              "    </tr>\n",
              "    <tr>\n",
              "      <th>186</th>\n",
              "      <td>VIVITALIA PIZZA DELIVERY</td>\n",
              "      <td>[\\r\\n\\t\\t\\t\\t\\t\\t\\t\\t\\tR Coronel Nogueira Padi...</td>\n",
              "      <td>[\\r\\n\\t\\t\\t\\t\\t\\t\\t\\t\\t\\t(15) 3016-3655, \\r\\n\\...</td>\n",
              "    </tr>\n",
              "    <tr>\n",
              "      <th>187</th>\n",
              "      <td>BELLA PIZZA SOROCABA</td>\n",
              "      <td>[\\r\\n\\t\\t\\t\\t\\t\\t\\t\\t\\tR Roberto Florio Santan...</td>\n",
              "      <td>[\\r\\n\\t\\t\\t\\t\\t\\t\\t\\t\\t\\t(15) 3223-1595]</td>\n",
              "    </tr>\n",
              "    <tr>\n",
              "      <th>188</th>\n",
              "      <td>LAGUSTA PIZZAS E MASSAS</td>\n",
              "      <td>[\\r\\n\\t\\t\\t\\t\\t\\t\\t\\t\\tAv Professora Izoraida ...</td>\n",
              "      <td>[\\r\\n\\t\\t\\t\\t\\t\\t\\t\\t\\t\\t(15) 3012-4577]</td>\n",
              "    </tr>\n",
              "    <tr>\n",
              "      <th>189</th>\n",
              "      <td>CASARÃO DISK MARMITEX</td>\n",
              "      <td>[\\r\\n\\t\\t\\t\\t\\t\\t\\t\\t\\tAv Ipanema, 2055\\r\\n\\t\\...</td>\n",
              "      <td>[\\r\\n\\t\\t\\t\\t\\t\\t\\t\\t\\t\\t(15) 3223-1493]</td>\n",
              "    </tr>\n",
              "    <tr>\n",
              "      <th>190</th>\n",
              "      <td>VI LANCHES</td>\n",
              "      <td>[\\r\\n\\t\\t\\t\\t\\t\\t\\t\\t\\tR Sandro Antônio Mendes...</td>\n",
              "      <td>[\\r\\n\\t\\t\\t\\t\\t\\t\\t\\t\\t\\t(15) 3016-4540]</td>\n",
              "    </tr>\n",
              "    <tr>\n",
              "      <th>191</th>\n",
              "      <td>DISK THID S PIZZAS</td>\n",
              "      <td>[\\r\\n\\t\\t\\t\\t\\t\\t\\t\\t\\tR Barão do Rio Branco, ...</td>\n",
              "      <td>[\\r\\n\\t\\t\\t\\t\\t\\t\\t\\t\\t\\t(15) 3202-5960]</td>\n",
              "    </tr>\n",
              "    <tr>\n",
              "      <th>192</th>\n",
              "      <td>DISK PIZZAS SIMUS</td>\n",
              "      <td>[\\r\\n\\t\\t\\t\\t\\t\\t\\t\\t\\tR João Alberto Pivetta,...</td>\n",
              "      <td>[\\r\\n\\t\\t\\t\\t\\t\\t\\t\\t\\t\\t(15) 3217-3039]</td>\n",
              "    </tr>\n",
              "    <tr>\n",
              "      <th>193</th>\n",
              "      <td>DISK SUPER MEGA PIZZA</td>\n",
              "      <td>[\\r\\n\\t\\t\\t\\t\\t\\t\\t\\t\\tAv Itavuvu, 222\\r\\n\\t\\t...</td>\n",
              "      <td>[\\r\\n\\t\\t\\t\\t\\t\\t\\t\\t\\t\\t(15) 3013-0280]</td>\n",
              "    </tr>\n",
              "    <tr>\n",
              "      <th>194</th>\n",
              "      <td>PORTO CALLE PIZZA</td>\n",
              "      <td>[\\r\\n\\t\\t\\t\\t\\t\\t\\t\\t\\tAv Doutor Afonso Vergue...</td>\n",
              "      <td>[\\r\\n\\t\\t\\t\\t\\t\\t\\t\\t\\t\\t(15) 3211-1921]</td>\n",
              "    </tr>\n",
              "    <tr>\n",
              "      <th>195</th>\n",
              "      <td>DISK PIZZA TONYS</td>\n",
              "      <td>[\\r\\n\\t\\t\\t\\t\\t\\t\\t\\t\\tR Jesuíno Pinto Bandeir...</td>\n",
              "      <td>[\\r\\n\\t\\t\\t\\t\\t\\t\\t\\t\\t\\t(15) 3014-1465]</td>\n",
              "    </tr>\n",
              "    <tr>\n",
              "      <th>196</th>\n",
              "      <td>PIZZARIA VITÓRIA</td>\n",
              "      <td>[\\r\\n\\t\\t\\t\\t\\t\\t\\t\\t\\tR Ovídio Antônio Ribeir...</td>\n",
              "      <td>[\\r\\n\\t\\t\\t\\t\\t\\t\\t\\t\\t\\t(15) 3012-5945]</td>\n",
              "    </tr>\n",
              "    <tr>\n",
              "      <th>197</th>\n",
              "      <td>FOGÃO MINEIRO RESTAURANTE E PIZZARIA</td>\n",
              "      <td>[\\r\\n\\t\\t\\t\\t\\t\\t\\t\\t\\tAv Independência, 4615\\...</td>\n",
              "      <td>[\\r\\n\\t\\t\\t\\t\\t\\t\\t\\t\\t\\t(15) 3325-1419, \\r\\n\\...</td>\n",
              "    </tr>\n",
              "    <tr>\n",
              "      <th>198</th>\n",
              "      <td>FOGÃO MINEIRO RESTAURANTE E PIZZARIA</td>\n",
              "      <td>[\\r\\n\\t\\t\\t\\t\\t\\t\\t\\t\\tR da Penha, 788 \\r\\n\\t\\...</td>\n",
              "      <td>[\\r\\n\\t\\t\\t\\t\\t\\t\\t\\t\\t\\t(15) 3233-5599]</td>\n",
              "    </tr>\n",
              "    <tr>\n",
              "      <th>199</th>\n",
              "      <td>LA BONNA PIZZARIA SOROCABA</td>\n",
              "      <td>[\\r\\n\\t\\t\\t\\t\\t\\t\\t\\t\\tR Doutor Arlindo Luz, 8...</td>\n",
              "      <td>[\\r\\n\\t\\t\\t\\t\\t\\t\\t\\t\\t\\t(15) 99113-3498, \\r\\n...</td>\n",
              "    </tr>\n",
              "  </tbody>\n",
              "</table>\n",
              "<p>200 rows × 3 columns</p>\n",
              "</div>"
            ],
            "text/plain": [
              "                                     nome  ...                                           telefone\n",
              "0                FORMAGGIO PIZZA DELIVERY  ...  [\\r\\n\\t\\t\\t\\t\\t\\t\\t\\t\\t\\t(15) 3232-5550, \\r\\n\\...\n",
              "1                       PIZZARIA CASERITA  ...  [\\r\\n\\t\\t\\t\\t\\t\\t\\t\\t\\t\\t(15) 2104-2468, \\r\\n\\...\n",
              "2                     PIZZARIA LIGEIRINHO  ...           [\\r\\n\\t\\t\\t\\t\\t\\t\\t\\t\\t\\t(15) 3021-4485]\n",
              "3                        CARTOLA PIZZARIA  ...  [\\r\\n\\t\\t\\t\\t\\t\\t\\t\\t\\t\\t(15) 3018-0353, \\r\\n\\...\n",
              "4                         PIZZARIA JÚNIOR  ...           [\\r\\n\\t\\t\\t\\t\\t\\t\\t\\t\\t\\t(15) 3213-5590]\n",
              "5                       PIZZARIA MARTINEZ  ...  [\\r\\n\\t\\t\\t\\t\\t\\t\\t\\t\\t\\t(15) 3233-9834, \\r\\n\\...\n",
              "6                         TONI'S PIZZARIA  ...                                                 []\n",
              "7                       PIZZARIA CAPRICIO  ...           [\\r\\n\\t\\t\\t\\t\\t\\t\\t\\t\\t\\t(15) 3012-5526]\n",
              "8                   PIZZARIA MICHELANGELO  ...           [\\r\\n\\t\\t\\t\\t\\t\\t\\t\\t\\t\\t(15) 3202-4378]\n",
              "9                         CABRAL PIZZARIA  ...           [\\r\\n\\t\\t\\t\\t\\t\\t\\t\\t\\t\\t(15) 3233-2620]\n",
              "10                     PIZZARIA SPLENDORE  ...           [\\r\\n\\t\\t\\t\\t\\t\\t\\t\\t\\t\\t(15) 3222-8987]\n",
              "11                    PIZZARIA ACHIROPITA  ...           [\\r\\n\\t\\t\\t\\t\\t\\t\\t\\t\\t\\t(15) 3221-3445]\n",
              "12                      SAPORITO PIZZARIA  ...           [\\r\\n\\t\\t\\t\\t\\t\\t\\t\\t\\t\\t(15) 3231-3333]\n",
              "13                       PIZZARIA DA RITA  ...  [\\r\\n\\t\\t\\t\\t\\t\\t\\t\\t\\t\\t(15) 3225-1803, \\r\\n\\...\n",
              "14                     DONABELLA PIZZARIA  ...           [\\r\\n\\t\\t\\t\\t\\t\\t\\t\\t\\t\\t(15) 3202-4455]\n",
              "15                      PIZZARIA MARTINES  ...           [\\r\\n\\t\\t\\t\\t\\t\\t\\t\\t\\t\\t(15) 3231-7566]\n",
              "16                        CABRAL PIZZARIA  ...           [\\r\\n\\t\\t\\t\\t\\t\\t\\t\\t\\t\\t(15) 3233-2620]\n",
              "17                       PIZZARIA GENERAL  ...           [\\r\\n\\t\\t\\t\\t\\t\\t\\t\\t\\t\\t(15) 3221-8800]\n",
              "18                     PIZZARIA PRIMAVERA  ...  [\\r\\n\\t\\t\\t\\t\\t\\t\\t\\t\\t\\t(15) 3239-1878, \\r\\n\\...\n",
              "19                        PIZZARIA DOMANI  ...  [\\r\\n\\t\\t\\t\\t\\t\\t\\t\\t\\t\\t(15) 3224-2444, \\r\\n\\...\n",
              "20                        AHAZZO PIZZARIA  ...           [\\r\\n\\t\\t\\t\\t\\t\\t\\t\\t\\t\\t(15) 3227-5685]\n",
              "21                     PIZZARIA PIZZAIOLO  ...           [\\r\\n\\t\\t\\t\\t\\t\\t\\t\\t\\t\\t(15) 3234-5535]\n",
              "22                    FORNAZZARI PIZZARIA  ...           [\\r\\n\\t\\t\\t\\t\\t\\t\\t\\t\\t\\t(15) 3012-4663]\n",
              "23                        PIZZARIA RAVENA  ...                                                 []\n",
              "24                        CAVANI PIZZARIA  ...  [\\r\\n\\t\\t\\t\\t\\t\\t\\t\\t\\t\\t(15) 3031-3026, \\r\\n\\...\n",
              "25                       PIZZARIA VITÓRIA  ...  [\\r\\n\\t\\t\\t\\t\\t\\t\\t\\t\\t\\t(15) 3226-1525, \\r\\n\\...\n",
              "26                        PIZZARIA DINUZI  ...                                                 []\n",
              "27                       PIZZARIA INGOU'S  ...                                                 []\n",
              "28                      MACERATA PIZZARIA  ...           [\\r\\n\\t\\t\\t\\t\\t\\t\\t\\t\\t\\t(15) 3031-2002]\n",
              "29                    PIZZARIA FORNAZZARI  ...           [\\r\\n\\t\\t\\t\\t\\t\\t\\t\\t\\t\\t(15) 3227-0964]\n",
              "..                                    ...  ...                                                ...\n",
              "170                      ROMA DISK PIZZAS  ...  [\\r\\n\\t\\t\\t\\t\\t\\t\\t\\t\\t\\t(15) 3202-8809, \\r\\n\\...\n",
              "171                           SMACK PIZZA  ...           [\\r\\n\\t\\t\\t\\t\\t\\t\\t\\t\\t\\t(15) 3227-1611]\n",
              "172              LA BELLA ITÁLIA DELIVERY  ...           [\\r\\n\\t\\t\\t\\t\\t\\t\\t\\t\\t\\t(15) 3202-3465]\n",
              "173                     PIETRO DISK PIZZA  ...           [\\r\\n\\t\\t\\t\\t\\t\\t\\t\\t\\t\\t(15) 3232-6590]\n",
              "174                          PIETRO PIZZA  ...                                                 []\n",
              "175                           PIZZA PAZZA  ...                                                 []\n",
              "176    VILLA DELIVERY ESFIHARIA BATATARIA  ...           [\\r\\n\\t\\t\\t\\t\\t\\t\\t\\t\\t\\t(15) 3302-3062]\n",
              "177                    TRE SORELLE PIZZAS  ...           [\\r\\n\\t\\t\\t\\t\\t\\t\\t\\t\\t\\t(15) 3411-2400]\n",
              "178               PRIMUS PIZZAS E LANCHES  ...           [\\r\\n\\t\\t\\t\\t\\t\\t\\t\\t\\t\\t(15) 2104-2170]\n",
              "179                       ORLANDO B PIZZA  ...           [\\r\\n\\t\\t\\t\\t\\t\\t\\t\\t\\t\\t(15) 3217-8386]\n",
              "180                         LUÍZA A PIZZA  ...           [\\r\\n\\t\\t\\t\\t\\t\\t\\t\\t\\t\\t(15) 3222-6631]\n",
              "181                DISK-PIZZA PAPA LÉGUAS  ...           [\\r\\n\\t\\t\\t\\t\\t\\t\\t\\t\\t\\t(15) 3202-8576]\n",
              "182                             BIG PIZZA  ...           [\\r\\n\\t\\t\\t\\t\\t\\t\\t\\t\\t\\t(15) 3202-5323]\n",
              "183                         CASA DA PIZZA  ...           [\\r\\n\\t\\t\\t\\t\\t\\t\\t\\t\\t\\t(15) 3222-5793]\n",
              "184                        BONGA DELIVERY  ...           [\\r\\n\\t\\t\\t\\t\\t\\t\\t\\t\\t\\t(15) 3221-6999]\n",
              "185     RINALDO BIAGIO PIZZO JÚNIOR E CIA  ...           [\\r\\n\\t\\t\\t\\t\\t\\t\\t\\t\\t\\t(15) 3233-1975]\n",
              "186              VIVITALIA PIZZA DELIVERY  ...  [\\r\\n\\t\\t\\t\\t\\t\\t\\t\\t\\t\\t(15) 3016-3655, \\r\\n\\...\n",
              "187                  BELLA PIZZA SOROCABA  ...           [\\r\\n\\t\\t\\t\\t\\t\\t\\t\\t\\t\\t(15) 3223-1595]\n",
              "188               LAGUSTA PIZZAS E MASSAS  ...           [\\r\\n\\t\\t\\t\\t\\t\\t\\t\\t\\t\\t(15) 3012-4577]\n",
              "189                 CASARÃO DISK MARMITEX  ...           [\\r\\n\\t\\t\\t\\t\\t\\t\\t\\t\\t\\t(15) 3223-1493]\n",
              "190                            VI LANCHES  ...           [\\r\\n\\t\\t\\t\\t\\t\\t\\t\\t\\t\\t(15) 3016-4540]\n",
              "191                    DISK THID S PIZZAS  ...           [\\r\\n\\t\\t\\t\\t\\t\\t\\t\\t\\t\\t(15) 3202-5960]\n",
              "192                     DISK PIZZAS SIMUS  ...           [\\r\\n\\t\\t\\t\\t\\t\\t\\t\\t\\t\\t(15) 3217-3039]\n",
              "193                 DISK SUPER MEGA PIZZA  ...           [\\r\\n\\t\\t\\t\\t\\t\\t\\t\\t\\t\\t(15) 3013-0280]\n",
              "194                     PORTO CALLE PIZZA  ...           [\\r\\n\\t\\t\\t\\t\\t\\t\\t\\t\\t\\t(15) 3211-1921]\n",
              "195                      DISK PIZZA TONYS  ...           [\\r\\n\\t\\t\\t\\t\\t\\t\\t\\t\\t\\t(15) 3014-1465]\n",
              "196                      PIZZARIA VITÓRIA  ...           [\\r\\n\\t\\t\\t\\t\\t\\t\\t\\t\\t\\t(15) 3012-5945]\n",
              "197  FOGÃO MINEIRO RESTAURANTE E PIZZARIA  ...  [\\r\\n\\t\\t\\t\\t\\t\\t\\t\\t\\t\\t(15) 3325-1419, \\r\\n\\...\n",
              "198  FOGÃO MINEIRO RESTAURANTE E PIZZARIA  ...           [\\r\\n\\t\\t\\t\\t\\t\\t\\t\\t\\t\\t(15) 3233-5599]\n",
              "199            LA BONNA PIZZARIA SOROCABA  ...  [\\r\\n\\t\\t\\t\\t\\t\\t\\t\\t\\t\\t(15) 99113-3498, \\r\\n...\n",
              "\n",
              "[200 rows x 3 columns]"
            ]
          },
          "metadata": {
            "tags": []
          },
          "execution_count": 23
        }
      ]
    },
    {
      "cell_type": "code",
      "metadata": {
        "id": "sQy5tjaeO53r",
        "colab_type": "code",
        "colab": {}
      },
      "source": [
        "from google.colab import drive\n",
        "drive.mount('/drive')"
      ],
      "execution_count": 0,
      "outputs": []
    },
    {
      "cell_type": "code",
      "metadata": {
        "id": "GONtRvqpMIyg",
        "colab_type": "code",
        "colab": {}
      },
      "source": [
        "df.to_excel(\"/drive/My Drive/Colab Notebooks/Datasets/pizzarias.xlsx\")"
      ],
      "execution_count": 0,
      "outputs": []
    },
    {
      "cell_type": "code",
      "metadata": {
        "id": "zZBJOqApPXZr",
        "colab_type": "code",
        "colab": {
          "base_uri": "https://localhost:8080/",
          "height": 204
        },
        "outputId": "567c7fdd-fdd8-4e08-b5c3-e40d5716016f"
      },
      "source": [
        "df_ = pd.read_excel('/drive/My Drive/Colab Notebooks/Datasets/pizzarias.xlsx')\n",
        "df_.head()"
      ],
      "execution_count": 79,
      "outputs": [
        {
          "output_type": "execute_result",
          "data": {
            "text/html": [
              "<div>\n",
              "<style scoped>\n",
              "    .dataframe tbody tr th:only-of-type {\n",
              "        vertical-align: middle;\n",
              "    }\n",
              "\n",
              "    .dataframe tbody tr th {\n",
              "        vertical-align: top;\n",
              "    }\n",
              "\n",
              "    .dataframe thead th {\n",
              "        text-align: right;\n",
              "    }\n",
              "</style>\n",
              "<table border=\"1\" class=\"dataframe\">\n",
              "  <thead>\n",
              "    <tr style=\"text-align: right;\">\n",
              "      <th></th>\n",
              "      <th>Unnamed: 0</th>\n",
              "      <th>nome</th>\n",
              "      <th>endereco</th>\n",
              "      <th>telefone</th>\n",
              "    </tr>\n",
              "  </thead>\n",
              "  <tbody>\n",
              "    <tr>\n",
              "      <th>0</th>\n",
              "      <td>0</td>\n",
              "      <td>FORMAGGIO PIZZA DELIVERY</td>\n",
              "      <td>['\\r\\n\\t\\t\\t\\t\\t\\t\\t\\t\\tRod João Leme dos Sant...</td>\n",
              "      <td>['\\r\\n\\t\\t\\t\\t\\t\\t\\t\\t\\t\\t(15) 3232-5550', '\\r...</td>\n",
              "    </tr>\n",
              "    <tr>\n",
              "      <th>1</th>\n",
              "      <td>1</td>\n",
              "      <td>PIZZARIA CASERITA</td>\n",
              "      <td>['\\r\\n\\t\\t\\t\\t\\t\\t\\t\\t\\tR Polônia, 135\\r\\n\\t\\t...</td>\n",
              "      <td>['\\r\\n\\t\\t\\t\\t\\t\\t\\t\\t\\t\\t(15) 2104-2468', '\\r...</td>\n",
              "    </tr>\n",
              "    <tr>\n",
              "      <th>2</th>\n",
              "      <td>2</td>\n",
              "      <td>PIZZARIA LIGEIRINHO</td>\n",
              "      <td>['\\r\\n\\t\\t\\t\\t\\t\\t\\t\\t\\tR Romeu Antônio Caruso...</td>\n",
              "      <td>['\\r\\n\\t\\t\\t\\t\\t\\t\\t\\t\\t\\t(15) 3021-4485']</td>\n",
              "    </tr>\n",
              "    <tr>\n",
              "      <th>3</th>\n",
              "      <td>3</td>\n",
              "      <td>CARTOLA PIZZARIA</td>\n",
              "      <td>['\\r\\n\\t\\t\\t\\t\\t\\t\\t\\t\\tR Padre Luiz, 626\\r\\n\\...</td>\n",
              "      <td>['\\r\\n\\t\\t\\t\\t\\t\\t\\t\\t\\t\\t(15) 3018-0353', '\\r...</td>\n",
              "    </tr>\n",
              "    <tr>\n",
              "      <th>4</th>\n",
              "      <td>4</td>\n",
              "      <td>PIZZARIA JÚNIOR</td>\n",
              "      <td>['\\r\\n\\t\\t\\t\\t\\t\\t\\t\\t\\tAv Angélica, 431\\r\\n\\t...</td>\n",
              "      <td>['\\r\\n\\t\\t\\t\\t\\t\\t\\t\\t\\t\\t(15) 3213-5590']</td>\n",
              "    </tr>\n",
              "  </tbody>\n",
              "</table>\n",
              "</div>"
            ],
            "text/plain": [
              "   Unnamed: 0  ...                                           telefone\n",
              "0           0  ...  ['\\r\\n\\t\\t\\t\\t\\t\\t\\t\\t\\t\\t(15) 3232-5550', '\\r...\n",
              "1           1  ...  ['\\r\\n\\t\\t\\t\\t\\t\\t\\t\\t\\t\\t(15) 2104-2468', '\\r...\n",
              "2           2  ...         ['\\r\\n\\t\\t\\t\\t\\t\\t\\t\\t\\t\\t(15) 3021-4485']\n",
              "3           3  ...  ['\\r\\n\\t\\t\\t\\t\\t\\t\\t\\t\\t\\t(15) 3018-0353', '\\r...\n",
              "4           4  ...         ['\\r\\n\\t\\t\\t\\t\\t\\t\\t\\t\\t\\t(15) 3213-5590']\n",
              "\n",
              "[5 rows x 4 columns]"
            ]
          },
          "metadata": {
            "tags": []
          },
          "execution_count": 79
        }
      ]
    },
    {
      "cell_type": "code",
      "metadata": {
        "id": "J5TglXmQPgah",
        "colab_type": "code",
        "colab": {}
      },
      "source": [
        "df_['endereco'].replace(r'\\s+|\\\\r', ' ', regex=True, inplace=True)\n",
        "df_['endereco'].replace(r'\\s+|\\\\t', ' ', regex=True, inplace=True)\n",
        "df_['endereco'].replace(r'\\s+|\\\\n', ' ', regex=True, inplace=True)\n",
        "df_['endereco'].replace(r'\\s+|\\[', ' ', regex=True, inplace=True)\n",
        "df_['endereco'].replace(r'\\s+|\\]', ' ', regex=True, inplace=True)\n",
        "df_['endereco'].replace(r'\\s+|\\'', ' ', regex=True, inplace=True)"
      ],
      "execution_count": 0,
      "outputs": []
    },
    {
      "cell_type": "code",
      "metadata": {
        "id": "KZJrGTCdQXIW",
        "colab_type": "code",
        "colab": {}
      },
      "source": [
        "df_['telefone'].replace(r'\\s+|\\\\r', ' ', regex=True, inplace=True)\n",
        "df_['telefone'].replace(r'\\s+|\\\\t', ' ', regex=True, inplace=True)\n",
        "df_['telefone'].replace(r'\\s+|\\\\n', ' ', regex=True, inplace=True)\n",
        "df_['telefone'].replace(r'\\s+|\\[', ' ', regex=True, inplace=True)\n",
        "df_['telefone'].replace(r'\\s+|\\]', ' ', regex=True, inplace=True)\n",
        "df_['telefone'].replace(r'\\s+|\\'', ' ', regex=True, inplace=True)"
      ],
      "execution_count": 0,
      "outputs": []
    },
    {
      "cell_type": "code",
      "metadata": {
        "id": "EGMd2i1TRQ8G",
        "colab_type": "code",
        "colab": {}
      },
      "source": [
        "database = df_.drop('Unnamed: 0', axis = 1)"
      ],
      "execution_count": 0,
      "outputs": []
    },
    {
      "cell_type": "code",
      "metadata": {
        "id": "K21ie9fdQXFG",
        "colab_type": "code",
        "colab": {
          "base_uri": "https://localhost:8080/",
          "height": 204
        },
        "outputId": "0daa02b7-4d54-443e-bfdf-845f1293b567"
      },
      "source": [
        "database.head()"
      ],
      "execution_count": 83,
      "outputs": [
        {
          "output_type": "execute_result",
          "data": {
            "text/html": [
              "<div>\n",
              "<style scoped>\n",
              "    .dataframe tbody tr th:only-of-type {\n",
              "        vertical-align: middle;\n",
              "    }\n",
              "\n",
              "    .dataframe tbody tr th {\n",
              "        vertical-align: top;\n",
              "    }\n",
              "\n",
              "    .dataframe thead th {\n",
              "        text-align: right;\n",
              "    }\n",
              "</style>\n",
              "<table border=\"1\" class=\"dataframe\">\n",
              "  <thead>\n",
              "    <tr style=\"text-align: right;\">\n",
              "      <th></th>\n",
              "      <th>nome</th>\n",
              "      <th>endereco</th>\n",
              "      <th>telefone</th>\n",
              "    </tr>\n",
              "  </thead>\n",
              "  <tbody>\n",
              "    <tr>\n",
              "      <th>0</th>\n",
              "      <td>FORMAGGIO PIZZA DELIVERY</td>\n",
              "      <td>Rod João Leme dos Santos, 1668 - Km 102,5 -...</td>\n",
              "      <td>(15) 3232-5550 ,   (15) 99179-0298</td>\n",
              "    </tr>\n",
              "    <tr>\n",
              "      <th>1</th>\n",
              "      <td>PIZZARIA CASERITA</td>\n",
              "      <td>R Polônia, 135 - Jardim Europa -  ,  Soroca...</td>\n",
              "      <td>(15) 2104-2468 ,   (15) 3011-7099</td>\n",
              "    </tr>\n",
              "    <tr>\n",
              "      <th>2</th>\n",
              "      <td>PIZZARIA LIGEIRINHO</td>\n",
              "      <td>R Romeu Antônio Caruso, 96 - Jardim Santa B...</td>\n",
              "      <td>(15) 3021-4485</td>\n",
              "    </tr>\n",
              "    <tr>\n",
              "      <th>3</th>\n",
              "      <td>CARTOLA PIZZARIA</td>\n",
              "      <td>R Padre Luiz, 626 - Centro -  ,  Sorocaba ,...</td>\n",
              "      <td>(15) 3018-0353 ,   (15) 3016-0282 ,   (15) ...</td>\n",
              "    </tr>\n",
              "    <tr>\n",
              "      <th>4</th>\n",
              "      <td>PIZZARIA JÚNIOR</td>\n",
              "      <td>Av Angélica, 431 - Vila Angélica -  ,  Soro...</td>\n",
              "      <td>(15) 3213-5590</td>\n",
              "    </tr>\n",
              "  </tbody>\n",
              "</table>\n",
              "</div>"
            ],
            "text/plain": [
              "                       nome  ...                                           telefone\n",
              "0  FORMAGGIO PIZZA DELIVERY  ...               (15) 3232-5550 ,   (15) 99179-0298  \n",
              "1         PIZZARIA CASERITA  ...                (15) 2104-2468 ,   (15) 3011-7099  \n",
              "2       PIZZARIA LIGEIRINHO  ...                                   (15) 3021-4485  \n",
              "3          CARTOLA PIZZARIA  ...     (15) 3018-0353 ,   (15) 3016-0282 ,   (15) ...\n",
              "4           PIZZARIA JÚNIOR  ...                                   (15) 3213-5590  \n",
              "\n",
              "[5 rows x 3 columns]"
            ]
          },
          "metadata": {
            "tags": []
          },
          "execution_count": 83
        }
      ]
    },
    {
      "cell_type": "code",
      "metadata": {
        "id": "D9-DP_TnPtRp",
        "colab_type": "code",
        "colab": {
          "base_uri": "https://localhost:8080/",
          "height": 34
        },
        "outputId": "89c92f05-5b73-4459-9011-ce475f6d52c2"
      },
      "source": [
        "database.shape"
      ],
      "execution_count": 84,
      "outputs": [
        {
          "output_type": "execute_result",
          "data": {
            "text/plain": [
              "(200, 3)"
            ]
          },
          "metadata": {
            "tags": []
          },
          "execution_count": 84
        }
      ]
    },
    {
      "cell_type": "code",
      "metadata": {
        "id": "CSYotyVePx6Z",
        "colab_type": "code",
        "colab": {
          "base_uri": "https://localhost:8080/",
          "height": 153
        },
        "outputId": "a4f72753-1b35-4825-b744-14be90ed1043"
      },
      "source": [
        "database.info()"
      ],
      "execution_count": 85,
      "outputs": [
        {
          "output_type": "stream",
          "text": [
            "<class 'pandas.core.frame.DataFrame'>\n",
            "RangeIndex: 200 entries, 0 to 199\n",
            "Data columns (total 3 columns):\n",
            "nome        200 non-null object\n",
            "endereco    200 non-null object\n",
            "telefone    200 non-null object\n",
            "dtypes: object(3)\n",
            "memory usage: 4.8+ KB\n"
          ],
          "name": "stdout"
        }
      ]
    },
    {
      "cell_type": "code",
      "metadata": {
        "id": "rvEvCFX8SVm8",
        "colab_type": "code",
        "colab": {
          "base_uri": "https://localhost:8080/",
          "height": 34
        },
        "outputId": "5538a0ff-e456-456e-83cf-a0b103a78e4c"
      },
      "source": [
        "database.isnull().values.any()"
      ],
      "execution_count": 86,
      "outputs": [
        {
          "output_type": "execute_result",
          "data": {
            "text/plain": [
              "False"
            ]
          },
          "metadata": {
            "tags": []
          },
          "execution_count": 86
        }
      ]
    },
    {
      "cell_type": "code",
      "metadata": {
        "id": "NrBu74ROSa7r",
        "colab_type": "code",
        "colab": {
          "base_uri": "https://localhost:8080/",
          "height": 34
        },
        "outputId": "b9eb6e14-724c-44ea-9981-5548988d0d8b"
      },
      "source": [
        "df.isnull().sum().sum()"
      ],
      "execution_count": 87,
      "outputs": [
        {
          "output_type": "execute_result",
          "data": {
            "text/plain": [
              "0"
            ]
          },
          "metadata": {
            "tags": []
          },
          "execution_count": 87
        }
      ]
    },
    {
      "cell_type": "code",
      "metadata": {
        "id": "CXCM3DxCSjKb",
        "colab_type": "code",
        "colab": {
          "base_uri": "https://localhost:8080/",
          "height": 85
        },
        "outputId": "207a95df-0f08-4202-bd90-2b6d1ec8608e"
      },
      "source": [
        "df.isnull().sum()"
      ],
      "execution_count": 88,
      "outputs": [
        {
          "output_type": "execute_result",
          "data": {
            "text/plain": [
              "nome        0\n",
              "endereco    0\n",
              "telefone    0\n",
              "dtype: int64"
            ]
          },
          "metadata": {
            "tags": []
          },
          "execution_count": 88
        }
      ]
    },
    {
      "cell_type": "code",
      "metadata": {
        "id": "3_c-zaQqSrZt",
        "colab_type": "code",
        "colab": {
          "base_uri": "https://localhost:8080/",
          "height": 142
        },
        "outputId": "292c5ff1-304e-4946-b784-e409fb7a4546"
      },
      "source": [
        "database.head(n = 3)"
      ],
      "execution_count": 89,
      "outputs": [
        {
          "output_type": "execute_result",
          "data": {
            "text/html": [
              "<div>\n",
              "<style scoped>\n",
              "    .dataframe tbody tr th:only-of-type {\n",
              "        vertical-align: middle;\n",
              "    }\n",
              "\n",
              "    .dataframe tbody tr th {\n",
              "        vertical-align: top;\n",
              "    }\n",
              "\n",
              "    .dataframe thead th {\n",
              "        text-align: right;\n",
              "    }\n",
              "</style>\n",
              "<table border=\"1\" class=\"dataframe\">\n",
              "  <thead>\n",
              "    <tr style=\"text-align: right;\">\n",
              "      <th></th>\n",
              "      <th>nome</th>\n",
              "      <th>endereco</th>\n",
              "      <th>telefone</th>\n",
              "    </tr>\n",
              "  </thead>\n",
              "  <tbody>\n",
              "    <tr>\n",
              "      <th>0</th>\n",
              "      <td>FORMAGGIO PIZZA DELIVERY</td>\n",
              "      <td>Rod João Leme dos Santos, 1668 - Km 102,5 -...</td>\n",
              "      <td>(15) 3232-5550 ,   (15) 99179-0298</td>\n",
              "    </tr>\n",
              "    <tr>\n",
              "      <th>1</th>\n",
              "      <td>PIZZARIA CASERITA</td>\n",
              "      <td>R Polônia, 135 - Jardim Europa -  ,  Soroca...</td>\n",
              "      <td>(15) 2104-2468 ,   (15) 3011-7099</td>\n",
              "    </tr>\n",
              "    <tr>\n",
              "      <th>2</th>\n",
              "      <td>PIZZARIA LIGEIRINHO</td>\n",
              "      <td>R Romeu Antônio Caruso, 96 - Jardim Santa B...</td>\n",
              "      <td>(15) 3021-4485</td>\n",
              "    </tr>\n",
              "  </tbody>\n",
              "</table>\n",
              "</div>"
            ],
            "text/plain": [
              "                       nome  ...                                 telefone\n",
              "0  FORMAGGIO PIZZA DELIVERY  ...     (15) 3232-5550 ,   (15) 99179-0298  \n",
              "1         PIZZARIA CASERITA  ...      (15) 2104-2468 ,   (15) 3011-7099  \n",
              "2       PIZZARIA LIGEIRINHO  ...                         (15) 3021-4485  \n",
              "\n",
              "[3 rows x 3 columns]"
            ]
          },
          "metadata": {
            "tags": []
          },
          "execution_count": 89
        }
      ]
    },
    {
      "cell_type": "code",
      "metadata": {
        "id": "SUs3-iOFTakz",
        "colab_type": "code",
        "colab": {}
      },
      "source": [
        "database.to_excel(\"/drive/My Drive/Colab Notebooks/Datasets/pizzarias_final.xlsx\")"
      ],
      "execution_count": 0,
      "outputs": []
    }
  ]
}
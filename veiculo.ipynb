{
  "nbformat": 4,
  "nbformat_minor": 0,
  "metadata": {
    "colab": {
      "name": "veiculo.ipynb",
      "provenance": [],
      "collapsed_sections": [],
      "toc_visible": true,
      "include_colab_link": true
    },
    "kernelspec": {
      "name": "python3",
      "display_name": "Python 3"
    }
  },
  "cells": [
    {
      "cell_type": "markdown",
      "metadata": {
        "id": "view-in-github",
        "colab_type": "text"
      },
      "source": [
        "<a href=\"https://colab.research.google.com/github/Andrade-Douglas/Data-Science/blob/master/veiculo.ipynb\" target=\"_parent\"><img src=\"https://colab.research.google.com/assets/colab-badge.svg\" alt=\"Open In Colab\"/></a>"
      ]
    },
    {
      "cell_type": "markdown",
      "metadata": {
        "id": "Xi3HB4_4c_Z9",
        "colab_type": "text"
      },
      "source": [
        "# **Orientação Objetos - Python**"
      ]
    },
    {
      "cell_type": "code",
      "metadata": {
        "id": "jBp-Vrs78agM",
        "colab_type": "code",
        "colab": {}
      },
      "source": [
        "from google.colab import drive\n",
        "drive.mount('/drive')\n",
        "%cd /gdrive"
      ],
      "execution_count": 0,
      "outputs": []
    },
    {
      "cell_type": "code",
      "metadata": {
        "id": "Zpg0XVMcYbSI",
        "colab_type": "code",
        "colab": {}
      },
      "source": [
        "class Veiculo:\n",
        "  def __init__(self):\n",
        "    self.cor = 'Preto'\n",
        "    self.velocidade = 0\n",
        "    self.numero_rodas = 0\n",
        "\n",
        "  def aumentar_velocidade(self, velocidade):\n",
        "    self.velocidade += velocidade\n",
        "    print('Rodando a %s Km/h' % self.velocidade)\n",
        "\n",
        "  def parar(self):\n",
        "    self.velocidade = 0\n",
        "    print('Parado!')\n",
        "\n",
        "  def buzinar(self):\n",
        "    print('Bii Bii')"
      ],
      "execution_count": 0,
      "outputs": []
    },
    {
      "cell_type": "code",
      "metadata": {
        "id": "Mex99KTLZNtk",
        "colab_type": "code",
        "colab": {}
      },
      "source": [
        "bicicleta = Veiculo()"
      ],
      "execution_count": 0,
      "outputs": []
    },
    {
      "cell_type": "code",
      "metadata": {
        "id": "wSGPnHbyZSCK",
        "colab_type": "code",
        "colab": {
          "base_uri": "https://localhost:8080/",
          "height": 34
        },
        "outputId": "2a1fc712-333e-4c35-9565-0ec072a79404"
      },
      "source": [
        "bicicleta.cor"
      ],
      "execution_count": 3,
      "outputs": [
        {
          "output_type": "execute_result",
          "data": {
            "text/plain": [
              "'Preto'"
            ]
          },
          "metadata": {
            "tags": []
          },
          "execution_count": 3
        }
      ]
    },
    {
      "cell_type": "code",
      "metadata": {
        "id": "yBmLhYi8ZT1q",
        "colab_type": "code",
        "colab": {
          "base_uri": "https://localhost:8080/",
          "height": 34
        },
        "outputId": "8e73fe5a-f8ca-4427-9b30-ddec0175e231"
      },
      "source": [
        "bicicleta.velocidade"
      ],
      "execution_count": 4,
      "outputs": [
        {
          "output_type": "execute_result",
          "data": {
            "text/plain": [
              "0"
            ]
          },
          "metadata": {
            "tags": []
          },
          "execution_count": 4
        }
      ]
    },
    {
      "cell_type": "code",
      "metadata": {
        "id": "PK7YDc_9ZVvy",
        "colab_type": "code",
        "colab": {
          "base_uri": "https://localhost:8080/",
          "height": 34
        },
        "outputId": "14461497-3a1b-47b6-b748-4afa3407c1b9"
      },
      "source": [
        "bicicleta.numero_rodas"
      ],
      "execution_count": 5,
      "outputs": [
        {
          "output_type": "execute_result",
          "data": {
            "text/plain": [
              "0"
            ]
          },
          "metadata": {
            "tags": []
          },
          "execution_count": 5
        }
      ]
    },
    {
      "cell_type": "code",
      "metadata": {
        "id": "1tENzDjCZXLa",
        "colab_type": "code",
        "colab": {
          "base_uri": "https://localhost:8080/",
          "height": 34
        },
        "outputId": "1d693539-b73d-409a-a9a3-040e4f6e3a41"
      },
      "source": [
        "bicicleta.aumentar_velocidade(15)"
      ],
      "execution_count": 6,
      "outputs": [
        {
          "output_type": "stream",
          "text": [
            "Rodando a 15 Km/h\n"
          ],
          "name": "stdout"
        }
      ]
    },
    {
      "cell_type": "code",
      "metadata": {
        "id": "eJ-K1JVtZa-K",
        "colab_type": "code",
        "colab": {
          "base_uri": "https://localhost:8080/",
          "height": 34
        },
        "outputId": "d1ad6970-6533-4024-8c59-5d590e63036a"
      },
      "source": [
        "bicicleta.parar()"
      ],
      "execution_count": 10,
      "outputs": [
        {
          "output_type": "stream",
          "text": [
            "Parado!\n"
          ],
          "name": "stdout"
        }
      ]
    },
    {
      "cell_type": "code",
      "metadata": {
        "id": "MH9IOmPcZeDC",
        "colab_type": "code",
        "colab": {
          "base_uri": "https://localhost:8080/",
          "height": 34
        },
        "outputId": "143dc689-d7dc-4cab-a3ab-3d60f8c1b5cd"
      },
      "source": [
        "bicicleta.buzinar()"
      ],
      "execution_count": 11,
      "outputs": [
        {
          "output_type": "stream",
          "text": [
            "Bii Bii\n"
          ],
          "name": "stdout"
        }
      ]
    },
    {
      "cell_type": "code",
      "metadata": {
        "id": "ItntkfUvZltL",
        "colab_type": "code",
        "colab": {}
      },
      "source": [
        "class Bicicleta(Veiculo):\n",
        "\n",
        "  def __init__(self):\n",
        "    Veiculo.__init__(self)\n",
        "    self.numero_rodas = 2\n",
        "\n",
        "  def buzinar(self):\n",
        "    print('Triiim triiim')"
      ],
      "execution_count": 0,
      "outputs": []
    },
    {
      "cell_type": "code",
      "metadata": {
        "id": "oyX6QAQocUm5",
        "colab_type": "code",
        "colab": {}
      },
      "source": [
        "bmx = Bicicleta()\n",
        "mountain_bike = Bicicleta()"
      ],
      "execution_count": 0,
      "outputs": []
    },
    {
      "cell_type": "code",
      "metadata": {
        "id": "MNdKuAYxcenk",
        "colab_type": "code",
        "colab": {
          "base_uri": "https://localhost:8080/",
          "height": 34
        },
        "outputId": "38f1bca2-37f1-4e2b-eac9-2afe9287d934"
      },
      "source": [
        "bmx.cor = 'Azul'\n",
        "bmx.cor"
      ],
      "execution_count": 17,
      "outputs": [
        {
          "output_type": "execute_result",
          "data": {
            "text/plain": [
              "'Azul'"
            ]
          },
          "metadata": {
            "tags": []
          },
          "execution_count": 17
        }
      ]
    },
    {
      "cell_type": "code",
      "metadata": {
        "id": "yvvEyfJWcjGn",
        "colab_type": "code",
        "colab": {
          "base_uri": "https://localhost:8080/",
          "height": 34
        },
        "outputId": "941ec8c3-f8ec-4c71-8b2d-22b15d263dc8"
      },
      "source": [
        "mountain_bike = 'Amarelo'\n",
        "mountain_bike"
      ],
      "execution_count": 18,
      "outputs": [
        {
          "output_type": "execute_result",
          "data": {
            "text/plain": [
              "'Amarelo'"
            ]
          },
          "metadata": {
            "tags": []
          },
          "execution_count": 18
        }
      ]
    },
    {
      "cell_type": "code",
      "metadata": {
        "id": "gxaqnSgdcvhv",
        "colab_type": "code",
        "colab": {
          "base_uri": "https://localhost:8080/",
          "height": 34
        },
        "outputId": "f5fe2b3a-5df4-4028-fcf0-2ff0df67cbb4"
      },
      "source": [
        "bmx.buzinar()"
      ],
      "execution_count": 19,
      "outputs": [
        {
          "output_type": "stream",
          "text": [
            "Triiim triiim\n"
          ],
          "name": "stdout"
        }
      ]
    }
  ]
}
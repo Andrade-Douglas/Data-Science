{
  "nbformat": 4,
  "nbformat_minor": 0,
  "metadata": {
    "colab": {
      "name": "veiculo.ipynb",
      "provenance": [],
      "collapsed_sections": [],
      "toc_visible": true,
      "include_colab_link": true
    },
    "kernelspec": {
      "name": "python3",
      "display_name": "Python 3"
    }
  },
  "cells": [
    {
      "cell_type": "markdown",
      "metadata": {
        "id": "view-in-github",
        "colab_type": "text"
      },
      "source": [
        "<a href=\"https://colab.research.google.com/github/Andrade-Douglas/Data-Science/blob/master/veiculo.ipynb\" target=\"_parent\"><img src=\"https://colab.research.google.com/assets/colab-badge.svg\" alt=\"Open In Colab\"/></a>"
      ]
    },
    {
      "cell_type": "markdown",
      "metadata": {
        "id": "Xi3HB4_4c_Z9",
        "colab_type": "text"
      },
      "source": [
        "# **Orientação Objetos - Python**"
      ]
    },
    {
      "cell_type": "code",
      "metadata": {
        "id": "jBp-Vrs78agM",
        "colab_type": "code",
        "colab": {}
      },
      "source": [
        "from google.colab import drive\n",
        "drive.mount('/gdrive')\n",
        "%cd /gdrive"
      ],
      "execution_count": 0,
      "outputs": []
    },
    {
      "cell_type": "code",
      "metadata": {
        "id": "Zpg0XVMcYbSI",
        "colab_type": "code",
        "colab": {}
      },
      "source": [
        "class Veiculo:\n",
        "  def __init__(self):\n",
        "    self.cor = 'Preto'\n",
        "    self.velocidade = 0\n",
        "    self.numero_rodas = 0\n",
        "\n",
        "  def aumentar_velocidade(self, velocidade):\n",
        "    self.velocidade += velocidade\n",
        "    print('Rodando a %s Km/h' % self.velocidade)\n",
        "\n",
        "  def parar(self):\n",
        "    self.velocidade = 0\n",
        "    print('Parado!')\n",
        "\n",
        "  def buzinar(self):\n",
        "    print('Bii Bii')"
      ],
      "execution_count": 0,
      "outputs": []
    },
    {
      "cell_type": "code",
      "metadata": {
        "id": "Mex99KTLZNtk",
        "colab_type": "code",
        "colab": {}
      },
      "source": [
        "bicicleta = Veiculo()"
      ],
      "execution_count": 0,
      "outputs": []
    },
    {
      "cell_type": "code",
      "metadata": {
        "id": "wSGPnHbyZSCK",
        "colab_type": "code",
        "outputId": "79a975cd-5747-4de7-bbc5-8c2099561c2f",
        "colab": {
          "base_uri": "https://localhost:8080/",
          "height": 34
        }
      },
      "source": [
        "bicicleta.cor"
      ],
      "execution_count": 27,
      "outputs": [
        {
          "output_type": "execute_result",
          "data": {
            "text/plain": [
              "'Preto'"
            ]
          },
          "metadata": {
            "tags": []
          },
          "execution_count": 27
        }
      ]
    },
    {
      "cell_type": "code",
      "metadata": {
        "id": "yBmLhYi8ZT1q",
        "colab_type": "code",
        "outputId": "303cf325-6de5-42b0-cf74-1bfa783cb8d3",
        "colab": {
          "base_uri": "https://localhost:8080/",
          "height": 34
        }
      },
      "source": [
        "bicicleta.velocidade"
      ],
      "execution_count": 28,
      "outputs": [
        {
          "output_type": "execute_result",
          "data": {
            "text/plain": [
              "0"
            ]
          },
          "metadata": {
            "tags": []
          },
          "execution_count": 28
        }
      ]
    },
    {
      "cell_type": "code",
      "metadata": {
        "id": "PK7YDc_9ZVvy",
        "colab_type": "code",
        "outputId": "4c289837-3405-4ca0-cd88-40da3930bd46",
        "colab": {
          "base_uri": "https://localhost:8080/",
          "height": 34
        }
      },
      "source": [
        "bicicleta.numero_rodas"
      ],
      "execution_count": 29,
      "outputs": [
        {
          "output_type": "execute_result",
          "data": {
            "text/plain": [
              "0"
            ]
          },
          "metadata": {
            "tags": []
          },
          "execution_count": 29
        }
      ]
    },
    {
      "cell_type": "code",
      "metadata": {
        "id": "1tENzDjCZXLa",
        "colab_type": "code",
        "outputId": "f270de4e-97bf-4d37-9c52-a80c7bbb3961",
        "colab": {
          "base_uri": "https://localhost:8080/",
          "height": 34
        }
      },
      "source": [
        "bicicleta.aumentar_velocidade(15)"
      ],
      "execution_count": 30,
      "outputs": [
        {
          "output_type": "stream",
          "text": [
            "Rodando a 15 Km/h\n"
          ],
          "name": "stdout"
        }
      ]
    },
    {
      "cell_type": "code",
      "metadata": {
        "id": "eJ-K1JVtZa-K",
        "colab_type": "code",
        "outputId": "ee07521a-1452-443b-8e85-62ff564636b7",
        "colab": {
          "base_uri": "https://localhost:8080/",
          "height": 34
        }
      },
      "source": [
        "bicicleta.parar()"
      ],
      "execution_count": 31,
      "outputs": [
        {
          "output_type": "stream",
          "text": [
            "Parado!\n"
          ],
          "name": "stdout"
        }
      ]
    },
    {
      "cell_type": "code",
      "metadata": {
        "id": "MH9IOmPcZeDC",
        "colab_type": "code",
        "outputId": "8eec45e9-bd94-49e2-f7f1-378c80818b83",
        "colab": {
          "base_uri": "https://localhost:8080/",
          "height": 34
        }
      },
      "source": [
        "bicicleta.buzinar()"
      ],
      "execution_count": 32,
      "outputs": [
        {
          "output_type": "stream",
          "text": [
            "Bii Bii\n"
          ],
          "name": "stdout"
        }
      ]
    },
    {
      "cell_type": "code",
      "metadata": {
        "id": "ItntkfUvZltL",
        "colab_type": "code",
        "colab": {}
      },
      "source": [
        "class Bicicleta(Veiculo):\n",
        "\n",
        "  def __init__(self):\n",
        "    Veiculo.__init__(self)\n",
        "    self.numero_rodas = 2\n",
        "\n",
        "  def buzinar(self):\n",
        "    print('Triiim triiim')"
      ],
      "execution_count": 0,
      "outputs": []
    },
    {
      "cell_type": "code",
      "metadata": {
        "id": "oyX6QAQocUm5",
        "colab_type": "code",
        "colab": {}
      },
      "source": [
        "bmx = Bicicleta()\n",
        "mountain_bike = Bicicleta()"
      ],
      "execution_count": 0,
      "outputs": []
    },
    {
      "cell_type": "code",
      "metadata": {
        "id": "MNdKuAYxcenk",
        "colab_type": "code",
        "outputId": "5f653c23-31e1-4114-f438-2c696ba775fe",
        "colab": {
          "base_uri": "https://localhost:8080/",
          "height": 34
        }
      },
      "source": [
        "bmx.cor = 'Azul'\n",
        "bmx.cor"
      ],
      "execution_count": 35,
      "outputs": [
        {
          "output_type": "execute_result",
          "data": {
            "text/plain": [
              "'Azul'"
            ]
          },
          "metadata": {
            "tags": []
          },
          "execution_count": 35
        }
      ]
    },
    {
      "cell_type": "code",
      "metadata": {
        "id": "yvvEyfJWcjGn",
        "colab_type": "code",
        "outputId": "38fe698c-3c8f-421f-941a-628c24b18382",
        "colab": {
          "base_uri": "https://localhost:8080/",
          "height": 34
        }
      },
      "source": [
        "mountain_bike = 'Amarelo'\n",
        "mountain_bike"
      ],
      "execution_count": 36,
      "outputs": [
        {
          "output_type": "execute_result",
          "data": {
            "text/plain": [
              "'Amarelo'"
            ]
          },
          "metadata": {
            "tags": []
          },
          "execution_count": 36
        }
      ]
    },
    {
      "cell_type": "code",
      "metadata": {
        "id": "gxaqnSgdcvhv",
        "colab_type": "code",
        "outputId": "77efa128-cf6b-4b4e-b62e-ff71251b6c5b",
        "colab": {
          "base_uri": "https://localhost:8080/",
          "height": 34
        }
      },
      "source": [
        "bmx.buzinar()"
      ],
      "execution_count": 37,
      "outputs": [
        {
          "output_type": "stream",
          "text": [
            "Triiim triiim\n"
          ],
          "name": "stdout"
        }
      ]
    },
    {
      "cell_type": "code",
      "metadata": {
        "id": "aIS0QRVp9Oda",
        "colab_type": "code",
        "colab": {}
      },
      "source": [
        ""
      ],
      "execution_count": 0,
      "outputs": []
    }
  ]
}
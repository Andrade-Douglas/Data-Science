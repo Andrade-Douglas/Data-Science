{
  "nbformat": 4,
  "nbformat_minor": 0,
  "metadata": {
    "colab": {
      "name": "Machine Learning - KNN.ipynb",
      "provenance": [],
      "collapsed_sections": [],
      "include_colab_link": true
    },
    "kernelspec": {
      "name": "python3",
      "display_name": "Python 3"
    }
  },
  "cells": [
    {
      "cell_type": "markdown",
      "metadata": {
        "id": "view-in-github",
        "colab_type": "text"
      },
      "source": [
        "<a href=\"https://colab.research.google.com/github/Andrade-Douglas/Data-Science/blob/master/Machine_Learning_KNN.ipynb\" target=\"_parent\"><img src=\"https://colab.research.google.com/assets/colab-badge.svg\" alt=\"Open In Colab\"/></a>"
      ]
    },
    {
      "cell_type": "code",
      "metadata": {
        "id": "WswiIpjJLxaT",
        "colab_type": "code",
        "colab": {}
      },
      "source": [
        "from google.colab import drive\n",
        "drive.mount('/gdrive')\n",
        "%cd /gdrive"
      ],
      "execution_count": 0,
      "outputs": []
    },
    {
      "cell_type": "markdown",
      "metadata": {
        "id": "40MB0cByMABt",
        "colab_type": "text"
      },
      "source": [
        "# **Machine Learning - KNN**"
      ]
    },
    {
      "cell_type": "markdown",
      "metadata": {
        "id": "kF4ewsh4NQdd",
        "colab_type": "text"
      },
      "source": [
        "Importando as bibliotecas"
      ]
    },
    {
      "cell_type": "code",
      "metadata": {
        "id": "8yR4jQczLOL1",
        "colab_type": "code",
        "colab": {}
      },
      "source": [
        "from sklearn import datasets\n",
        "import pandas as pd\n",
        "import matplotlib.pyplot as plt"
      ],
      "execution_count": 0,
      "outputs": []
    },
    {
      "cell_type": "code",
      "metadata": {
        "id": "UKRdRJhEMN54",
        "colab_type": "code",
        "colab": {
          "base_uri": "https://localhost:8080/",
          "height": 255
        },
        "outputId": "d2c763b7-a1a9-45e6-b1a3-3124cd07fc1d"
      },
      "source": [
        "!pip install mlxtend"
      ],
      "execution_count": 6,
      "outputs": [
        {
          "output_type": "stream",
          "text": [
            "Requirement already satisfied: mlxtend in /usr/local/lib/python3.6/dist-packages (0.14.0)\n",
            "Requirement already satisfied: scikit-learn>=0.18 in /usr/local/lib/python3.6/dist-packages (from mlxtend) (0.21.3)\n",
            "Requirement already satisfied: pandas>=0.17.1 in /usr/local/lib/python3.6/dist-packages (from mlxtend) (0.24.2)\n",
            "Requirement already satisfied: setuptools in /usr/local/lib/python3.6/dist-packages (from mlxtend) (41.2.0)\n",
            "Requirement already satisfied: numpy>=1.10.4 in /usr/local/lib/python3.6/dist-packages (from mlxtend) (1.16.5)\n",
            "Requirement already satisfied: matplotlib>=1.5.1 in /usr/local/lib/python3.6/dist-packages (from mlxtend) (3.0.3)\n",
            "Requirement already satisfied: scipy>=0.17 in /usr/local/lib/python3.6/dist-packages (from mlxtend) (1.3.1)\n",
            "Requirement already satisfied: joblib>=0.11 in /usr/local/lib/python3.6/dist-packages (from scikit-learn>=0.18->mlxtend) (0.13.2)\n",
            "Requirement already satisfied: python-dateutil>=2.5.0 in /usr/local/lib/python3.6/dist-packages (from pandas>=0.17.1->mlxtend) (2.5.3)\n",
            "Requirement already satisfied: pytz>=2011k in /usr/local/lib/python3.6/dist-packages (from pandas>=0.17.1->mlxtend) (2018.9)\n",
            "Requirement already satisfied: pyparsing!=2.0.4,!=2.1.2,!=2.1.6,>=2.0.1 in /usr/local/lib/python3.6/dist-packages (from matplotlib>=1.5.1->mlxtend) (2.4.2)\n",
            "Requirement already satisfied: cycler>=0.10 in /usr/local/lib/python3.6/dist-packages (from matplotlib>=1.5.1->mlxtend) (0.10.0)\n",
            "Requirement already satisfied: kiwisolver>=1.0.1 in /usr/local/lib/python3.6/dist-packages (from matplotlib>=1.5.1->mlxtend) (1.1.0)\n",
            "Requirement already satisfied: six>=1.5 in /usr/local/lib/python3.6/dist-packages (from python-dateutil>=2.5.0->pandas>=0.17.1->mlxtend) (1.12.0)\n"
          ],
          "name": "stdout"
        }
      ]
    },
    {
      "cell_type": "markdown",
      "metadata": {
        "id": "waCj4fqfNLfN",
        "colab_type": "text"
      },
      "source": [
        "Carregando Base de Dados"
      ]
    },
    {
      "cell_type": "code",
      "metadata": {
        "id": "WRRgHUSLMzfC",
        "colab_type": "code",
        "colab": {}
      },
      "source": [
        "wine = datasets.load_wine()"
      ],
      "execution_count": 0,
      "outputs": []
    },
    {
      "cell_type": "markdown",
      "metadata": {
        "id": "Oh8rUfPlNXFF",
        "colab_type": "text"
      },
      "source": [
        "Criando o Dataframe"
      ]
    },
    {
      "cell_type": "code",
      "metadata": {
        "id": "9FqcSQlVNVyK",
        "colab_type": "code",
        "colab": {}
      },
      "source": [
        "df_wine = pd.DataFrame(data=wine.data, columns=wine.feature_names)"
      ],
      "execution_count": 0,
      "outputs": []
    },
    {
      "cell_type": "code",
      "metadata": {
        "id": "Wu6s7vPxNkVj",
        "colab_type": "code",
        "colab": {}
      },
      "source": [
        "df_wine['class'] = wine.target"
      ],
      "execution_count": 0,
      "outputs": []
    },
    {
      "cell_type": "markdown",
      "metadata": {
        "id": "l-hFlVOINmGF",
        "colab_type": "text"
      },
      "source": [
        "Veriricando dos dados"
      ]
    },
    {
      "cell_type": "code",
      "metadata": {
        "id": "VpsJPLbRNt5S",
        "colab_type": "code",
        "colab": {
          "base_uri": "https://localhost:8080/",
          "height": 204
        },
        "outputId": "be31a192-76ed-4545-9249-2edc34c43609"
      },
      "source": [
        "df_wine.head()"
      ],
      "execution_count": 10,
      "outputs": [
        {
          "output_type": "execute_result",
          "data": {
            "text/html": [
              "<div>\n",
              "<style scoped>\n",
              "    .dataframe tbody tr th:only-of-type {\n",
              "        vertical-align: middle;\n",
              "    }\n",
              "\n",
              "    .dataframe tbody tr th {\n",
              "        vertical-align: top;\n",
              "    }\n",
              "\n",
              "    .dataframe thead th {\n",
              "        text-align: right;\n",
              "    }\n",
              "</style>\n",
              "<table border=\"1\" class=\"dataframe\">\n",
              "  <thead>\n",
              "    <tr style=\"text-align: right;\">\n",
              "      <th></th>\n",
              "      <th>alcohol</th>\n",
              "      <th>malic_acid</th>\n",
              "      <th>ash</th>\n",
              "      <th>alcalinity_of_ash</th>\n",
              "      <th>magnesium</th>\n",
              "      <th>total_phenols</th>\n",
              "      <th>flavanoids</th>\n",
              "      <th>nonflavanoid_phenols</th>\n",
              "      <th>proanthocyanins</th>\n",
              "      <th>color_intensity</th>\n",
              "      <th>hue</th>\n",
              "      <th>od280/od315_of_diluted_wines</th>\n",
              "      <th>proline</th>\n",
              "      <th>class</th>\n",
              "    </tr>\n",
              "  </thead>\n",
              "  <tbody>\n",
              "    <tr>\n",
              "      <th>0</th>\n",
              "      <td>14.23</td>\n",
              "      <td>1.71</td>\n",
              "      <td>2.43</td>\n",
              "      <td>15.6</td>\n",
              "      <td>127.0</td>\n",
              "      <td>2.80</td>\n",
              "      <td>3.06</td>\n",
              "      <td>0.28</td>\n",
              "      <td>2.29</td>\n",
              "      <td>5.64</td>\n",
              "      <td>1.04</td>\n",
              "      <td>3.92</td>\n",
              "      <td>1065.0</td>\n",
              "      <td>0</td>\n",
              "    </tr>\n",
              "    <tr>\n",
              "      <th>1</th>\n",
              "      <td>13.20</td>\n",
              "      <td>1.78</td>\n",
              "      <td>2.14</td>\n",
              "      <td>11.2</td>\n",
              "      <td>100.0</td>\n",
              "      <td>2.65</td>\n",
              "      <td>2.76</td>\n",
              "      <td>0.26</td>\n",
              "      <td>1.28</td>\n",
              "      <td>4.38</td>\n",
              "      <td>1.05</td>\n",
              "      <td>3.40</td>\n",
              "      <td>1050.0</td>\n",
              "      <td>0</td>\n",
              "    </tr>\n",
              "    <tr>\n",
              "      <th>2</th>\n",
              "      <td>13.16</td>\n",
              "      <td>2.36</td>\n",
              "      <td>2.67</td>\n",
              "      <td>18.6</td>\n",
              "      <td>101.0</td>\n",
              "      <td>2.80</td>\n",
              "      <td>3.24</td>\n",
              "      <td>0.30</td>\n",
              "      <td>2.81</td>\n",
              "      <td>5.68</td>\n",
              "      <td>1.03</td>\n",
              "      <td>3.17</td>\n",
              "      <td>1185.0</td>\n",
              "      <td>0</td>\n",
              "    </tr>\n",
              "    <tr>\n",
              "      <th>3</th>\n",
              "      <td>14.37</td>\n",
              "      <td>1.95</td>\n",
              "      <td>2.50</td>\n",
              "      <td>16.8</td>\n",
              "      <td>113.0</td>\n",
              "      <td>3.85</td>\n",
              "      <td>3.49</td>\n",
              "      <td>0.24</td>\n",
              "      <td>2.18</td>\n",
              "      <td>7.80</td>\n",
              "      <td>0.86</td>\n",
              "      <td>3.45</td>\n",
              "      <td>1480.0</td>\n",
              "      <td>0</td>\n",
              "    </tr>\n",
              "    <tr>\n",
              "      <th>4</th>\n",
              "      <td>13.24</td>\n",
              "      <td>2.59</td>\n",
              "      <td>2.87</td>\n",
              "      <td>21.0</td>\n",
              "      <td>118.0</td>\n",
              "      <td>2.80</td>\n",
              "      <td>2.69</td>\n",
              "      <td>0.39</td>\n",
              "      <td>1.82</td>\n",
              "      <td>4.32</td>\n",
              "      <td>1.04</td>\n",
              "      <td>2.93</td>\n",
              "      <td>735.0</td>\n",
              "      <td>0</td>\n",
              "    </tr>\n",
              "  </tbody>\n",
              "</table>\n",
              "</div>"
            ],
            "text/plain": [
              "   alcohol  malic_acid   ash  ...  od280/od315_of_diluted_wines  proline  class\n",
              "0    14.23        1.71  2.43  ...                          3.92   1065.0      0\n",
              "1    13.20        1.78  2.14  ...                          3.40   1050.0      0\n",
              "2    13.16        2.36  2.67  ...                          3.17   1185.0      0\n",
              "3    14.37        1.95  2.50  ...                          3.45   1480.0      0\n",
              "4    13.24        2.59  2.87  ...                          2.93    735.0      0\n",
              "\n",
              "[5 rows x 14 columns]"
            ]
          },
          "metadata": {
            "tags": []
          },
          "execution_count": 10
        }
      ]
    },
    {
      "cell_type": "markdown",
      "metadata": {
        "id": "WeS8sQFrN2FN",
        "colab_type": "text"
      },
      "source": [
        "Informações da Base de Dados"
      ]
    },
    {
      "cell_type": "code",
      "metadata": {
        "id": "m3o6vuaKNyA6",
        "colab_type": "code",
        "colab": {
          "base_uri": "https://localhost:8080/",
          "height": 340
        },
        "outputId": "d5068761-d10f-4b6c-bab6-e6a7cab6965d"
      },
      "source": [
        "df_wine.info()"
      ],
      "execution_count": 11,
      "outputs": [
        {
          "output_type": "stream",
          "text": [
            "<class 'pandas.core.frame.DataFrame'>\n",
            "RangeIndex: 178 entries, 0 to 177\n",
            "Data columns (total 14 columns):\n",
            "alcohol                         178 non-null float64\n",
            "malic_acid                      178 non-null float64\n",
            "ash                             178 non-null float64\n",
            "alcalinity_of_ash               178 non-null float64\n",
            "magnesium                       178 non-null float64\n",
            "total_phenols                   178 non-null float64\n",
            "flavanoids                      178 non-null float64\n",
            "nonflavanoid_phenols            178 non-null float64\n",
            "proanthocyanins                 178 non-null float64\n",
            "color_intensity                 178 non-null float64\n",
            "hue                             178 non-null float64\n",
            "od280/od315_of_diluted_wines    178 non-null float64\n",
            "proline                         178 non-null float64\n",
            "class                           178 non-null int64\n",
            "dtypes: float64(13), int64(1)\n",
            "memory usage: 19.5 KB\n"
          ],
          "name": "stdout"
        }
      ]
    },
    {
      "cell_type": "code",
      "metadata": {
        "id": "T8ACbYmoN456",
        "colab_type": "code",
        "colab": {
          "base_uri": "https://localhost:8080/",
          "height": 85
        },
        "outputId": "c33cdda3-bed6-466b-a08a-766edded9a54"
      },
      "source": [
        "df_wine['class'].value_counts()"
      ],
      "execution_count": 12,
      "outputs": [
        {
          "output_type": "execute_result",
          "data": {
            "text/plain": [
              "1    71\n",
              "0    59\n",
              "2    48\n",
              "Name: class, dtype: int64"
            ]
          },
          "metadata": {
            "tags": []
          },
          "execution_count": 12
        }
      ]
    },
    {
      "cell_type": "markdown",
      "metadata": {
        "id": "wrvwZ13wOgov",
        "colab_type": "text"
      },
      "source": [
        "Separando os dados de treino e teste"
      ]
    },
    {
      "cell_type": "code",
      "metadata": {
        "id": "HuRz9xEBN9F7",
        "colab_type": "code",
        "colab": {}
      },
      "source": [
        "from sklearn.model_selection import train_test_split"
      ],
      "execution_count": 0,
      "outputs": []
    },
    {
      "cell_type": "code",
      "metadata": {
        "id": "A8poAg9sOnz0",
        "colab_type": "code",
        "colab": {}
      },
      "source": [
        "X_train, X_test, y_train, y_test = train_test_split(df_wine.drop('class', axis=1), df_wine['class'], test_size=0.3)"
      ],
      "execution_count": 0,
      "outputs": []
    },
    {
      "cell_type": "code",
      "metadata": {
        "id": "HQBzqnuxPFZd",
        "colab_type": "code",
        "colab": {
          "base_uri": "https://localhost:8080/",
          "height": 142
        },
        "outputId": "ce5872a7-4863-4497-9134-8c8fa1c58346"
      },
      "source": [
        "X_train.head(3)"
      ],
      "execution_count": 20,
      "outputs": [
        {
          "output_type": "execute_result",
          "data": {
            "text/html": [
              "<div>\n",
              "<style scoped>\n",
              "    .dataframe tbody tr th:only-of-type {\n",
              "        vertical-align: middle;\n",
              "    }\n",
              "\n",
              "    .dataframe tbody tr th {\n",
              "        vertical-align: top;\n",
              "    }\n",
              "\n",
              "    .dataframe thead th {\n",
              "        text-align: right;\n",
              "    }\n",
              "</style>\n",
              "<table border=\"1\" class=\"dataframe\">\n",
              "  <thead>\n",
              "    <tr style=\"text-align: right;\">\n",
              "      <th></th>\n",
              "      <th>alcohol</th>\n",
              "      <th>malic_acid</th>\n",
              "      <th>ash</th>\n",
              "      <th>alcalinity_of_ash</th>\n",
              "      <th>magnesium</th>\n",
              "      <th>total_phenols</th>\n",
              "      <th>flavanoids</th>\n",
              "      <th>nonflavanoid_phenols</th>\n",
              "      <th>proanthocyanins</th>\n",
              "      <th>color_intensity</th>\n",
              "      <th>hue</th>\n",
              "      <th>od280/od315_of_diluted_wines</th>\n",
              "      <th>proline</th>\n",
              "    </tr>\n",
              "  </thead>\n",
              "  <tbody>\n",
              "    <tr>\n",
              "      <th>137</th>\n",
              "      <td>12.53</td>\n",
              "      <td>5.51</td>\n",
              "      <td>2.64</td>\n",
              "      <td>25.0</td>\n",
              "      <td>96.0</td>\n",
              "      <td>1.79</td>\n",
              "      <td>0.60</td>\n",
              "      <td>0.63</td>\n",
              "      <td>1.10</td>\n",
              "      <td>5.00</td>\n",
              "      <td>0.82</td>\n",
              "      <td>1.69</td>\n",
              "      <td>515.0</td>\n",
              "    </tr>\n",
              "    <tr>\n",
              "      <th>96</th>\n",
              "      <td>11.81</td>\n",
              "      <td>2.12</td>\n",
              "      <td>2.74</td>\n",
              "      <td>21.5</td>\n",
              "      <td>134.0</td>\n",
              "      <td>1.60</td>\n",
              "      <td>0.99</td>\n",
              "      <td>0.14</td>\n",
              "      <td>1.56</td>\n",
              "      <td>2.50</td>\n",
              "      <td>0.95</td>\n",
              "      <td>2.26</td>\n",
              "      <td>625.0</td>\n",
              "    </tr>\n",
              "    <tr>\n",
              "      <th>144</th>\n",
              "      <td>12.25</td>\n",
              "      <td>3.88</td>\n",
              "      <td>2.20</td>\n",
              "      <td>18.5</td>\n",
              "      <td>112.0</td>\n",
              "      <td>1.38</td>\n",
              "      <td>0.78</td>\n",
              "      <td>0.29</td>\n",
              "      <td>1.14</td>\n",
              "      <td>8.21</td>\n",
              "      <td>0.65</td>\n",
              "      <td>2.00</td>\n",
              "      <td>855.0</td>\n",
              "    </tr>\n",
              "  </tbody>\n",
              "</table>\n",
              "</div>"
            ],
            "text/plain": [
              "     alcohol  malic_acid   ash  ...   hue  od280/od315_of_diluted_wines  proline\n",
              "137    12.53        5.51  2.64  ...  0.82                          1.69    515.0\n",
              "96     11.81        2.12  2.74  ...  0.95                          2.26    625.0\n",
              "144    12.25        3.88  2.20  ...  0.65                          2.00    855.0\n",
              "\n",
              "[3 rows x 13 columns]"
            ]
          },
          "metadata": {
            "tags": []
          },
          "execution_count": 20
        }
      ]
    },
    {
      "cell_type": "code",
      "metadata": {
        "id": "dPkIlN5BPRSB",
        "colab_type": "code",
        "colab": {
          "base_uri": "https://localhost:8080/",
          "height": 142
        },
        "outputId": "d5aa3e1c-604c-4d3a-cda9-b296d69c5077"
      },
      "source": [
        "X_test.head(3)"
      ],
      "execution_count": 21,
      "outputs": [
        {
          "output_type": "execute_result",
          "data": {
            "text/html": [
              "<div>\n",
              "<style scoped>\n",
              "    .dataframe tbody tr th:only-of-type {\n",
              "        vertical-align: middle;\n",
              "    }\n",
              "\n",
              "    .dataframe tbody tr th {\n",
              "        vertical-align: top;\n",
              "    }\n",
              "\n",
              "    .dataframe thead th {\n",
              "        text-align: right;\n",
              "    }\n",
              "</style>\n",
              "<table border=\"1\" class=\"dataframe\">\n",
              "  <thead>\n",
              "    <tr style=\"text-align: right;\">\n",
              "      <th></th>\n",
              "      <th>alcohol</th>\n",
              "      <th>malic_acid</th>\n",
              "      <th>ash</th>\n",
              "      <th>alcalinity_of_ash</th>\n",
              "      <th>magnesium</th>\n",
              "      <th>total_phenols</th>\n",
              "      <th>flavanoids</th>\n",
              "      <th>nonflavanoid_phenols</th>\n",
              "      <th>proanthocyanins</th>\n",
              "      <th>color_intensity</th>\n",
              "      <th>hue</th>\n",
              "      <th>od280/od315_of_diluted_wines</th>\n",
              "      <th>proline</th>\n",
              "    </tr>\n",
              "  </thead>\n",
              "  <tbody>\n",
              "    <tr>\n",
              "      <th>55</th>\n",
              "      <td>13.56</td>\n",
              "      <td>1.73</td>\n",
              "      <td>2.46</td>\n",
              "      <td>20.5</td>\n",
              "      <td>116.0</td>\n",
              "      <td>2.96</td>\n",
              "      <td>2.78</td>\n",
              "      <td>0.2</td>\n",
              "      <td>2.45</td>\n",
              "      <td>6.25</td>\n",
              "      <td>0.98</td>\n",
              "      <td>3.03</td>\n",
              "      <td>1120.0</td>\n",
              "    </tr>\n",
              "    <tr>\n",
              "      <th>160</th>\n",
              "      <td>12.36</td>\n",
              "      <td>3.83</td>\n",
              "      <td>2.38</td>\n",
              "      <td>21.0</td>\n",
              "      <td>88.0</td>\n",
              "      <td>2.30</td>\n",
              "      <td>0.92</td>\n",
              "      <td>0.5</td>\n",
              "      <td>1.04</td>\n",
              "      <td>7.65</td>\n",
              "      <td>0.56</td>\n",
              "      <td>1.58</td>\n",
              "      <td>520.0</td>\n",
              "    </tr>\n",
              "    <tr>\n",
              "      <th>142</th>\n",
              "      <td>13.52</td>\n",
              "      <td>3.17</td>\n",
              "      <td>2.72</td>\n",
              "      <td>23.5</td>\n",
              "      <td>97.0</td>\n",
              "      <td>1.55</td>\n",
              "      <td>0.52</td>\n",
              "      <td>0.5</td>\n",
              "      <td>0.55</td>\n",
              "      <td>4.35</td>\n",
              "      <td>0.89</td>\n",
              "      <td>2.06</td>\n",
              "      <td>520.0</td>\n",
              "    </tr>\n",
              "  </tbody>\n",
              "</table>\n",
              "</div>"
            ],
            "text/plain": [
              "     alcohol  malic_acid   ash  ...   hue  od280/od315_of_diluted_wines  proline\n",
              "55     13.56        1.73  2.46  ...  0.98                          3.03   1120.0\n",
              "160    12.36        3.83  2.38  ...  0.56                          1.58    520.0\n",
              "142    13.52        3.17  2.72  ...  0.89                          2.06    520.0\n",
              "\n",
              "[3 rows x 13 columns]"
            ]
          },
          "metadata": {
            "tags": []
          },
          "execution_count": 21
        }
      ]
    },
    {
      "cell_type": "code",
      "metadata": {
        "id": "ikQLQ-E6PXsJ",
        "colab_type": "code",
        "colab": {
          "base_uri": "https://localhost:8080/",
          "height": 85
        },
        "outputId": "a8f9ea6a-aca3-4ad8-fbd0-99af59d00cf5"
      },
      "source": [
        "y_train.head(3)"
      ],
      "execution_count": 23,
      "outputs": [
        {
          "output_type": "execute_result",
          "data": {
            "text/plain": [
              "137    2\n",
              "96     1\n",
              "144    2\n",
              "Name: class, dtype: int64"
            ]
          },
          "metadata": {
            "tags": []
          },
          "execution_count": 23
        }
      ]
    },
    {
      "cell_type": "code",
      "metadata": {
        "id": "UrTFufvLPenS",
        "colab_type": "code",
        "colab": {
          "base_uri": "https://localhost:8080/",
          "height": 85
        },
        "outputId": "fa96a25c-0982-4714-fefb-f3d8bf68a61b"
      },
      "source": [
        "y_test.head(3)"
      ],
      "execution_count": 24,
      "outputs": [
        {
          "output_type": "execute_result",
          "data": {
            "text/plain": [
              "55     0\n",
              "160    2\n",
              "142    2\n",
              "Name: class, dtype: int64"
            ]
          },
          "metadata": {
            "tags": []
          },
          "execution_count": 24
        }
      ]
    },
    {
      "cell_type": "markdown",
      "metadata": {
        "id": "HvHlvObaO-pu",
        "colab_type": "text"
      },
      "source": [
        "Instanciando o Classificador"
      ]
    },
    {
      "cell_type": "code",
      "metadata": {
        "id": "C1rOMI1yO9AF",
        "colab_type": "code",
        "colab": {}
      },
      "source": [
        "from sklearn.neighbors import KNeighborsClassifier"
      ],
      "execution_count": 0,
      "outputs": []
    },
    {
      "cell_type": "markdown",
      "metadata": {
        "id": "xl2NJegRPyhI",
        "colab_type": "text"
      },
      "source": [
        "n_neighbors, número de vizinhos"
      ]
    },
    {
      "cell_type": "code",
      "metadata": {
        "id": "Zr8GE822PKd9",
        "colab_type": "code",
        "colab": {}
      },
      "source": [
        "knn = KNeighborsClassifier(n_neighbors=1)"
      ],
      "execution_count": 0,
      "outputs": []
    },
    {
      "cell_type": "markdown",
      "metadata": {
        "id": "49cA4ADaP7iA",
        "colab_type": "text"
      },
      "source": [
        "Treinando o algorismo com os dados de treinamento"
      ]
    },
    {
      "cell_type": "code",
      "metadata": {
        "id": "QrtnIIHqPxv9",
        "colab_type": "code",
        "colab": {
          "base_uri": "https://localhost:8080/",
          "height": 68
        },
        "outputId": "0ed86005-f27e-426c-c6a1-24253fffc87a"
      },
      "source": [
        "knn.fit(X_train, y_train)"
      ],
      "execution_count": 26,
      "outputs": [
        {
          "output_type": "execute_result",
          "data": {
            "text/plain": [
              "KNeighborsClassifier(algorithm='auto', leaf_size=30, metric='minkowski',\n",
              "                     metric_params=None, n_jobs=None, n_neighbors=1, p=2,\n",
              "                     weights='uniform')"
            ]
          },
          "metadata": {
            "tags": []
          },
          "execution_count": 26
        }
      ]
    },
    {
      "cell_type": "markdown",
      "metadata": {
        "id": "IJcSE9wOQLTQ",
        "colab_type": "text"
      },
      "source": [
        "Executando o KNN com o conjunto de teste"
      ]
    },
    {
      "cell_type": "code",
      "metadata": {
        "id": "ogrBWhtNQIy-",
        "colab_type": "code",
        "colab": {
          "base_uri": "https://localhost:8080/",
          "height": 68
        },
        "outputId": "0ae81dfa-b0a7-4b51-9d60-7c97b6ef2e5b"
      },
      "source": [
        "resultado = knn.predict(X_test)\n",
        "resultado"
      ],
      "execution_count": 29,
      "outputs": [
        {
          "output_type": "execute_result",
          "data": {
            "text/plain": [
              "array([0, 2, 2, 2, 1, 1, 2, 0, 0, 1, 1, 0, 2, 1, 1, 0, 2, 0, 1, 1, 1, 2,\n",
              "       1, 1, 1, 2, 2, 1, 1, 0, 1, 1, 0, 2, 2, 1, 2, 0, 2, 0, 1, 2, 0, 0,\n",
              "       0, 0, 0, 0, 1, 0, 2, 2, 2, 1])"
            ]
          },
          "metadata": {
            "tags": []
          },
          "execution_count": 29
        }
      ]
    },
    {
      "cell_type": "markdown",
      "metadata": {
        "id": "7fQXdpVWQfyo",
        "colab_type": "text"
      },
      "source": [
        "Tecnica de Validação"
      ]
    },
    {
      "cell_type": "code",
      "metadata": {
        "id": "eVmKsJc0QX1O",
        "colab_type": "code",
        "colab": {
          "base_uri": "https://localhost:8080/",
          "height": 119
        },
        "outputId": "203d5b84-10ef-40c2-ae9d-931759d445ac"
      },
      "source": [
        "print(pd.crosstab(y_test, resultado, rownames=['Real'], colnames=['Predito'], margins=True))"
      ],
      "execution_count": 32,
      "outputs": [
        {
          "output_type": "stream",
          "text": [
            "Predito   0   1   2  All\n",
            "Real                    \n",
            "0        15   1   2   18\n",
            "1         1  14   5   20\n",
            "2         1   5  10   16\n",
            "All      17  20  17   54\n"
          ],
          "name": "stdout"
        }
      ]
    },
    {
      "cell_type": "markdown",
      "metadata": {
        "id": "zQxU8wX1RIW1",
        "colab_type": "text"
      },
      "source": [
        "Métrica de Classificação"
      ]
    },
    {
      "cell_type": "code",
      "metadata": {
        "id": "920pZp02QtW-",
        "colab_type": "code",
        "colab": {
          "base_uri": "https://localhost:8080/",
          "height": 187
        },
        "outputId": "340a81ef-071b-4cfd-eeb1-f9558a6cfa5d"
      },
      "source": [
        "from sklearn import metrics\n",
        "print(metrics.classification_report(y_test, resultado, target_names=wine.target_names))"
      ],
      "execution_count": 33,
      "outputs": [
        {
          "output_type": "stream",
          "text": [
            "              precision    recall  f1-score   support\n",
            "\n",
            "     class_0       0.88      0.83      0.86        18\n",
            "     class_1       0.70      0.70      0.70        20\n",
            "     class_2       0.59      0.62      0.61        16\n",
            "\n",
            "    accuracy                           0.72        54\n",
            "   macro avg       0.72      0.72      0.72        54\n",
            "weighted avg       0.73      0.72      0.72        54\n",
            "\n"
          ],
          "name": "stdout"
        }
      ]
    },
    {
      "cell_type": "markdown",
      "metadata": {
        "id": "t3-l2uUDRkjr",
        "colab_type": "text"
      },
      "source": [
        "Otimizando o parametro K utilizando GridSearch"
      ]
    },
    {
      "cell_type": "code",
      "metadata": {
        "id": "YTX_HmN7Rcz2",
        "colab_type": "code",
        "colab": {}
      },
      "source": [
        "from sklearn.model_selection import GridSearchCV"
      ],
      "execution_count": 0,
      "outputs": []
    },
    {
      "cell_type": "markdown",
      "metadata": {
        "id": "rI2YkgXTRutr",
        "colab_type": "text"
      },
      "source": [
        "Definindo a lista de valores para os parametros"
      ]
    },
    {
      "cell_type": "code",
      "metadata": {
        "id": "AwWNnyLfRtqn",
        "colab_type": "code",
        "colab": {}
      },
      "source": [
        "k_list = list(range(1,31))\n",
        "weight_list = ['uniform', 'distance']\n",
        "p_list = [1,2]"
      ],
      "execution_count": 0,
      "outputs": []
    },
    {
      "cell_type": "code",
      "metadata": {
        "id": "pxSfupm0R8Lo",
        "colab_type": "code",
        "colab": {}
      },
      "source": [
        "parametros = dict(n_neighbors=k_list, weights=weight_list, p=p_list)    "
      ],
      "execution_count": 0,
      "outputs": []
    },
    {
      "cell_type": "code",
      "metadata": {
        "id": "y98TxdFYSPRp",
        "colab_type": "code",
        "colab": {
          "base_uri": "https://localhost:8080/",
          "height": 561
        },
        "outputId": "de807ac9-1bcc-4ac1-cf54-0f0a612ab69d"
      },
      "source": [
        "parametros"
      ],
      "execution_count": 37,
      "outputs": [
        {
          "output_type": "execute_result",
          "data": {
            "text/plain": [
              "{'n_neighbors': [1,\n",
              "  2,\n",
              "  3,\n",
              "  4,\n",
              "  5,\n",
              "  6,\n",
              "  7,\n",
              "  8,\n",
              "  9,\n",
              "  10,\n",
              "  11,\n",
              "  12,\n",
              "  13,\n",
              "  14,\n",
              "  15,\n",
              "  16,\n",
              "  17,\n",
              "  18,\n",
              "  19,\n",
              "  20,\n",
              "  21,\n",
              "  22,\n",
              "  23,\n",
              "  24,\n",
              "  25,\n",
              "  26,\n",
              "  27,\n",
              "  28,\n",
              "  29,\n",
              "  30],\n",
              " 'p': [1, 2],\n",
              " 'weights': ['uniform', 'distance']}"
            ]
          },
          "metadata": {
            "tags": []
          },
          "execution_count": 37
        }
      ]
    },
    {
      "cell_type": "markdown",
      "metadata": {
        "id": "HK4jz0IHSen0",
        "colab_type": "text"
      },
      "source": [
        "Instânciando o objeto GridSearch"
      ]
    },
    {
      "cell_type": "code",
      "metadata": {
        "id": "ZQ3TgiGTSQMR",
        "colab_type": "code",
        "colab": {}
      },
      "source": [
        "grid = GridSearchCV(knn, parametros, cv=5, scoring='accuracy')"
      ],
      "execution_count": 0,
      "outputs": []
    },
    {
      "cell_type": "markdown",
      "metadata": {
        "id": "DsdjHK1XSjkM",
        "colab_type": "text"
      },
      "source": [
        "Treinando o objeto"
      ]
    },
    {
      "cell_type": "code",
      "metadata": {
        "id": "O71-iwm8Sg1Z",
        "colab_type": "code",
        "colab": {
          "base_uri": "https://localhost:8080/",
          "height": 292
        },
        "outputId": "bbc70f8f-f0d2-4d3e-8bcd-199227191c6c"
      },
      "source": [
        "grid.fit(df_wine.drop('class',axis=1),df_wine['class'])"
      ],
      "execution_count": 39,
      "outputs": [
        {
          "output_type": "stream",
          "text": [
            "/usr/local/lib/python3.6/dist-packages/sklearn/model_selection/_search.py:814: DeprecationWarning: The default of the `iid` parameter will change from True to False in version 0.22 and will be removed in 0.24. This will change numeric results when test-set sizes are unequal.\n",
            "  DeprecationWarning)\n"
          ],
          "name": "stderr"
        },
        {
          "output_type": "execute_result",
          "data": {
            "text/plain": [
              "GridSearchCV(cv=5, error_score='raise-deprecating',\n",
              "             estimator=KNeighborsClassifier(algorithm='auto', leaf_size=30,\n",
              "                                            metric='minkowski',\n",
              "                                            metric_params=None, n_jobs=None,\n",
              "                                            n_neighbors=1, p=2,\n",
              "                                            weights='uniform'),\n",
              "             iid='warn', n_jobs=None,\n",
              "             param_grid={'n_neighbors': [1, 2, 3, 4, 5, 6, 7, 8, 9, 10, 11, 12,\n",
              "                                         13, 14, 15, 16, 17, 18, 19, 20, 21, 22,\n",
              "                                         23, 24, 25, 26, 27, 28, 29, 30],\n",
              "                         'p': [1, 2], 'weights': ['uniform', 'distance']},\n",
              "             pre_dispatch='2*n_jobs', refit=True, return_train_score=False,\n",
              "             scoring='accuracy', verbose=0)"
            ]
          },
          "metadata": {
            "tags": []
          },
          "execution_count": 39
        }
      ]
    },
    {
      "cell_type": "markdown",
      "metadata": {
        "id": "UjQEB-xJSqZn",
        "colab_type": "text"
      },
      "source": [
        "Verificando os valores de scores¶"
      ]
    },
    {
      "cell_type": "code",
      "metadata": {
        "id": "sYp1QLMSSlyp",
        "colab_type": "code",
        "colab": {
          "base_uri": "https://localhost:8080/",
          "height": 1000
        },
        "outputId": "6e36d982-6d5e-4f1f-9b2d-8d0db6e29797"
      },
      "source": [
        "grid.cv_results_"
      ],
      "execution_count": 40,
      "outputs": [
        {
          "output_type": "execute_result",
          "data": {
            "text/plain": [
              "{'mean_fit_time': array([0.00237942, 0.00194001, 0.00177188, 0.00171204, 0.00172343,\n",
              "        0.00170593, 0.00181494, 0.00173039, 0.0017314 , 0.00171828,\n",
              "        0.00171266, 0.00175176, 0.00183496, 0.00172734, 0.0017478 ,\n",
              "        0.00173788, 0.00170183, 0.00176783, 0.00171261, 0.00172534,\n",
              "        0.00173087, 0.00173306, 0.00175052, 0.00172119, 0.00171556,\n",
              "        0.00172977, 0.00171123, 0.00187445, 0.0017354 , 0.00170789,\n",
              "        0.00170655, 0.00171471, 0.00204344, 0.00169721, 0.00171118,\n",
              "        0.00172048, 0.00170817, 0.00174069, 0.00171404, 0.0017446 ,\n",
              "        0.00169883, 0.00171165, 0.00174046, 0.001723  , 0.00171838,\n",
              "        0.00173163, 0.0017189 , 0.00174189, 0.00187612, 0.0018539 ,\n",
              "        0.00186262, 0.00179143, 0.00175009, 0.00175643, 0.00173302,\n",
              "        0.00172997, 0.00180788, 0.00175037, 0.00177474, 0.00173516,\n",
              "        0.00172029, 0.00171876, 0.00172858, 0.00173025, 0.00172653,\n",
              "        0.00172243, 0.00171113, 0.00172086, 0.00176191, 0.00172458,\n",
              "        0.00172219, 0.00171218, 0.00171719, 0.00184035, 0.00174446,\n",
              "        0.00171828, 0.00171399, 0.00170951, 0.00172009, 0.00171103,\n",
              "        0.00171833, 0.00174966, 0.00172143, 0.00176358, 0.00175896,\n",
              "        0.00170918, 0.00171494, 0.00171847, 0.00173287, 0.00170631,\n",
              "        0.0017149 , 0.00171285, 0.00176058, 0.001789  , 0.0017345 ,\n",
              "        0.00171585, 0.00171833, 0.00170326, 0.00170937, 0.00185461,\n",
              "        0.00176387, 0.00176764, 0.00175748, 0.00174098, 0.00174789,\n",
              "        0.00174069, 0.00172815, 0.0017972 , 0.00177479, 0.00173368,\n",
              "        0.00173969, 0.00172472, 0.00175085, 0.0017211 , 0.00171967,\n",
              "        0.00172338, 0.00172696, 0.00177174, 0.00173292, 0.00175223]),\n",
              " 'mean_score_time': array([0.00266399, 0.00140357, 0.00214891, 0.00138631, 0.00210319,\n",
              "        0.00139036, 0.00212798, 0.00139971, 0.00213995, 0.00141783,\n",
              "        0.00212789, 0.00140924, 0.00224209, 0.00143304, 0.00217028,\n",
              "        0.00142341, 0.00213065, 0.00147533, 0.00212731, 0.00143919,\n",
              "        0.00214372, 0.00165687, 0.00227146, 0.00142455, 0.00220871,\n",
              "        0.00143151, 0.00213113, 0.00160608, 0.00214515, 0.00141892,\n",
              "        0.00213265, 0.00145731, 0.00242944, 0.00146627, 0.00213642,\n",
              "        0.00142517, 0.00213652, 0.0014472 , 0.0021337 , 0.00144277,\n",
              "        0.00213079, 0.00145521, 0.00218654, 0.00144033, 0.002209  ,\n",
              "        0.00148606, 0.00214725, 0.00149565, 0.00273051, 0.00154619,\n",
              "        0.00237169, 0.00152326, 0.00218611, 0.0014904 , 0.00217843,\n",
              "        0.00155382, 0.00235682, 0.00150399, 0.00220037, 0.00147371,\n",
              "        0.00219741, 0.00147395, 0.00217223, 0.00147381, 0.00221429,\n",
              "        0.00150218, 0.00220361, 0.00151458, 0.00220084, 0.0014967 ,\n",
              "        0.00221391, 0.00148277, 0.00219774, 0.00152836, 0.00220804,\n",
              "        0.00149283, 0.00219574, 0.00148787, 0.00224433, 0.00150509,\n",
              "        0.00221248, 0.00151935, 0.00220451, 0.00154324, 0.00225935,\n",
              "        0.00152044, 0.00219841, 0.00150476, 0.00224624, 0.0015192 ,\n",
              "        0.00222683, 0.00150223, 0.00224662, 0.00158062, 0.00223579,\n",
              "        0.00151234, 0.00221796, 0.00152493, 0.00223875, 0.00153542,\n",
              "        0.00224524, 0.0016521 , 0.00229473, 0.00157814, 0.00224419,\n",
              "        0.00155272, 0.00223703, 0.00167723, 0.00238376, 0.00159554,\n",
              "        0.00225363, 0.00153394, 0.0022728 , 0.00162745, 0.00223727,\n",
              "        0.00153518, 0.00226517, 0.00155911, 0.00224814, 0.0015635 ]),\n",
              " 'mean_test_score': array([0.80898876, 0.80898876, 0.7247191 , 0.7247191 , 0.74719101,\n",
              "        0.80898876, 0.66292135, 0.7247191 , 0.75842697, 0.78089888,\n",
              "        0.70224719, 0.7247191 , 0.73033708, 0.76966292, 0.67977528,\n",
              "        0.71348315, 0.73595506, 0.75280899, 0.68539326, 0.71348315,\n",
              "        0.76404494, 0.7752809 , 0.69101124, 0.7247191 , 0.76404494,\n",
              "        0.75842697, 0.69101124, 0.71910112, 0.7247191 , 0.76966292,\n",
              "        0.69662921, 0.71348315, 0.7752809 , 0.7752809 , 0.70224719,\n",
              "        0.71910112, 0.76404494, 0.76966292, 0.69101124, 0.70224719,\n",
              "        0.74719101, 0.75842697, 0.67977528, 0.71910112, 0.7752809 ,\n",
              "        0.7752809 , 0.69101124, 0.71348315, 0.75842697, 0.78651685,\n",
              "        0.70786517, 0.71348315, 0.76404494, 0.78089888, 0.70224719,\n",
              "        0.70786517, 0.76966292, 0.78651685, 0.71910112, 0.70786517,\n",
              "        0.75280899, 0.76966292, 0.69662921, 0.71910112, 0.74719101,\n",
              "        0.78089888, 0.70224719, 0.71910112, 0.74157303, 0.7752809 ,\n",
              "        0.70786517, 0.70786517, 0.73595506, 0.78089888, 0.70224719,\n",
              "        0.71910112, 0.73033708, 0.7752809 , 0.70786517, 0.70786517,\n",
              "        0.7247191 , 0.7752809 , 0.71910112, 0.70786517, 0.71348315,\n",
              "        0.76966292, 0.70224719, 0.71348315, 0.73033708, 0.76966292,\n",
              "        0.70786517, 0.71348315, 0.7247191 , 0.76404494, 0.69662921,\n",
              "        0.71348315, 0.7247191 , 0.76404494, 0.71910112, 0.71348315,\n",
              "        0.7247191 , 0.76404494, 0.71348315, 0.71348315, 0.73595506,\n",
              "        0.76404494, 0.71348315, 0.71348315, 0.7247191 , 0.7752809 ,\n",
              "        0.71348315, 0.71348315, 0.73033708, 0.7752809 , 0.71348315,\n",
              "        0.70224719, 0.71910112, 0.76966292, 0.71910112, 0.71348315]),\n",
              " 'param_n_neighbors': masked_array(data=[1, 1, 1, 1, 2, 2, 2, 2, 3, 3, 3, 3, 4, 4, 4, 4, 5, 5,\n",
              "                    5, 5, 6, 6, 6, 6, 7, 7, 7, 7, 8, 8, 8, 8, 9, 9, 9, 9,\n",
              "                    10, 10, 10, 10, 11, 11, 11, 11, 12, 12, 12, 12, 13, 13,\n",
              "                    13, 13, 14, 14, 14, 14, 15, 15, 15, 15, 16, 16, 16, 16,\n",
              "                    17, 17, 17, 17, 18, 18, 18, 18, 19, 19, 19, 19, 20, 20,\n",
              "                    20, 20, 21, 21, 21, 21, 22, 22, 22, 22, 23, 23, 23, 23,\n",
              "                    24, 24, 24, 24, 25, 25, 25, 25, 26, 26, 26, 26, 27, 27,\n",
              "                    27, 27, 28, 28, 28, 28, 29, 29, 29, 29, 30, 30, 30, 30],\n",
              "              mask=[False, False, False, False, False, False, False, False,\n",
              "                    False, False, False, False, False, False, False, False,\n",
              "                    False, False, False, False, False, False, False, False,\n",
              "                    False, False, False, False, False, False, False, False,\n",
              "                    False, False, False, False, False, False, False, False,\n",
              "                    False, False, False, False, False, False, False, False,\n",
              "                    False, False, False, False, False, False, False, False,\n",
              "                    False, False, False, False, False, False, False, False,\n",
              "                    False, False, False, False, False, False, False, False,\n",
              "                    False, False, False, False, False, False, False, False,\n",
              "                    False, False, False, False, False, False, False, False,\n",
              "                    False, False, False, False, False, False, False, False,\n",
              "                    False, False, False, False, False, False, False, False,\n",
              "                    False, False, False, False, False, False, False, False,\n",
              "                    False, False, False, False, False, False, False, False],\n",
              "        fill_value='?',\n",
              "             dtype=object),\n",
              " 'param_p': masked_array(data=[1, 1, 2, 2, 1, 1, 2, 2, 1, 1, 2, 2, 1, 1, 2, 2, 1, 1,\n",
              "                    2, 2, 1, 1, 2, 2, 1, 1, 2, 2, 1, 1, 2, 2, 1, 1, 2, 2,\n",
              "                    1, 1, 2, 2, 1, 1, 2, 2, 1, 1, 2, 2, 1, 1, 2, 2, 1, 1,\n",
              "                    2, 2, 1, 1, 2, 2, 1, 1, 2, 2, 1, 1, 2, 2, 1, 1, 2, 2,\n",
              "                    1, 1, 2, 2, 1, 1, 2, 2, 1, 1, 2, 2, 1, 1, 2, 2, 1, 1,\n",
              "                    2, 2, 1, 1, 2, 2, 1, 1, 2, 2, 1, 1, 2, 2, 1, 1, 2, 2,\n",
              "                    1, 1, 2, 2, 1, 1, 2, 2, 1, 1, 2, 2],\n",
              "              mask=[False, False, False, False, False, False, False, False,\n",
              "                    False, False, False, False, False, False, False, False,\n",
              "                    False, False, False, False, False, False, False, False,\n",
              "                    False, False, False, False, False, False, False, False,\n",
              "                    False, False, False, False, False, False, False, False,\n",
              "                    False, False, False, False, False, False, False, False,\n",
              "                    False, False, False, False, False, False, False, False,\n",
              "                    False, False, False, False, False, False, False, False,\n",
              "                    False, False, False, False, False, False, False, False,\n",
              "                    False, False, False, False, False, False, False, False,\n",
              "                    False, False, False, False, False, False, False, False,\n",
              "                    False, False, False, False, False, False, False, False,\n",
              "                    False, False, False, False, False, False, False, False,\n",
              "                    False, False, False, False, False, False, False, False,\n",
              "                    False, False, False, False, False, False, False, False],\n",
              "        fill_value='?',\n",
              "             dtype=object),\n",
              " 'param_weights': masked_array(data=['uniform', 'distance', 'uniform', 'distance',\n",
              "                    'uniform', 'distance', 'uniform', 'distance',\n",
              "                    'uniform', 'distance', 'uniform', 'distance',\n",
              "                    'uniform', 'distance', 'uniform', 'distance',\n",
              "                    'uniform', 'distance', 'uniform', 'distance',\n",
              "                    'uniform', 'distance', 'uniform', 'distance',\n",
              "                    'uniform', 'distance', 'uniform', 'distance',\n",
              "                    'uniform', 'distance', 'uniform', 'distance',\n",
              "                    'uniform', 'distance', 'uniform', 'distance',\n",
              "                    'uniform', 'distance', 'uniform', 'distance',\n",
              "                    'uniform', 'distance', 'uniform', 'distance',\n",
              "                    'uniform', 'distance', 'uniform', 'distance',\n",
              "                    'uniform', 'distance', 'uniform', 'distance',\n",
              "                    'uniform', 'distance', 'uniform', 'distance',\n",
              "                    'uniform', 'distance', 'uniform', 'distance',\n",
              "                    'uniform', 'distance', 'uniform', 'distance',\n",
              "                    'uniform', 'distance', 'uniform', 'distance',\n",
              "                    'uniform', 'distance', 'uniform', 'distance',\n",
              "                    'uniform', 'distance', 'uniform', 'distance',\n",
              "                    'uniform', 'distance', 'uniform', 'distance',\n",
              "                    'uniform', 'distance', 'uniform', 'distance',\n",
              "                    'uniform', 'distance', 'uniform', 'distance',\n",
              "                    'uniform', 'distance', 'uniform', 'distance',\n",
              "                    'uniform', 'distance', 'uniform', 'distance',\n",
              "                    'uniform', 'distance', 'uniform', 'distance',\n",
              "                    'uniform', 'distance', 'uniform', 'distance',\n",
              "                    'uniform', 'distance', 'uniform', 'distance',\n",
              "                    'uniform', 'distance', 'uniform', 'distance',\n",
              "                    'uniform', 'distance', 'uniform', 'distance',\n",
              "                    'uniform', 'distance', 'uniform', 'distance'],\n",
              "              mask=[False, False, False, False, False, False, False, False,\n",
              "                    False, False, False, False, False, False, False, False,\n",
              "                    False, False, False, False, False, False, False, False,\n",
              "                    False, False, False, False, False, False, False, False,\n",
              "                    False, False, False, False, False, False, False, False,\n",
              "                    False, False, False, False, False, False, False, False,\n",
              "                    False, False, False, False, False, False, False, False,\n",
              "                    False, False, False, False, False, False, False, False,\n",
              "                    False, False, False, False, False, False, False, False,\n",
              "                    False, False, False, False, False, False, False, False,\n",
              "                    False, False, False, False, False, False, False, False,\n",
              "                    False, False, False, False, False, False, False, False,\n",
              "                    False, False, False, False, False, False, False, False,\n",
              "                    False, False, False, False, False, False, False, False,\n",
              "                    False, False, False, False, False, False, False, False],\n",
              "        fill_value='?',\n",
              "             dtype=object),\n",
              " 'params': [{'n_neighbors': 1, 'p': 1, 'weights': 'uniform'},\n",
              "  {'n_neighbors': 1, 'p': 1, 'weights': 'distance'},\n",
              "  {'n_neighbors': 1, 'p': 2, 'weights': 'uniform'},\n",
              "  {'n_neighbors': 1, 'p': 2, 'weights': 'distance'},\n",
              "  {'n_neighbors': 2, 'p': 1, 'weights': 'uniform'},\n",
              "  {'n_neighbors': 2, 'p': 1, 'weights': 'distance'},\n",
              "  {'n_neighbors': 2, 'p': 2, 'weights': 'uniform'},\n",
              "  {'n_neighbors': 2, 'p': 2, 'weights': 'distance'},\n",
              "  {'n_neighbors': 3, 'p': 1, 'weights': 'uniform'},\n",
              "  {'n_neighbors': 3, 'p': 1, 'weights': 'distance'},\n",
              "  {'n_neighbors': 3, 'p': 2, 'weights': 'uniform'},\n",
              "  {'n_neighbors': 3, 'p': 2, 'weights': 'distance'},\n",
              "  {'n_neighbors': 4, 'p': 1, 'weights': 'uniform'},\n",
              "  {'n_neighbors': 4, 'p': 1, 'weights': 'distance'},\n",
              "  {'n_neighbors': 4, 'p': 2, 'weights': 'uniform'},\n",
              "  {'n_neighbors': 4, 'p': 2, 'weights': 'distance'},\n",
              "  {'n_neighbors': 5, 'p': 1, 'weights': 'uniform'},\n",
              "  {'n_neighbors': 5, 'p': 1, 'weights': 'distance'},\n",
              "  {'n_neighbors': 5, 'p': 2, 'weights': 'uniform'},\n",
              "  {'n_neighbors': 5, 'p': 2, 'weights': 'distance'},\n",
              "  {'n_neighbors': 6, 'p': 1, 'weights': 'uniform'},\n",
              "  {'n_neighbors': 6, 'p': 1, 'weights': 'distance'},\n",
              "  {'n_neighbors': 6, 'p': 2, 'weights': 'uniform'},\n",
              "  {'n_neighbors': 6, 'p': 2, 'weights': 'distance'},\n",
              "  {'n_neighbors': 7, 'p': 1, 'weights': 'uniform'},\n",
              "  {'n_neighbors': 7, 'p': 1, 'weights': 'distance'},\n",
              "  {'n_neighbors': 7, 'p': 2, 'weights': 'uniform'},\n",
              "  {'n_neighbors': 7, 'p': 2, 'weights': 'distance'},\n",
              "  {'n_neighbors': 8, 'p': 1, 'weights': 'uniform'},\n",
              "  {'n_neighbors': 8, 'p': 1, 'weights': 'distance'},\n",
              "  {'n_neighbors': 8, 'p': 2, 'weights': 'uniform'},\n",
              "  {'n_neighbors': 8, 'p': 2, 'weights': 'distance'},\n",
              "  {'n_neighbors': 9, 'p': 1, 'weights': 'uniform'},\n",
              "  {'n_neighbors': 9, 'p': 1, 'weights': 'distance'},\n",
              "  {'n_neighbors': 9, 'p': 2, 'weights': 'uniform'},\n",
              "  {'n_neighbors': 9, 'p': 2, 'weights': 'distance'},\n",
              "  {'n_neighbors': 10, 'p': 1, 'weights': 'uniform'},\n",
              "  {'n_neighbors': 10, 'p': 1, 'weights': 'distance'},\n",
              "  {'n_neighbors': 10, 'p': 2, 'weights': 'uniform'},\n",
              "  {'n_neighbors': 10, 'p': 2, 'weights': 'distance'},\n",
              "  {'n_neighbors': 11, 'p': 1, 'weights': 'uniform'},\n",
              "  {'n_neighbors': 11, 'p': 1, 'weights': 'distance'},\n",
              "  {'n_neighbors': 11, 'p': 2, 'weights': 'uniform'},\n",
              "  {'n_neighbors': 11, 'p': 2, 'weights': 'distance'},\n",
              "  {'n_neighbors': 12, 'p': 1, 'weights': 'uniform'},\n",
              "  {'n_neighbors': 12, 'p': 1, 'weights': 'distance'},\n",
              "  {'n_neighbors': 12, 'p': 2, 'weights': 'uniform'},\n",
              "  {'n_neighbors': 12, 'p': 2, 'weights': 'distance'},\n",
              "  {'n_neighbors': 13, 'p': 1, 'weights': 'uniform'},\n",
              "  {'n_neighbors': 13, 'p': 1, 'weights': 'distance'},\n",
              "  {'n_neighbors': 13, 'p': 2, 'weights': 'uniform'},\n",
              "  {'n_neighbors': 13, 'p': 2, 'weights': 'distance'},\n",
              "  {'n_neighbors': 14, 'p': 1, 'weights': 'uniform'},\n",
              "  {'n_neighbors': 14, 'p': 1, 'weights': 'distance'},\n",
              "  {'n_neighbors': 14, 'p': 2, 'weights': 'uniform'},\n",
              "  {'n_neighbors': 14, 'p': 2, 'weights': 'distance'},\n",
              "  {'n_neighbors': 15, 'p': 1, 'weights': 'uniform'},\n",
              "  {'n_neighbors': 15, 'p': 1, 'weights': 'distance'},\n",
              "  {'n_neighbors': 15, 'p': 2, 'weights': 'uniform'},\n",
              "  {'n_neighbors': 15, 'p': 2, 'weights': 'distance'},\n",
              "  {'n_neighbors': 16, 'p': 1, 'weights': 'uniform'},\n",
              "  {'n_neighbors': 16, 'p': 1, 'weights': 'distance'},\n",
              "  {'n_neighbors': 16, 'p': 2, 'weights': 'uniform'},\n",
              "  {'n_neighbors': 16, 'p': 2, 'weights': 'distance'},\n",
              "  {'n_neighbors': 17, 'p': 1, 'weights': 'uniform'},\n",
              "  {'n_neighbors': 17, 'p': 1, 'weights': 'distance'},\n",
              "  {'n_neighbors': 17, 'p': 2, 'weights': 'uniform'},\n",
              "  {'n_neighbors': 17, 'p': 2, 'weights': 'distance'},\n",
              "  {'n_neighbors': 18, 'p': 1, 'weights': 'uniform'},\n",
              "  {'n_neighbors': 18, 'p': 1, 'weights': 'distance'},\n",
              "  {'n_neighbors': 18, 'p': 2, 'weights': 'uniform'},\n",
              "  {'n_neighbors': 18, 'p': 2, 'weights': 'distance'},\n",
              "  {'n_neighbors': 19, 'p': 1, 'weights': 'uniform'},\n",
              "  {'n_neighbors': 19, 'p': 1, 'weights': 'distance'},\n",
              "  {'n_neighbors': 19, 'p': 2, 'weights': 'uniform'},\n",
              "  {'n_neighbors': 19, 'p': 2, 'weights': 'distance'},\n",
              "  {'n_neighbors': 20, 'p': 1, 'weights': 'uniform'},\n",
              "  {'n_neighbors': 20, 'p': 1, 'weights': 'distance'},\n",
              "  {'n_neighbors': 20, 'p': 2, 'weights': 'uniform'},\n",
              "  {'n_neighbors': 20, 'p': 2, 'weights': 'distance'},\n",
              "  {'n_neighbors': 21, 'p': 1, 'weights': 'uniform'},\n",
              "  {'n_neighbors': 21, 'p': 1, 'weights': 'distance'},\n",
              "  {'n_neighbors': 21, 'p': 2, 'weights': 'uniform'},\n",
              "  {'n_neighbors': 21, 'p': 2, 'weights': 'distance'},\n",
              "  {'n_neighbors': 22, 'p': 1, 'weights': 'uniform'},\n",
              "  {'n_neighbors': 22, 'p': 1, 'weights': 'distance'},\n",
              "  {'n_neighbors': 22, 'p': 2, 'weights': 'uniform'},\n",
              "  {'n_neighbors': 22, 'p': 2, 'weights': 'distance'},\n",
              "  {'n_neighbors': 23, 'p': 1, 'weights': 'uniform'},\n",
              "  {'n_neighbors': 23, 'p': 1, 'weights': 'distance'},\n",
              "  {'n_neighbors': 23, 'p': 2, 'weights': 'uniform'},\n",
              "  {'n_neighbors': 23, 'p': 2, 'weights': 'distance'},\n",
              "  {'n_neighbors': 24, 'p': 1, 'weights': 'uniform'},\n",
              "  {'n_neighbors': 24, 'p': 1, 'weights': 'distance'},\n",
              "  {'n_neighbors': 24, 'p': 2, 'weights': 'uniform'},\n",
              "  {'n_neighbors': 24, 'p': 2, 'weights': 'distance'},\n",
              "  {'n_neighbors': 25, 'p': 1, 'weights': 'uniform'},\n",
              "  {'n_neighbors': 25, 'p': 1, 'weights': 'distance'},\n",
              "  {'n_neighbors': 25, 'p': 2, 'weights': 'uniform'},\n",
              "  {'n_neighbors': 25, 'p': 2, 'weights': 'distance'},\n",
              "  {'n_neighbors': 26, 'p': 1, 'weights': 'uniform'},\n",
              "  {'n_neighbors': 26, 'p': 1, 'weights': 'distance'},\n",
              "  {'n_neighbors': 26, 'p': 2, 'weights': 'uniform'},\n",
              "  {'n_neighbors': 26, 'p': 2, 'weights': 'distance'},\n",
              "  {'n_neighbors': 27, 'p': 1, 'weights': 'uniform'},\n",
              "  {'n_neighbors': 27, 'p': 1, 'weights': 'distance'},\n",
              "  {'n_neighbors': 27, 'p': 2, 'weights': 'uniform'},\n",
              "  {'n_neighbors': 27, 'p': 2, 'weights': 'distance'},\n",
              "  {'n_neighbors': 28, 'p': 1, 'weights': 'uniform'},\n",
              "  {'n_neighbors': 28, 'p': 1, 'weights': 'distance'},\n",
              "  {'n_neighbors': 28, 'p': 2, 'weights': 'uniform'},\n",
              "  {'n_neighbors': 28, 'p': 2, 'weights': 'distance'},\n",
              "  {'n_neighbors': 29, 'p': 1, 'weights': 'uniform'},\n",
              "  {'n_neighbors': 29, 'p': 1, 'weights': 'distance'},\n",
              "  {'n_neighbors': 29, 'p': 2, 'weights': 'uniform'},\n",
              "  {'n_neighbors': 29, 'p': 2, 'weights': 'distance'},\n",
              "  {'n_neighbors': 30, 'p': 1, 'weights': 'uniform'},\n",
              "  {'n_neighbors': 30, 'p': 1, 'weights': 'distance'},\n",
              "  {'n_neighbors': 30, 'p': 2, 'weights': 'uniform'},\n",
              "  {'n_neighbors': 30, 'p': 2, 'weights': 'distance'}],\n",
              " 'rank_test_score': array([  1,   1,  53,  53,  42,   1, 120,  53,  36,   6, 102,  53,  49,\n",
              "         20, 118,  75,  46,  40, 117,  75,  28,  10, 113,  53,  28,  36,\n",
              "        113,  64,  53,  20, 110,  75,  10,  10, 102,  64,  28,  20, 113,\n",
              "        102,  42,  36, 118,  64,  10,  10, 113,  75,  36,   4,  93,  75,\n",
              "         28,   6, 102,  93,  20,   4,  64,  93,  40,  20, 110,  64,  42,\n",
              "          6, 102,  64,  45,  10,  93,  93,  46,   6, 102,  64,  49,  10,\n",
              "         93,  93,  53,  10,  64,  93,  75,  20, 102,  75,  49,  20,  93,\n",
              "         75,  53,  28, 110,  75,  53,  28,  64,  75,  53,  28,  75,  75,\n",
              "         46,  28,  75,  75,  53,  10,  75,  75,  49,  10,  75, 102,  64,\n",
              "         20,  64,  75], dtype=int32),\n",
              " 'split0_test_score': array([0.81081081, 0.81081081, 0.78378378, 0.78378378, 0.64864865,\n",
              "        0.81081081, 0.59459459, 0.78378378, 0.75675676, 0.81081081,\n",
              "        0.62162162, 0.7027027 , 0.64864865, 0.78378378, 0.62162162,\n",
              "        0.64864865, 0.72972973, 0.72972973, 0.7027027 , 0.75675676,\n",
              "        0.72972973, 0.75675676, 0.64864865, 0.72972973, 0.72972973,\n",
              "        0.72972973, 0.64864865, 0.72972973, 0.62162162, 0.75675676,\n",
              "        0.67567568, 0.72972973, 0.78378378, 0.78378378, 0.64864865,\n",
              "        0.75675676, 0.75675676, 0.78378378, 0.67567568, 0.72972973,\n",
              "        0.75675676, 0.72972973, 0.67567568, 0.75675676, 0.7027027 ,\n",
              "        0.72972973, 0.64864865, 0.72972973, 0.72972973, 0.75675676,\n",
              "        0.72972973, 0.75675676, 0.72972973, 0.75675676, 0.67567568,\n",
              "        0.75675676, 0.75675676, 0.78378378, 0.75675676, 0.75675676,\n",
              "        0.75675676, 0.75675676, 0.64864865, 0.75675676, 0.78378378,\n",
              "        0.78378378, 0.67567568, 0.72972973, 0.72972973, 0.75675676,\n",
              "        0.62162162, 0.72972973, 0.75675676, 0.75675676, 0.7027027 ,\n",
              "        0.72972973, 0.7027027 , 0.75675676, 0.7027027 , 0.75675676,\n",
              "        0.72972973, 0.75675676, 0.75675676, 0.75675676, 0.67567568,\n",
              "        0.75675676, 0.72972973, 0.75675676, 0.72972973, 0.75675676,\n",
              "        0.72972973, 0.75675676, 0.7027027 , 0.75675676, 0.7027027 ,\n",
              "        0.75675676, 0.7027027 , 0.78378378, 0.72972973, 0.75675676,\n",
              "        0.7027027 , 0.78378378, 0.7027027 , 0.75675676, 0.7027027 ,\n",
              "        0.78378378, 0.7027027 , 0.75675676, 0.7027027 , 0.78378378,\n",
              "        0.7027027 , 0.75675676, 0.72972973, 0.78378378, 0.7027027 ,\n",
              "        0.72972973, 0.7027027 , 0.75675676, 0.7027027 , 0.75675676]),\n",
              " 'split1_test_score': array([0.77777778, 0.77777778, 0.66666667, 0.66666667, 0.77777778,\n",
              "        0.77777778, 0.63888889, 0.66666667, 0.72222222, 0.72222222,\n",
              "        0.72222222, 0.75      , 0.69444444, 0.72222222, 0.72222222,\n",
              "        0.72222222, 0.72222222, 0.72222222, 0.66666667, 0.66666667,\n",
              "        0.69444444, 0.72222222, 0.66666667, 0.69444444, 0.72222222,\n",
              "        0.75      , 0.66666667, 0.69444444, 0.75      , 0.72222222,\n",
              "        0.72222222, 0.69444444, 0.69444444, 0.72222222, 0.69444444,\n",
              "        0.69444444, 0.75      , 0.72222222, 0.69444444, 0.69444444,\n",
              "        0.75      , 0.75      , 0.66666667, 0.66666667, 0.83333333,\n",
              "        0.80555556, 0.66666667, 0.69444444, 0.77777778, 0.77777778,\n",
              "        0.66666667, 0.69444444, 0.80555556, 0.77777778, 0.63888889,\n",
              "        0.66666667, 0.77777778, 0.77777778, 0.66666667, 0.63888889,\n",
              "        0.77777778, 0.75      , 0.63888889, 0.63888889, 0.75      ,\n",
              "        0.77777778, 0.66666667, 0.63888889, 0.75      , 0.77777778,\n",
              "        0.72222222, 0.63888889, 0.72222222, 0.80555556, 0.66666667,\n",
              "        0.63888889, 0.75      , 0.77777778, 0.66666667, 0.63888889,\n",
              "        0.72222222, 0.77777778, 0.66666667, 0.61111111, 0.75      ,\n",
              "        0.77777778, 0.66666667, 0.66666667, 0.72222222, 0.80555556,\n",
              "        0.69444444, 0.63888889, 0.72222222, 0.77777778, 0.66666667,\n",
              "        0.63888889, 0.75      , 0.75      , 0.69444444, 0.66666667,\n",
              "        0.77777778, 0.77777778, 0.75      , 0.66666667, 0.80555556,\n",
              "        0.77777778, 0.72222222, 0.69444444, 0.75      , 0.80555556,\n",
              "        0.75      , 0.66666667, 0.75      , 0.83333333, 0.72222222,\n",
              "        0.66666667, 0.72222222, 0.83333333, 0.75      , 0.66666667]),\n",
              " 'split2_test_score': array([0.77777778, 0.77777778, 0.66666667, 0.66666667, 0.69444444,\n",
              "        0.77777778, 0.63888889, 0.66666667, 0.69444444, 0.72222222,\n",
              "        0.66666667, 0.66666667, 0.72222222, 0.69444444, 0.63888889,\n",
              "        0.69444444, 0.69444444, 0.75      , 0.63888889, 0.66666667,\n",
              "        0.77777778, 0.75      , 0.69444444, 0.69444444, 0.75      ,\n",
              "        0.75      , 0.61111111, 0.66666667, 0.72222222, 0.72222222,\n",
              "        0.63888889, 0.63888889, 0.77777778, 0.72222222, 0.69444444,\n",
              "        0.66666667, 0.75      , 0.69444444, 0.66666667, 0.63888889,\n",
              "        0.69444444, 0.69444444, 0.66666667, 0.66666667, 0.72222222,\n",
              "        0.69444444, 0.66666667, 0.63888889, 0.72222222, 0.72222222,\n",
              "        0.69444444, 0.63888889, 0.66666667, 0.69444444, 0.66666667,\n",
              "        0.63888889, 0.69444444, 0.69444444, 0.66666667, 0.63888889,\n",
              "        0.63888889, 0.66666667, 0.66666667, 0.63888889, 0.66666667,\n",
              "        0.66666667, 0.66666667, 0.66666667, 0.63888889, 0.66666667,\n",
              "        0.66666667, 0.63888889, 0.66666667, 0.69444444, 0.61111111,\n",
              "        0.66666667, 0.63888889, 0.69444444, 0.66666667, 0.63888889,\n",
              "        0.63888889, 0.69444444, 0.63888889, 0.63888889, 0.61111111,\n",
              "        0.66666667, 0.63888889, 0.63888889, 0.66666667, 0.66666667,\n",
              "        0.63888889, 0.63888889, 0.66666667, 0.69444444, 0.63888889,\n",
              "        0.63888889, 0.63888889, 0.69444444, 0.63888889, 0.63888889,\n",
              "        0.63888889, 0.66666667, 0.63888889, 0.63888889, 0.63888889,\n",
              "        0.63888889, 0.63888889, 0.63888889, 0.63888889, 0.63888889,\n",
              "        0.61111111, 0.63888889, 0.63888889, 0.63888889, 0.61111111,\n",
              "        0.63888889, 0.63888889, 0.63888889, 0.61111111, 0.63888889]),\n",
              " 'split3_test_score': array([0.77142857, 0.77142857, 0.68571429, 0.68571429, 0.74285714,\n",
              "        0.77142857, 0.65714286, 0.68571429, 0.77142857, 0.77142857,\n",
              "        0.65714286, 0.65714286, 0.71428571, 0.77142857, 0.65714286,\n",
              "        0.65714286, 0.74285714, 0.74285714, 0.65714286, 0.62857143,\n",
              "        0.77142857, 0.77142857, 0.68571429, 0.65714286, 0.8       ,\n",
              "        0.71428571, 0.77142857, 0.65714286, 0.77142857, 0.8       ,\n",
              "        0.68571429, 0.65714286, 0.8       , 0.8       , 0.71428571,\n",
              "        0.62857143, 0.77142857, 0.8       , 0.68571429, 0.62857143,\n",
              "        0.77142857, 0.77142857, 0.65714286, 0.68571429, 0.82857143,\n",
              "        0.82857143, 0.74285714, 0.68571429, 0.77142857, 0.85714286,\n",
              "        0.71428571, 0.65714286, 0.82857143, 0.85714286, 0.77142857,\n",
              "        0.65714286, 0.82857143, 0.85714286, 0.71428571, 0.68571429,\n",
              "        0.8       , 0.85714286, 0.74285714, 0.74285714, 0.74285714,\n",
              "        0.85714286, 0.74285714, 0.74285714, 0.8       , 0.85714286,\n",
              "        0.74285714, 0.71428571, 0.74285714, 0.82857143, 0.74285714,\n",
              "        0.74285714, 0.77142857, 0.82857143, 0.74285714, 0.68571429,\n",
              "        0.74285714, 0.82857143, 0.74285714, 0.71428571, 0.74285714,\n",
              "        0.82857143, 0.74285714, 0.68571429, 0.74285714, 0.8       ,\n",
              "        0.74285714, 0.71428571, 0.74285714, 0.8       , 0.74285714,\n",
              "        0.71428571, 0.74285714, 0.8       , 0.74285714, 0.68571429,\n",
              "        0.74285714, 0.8       , 0.74285714, 0.68571429, 0.74285714,\n",
              "        0.8       , 0.71428571, 0.65714286, 0.74285714, 0.82857143,\n",
              "        0.74285714, 0.68571429, 0.74285714, 0.8       , 0.74285714,\n",
              "        0.65714286, 0.74285714, 0.8       , 0.74285714, 0.68571429]),\n",
              " 'split4_test_score': array([0.91176471, 0.91176471, 0.82352941, 0.82352941, 0.88235294,\n",
              "        0.91176471, 0.79411765, 0.82352941, 0.85294118, 0.88235294,\n",
              "        0.85294118, 0.85294118, 0.88235294, 0.88235294, 0.76470588,\n",
              "        0.85294118, 0.79411765, 0.82352941, 0.76470588, 0.85294118,\n",
              "        0.85294118, 0.88235294, 0.76470588, 0.85294118, 0.82352941,\n",
              "        0.85294118, 0.76470588, 0.85294118, 0.76470588, 0.85294118,\n",
              "        0.76470588, 0.85294118, 0.82352941, 0.85294118, 0.76470588,\n",
              "        0.85294118, 0.79411765, 0.85294118, 0.73529412, 0.82352941,\n",
              "        0.76470588, 0.85294118, 0.73529412, 0.82352941, 0.79411765,\n",
              "        0.82352941, 0.73529412, 0.82352941, 0.79411765, 0.82352941,\n",
              "        0.73529412, 0.82352941, 0.79411765, 0.82352941, 0.76470588,\n",
              "        0.82352941, 0.79411765, 0.82352941, 0.79411765, 0.82352941,\n",
              "        0.79411765, 0.82352941, 0.79411765, 0.82352941, 0.79411765,\n",
              "        0.82352941, 0.76470588, 0.82352941, 0.79411765, 0.82352941,\n",
              "        0.79411765, 0.82352941, 0.79411765, 0.82352941, 0.79411765,\n",
              "        0.82352941, 0.79411765, 0.82352941, 0.76470588, 0.82352941,\n",
              "        0.79411765, 0.82352941, 0.79411765, 0.82352941, 0.79411765,\n",
              "        0.82352941, 0.73529412, 0.82352941, 0.79411765, 0.82352941,\n",
              "        0.73529412, 0.82352941, 0.79411765, 0.79411765, 0.73529412,\n",
              "        0.82352941, 0.79411765, 0.79411765, 0.79411765, 0.82352941,\n",
              "        0.76470588, 0.79411765, 0.73529412, 0.82352941, 0.79411765,\n",
              "        0.82352941, 0.79411765, 0.82352941, 0.79411765, 0.82352941,\n",
              "        0.76470588, 0.82352941, 0.79411765, 0.82352941, 0.79411765,\n",
              "        0.82352941, 0.79411765, 0.82352941, 0.79411765, 0.82352941]),\n",
              " 'std_fit_time': array([1.17210976e-03, 2.24650531e-04, 7.41906213e-05, 7.81111081e-06,\n",
              "        1.99296257e-05, 8.80071411e-06, 1.28187238e-04, 1.64715319e-05,\n",
              "        2.78641865e-05, 2.63514555e-05, 1.58956368e-05, 6.05169290e-05,\n",
              "        1.54765622e-04, 2.73456860e-05, 3.88335198e-05, 3.43545868e-05,\n",
              "        1.61794719e-05, 1.03177072e-04, 2.07483897e-05, 2.52856813e-05,\n",
              "        2.69226837e-05, 3.03299920e-05, 2.32290672e-05, 1.05233110e-05,\n",
              "        1.69230844e-05, 5.16468575e-05, 2.93270746e-05, 1.43978530e-04,\n",
              "        5.59062642e-05, 2.14410293e-05, 1.88398355e-05, 2.69220925e-05,\n",
              "        4.87673869e-04, 1.28954260e-05, 1.34078605e-05, 3.31607247e-05,\n",
              "        2.14701722e-05, 6.09003381e-05, 2.22470981e-05, 2.42703087e-05,\n",
              "        9.64532078e-06, 2.61685000e-05, 4.57318904e-05, 2.24090129e-05,\n",
              "        3.87916919e-05, 4.28352668e-05, 8.64720226e-06, 3.65538526e-05,\n",
              "        5.21268297e-05, 5.24870583e-05, 7.43796578e-05, 2.43291645e-05,\n",
              "        3.74860733e-05, 8.73579469e-05, 2.58749084e-05, 1.85446133e-05,\n",
              "        1.06147786e-04, 3.64518851e-05, 8.81816698e-05, 8.25823590e-06,\n",
              "        1.19253151e-05, 2.43140197e-05, 3.71175386e-05, 4.75666039e-05,\n",
              "        1.04541585e-05, 2.70558765e-05, 1.59558862e-05, 2.06368600e-05,\n",
              "        5.11152975e-05, 4.03653287e-06, 1.81721884e-05, 1.11212492e-05,\n",
              "        1.32631036e-05, 2.27982074e-04, 3.66465411e-05, 3.33104118e-06,\n",
              "        1.38775179e-05, 1.81238270e-05, 2.28168449e-05, 7.27641629e-06,\n",
              "        6.41235179e-06, 4.62145004e-05, 1.63001606e-05, 5.61913696e-05,\n",
              "        3.51983995e-05, 1.50331564e-05, 1.26087142e-05, 2.84909304e-05,\n",
              "        2.95655958e-05, 2.30753715e-05, 4.50200949e-06, 9.02646569e-06,\n",
              "        6.14496033e-05, 3.58414104e-05, 1.82666600e-05, 1.34679277e-05,\n",
              "        1.29550610e-05, 9.77806885e-06, 8.07757079e-06, 2.35103128e-04,\n",
              "        6.58517813e-05, 8.63601988e-05, 4.00525047e-05, 3.29402339e-05,\n",
              "        4.25597933e-05, 3.79716300e-05, 1.29482143e-05, 2.78703059e-05,\n",
              "        3.02849787e-05, 2.12053725e-05, 2.90277533e-05, 6.65012631e-06,\n",
              "        2.27349836e-05, 3.91475466e-05, 2.43917005e-05, 2.50303629e-05,\n",
              "        1.13208412e-05, 8.88675823e-05, 1.33553567e-05, 3.37540761e-05]),\n",
              " 'std_score_time': array([8.65610711e-04, 3.01759191e-05, 7.23411474e-05, 1.64080491e-05,\n",
              "        3.60012370e-05, 1.34469770e-05, 2.89030193e-05, 3.12600854e-05,\n",
              "        4.56023385e-05, 3.95609350e-05, 7.22190302e-05, 5.06950788e-05,\n",
              "        2.29474284e-04, 4.67766315e-05, 7.42356591e-05, 5.39979712e-05,\n",
              "        4.38064149e-05, 1.13541626e-04, 5.13663630e-05, 3.71022823e-05,\n",
              "        3.76455613e-05, 4.68728904e-04, 2.09993660e-04, 1.90603688e-05,\n",
              "        1.23053924e-04, 1.65548357e-05, 4.42276682e-05, 2.28454997e-04,\n",
              "        2.48718006e-05, 1.78572810e-05, 2.79110675e-05, 5.57729500e-05,\n",
              "        2.83920849e-04, 7.26346809e-05, 4.19094563e-05, 3.63891428e-05,\n",
              "        3.43476367e-05, 2.45619741e-05, 4.14383836e-05, 1.57237731e-05,\n",
              "        2.60142531e-05, 3.42542371e-05, 9.20445178e-05, 1.55819994e-05,\n",
              "        7.65385878e-05, 8.99477183e-05, 3.18284428e-05, 6.92986312e-05,\n",
              "        3.11633188e-04, 1.33364457e-05, 1.03577066e-04, 4.35188039e-05,\n",
              "        5.73134461e-05, 2.43464480e-05, 3.48081327e-05, 1.07844859e-04,\n",
              "        1.24226961e-04, 3.85198843e-05, 3.79767195e-05, 9.34576501e-06,\n",
              "        4.76366287e-05, 2.94442215e-05, 3.04773184e-05, 2.98023605e-05,\n",
              "        4.98057724e-05, 3.41804778e-05, 6.29899179e-05, 6.41239789e-05,\n",
              "        4.68168134e-05, 2.56392994e-05, 5.70368603e-05, 1.94602146e-05,\n",
              "        4.21220251e-05, 1.83663412e-05, 5.26937208e-05, 2.35543077e-05,\n",
              "        3.39950450e-05, 2.30833514e-05, 7.94226074e-05, 4.15602360e-05,\n",
              "        3.89171575e-05, 3.92881989e-05, 2.74148607e-05, 2.92174746e-05,\n",
              "        7.95304630e-05, 3.97778803e-05, 3.99512714e-05, 1.16913626e-05,\n",
              "        6.87472190e-05, 3.63398721e-05, 8.74398961e-05, 1.14712790e-05,\n",
              "        3.05596449e-05, 3.08350353e-05, 3.33937883e-05, 2.15123857e-05,\n",
              "        4.19631329e-05, 1.78218486e-05, 2.70379704e-05, 1.76822380e-05,\n",
              "        4.35766032e-05, 1.13896486e-04, 3.33143024e-05, 3.63943911e-05,\n",
              "        3.12255166e-05, 2.61429424e-05, 3.08434404e-05, 1.23641586e-05,\n",
              "        1.17032432e-04, 9.34660919e-05, 7.17075893e-05, 1.58797513e-05,\n",
              "        3.69262277e-05, 7.98717185e-05, 3.12593580e-05, 1.82828346e-05,\n",
              "        2.93730915e-05, 1.56680012e-05, 3.88271372e-05, 2.04803641e-05]),\n",
              " 'std_test_score': array([0.05186278, 0.05186278, 0.06521064, 0.06521064, 0.07914309,\n",
              "        0.05186278, 0.06707002, 0.06521064, 0.05322747, 0.0596853 ,\n",
              "        0.08015981, 0.07035568, 0.07826659, 0.06377445, 0.05370274,\n",
              "        0.07281178, 0.03240729, 0.03572564, 0.04392127, 0.08005248,\n",
              "        0.05275259, 0.05443079, 0.03921938, 0.06644   , 0.0396042 ,\n",
              "        0.04784685, 0.06397657, 0.06984935, 0.05544688, 0.04950421,\n",
              "        0.04250495, 0.07478353, 0.04361979, 0.04925372, 0.03735547,\n",
              "        0.07750397, 0.01656189, 0.05609445, 0.02347803, 0.06970058,\n",
              "        0.0275212 , 0.0524693 , 0.02761305, 0.06090201, 0.05451687,\n",
              "        0.05423398, 0.03893413, 0.06097822, 0.02808151, 0.04772901,\n",
              "        0.02511752, 0.06726998, 0.05918213, 0.05590137, 0.05386009,\n",
              "        0.06973995, 0.04459592, 0.0545342 , 0.049863  , 0.07122654,\n",
              "        0.05931175, 0.06570611, 0.05974909, 0.07135304, 0.0448961 ,\n",
              "        0.06428837, 0.04157244, 0.06383408, 0.05809152, 0.06496811,\n",
              "        0.05994033, 0.06772991, 0.04188781, 0.05049544, 0.0622282 ,\n",
              "        0.06383408, 0.05511186, 0.04896163, 0.03936987, 0.07122654,\n",
              "        0.04980992, 0.04896163, 0.05777484, 0.076915  , 0.0640154 ,\n",
              "        0.05856628, 0.04192603, 0.06650338, 0.04051095, 0.0563548 ,\n",
              "        0.0385033 , 0.07037959, 0.04205041, 0.03815567, 0.03961407,\n",
              "        0.07037959, 0.05200545, 0.03908396, 0.05131838, 0.06650338,\n",
              "        0.05030062, 0.04963754, 0.04098464, 0.06650338, 0.06140562,\n",
              "        0.06494004, 0.04906155, 0.06726998, 0.05200545, 0.07046858,\n",
              "        0.05553589, 0.06650338, 0.05076876, 0.07087866, 0.05975583,\n",
              "        0.06659274, 0.05044804, 0.07105295, 0.06159094, 0.06650338])}"
            ]
          },
          "metadata": {
            "tags": []
          },
          "execution_count": 40
        }
      ]
    },
    {
      "cell_type": "code",
      "metadata": {
        "id": "sWgj0iS7TyKB",
        "colab_type": "code",
        "colab": {
          "base_uri": "https://localhost:8080/",
          "height": 102
        },
        "outputId": "38f29d04-28fa-4889-ce04-515b52e4403d"
      },
      "source": [
        "print('Melhores parametros {} com o valor de acurácia {}'.format(grid.best_estimator_,grid.best_estimator_))"
      ],
      "execution_count": 45,
      "outputs": [
        {
          "output_type": "stream",
          "text": [
            "Melhores parametros KNeighborsClassifier(algorithm='auto', leaf_size=30, metric='minkowski',\n",
            "                     metric_params=None, n_jobs=None, n_neighbors=1, p=1,\n",
            "                     weights='uniform') com o valor de acurácia KNeighborsClassifier(algorithm='auto', leaf_size=30, metric='minkowski',\n",
            "                     metric_params=None, n_jobs=None, n_neighbors=1, p=1,\n",
            "                     weights='uniform')\n"
          ],
          "name": "stdout"
        }
      ]
    },
    {
      "cell_type": "code",
      "metadata": {
        "id": "yq2CWFZcSsTx",
        "colab_type": "code",
        "colab": {}
      },
      "source": [
        "scores = grid.cv_results_.get('mean_test_score')"
      ],
      "execution_count": 0,
      "outputs": []
    },
    {
      "cell_type": "code",
      "metadata": {
        "id": "RieL2zVfSuii",
        "colab_type": "code",
        "colab": {}
      },
      "source": [
        "k_rank = grid.cv_results_.get('rank_test_score')"
      ],
      "execution_count": 0,
      "outputs": []
    },
    {
      "cell_type": "code",
      "metadata": {
        "id": "38m8YwQrSvph",
        "colab_type": "code",
        "colab": {
          "base_uri": "https://localhost:8080/",
          "height": 34
        },
        "outputId": "94ff5024-7e8b-4022-ba1d-bf8ba8a1bf01"
      },
      "source": [
        "print(\"Melhores parametros {} com o valor de acurácia {} \".format(grid.best_params_,grid.best_score_))"
      ],
      "execution_count": 43,
      "outputs": [
        {
          "output_type": "stream",
          "text": [
            "Melhores parametros {'n_neighbors': 1, 'p': 1, 'weights': 'uniform'} com o valor de acurácia 0.8089887640449438 \n"
          ],
          "name": "stdout"
        }
      ]
    },
    {
      "cell_type": "markdown",
      "metadata": {
        "id": "vkoo1rT8UJQn",
        "colab_type": "text"
      },
      "source": [
        "## **Visualizando as fronteiras de complexidade**"
      ]
    },
    {
      "cell_type": "markdown",
      "metadata": {
        "id": "mFcaWBkPUR3n",
        "colab_type": "text"
      },
      "source": [
        "Selecionando os dados"
      ]
    },
    {
      "cell_type": "code",
      "metadata": {
        "id": "Gc0zp2P_UehJ",
        "colab_type": "code",
        "colab": {}
      },
      "source": [
        "X = wine.data[:,[0,2]]\n",
        "y = wine.target"
      ],
      "execution_count": 0,
      "outputs": []
    },
    {
      "cell_type": "markdown",
      "metadata": {
        "id": "iSpGL2pKUlbO",
        "colab_type": "text"
      },
      "source": [
        "Função para plot de fronteiras de acordo com o número de vizinhos"
      ]
    },
    {
      "cell_type": "code",
      "metadata": {
        "id": "nW5W0J1RUeeW",
        "colab_type": "code",
        "colab": {}
      },
      "source": [
        "from mlxtend.plotting import plot_decision_regions\n",
        "\n",
        "def plot_fronteiras(n_vizinhos):\n",
        "    knn = KNeighborsClassifier(n_neighbors=n_vizinhos)\n",
        "    knn.fit(X, y)\n",
        "    plt.figure(figsize=(8,5))\n",
        "    plot_decision_regions(X,y,clf=knn,legend=2)\n",
        "    plt.xlabel('alcohol')\n",
        "    plt.ylabel('malic_acid')\n",
        "    plt.title('Fronteiras de Complexidade - KNN')"
      ],
      "execution_count": 0,
      "outputs": []
    },
    {
      "cell_type": "markdown",
      "metadata": {
        "id": "fwB-79tgU8SY",
        "colab_type": "text"
      },
      "source": [
        "Valor de K=1"
      ]
    },
    {
      "cell_type": "code",
      "metadata": {
        "id": "uAKRX0tKUebF",
        "colab_type": "code",
        "colab": {
          "base_uri": "https://localhost:8080/",
          "height": 350
        },
        "outputId": "22a2fe99-7b5c-4bbc-878a-b45fbbf435cd"
      },
      "source": [
        "plot_fronteiras(1)"
      ],
      "execution_count": 59,
      "outputs": [
        {
          "output_type": "display_data",
          "data": {
            "image/png": "[encoded data removed]",
            "text/plain": [
              "<Figure size 576x360 with 1 Axes>"
            ]
          },
          "metadata": {
            "tags": []
          }
        }
      ]
    },
    {
      "cell_type": "code",
      "metadata": {
        "id": "SWIlv5QJUeX8",
        "colab_type": "code",
        "colab": {
          "base_uri": "https://localhost:8080/",
          "height": 350
        },
        "outputId": "d27eb748-9535-434a-cfa5-9b4a152d51bf"
      },
      "source": [
        "plot_fronteiras(3)"
      ],
      "execution_count": 60,
      "outputs": [
        {
          "output_type": "display_data",
          "data": {
            "image/png": "[encoded data removed]",
            "text/plain": [
              "<Figure size 576x360 with 1 Axes>"
            ]
          },
          "metadata": {
            "tags": []
          }
        }
      ]
    },
    {
      "cell_type": "code",
      "metadata": {
        "id": "9smHbvQVUeVe",
        "colab_type": "code",
        "colab": {
          "base_uri": "https://localhost:8080/",
          "height": 350
        },
        "outputId": "8496f12b-44e9-4c72-9013-fd80f0264fac"
      },
      "source": [
        "plot_fronteiras(30)"
      ],
      "execution_count": 61,
      "outputs": [
        {
          "output_type": "display_data",
          "data": {
            "image/png": "[encoded data removed]",
            "text/plain": [
              "<Figure size 576x360 with 1 Axes>"
            ]
          },
          "metadata": {
            "tags": []
          }
        }
      ]
    },
    {
      "cell_type": "code",
      "metadata": {
        "id": "Vi108zOsSzFR",
        "colab_type": "code",
        "colab": {}
      },
      "source": [
        "  "
      ],
      "execution_count": 0,
      "outputs": []
    }
  ]
}
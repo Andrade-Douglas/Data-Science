{
  "nbformat": 4,
  "nbformat_minor": 0,
  "metadata": {
    "colab": {
      "name": "consumidor_gov.ipynb",
      "provenance": [],
      "collapsed_sections": [],
      "include_colab_link": true
    },
    "kernelspec": {
      "name": "python3",
      "display_name": "Python 3"
    }
  },
  "cells": [
    {
      "cell_type": "markdown",
      "metadata": {
        "id": "view-in-github",
        "colab_type": "text"
      },
      "source": [
        "<a href=\"https://colab.research.google.com/github/Andrade-Douglas/Data-Science/blob/master/consumidor_gov.ipynb\" target=\"_parent\"><img src=\"https://colab.research.google.com/assets/colab-badge.svg\" alt=\"Open In Colab\"/></a>"
      ]
    },
    {
      "cell_type": "markdown",
      "metadata": {
        "id": "KfTxSQy47hLn",
        "colab_type": "text"
      },
      "source": [
        "# **Reclamações de Consumidores**\n",
        "url: https://www.consumidor.gov.br\n",
        "\n",
        "data: Página inicial >> Indicadores >> Dados Abertos >> Dados - 2º Semestre/2018"
      ]
    },
    {
      "cell_type": "code",
      "metadata": {
        "id": "K-_B_RQp15pE",
        "colab_type": "code",
        "colab": {
          "base_uri": "https://localhost:8080/",
          "height": 139
        },
        "outputId": "c59e3f8d-9c47-4beb-dabc-e43c80cc52b0"
      },
      "source": [
        "from google.colab import drive\n",
        "drive.mount('/gdrive')\n",
        "%cd /gdrive"
      ],
      "execution_count": 1,
      "outputs": [
        {
          "output_type": "stream",
          "text": [
            "Go to this URL in a browser: https://accounts.google.com/o/oauth2/auth?client_id=947318989803-6bn6qk8qdgf4n4g3pfee6491hc0brc4i.apps.googleusercontent.com&redirect_uri=urn%3Aietf%3Awg%3Aoauth%3A2.0%3Aoob&scope=email%20https%3A%2F%2Fwww.googleapis.com%2Fauth%2Fdocs.test%20https%3A%2F%2Fwww.googleapis.com%2Fauth%2Fdrive%20https%3A%2F%2Fwww.googleapis.com%2Fauth%2Fdrive.photos.readonly%20https%3A%2F%2Fwww.googleapis.com%2Fauth%2Fpeopleapi.readonly&response_type=code\n",
            "\n",
            "Enter your authorization code:\n",
            "··········\n",
            "Mounted at /gdrive\n",
            "/gdrive\n"
          ],
          "name": "stdout"
        }
      ]
    },
    {
      "cell_type": "code",
      "metadata": {
        "id": "pebpxCZV8ayU",
        "colab_type": "code",
        "colab": {}
      },
      "source": [
        "import pandas as pd"
      ],
      "execution_count": 0,
      "outputs": []
    },
    {
      "cell_type": "code",
      "metadata": {
        "id": "7nSe5B6l88zF",
        "colab_type": "code",
        "colab": {
          "base_uri": "https://localhost:8080/",
          "height": 493
        },
        "outputId": "dd84654f-cc9a-4b24-b517-6f05e60f0f3f"
      },
      "source": [
        "file = r'/gdrive/My Drive/Colab Notebooks/Datasets/consumidor_gov_2_semestre.csv'\n",
        "missing_values = ['N/A', 'NA', 'NAN', 'n/a', 'na', 'nan', '--', '.', '']\n",
        "\n",
        "data_base = pd.read_csv(file, encoding='latin-1', error_bad_lines=False, sep=';', na_values= missing_values)\n",
        "data_base.head()"
      ],
      "execution_count": 3,
      "outputs": [
        {
          "output_type": "execute_result",
          "data": {
            "text/html": [
              "<div>\n",
              "<style scoped>\n",
              "    .dataframe tbody tr th:only-of-type {\n",
              "        vertical-align: middle;\n",
              "    }\n",
              "\n",
              "    .dataframe tbody tr th {\n",
              "        vertical-align: top;\n",
              "    }\n",
              "\n",
              "    .dataframe thead th {\n",
              "        text-align: right;\n",
              "    }\n",
              "</style>\n",
              "<table border=\"1\" class=\"dataframe\">\n",
              "  <thead>\n",
              "    <tr style=\"text-align: right;\">\n",
              "      <th></th>\n",
              "      <th>Região</th>\n",
              "      <th>UF</th>\n",
              "      <th>Cidade</th>\n",
              "      <th>Sexo</th>\n",
              "      <th>Faixa Etária</th>\n",
              "      <th>Data Finalização</th>\n",
              "      <th>Tempo Resposta</th>\n",
              "      <th>Nome Fantasia</th>\n",
              "      <th>Segmento de Mercado</th>\n",
              "      <th>Área</th>\n",
              "      <th>Assunto</th>\n",
              "      <th>Grupo Problema</th>\n",
              "      <th>Problema</th>\n",
              "      <th>Como Comprou Contratou</th>\n",
              "      <th>Procurou Empresa</th>\n",
              "      <th>Respondida</th>\n",
              "      <th>Situação</th>\n",
              "      <th>Avaliação Reclamação</th>\n",
              "      <th>Nota do Consumidor</th>\n",
              "      <th>Total</th>\n",
              "    </tr>\n",
              "  </thead>\n",
              "  <tbody>\n",
              "    <tr>\n",
              "      <th>0</th>\n",
              "      <td>SE</td>\n",
              "      <td>SP</td>\n",
              "      <td>Jaú</td>\n",
              "      <td>F</td>\n",
              "      <td>entre 41 a 50 anos</td>\n",
              "      <td>23/07/2018</td>\n",
              "      <td>1.0</td>\n",
              "      <td>Magazineluiza.com</td>\n",
              "      <td>Comércio Eletrônico</td>\n",
              "      <td>Produtos Eletrodomésticos e Eletrônicos</td>\n",
              "      <td>Fogão, microondas, forno elétrico, depurador d...</td>\n",
              "      <td>Contrato / Oferta</td>\n",
              "      <td>Recusa em cancelar compra/serviço no prazo de ...</td>\n",
              "      <td>Internet</td>\n",
              "      <td>N</td>\n",
              "      <td>S</td>\n",
              "      <td>Finalizada avaliada</td>\n",
              "      <td>Resolvida</td>\n",
              "      <td>5.0</td>\n",
              "      <td>1</td>\n",
              "    </tr>\n",
              "    <tr>\n",
              "      <th>1</th>\n",
              "      <td>CO</td>\n",
              "      <td>DF</td>\n",
              "      <td>Brasília</td>\n",
              "      <td>M</td>\n",
              "      <td>entre 31 a 40 anos</td>\n",
              "      <td>20/07/2018</td>\n",
              "      <td>1.0</td>\n",
              "      <td>Multiplus</td>\n",
              "      <td>Programas de Fidelidade</td>\n",
              "      <td>Demais Serviços</td>\n",
              "      <td>Programas de Fidelidade / Benefícios (pontos, ...</td>\n",
              "      <td>Contrato / Oferta</td>\n",
              "      <td>Oferta não cumprida / serviço não fornecido/ v...</td>\n",
              "      <td>Internet</td>\n",
              "      <td>S</td>\n",
              "      <td>S</td>\n",
              "      <td>Finalizada avaliada</td>\n",
              "      <td>Resolvida</td>\n",
              "      <td>5.0</td>\n",
              "      <td>1</td>\n",
              "    </tr>\n",
              "    <tr>\n",
              "      <th>2</th>\n",
              "      <td>SE</td>\n",
              "      <td>SP</td>\n",
              "      <td>Jundiaí</td>\n",
              "      <td>M</td>\n",
              "      <td>entre 21 a 30 anos</td>\n",
              "      <td>28/07/2018</td>\n",
              "      <td>7.0</td>\n",
              "      <td>Claro Celular</td>\n",
              "      <td>Operadoras de Telecomunicações (Telefonia, Int...</td>\n",
              "      <td>Telecomunicações</td>\n",
              "      <td>Telefonia Móvel Pós-paga</td>\n",
              "      <td>Contrato / Oferta</td>\n",
              "      <td>Oferta não cumprida / serviço não fornecido/ v...</td>\n",
              "      <td>Loja física</td>\n",
              "      <td>S</td>\n",
              "      <td>S</td>\n",
              "      <td>Finalizada avaliada</td>\n",
              "      <td>Resolvida</td>\n",
              "      <td>5.0</td>\n",
              "      <td>1</td>\n",
              "    </tr>\n",
              "    <tr>\n",
              "      <th>3</th>\n",
              "      <td>NE</td>\n",
              "      <td>BA</td>\n",
              "      <td>Eunápolis</td>\n",
              "      <td>M</td>\n",
              "      <td>entre 31 a 40 anos</td>\n",
              "      <td>27/07/2018</td>\n",
              "      <td>8.0</td>\n",
              "      <td>Oi Fixo</td>\n",
              "      <td>Operadoras de Telecomunicações (Telefonia, Int...</td>\n",
              "      <td>Telecomunicações</td>\n",
              "      <td>Internet Fixa</td>\n",
              "      <td>Cobrança / Contestação</td>\n",
              "      <td>Cobrança por serviço não fornecido/ em desacor...</td>\n",
              "      <td>Não comprei / contratei</td>\n",
              "      <td>N</td>\n",
              "      <td>S</td>\n",
              "      <td>Finalizada avaliada</td>\n",
              "      <td>Resolvida</td>\n",
              "      <td>5.0</td>\n",
              "      <td>1</td>\n",
              "    </tr>\n",
              "    <tr>\n",
              "      <th>4</th>\n",
              "      <td>NE</td>\n",
              "      <td>BA</td>\n",
              "      <td>Salvador</td>\n",
              "      <td>M</td>\n",
              "      <td>entre 31 a 40 anos</td>\n",
              "      <td>27/07/2018</td>\n",
              "      <td>8.0</td>\n",
              "      <td>Caixa Econômica Federal</td>\n",
              "      <td>Bancos, Financeiras e Administradoras de Cartão</td>\n",
              "      <td>Serviços Financeiros</td>\n",
              "      <td>Crédito Pessoal e Demais Empréstimos (exceto f...</td>\n",
              "      <td>Cobrança / Contestação</td>\n",
              "      <td>Negativação indevida - desconhece motivo e/ou ...</td>\n",
              "      <td>Telefone</td>\n",
              "      <td>N</td>\n",
              "      <td>S</td>\n",
              "      <td>Finalizada avaliada</td>\n",
              "      <td>Resolvida</td>\n",
              "      <td>5.0</td>\n",
              "      <td>1</td>\n",
              "    </tr>\n",
              "  </tbody>\n",
              "</table>\n",
              "</div>"
            ],
            "text/plain": [
              "  Região  UF     Cidade  ... Avaliação Reclamação Nota do Consumidor Total\n",
              "0     SE  SP        Jaú  ...            Resolvida                5.0     1\n",
              "1     CO  DF   Brasília  ...            Resolvida                5.0     1\n",
              "2     SE  SP    Jundiaí  ...            Resolvida                5.0     1\n",
              "3     NE  BA  Eunápolis  ...            Resolvida                5.0     1\n",
              "4     NE  BA   Salvador  ...            Resolvida                5.0     1\n",
              "\n",
              "[5 rows x 20 columns]"
            ]
          },
          "metadata": {
            "tags": []
          },
          "execution_count": 3
        }
      ]
    },
    {
      "cell_type": "code",
      "metadata": {
        "id": "k0rAT3059Kg-",
        "colab_type": "code",
        "colab": {
          "base_uri": "https://localhost:8080/",
          "height": 34
        },
        "outputId": "3f3f58bb-f086-420b-8cad-4e4cff202f0f"
      },
      "source": [
        "# número de linha, coluna\n",
        "data_base.shape"
      ],
      "execution_count": 5,
      "outputs": [
        {
          "output_type": "execute_result",
          "data": {
            "text/plain": [
              "(306965, 20)"
            ]
          },
          "metadata": {
            "tags": []
          },
          "execution_count": 5
        }
      ]
    },
    {
      "cell_type": "code",
      "metadata": {
        "id": "D8LrIEiw9PWi",
        "colab_type": "code",
        "colab": {
          "base_uri": "https://localhost:8080/",
          "height": 442
        },
        "outputId": "a0dab838-d6f0-4384-b4b8-ff58357d5b4a"
      },
      "source": [
        "# informações a respeito do DataFrame\n",
        "data_base.info()"
      ],
      "execution_count": 6,
      "outputs": [
        {
          "output_type": "stream",
          "text": [
            "<class 'pandas.core.frame.DataFrame'>\n",
            "RangeIndex: 306965 entries, 0 to 306964\n",
            "Data columns (total 20 columns):\n",
            "Região                    306965 non-null object\n",
            "UF                        306965 non-null object\n",
            "Cidade                    306965 non-null object\n",
            "Sexo                      306965 non-null object\n",
            "Faixa Etária              306965 non-null object\n",
            "Data Finalização          306965 non-null object\n",
            "Tempo Resposta            305327 non-null float64\n",
            "Nome Fantasia             306965 non-null object\n",
            "Segmento de Mercado       306965 non-null object\n",
            "Área                      306965 non-null object\n",
            "Assunto                   306965 non-null object\n",
            "Grupo Problema            306965 non-null object\n",
            "Problema                  306965 non-null object\n",
            "Como Comprou Contratou    306965 non-null object\n",
            "Procurou Empresa          306965 non-null object\n",
            "Respondida                306965 non-null object\n",
            "Situação                  306965 non-null object\n",
            "Avaliação Reclamação      306965 non-null object\n",
            "Nota do Consumidor        182864 non-null float64\n",
            "Total                     306965 non-null int64\n",
            "dtypes: float64(2), int64(1), object(17)\n",
            "memory usage: 46.8+ MB\n"
          ],
          "name": "stdout"
        }
      ]
    },
    {
      "cell_type": "code",
      "metadata": {
        "id": "G-1ZDpiy9ZD7",
        "colab_type": "code",
        "colab": {
          "base_uri": "https://localhost:8080/",
          "height": 366
        },
        "outputId": "531c7b26-7e75-4c2e-d295-c08b701805c9"
      },
      "source": [
        "# renomear colunas\n",
        "data_base.columns=data_base.columns.str.lower().str.replace(' ', '_').str.replace('ã', 'a').str.replace('á', 'a').str.replace('ç', 'c')\n",
        "data_base.head(n = 3)"
      ],
      "execution_count": 8,
      "outputs": [
        {
          "output_type": "execute_result",
          "data": {
            "text/html": [
              "<div>\n",
              "<style scoped>\n",
              "    .dataframe tbody tr th:only-of-type {\n",
              "        vertical-align: middle;\n",
              "    }\n",
              "\n",
              "    .dataframe tbody tr th {\n",
              "        vertical-align: top;\n",
              "    }\n",
              "\n",
              "    .dataframe thead th {\n",
              "        text-align: right;\n",
              "    }\n",
              "</style>\n",
              "<table border=\"1\" class=\"dataframe\">\n",
              "  <thead>\n",
              "    <tr style=\"text-align: right;\">\n",
              "      <th></th>\n",
              "      <th>regiao</th>\n",
              "      <th>uf</th>\n",
              "      <th>cidade</th>\n",
              "      <th>sexo</th>\n",
              "      <th>faixa_etaria</th>\n",
              "      <th>data_finalizacao</th>\n",
              "      <th>tempo_resposta</th>\n",
              "      <th>nome_fantasia</th>\n",
              "      <th>segmento_de_mercado</th>\n",
              "      <th>area</th>\n",
              "      <th>assunto</th>\n",
              "      <th>grupo_problema</th>\n",
              "      <th>problema</th>\n",
              "      <th>como_comprou_contratou</th>\n",
              "      <th>procurou_empresa</th>\n",
              "      <th>respondida</th>\n",
              "      <th>situacao</th>\n",
              "      <th>avaliacao_reclamacao</th>\n",
              "      <th>nota_do_consumidor</th>\n",
              "      <th>total</th>\n",
              "    </tr>\n",
              "  </thead>\n",
              "  <tbody>\n",
              "    <tr>\n",
              "      <th>0</th>\n",
              "      <td>SE</td>\n",
              "      <td>SP</td>\n",
              "      <td>Jaú</td>\n",
              "      <td>F</td>\n",
              "      <td>entre 41 a 50 anos</td>\n",
              "      <td>23/07/2018</td>\n",
              "      <td>1.0</td>\n",
              "      <td>Magazineluiza.com</td>\n",
              "      <td>Comércio Eletrônico</td>\n",
              "      <td>Produtos Eletrodomésticos e Eletrônicos</td>\n",
              "      <td>Fogão, microondas, forno elétrico, depurador d...</td>\n",
              "      <td>Contrato / Oferta</td>\n",
              "      <td>Recusa em cancelar compra/serviço no prazo de ...</td>\n",
              "      <td>Internet</td>\n",
              "      <td>N</td>\n",
              "      <td>S</td>\n",
              "      <td>Finalizada avaliada</td>\n",
              "      <td>Resolvida</td>\n",
              "      <td>5.0</td>\n",
              "      <td>1</td>\n",
              "    </tr>\n",
              "    <tr>\n",
              "      <th>1</th>\n",
              "      <td>CO</td>\n",
              "      <td>DF</td>\n",
              "      <td>Brasília</td>\n",
              "      <td>M</td>\n",
              "      <td>entre 31 a 40 anos</td>\n",
              "      <td>20/07/2018</td>\n",
              "      <td>1.0</td>\n",
              "      <td>Multiplus</td>\n",
              "      <td>Programas de Fidelidade</td>\n",
              "      <td>Demais Serviços</td>\n",
              "      <td>Programas de Fidelidade / Benefícios (pontos, ...</td>\n",
              "      <td>Contrato / Oferta</td>\n",
              "      <td>Oferta não cumprida / serviço não fornecido/ v...</td>\n",
              "      <td>Internet</td>\n",
              "      <td>S</td>\n",
              "      <td>S</td>\n",
              "      <td>Finalizada avaliada</td>\n",
              "      <td>Resolvida</td>\n",
              "      <td>5.0</td>\n",
              "      <td>1</td>\n",
              "    </tr>\n",
              "    <tr>\n",
              "      <th>2</th>\n",
              "      <td>SE</td>\n",
              "      <td>SP</td>\n",
              "      <td>Jundiaí</td>\n",
              "      <td>M</td>\n",
              "      <td>entre 21 a 30 anos</td>\n",
              "      <td>28/07/2018</td>\n",
              "      <td>7.0</td>\n",
              "      <td>Claro Celular</td>\n",
              "      <td>Operadoras de Telecomunicações (Telefonia, Int...</td>\n",
              "      <td>Telecomunicações</td>\n",
              "      <td>Telefonia Móvel Pós-paga</td>\n",
              "      <td>Contrato / Oferta</td>\n",
              "      <td>Oferta não cumprida / serviço não fornecido/ v...</td>\n",
              "      <td>Loja física</td>\n",
              "      <td>S</td>\n",
              "      <td>S</td>\n",
              "      <td>Finalizada avaliada</td>\n",
              "      <td>Resolvida</td>\n",
              "      <td>5.0</td>\n",
              "      <td>1</td>\n",
              "    </tr>\n",
              "  </tbody>\n",
              "</table>\n",
              "</div>"
            ],
            "text/plain": [
              "  regiao  uf    cidade  ... avaliacao_reclamacao nota_do_consumidor total\n",
              "0     SE  SP       Jaú  ...            Resolvida                5.0     1\n",
              "1     CO  DF  Brasília  ...            Resolvida                5.0     1\n",
              "2     SE  SP   Jundiaí  ...            Resolvida                5.0     1\n",
              "\n",
              "[3 rows x 20 columns]"
            ]
          },
          "metadata": {
            "tags": []
          },
          "execution_count": 8
        }
      ]
    },
    {
      "cell_type": "code",
      "metadata": {
        "id": "-J6LkJZEHgYx",
        "colab_type": "code",
        "colab": {
          "base_uri": "https://localhost:8080/",
          "height": 34
        },
        "outputId": "9f424f19-78b3-4bb8-b1e0-2a46c51c0f18"
      },
      "source": [
        "# pesquisar por células vazias\n",
        "data_base.isnull().values.any()"
      ],
      "execution_count": 9,
      "outputs": [
        {
          "output_type": "execute_result",
          "data": {
            "text/plain": [
              "True"
            ]
          },
          "metadata": {
            "tags": []
          },
          "execution_count": 9
        }
      ]
    },
    {
      "cell_type": "code",
      "metadata": {
        "id": "UlJj8NdfHnhd",
        "colab_type": "code",
        "colab": {
          "base_uri": "https://localhost:8080/",
          "height": 34
        },
        "outputId": "bebdbfce-69ba-4027-c63d-1b3f1117fcae"
      },
      "source": [
        "# quantidade de células vazias\n",
        "data_base.isnull().sum().sum()"
      ],
      "execution_count": 11,
      "outputs": [
        {
          "output_type": "execute_result",
          "data": {
            "text/plain": [
              "125739"
            ]
          },
          "metadata": {
            "tags": []
          },
          "execution_count": 11
        }
      ]
    },
    {
      "cell_type": "code",
      "metadata": {
        "id": "rDFrkm8pHrMc",
        "colab_type": "code",
        "colab": {
          "base_uri": "https://localhost:8080/",
          "height": 374
        },
        "outputId": "caca68c3-4e80-4a76-ca14-d2121639e047"
      },
      "source": [
        "# onde estão as células vazias\n",
        "data_base.isnull().sum()"
      ],
      "execution_count": 13,
      "outputs": [
        {
          "output_type": "execute_result",
          "data": {
            "text/plain": [
              "regiao                         0\n",
              "uf                             0\n",
              "cidade                         0\n",
              "sexo                           0\n",
              "faixa_etaria                   0\n",
              "data_finalizacao               0\n",
              "tempo_resposta              1638\n",
              "nome_fantasia                  0\n",
              "segmento_de_mercado            0\n",
              "area                           0\n",
              "assunto                        0\n",
              "grupo_problema                 0\n",
              "problema                       0\n",
              "como_comprou_contratou         0\n",
              "procurou_empresa               0\n",
              "respondida                     0\n",
              "situacao                       0\n",
              "avaliacao_reclamacao           0\n",
              "nota_do_consumidor        124101\n",
              "total                          0\n",
              "dtype: int64"
            ]
          },
          "metadata": {
            "tags": []
          },
          "execution_count": 13
        }
      ]
    },
    {
      "cell_type": "code",
      "metadata": {
        "id": "a7yju_--HyX9",
        "colab_type": "code",
        "colab": {
          "base_uri": "https://localhost:8080/",
          "height": 366
        },
        "outputId": "402f7d4e-4717-4ca0-8339-1ba1735f450b"
      },
      "source": [
        "  celulas_vazias = data_base[data_base.tempo_resposta.isnull()]\n",
        "  celulas_vazias.head(n= 3)"
      ],
      "execution_count": 15,
      "outputs": [
        {
          "output_type": "execute_result",
          "data": {
            "text/html": [
              "<div>\n",
              "<style scoped>\n",
              "    .dataframe tbody tr th:only-of-type {\n",
              "        vertical-align: middle;\n",
              "    }\n",
              "\n",
              "    .dataframe tbody tr th {\n",
              "        vertical-align: top;\n",
              "    }\n",
              "\n",
              "    .dataframe thead th {\n",
              "        text-align: right;\n",
              "    }\n",
              "</style>\n",
              "<table border=\"1\" class=\"dataframe\">\n",
              "  <thead>\n",
              "    <tr style=\"text-align: right;\">\n",
              "      <th></th>\n",
              "      <th>regiao</th>\n",
              "      <th>uf</th>\n",
              "      <th>cidade</th>\n",
              "      <th>sexo</th>\n",
              "      <th>faixa_etaria</th>\n",
              "      <th>data_finalizacao</th>\n",
              "      <th>tempo_resposta</th>\n",
              "      <th>nome_fantasia</th>\n",
              "      <th>segmento_de_mercado</th>\n",
              "      <th>area</th>\n",
              "      <th>assunto</th>\n",
              "      <th>grupo_problema</th>\n",
              "      <th>problema</th>\n",
              "      <th>como_comprou_contratou</th>\n",
              "      <th>procurou_empresa</th>\n",
              "      <th>respondida</th>\n",
              "      <th>situacao</th>\n",
              "      <th>avaliacao_reclamacao</th>\n",
              "      <th>nota_do_consumidor</th>\n",
              "      <th>total</th>\n",
              "    </tr>\n",
              "  </thead>\n",
              "  <tbody>\n",
              "    <tr>\n",
              "      <th>10</th>\n",
              "      <td>SE</td>\n",
              "      <td>ES</td>\n",
              "      <td>Serra</td>\n",
              "      <td>M</td>\n",
              "      <td>entre 41 a 50 anos</td>\n",
              "      <td>30/07/2018</td>\n",
              "      <td>NaN</td>\n",
              "      <td>Panini</td>\n",
              "      <td>Editoras</td>\n",
              "      <td>Demais Produtos</td>\n",
              "      <td>Livros e papelaria (material didático, jornais...</td>\n",
              "      <td>Entrega do Produto</td>\n",
              "      <td>Não entrega / demora na entrega do produto</td>\n",
              "      <td>Internet</td>\n",
              "      <td>S</td>\n",
              "      <td>N</td>\n",
              "      <td>Finalizada avaliada</td>\n",
              "      <td>Resolvida</td>\n",
              "      <td>5.0</td>\n",
              "      <td>1</td>\n",
              "    </tr>\n",
              "    <tr>\n",
              "      <th>100</th>\n",
              "      <td>NE</td>\n",
              "      <td>PE</td>\n",
              "      <td>Santa Maria da Boa Vista</td>\n",
              "      <td>M</td>\n",
              "      <td>entre 41 a 50 anos</td>\n",
              "      <td>26/07/2018</td>\n",
              "      <td>NaN</td>\n",
              "      <td>Philips Áudio e Vídeo</td>\n",
              "      <td>Fabricantes - Eletroeletrônicos,  Produtos de ...</td>\n",
              "      <td>Produtos Eletrodomésticos e Eletrônicos</td>\n",
              "      <td>Aparelho de som, video e imagem ( Câmera, film...</td>\n",
              "      <td>Vício de Qualidade</td>\n",
              "      <td>Produto danificado / não funciona - Dificuldad...</td>\n",
              "      <td>Loja física</td>\n",
              "      <td>S</td>\n",
              "      <td>N</td>\n",
              "      <td>Finalizada avaliada</td>\n",
              "      <td>Não Resolvida</td>\n",
              "      <td>1.0</td>\n",
              "      <td>1</td>\n",
              "    </tr>\n",
              "    <tr>\n",
              "      <th>247</th>\n",
              "      <td>NE</td>\n",
              "      <td>CE</td>\n",
              "      <td>Maracanaú</td>\n",
              "      <td>M</td>\n",
              "      <td>até 20 anos</td>\n",
              "      <td>15/07/2018</td>\n",
              "      <td>NaN</td>\n",
              "      <td>Boa Vista Serviços - SCPC (Serviço Central de ...</td>\n",
              "      <td>Bancos de Dados e Cadastros de Consumidores</td>\n",
              "      <td>Serviços Financeiros</td>\n",
              "      <td>Banco de Dados e Cadastros de Consumidores (SP...</td>\n",
              "      <td>Informação</td>\n",
              "      <td>Dados pessoais ou financeiros consultados, col...</td>\n",
              "      <td>Internet</td>\n",
              "      <td>N</td>\n",
              "      <td>N</td>\n",
              "      <td>Finalizada avaliada</td>\n",
              "      <td>Não Resolvida</td>\n",
              "      <td>1.0</td>\n",
              "      <td>1</td>\n",
              "    </tr>\n",
              "  </tbody>\n",
              "</table>\n",
              "</div>"
            ],
            "text/plain": [
              "    regiao  uf  ... nota_do_consumidor total\n",
              "10      SE  ES  ...                5.0     1\n",
              "100     NE  PE  ...                1.0     1\n",
              "247     NE  CE  ...                1.0     1\n",
              "\n",
              "[3 rows x 20 columns]"
            ]
          },
          "metadata": {
            "tags": []
          },
          "execution_count": 15
        }
      ]
    },
    {
      "cell_type": "markdown",
      "metadata": {
        "id": "nPdQDXHqIjfS",
        "colab_type": "text"
      },
      "source": [
        "**Número de reclamações por estado**"
      ]
    },
    {
      "cell_type": "code",
      "metadata": {
        "id": "UkToQvPaIxGd",
        "colab_type": "code",
        "colab": {
          "base_uri": "https://localhost:8080/",
          "height": 886
        },
        "outputId": "209348d1-e2d4-46a0-87f8-c914ecc49bb4"
      },
      "source": [
        "data_base[u'uf'].value_counts().reset_index()"
      ],
      "execution_count": 23,
      "outputs": [
        {
          "output_type": "execute_result",
          "data": {
            "text/html": [
              "<div>\n",
              "<style scoped>\n",
              "    .dataframe tbody tr th:only-of-type {\n",
              "        vertical-align: middle;\n",
              "    }\n",
              "\n",
              "    .dataframe tbody tr th {\n",
              "        vertical-align: top;\n",
              "    }\n",
              "\n",
              "    .dataframe thead th {\n",
              "        text-align: right;\n",
              "    }\n",
              "</style>\n",
              "<table border=\"1\" class=\"dataframe\">\n",
              "  <thead>\n",
              "    <tr style=\"text-align: right;\">\n",
              "      <th></th>\n",
              "      <th>index</th>\n",
              "      <th>uf</th>\n",
              "    </tr>\n",
              "  </thead>\n",
              "  <tbody>\n",
              "    <tr>\n",
              "      <th>0</th>\n",
              "      <td>SP</td>\n",
              "      <td>92461</td>\n",
              "    </tr>\n",
              "    <tr>\n",
              "      <th>1</th>\n",
              "      <td>RJ</td>\n",
              "      <td>31015</td>\n",
              "    </tr>\n",
              "    <tr>\n",
              "      <th>2</th>\n",
              "      <td>PR</td>\n",
              "      <td>26462</td>\n",
              "    </tr>\n",
              "    <tr>\n",
              "      <th>3</th>\n",
              "      <td>MG</td>\n",
              "      <td>24718</td>\n",
              "    </tr>\n",
              "    <tr>\n",
              "      <th>4</th>\n",
              "      <td>RS</td>\n",
              "      <td>23594</td>\n",
              "    </tr>\n",
              "    <tr>\n",
              "      <th>5</th>\n",
              "      <td>BA</td>\n",
              "      <td>15244</td>\n",
              "    </tr>\n",
              "    <tr>\n",
              "      <th>6</th>\n",
              "      <td>DF</td>\n",
              "      <td>12801</td>\n",
              "    </tr>\n",
              "    <tr>\n",
              "      <th>7</th>\n",
              "      <td>SC</td>\n",
              "      <td>10449</td>\n",
              "    </tr>\n",
              "    <tr>\n",
              "      <th>8</th>\n",
              "      <td>GO</td>\n",
              "      <td>9617</td>\n",
              "    </tr>\n",
              "    <tr>\n",
              "      <th>9</th>\n",
              "      <td>CE</td>\n",
              "      <td>8652</td>\n",
              "    </tr>\n",
              "    <tr>\n",
              "      <th>10</th>\n",
              "      <td>ES</td>\n",
              "      <td>7309</td>\n",
              "    </tr>\n",
              "    <tr>\n",
              "      <th>11</th>\n",
              "      <td>PE</td>\n",
              "      <td>7273</td>\n",
              "    </tr>\n",
              "    <tr>\n",
              "      <th>12</th>\n",
              "      <td>MA</td>\n",
              "      <td>4944</td>\n",
              "    </tr>\n",
              "    <tr>\n",
              "      <th>13</th>\n",
              "      <td>MT</td>\n",
              "      <td>4635</td>\n",
              "    </tr>\n",
              "    <tr>\n",
              "      <th>14</th>\n",
              "      <td>MS</td>\n",
              "      <td>4148</td>\n",
              "    </tr>\n",
              "    <tr>\n",
              "      <th>15</th>\n",
              "      <td>PA</td>\n",
              "      <td>3492</td>\n",
              "    </tr>\n",
              "    <tr>\n",
              "      <th>16</th>\n",
              "      <td>PI</td>\n",
              "      <td>3246</td>\n",
              "    </tr>\n",
              "    <tr>\n",
              "      <th>17</th>\n",
              "      <td>AM</td>\n",
              "      <td>3240</td>\n",
              "    </tr>\n",
              "    <tr>\n",
              "      <th>18</th>\n",
              "      <td>PB</td>\n",
              "      <td>2944</td>\n",
              "    </tr>\n",
              "    <tr>\n",
              "      <th>19</th>\n",
              "      <td>RN</td>\n",
              "      <td>2221</td>\n",
              "    </tr>\n",
              "    <tr>\n",
              "      <th>20</th>\n",
              "      <td>AL</td>\n",
              "      <td>1950</td>\n",
              "    </tr>\n",
              "    <tr>\n",
              "      <th>21</th>\n",
              "      <td>SE</td>\n",
              "      <td>1618</td>\n",
              "    </tr>\n",
              "    <tr>\n",
              "      <th>22</th>\n",
              "      <td>RO</td>\n",
              "      <td>1458</td>\n",
              "    </tr>\n",
              "    <tr>\n",
              "      <th>23</th>\n",
              "      <td>TO</td>\n",
              "      <td>1352</td>\n",
              "    </tr>\n",
              "    <tr>\n",
              "      <th>24</th>\n",
              "      <td>AC</td>\n",
              "      <td>1068</td>\n",
              "    </tr>\n",
              "    <tr>\n",
              "      <th>25</th>\n",
              "      <td>RR</td>\n",
              "      <td>610</td>\n",
              "    </tr>\n",
              "    <tr>\n",
              "      <th>26</th>\n",
              "      <td>AP</td>\n",
              "      <td>444</td>\n",
              "    </tr>\n",
              "  </tbody>\n",
              "</table>\n",
              "</div>"
            ],
            "text/plain": [
              "   index     uf\n",
              "0     SP  92461\n",
              "1     RJ  31015\n",
              "2     PR  26462\n",
              "3     MG  24718\n",
              "4     RS  23594\n",
              "5     BA  15244\n",
              "6     DF  12801\n",
              "7     SC  10449\n",
              "8     GO   9617\n",
              "9     CE   8652\n",
              "10    ES   7309\n",
              "11    PE   7273\n",
              "12    MA   4944\n",
              "13    MT   4635\n",
              "14    MS   4148\n",
              "15    PA   3492\n",
              "16    PI   3246\n",
              "17    AM   3240\n",
              "18    PB   2944\n",
              "19    RN   2221\n",
              "20    AL   1950\n",
              "21    SE   1618\n",
              "22    RO   1458\n",
              "23    TO   1352\n",
              "24    AC   1068\n",
              "25    RR    610\n",
              "26    AP    444"
            ]
          },
          "metadata": {
            "tags": []
          },
          "execution_count": 23
        }
      ]
    },
    {
      "cell_type": "code",
      "metadata": {
        "id": "VfS1KFFsJ-LS",
        "colab_type": "code",
        "colab": {}
      },
      "source": [
        "import seaborn as sns\n",
        "\n",
        "sns.set(style = 'darkgrid')"
      ],
      "execution_count": 0,
      "outputs": []
    },
    {
      "cell_type": "markdown",
      "metadata": {
        "id": "3jTSltMrJcID",
        "colab_type": "text"
      },
      "source": [
        "**Número de reclamação por gênero**"
      ]
    },
    {
      "cell_type": "code",
      "metadata": {
        "id": "l5DD4zjBJOCG",
        "colab_type": "code",
        "colab": {
          "base_uri": "https://localhost:8080/",
          "height": 111
        },
        "outputId": "824ed113-dda7-4ddc-c004-f17540d46588"
      },
      "source": [
        "data_base[u'sexo'].value_counts().reset_index()"
      ],
      "execution_count": 26,
      "outputs": [
        {
          "output_type": "execute_result",
          "data": {
            "text/html": [
              "<div>\n",
              "<style scoped>\n",
              "    .dataframe tbody tr th:only-of-type {\n",
              "        vertical-align: middle;\n",
              "    }\n",
              "\n",
              "    .dataframe tbody tr th {\n",
              "        vertical-align: top;\n",
              "    }\n",
              "\n",
              "    .dataframe thead th {\n",
              "        text-align: right;\n",
              "    }\n",
              "</style>\n",
              "<table border=\"1\" class=\"dataframe\">\n",
              "  <thead>\n",
              "    <tr style=\"text-align: right;\">\n",
              "      <th></th>\n",
              "      <th>index</th>\n",
              "      <th>sexo</th>\n",
              "    </tr>\n",
              "  </thead>\n",
              "  <tbody>\n",
              "    <tr>\n",
              "      <th>0</th>\n",
              "      <td>M</td>\n",
              "      <td>178049</td>\n",
              "    </tr>\n",
              "    <tr>\n",
              "      <th>1</th>\n",
              "      <td>F</td>\n",
              "      <td>128916</td>\n",
              "    </tr>\n",
              "  </tbody>\n",
              "</table>\n",
              "</div>"
            ],
            "text/plain": [
              "  index    sexo\n",
              "0     M  178049\n",
              "1     F  128916"
            ]
          },
          "metadata": {
            "tags": []
          },
          "execution_count": 26
        }
      ]
    },
    {
      "cell_type": "code",
      "metadata": {
        "id": "YCqX0e1PJuqN",
        "colab_type": "code",
        "colab": {
          "base_uri": "https://localhost:8080/",
          "height": 291
        },
        "outputId": "ae071d55-a4ce-4ff0-b320-c5d5921e8307"
      },
      "source": [
        "sexo = data_base[u'sexo'].unique()\n",
        "cont = data_base[u'sexo'].value_counts()\n",
        "sns.barplot(x= sexo, y= cont, hue= sexo)"
      ],
      "execution_count": 40,
      "outputs": [
        {
          "output_type": "execute_result",
          "data": {
            "text/plain": [
              "<matplotlib.axes._subplots.AxesSubplot at 0x7f097cd0ab38>"
            ]
          },
          "metadata": {
            "tags": []
          },
          "execution_count": 40
        },
        {
          "output_type": "display_data",
          "data": {
            "image/png": "[encoded data removed]",
            "text/plain": [
              "<Figure size 432x288 with 1 Axes>"
            ]
          },
          "metadata": {
            "tags": []
          }
        }
      ]
    },
    {
      "cell_type": "markdown",
      "metadata": {
        "id": "jm_tCAebLrIi",
        "colab_type": "text"
      },
      "source": [
        "**Faixa etária de consumidores por sexo**"
      ]
    },
    {
      "cell_type": "code",
      "metadata": {
        "id": "Hxwyp2sELJ31",
        "colab_type": "code",
        "colab": {
          "base_uri": "https://localhost:8080/",
          "height": 289
        },
        "outputId": "0204278e-d20a-4afe-ccdb-58ca9507d252"
      },
      "source": [
        "data_base.groupby('sexo')[u'faixa_etaria'].value_counts()"
      ],
      "execution_count": 44,
      "outputs": [
        {
          "output_type": "execute_result",
          "data": {
            "text/plain": [
              "sexo  faixa_etaria      \n",
              "F     entre 31 a 40 anos    38802\n",
              "      entre 21 a 30 anos    37627\n",
              "      entre 41 a 50 anos    20163\n",
              "      entre 51 a 60 anos    14972\n",
              "      entre 61 a 70 anos     9831\n",
              "      mais de 70 anos        4165\n",
              "      até 20 anos            3356\n",
              "M     entre 31 a 40 anos    61486\n",
              "      entre 21 a 30 anos    58250\n",
              "      entre 41 a 50 anos    26638\n",
              "      entre 51 a 60 anos    14796\n",
              "      entre 61 a 70 anos     8854\n",
              "      até 20 anos            4452\n",
              "      mais de 70 anos        3573\n",
              "Name: faixa_etaria, dtype: int64"
            ]
          },
          "metadata": {
            "tags": []
          },
          "execution_count": 44
        }
      ]
    },
    {
      "cell_type": "markdown",
      "metadata": {
        "id": "VF8JghgaL_vH",
        "colab_type": "text"
      },
      "source": [
        "**Consumidores mais jovens que contratam os serviços pela internet**"
      ]
    },
    {
      "cell_type": "code",
      "metadata": {
        "id": "WfABctPyLvT6",
        "colab_type": "code",
        "colab": {
          "base_uri": "https://localhost:8080/",
          "height": 292
        },
        "outputId": "d2702ed1-2ee4-4525-e779-a6e0ce126f25"
      },
      "source": [
        "comprou_internet = data_base[data_base['como_comprou_contratou'] == 'Internet']\n",
        "comprou_internet.groupby(u'faixa_etaria')['como_comprou_contratou'].value_counts().plot.barh()"
      ],
      "execution_count": 48,
      "outputs": [
        {
          "output_type": "execute_result",
          "data": {
            "text/plain": [
              "<matplotlib.axes._subplots.AxesSubplot at 0x7f097a2485f8>"
            ]
          },
          "metadata": {
            "tags": []
          },
          "execution_count": 48
        },
        {
          "output_type": "display_data",
          "data": {
            "image/png": "[encoded data removed]",
            "text/plain": [
              "<Figure size 432x288 with 1 Axes>"
            ]
          },
          "metadata": {
            "tags": []
          }
        }
      ]
    },
    {
      "cell_type": "markdown",
      "metadata": {
        "id": "GC0QohfiM2l-",
        "colab_type": "text"
      },
      "source": [
        "**Estes consumidores procuram a empresa antes de registrar uma reclamação?**"
      ]
    },
    {
      "cell_type": "markdown",
      "metadata": {
        "id": "CF2RU0BJPOPU",
        "colab_type": "text"
      },
      "source": [
        "Clientes entre as faixas etárias 21 a 30 anos que procuraram ou não, a empresa antes de representarem as reclamações junto ao site"
      ]
    },
    {
      "cell_type": "code",
      "metadata": {
        "id": "3FkDOHC5LvW5",
        "colab_type": "code",
        "colab": {
          "base_uri": "https://localhost:8080/",
          "height": 291
        },
        "outputId": "e62de95a-5f13-46ec-f7e1-41d7b79e51ba"
      },
      "source": [
        "procura_empresa = data_base[data_base[u'faixa_etaria']=='entre 21 a 30 anos']\n",
        "procura_empresa['procurou_empresa'].value_counts().plot.barh()"
      ],
      "execution_count": 64,
      "outputs": [
        {
          "output_type": "execute_result",
          "data": {
            "text/plain": [
              "<matplotlib.axes._subplots.AxesSubplot at 0x7f097a0a6860>"
            ]
          },
          "metadata": {
            "tags": []
          },
          "execution_count": 64
        },
        {
          "output_type": "display_data",
          "data": {
            "image/png": "[encoded data removed]",
            "text/plain": [
              "<Figure size 432x288 with 1 Axes>"
            ]
          },
          "metadata": {
            "tags": []
          }
        }
      ]
    },
    {
      "cell_type": "code",
      "metadata": {
        "id": "ufPQZQA3OiCc",
        "colab_type": "code",
        "colab": {
          "base_uri": "https://localhost:8080/",
          "height": 111
        },
        "outputId": "9f54073a-6039-43be-dd16-f7f21b4c6775"
      },
      "source": [
        "data_base[data_base[u'faixa_etaria'] == u'entre 21 a 30 anos'][u'procurou_empresa'].value_counts().reset_index()"
      ],
      "execution_count": 65,
      "outputs": [
        {
          "output_type": "execute_result",
          "data": {
            "text/html": [
              "<div>\n",
              "<style scoped>\n",
              "    .dataframe tbody tr th:only-of-type {\n",
              "        vertical-align: middle;\n",
              "    }\n",
              "\n",
              "    .dataframe tbody tr th {\n",
              "        vertical-align: top;\n",
              "    }\n",
              "\n",
              "    .dataframe thead th {\n",
              "        text-align: right;\n",
              "    }\n",
              "</style>\n",
              "<table border=\"1\" class=\"dataframe\">\n",
              "  <thead>\n",
              "    <tr style=\"text-align: right;\">\n",
              "      <th></th>\n",
              "      <th>index</th>\n",
              "      <th>procurou_empresa</th>\n",
              "    </tr>\n",
              "  </thead>\n",
              "  <tbody>\n",
              "    <tr>\n",
              "      <th>0</th>\n",
              "      <td>S</td>\n",
              "      <td>71231</td>\n",
              "    </tr>\n",
              "    <tr>\n",
              "      <th>1</th>\n",
              "      <td>N</td>\n",
              "      <td>24646</td>\n",
              "    </tr>\n",
              "  </tbody>\n",
              "</table>\n",
              "</div>"
            ],
            "text/plain": [
              "  index  procurou_empresa\n",
              "0     S             71231\n",
              "1     N             24646"
            ]
          },
          "metadata": {
            "tags": []
          },
          "execution_count": 65
        }
      ]
    },
    {
      "cell_type": "code",
      "metadata": {
        "id": "NtFwT81_Lvah",
        "colab_type": "code",
        "colab": {
          "base_uri": "https://localhost:8080/",
          "height": 111
        },
        "outputId": "dad3c797-5505-4bab-ae2b-5f961053cc7e"
      },
      "source": [
        "data_base[u'procurou_empresa'].value_counts().reset_index()"
      ],
      "execution_count": 55,
      "outputs": [
        {
          "output_type": "execute_result",
          "data": {
            "text/html": [
              "<div>\n",
              "<style scoped>\n",
              "    .dataframe tbody tr th:only-of-type {\n",
              "        vertical-align: middle;\n",
              "    }\n",
              "\n",
              "    .dataframe tbody tr th {\n",
              "        vertical-align: top;\n",
              "    }\n",
              "\n",
              "    .dataframe thead th {\n",
              "        text-align: right;\n",
              "    }\n",
              "</style>\n",
              "<table border=\"1\" class=\"dataframe\">\n",
              "  <thead>\n",
              "    <tr style=\"text-align: right;\">\n",
              "      <th></th>\n",
              "      <th>index</th>\n",
              "      <th>procurou_empresa</th>\n",
              "    </tr>\n",
              "  </thead>\n",
              "  <tbody>\n",
              "    <tr>\n",
              "      <th>0</th>\n",
              "      <td>S</td>\n",
              "      <td>241734</td>\n",
              "    </tr>\n",
              "    <tr>\n",
              "      <th>1</th>\n",
              "      <td>N</td>\n",
              "      <td>65231</td>\n",
              "    </tr>\n",
              "  </tbody>\n",
              "</table>\n",
              "</div>"
            ],
            "text/plain": [
              "  index  procurou_empresa\n",
              "0     S            241734\n",
              "1     N             65231"
            ]
          },
          "metadata": {
            "tags": []
          },
          "execution_count": 55
        }
      ]
    },
    {
      "cell_type": "markdown",
      "metadata": {
        "id": "3WiMBrxDN600",
        "colab_type": "text"
      },
      "source": [
        "**Qual o grupo de problema mais comum**"
      ]
    },
    {
      "cell_type": "code",
      "metadata": {
        "id": "Y8Q6D7xsLvdi",
        "colab_type": "code",
        "colab": {
          "base_uri": "https://localhost:8080/",
          "height": 266
        },
        "outputId": "86d8aea8-7c96-43bb-8f4e-f2230721b1ee"
      },
      "source": [
        "data_base['grupo_problema'].value_counts().reset_index()"
      ],
      "execution_count": 57,
      "outputs": [
        {
          "output_type": "execute_result",
          "data": {
            "text/html": [
              "<div>\n",
              "<style scoped>\n",
              "    .dataframe tbody tr th:only-of-type {\n",
              "        vertical-align: middle;\n",
              "    }\n",
              "\n",
              "    .dataframe tbody tr th {\n",
              "        vertical-align: top;\n",
              "    }\n",
              "\n",
              "    .dataframe thead th {\n",
              "        text-align: right;\n",
              "    }\n",
              "</style>\n",
              "<table border=\"1\" class=\"dataframe\">\n",
              "  <thead>\n",
              "    <tr style=\"text-align: right;\">\n",
              "      <th></th>\n",
              "      <th>index</th>\n",
              "      <th>grupo_problema</th>\n",
              "    </tr>\n",
              "  </thead>\n",
              "  <tbody>\n",
              "    <tr>\n",
              "      <th>0</th>\n",
              "      <td>Cobrança / Contestação</td>\n",
              "      <td>132674</td>\n",
              "    </tr>\n",
              "    <tr>\n",
              "      <th>1</th>\n",
              "      <td>Contrato / Oferta</td>\n",
              "      <td>53750</td>\n",
              "    </tr>\n",
              "    <tr>\n",
              "      <th>2</th>\n",
              "      <td>Vício de Qualidade</td>\n",
              "      <td>43416</td>\n",
              "    </tr>\n",
              "    <tr>\n",
              "      <th>3</th>\n",
              "      <td>Atendimento / SAC</td>\n",
              "      <td>36971</td>\n",
              "    </tr>\n",
              "    <tr>\n",
              "      <th>4</th>\n",
              "      <td>Informação</td>\n",
              "      <td>26696</td>\n",
              "    </tr>\n",
              "    <tr>\n",
              "      <th>5</th>\n",
              "      <td>Entrega do Produto</td>\n",
              "      <td>11715</td>\n",
              "    </tr>\n",
              "    <tr>\n",
              "      <th>6</th>\n",
              "      <td>Saúde e Segurança</td>\n",
              "      <td>1743</td>\n",
              "    </tr>\n",
              "  </tbody>\n",
              "</table>\n",
              "</div>"
            ],
            "text/plain": [
              "                    index  grupo_problema\n",
              "0  Cobrança / Contestação          132674\n",
              "1       Contrato / Oferta           53750\n",
              "2      Vício de Qualidade           43416\n",
              "3       Atendimento / SAC           36971\n",
              "4              Informação           26696\n",
              "5      Entrega do Produto           11715\n",
              "6       Saúde e Segurança            1743"
            ]
          },
          "metadata": {
            "tags": []
          },
          "execution_count": 57
        }
      ]
    },
    {
      "cell_type": "code",
      "metadata": {
        "id": "4aa0Mhc8Lvgp",
        "colab_type": "code",
        "colab": {
          "base_uri": "https://localhost:8080/",
          "height": 595
        },
        "outputId": "0cf2a690-67ea-4221-9c2c-51ab625b9736"
      },
      "source": [
        "data_base[data_base['grupo_problema'] == u'Cobrança / Contestação'][u'problema'].value_counts()"
      ],
      "execution_count": 60,
      "outputs": [
        {
          "output_type": "execute_result",
          "data": {
            "text/plain": [
              "Cobrança indevida / abusiva para alterar ou cancelar o contrato                                           27425\n",
              "Cobrança por serviço/produto não contratado / não reconhecido / não solicitado                            24250\n",
              "Dificuldade / atraso na devolução de valores pagos / reembolso / retenção de valores                      12771\n",
              "Cobrança de tarifas, taxas, valores não previstos / não informados                                        10154\n",
              "Renegociação / parcelamento de dívida                                                                      8530\n",
              "Cobrança após cancelamento do serviço                                                                      8050\n",
              "Cobrança por serviço não fornecido/ em desacordo com a utilização / fora do prazo                          6552\n",
              "Cobrança em duplicidade / Cobrança referente a pagamento já efetuado                                       6512\n",
              "Cálculo de juros, saldo devedor (contestação, solicitação de histórico, dúvidas)                           5675\n",
              "Dificuldade para obter boleto de quitação ou informações acerca de cálculos, pagamentos, saldo devedor     4760\n",
              "Negativação indevida (SPC, Serasa, SCPC etc)                                                               4167\n",
              "Cobrança submetendo a ofensa, constrangimento ou ameaça                                                    3460\n",
              "Negativação indevida - desconhece motivo e/ou fornecedor                                                   1953\n",
              "Negativação indevida referente à pagamento já efetuado                                                     1757\n",
              "Negativação indevida referente a cobrança não reconhecida                                                  1337\n",
              "Cobrança de compra/saque não reconhecido                                                                   1272\n",
              "Negativação indevida (não cumprimento de acordo de parcelamento)                                            991\n",
              "Cobrança adicional não informada previamente (frete, montagem, taxas)                                       787\n",
              "Cartão não solicitado - Envio ou cobrança                                                                   622\n",
              "Negativação indevida sem contratação do serviço  fraude bancária                                           434\n",
              "Negativação indevida referente a tarifa, taxas não previstas contrato / serviço                             308\n",
              "Cobrança de valor para a devolução do produto                                                               294\n",
              "Reajuste - Discordância / dúvida                                                                            155\n",
              "Cobrança de valores não previstos / não informados (multa, encargos, honorários etc)                        122\n",
              "Cobrança indevida por excesso de bagagem                                                                     88\n",
              "Busca e apreensão indevida                                                                                   83\n",
              "Reajuste  dúvida ou discordância (exceto idoso)                                                             77\n",
              "Imposição de multa indevida / abusiva (não prevista em contrato ou em valor diverso do contratado)           35\n",
              "Reajuste - descumprimento do estatuto do idoso                                                               24\n",
              "Dificuldade na inclusão em tarifa social  recusa / falta de informação                                      17\n",
              "Capitalização indevida de juros antes da entrega do imóvel                                                    7\n",
              "Imposição de caução                                                                                           3\n",
              "Cobrança irregular de taxa condominial                                                                        2\n",
              "Name: problema, dtype: int64"
            ]
          },
          "metadata": {
            "tags": []
          },
          "execution_count": 60
        }
      ]
    },
    {
      "cell_type": "code",
      "metadata": {
        "id": "7587uSg3Lvjs",
        "colab_type": "code",
        "colab": {
          "base_uri": "https://localhost:8080/",
          "height": 442
        },
        "outputId": "dc095e51-1502-48b2-ca84-5a88214f2e66"
      },
      "source": [
        "data_base['segmento_de_mercado'].unique()"
      ],
      "execution_count": 68,
      "outputs": [
        {
          "output_type": "execute_result",
          "data": {
            "text/plain": [
              "array(['Comércio Eletrônico', 'Programas de Fidelidade',\n",
              "       'Operadoras de Telecomunicações (Telefonia, Internet, TV por assinatura)',\n",
              "       'Bancos, Financeiras e Administradoras de Cartão', 'Editoras',\n",
              "       'Empresas de Intermediação de Serviços / Negócios',\n",
              "       'Fabricantes - Eletroeletrônicos,  Produtos de Telefonia e Informática',\n",
              "       'Transporte Aéreo', 'Bancos de Dados e Cadastros de Consumidores',\n",
              "       'Empresas de Pagamento Eletrônico', 'Varejo',\n",
              "       'Perfumaria, Cosméticos e Higiene Pessoal',\n",
              "       'Energia Elétrica, Gás, Água e Esgoto',\n",
              "       'Corretoras e Sociedades de Seguros, Capitalização e Previdência',\n",
              "       'Operadoras de Planos de Saúde e Administradoras de Benefícios',\n",
              "       'Agências de Viagens', 'Administradoras de Consórcios',\n",
              "       'Supermercados', 'Farmácias', 'Empresas de Recuperação de Crédito',\n",
              "       'Fabricantes - Linha Branca',\n",
              "       'Fabricantes - Eletroportáteis e Artigos de Uso Doméstico e Pessoal',\n",
              "       'Montadoras, Concessionárias e Prestadores de Serviços Automotivos',\n",
              "       'Artigos Esportivos', 'Cartões de Descontos',\n",
              "       'Provedores de Conteúdo e Outros Serviços na Internet',\n",
              "       'Transporte Terrestre',\n",
              "       'Material de Construção, Acabamento e Ferramentas',\n",
              "       'Hospitais, Clínicas, Laboratórios e Outros Serviços de Saúde',\n",
              "       'Móveis e Artigos de Decoração', 'Estabelecimentos de Ensino',\n",
              "       'Vestuário, Calçados e Têxteis', 'Produtos Agropecuários',\n",
              "       'Construtoras, Incorporadoras e Imobiliárias', 'Hospedagem',\n",
              "       'Bares, Restaurantes, Casas Noturnas e Similares'], dtype=object)"
            ]
          },
          "metadata": {
            "tags": []
          },
          "execution_count": 68
        }
      ]
    },
    {
      "cell_type": "code",
      "metadata": {
        "id": "ToRlx3yBLvmb",
        "colab_type": "code",
        "colab": {
          "base_uri": "https://localhost:8080/",
          "height": 646
        },
        "outputId": "26992252-f6f2-45f2-e950-a8b4ff371383"
      },
      "source": [
        "data_base[u'segmento_de_mercado'].value_counts()"
      ],
      "execution_count": 71,
      "outputs": [
        {
          "output_type": "execute_result",
          "data": {
            "text/plain": [
              "Operadoras de Telecomunicações (Telefonia, Internet, TV por assinatura)    127373\n",
              "Bancos, Financeiras e Administradoras de Cartão                             71921\n",
              "Bancos de Dados e Cadastros de Consumidores                                 24288\n",
              "Comércio Eletrônico                                                         20922\n",
              "Transporte Aéreo                                                            15804\n",
              "Fabricantes - Eletroeletrônicos,  Produtos de Telefonia e Informática        8223\n",
              "Empresas de Intermediação de Serviços / Negócios                             7082\n",
              "Energia Elétrica, Gás, Água e Esgoto                                         4388\n",
              "Programas de Fidelidade                                                      3633\n",
              "Varejo                                                                       3442\n",
              "Corretoras e Sociedades de Seguros, Capitalização e Previdência              3118\n",
              "Empresas de Pagamento Eletrônico                                             2868\n",
              "Perfumaria, Cosméticos e Higiene Pessoal                                     2435\n",
              "Empresas de Recuperação de Crédito                                           2395\n",
              "Agências de Viagens                                                          2087\n",
              "Operadoras de Planos de Saúde e Administradoras de Benefícios                1960\n",
              "Supermercados                                                                1322\n",
              "Fabricantes - Linha Branca                                                   1194\n",
              "Administradoras de Consórcios                                                 557\n",
              "Fabricantes - Eletroportáteis e Artigos de Uso Doméstico e Pessoal            505\n",
              "Editoras                                                                      465\n",
              "Montadoras, Concessionárias e Prestadores de Serviços Automotivos             249\n",
              "Artigos Esportivos                                                            187\n",
              "Móveis e Artigos de Decoração                                                 175\n",
              "Farmácias                                                                     135\n",
              "Provedores de Conteúdo e Outros Serviços na Internet                           86\n",
              "Cartões de Descontos                                                           85\n",
              "Transporte Terrestre                                                           16\n",
              "Material de Construção, Acabamento e Ferramentas                               15\n",
              "Hospitais, Clínicas, Laboratórios e Outros Serviços de Saúde                   11\n",
              "Vestuário, Calçados e Têxteis                                                  11\n",
              "Estabelecimentos de Ensino                                                      5\n",
              "Produtos Agropecuários                                                          5\n",
              "Construtoras, Incorporadoras e Imobiliárias                                     1\n",
              "Bares, Restaurantes, Casas Noturnas e Similares                                 1\n",
              "Hospedagem                                                                      1\n",
              "Name: segmento_de_mercado, dtype: int64"
            ]
          },
          "metadata": {
            "tags": []
          },
          "execution_count": 71
        }
      ]
    },
    {
      "cell_type": "markdown",
      "metadata": {
        "id": "brPvpeDzQcpw",
        "colab_type": "text"
      },
      "source": [
        "**Segmentos de mercado com maior número de reclamações do tipo de problema 'Cobrança / Contestação'**"
      ]
    },
    {
      "cell_type": "code",
      "metadata": {
        "id": "Uw7Y0Wg_LvpK",
        "colab_type": "code",
        "colab": {
          "base_uri": "https://localhost:8080/",
          "height": 612
        },
        "outputId": "f237bab9-cdc2-4642-f5d0-9db3d5487f2b"
      },
      "source": [
        "segmento = data_base[data_base[u'grupo_problema'] ==  u'Cobrança / Contestação']\n",
        "segmento['segmento_de_mercado'].value_counts()"
      ],
      "execution_count": 75,
      "outputs": [
        {
          "output_type": "execute_result",
          "data": {
            "text/plain": [
              "Operadoras de Telecomunicações (Telefonia, Internet, TV por assinatura)    62166\n",
              "Bancos, Financeiras e Administradoras de Cartão                            44968\n",
              "Transporte Aéreo                                                            4450\n",
              "Comércio Eletrônico                                                         3514\n",
              "Empresas de Intermediação de Serviços / Negócios                            2778\n",
              "Energia Elétrica, Gás, Água e Esgoto                                        2589\n",
              "Empresas de Recuperação de Crédito                                          1879\n",
              "Bancos de Dados e Cadastros de Consumidores                                 1738\n",
              "Empresas de Pagamento Eletrônico                                            1474\n",
              "Perfumaria, Cosméticos e Higiene Pessoal                                    1290\n",
              "Corretoras e Sociedades de Seguros, Capitalização e Previdência             1116\n",
              "Varejo                                                                      1032\n",
              "Agências de Viagens                                                          928\n",
              "Operadoras de Planos de Saúde e Administradoras de Benefícios                863\n",
              "Programas de Fidelidade                                                      681\n",
              "Administradoras de Consórcios                                                280\n",
              "Fabricantes - Eletroeletrônicos,  Produtos de Telefonia e Informática        267\n",
              "Editoras                                                                     230\n",
              "Supermercados                                                                165\n",
              "Fabricantes - Eletroportáteis e Artigos de Uso Doméstico e Pessoal            43\n",
              "Fabricantes - Linha Branca                                                    41\n",
              "Farmácias                                                                     40\n",
              "Cartões de Descontos                                                          36\n",
              "Provedores de Conteúdo e Outros Serviços na Internet                          33\n",
              "Artigos Esportivos                                                            33\n",
              "Montadoras, Concessionárias e Prestadores de Serviços Automotivos             17\n",
              "Móveis e Artigos de Decoração                                                 10\n",
              "Vestuário, Calçados e Têxteis                                                  4\n",
              "Transporte Terrestre                                                           2\n",
              "Estabelecimentos de Ensino                                                     2\n",
              "Hospitais, Clínicas, Laboratórios e Outros Serviços de Saúde                   2\n",
              "Construtoras, Incorporadoras e Imobiliárias                                    1\n",
              "Hospedagem                                                                     1\n",
              "Material de Construção, Acabamento e Ferramentas                               1\n",
              "Name: segmento_de_mercado, dtype: int64"
            ]
          },
          "metadata": {
            "tags": []
          },
          "execution_count": 75
        }
      ]
    },
    {
      "cell_type": "code",
      "metadata": {
        "id": "n1pFiFV0Sdgm",
        "colab_type": "code",
        "colab": {
          "base_uri": "https://localhost:8080/",
          "height": 34
        },
        "outputId": "46d997bd-4dd4-4e01-ddd8-4e36acc13773"
      },
      "source": [
        "import matplotlib.pyplot as plt\n",
        "import numpy as np\n",
        "\n",
        "%matplotlib inline\n",
        "%pylab inline\n",
        "plt.style.use('ggplot')"
      ],
      "execution_count": 79,
      "outputs": [
        {
          "output_type": "stream",
          "text": [
            "Populating the interactive namespace from numpy and matplotlib\n"
          ],
          "name": "stdout"
        }
      ]
    },
    {
      "cell_type": "markdown",
      "metadata": {
        "id": "CcDO4BnXRWDc",
        "colab_type": "text"
      },
      "source": [
        "**Rank das Top 20: Empresas com reclamações**"
      ]
    },
    {
      "cell_type": "code",
      "metadata": {
        "id": "J3TM6dcQQy9h",
        "colab_type": "code",
        "colab": {
          "base_uri": "https://localhost:8080/",
          "height": 302
        },
        "outputId": "9ea4bb22-391c-4341-c762-b15eab274084"
      },
      "source": [
        "fig, ax = plt.subplots()\n",
        "\n",
        "y_pos = np.arange(len(segmento['nome_fantasia'].value_counts()[:20]))\n",
        "values = segmento['nome_fantasia'].value_counts()[:20]\n",
        "segmentos = segmento['nome_fantasia'].unique()[:20]\n",
        "\n",
        "ax.barh(y_pos, values, align = 'center', color = 'black')\n",
        "ax.set_yticks(y_pos)\n",
        "ax.set_yticklabels(segmentos)\n",
        "ax.invert_yaxis()\n",
        "ax.set_xlabel('Relamações')\n",
        "ax.set_title('Rank de Empresa')\n",
        "\n",
        "plt.show()"
      ],
      "execution_count": 81,
      "outputs": [
        {
          "output_type": "display_data",
          "data": {
            "image/png": "[encoded data removed]",
            "text/plain": [
              "<Figure size 432x288 with 1 Axes>"
            ]
          },
          "metadata": {
            "tags": []
          }
        }
      ]
    },
    {
      "cell_type": "markdown",
      "metadata": {
        "id": "f02sVB8sTXEW",
        "colab_type": "text"
      },
      "source": [
        "**Tempo de resposta tem alguma correlação com a nota do consumidor?**"
      ]
    },
    {
      "cell_type": "code",
      "metadata": {
        "id": "KBesOKxNQ28J",
        "colab_type": "code",
        "colab": {}
      },
      "source": [
        "df = data_base.drop('total', axis = 1)"
      ],
      "execution_count": 0,
      "outputs": []
    },
    {
      "cell_type": "code",
      "metadata": {
        "id": "SGSxz8UqTgHp",
        "colab_type": "code",
        "colab": {
          "base_uri": "https://localhost:8080/",
          "height": 82
        },
        "outputId": "29b08e8f-997d-4f42-ce19-872d0f7b47cd"
      },
      "source": [
        "corr = df.corr()\n",
        "corr.style.background_gradient(cmap = 'coolwarm')"
      ],
      "execution_count": 85,
      "outputs": [
        {
          "output_type": "execute_result",
          "data": {
            "text/html": [
              "<style  type=\"text/css\" >\n",
              "    #T_29f222b6_e076_11e9_a488_0242ac1c0002row0_col0 {\n",
              "            background-color:  #b40426;\n",
              "            color:  #f1f1f1;\n",
              "        }    #T_29f222b6_e076_11e9_a488_0242ac1c0002row0_col1 {\n",
              "            background-color:  #3b4cc0;\n",
              "            color:  #f1f1f1;\n",
              "        }    #T_29f222b6_e076_11e9_a488_0242ac1c0002row1_col0 {\n",
              "            background-color:  #3b4cc0;\n",
              "            color:  #f1f1f1;\n",
              "        }    #T_29f222b6_e076_11e9_a488_0242ac1c0002row1_col1 {\n",
              "            background-color:  #b40426;\n",
              "            color:  #f1f1f1;\n",
              "        }</style><table id=\"T_29f222b6_e076_11e9_a488_0242ac1c0002\" ><thead>    <tr>        <th class=\"blank level0\" ></th>        <th class=\"col_heading level0 col0\" >tempo_resposta</th>        <th class=\"col_heading level0 col1\" >nota_do_consumidor</th>    </tr></thead><tbody>\n",
              "                <tr>\n",
              "                        <th id=\"T_29f222b6_e076_11e9_a488_0242ac1c0002level0_row0\" class=\"row_heading level0 row0\" >tempo_resposta</th>\n",
              "                        <td id=\"T_29f222b6_e076_11e9_a488_0242ac1c0002row0_col0\" class=\"data row0 col0\" >1</td>\n",
              "                        <td id=\"T_29f222b6_e076_11e9_a488_0242ac1c0002row0_col1\" class=\"data row0 col1\" >-0.0535395</td>\n",
              "            </tr>\n",
              "            <tr>\n",
              "                        <th id=\"T_29f222b6_e076_11e9_a488_0242ac1c0002level0_row1\" class=\"row_heading level0 row1\" >nota_do_consumidor</th>\n",
              "                        <td id=\"T_29f222b6_e076_11e9_a488_0242ac1c0002row1_col0\" class=\"data row1 col0\" >-0.0535395</td>\n",
              "                        <td id=\"T_29f222b6_e076_11e9_a488_0242ac1c0002row1_col1\" class=\"data row1 col1\" >1</td>\n",
              "            </tr>\n",
              "    </tbody></table>"
            ],
            "text/plain": [
              "<pandas.io.formats.style.Styler at 0x7f0979887d68>"
            ]
          },
          "metadata": {
            "tags": []
          },
          "execution_count": 85
        }
      ]
    },
    {
      "cell_type": "code",
      "metadata": {
        "id": "bPLEh1QNTgy6",
        "colab_type": "code",
        "colab": {
          "base_uri": "https://localhost:8080/",
          "height": 236
        },
        "outputId": "1ca30cdc-0f60-4cf3-a329-faab9d95001f"
      },
      "source": [
        "data_base.plot.density(y = 'nota_do_consumidor', xlim = [0,6], figsize = [6,3])"
      ],
      "execution_count": 87,
      "outputs": [
        {
          "output_type": "execute_result",
          "data": {
            "text/plain": [
              "<matplotlib.axes._subplots.AxesSubplot at 0x7f0979815e10>"
            ]
          },
          "metadata": {
            "tags": []
          },
          "execution_count": 87
        },
        {
          "output_type": "display_data",
          "data": {
            "image/png": "[encoded data removed]",
            "text/plain": [
              "<Figure size 432x216 with 1 Axes>"
            ]
          },
          "metadata": {
            "tags": []
          }
        }
      ]
    },
    {
      "cell_type": "code",
      "metadata": {
        "id": "NayWxhqoUCKz",
        "colab_type": "code",
        "colab": {
          "base_uri": "https://localhost:8080/",
          "height": 236
        },
        "outputId": "976b0859-eb46-4e52-920d-157d251a1d14"
      },
      "source": [
        "data_base.plot.density(y = 'tempo_resposta', xlim = [0,11], figsize = [6,3])"
      ],
      "execution_count": 88,
      "outputs": [
        {
          "output_type": "execute_result",
          "data": {
            "text/plain": [
              "<matplotlib.axes._subplots.AxesSubplot at 0x7f09797839e8>"
            ]
          },
          "metadata": {
            "tags": []
          },
          "execution_count": 88
        },
        {
          "output_type": "display_data",
          "data": {
            "image/png": "[encoded data removed]",
            "text/plain": [
              "<Figure size 432x216 with 1 Axes>"
            ]
          },
          "metadata": {
            "tags": []
          }
        }
      ]
    },
    {
      "cell_type": "markdown",
      "metadata": {
        "id": "ethH8gJHUdu-",
        "colab_type": "text"
      },
      "source": [
        "**Proporção de reclamações registradas e não respondidas**"
      ]
    },
    {
      "cell_type": "code",
      "metadata": {
        "id": "wOVnoimEUYhK",
        "colab_type": "code",
        "colab": {
          "base_uri": "https://localhost:8080/",
          "height": 510
        },
        "outputId": "d31c1622-02bb-4d4b-87f3-6d5baa6b0511"
      },
      "source": [
        "segmento_de_mercado = data_base.groupby(u'segmento_de_mercado')[u'segmento_de_mercado'].count()\n",
        "segmento_de_mercado = segmento_de_mercado[segmento_de_mercado > 20]\n",
        "segmento_de_mercado"
      ],
      "execution_count": 92,
      "outputs": [
        {
          "output_type": "execute_result",
          "data": {
            "text/plain": [
              "segmento_de_mercado\n",
              "Administradoras de Consórcios                                                 557\n",
              "Agências de Viagens                                                          2087\n",
              "Artigos Esportivos                                                            187\n",
              "Bancos de Dados e Cadastros de Consumidores                                 24288\n",
              "Bancos, Financeiras e Administradoras de Cartão                             71921\n",
              "Cartões de Descontos                                                           85\n",
              "Comércio Eletrônico                                                         20922\n",
              "Corretoras e Sociedades de Seguros, Capitalização e Previdência              3118\n",
              "Editoras                                                                      465\n",
              "Empresas de Intermediação de Serviços / Negócios                             7082\n",
              "Empresas de Pagamento Eletrônico                                             2868\n",
              "Empresas de Recuperação de Crédito                                           2395\n",
              "Energia Elétrica, Gás, Água e Esgoto                                         4388\n",
              "Fabricantes - Eletroeletrônicos,  Produtos de Telefonia e Informática        8223\n",
              "Fabricantes - Eletroportáteis e Artigos de Uso Doméstico e Pessoal            505\n",
              "Fabricantes - Linha Branca                                                   1194\n",
              "Farmácias                                                                     135\n",
              "Montadoras, Concessionárias e Prestadores de Serviços Automotivos             249\n",
              "Móveis e Artigos de Decoração                                                 175\n",
              "Operadoras de Planos de Saúde e Administradoras de Benefícios                1960\n",
              "Operadoras de Telecomunicações (Telefonia, Internet, TV por assinatura)    127373\n",
              "Perfumaria, Cosméticos e Higiene Pessoal                                     2435\n",
              "Programas de Fidelidade                                                      3633\n",
              "Provedores de Conteúdo e Outros Serviços na Internet                           86\n",
              "Supermercados                                                                1322\n",
              "Transporte Aéreo                                                            15804\n",
              "Varejo                                                                       3442\n",
              "Name: segmento_de_mercado, dtype: int64"
            ]
          },
          "metadata": {
            "tags": []
          },
          "execution_count": 92
        }
      ]
    },
    {
      "cell_type": "code",
      "metadata": {
        "id": "7VETMAW9U8aj",
        "colab_type": "code",
        "colab": {
          "base_uri": "https://localhost:8080/",
          "height": 510
        },
        "outputId": "352666d1-5900-4689-cf99-90df02a67c15"
      },
      "source": [
        "df2 = data_base[data_base[u'segmento_de_mercado'].isin(segmento_de_mercado.keys())]\n",
        "df2 = df2[df2[u'avaliacao_reclamacao'] == u'Não Resolvida']\n",
        "xl = df2.groupby(u'segmento_de_mercado')[u'segmento_de_mercado'].count()\n",
        "xl"
      ],
      "execution_count": 103,
      "outputs": [
        {
          "output_type": "execute_result",
          "data": {
            "text/plain": [
              "segmento_de_mercado\n",
              "Administradoras de Consórcios                                                194\n",
              "Agências de Viagens                                                          753\n",
              "Artigos Esportivos                                                            38\n",
              "Bancos de Dados e Cadastros de Consumidores                                 6082\n",
              "Bancos, Financeiras e Administradoras de Cartão                            16235\n",
              "Cartões de Descontos                                                          17\n",
              "Comércio Eletrônico                                                         5322\n",
              "Corretoras e Sociedades de Seguros, Capitalização e Previdência              874\n",
              "Editoras                                                                     146\n",
              "Empresas de Intermediação de Serviços / Negócios                            2000\n",
              "Empresas de Pagamento Eletrônico                                             660\n",
              "Empresas de Recuperação de Crédito                                           790\n",
              "Energia Elétrica, Gás, Água e Esgoto                                        1679\n",
              "Fabricantes - Eletroeletrônicos,  Produtos de Telefonia e Informática       1802\n",
              "Fabricantes - Eletroportáteis e Artigos de Uso Doméstico e Pessoal           101\n",
              "Fabricantes - Linha Branca                                                   197\n",
              "Farmácias                                                                     45\n",
              "Montadoras, Concessionárias e Prestadores de Serviços Automotivos            122\n",
              "Móveis e Artigos de Decoração                                                 43\n",
              "Operadoras de Planos de Saúde e Administradoras de Benefícios                481\n",
              "Operadoras de Telecomunicações (Telefonia, Internet, TV por assinatura)    12444\n",
              "Perfumaria, Cosméticos e Higiene Pessoal                                     595\n",
              "Programas de Fidelidade                                                     1041\n",
              "Provedores de Conteúdo e Outros Serviços na Internet                          24\n",
              "Supermercados                                                                265\n",
              "Transporte Aéreo                                                            4272\n",
              "Varejo                                                                       836\n",
              "Name: segmento_de_mercado, dtype: int64"
            ]
          },
          "metadata": {
            "tags": []
          },
          "execution_count": 103
        }
      ]
    },
    {
      "cell_type": "code",
      "metadata": {
        "id": "1a2cigQQX__f",
        "colab_type": "code",
        "colab": {
          "base_uri": "https://localhost:8080/",
          "height": 617
        },
        "outputId": "a4b93747-92d3-48d6-93ea-24d2ffb05b8a"
      },
      "source": [
        "f, ax = plt.subplots(figsize = (8,10))\n",
        "\n",
        "sns.set_color_codes('pastel')\n",
        "sns.barplot(x = segmento_de_mercado.values, y = segmento_de_mercado.keys(), label = 'Total de Reclamações', color = 'b')\n",
        "\n",
        "sns.set_color_codes('muted')\n",
        "sns.barplot(x = xl.values, y = xl.keys(), label = 'Total de Reclamações Não Resolvidas', color = 'r')\n",
        "\n",
        "ax.legend(ncol = 2, loc = 'lower right', frameon = True)\n",
        "ax.set(ylabel = '', xlabel = 'Reclamações e suas situações')\n",
        "sns.despine(left = False, bottom = True)"
      ],
      "execution_count": 111,
      "outputs": [
        {
          "output_type": "display_data",
          "data": {
            "image/png": "[encoded data removed]",
            "text/plain": [
              "<Figure size 576x720 with 1 Axes>"
            ]
          },
          "metadata": {
            "tags": []
          }
        }
      ]
    }
  ]
}
{
  "nbformat": 4,
  "nbformat_minor": 0,
  "metadata": {
    "kernelspec": {
      "display_name": "Python 3",
      "language": "python",
      "name": "python3"
    },
    "language_info": {
      "codemirror_mode": {
        "name": "ipython",
        "version": 3
      },
      "file_extension": ".py",
      "mimetype": "text/x-python",
      "name": "python",
      "nbconvert_exporter": "python",
      "pygments_lexer": "ipython3",
      "version": "3.6.5"
    },
    "colab": {
      "name": "Prefeitura de Votorantim.ipynb",
      "provenance": [],
      "collapsed_sections": [],
      "toc_visible": true,
      "include_colab_link": true
    }
  },
  "cells": [
    {
      "cell_type": "markdown",
      "metadata": {
        "id": "view-in-github",
        "colab_type": "text"
      },
      "source": [
        "<a href=\"https://colab.research.google.com/github/Andrade-Douglas/Data-Science/blob/master/Prefeitura_de_Votorantim.ipynb\" target=\"_parent\"><img src=\"https://colab.research.google.com/assets/colab-badge.svg\" alt=\"Open In Colab\"/></a>"
      ]
    },
    {
      "cell_type": "markdown",
      "metadata": {
        "id": "f_sF_DdUnrqC",
        "colab_type": "text"
      },
      "source": [
        "# Projeto: Folha de Pagamento Prefeitura\n",
        "##### Fonte: https://www.votorantim.sp.gov.br/portal/transparencia\n",
        "\n",
        "##### Fonte de Dados: Folha de Pagamento [clique aqui](https://www.votorantim.sp.gov.br/portal/transparencia/121/2019/)\n",
        "\n",
        "##### Fonte de Dados: Relação de Servidores [clique aqui](http://s2.asp.srv.br/etransparencia.pm.votorantim.sp/servlet/wwpessoalservidor?4RjsYr9qVYuX_DVvfJ5jqa_01JYuFyZUMqEhneWx_YHSxoLnlrC_+vDnHQ2LtVXV) \n",
        " "
      ]
    },
    {
      "cell_type": "markdown",
      "metadata": {
        "id": "PwdpAM0jyoJA",
        "colab_type": "text"
      },
      "source": [
        "#### Montando Drive"
      ]
    },
    {
      "cell_type": "code",
      "metadata": {
        "id": "Vwq3Qik8u3tZ",
        "colab_type": "code",
        "outputId": "526b937d-b8b5-4afe-cde4-f6d7f7ff37cc",
        "colab": {
          "base_uri": "https://localhost:8080/",
          "height": 139
        }
      },
      "source": [
        "from google.colab import drive\n",
        "drive.mount('/gdrive')\n",
        "%cd /gdrive"
      ],
      "execution_count": 1,
      "outputs": [
        {
          "output_type": "stream",
          "text": [
            "Go to this URL in a browser: https://accounts.google.com/o/oauth2/auth?client_id=947318989803-6bn6qk8qdgf4n4g3pfee6491hc0brc4i.apps.googleusercontent.com&redirect_uri=urn%3Aietf%3Awg%3Aoauth%3A2.0%3Aoob&scope=email%20https%3A%2F%2Fwww.googleapis.com%2Fauth%2Fdocs.test%20https%3A%2F%2Fwww.googleapis.com%2Fauth%2Fdrive%20https%3A%2F%2Fwww.googleapis.com%2Fauth%2Fdrive.photos.readonly%20https%3A%2F%2Fwww.googleapis.com%2Fauth%2Fpeopleapi.readonly&response_type=code\n",
            "\n",
            "Enter your authorization code:\n",
            "··········\n",
            "Mounted at /gdrive\n",
            "/gdrive\n"
          ],
          "name": "stdout"
        }
      ]
    },
    {
      "cell_type": "markdown",
      "metadata": {
        "id": "SI_zs4kqy1wR",
        "colab_type": "text"
      },
      "source": [
        "#### Importando bibliotecas"
      ]
    },
    {
      "cell_type": "code",
      "metadata": {
        "id": "22xG6fCAnrqF",
        "colab_type": "code",
        "colab": {}
      },
      "source": [
        "import pandas as pd\n",
        "import numpy as np\n",
        "import matplotlib.pyplot as plt\n",
        "%matplotlib inline"
      ],
      "execution_count": 0,
      "outputs": []
    },
    {
      "cell_type": "markdown",
      "metadata": {
        "id": "wRialnAKy7vY",
        "colab_type": "text"
      },
      "source": [
        "#### Carregando a primeira Base de Dados com informações pessoais dos colaboradores"
      ]
    },
    {
      "cell_type": "code",
      "metadata": {
        "id": "0cv0uKnWnrqK",
        "colab_type": "code",
        "outputId": "209b68fe-e0d9-476d-b5df-580543b60e30",
        "colab": {
          "base_uri": "https://localhost:8080/",
          "height": 142
        }
      },
      "source": [
        "df = pd.read_excel('/gdrive/My Drive/Colab Notebooks/Datasets/PessoalServidor-5251.xls', skiprows = 11, usecols=['Matrícula', 'Tipo de Vínculo', 'Lotação', 'Local de Trabalho', 'Folha','Adiantamento'])\n",
        "df.head(n = 3)"
      ],
      "execution_count": 3,
      "outputs": [
        {
          "output_type": "execute_result",
          "data": {
            "text/html": [
              "<div>\n",
              "<style scoped>\n",
              "    .dataframe tbody tr th:only-of-type {\n",
              "        vertical-align: middle;\n",
              "    }\n",
              "\n",
              "    .dataframe tbody tr th {\n",
              "        vertical-align: top;\n",
              "    }\n",
              "\n",
              "    .dataframe thead th {\n",
              "        text-align: right;\n",
              "    }\n",
              "</style>\n",
              "<table border=\"1\" class=\"dataframe\">\n",
              "  <thead>\n",
              "    <tr style=\"text-align: right;\">\n",
              "      <th></th>\n",
              "      <th>Matrícula</th>\n",
              "      <th>Tipo de Vínculo</th>\n",
              "      <th>Lotação</th>\n",
              "      <th>Local de Trabalho</th>\n",
              "      <th>Folha</th>\n",
              "      <th>Adiantamento</th>\n",
              "    </tr>\n",
              "  </thead>\n",
              "  <tbody>\n",
              "    <tr>\n",
              "      <th>0</th>\n",
              "      <td>13646.0</td>\n",
              "      <td>ESTATUTÁRIO</td>\n",
              "      <td>SECRETARIA DE SERVICOS PUBLICOS</td>\n",
              "      <td>SERVICOS PUBLICOS</td>\n",
              "      <td>FOLHA NORMAL</td>\n",
              "      <td>0</td>\n",
              "    </tr>\n",
              "    <tr>\n",
              "      <th>1</th>\n",
              "      <td>10229.0</td>\n",
              "      <td>ESTATUTÁRIO</td>\n",
              "      <td>UBS ITAPEVA</td>\n",
              "      <td>PAÇO</td>\n",
              "      <td>FOLHA NORMAL</td>\n",
              "      <td>0</td>\n",
              "    </tr>\n",
              "    <tr>\n",
              "      <th>2</th>\n",
              "      <td>13647.0</td>\n",
              "      <td>ESTATUTÁRIO</td>\n",
              "      <td>SECRETARIA DE EDUCACAO</td>\n",
              "      <td>SECRETARIA DE EDUCACAO</td>\n",
              "      <td>FOLHA NORMAL</td>\n",
              "      <td>0</td>\n",
              "    </tr>\n",
              "  </tbody>\n",
              "</table>\n",
              "</div>"
            ],
            "text/plain": [
              "   Matrícula Tipo de Vínculo  ...         Folha Adiantamento\n",
              "0    13646.0     ESTATUTÁRIO  ...  FOLHA NORMAL            0\n",
              "1    10229.0     ESTATUTÁRIO  ...  FOLHA NORMAL            0\n",
              "2    13647.0     ESTATUTÁRIO  ...  FOLHA NORMAL            0\n",
              "\n",
              "[3 rows x 6 columns]"
            ]
          },
          "metadata": {
            "tags": []
          },
          "execution_count": 3
        }
      ]
    },
    {
      "cell_type": "markdown",
      "metadata": {
        "id": "_bDkN3wJzAsA",
        "colab_type": "text"
      },
      "source": [
        "#### Retornando uma série contendo contagens de valores exclusivos."
      ]
    },
    {
      "cell_type": "code",
      "metadata": {
        "id": "-qy_NugdJrI_",
        "colab_type": "code",
        "outputId": "8ad91f83-0ce6-4479-9401-c399eccb5c69",
        "colab": {
          "base_uri": "https://localhost:8080/",
          "height": 51
        }
      },
      "source": [
        "df.Folha.value_counts()"
      ],
      "execution_count": 4,
      "outputs": [
        {
          "output_type": "execute_result",
          "data": {
            "text/plain": [
              "FOLHA NORMAL    2568\n",
              "Name: Folha, dtype: int64"
            ]
          },
          "metadata": {
            "tags": []
          },
          "execution_count": 4
        }
      ]
    },
    {
      "cell_type": "markdown",
      "metadata": {
        "id": "T4BmTFNrzTiB",
        "colab_type": "text"
      },
      "source": [
        "Retorne uma série contendo contagens de valores exclusivos."
      ]
    },
    {
      "cell_type": "code",
      "metadata": {
        "id": "gXtj2P6AJ8yO",
        "colab_type": "code",
        "outputId": "cfa8913e-1976-4415-f405-c1ebff6d86ad",
        "colab": {
          "base_uri": "https://localhost:8080/",
          "height": 34
        }
      },
      "source": [
        "for i in df['Adiantamento']:\n",
        "  if(i == 0):\n",
        "    print('Não existe valor diferente de 0 nesta coluna')\n",
        "    break\n",
        "  else:\n",
        "    print('Existe valor diferente de 0 nesta coluna')\n",
        "    break"
      ],
      "execution_count": 5,
      "outputs": [
        {
          "output_type": "stream",
          "text": [
            "Não existe valor diferente de 0 nesta coluna\n"
          ],
          "name": "stdout"
        }
      ]
    },
    {
      "cell_type": "markdown",
      "metadata": {
        "id": "9cIUo1zWzsNR",
        "colab_type": "text"
      },
      "source": [
        "#### Excluindo as colunas desnecessárias"
      ]
    },
    {
      "cell_type": "code",
      "metadata": {
        "id": "8aU7yiL7nrqO",
        "colab_type": "code",
        "outputId": "366071b8-af38-4407-fc77-0395d5542c14",
        "colab": {
          "base_uri": "https://localhost:8080/",
          "height": 142
        }
      },
      "source": [
        "df = df.drop(['Adiantamento', 'Folha'], axis = 1)\n",
        "df.head(n =3)"
      ],
      "execution_count": 6,
      "outputs": [
        {
          "output_type": "execute_result",
          "data": {
            "text/html": [
              "<div>\n",
              "<style scoped>\n",
              "    .dataframe tbody tr th:only-of-type {\n",
              "        vertical-align: middle;\n",
              "    }\n",
              "\n",
              "    .dataframe tbody tr th {\n",
              "        vertical-align: top;\n",
              "    }\n",
              "\n",
              "    .dataframe thead th {\n",
              "        text-align: right;\n",
              "    }\n",
              "</style>\n",
              "<table border=\"1\" class=\"dataframe\">\n",
              "  <thead>\n",
              "    <tr style=\"text-align: right;\">\n",
              "      <th></th>\n",
              "      <th>Matrícula</th>\n",
              "      <th>Tipo de Vínculo</th>\n",
              "      <th>Lotação</th>\n",
              "      <th>Local de Trabalho</th>\n",
              "    </tr>\n",
              "  </thead>\n",
              "  <tbody>\n",
              "    <tr>\n",
              "      <th>0</th>\n",
              "      <td>13646.0</td>\n",
              "      <td>ESTATUTÁRIO</td>\n",
              "      <td>SECRETARIA DE SERVICOS PUBLICOS</td>\n",
              "      <td>SERVICOS PUBLICOS</td>\n",
              "    </tr>\n",
              "    <tr>\n",
              "      <th>1</th>\n",
              "      <td>10229.0</td>\n",
              "      <td>ESTATUTÁRIO</td>\n",
              "      <td>UBS ITAPEVA</td>\n",
              "      <td>PAÇO</td>\n",
              "    </tr>\n",
              "    <tr>\n",
              "      <th>2</th>\n",
              "      <td>13647.0</td>\n",
              "      <td>ESTATUTÁRIO</td>\n",
              "      <td>SECRETARIA DE EDUCACAO</td>\n",
              "      <td>SECRETARIA DE EDUCACAO</td>\n",
              "    </tr>\n",
              "  </tbody>\n",
              "</table>\n",
              "</div>"
            ],
            "text/plain": [
              "   Matrícula  ...       Local de Trabalho\n",
              "0    13646.0  ...       SERVICOS PUBLICOS\n",
              "1    10229.0  ...                    PAÇO\n",
              "2    13647.0  ...  SECRETARIA DE EDUCACAO\n",
              "\n",
              "[3 rows x 4 columns]"
            ]
          },
          "metadata": {
            "tags": []
          },
          "execution_count": 6
        }
      ]
    },
    {
      "cell_type": "markdown",
      "metadata": {
        "id": "GWQPWQv8z7RQ",
        "colab_type": "text"
      },
      "source": [
        "#### Criando um pequeno programa realizando acesso por opções de comandos e não células"
      ]
    },
    {
      "cell_type": "code",
      "metadata": {
        "id": "LJU3wy6vLuTA",
        "colab_type": "code",
        "outputId": "3c48a50d-977f-413c-8a4d-4182fe72c5a3",
        "colab": {
          "base_uri": "https://localhost:8080/",
          "height": 272
        }
      },
      "source": [
        "from time import sleep\n",
        "\n",
        "print('=-=' * 10)\n",
        "print('[1] Número de linhas e colunas')\n",
        "print('[2] Existência de valores nulos')\n",
        "print('[3] Sair')\n",
        "print('=-=' * 10)\n",
        "\n",
        "opcao = 0\n",
        "while opcao != 3:\n",
        "\topcao = int(input('>>>> Qual é sua opção? '))\n",
        "\tif opcao == 1:\n",
        "\t\tprint('Número de linhas e colunas:', df.shape)\n",
        "\t\t\n",
        "\telif opcao == 2:\n",
        "\t\tprint('Existe valor nulo dentro das colunas:', df.isnull().values.any())\n",
        "\t\n",
        "\telif opcao == 3:\n",
        "\t\tprint('Finalizando...')\n",
        "\t\t\n",
        "\telse:\n",
        "\t\tprint('Opção inválida. Tente novamente.')\n",
        "\tprint('=-=' * 10)\n",
        "\tsleep(3)\n",
        "print('Fim do programa! Volte sempre!')"
      ],
      "execution_count": 7,
      "outputs": [
        {
          "output_type": "stream",
          "text": [
            "=-==-==-==-==-==-==-==-==-==-=\n",
            "[1] Número de linhas e colunas\n",
            "[2] Existência de valores nulos\n",
            "[3] Sair\n",
            "=-==-==-==-==-==-==-==-==-==-=\n",
            ">>>> Qual é sua opção? 1\n",
            "Número de linhas e colunas: (2573, 4)\n",
            "=-==-==-==-==-==-==-==-==-==-=\n",
            ">>>> Qual é sua opção? 2\n",
            "Existe valor nulo dentro das colunas: True\n",
            "=-==-==-==-==-==-==-==-==-==-=\n",
            ">>>> Qual é sua opção? 3\n",
            "Finalizando...\n",
            "=-==-==-==-==-==-==-==-==-==-=\n",
            "Fim do programa! Volte sempre!\n"
          ],
          "name": "stdout"
        }
      ]
    },
    {
      "cell_type": "markdown",
      "metadata": {
        "id": "qkhAZcc50aik",
        "colab_type": "text"
      },
      "source": [
        "#### Tamanho da nossa Base de Dados (linhas, colunas)"
      ]
    },
    {
      "cell_type": "code",
      "metadata": {
        "id": "BillR7SnnrqR",
        "colab_type": "code",
        "outputId": "80f66c98-c726-48b3-fd10-befa4ec2473f",
        "colab": {
          "base_uri": "https://localhost:8080/",
          "height": 34
        }
      },
      "source": [
        "print('Número de linhas e colunas:', df.shape)"
      ],
      "execution_count": 8,
      "outputs": [
        {
          "output_type": "stream",
          "text": [
            "Número de linhas e colunas: (2573, 4)\n"
          ],
          "name": "stdout"
        }
      ]
    },
    {
      "cell_type": "markdown",
      "metadata": {
        "id": "O663TtED0loe",
        "colab_type": "text"
      },
      "source": [
        "#### Existência de valores nulos dentro da Base de Dados"
      ]
    },
    {
      "cell_type": "code",
      "metadata": {
        "id": "8UdPiZb2nrqV",
        "colab_type": "code",
        "outputId": "065b8edc-5c6f-42c4-f8e1-bc49edbd24de",
        "colab": {
          "base_uri": "https://localhost:8080/",
          "height": 34
        }
      },
      "source": [
        "print('Existe valor nulo dentro das colunas:', df.isnull().values.any())"
      ],
      "execution_count": 9,
      "outputs": [
        {
          "output_type": "stream",
          "text": [
            "Existe valor nulo dentro das colunas: True\n"
          ],
          "name": "stdout"
        }
      ]
    },
    {
      "cell_type": "markdown",
      "metadata": {
        "id": "psvcy6N10sEz",
        "colab_type": "text"
      },
      "source": [
        "#### Quantitativo de valores vazios"
      ]
    },
    {
      "cell_type": "code",
      "metadata": {
        "id": "hbyeAxKEnrqY",
        "colab_type": "code",
        "outputId": "20b9d362-ef32-43da-8969-f0faa97d89c4",
        "colab": {
          "base_uri": "https://localhost:8080/",
          "height": 102
        }
      },
      "source": [
        "df.isnull().sum()"
      ],
      "execution_count": 10,
      "outputs": [
        {
          "output_type": "execute_result",
          "data": {
            "text/plain": [
              "Matrícula            5\n",
              "Tipo de Vínculo      5\n",
              "Lotação              5\n",
              "Local de Trabalho    5\n",
              "dtype: int64"
            ]
          },
          "metadata": {
            "tags": []
          },
          "execution_count": 10
        }
      ]
    },
    {
      "cell_type": "markdown",
      "metadata": {
        "id": "Psrr33Fu0yHs",
        "colab_type": "text"
      },
      "source": [
        "#### Quantitativo de linhas de nossa Base de Dados"
      ]
    },
    {
      "cell_type": "code",
      "metadata": {
        "id": "dv6DxxrKnrqb",
        "colab_type": "code",
        "outputId": "fee60f20-5ae5-40cd-86af-95c64f71dc85",
        "colab": {
          "base_uri": "https://localhost:8080/",
          "height": 34
        }
      },
      "source": [
        "print('# Número de linhas no DataFrame {0}'.format(len(df)))"
      ],
      "execution_count": 11,
      "outputs": [
        {
          "output_type": "stream",
          "text": [
            "# Número de linhas no DataFrame 2573\n"
          ],
          "name": "stdout"
        }
      ]
    },
    {
      "cell_type": "markdown",
      "metadata": {
        "id": "fAjIC0_W03oB",
        "colab_type": "text"
      },
      "source": [
        "#### Pesquisando as últimas linhas de nossa Base de Dados"
      ]
    },
    {
      "cell_type": "code",
      "metadata": {
        "id": "5Xo3YHmAnrqe",
        "colab_type": "code",
        "outputId": "f13ded17-6c6a-4db5-eb0b-013594d88a9f",
        "colab": {
          "base_uri": "https://localhost:8080/",
          "height": 235
        }
      },
      "source": [
        "df.tail(n = 6)"
      ],
      "execution_count": 12,
      "outputs": [
        {
          "output_type": "execute_result",
          "data": {
            "text/html": [
              "<div>\n",
              "<style scoped>\n",
              "    .dataframe tbody tr th:only-of-type {\n",
              "        vertical-align: middle;\n",
              "    }\n",
              "\n",
              "    .dataframe tbody tr th {\n",
              "        vertical-align: top;\n",
              "    }\n",
              "\n",
              "    .dataframe thead th {\n",
              "        text-align: right;\n",
              "    }\n",
              "</style>\n",
              "<table border=\"1\" class=\"dataframe\">\n",
              "  <thead>\n",
              "    <tr style=\"text-align: right;\">\n",
              "      <th></th>\n",
              "      <th>Matrícula</th>\n",
              "      <th>Tipo de Vínculo</th>\n",
              "      <th>Lotação</th>\n",
              "      <th>Local de Trabalho</th>\n",
              "    </tr>\n",
              "  </thead>\n",
              "  <tbody>\n",
              "    <tr>\n",
              "      <th>2567</th>\n",
              "      <td>12379.0</td>\n",
              "      <td>ESTATUTÁRIO</td>\n",
              "      <td>UBS RIO ACIMA</td>\n",
              "      <td>PAÇO</td>\n",
              "    </tr>\n",
              "    <tr>\n",
              "      <th>2568</th>\n",
              "      <td>NaN</td>\n",
              "      <td>NaN</td>\n",
              "      <td>NaN</td>\n",
              "      <td>NaN</td>\n",
              "    </tr>\n",
              "    <tr>\n",
              "      <th>2569</th>\n",
              "      <td>NaN</td>\n",
              "      <td>NaN</td>\n",
              "      <td>NaN</td>\n",
              "      <td>NaN</td>\n",
              "    </tr>\n",
              "    <tr>\n",
              "      <th>2570</th>\n",
              "      <td>NaN</td>\n",
              "      <td>NaN</td>\n",
              "      <td>NaN</td>\n",
              "      <td>NaN</td>\n",
              "    </tr>\n",
              "    <tr>\n",
              "      <th>2571</th>\n",
              "      <td>NaN</td>\n",
              "      <td>NaN</td>\n",
              "      <td>NaN</td>\n",
              "      <td>NaN</td>\n",
              "    </tr>\n",
              "    <tr>\n",
              "      <th>2572</th>\n",
              "      <td>NaN</td>\n",
              "      <td>NaN</td>\n",
              "      <td>NaN</td>\n",
              "      <td>NaN</td>\n",
              "    </tr>\n",
              "  </tbody>\n",
              "</table>\n",
              "</div>"
            ],
            "text/plain": [
              "      Matrícula Tipo de Vínculo        Lotação Local de Trabalho\n",
              "2567    12379.0     ESTATUTÁRIO  UBS RIO ACIMA              PAÇO\n",
              "2568        NaN             NaN            NaN               NaN\n",
              "2569        NaN             NaN            NaN               NaN\n",
              "2570        NaN             NaN            NaN               NaN\n",
              "2571        NaN             NaN            NaN               NaN\n",
              "2572        NaN             NaN            NaN               NaN"
            ]
          },
          "metadata": {
            "tags": []
          },
          "execution_count": 12
        }
      ]
    },
    {
      "cell_type": "markdown",
      "metadata": {
        "id": "R5SsUwhU1BnK",
        "colab_type": "text"
      },
      "source": [
        "#### Removendo valores faltantes"
      ]
    },
    {
      "cell_type": "code",
      "metadata": {
        "id": "UqvJjSdDnrqh",
        "colab_type": "code",
        "outputId": "650b83fa-bdb6-4a76-9831-c1317f6884c5",
        "colab": {
          "base_uri": "https://localhost:8080/",
          "height": 102
        }
      },
      "source": [
        "df.dropna(how = 'all', inplace = True)\n",
        "df.isnull().sum()"
      ],
      "execution_count": 13,
      "outputs": [
        {
          "output_type": "execute_result",
          "data": {
            "text/plain": [
              "Matrícula            0\n",
              "Tipo de Vínculo      0\n",
              "Lotação              0\n",
              "Local de Trabalho    0\n",
              "dtype: int64"
            ]
          },
          "metadata": {
            "tags": []
          },
          "execution_count": 13
        }
      ]
    },
    {
      "cell_type": "markdown",
      "metadata": {
        "id": "tIevk8mo1Hl6",
        "colab_type": "text"
      },
      "source": [
        "#### Após as atualizações segue o novo formato de nossa Base de Dados"
      ]
    },
    {
      "cell_type": "code",
      "metadata": {
        "id": "hjFdpP-rnrql",
        "colab_type": "code",
        "outputId": "78434aa4-fe33-4e26-da9c-468a741c0dd5",
        "colab": {
          "base_uri": "https://localhost:8080/",
          "height": 34
        }
      },
      "source": [
        "df.shape"
      ],
      "execution_count": 14,
      "outputs": [
        {
          "output_type": "execute_result",
          "data": {
            "text/plain": [
              "(2568, 4)"
            ]
          },
          "metadata": {
            "tags": []
          },
          "execution_count": 14
        }
      ]
    },
    {
      "cell_type": "markdown",
      "metadata": {
        "id": "ZBrg88MA1PUD",
        "colab_type": "text"
      },
      "source": [
        "#### Sem valores faltantes"
      ]
    },
    {
      "cell_type": "code",
      "metadata": {
        "id": "VnmCEoWOnrqo",
        "colab_type": "code",
        "outputId": "9800d908-cb15-402f-8fff-8bf8edce3216",
        "colab": {
          "base_uri": "https://localhost:8080/",
          "height": 235
        }
      },
      "source": [
        "df.tail(n = 6)"
      ],
      "execution_count": 15,
      "outputs": [
        {
          "output_type": "execute_result",
          "data": {
            "text/html": [
              "<div>\n",
              "<style scoped>\n",
              "    .dataframe tbody tr th:only-of-type {\n",
              "        vertical-align: middle;\n",
              "    }\n",
              "\n",
              "    .dataframe tbody tr th {\n",
              "        vertical-align: top;\n",
              "    }\n",
              "\n",
              "    .dataframe thead th {\n",
              "        text-align: right;\n",
              "    }\n",
              "</style>\n",
              "<table border=\"1\" class=\"dataframe\">\n",
              "  <thead>\n",
              "    <tr style=\"text-align: right;\">\n",
              "      <th></th>\n",
              "      <th>Matrícula</th>\n",
              "      <th>Tipo de Vínculo</th>\n",
              "      <th>Lotação</th>\n",
              "      <th>Local de Trabalho</th>\n",
              "    </tr>\n",
              "  </thead>\n",
              "  <tbody>\n",
              "    <tr>\n",
              "      <th>2562</th>\n",
              "      <td>13259.0</td>\n",
              "      <td>ESTATUTÁRIO</td>\n",
              "      <td>CMEI  ODAIR JOSE CAU</td>\n",
              "      <td>CMEI ODAIR CAU</td>\n",
              "    </tr>\n",
              "    <tr>\n",
              "      <th>2563</th>\n",
              "      <td>81260.0</td>\n",
              "      <td>CARGO EM COMISSÃO</td>\n",
              "      <td>SECRETARIA DE EDUCACAO</td>\n",
              "      <td>SECRETARIA DE EDUCACAO</td>\n",
              "    </tr>\n",
              "    <tr>\n",
              "      <th>2564</th>\n",
              "      <td>10845.0</td>\n",
              "      <td>ESTATUTÁRIO</td>\n",
              "      <td>AMBULANCIA</td>\n",
              "      <td>PAÇO</td>\n",
              "    </tr>\n",
              "    <tr>\n",
              "      <th>2565</th>\n",
              "      <td>11070.0</td>\n",
              "      <td>ESTATUTÁRIO</td>\n",
              "      <td>SECRETARIA DE SAUDE</td>\n",
              "      <td>PAÇO</td>\n",
              "    </tr>\n",
              "    <tr>\n",
              "      <th>2566</th>\n",
              "      <td>12095.0</td>\n",
              "      <td>ESTATUTÁRIO</td>\n",
              "      <td>EMEF  PROF  WALTER ROCHA DE CAMARGO</td>\n",
              "      <td>EMEF  PROF  WALTER ROCHA DE CAMARGO</td>\n",
              "    </tr>\n",
              "    <tr>\n",
              "      <th>2567</th>\n",
              "      <td>12379.0</td>\n",
              "      <td>ESTATUTÁRIO</td>\n",
              "      <td>UBS RIO ACIMA</td>\n",
              "      <td>PAÇO</td>\n",
              "    </tr>\n",
              "  </tbody>\n",
              "</table>\n",
              "</div>"
            ],
            "text/plain": [
              "      Matrícula  ...                    Local de Trabalho\n",
              "2562    13259.0  ...                       CMEI ODAIR CAU\n",
              "2563    81260.0  ...               SECRETARIA DE EDUCACAO\n",
              "2564    10845.0  ...                                 PAÇO\n",
              "2565    11070.0  ...                                 PAÇO\n",
              "2566    12095.0  ...  EMEF  PROF  WALTER ROCHA DE CAMARGO\n",
              "2567    12379.0  ...                                 PAÇO\n",
              "\n",
              "[6 rows x 4 columns]"
            ]
          },
          "metadata": {
            "tags": []
          },
          "execution_count": 15
        }
      ]
    },
    {
      "cell_type": "markdown",
      "metadata": {
        "id": "xaIaxYUH1SSs",
        "colab_type": "text"
      },
      "source": [
        "#### Trabalhando com os tipos das informações dentro das colunas"
      ]
    },
    {
      "cell_type": "code",
      "metadata": {
        "id": "7-FSYY_onrqr",
        "colab_type": "code",
        "outputId": "de90b37f-cf33-4e65-fae3-d2f4d3c78f67",
        "colab": {
          "base_uri": "https://localhost:8080/",
          "height": 102
        }
      },
      "source": [
        "df.dtypes"
      ],
      "execution_count": 16,
      "outputs": [
        {
          "output_type": "execute_result",
          "data": {
            "text/plain": [
              "Matrícula            float64\n",
              "Tipo de Vínculo       object\n",
              "Lotação               object\n",
              "Local de Trabalho     object\n",
              "dtype: object"
            ]
          },
          "metadata": {
            "tags": []
          },
          "execution_count": 16
        }
      ]
    },
    {
      "cell_type": "markdown",
      "metadata": {
        "id": "AnLcPTut1XUz",
        "colab_type": "text"
      },
      "source": [
        "#### Convertendo matrícula do tipo float64 para tipo object"
      ]
    },
    {
      "cell_type": "code",
      "metadata": {
        "id": "CVUR9mhrnrqw",
        "colab_type": "code",
        "outputId": "3db0d2cb-eefb-449e-f9f5-6a0afb45ecc9",
        "colab": {
          "base_uri": "https://localhost:8080/",
          "height": 102
        }
      },
      "source": [
        "df['Matrícula'] = df['Matrícula'].astype(object)\n",
        "df.dtypes"
      ],
      "execution_count": 17,
      "outputs": [
        {
          "output_type": "execute_result",
          "data": {
            "text/plain": [
              "Matrícula            object\n",
              "Tipo de Vínculo      object\n",
              "Lotação              object\n",
              "Local de Trabalho    object\n",
              "dtype: object"
            ]
          },
          "metadata": {
            "tags": []
          },
          "execution_count": 17
        }
      ]
    },
    {
      "cell_type": "markdown",
      "metadata": {
        "id": "i_RXIIvM1gtU",
        "colab_type": "text"
      },
      "source": [
        "#### Padronizando a compreensão dos títulos das colunas. Sem acentuação, nem caixa alta ou espaços"
      ]
    },
    {
      "cell_type": "code",
      "metadata": {
        "id": "HXbRqwajnrq2",
        "colab_type": "code",
        "outputId": "0352267d-5f2d-436d-e2bc-651691ae8bc3",
        "colab": {
          "base_uri": "https://localhost:8080/",
          "height": 204
        }
      },
      "source": [
        "df.columns = df.columns.str.lower().str.replace(' ', '_').str.replace('í', 'i').str.replace('ã', 'a').str.replace('/', '_').str.replace('ç', 'c')\n",
        "df.head()"
      ],
      "execution_count": 18,
      "outputs": [
        {
          "output_type": "execute_result",
          "data": {
            "text/html": [
              "<div>\n",
              "<style scoped>\n",
              "    .dataframe tbody tr th:only-of-type {\n",
              "        vertical-align: middle;\n",
              "    }\n",
              "\n",
              "    .dataframe tbody tr th {\n",
              "        vertical-align: top;\n",
              "    }\n",
              "\n",
              "    .dataframe thead th {\n",
              "        text-align: right;\n",
              "    }\n",
              "</style>\n",
              "<table border=\"1\" class=\"dataframe\">\n",
              "  <thead>\n",
              "    <tr style=\"text-align: right;\">\n",
              "      <th></th>\n",
              "      <th>matricula</th>\n",
              "      <th>tipo_de_vinculo</th>\n",
              "      <th>lotacao</th>\n",
              "      <th>local_de_trabalho</th>\n",
              "    </tr>\n",
              "  </thead>\n",
              "  <tbody>\n",
              "    <tr>\n",
              "      <th>0</th>\n",
              "      <td>13646</td>\n",
              "      <td>ESTATUTÁRIO</td>\n",
              "      <td>SECRETARIA DE SERVICOS PUBLICOS</td>\n",
              "      <td>SERVICOS PUBLICOS</td>\n",
              "    </tr>\n",
              "    <tr>\n",
              "      <th>1</th>\n",
              "      <td>10229</td>\n",
              "      <td>ESTATUTÁRIO</td>\n",
              "      <td>UBS ITAPEVA</td>\n",
              "      <td>PAÇO</td>\n",
              "    </tr>\n",
              "    <tr>\n",
              "      <th>2</th>\n",
              "      <td>13647</td>\n",
              "      <td>ESTATUTÁRIO</td>\n",
              "      <td>SECRETARIA DE EDUCACAO</td>\n",
              "      <td>SECRETARIA DE EDUCACAO</td>\n",
              "    </tr>\n",
              "    <tr>\n",
              "      <th>3</th>\n",
              "      <td>13648</td>\n",
              "      <td>ESTATUTÁRIO</td>\n",
              "      <td>SECAO DE VIGILANCIA</td>\n",
              "      <td>PAÇO</td>\n",
              "    </tr>\n",
              "    <tr>\n",
              "      <th>4</th>\n",
              "      <td>11561</td>\n",
              "      <td>ESTATUTÁRIO</td>\n",
              "      <td>SECRETARIA DE EDUCACAO</td>\n",
              "      <td>SECRETARIA DE EDUCACAO</td>\n",
              "    </tr>\n",
              "  </tbody>\n",
              "</table>\n",
              "</div>"
            ],
            "text/plain": [
              "  matricula  ...       local_de_trabalho\n",
              "0     13646  ...       SERVICOS PUBLICOS\n",
              "1     10229  ...                    PAÇO\n",
              "2     13647  ...  SECRETARIA DE EDUCACAO\n",
              "3     13648  ...                    PAÇO\n",
              "4     11561  ...  SECRETARIA DE EDUCACAO\n",
              "\n",
              "[5 rows x 4 columns]"
            ]
          },
          "metadata": {
            "tags": []
          },
          "execution_count": 18
        }
      ]
    },
    {
      "cell_type": "markdown",
      "metadata": {
        "id": "Qnc3h7es1tds",
        "colab_type": "text"
      },
      "source": [
        "#### Carregando a segunda Base de Dados com informações financeiras dos colaboradores"
      ]
    },
    {
      "cell_type": "code",
      "metadata": {
        "id": "Gt6ebq4Lnrq8",
        "colab_type": "code",
        "outputId": "d1d9c8d9-4b16-4788-cd46-14f5db9953f4",
        "colab": {
          "base_uri": "https://localhost:8080/",
          "height": 204
        }
      },
      "source": [
        "df2 = pd.read_excel('/gdrive/My Drive/Colab Notebooks/Datasets/02-Transparencia-Servidor-FEVEREIRO_2019.xlsx', skiprows = 5)\n",
        "df2.head()"
      ],
      "execution_count": 19,
      "outputs": [
        {
          "output_type": "execute_result",
          "data": {
            "text/html": [
              "<div>\n",
              "<style scoped>\n",
              "    .dataframe tbody tr th:only-of-type {\n",
              "        vertical-align: middle;\n",
              "    }\n",
              "\n",
              "    .dataframe tbody tr th {\n",
              "        vertical-align: top;\n",
              "    }\n",
              "\n",
              "    .dataframe thead th {\n",
              "        text-align: right;\n",
              "    }\n",
              "</style>\n",
              "<table border=\"1\" class=\"dataframe\">\n",
              "  <thead>\n",
              "    <tr style=\"text-align: right;\">\n",
              "      <th></th>\n",
              "      <th>Matrícula</th>\n",
              "      <th>Código</th>\n",
              "      <th>Cargo</th>\n",
              "      <th>Situação</th>\n",
              "      <th>Vecto Mês</th>\n",
              "      <th>Líquido</th>\n",
              "    </tr>\n",
              "  </thead>\n",
              "  <tbody>\n",
              "    <tr>\n",
              "      <th>0</th>\n",
              "      <td>11.0</td>\n",
              "      <td>904.0</td>\n",
              "      <td>PREFEITO</td>\n",
              "      <td>ATIVO</td>\n",
              "      <td>17190.74</td>\n",
              "      <td>6920.30</td>\n",
              "    </tr>\n",
              "    <tr>\n",
              "      <th>1</th>\n",
              "      <td>12.0</td>\n",
              "      <td>905.0</td>\n",
              "      <td>VICE PREFEITO</td>\n",
              "      <td>ATIVO</td>\n",
              "      <td>8197.45</td>\n",
              "      <td>5832.41</td>\n",
              "    </tr>\n",
              "    <tr>\n",
              "      <th>2</th>\n",
              "      <td>1661.0</td>\n",
              "      <td>445.0</td>\n",
              "      <td>AUXILIAR DE SERVICOS DE CAMPO</td>\n",
              "      <td>ATIVO</td>\n",
              "      <td>2901.93</td>\n",
              "      <td>1426.24</td>\n",
              "    </tr>\n",
              "    <tr>\n",
              "      <th>3</th>\n",
              "      <td>1820.0</td>\n",
              "      <td>430.0</td>\n",
              "      <td>AUXILIAR DE TOPOGRAFIA E AGRIMENSURA</td>\n",
              "      <td>ATIVO</td>\n",
              "      <td>2918.42</td>\n",
              "      <td>2315.14</td>\n",
              "    </tr>\n",
              "    <tr>\n",
              "      <th>4</th>\n",
              "      <td>1848.0</td>\n",
              "      <td>300.0</td>\n",
              "      <td>MOTORISTA</td>\n",
              "      <td>ATIVO</td>\n",
              "      <td>5515.01</td>\n",
              "      <td>3380.86</td>\n",
              "    </tr>\n",
              "  </tbody>\n",
              "</table>\n",
              "</div>"
            ],
            "text/plain": [
              "   Matrícula  Código  ... Vecto Mês  Líquido\n",
              "0       11.0   904.0  ...  17190.74  6920.30\n",
              "1       12.0   905.0  ...   8197.45  5832.41\n",
              "2     1661.0   445.0  ...   2901.93  1426.24\n",
              "3     1820.0   430.0  ...   2918.42  2315.14\n",
              "4     1848.0   300.0  ...   5515.01  3380.86\n",
              "\n",
              "[5 rows x 6 columns]"
            ]
          },
          "metadata": {
            "tags": []
          },
          "execution_count": 19
        }
      ]
    },
    {
      "cell_type": "markdown",
      "metadata": {
        "id": "4fSPdu5a25s2",
        "colab_type": "text"
      },
      "source": [
        "#### Existência de valores nulos dentro da Base de Dados"
      ]
    },
    {
      "cell_type": "code",
      "metadata": {
        "id": "Lg6Eb21InrrC",
        "colab_type": "code",
        "outputId": "a6af489a-0e48-46ab-f21c-9e853f6751d9",
        "colab": {
          "base_uri": "https://localhost:8080/",
          "height": 34
        }
      },
      "source": [
        "df2.isnull().values.any()"
      ],
      "execution_count": 20,
      "outputs": [
        {
          "output_type": "execute_result",
          "data": {
            "text/plain": [
              "True"
            ]
          },
          "metadata": {
            "tags": []
          },
          "execution_count": 20
        }
      ]
    },
    {
      "cell_type": "markdown",
      "metadata": {
        "id": "DvbBivRp3Oic",
        "colab_type": "text"
      },
      "source": [
        "#### Quantitativo de valores vazios"
      ]
    },
    {
      "cell_type": "code",
      "metadata": {
        "id": "Vx2GG4DtnrrF",
        "colab_type": "code",
        "outputId": "1883ace6-169e-44ab-c01b-9e3b16cd3dcc",
        "colab": {
          "base_uri": "https://localhost:8080/",
          "height": 136
        }
      },
      "source": [
        "df2.isnull().sum()"
      ],
      "execution_count": 21,
      "outputs": [
        {
          "output_type": "execute_result",
          "data": {
            "text/plain": [
              "Matrícula    4\n",
              "Código       4\n",
              "Cargo        4\n",
              "Situação     4\n",
              "Vecto Mês    3\n",
              "Líquido      3\n",
              "dtype: int64"
            ]
          },
          "metadata": {
            "tags": []
          },
          "execution_count": 21
        }
      ]
    },
    {
      "cell_type": "markdown",
      "metadata": {
        "id": "EFEQN98z3U8H",
        "colab_type": "text"
      },
      "source": [
        "#### Quantitativo de linhas de nossa Base de Dados"
      ]
    },
    {
      "cell_type": "code",
      "metadata": {
        "id": "JNSgAZx1nrrK",
        "colab_type": "code",
        "outputId": "1e714338-6fe5-4139-bb51-8bf07735e646",
        "colab": {
          "base_uri": "https://localhost:8080/",
          "height": 34
        }
      },
      "source": [
        "print('# Número de linhas no DataFrame {0}'.format(len(df2)))"
      ],
      "execution_count": 22,
      "outputs": [
        {
          "output_type": "stream",
          "text": [
            "# Número de linhas no DataFrame 2514\n"
          ],
          "name": "stdout"
        }
      ]
    },
    {
      "cell_type": "markdown",
      "metadata": {
        "id": "huEU_JE33ar0",
        "colab_type": "text"
      },
      "source": [
        "#### Pesquisando as últimas linhas de nossa Base de Dados"
      ]
    },
    {
      "cell_type": "code",
      "metadata": {
        "id": "u9Sgl4elnrrO",
        "colab_type": "code",
        "outputId": "b29a538b-fccb-4018-f5ad-cf08181b79e8",
        "colab": {
          "base_uri": "https://localhost:8080/",
          "height": 204
        }
      },
      "source": [
        "df2.tail()"
      ],
      "execution_count": 23,
      "outputs": [
        {
          "output_type": "execute_result",
          "data": {
            "text/html": [
              "<div>\n",
              "<style scoped>\n",
              "    .dataframe tbody tr th:only-of-type {\n",
              "        vertical-align: middle;\n",
              "    }\n",
              "\n",
              "    .dataframe tbody tr th {\n",
              "        vertical-align: top;\n",
              "    }\n",
              "\n",
              "    .dataframe thead th {\n",
              "        text-align: right;\n",
              "    }\n",
              "</style>\n",
              "<table border=\"1\" class=\"dataframe\">\n",
              "  <thead>\n",
              "    <tr style=\"text-align: right;\">\n",
              "      <th></th>\n",
              "      <th>Matrícula</th>\n",
              "      <th>Código</th>\n",
              "      <th>Cargo</th>\n",
              "      <th>Situação</th>\n",
              "      <th>Vecto Mês</th>\n",
              "      <th>Líquido</th>\n",
              "    </tr>\n",
              "  </thead>\n",
              "  <tbody>\n",
              "    <tr>\n",
              "      <th>2509</th>\n",
              "      <td>100013.0</td>\n",
              "      <td>760.0</td>\n",
              "      <td>CONSELHEIRO TUTELAR</td>\n",
              "      <td>ATIVO</td>\n",
              "      <td>1963.48</td>\n",
              "      <td>1580.66</td>\n",
              "    </tr>\n",
              "    <tr>\n",
              "      <th>2510</th>\n",
              "      <td>NaN</td>\n",
              "      <td>NaN</td>\n",
              "      <td>NaN</td>\n",
              "      <td>NaN</td>\n",
              "      <td>NaN</td>\n",
              "      <td>NaN</td>\n",
              "    </tr>\n",
              "    <tr>\n",
              "      <th>2511</th>\n",
              "      <td>NaN</td>\n",
              "      <td>NaN</td>\n",
              "      <td>NaN</td>\n",
              "      <td>NaN</td>\n",
              "      <td>NaN</td>\n",
              "      <td>NaN</td>\n",
              "    </tr>\n",
              "    <tr>\n",
              "      <th>2512</th>\n",
              "      <td>NaN</td>\n",
              "      <td>NaN</td>\n",
              "      <td>NaN</td>\n",
              "      <td>NaN</td>\n",
              "      <td>NaN</td>\n",
              "      <td>NaN</td>\n",
              "    </tr>\n",
              "    <tr>\n",
              "      <th>2513</th>\n",
              "      <td>NaN</td>\n",
              "      <td>NaN</td>\n",
              "      <td>NaN</td>\n",
              "      <td>NaN</td>\n",
              "      <td>9274989.79</td>\n",
              "      <td>6383587.78</td>\n",
              "    </tr>\n",
              "  </tbody>\n",
              "</table>\n",
              "</div>"
            ],
            "text/plain": [
              "      Matrícula  Código                Cargo Situação   Vecto Mês     Líquido\n",
              "2509   100013.0   760.0  CONSELHEIRO TUTELAR    ATIVO     1963.48     1580.66\n",
              "2510        NaN     NaN                  NaN      NaN         NaN         NaN\n",
              "2511        NaN     NaN                  NaN      NaN         NaN         NaN\n",
              "2512        NaN     NaN                  NaN      NaN         NaN         NaN\n",
              "2513        NaN     NaN                  NaN      NaN  9274989.79  6383587.78"
            ]
          },
          "metadata": {
            "tags": []
          },
          "execution_count": 23
        }
      ]
    },
    {
      "cell_type": "markdown",
      "metadata": {
        "id": "fQoF1MFc3ppH",
        "colab_type": "text"
      },
      "source": [
        "#### Removendo valores faltantes"
      ]
    },
    {
      "cell_type": "code",
      "metadata": {
        "id": "59LUNl26nrrT",
        "colab_type": "code",
        "outputId": "a9b0b43d-9500-4198-9f93-a762b17d38cf",
        "colab": {
          "base_uri": "https://localhost:8080/",
          "height": 204
        }
      },
      "source": [
        "df2 = df2.dropna(axis = 0, how = 'any')\n",
        "df2.tail()"
      ],
      "execution_count": 24,
      "outputs": [
        {
          "output_type": "execute_result",
          "data": {
            "text/html": [
              "<div>\n",
              "<style scoped>\n",
              "    .dataframe tbody tr th:only-of-type {\n",
              "        vertical-align: middle;\n",
              "    }\n",
              "\n",
              "    .dataframe tbody tr th {\n",
              "        vertical-align: top;\n",
              "    }\n",
              "\n",
              "    .dataframe thead th {\n",
              "        text-align: right;\n",
              "    }\n",
              "</style>\n",
              "<table border=\"1\" class=\"dataframe\">\n",
              "  <thead>\n",
              "    <tr style=\"text-align: right;\">\n",
              "      <th></th>\n",
              "      <th>Matrícula</th>\n",
              "      <th>Código</th>\n",
              "      <th>Cargo</th>\n",
              "      <th>Situação</th>\n",
              "      <th>Vecto Mês</th>\n",
              "      <th>Líquido</th>\n",
              "    </tr>\n",
              "  </thead>\n",
              "  <tbody>\n",
              "    <tr>\n",
              "      <th>2505</th>\n",
              "      <td>100009.0</td>\n",
              "      <td>760.0</td>\n",
              "      <td>CONSELHEIRO TUTELAR</td>\n",
              "      <td>ATIVO</td>\n",
              "      <td>1963.48</td>\n",
              "      <td>1301.62</td>\n",
              "    </tr>\n",
              "    <tr>\n",
              "      <th>2506</th>\n",
              "      <td>100010.0</td>\n",
              "      <td>760.0</td>\n",
              "      <td>CONSELHEIRO TUTELAR</td>\n",
              "      <td>ATIVO</td>\n",
              "      <td>1963.48</td>\n",
              "      <td>1784.77</td>\n",
              "    </tr>\n",
              "    <tr>\n",
              "      <th>2507</th>\n",
              "      <td>100011.0</td>\n",
              "      <td>760.0</td>\n",
              "      <td>CONSELHEIRO TUTELAR</td>\n",
              "      <td>ATIVO</td>\n",
              "      <td>1963.48</td>\n",
              "      <td>1784.77</td>\n",
              "    </tr>\n",
              "    <tr>\n",
              "      <th>2508</th>\n",
              "      <td>100012.0</td>\n",
              "      <td>760.0</td>\n",
              "      <td>CONSELHEIRO TUTELAR</td>\n",
              "      <td>ATIVO</td>\n",
              "      <td>1963.48</td>\n",
              "      <td>1580.66</td>\n",
              "    </tr>\n",
              "    <tr>\n",
              "      <th>2509</th>\n",
              "      <td>100013.0</td>\n",
              "      <td>760.0</td>\n",
              "      <td>CONSELHEIRO TUTELAR</td>\n",
              "      <td>ATIVO</td>\n",
              "      <td>1963.48</td>\n",
              "      <td>1580.66</td>\n",
              "    </tr>\n",
              "  </tbody>\n",
              "</table>\n",
              "</div>"
            ],
            "text/plain": [
              "      Matrícula  Código                Cargo Situação  Vecto Mês  Líquido\n",
              "2505   100009.0   760.0  CONSELHEIRO TUTELAR    ATIVO    1963.48  1301.62\n",
              "2506   100010.0   760.0  CONSELHEIRO TUTELAR    ATIVO    1963.48  1784.77\n",
              "2507   100011.0   760.0  CONSELHEIRO TUTELAR    ATIVO    1963.48  1784.77\n",
              "2508   100012.0   760.0  CONSELHEIRO TUTELAR    ATIVO    1963.48  1580.66\n",
              "2509   100013.0   760.0  CONSELHEIRO TUTELAR    ATIVO    1963.48  1580.66"
            ]
          },
          "metadata": {
            "tags": []
          },
          "execution_count": 24
        }
      ]
    },
    {
      "cell_type": "markdown",
      "metadata": {
        "id": "o62EZGs23t-W",
        "colab_type": "text"
      },
      "source": [
        "#### Padronizando a compreensão dos títulos das colunas. Sem acentuação, nem caixa alta ou espaços"
      ]
    },
    {
      "cell_type": "code",
      "metadata": {
        "id": "dTEAuYlynrrW",
        "colab_type": "code",
        "outputId": "4379dcdc-99da-473a-e0ab-dbf0f390f5db",
        "colab": {
          "base_uri": "https://localhost:8080/",
          "height": 204
        }
      },
      "source": [
        "df2.columns = df2.columns.str.lower().str.replace('í', 'i').str.replace('ç', 'c').str.replace('ã', 'a').str.replace(' ', '_').str.replace('ê', 'e').str.replace('ó', 'o')\n",
        "df2.head()"
      ],
      "execution_count": 25,
      "outputs": [
        {
          "output_type": "execute_result",
          "data": {
            "text/html": [
              "<div>\n",
              "<style scoped>\n",
              "    .dataframe tbody tr th:only-of-type {\n",
              "        vertical-align: middle;\n",
              "    }\n",
              "\n",
              "    .dataframe tbody tr th {\n",
              "        vertical-align: top;\n",
              "    }\n",
              "\n",
              "    .dataframe thead th {\n",
              "        text-align: right;\n",
              "    }\n",
              "</style>\n",
              "<table border=\"1\" class=\"dataframe\">\n",
              "  <thead>\n",
              "    <tr style=\"text-align: right;\">\n",
              "      <th></th>\n",
              "      <th>matricula</th>\n",
              "      <th>codigo</th>\n",
              "      <th>cargo</th>\n",
              "      <th>situacao</th>\n",
              "      <th>vecto_mes</th>\n",
              "      <th>liquido</th>\n",
              "    </tr>\n",
              "  </thead>\n",
              "  <tbody>\n",
              "    <tr>\n",
              "      <th>0</th>\n",
              "      <td>11.0</td>\n",
              "      <td>904.0</td>\n",
              "      <td>PREFEITO</td>\n",
              "      <td>ATIVO</td>\n",
              "      <td>17190.74</td>\n",
              "      <td>6920.30</td>\n",
              "    </tr>\n",
              "    <tr>\n",
              "      <th>1</th>\n",
              "      <td>12.0</td>\n",
              "      <td>905.0</td>\n",
              "      <td>VICE PREFEITO</td>\n",
              "      <td>ATIVO</td>\n",
              "      <td>8197.45</td>\n",
              "      <td>5832.41</td>\n",
              "    </tr>\n",
              "    <tr>\n",
              "      <th>2</th>\n",
              "      <td>1661.0</td>\n",
              "      <td>445.0</td>\n",
              "      <td>AUXILIAR DE SERVICOS DE CAMPO</td>\n",
              "      <td>ATIVO</td>\n",
              "      <td>2901.93</td>\n",
              "      <td>1426.24</td>\n",
              "    </tr>\n",
              "    <tr>\n",
              "      <th>3</th>\n",
              "      <td>1820.0</td>\n",
              "      <td>430.0</td>\n",
              "      <td>AUXILIAR DE TOPOGRAFIA E AGRIMENSURA</td>\n",
              "      <td>ATIVO</td>\n",
              "      <td>2918.42</td>\n",
              "      <td>2315.14</td>\n",
              "    </tr>\n",
              "    <tr>\n",
              "      <th>4</th>\n",
              "      <td>1848.0</td>\n",
              "      <td>300.0</td>\n",
              "      <td>MOTORISTA</td>\n",
              "      <td>ATIVO</td>\n",
              "      <td>5515.01</td>\n",
              "      <td>3380.86</td>\n",
              "    </tr>\n",
              "  </tbody>\n",
              "</table>\n",
              "</div>"
            ],
            "text/plain": [
              "   matricula  codigo  ... vecto_mes  liquido\n",
              "0       11.0   904.0  ...  17190.74  6920.30\n",
              "1       12.0   905.0  ...   8197.45  5832.41\n",
              "2     1661.0   445.0  ...   2901.93  1426.24\n",
              "3     1820.0   430.0  ...   2918.42  2315.14\n",
              "4     1848.0   300.0  ...   5515.01  3380.86\n",
              "\n",
              "[5 rows x 6 columns]"
            ]
          },
          "metadata": {
            "tags": []
          },
          "execution_count": 25
        }
      ]
    },
    {
      "cell_type": "code",
      "metadata": {
        "id": "Ehz-1ucHnrrY",
        "colab_type": "code",
        "outputId": "6f73a697-838b-4cea-c9ee-7273c4c2c62f",
        "colab": {
          "base_uri": "https://localhost:8080/",
          "height": 34
        }
      },
      "source": [
        "df2.shape"
      ],
      "execution_count": 26,
      "outputs": [
        {
          "output_type": "execute_result",
          "data": {
            "text/plain": [
              "(2510, 6)"
            ]
          },
          "metadata": {
            "tags": []
          },
          "execution_count": 26
        }
      ]
    },
    {
      "cell_type": "code",
      "metadata": {
        "id": "mF5WGs2unrrd",
        "colab_type": "code",
        "outputId": "03e87581-c320-467f-cf60-a7d5afd2f587",
        "colab": {
          "base_uri": "https://localhost:8080/",
          "height": 34
        }
      },
      "source": [
        "df2.columns"
      ],
      "execution_count": 27,
      "outputs": [
        {
          "output_type": "execute_result",
          "data": {
            "text/plain": [
              "Index(['matricula', 'codigo', 'cargo', 'situacao', 'vecto_mes', 'liquido'], dtype='object')"
            ]
          },
          "metadata": {
            "tags": []
          },
          "execution_count": 27
        }
      ]
    },
    {
      "cell_type": "code",
      "metadata": {
        "id": "AEutaBVlnrrg",
        "colab_type": "code",
        "outputId": "ee0f02fe-6083-46ae-a1c0-212b9720afc1",
        "colab": {
          "base_uri": "https://localhost:8080/",
          "height": 136
        }
      },
      "source": [
        "df2.dtypes"
      ],
      "execution_count": 28,
      "outputs": [
        {
          "output_type": "execute_result",
          "data": {
            "text/plain": [
              "matricula    float64\n",
              "codigo       float64\n",
              "cargo         object\n",
              "situacao      object\n",
              "vecto_mes    float64\n",
              "liquido      float64\n",
              "dtype: object"
            ]
          },
          "metadata": {
            "tags": []
          },
          "execution_count": 28
        }
      ]
    },
    {
      "cell_type": "code",
      "metadata": {
        "id": "moV7-m4Ynrri",
        "colab_type": "code",
        "outputId": "3c9942fd-2947-4e3e-a2a9-42c856bd02c6",
        "colab": {
          "base_uri": "https://localhost:8080/",
          "height": 136
        }
      },
      "source": [
        "df2['matricula'] = df2['matricula'].astype(object)\n",
        "df2['codigo'] = df2['codigo'].astype(object)\n",
        "df2.dtypes"
      ],
      "execution_count": 29,
      "outputs": [
        {
          "output_type": "execute_result",
          "data": {
            "text/plain": [
              "matricula     object\n",
              "codigo        object\n",
              "cargo         object\n",
              "situacao      object\n",
              "vecto_mes    float64\n",
              "liquido      float64\n",
              "dtype: object"
            ]
          },
          "metadata": {
            "tags": []
          },
          "execution_count": 29
        }
      ]
    },
    {
      "cell_type": "markdown",
      "metadata": {
        "id": "4Vh_kBe83_EP",
        "colab_type": "text"
      },
      "source": [
        "#### Base de Dados - Informações pessoais"
      ]
    },
    {
      "cell_type": "code",
      "metadata": {
        "id": "G9XX-cUxnrrq",
        "colab_type": "code",
        "outputId": "497691c5-f8e8-4e94-99ae-ab8823987e16",
        "colab": {
          "base_uri": "https://localhost:8080/",
          "height": 204
        }
      },
      "source": [
        "df.head()"
      ],
      "execution_count": 30,
      "outputs": [
        {
          "output_type": "execute_result",
          "data": {
            "text/html": [
              "<div>\n",
              "<style scoped>\n",
              "    .dataframe tbody tr th:only-of-type {\n",
              "        vertical-align: middle;\n",
              "    }\n",
              "\n",
              "    .dataframe tbody tr th {\n",
              "        vertical-align: top;\n",
              "    }\n",
              "\n",
              "    .dataframe thead th {\n",
              "        text-align: right;\n",
              "    }\n",
              "</style>\n",
              "<table border=\"1\" class=\"dataframe\">\n",
              "  <thead>\n",
              "    <tr style=\"text-align: right;\">\n",
              "      <th></th>\n",
              "      <th>matricula</th>\n",
              "      <th>tipo_de_vinculo</th>\n",
              "      <th>lotacao</th>\n",
              "      <th>local_de_trabalho</th>\n",
              "    </tr>\n",
              "  </thead>\n",
              "  <tbody>\n",
              "    <tr>\n",
              "      <th>0</th>\n",
              "      <td>13646</td>\n",
              "      <td>ESTATUTÁRIO</td>\n",
              "      <td>SECRETARIA DE SERVICOS PUBLICOS</td>\n",
              "      <td>SERVICOS PUBLICOS</td>\n",
              "    </tr>\n",
              "    <tr>\n",
              "      <th>1</th>\n",
              "      <td>10229</td>\n",
              "      <td>ESTATUTÁRIO</td>\n",
              "      <td>UBS ITAPEVA</td>\n",
              "      <td>PAÇO</td>\n",
              "    </tr>\n",
              "    <tr>\n",
              "      <th>2</th>\n",
              "      <td>13647</td>\n",
              "      <td>ESTATUTÁRIO</td>\n",
              "      <td>SECRETARIA DE EDUCACAO</td>\n",
              "      <td>SECRETARIA DE EDUCACAO</td>\n",
              "    </tr>\n",
              "    <tr>\n",
              "      <th>3</th>\n",
              "      <td>13648</td>\n",
              "      <td>ESTATUTÁRIO</td>\n",
              "      <td>SECAO DE VIGILANCIA</td>\n",
              "      <td>PAÇO</td>\n",
              "    </tr>\n",
              "    <tr>\n",
              "      <th>4</th>\n",
              "      <td>11561</td>\n",
              "      <td>ESTATUTÁRIO</td>\n",
              "      <td>SECRETARIA DE EDUCACAO</td>\n",
              "      <td>SECRETARIA DE EDUCACAO</td>\n",
              "    </tr>\n",
              "  </tbody>\n",
              "</table>\n",
              "</div>"
            ],
            "text/plain": [
              "  matricula  ...       local_de_trabalho\n",
              "0     13646  ...       SERVICOS PUBLICOS\n",
              "1     10229  ...                    PAÇO\n",
              "2     13647  ...  SECRETARIA DE EDUCACAO\n",
              "3     13648  ...                    PAÇO\n",
              "4     11561  ...  SECRETARIA DE EDUCACAO\n",
              "\n",
              "[5 rows x 4 columns]"
            ]
          },
          "metadata": {
            "tags": []
          },
          "execution_count": 30
        }
      ]
    },
    {
      "cell_type": "markdown",
      "metadata": {
        "id": "0FHAkoWH4EkX",
        "colab_type": "text"
      },
      "source": [
        "#### Base de Dados - Informações Financeira"
      ]
    },
    {
      "cell_type": "code",
      "metadata": {
        "id": "wzfgDgO6nrrs",
        "colab_type": "code",
        "outputId": "55fb70df-f2d0-45bd-cfd1-29ddeb819c24",
        "colab": {
          "base_uri": "https://localhost:8080/",
          "height": 204
        }
      },
      "source": [
        "df2.head()"
      ],
      "execution_count": 31,
      "outputs": [
        {
          "output_type": "execute_result",
          "data": {
            "text/html": [
              "<div>\n",
              "<style scoped>\n",
              "    .dataframe tbody tr th:only-of-type {\n",
              "        vertical-align: middle;\n",
              "    }\n",
              "\n",
              "    .dataframe tbody tr th {\n",
              "        vertical-align: top;\n",
              "    }\n",
              "\n",
              "    .dataframe thead th {\n",
              "        text-align: right;\n",
              "    }\n",
              "</style>\n",
              "<table border=\"1\" class=\"dataframe\">\n",
              "  <thead>\n",
              "    <tr style=\"text-align: right;\">\n",
              "      <th></th>\n",
              "      <th>matricula</th>\n",
              "      <th>codigo</th>\n",
              "      <th>cargo</th>\n",
              "      <th>situacao</th>\n",
              "      <th>vecto_mes</th>\n",
              "      <th>liquido</th>\n",
              "    </tr>\n",
              "  </thead>\n",
              "  <tbody>\n",
              "    <tr>\n",
              "      <th>0</th>\n",
              "      <td>11</td>\n",
              "      <td>904</td>\n",
              "      <td>PREFEITO</td>\n",
              "      <td>ATIVO</td>\n",
              "      <td>17190.74</td>\n",
              "      <td>6920.30</td>\n",
              "    </tr>\n",
              "    <tr>\n",
              "      <th>1</th>\n",
              "      <td>12</td>\n",
              "      <td>905</td>\n",
              "      <td>VICE PREFEITO</td>\n",
              "      <td>ATIVO</td>\n",
              "      <td>8197.45</td>\n",
              "      <td>5832.41</td>\n",
              "    </tr>\n",
              "    <tr>\n",
              "      <th>2</th>\n",
              "      <td>1661</td>\n",
              "      <td>445</td>\n",
              "      <td>AUXILIAR DE SERVICOS DE CAMPO</td>\n",
              "      <td>ATIVO</td>\n",
              "      <td>2901.93</td>\n",
              "      <td>1426.24</td>\n",
              "    </tr>\n",
              "    <tr>\n",
              "      <th>3</th>\n",
              "      <td>1820</td>\n",
              "      <td>430</td>\n",
              "      <td>AUXILIAR DE TOPOGRAFIA E AGRIMENSURA</td>\n",
              "      <td>ATIVO</td>\n",
              "      <td>2918.42</td>\n",
              "      <td>2315.14</td>\n",
              "    </tr>\n",
              "    <tr>\n",
              "      <th>4</th>\n",
              "      <td>1848</td>\n",
              "      <td>300</td>\n",
              "      <td>MOTORISTA</td>\n",
              "      <td>ATIVO</td>\n",
              "      <td>5515.01</td>\n",
              "      <td>3380.86</td>\n",
              "    </tr>\n",
              "  </tbody>\n",
              "</table>\n",
              "</div>"
            ],
            "text/plain": [
              "  matricula codigo  ... vecto_mes  liquido\n",
              "0        11    904  ...  17190.74  6920.30\n",
              "1        12    905  ...   8197.45  5832.41\n",
              "2      1661    445  ...   2901.93  1426.24\n",
              "3      1820    430  ...   2918.42  2315.14\n",
              "4      1848    300  ...   5515.01  3380.86\n",
              "\n",
              "[5 rows x 6 columns]"
            ]
          },
          "metadata": {
            "tags": []
          },
          "execution_count": 31
        }
      ]
    },
    {
      "cell_type": "markdown",
      "metadata": {
        "id": "CD32LK-n4KIU",
        "colab_type": "text"
      },
      "source": [
        "#### Para uma melhor visualização e entendimento tornaremos as duas Base de Dados em apenas uma"
      ]
    },
    {
      "cell_type": "code",
      "metadata": {
        "id": "6t-P9mFanrrw",
        "colab_type": "code",
        "outputId": "560c87a3-3da9-4335-a5e6-33c4c8775870",
        "colab": {
          "base_uri": "https://localhost:8080/",
          "height": 142
        }
      },
      "source": [
        "df_df2 = df.merge(df2, on = 'matricula')\n",
        "df_df2.head(n = 3)"
      ],
      "execution_count": 32,
      "outputs": [
        {
          "output_type": "execute_result",
          "data": {
            "text/html": [
              "<div>\n",
              "<style scoped>\n",
              "    .dataframe tbody tr th:only-of-type {\n",
              "        vertical-align: middle;\n",
              "    }\n",
              "\n",
              "    .dataframe tbody tr th {\n",
              "        vertical-align: top;\n",
              "    }\n",
              "\n",
              "    .dataframe thead th {\n",
              "        text-align: right;\n",
              "    }\n",
              "</style>\n",
              "<table border=\"1\" class=\"dataframe\">\n",
              "  <thead>\n",
              "    <tr style=\"text-align: right;\">\n",
              "      <th></th>\n",
              "      <th>matricula</th>\n",
              "      <th>tipo_de_vinculo</th>\n",
              "      <th>lotacao</th>\n",
              "      <th>local_de_trabalho</th>\n",
              "      <th>codigo</th>\n",
              "      <th>cargo</th>\n",
              "      <th>situacao</th>\n",
              "      <th>vecto_mes</th>\n",
              "      <th>liquido</th>\n",
              "    </tr>\n",
              "  </thead>\n",
              "  <tbody>\n",
              "    <tr>\n",
              "      <th>0</th>\n",
              "      <td>13646</td>\n",
              "      <td>ESTATUTÁRIO</td>\n",
              "      <td>SECRETARIA DE SERVICOS PUBLICOS</td>\n",
              "      <td>SERVICOS PUBLICOS</td>\n",
              "      <td>280</td>\n",
              "      <td>ELETRICISTA</td>\n",
              "      <td>ATIVO</td>\n",
              "      <td>2250.40</td>\n",
              "      <td>1745.52</td>\n",
              "    </tr>\n",
              "    <tr>\n",
              "      <th>1</th>\n",
              "      <td>13647</td>\n",
              "      <td>ESTATUTÁRIO</td>\n",
              "      <td>SECRETARIA DE EDUCACAO</td>\n",
              "      <td>SECRETARIA DE EDUCACAO</td>\n",
              "      <td>128</td>\n",
              "      <td>AGENTE DE APOIO OPERACIONAL E CONSERVACAO</td>\n",
              "      <td>ATIVO</td>\n",
              "      <td>3150.30</td>\n",
              "      <td>2413.45</td>\n",
              "    </tr>\n",
              "    <tr>\n",
              "      <th>2</th>\n",
              "      <td>13648</td>\n",
              "      <td>ESTATUTÁRIO</td>\n",
              "      <td>SECAO DE VIGILANCIA</td>\n",
              "      <td>PAÇO</td>\n",
              "      <td>128</td>\n",
              "      <td>AGENTE DE APOIO OPERACIONAL E CONSERVACAO</td>\n",
              "      <td>ATIVO</td>\n",
              "      <td>5272.67</td>\n",
              "      <td>4172.73</td>\n",
              "    </tr>\n",
              "  </tbody>\n",
              "</table>\n",
              "</div>"
            ],
            "text/plain": [
              "  matricula tipo_de_vinculo  ... vecto_mes  liquido\n",
              "0     13646     ESTATUTÁRIO  ...   2250.40  1745.52\n",
              "1     13647     ESTATUTÁRIO  ...   3150.30  2413.45\n",
              "2     13648     ESTATUTÁRIO  ...   5272.67  4172.73\n",
              "\n",
              "[3 rows x 9 columns]"
            ]
          },
          "metadata": {
            "tags": []
          },
          "execution_count": 32
        }
      ]
    },
    {
      "cell_type": "markdown",
      "metadata": {
        "id": "n9EwJyp84Yfn",
        "colab_type": "text"
      },
      "source": [
        "#### Para nosso projeto de análise a coluna ['codigo'] não possui tanta necessidade. Iremos excluí-la"
      ]
    },
    {
      "cell_type": "code",
      "metadata": {
        "id": "Wf2pvAGBnrry",
        "colab_type": "code",
        "outputId": "00223333-9389-4a0b-8e0c-3a402f814905",
        "colab": {
          "base_uri": "https://localhost:8080/",
          "height": 142
        }
      },
      "source": [
        "df_df2 = df_df2.drop(['codigo'], axis = 1)\n",
        "df_df2.head(n = 3)"
      ],
      "execution_count": 33,
      "outputs": [
        {
          "output_type": "execute_result",
          "data": {
            "text/html": [
              "<div>\n",
              "<style scoped>\n",
              "    .dataframe tbody tr th:only-of-type {\n",
              "        vertical-align: middle;\n",
              "    }\n",
              "\n",
              "    .dataframe tbody tr th {\n",
              "        vertical-align: top;\n",
              "    }\n",
              "\n",
              "    .dataframe thead th {\n",
              "        text-align: right;\n",
              "    }\n",
              "</style>\n",
              "<table border=\"1\" class=\"dataframe\">\n",
              "  <thead>\n",
              "    <tr style=\"text-align: right;\">\n",
              "      <th></th>\n",
              "      <th>matricula</th>\n",
              "      <th>tipo_de_vinculo</th>\n",
              "      <th>lotacao</th>\n",
              "      <th>local_de_trabalho</th>\n",
              "      <th>cargo</th>\n",
              "      <th>situacao</th>\n",
              "      <th>vecto_mes</th>\n",
              "      <th>liquido</th>\n",
              "    </tr>\n",
              "  </thead>\n",
              "  <tbody>\n",
              "    <tr>\n",
              "      <th>0</th>\n",
              "      <td>13646</td>\n",
              "      <td>ESTATUTÁRIO</td>\n",
              "      <td>SECRETARIA DE SERVICOS PUBLICOS</td>\n",
              "      <td>SERVICOS PUBLICOS</td>\n",
              "      <td>ELETRICISTA</td>\n",
              "      <td>ATIVO</td>\n",
              "      <td>2250.40</td>\n",
              "      <td>1745.52</td>\n",
              "    </tr>\n",
              "    <tr>\n",
              "      <th>1</th>\n",
              "      <td>13647</td>\n",
              "      <td>ESTATUTÁRIO</td>\n",
              "      <td>SECRETARIA DE EDUCACAO</td>\n",
              "      <td>SECRETARIA DE EDUCACAO</td>\n",
              "      <td>AGENTE DE APOIO OPERACIONAL E CONSERVACAO</td>\n",
              "      <td>ATIVO</td>\n",
              "      <td>3150.30</td>\n",
              "      <td>2413.45</td>\n",
              "    </tr>\n",
              "    <tr>\n",
              "      <th>2</th>\n",
              "      <td>13648</td>\n",
              "      <td>ESTATUTÁRIO</td>\n",
              "      <td>SECAO DE VIGILANCIA</td>\n",
              "      <td>PAÇO</td>\n",
              "      <td>AGENTE DE APOIO OPERACIONAL E CONSERVACAO</td>\n",
              "      <td>ATIVO</td>\n",
              "      <td>5272.67</td>\n",
              "      <td>4172.73</td>\n",
              "    </tr>\n",
              "  </tbody>\n",
              "</table>\n",
              "</div>"
            ],
            "text/plain": [
              "  matricula tipo_de_vinculo  ... vecto_mes  liquido\n",
              "0     13646     ESTATUTÁRIO  ...   2250.40  1745.52\n",
              "1     13647     ESTATUTÁRIO  ...   3150.30  2413.45\n",
              "2     13648     ESTATUTÁRIO  ...   5272.67  4172.73\n",
              "\n",
              "[3 rows x 8 columns]"
            ]
          },
          "metadata": {
            "tags": []
          },
          "execution_count": 33
        }
      ]
    },
    {
      "cell_type": "markdown",
      "metadata": {
        "id": "gMD6S5sV4ybp",
        "colab_type": "text"
      },
      "source": [
        "### Pronto! Temos nossa tabela final para análise. Começaremos com um pouco de estatística"
      ]
    },
    {
      "cell_type": "markdown",
      "metadata": {
        "id": "1W_mWguu5D6A",
        "colab_type": "text"
      },
      "source": [
        "#### Comando demonstra valores estatísticos:"
      ]
    },
    {
      "cell_type": "code",
      "metadata": {
        "colab_type": "code",
        "outputId": "f438f545-c2b9-435f-9552-3fe0b2976fca",
        "id": "GPieycbK5Al-",
        "colab": {
          "base_uri": "https://localhost:8080/",
          "height": 297
        }
      },
      "source": [
        "estatistica_df_df2 = df_df2.describe().round(2)\n",
        "estatistica_df_df2"
      ],
      "execution_count": 34,
      "outputs": [
        {
          "output_type": "execute_result",
          "data": {
            "text/html": [
              "<div>\n",
              "<style scoped>\n",
              "    .dataframe tbody tr th:only-of-type {\n",
              "        vertical-align: middle;\n",
              "    }\n",
              "\n",
              "    .dataframe tbody tr th {\n",
              "        vertical-align: top;\n",
              "    }\n",
              "\n",
              "    .dataframe thead th {\n",
              "        text-align: right;\n",
              "    }\n",
              "</style>\n",
              "<table border=\"1\" class=\"dataframe\">\n",
              "  <thead>\n",
              "    <tr style=\"text-align: right;\">\n",
              "      <th></th>\n",
              "      <th>vecto_mes</th>\n",
              "      <th>liquido</th>\n",
              "    </tr>\n",
              "  </thead>\n",
              "  <tbody>\n",
              "    <tr>\n",
              "      <th>count</th>\n",
              "      <td>2483.00</td>\n",
              "      <td>2483.00</td>\n",
              "    </tr>\n",
              "    <tr>\n",
              "      <th>mean</th>\n",
              "      <td>3657.90</td>\n",
              "      <td>2497.70</td>\n",
              "    </tr>\n",
              "    <tr>\n",
              "      <th>std</th>\n",
              "      <td>2941.73</td>\n",
              "      <td>1958.61</td>\n",
              "    </tr>\n",
              "    <tr>\n",
              "      <th>min</th>\n",
              "      <td>13.08</td>\n",
              "      <td>0.00</td>\n",
              "    </tr>\n",
              "    <tr>\n",
              "      <th>25%</th>\n",
              "      <td>1840.72</td>\n",
              "      <td>1208.70</td>\n",
              "    </tr>\n",
              "    <tr>\n",
              "      <th>50%</th>\n",
              "      <td>2636.74</td>\n",
              "      <td>1893.92</td>\n",
              "    </tr>\n",
              "    <tr>\n",
              "      <th>75%</th>\n",
              "      <td>4427.78</td>\n",
              "      <td>3080.04</td>\n",
              "    </tr>\n",
              "    <tr>\n",
              "      <th>max</th>\n",
              "      <td>22257.78</td>\n",
              "      <td>20716.24</td>\n",
              "    </tr>\n",
              "  </tbody>\n",
              "</table>\n",
              "</div>"
            ],
            "text/plain": [
              "       vecto_mes   liquido\n",
              "count    2483.00   2483.00\n",
              "mean     3657.90   2497.70\n",
              "std      2941.73   1958.61\n",
              "min        13.08      0.00\n",
              "25%      1840.72   1208.70\n",
              "50%      2636.74   1893.92\n",
              "75%      4427.78   3080.04\n",
              "max     22257.78  20716.24"
            ]
          },
          "metadata": {
            "tags": []
          },
          "execution_count": 34
        }
      ]
    },
    {
      "cell_type": "markdown",
      "metadata": {
        "id": "nCUPCU8Q5QW_",
        "colab_type": "text"
      },
      "source": [
        "#### Somatória dos valores da colunas vecto_mes"
      ]
    },
    {
      "cell_type": "code",
      "metadata": {
        "id": "jR5SBTxznrr4",
        "colab_type": "code",
        "outputId": "b57d068b-8e52-49d6-e4da-cfb2ffd71d25",
        "colab": {
          "base_uri": "https://localhost:8080/",
          "height": 34
        }
      },
      "source": [
        "somatorio_vecto_mes = df_df2.vecto_mes.sum().round(2)\n",
        "somatorio_vecto_mes"
      ],
      "execution_count": 35,
      "outputs": [
        {
          "output_type": "execute_result",
          "data": {
            "text/plain": [
              "9082569.28"
            ]
          },
          "metadata": {
            "tags": []
          },
          "execution_count": 35
        }
      ]
    },
    {
      "cell_type": "markdown",
      "metadata": {
        "id": "XPIXr36C5YAv",
        "colab_type": "text"
      },
      "source": [
        "#### Somatória dos valores da colunas liquido"
      ]
    },
    {
      "cell_type": "code",
      "metadata": {
        "id": "4Yy11ORVnrr6",
        "colab_type": "code",
        "outputId": "5fee93e7-c60c-4904-fab6-babeef5d3551",
        "colab": {
          "base_uri": "https://localhost:8080/",
          "height": 34
        }
      },
      "source": [
        "somatorio_liquido = df_df2.liquido.sum().round(2)\n",
        "somatorio_liquido"
      ],
      "execution_count": 36,
      "outputs": [
        {
          "output_type": "execute_result",
          "data": {
            "text/plain": [
              "6201800.71"
            ]
          },
          "metadata": {
            "tags": []
          },
          "execution_count": 36
        }
      ]
    },
    {
      "cell_type": "markdown",
      "metadata": {
        "id": "bJGPkQcG5b9w",
        "colab_type": "text"
      },
      "source": [
        "#### Somatória dos valores das diferenças entre as colunas vecto_mes e liquido"
      ]
    },
    {
      "cell_type": "code",
      "metadata": {
        "id": "PLwxBE-8nrr9",
        "colab_type": "code",
        "outputId": "bf9a8099-ccb4-4ffa-ca36-f5dfa14fb275",
        "colab": {
          "base_uri": "https://localhost:8080/",
          "height": 34
        }
      },
      "source": [
        "dif_somatorio = somatorio_vecto_mes - somatorio_liquido\n",
        "dif_somatorio.round(2)"
      ],
      "execution_count": 37,
      "outputs": [
        {
          "output_type": "execute_result",
          "data": {
            "text/plain": [
              "2880768.57"
            ]
          },
          "metadata": {
            "tags": []
          },
          "execution_count": 37
        }
      ]
    },
    {
      "cell_type": "markdown",
      "metadata": {
        "id": "pMET66fL5rwY",
        "colab_type": "text"
      },
      "source": [
        "#### Criando nova coluna com a diferença dos valores registrados com os valores recebidos para cada linha registrada"
      ]
    },
    {
      "cell_type": "code",
      "metadata": {
        "id": "lhf5NHS4nrsA",
        "colab_type": "code",
        "outputId": "0e828109-8dd5-4c38-91d1-803d001acd68",
        "colab": {
          "base_uri": "https://localhost:8080/",
          "height": 204
        }
      },
      "source": [
        "df_df2['dif'] =  df_df2['vecto_mes'] - df_df2['liquido']\n",
        "df_df2.head()"
      ],
      "execution_count": 38,
      "outputs": [
        {
          "output_type": "execute_result",
          "data": {
            "text/html": [
              "<div>\n",
              "<style scoped>\n",
              "    .dataframe tbody tr th:only-of-type {\n",
              "        vertical-align: middle;\n",
              "    }\n",
              "\n",
              "    .dataframe tbody tr th {\n",
              "        vertical-align: top;\n",
              "    }\n",
              "\n",
              "    .dataframe thead th {\n",
              "        text-align: right;\n",
              "    }\n",
              "</style>\n",
              "<table border=\"1\" class=\"dataframe\">\n",
              "  <thead>\n",
              "    <tr style=\"text-align: right;\">\n",
              "      <th></th>\n",
              "      <th>matricula</th>\n",
              "      <th>tipo_de_vinculo</th>\n",
              "      <th>lotacao</th>\n",
              "      <th>local_de_trabalho</th>\n",
              "      <th>cargo</th>\n",
              "      <th>situacao</th>\n",
              "      <th>vecto_mes</th>\n",
              "      <th>liquido</th>\n",
              "      <th>dif</th>\n",
              "    </tr>\n",
              "  </thead>\n",
              "  <tbody>\n",
              "    <tr>\n",
              "      <th>0</th>\n",
              "      <td>13646</td>\n",
              "      <td>ESTATUTÁRIO</td>\n",
              "      <td>SECRETARIA DE SERVICOS PUBLICOS</td>\n",
              "      <td>SERVICOS PUBLICOS</td>\n",
              "      <td>ELETRICISTA</td>\n",
              "      <td>ATIVO</td>\n",
              "      <td>2250.40</td>\n",
              "      <td>1745.52</td>\n",
              "      <td>504.88</td>\n",
              "    </tr>\n",
              "    <tr>\n",
              "      <th>1</th>\n",
              "      <td>13647</td>\n",
              "      <td>ESTATUTÁRIO</td>\n",
              "      <td>SECRETARIA DE EDUCACAO</td>\n",
              "      <td>SECRETARIA DE EDUCACAO</td>\n",
              "      <td>AGENTE DE APOIO OPERACIONAL E CONSERVACAO</td>\n",
              "      <td>ATIVO</td>\n",
              "      <td>3150.30</td>\n",
              "      <td>2413.45</td>\n",
              "      <td>736.85</td>\n",
              "    </tr>\n",
              "    <tr>\n",
              "      <th>2</th>\n",
              "      <td>13648</td>\n",
              "      <td>ESTATUTÁRIO</td>\n",
              "      <td>SECAO DE VIGILANCIA</td>\n",
              "      <td>PAÇO</td>\n",
              "      <td>AGENTE DE APOIO OPERACIONAL E CONSERVACAO</td>\n",
              "      <td>ATIVO</td>\n",
              "      <td>5272.67</td>\n",
              "      <td>4172.73</td>\n",
              "      <td>1099.94</td>\n",
              "    </tr>\n",
              "    <tr>\n",
              "      <th>3</th>\n",
              "      <td>11561</td>\n",
              "      <td>ESTATUTÁRIO</td>\n",
              "      <td>SECRETARIA DE EDUCACAO</td>\n",
              "      <td>SECRETARIA DE EDUCACAO</td>\n",
              "      <td>MOTORISTA</td>\n",
              "      <td>ATIVO</td>\n",
              "      <td>4360.52</td>\n",
              "      <td>2888.97</td>\n",
              "      <td>1471.55</td>\n",
              "    </tr>\n",
              "    <tr>\n",
              "      <th>4</th>\n",
              "      <td>13577</td>\n",
              "      <td>ESTATUTÁRIO</td>\n",
              "      <td>EMEI CRECHE ALDA LUCHINI VIAL</td>\n",
              "      <td>CMEI ALDA LUCHINI VIAL</td>\n",
              "      <td>AUXILIAR DE SERVICOS INFANTIS</td>\n",
              "      <td>ATIVO</td>\n",
              "      <td>1822.69</td>\n",
              "      <td>1062.90</td>\n",
              "      <td>759.79</td>\n",
              "    </tr>\n",
              "  </tbody>\n",
              "</table>\n",
              "</div>"
            ],
            "text/plain": [
              "  matricula tipo_de_vinculo  ...  liquido      dif\n",
              "0     13646     ESTATUTÁRIO  ...  1745.52   504.88\n",
              "1     13647     ESTATUTÁRIO  ...  2413.45   736.85\n",
              "2     13648     ESTATUTÁRIO  ...  4172.73  1099.94\n",
              "3     11561     ESTATUTÁRIO  ...  2888.97  1471.55\n",
              "4     13577     ESTATUTÁRIO  ...  1062.90   759.79\n",
              "\n",
              "[5 rows x 9 columns]"
            ]
          },
          "metadata": {
            "tags": []
          },
          "execution_count": 38
        }
      ]
    },
    {
      "cell_type": "markdown",
      "metadata": {
        "id": "wUQx1ZzB52zK",
        "colab_type": "text"
      },
      "source": [
        "#### Agrupar nossa Base de Dados"
      ]
    },
    {
      "cell_type": "code",
      "metadata": {
        "id": "VFxzKHQhCXOQ",
        "colab_type": "code",
        "outputId": "f006db54-e352-4eb3-d4f4-32900c451d14",
        "colab": {
          "base_uri": "https://localhost:8080/",
          "height": 238
        }
      },
      "source": [
        "df_df2.groupby('local_de_trabalho')['local_de_trabalho'].count()"
      ],
      "execution_count": 39,
      "outputs": [
        {
          "output_type": "execute_result",
          "data": {
            "text/plain": [
              "local_de_trabalho\n",
              "2 DP                              1\n",
              "ALMOXARIFADO DA SAUDE             2\n",
              "AMBULANCIA                       15\n",
              "CAPS AD                           1\n",
              "CARTORIO ELEITORAL                1\n",
              "                                 ..\n",
              "UBS PQ BELA VISTA                 2\n",
              "UBS VILA NOVA                     1\n",
              "UNIDADE DE PRONTO ATENDIMENTO     6\n",
              "VIGILANCIA EPIDEMIOLOGICA         1\n",
              "ZOONOSES                          5\n",
              "Name: local_de_trabalho, Length: 95, dtype: int64"
            ]
          },
          "metadata": {
            "tags": []
          },
          "execution_count": 39
        }
      ]
    },
    {
      "cell_type": "code",
      "metadata": {
        "id": "aozaSi2-DEuw",
        "colab_type": "code",
        "outputId": "b944310f-28eb-45dc-e178-48b37b5001d2",
        "colab": {
          "base_uri": "https://localhost:8080/",
          "height": 136
        }
      },
      "source": [
        "df_df2.groupby('tipo_de_vinculo')['tipo_de_vinculo'].count()"
      ],
      "execution_count": 40,
      "outputs": [
        {
          "output_type": "execute_result",
          "data": {
            "text/plain": [
              "tipo_de_vinculo\n",
              "AGENTE POLÍTICO         2\n",
              "CARGO EM COMISSÃO     197\n",
              "ESTAGIÁRIO            194\n",
              "ESTATUTÁRIO          2017\n",
              "TEMPORÁRIO             73\n",
              "Name: tipo_de_vinculo, dtype: int64"
            ]
          },
          "metadata": {
            "tags": []
          },
          "execution_count": 40
        }
      ]
    },
    {
      "cell_type": "code",
      "metadata": {
        "id": "yx-7iUjFUbsE",
        "colab_type": "code",
        "colab": {
          "base_uri": "https://localhost:8080/",
          "height": 731
        },
        "outputId": "d196af87-3156-4775-ce43-904d55611ca1"
      },
      "source": [
        "x = df_df2.loc[(df_df2['tipo_de_vinculo'] == 'ESTATUTÁRIO') & (df_df2['liquido'] >= 10000)] \n",
        "x = x.sort_values('liquido', ascending = False)\n",
        "x"
      ],
      "execution_count": 67,
      "outputs": [
        {
          "output_type": "execute_result",
          "data": {
            "text/html": [
              "<div>\n",
              "<style scoped>\n",
              "    .dataframe tbody tr th:only-of-type {\n",
              "        vertical-align: middle;\n",
              "    }\n",
              "\n",
              "    .dataframe tbody tr th {\n",
              "        vertical-align: top;\n",
              "    }\n",
              "\n",
              "    .dataframe thead th {\n",
              "        text-align: right;\n",
              "    }\n",
              "</style>\n",
              "<table border=\"1\" class=\"dataframe\">\n",
              "  <thead>\n",
              "    <tr style=\"text-align: right;\">\n",
              "      <th></th>\n",
              "      <th>matricula</th>\n",
              "      <th>tipo_de_vinculo</th>\n",
              "      <th>lotacao</th>\n",
              "      <th>local_de_trabalho</th>\n",
              "      <th>cargo</th>\n",
              "      <th>situacao</th>\n",
              "      <th>vecto_mes</th>\n",
              "      <th>liquido</th>\n",
              "      <th>dif</th>\n",
              "    </tr>\n",
              "  </thead>\n",
              "  <tbody>\n",
              "    <tr>\n",
              "      <th>2143</th>\n",
              "      <td>10661</td>\n",
              "      <td>ESTATUTÁRIO</td>\n",
              "      <td>SERVICO DE PESSOAL</td>\n",
              "      <td>PAÇO</td>\n",
              "      <td>ESCRITURARIO</td>\n",
              "      <td>ATIVO</td>\n",
              "      <td>22257.78</td>\n",
              "      <td>20716.24</td>\n",
              "      <td>1541.54</td>\n",
              "    </tr>\n",
              "    <tr>\n",
              "      <th>524</th>\n",
              "      <td>12338</td>\n",
              "      <td>ESTATUTÁRIO</td>\n",
              "      <td>SECRETARIA DE FINANCAS</td>\n",
              "      <td>PAÇO</td>\n",
              "      <td>AGENTE FAZENDARIO</td>\n",
              "      <td>ATIVO</td>\n",
              "      <td>17190.74</td>\n",
              "      <td>12116.10</td>\n",
              "      <td>5074.64</td>\n",
              "    </tr>\n",
              "    <tr>\n",
              "      <th>1870</th>\n",
              "      <td>13598</td>\n",
              "      <td>ESTATUTÁRIO</td>\n",
              "      <td>UPA CENTRAL</td>\n",
              "      <td>CENTRO DE SAUDE RIO ACIMA</td>\n",
              "      <td>MEDICO PLANTONISTA</td>\n",
              "      <td>ATIVO</td>\n",
              "      <td>17069.93</td>\n",
              "      <td>11850.49</td>\n",
              "      <td>5219.44</td>\n",
              "    </tr>\n",
              "    <tr>\n",
              "      <th>817</th>\n",
              "      <td>14158</td>\n",
              "      <td>ESTATUTÁRIO</td>\n",
              "      <td>UPA CENTRAL</td>\n",
              "      <td>PAÇO</td>\n",
              "      <td>MEDICO PLANTONISTA</td>\n",
              "      <td>ATIVO</td>\n",
              "      <td>16864.75</td>\n",
              "      <td>11801.48</td>\n",
              "      <td>5063.27</td>\n",
              "    </tr>\n",
              "    <tr>\n",
              "      <th>1343</th>\n",
              "      <td>11621</td>\n",
              "      <td>ESTATUTÁRIO</td>\n",
              "      <td>UPA CENTRAL</td>\n",
              "      <td>PAÇO</td>\n",
              "      <td>MEDICO PLANTONISTA</td>\n",
              "      <td>ATIVO</td>\n",
              "      <td>16921.63</td>\n",
              "      <td>11786.04</td>\n",
              "      <td>5135.59</td>\n",
              "    </tr>\n",
              "    <tr>\n",
              "      <th>1528</th>\n",
              "      <td>11692</td>\n",
              "      <td>ESTATUTÁRIO</td>\n",
              "      <td>UPA CENTRAL</td>\n",
              "      <td>PAÇO</td>\n",
              "      <td>MEDICO PLANTONISTA</td>\n",
              "      <td>ATIVO</td>\n",
              "      <td>16875.14</td>\n",
              "      <td>11756.04</td>\n",
              "      <td>5119.10</td>\n",
              "    </tr>\n",
              "    <tr>\n",
              "      <th>883</th>\n",
              "      <td>11791</td>\n",
              "      <td>ESTATUTÁRIO</td>\n",
              "      <td>AMBULATORIO DE SAUDE DA MULHER E DA CRIANÇA</td>\n",
              "      <td>PAÇO</td>\n",
              "      <td>MEDICO PLANTONISTA</td>\n",
              "      <td>ATIVO</td>\n",
              "      <td>16521.69</td>\n",
              "      <td>11527.98</td>\n",
              "      <td>4993.71</td>\n",
              "    </tr>\n",
              "    <tr>\n",
              "      <th>436</th>\n",
              "      <td>11505</td>\n",
              "      <td>ESTATUTÁRIO</td>\n",
              "      <td>SECRETARIA DE SAUDE</td>\n",
              "      <td>PAÇO</td>\n",
              "      <td>MEDICO PEDIATRA</td>\n",
              "      <td>ATIVO</td>\n",
              "      <td>16320.78</td>\n",
              "      <td>11398.34</td>\n",
              "      <td>4922.44</td>\n",
              "    </tr>\n",
              "    <tr>\n",
              "      <th>391</th>\n",
              "      <td>12353</td>\n",
              "      <td>ESTATUTÁRIO</td>\n",
              "      <td>UPA CENTRAL</td>\n",
              "      <td>PAÇO</td>\n",
              "      <td>MEDICO PLANTONISTA</td>\n",
              "      <td>ATIVO</td>\n",
              "      <td>17084.27</td>\n",
              "      <td>11376.57</td>\n",
              "      <td>5707.70</td>\n",
              "    </tr>\n",
              "    <tr>\n",
              "      <th>824</th>\n",
              "      <td>13984</td>\n",
              "      <td>ESTATUTÁRIO</td>\n",
              "      <td>UPA CENTRAL</td>\n",
              "      <td>PAÇO</td>\n",
              "      <td>MEDICO PLANTONISTA</td>\n",
              "      <td>ATIVO</td>\n",
              "      <td>16971.83</td>\n",
              "      <td>11304.02</td>\n",
              "      <td>5667.81</td>\n",
              "    </tr>\n",
              "    <tr>\n",
              "      <th>362</th>\n",
              "      <td>14151</td>\n",
              "      <td>ESTATUTÁRIO</td>\n",
              "      <td>UPA CENTRAL</td>\n",
              "      <td>PAÇO</td>\n",
              "      <td>MEDICO PLANTONISTA</td>\n",
              "      <td>ATIVO</td>\n",
              "      <td>16725.33</td>\n",
              "      <td>11181.48</td>\n",
              "      <td>5543.85</td>\n",
              "    </tr>\n",
              "    <tr>\n",
              "      <th>552</th>\n",
              "      <td>11482</td>\n",
              "      <td>ESTATUTÁRIO</td>\n",
              "      <td>UPA CENTRAL</td>\n",
              "      <td>PAÇO</td>\n",
              "      <td>MEDICO PLANTONISTA</td>\n",
              "      <td>ATIVO</td>\n",
              "      <td>15837.49</td>\n",
              "      <td>11086.50</td>\n",
              "      <td>4750.99</td>\n",
              "    </tr>\n",
              "    <tr>\n",
              "      <th>1263</th>\n",
              "      <td>11803</td>\n",
              "      <td>ESTATUTÁRIO</td>\n",
              "      <td>UPA CENTRAL</td>\n",
              "      <td>PAÇO</td>\n",
              "      <td>MEDICO PLANTONISTA</td>\n",
              "      <td>ATIVO</td>\n",
              "      <td>16612.39</td>\n",
              "      <td>11072.10</td>\n",
              "      <td>5540.29</td>\n",
              "    </tr>\n",
              "    <tr>\n",
              "      <th>520</th>\n",
              "      <td>14147</td>\n",
              "      <td>ESTATUTÁRIO</td>\n",
              "      <td>UPA CENTRAL</td>\n",
              "      <td>PAÇO</td>\n",
              "      <td>MEDICO PLANTONISTA</td>\n",
              "      <td>ATIVO</td>\n",
              "      <td>15335.00</td>\n",
              "      <td>10866.54</td>\n",
              "      <td>4468.46</td>\n",
              "    </tr>\n",
              "    <tr>\n",
              "      <th>815</th>\n",
              "      <td>10222</td>\n",
              "      <td>ESTATUTÁRIO</td>\n",
              "      <td>UBS JARDIM ARCHILA</td>\n",
              "      <td>PAÇO</td>\n",
              "      <td>CIRURGIAO DENTISTA</td>\n",
              "      <td>ATIVO</td>\n",
              "      <td>15088.75</td>\n",
              "      <td>10585.33</td>\n",
              "      <td>4503.42</td>\n",
              "    </tr>\n",
              "    <tr>\n",
              "      <th>2039</th>\n",
              "      <td>10630</td>\n",
              "      <td>ESTATUTÁRIO</td>\n",
              "      <td>SECRETARIA DE NEGOCIOS JURIDICOS</td>\n",
              "      <td>PAÇO</td>\n",
              "      <td>OFICIAL ADMINISTRATIVO</td>\n",
              "      <td>ATIVO</td>\n",
              "      <td>15036.60</td>\n",
              "      <td>10565.89</td>\n",
              "      <td>4470.71</td>\n",
              "    </tr>\n",
              "    <tr>\n",
              "      <th>283</th>\n",
              "      <td>10220</td>\n",
              "      <td>ESTATUTÁRIO</td>\n",
              "      <td>PLANEJAMENTO E DESENVOLVIMENTO</td>\n",
              "      <td>PAÇO</td>\n",
              "      <td>ARQUITETO</td>\n",
              "      <td>ATIVO</td>\n",
              "      <td>15710.97</td>\n",
              "      <td>10472.40</td>\n",
              "      <td>5238.57</td>\n",
              "    </tr>\n",
              "    <tr>\n",
              "      <th>812</th>\n",
              "      <td>14021</td>\n",
              "      <td>ESTATUTÁRIO</td>\n",
              "      <td>UPA CENTRAL</td>\n",
              "      <td>PAÇO</td>\n",
              "      <td>MEDICO PLANTONISTA</td>\n",
              "      <td>ATIVO</td>\n",
              "      <td>14664.70</td>\n",
              "      <td>10329.76</td>\n",
              "      <td>4334.94</td>\n",
              "    </tr>\n",
              "    <tr>\n",
              "      <th>724</th>\n",
              "      <td>12268</td>\n",
              "      <td>ESTATUTÁRIO</td>\n",
              "      <td>UPA CENTRAL</td>\n",
              "      <td>PAÇO</td>\n",
              "      <td>MEDICO PLANTONISTA</td>\n",
              "      <td>ATIVO</td>\n",
              "      <td>17101.16</td>\n",
              "      <td>10286.77</td>\n",
              "      <td>6814.39</td>\n",
              "    </tr>\n",
              "    <tr>\n",
              "      <th>1698</th>\n",
              "      <td>10052</td>\n",
              "      <td>ESTATUTÁRIO</td>\n",
              "      <td>AMBULATORIO DE ESPECIALIDADES MEDICAS (ANT CS ...</td>\n",
              "      <td>PAÇO</td>\n",
              "      <td>MEDICO DERMATOLOGISTA</td>\n",
              "      <td>ATIVO</td>\n",
              "      <td>14630.49</td>\n",
              "      <td>10283.69</td>\n",
              "      <td>4346.80</td>\n",
              "    </tr>\n",
              "    <tr>\n",
              "      <th>399</th>\n",
              "      <td>11551</td>\n",
              "      <td>ESTATUTÁRIO</td>\n",
              "      <td>UPA CENTRAL</td>\n",
              "      <td>PAÇO</td>\n",
              "      <td>MEDICO PLANTONISTA</td>\n",
              "      <td>ATIVO</td>\n",
              "      <td>16822.44</td>\n",
              "      <td>10152.13</td>\n",
              "      <td>6670.31</td>\n",
              "    </tr>\n",
              "    <tr>\n",
              "      <th>380</th>\n",
              "      <td>12314</td>\n",
              "      <td>ESTATUTÁRIO</td>\n",
              "      <td>UPA CENTRAL</td>\n",
              "      <td>PAÇO</td>\n",
              "      <td>MEDICO PLANTONISTA</td>\n",
              "      <td>ATIVO</td>\n",
              "      <td>15013.90</td>\n",
              "      <td>10049.68</td>\n",
              "      <td>4964.22</td>\n",
              "    </tr>\n",
              "  </tbody>\n",
              "</table>\n",
              "</div>"
            ],
            "text/plain": [
              "     matricula tipo_de_vinculo  ...   liquido      dif\n",
              "2143     10661     ESTATUTÁRIO  ...  20716.24  1541.54\n",
              "524      12338     ESTATUTÁRIO  ...  12116.10  5074.64\n",
              "1870     13598     ESTATUTÁRIO  ...  11850.49  5219.44\n",
              "817      14158     ESTATUTÁRIO  ...  11801.48  5063.27\n",
              "1343     11621     ESTATUTÁRIO  ...  11786.04  5135.59\n",
              "1528     11692     ESTATUTÁRIO  ...  11756.04  5119.10\n",
              "883      11791     ESTATUTÁRIO  ...  11527.98  4993.71\n",
              "436      11505     ESTATUTÁRIO  ...  11398.34  4922.44\n",
              "391      12353     ESTATUTÁRIO  ...  11376.57  5707.70\n",
              "824      13984     ESTATUTÁRIO  ...  11304.02  5667.81\n",
              "362      14151     ESTATUTÁRIO  ...  11181.48  5543.85\n",
              "552      11482     ESTATUTÁRIO  ...  11086.50  4750.99\n",
              "1263     11803     ESTATUTÁRIO  ...  11072.10  5540.29\n",
              "520      14147     ESTATUTÁRIO  ...  10866.54  4468.46\n",
              "815      10222     ESTATUTÁRIO  ...  10585.33  4503.42\n",
              "2039     10630     ESTATUTÁRIO  ...  10565.89  4470.71\n",
              "283      10220     ESTATUTÁRIO  ...  10472.40  5238.57\n",
              "812      14021     ESTATUTÁRIO  ...  10329.76  4334.94\n",
              "724      12268     ESTATUTÁRIO  ...  10286.77  6814.39\n",
              "1698     10052     ESTATUTÁRIO  ...  10283.69  4346.80\n",
              "399      11551     ESTATUTÁRIO  ...  10152.13  6670.31\n",
              "380      12314     ESTATUTÁRIO  ...  10049.68  4964.22\n",
              "\n",
              "[22 rows x 9 columns]"
            ]
          },
          "metadata": {
            "tags": []
          },
          "execution_count": 67
        }
      ]
    },
    {
      "cell_type": "code",
      "metadata": {
        "id": "-LYp4MR3SUnN",
        "colab_type": "code",
        "colab": {
          "base_uri": "https://localhost:8080/",
          "height": 617
        },
        "outputId": "0d1aca3b-6188-491f-b427-1da3e965f5f1"
      },
      "source": [
        "import plotly.express as px\n",
        "\n",
        "x = df_df2.loc[(df_df2['tipo_de_vinculo'] == 'ESTATUTÁRIO') & (df_df2['liquido'] >= 10000)] \n",
        "x = x.sort_values('liquido', ascending = False)\n",
        "\n",
        "fig = px.bar(x, x='cargo', y='liquido')\n",
        "fig.show()"
      ],
      "execution_count": 72,
      "outputs": [
        {
          "output_type": "display_data",
          "data": {
            "text/html": [
              "<html>\n",
              "<head><meta charset=\"utf-8\" /></head>\n",
              "<body>\n",
              "    <div>\n",
              "            <script src=\"https://cdnjs.cloudflare.com/ajax/libs/mathjax/2.7.5/MathJax.js?config=TeX-AMS-MML_SVG\"></script><script type=\"text/javascript\">if (window.MathJax) {MathJax.Hub.Config({SVG: {font: \"STIX-Web\"}});}</script>\n",
              "                <script type=\"text/javascript\">window.PlotlyConfig = {MathJaxConfig: 'local'};</script>\n",
              "        <script src=\"https://cdn.plot.ly/plotly-latest.min.js\"></script>    \n",
              "            <div id=\"a0f66b4b-a35c-4606-94f3-dea98c4d7041\" class=\"plotly-graph-div\" style=\"height:600px; width:100%;\"></div>\n",
              "            <script type=\"text/javascript\">\n",
              "                \n",
              "                    window.PLOTLYENV=window.PLOTLYENV || {};\n",
              "                    \n",
              "                if (document.getElementById(\"a0f66b4b-a35c-4606-94f3-dea98c4d7041\")) {\n",
              "                    Plotly.newPlot(\n",
              "                        'a0f66b4b-a35c-4606-94f3-dea98c4d7041',\n",
              "                        [{\"alignmentgroup\": \"True\", \"hoverlabel\": {\"namelength\": 0}, \"hovertemplate\": \"cargo=%{x}<br>liquido=%{y}\", \"legendgroup\": \"\", \"marker\": {\"color\": \"#636efa\"}, \"name\": \"\", \"offsetgroup\": \"\", \"orientation\": \"v\", \"showlegend\": false, \"textposition\": \"auto\", \"type\": \"bar\", \"x\": [\"ESCRITURARIO\", \"AGENTE FAZENDARIO\", \"MEDICO PLANTONISTA\", \"MEDICO PLANTONISTA\", \"MEDICO PLANTONISTA\", \"MEDICO PLANTONISTA\", \"MEDICO PLANTONISTA\", \"MEDICO PEDIATRA\", \"MEDICO PLANTONISTA\", \"MEDICO PLANTONISTA\", \"MEDICO PLANTONISTA\", \"MEDICO PLANTONISTA\", \"MEDICO PLANTONISTA\", \"MEDICO PLANTONISTA\", \"CIRURGIAO DENTISTA\", \"OFICIAL ADMINISTRATIVO\", \"ARQUITETO\", \"MEDICO PLANTONISTA\", \"MEDICO PLANTONISTA\", \"MEDICO DERMATOLOGISTA\", \"MEDICO PLANTONISTA\", \"MEDICO PLANTONISTA\"], \"xaxis\": \"x\", \"y\": [20716.24, 12116.1, 11850.49, 11801.48, 11786.04, 11756.04, 11527.98, 11398.34, 11376.57, 11304.02, 11181.48, 11086.5, 11072.1, 10866.54, 10585.33, 10565.89, 10472.4, 10329.76, 10286.77, 10283.69, 10152.13, 10049.68], \"yaxis\": \"y\"}],\n",
              "                        {\"barmode\": \"relative\", \"height\": 600, \"legend\": {\"tracegroupgap\": 0}, \"margin\": {\"t\": 60}, \"template\": {\"data\": {\"bar\": [{\"error_x\": {\"color\": \"#2a3f5f\"}, \"error_y\": {\"color\": \"#2a3f5f\"}, \"marker\": {\"line\": {\"color\": \"#E5ECF6\", \"width\": 0.5}}, \"type\": \"bar\"}], \"barpolar\": [{\"marker\": {\"line\": {\"color\": \"#E5ECF6\", \"width\": 0.5}}, \"type\": \"barpolar\"}], \"carpet\": [{\"aaxis\": {\"endlinecolor\": \"#2a3f5f\", \"gridcolor\": \"white\", \"linecolor\": \"white\", \"minorgridcolor\": \"white\", \"startlinecolor\": \"#2a3f5f\"}, \"baxis\": {\"endlinecolor\": \"#2a3f5f\", \"gridcolor\": \"white\", \"linecolor\": \"white\", \"minorgridcolor\": \"white\", \"startlinecolor\": \"#2a3f5f\"}, \"type\": \"carpet\"}], \"choropleth\": [{\"colorbar\": {\"outlinewidth\": 0, \"ticks\": \"\"}, \"type\": \"choropleth\"}], \"contour\": [{\"colorbar\": {\"outlinewidth\": 0, \"ticks\": \"\"}, \"colorscale\": [[0.0, \"#0d0887\"], [0.1111111111111111, \"#46039f\"], [0.2222222222222222, \"#7201a8\"], [0.3333333333333333, \"#9c179e\"], [0.4444444444444444, \"#bd3786\"], [0.5555555555555556, \"#d8576b\"], [0.6666666666666666, \"#ed7953\"], [0.7777777777777778, \"#fb9f3a\"], [0.8888888888888888, \"#fdca26\"], [1.0, \"#f0f921\"]], \"type\": \"contour\"}], \"contourcarpet\": [{\"colorbar\": {\"outlinewidth\": 0, \"ticks\": \"\"}, \"type\": \"contourcarpet\"}], \"heatmap\": [{\"colorbar\": {\"outlinewidth\": 0, \"ticks\": \"\"}, \"colorscale\": [[0.0, \"#0d0887\"], [0.1111111111111111, \"#46039f\"], [0.2222222222222222, \"#7201a8\"], [0.3333333333333333, \"#9c179e\"], [0.4444444444444444, \"#bd3786\"], [0.5555555555555556, \"#d8576b\"], [0.6666666666666666, \"#ed7953\"], [0.7777777777777778, \"#fb9f3a\"], [0.8888888888888888, \"#fdca26\"], [1.0, \"#f0f921\"]], \"type\": \"heatmap\"}], \"heatmapgl\": [{\"colorbar\": {\"outlinewidth\": 0, \"ticks\": \"\"}, \"colorscale\": [[0.0, \"#0d0887\"], [0.1111111111111111, \"#46039f\"], [0.2222222222222222, \"#7201a8\"], [0.3333333333333333, \"#9c179e\"], [0.4444444444444444, \"#bd3786\"], [0.5555555555555556, \"#d8576b\"], [0.6666666666666666, \"#ed7953\"], [0.7777777777777778, \"#fb9f3a\"], [0.8888888888888888, \"#fdca26\"], [1.0, \"#f0f921\"]], \"type\": \"heatmapgl\"}], \"histogram\": [{\"marker\": {\"colorbar\": {\"outlinewidth\": 0, \"ticks\": \"\"}}, \"type\": \"histogram\"}], \"histogram2d\": [{\"colorbar\": {\"outlinewidth\": 0, \"ticks\": \"\"}, \"colorscale\": [[0.0, \"#0d0887\"], [0.1111111111111111, \"#46039f\"], [0.2222222222222222, \"#7201a8\"], [0.3333333333333333, \"#9c179e\"], [0.4444444444444444, \"#bd3786\"], [0.5555555555555556, \"#d8576b\"], [0.6666666666666666, \"#ed7953\"], [0.7777777777777778, \"#fb9f3a\"], [0.8888888888888888, \"#fdca26\"], [1.0, \"#f0f921\"]], \"type\": \"histogram2d\"}], \"histogram2dcontour\": [{\"colorbar\": {\"outlinewidth\": 0, \"ticks\": \"\"}, \"colorscale\": [[0.0, \"#0d0887\"], [0.1111111111111111, \"#46039f\"], [0.2222222222222222, \"#7201a8\"], [0.3333333333333333, \"#9c179e\"], [0.4444444444444444, \"#bd3786\"], [0.5555555555555556, \"#d8576b\"], [0.6666666666666666, \"#ed7953\"], [0.7777777777777778, \"#fb9f3a\"], [0.8888888888888888, \"#fdca26\"], [1.0, \"#f0f921\"]], \"type\": \"histogram2dcontour\"}], \"mesh3d\": [{\"colorbar\": {\"outlinewidth\": 0, \"ticks\": \"\"}, \"type\": \"mesh3d\"}], \"parcoords\": [{\"line\": {\"colorbar\": {\"outlinewidth\": 0, \"ticks\": \"\"}}, \"type\": \"parcoords\"}], \"scatter\": [{\"marker\": {\"colorbar\": {\"outlinewidth\": 0, \"ticks\": \"\"}}, \"type\": \"scatter\"}], \"scatter3d\": [{\"line\": {\"colorbar\": {\"outlinewidth\": 0, \"ticks\": \"\"}}, \"marker\": {\"colorbar\": {\"outlinewidth\": 0, \"ticks\": \"\"}}, \"type\": \"scatter3d\"}], \"scattercarpet\": [{\"marker\": {\"colorbar\": {\"outlinewidth\": 0, \"ticks\": \"\"}}, \"type\": \"scattercarpet\"}], \"scattergeo\": [{\"marker\": {\"colorbar\": {\"outlinewidth\": 0, \"ticks\": \"\"}}, \"type\": \"scattergeo\"}], \"scattergl\": [{\"marker\": {\"colorbar\": {\"outlinewidth\": 0, \"ticks\": \"\"}}, \"type\": \"scattergl\"}], \"scattermapbox\": [{\"marker\": {\"colorbar\": {\"outlinewidth\": 0, \"ticks\": \"\"}}, \"type\": \"scattermapbox\"}], \"scatterpolar\": [{\"marker\": {\"colorbar\": {\"outlinewidth\": 0, \"ticks\": \"\"}}, \"type\": \"scatterpolar\"}], \"scatterpolargl\": [{\"marker\": {\"colorbar\": {\"outlinewidth\": 0, \"ticks\": \"\"}}, \"type\": \"scatterpolargl\"}], \"scatterternary\": [{\"marker\": {\"colorbar\": {\"outlinewidth\": 0, \"ticks\": \"\"}}, \"type\": \"scatterternary\"}], \"surface\": [{\"colorbar\": {\"outlinewidth\": 0, \"ticks\": \"\"}, \"colorscale\": [[0.0, \"#0d0887\"], [0.1111111111111111, \"#46039f\"], [0.2222222222222222, \"#7201a8\"], [0.3333333333333333, \"#9c179e\"], [0.4444444444444444, \"#bd3786\"], [0.5555555555555556, \"#d8576b\"], [0.6666666666666666, \"#ed7953\"], [0.7777777777777778, \"#fb9f3a\"], [0.8888888888888888, \"#fdca26\"], [1.0, \"#f0f921\"]], \"type\": \"surface\"}], \"table\": [{\"cells\": {\"fill\": {\"color\": \"#EBF0F8\"}, \"line\": {\"color\": \"white\"}}, \"header\": {\"fill\": {\"color\": \"#C8D4E3\"}, \"line\": {\"color\": \"white\"}}, \"type\": \"table\"}]}, \"layout\": {\"annotationdefaults\": {\"arrowcolor\": \"#2a3f5f\", \"arrowhead\": 0, \"arrowwidth\": 1}, \"colorscale\": {\"diverging\": [[0, \"#8e0152\"], [0.1, \"#c51b7d\"], [0.2, \"#de77ae\"], [0.3, \"#f1b6da\"], [0.4, \"#fde0ef\"], [0.5, \"#f7f7f7\"], [0.6, \"#e6f5d0\"], [0.7, \"#b8e186\"], [0.8, \"#7fbc41\"], [0.9, \"#4d9221\"], [1, \"#276419\"]], \"sequential\": [[0.0, \"#0d0887\"], [0.1111111111111111, \"#46039f\"], [0.2222222222222222, \"#7201a8\"], [0.3333333333333333, \"#9c179e\"], [0.4444444444444444, \"#bd3786\"], [0.5555555555555556, \"#d8576b\"], [0.6666666666666666, \"#ed7953\"], [0.7777777777777778, \"#fb9f3a\"], [0.8888888888888888, \"#fdca26\"], [1.0, \"#f0f921\"]], \"sequentialminus\": [[0.0, \"#0d0887\"], [0.1111111111111111, \"#46039f\"], [0.2222222222222222, \"#7201a8\"], [0.3333333333333333, \"#9c179e\"], [0.4444444444444444, \"#bd3786\"], [0.5555555555555556, \"#d8576b\"], [0.6666666666666666, \"#ed7953\"], [0.7777777777777778, \"#fb9f3a\"], [0.8888888888888888, \"#fdca26\"], [1.0, \"#f0f921\"]]}, \"colorway\": [\"#636efa\", \"#EF553B\", \"#00cc96\", \"#ab63fa\", \"#FFA15A\", \"#19d3f3\", \"#FF6692\", \"#B6E880\", \"#FF97FF\", \"#FECB52\"], \"font\": {\"color\": \"#2a3f5f\"}, \"geo\": {\"bgcolor\": \"white\", \"lakecolor\": \"white\", \"landcolor\": \"#E5ECF6\", \"showlakes\": true, \"showland\": true, \"subunitcolor\": \"white\"}, \"hoverlabel\": {\"align\": \"left\"}, \"hovermode\": \"closest\", \"mapbox\": {\"style\": \"light\"}, \"paper_bgcolor\": \"white\", \"plot_bgcolor\": \"#E5ECF6\", \"polar\": {\"angularaxis\": {\"gridcolor\": \"white\", \"linecolor\": \"white\", \"ticks\": \"\"}, \"bgcolor\": \"#E5ECF6\", \"radialaxis\": {\"gridcolor\": \"white\", \"linecolor\": \"white\", \"ticks\": \"\"}}, \"scene\": {\"xaxis\": {\"backgroundcolor\": \"#E5ECF6\", \"gridcolor\": \"white\", \"gridwidth\": 2, \"linecolor\": \"white\", \"showbackground\": true, \"ticks\": \"\", \"zerolinecolor\": \"white\"}, \"yaxis\": {\"backgroundcolor\": \"#E5ECF6\", \"gridcolor\": \"white\", \"gridwidth\": 2, \"linecolor\": \"white\", \"showbackground\": true, \"ticks\": \"\", \"zerolinecolor\": \"white\"}, \"zaxis\": {\"backgroundcolor\": \"#E5ECF6\", \"gridcolor\": \"white\", \"gridwidth\": 2, \"linecolor\": \"white\", \"showbackground\": true, \"ticks\": \"\", \"zerolinecolor\": \"white\"}}, \"shapedefaults\": {\"line\": {\"color\": \"#2a3f5f\"}}, \"ternary\": {\"aaxis\": {\"gridcolor\": \"white\", \"linecolor\": \"white\", \"ticks\": \"\"}, \"baxis\": {\"gridcolor\": \"white\", \"linecolor\": \"white\", \"ticks\": \"\"}, \"bgcolor\": \"#E5ECF6\", \"caxis\": {\"gridcolor\": \"white\", \"linecolor\": \"white\", \"ticks\": \"\"}}, \"title\": {\"x\": 0.05}, \"xaxis\": {\"automargin\": true, \"gridcolor\": \"white\", \"linecolor\": \"white\", \"ticks\": \"\", \"zerolinecolor\": \"white\", \"zerolinewidth\": 2}, \"yaxis\": {\"automargin\": true, \"gridcolor\": \"white\", \"linecolor\": \"white\", \"ticks\": \"\", \"zerolinecolor\": \"white\", \"zerolinewidth\": 2}}}, \"xaxis\": {\"anchor\": \"y\", \"domain\": [0.0, 0.98], \"title\": {\"text\": \"cargo\"}}, \"yaxis\": {\"anchor\": \"x\", \"domain\": [0.0, 1.0], \"title\": {\"text\": \"liquido\"}}},\n",
              "                        {\"responsive\": true}\n",
              "                    ).then(function(){\n",
              "                            \n",
              "var gd = document.getElementById('a0f66b4b-a35c-4606-94f3-dea98c4d7041');\n",
              "var x = new MutationObserver(function (mutations, observer) {{\n",
              "        var display = window.getComputedStyle(gd).display;\n",
              "        if (!display || display === 'none') {{\n",
              "            console.log([gd, 'removed!']);\n",
              "            Plotly.purge(gd);\n",
              "            observer.disconnect();\n",
              "        }}\n",
              "}});\n",
              "\n",
              "// Listen for the removal of the full notebook cells\n",
              "var notebookContainer = gd.closest('#notebook-container');\n",
              "if (notebookContainer) {{\n",
              "    x.observe(notebookContainer, {childList: true});\n",
              "}}\n",
              "\n",
              "// Listen for the clearing of the current output cell\n",
              "var outputEl = gd.closest('.output');\n",
              "if (outputEl) {{\n",
              "    x.observe(outputEl, {childList: true});\n",
              "}}\n",
              "\n",
              "                        })\n",
              "                };\n",
              "                \n",
              "            </script>\n",
              "        </div>\n",
              "</body>\n",
              "</html>"
            ]
          },
          "metadata": {
            "tags": []
          }
        }
      ]
    },
    {
      "cell_type": "code",
      "metadata": {
        "id": "Cm8XHWdiVjs9",
        "colab_type": "code",
        "colab": {
          "base_uri": "https://localhost:8080/",
          "height": 542
        },
        "outputId": "72c2a520-d4de-4c92-95a3-48544a06730b"
      },
      "source": [
        "import plotly.graph_objects as go\n",
        "\n",
        "fig = go.Figure(data=[\n",
        "    go.Bar(name='Vecto Mês', x=x['cargo'], y=x['vecto_mes']),\n",
        "    go.Bar(name='Líquido', x=x['cargo'], y=x['liquido'])\n",
        "])\n",
        "# Change the bar mode\n",
        "fig.update_layout(barmode='group')\n",
        "fig.show()"
      ],
      "execution_count": 76,
      "outputs": [
        {
          "output_type": "display_data",
          "data": {
            "text/html": [
              "<html>\n",
              "<head><meta charset=\"utf-8\" /></head>\n",
              "<body>\n",
              "    <div>\n",
              "            <script src=\"https://cdnjs.cloudflare.com/ajax/libs/mathjax/2.7.5/MathJax.js?config=TeX-AMS-MML_SVG\"></script><script type=\"text/javascript\">if (window.MathJax) {MathJax.Hub.Config({SVG: {font: \"STIX-Web\"}});}</script>\n",
              "                <script type=\"text/javascript\">window.PlotlyConfig = {MathJaxConfig: 'local'};</script>\n",
              "        <script src=\"https://cdn.plot.ly/plotly-latest.min.js\"></script>    \n",
              "            <div id=\"c2a8abcb-bdab-4e9f-9096-e2236b60297d\" class=\"plotly-graph-div\" style=\"height:525px; width:100%;\"></div>\n",
              "            <script type=\"text/javascript\">\n",
              "                \n",
              "                    window.PLOTLYENV=window.PLOTLYENV || {};\n",
              "                    \n",
              "                if (document.getElementById(\"c2a8abcb-bdab-4e9f-9096-e2236b60297d\")) {\n",
              "                    Plotly.newPlot(\n",
              "                        'c2a8abcb-bdab-4e9f-9096-e2236b60297d',\n",
              "                        [{\"name\": \"Vecto M\\u00eas\", \"type\": \"bar\", \"x\": [\"ESCRITURARIO\", \"AGENTE FAZENDARIO\", \"MEDICO PLANTONISTA\", \"MEDICO PLANTONISTA\", \"MEDICO PLANTONISTA\", \"MEDICO PLANTONISTA\", \"MEDICO PLANTONISTA\", \"MEDICO PEDIATRA\", \"MEDICO PLANTONISTA\", \"MEDICO PLANTONISTA\", \"MEDICO PLANTONISTA\", \"MEDICO PLANTONISTA\", \"MEDICO PLANTONISTA\", \"MEDICO PLANTONISTA\", \"CIRURGIAO DENTISTA\", \"OFICIAL ADMINISTRATIVO\", \"ARQUITETO\", \"MEDICO PLANTONISTA\", \"MEDICO PLANTONISTA\", \"MEDICO DERMATOLOGISTA\", \"MEDICO PLANTONISTA\", \"MEDICO PLANTONISTA\"], \"y\": [22257.78, 17190.74, 17069.93, 16864.75, 16921.63, 16875.14, 16521.69, 16320.78, 17084.27, 16971.83, 16725.33, 15837.49, 16612.39, 15335.0, 15088.75, 15036.6, 15710.97, 14664.7, 17101.16, 14630.49, 16822.44, 15013.9]}, {\"name\": \"L\\u00edquido\", \"type\": \"bar\", \"x\": [\"ESCRITURARIO\", \"AGENTE FAZENDARIO\", \"MEDICO PLANTONISTA\", \"MEDICO PLANTONISTA\", \"MEDICO PLANTONISTA\", \"MEDICO PLANTONISTA\", \"MEDICO PLANTONISTA\", \"MEDICO PEDIATRA\", \"MEDICO PLANTONISTA\", \"MEDICO PLANTONISTA\", \"MEDICO PLANTONISTA\", \"MEDICO PLANTONISTA\", \"MEDICO PLANTONISTA\", \"MEDICO PLANTONISTA\", \"CIRURGIAO DENTISTA\", \"OFICIAL ADMINISTRATIVO\", \"ARQUITETO\", \"MEDICO PLANTONISTA\", \"MEDICO PLANTONISTA\", \"MEDICO DERMATOLOGISTA\", \"MEDICO PLANTONISTA\", \"MEDICO PLANTONISTA\"], \"y\": [20716.24, 12116.1, 11850.49, 11801.48, 11786.04, 11756.04, 11527.98, 11398.34, 11376.57, 11304.02, 11181.48, 11086.5, 11072.1, 10866.54, 10585.33, 10565.89, 10472.4, 10329.76, 10286.77, 10283.69, 10152.13, 10049.68]}],\n",
              "                        {\"barmode\": \"group\", \"template\": {\"data\": {\"bar\": [{\"error_x\": {\"color\": \"#2a3f5f\"}, \"error_y\": {\"color\": \"#2a3f5f\"}, \"marker\": {\"line\": {\"color\": \"#E5ECF6\", \"width\": 0.5}}, \"type\": \"bar\"}], \"barpolar\": [{\"marker\": {\"line\": {\"color\": \"#E5ECF6\", \"width\": 0.5}}, \"type\": \"barpolar\"}], \"carpet\": [{\"aaxis\": {\"endlinecolor\": \"#2a3f5f\", \"gridcolor\": \"white\", \"linecolor\": \"white\", \"minorgridcolor\": \"white\", \"startlinecolor\": \"#2a3f5f\"}, \"baxis\": {\"endlinecolor\": \"#2a3f5f\", \"gridcolor\": \"white\", \"linecolor\": \"white\", \"minorgridcolor\": \"white\", \"startlinecolor\": \"#2a3f5f\"}, \"type\": \"carpet\"}], \"choropleth\": [{\"colorbar\": {\"outlinewidth\": 0, \"ticks\": \"\"}, \"type\": \"choropleth\"}], \"contour\": [{\"colorbar\": {\"outlinewidth\": 0, \"ticks\": \"\"}, \"colorscale\": [[0.0, \"#0d0887\"], [0.1111111111111111, \"#46039f\"], [0.2222222222222222, \"#7201a8\"], [0.3333333333333333, \"#9c179e\"], [0.4444444444444444, \"#bd3786\"], [0.5555555555555556, \"#d8576b\"], [0.6666666666666666, \"#ed7953\"], [0.7777777777777778, \"#fb9f3a\"], [0.8888888888888888, \"#fdca26\"], [1.0, \"#f0f921\"]], \"type\": \"contour\"}], \"contourcarpet\": [{\"colorbar\": {\"outlinewidth\": 0, \"ticks\": \"\"}, \"type\": \"contourcarpet\"}], \"heatmap\": [{\"colorbar\": {\"outlinewidth\": 0, \"ticks\": \"\"}, \"colorscale\": [[0.0, \"#0d0887\"], [0.1111111111111111, \"#46039f\"], [0.2222222222222222, \"#7201a8\"], [0.3333333333333333, \"#9c179e\"], [0.4444444444444444, \"#bd3786\"], [0.5555555555555556, \"#d8576b\"], [0.6666666666666666, \"#ed7953\"], [0.7777777777777778, \"#fb9f3a\"], [0.8888888888888888, \"#fdca26\"], [1.0, \"#f0f921\"]], \"type\": \"heatmap\"}], \"heatmapgl\": [{\"colorbar\": {\"outlinewidth\": 0, \"ticks\": \"\"}, \"colorscale\": [[0.0, \"#0d0887\"], [0.1111111111111111, \"#46039f\"], [0.2222222222222222, \"#7201a8\"], [0.3333333333333333, \"#9c179e\"], [0.4444444444444444, \"#bd3786\"], [0.5555555555555556, \"#d8576b\"], [0.6666666666666666, \"#ed7953\"], [0.7777777777777778, \"#fb9f3a\"], [0.8888888888888888, \"#fdca26\"], [1.0, \"#f0f921\"]], \"type\": \"heatmapgl\"}], \"histogram\": [{\"marker\": {\"colorbar\": {\"outlinewidth\": 0, \"ticks\": \"\"}}, \"type\": \"histogram\"}], \"histogram2d\": [{\"colorbar\": {\"outlinewidth\": 0, \"ticks\": \"\"}, \"colorscale\": [[0.0, \"#0d0887\"], [0.1111111111111111, \"#46039f\"], [0.2222222222222222, \"#7201a8\"], [0.3333333333333333, \"#9c179e\"], [0.4444444444444444, \"#bd3786\"], [0.5555555555555556, \"#d8576b\"], [0.6666666666666666, \"#ed7953\"], [0.7777777777777778, \"#fb9f3a\"], [0.8888888888888888, \"#fdca26\"], [1.0, \"#f0f921\"]], \"type\": \"histogram2d\"}], \"histogram2dcontour\": [{\"colorbar\": {\"outlinewidth\": 0, \"ticks\": \"\"}, \"colorscale\": [[0.0, \"#0d0887\"], [0.1111111111111111, \"#46039f\"], [0.2222222222222222, \"#7201a8\"], [0.3333333333333333, \"#9c179e\"], [0.4444444444444444, \"#bd3786\"], [0.5555555555555556, \"#d8576b\"], [0.6666666666666666, \"#ed7953\"], [0.7777777777777778, \"#fb9f3a\"], [0.8888888888888888, \"#fdca26\"], [1.0, \"#f0f921\"]], \"type\": \"histogram2dcontour\"}], \"mesh3d\": [{\"colorbar\": {\"outlinewidth\": 0, \"ticks\": \"\"}, \"type\": \"mesh3d\"}], \"parcoords\": [{\"line\": {\"colorbar\": {\"outlinewidth\": 0, \"ticks\": \"\"}}, \"type\": \"parcoords\"}], \"scatter\": [{\"marker\": {\"colorbar\": {\"outlinewidth\": 0, \"ticks\": \"\"}}, \"type\": \"scatter\"}], \"scatter3d\": [{\"line\": {\"colorbar\": {\"outlinewidth\": 0, \"ticks\": \"\"}}, \"marker\": {\"colorbar\": {\"outlinewidth\": 0, \"ticks\": \"\"}}, \"type\": \"scatter3d\"}], \"scattercarpet\": [{\"marker\": {\"colorbar\": {\"outlinewidth\": 0, \"ticks\": \"\"}}, \"type\": \"scattercarpet\"}], \"scattergeo\": [{\"marker\": {\"colorbar\": {\"outlinewidth\": 0, \"ticks\": \"\"}}, \"type\": \"scattergeo\"}], \"scattergl\": [{\"marker\": {\"colorbar\": {\"outlinewidth\": 0, \"ticks\": \"\"}}, \"type\": \"scattergl\"}], \"scattermapbox\": [{\"marker\": {\"colorbar\": {\"outlinewidth\": 0, \"ticks\": \"\"}}, \"type\": \"scattermapbox\"}], \"scatterpolar\": [{\"marker\": {\"colorbar\": {\"outlinewidth\": 0, \"ticks\": \"\"}}, \"type\": \"scatterpolar\"}], \"scatterpolargl\": [{\"marker\": {\"colorbar\": {\"outlinewidth\": 0, \"ticks\": \"\"}}, \"type\": \"scatterpolargl\"}], \"scatterternary\": [{\"marker\": {\"colorbar\": {\"outlinewidth\": 0, \"ticks\": \"\"}}, \"type\": \"scatterternary\"}], \"surface\": [{\"colorbar\": {\"outlinewidth\": 0, \"ticks\": \"\"}, \"colorscale\": [[0.0, \"#0d0887\"], [0.1111111111111111, \"#46039f\"], [0.2222222222222222, \"#7201a8\"], [0.3333333333333333, \"#9c179e\"], [0.4444444444444444, \"#bd3786\"], [0.5555555555555556, \"#d8576b\"], [0.6666666666666666, \"#ed7953\"], [0.7777777777777778, \"#fb9f3a\"], [0.8888888888888888, \"#fdca26\"], [1.0, \"#f0f921\"]], \"type\": \"surface\"}], \"table\": [{\"cells\": {\"fill\": {\"color\": \"#EBF0F8\"}, \"line\": {\"color\": \"white\"}}, \"header\": {\"fill\": {\"color\": \"#C8D4E3\"}, \"line\": {\"color\": \"white\"}}, \"type\": \"table\"}]}, \"layout\": {\"annotationdefaults\": {\"arrowcolor\": \"#2a3f5f\", \"arrowhead\": 0, \"arrowwidth\": 1}, \"colorscale\": {\"diverging\": [[0, \"#8e0152\"], [0.1, \"#c51b7d\"], [0.2, \"#de77ae\"], [0.3, \"#f1b6da\"], [0.4, \"#fde0ef\"], [0.5, \"#f7f7f7\"], [0.6, \"#e6f5d0\"], [0.7, \"#b8e186\"], [0.8, \"#7fbc41\"], [0.9, \"#4d9221\"], [1, \"#276419\"]], \"sequential\": [[0.0, \"#0d0887\"], [0.1111111111111111, \"#46039f\"], [0.2222222222222222, \"#7201a8\"], [0.3333333333333333, \"#9c179e\"], [0.4444444444444444, \"#bd3786\"], [0.5555555555555556, \"#d8576b\"], [0.6666666666666666, \"#ed7953\"], [0.7777777777777778, \"#fb9f3a\"], [0.8888888888888888, \"#fdca26\"], [1.0, \"#f0f921\"]], \"sequentialminus\": [[0.0, \"#0d0887\"], [0.1111111111111111, \"#46039f\"], [0.2222222222222222, \"#7201a8\"], [0.3333333333333333, \"#9c179e\"], [0.4444444444444444, \"#bd3786\"], [0.5555555555555556, \"#d8576b\"], [0.6666666666666666, \"#ed7953\"], [0.7777777777777778, \"#fb9f3a\"], [0.8888888888888888, \"#fdca26\"], [1.0, \"#f0f921\"]]}, \"colorway\": [\"#636efa\", \"#EF553B\", \"#00cc96\", \"#ab63fa\", \"#FFA15A\", \"#19d3f3\", \"#FF6692\", \"#B6E880\", \"#FF97FF\", \"#FECB52\"], \"font\": {\"color\": \"#2a3f5f\"}, \"geo\": {\"bgcolor\": \"white\", \"lakecolor\": \"white\", \"landcolor\": \"#E5ECF6\", \"showlakes\": true, \"showland\": true, \"subunitcolor\": \"white\"}, \"hoverlabel\": {\"align\": \"left\"}, \"hovermode\": \"closest\", \"mapbox\": {\"style\": \"light\"}, \"paper_bgcolor\": \"white\", \"plot_bgcolor\": \"#E5ECF6\", \"polar\": {\"angularaxis\": {\"gridcolor\": \"white\", \"linecolor\": \"white\", \"ticks\": \"\"}, \"bgcolor\": \"#E5ECF6\", \"radialaxis\": {\"gridcolor\": \"white\", \"linecolor\": \"white\", \"ticks\": \"\"}}, \"scene\": {\"xaxis\": {\"backgroundcolor\": \"#E5ECF6\", \"gridcolor\": \"white\", \"gridwidth\": 2, \"linecolor\": \"white\", \"showbackground\": true, \"ticks\": \"\", \"zerolinecolor\": \"white\"}, \"yaxis\": {\"backgroundcolor\": \"#E5ECF6\", \"gridcolor\": \"white\", \"gridwidth\": 2, \"linecolor\": \"white\", \"showbackground\": true, \"ticks\": \"\", \"zerolinecolor\": \"white\"}, \"zaxis\": {\"backgroundcolor\": \"#E5ECF6\", \"gridcolor\": \"white\", \"gridwidth\": 2, \"linecolor\": \"white\", \"showbackground\": true, \"ticks\": \"\", \"zerolinecolor\": \"white\"}}, \"shapedefaults\": {\"line\": {\"color\": \"#2a3f5f\"}}, \"ternary\": {\"aaxis\": {\"gridcolor\": \"white\", \"linecolor\": \"white\", \"ticks\": \"\"}, \"baxis\": {\"gridcolor\": \"white\", \"linecolor\": \"white\", \"ticks\": \"\"}, \"bgcolor\": \"#E5ECF6\", \"caxis\": {\"gridcolor\": \"white\", \"linecolor\": \"white\", \"ticks\": \"\"}}, \"title\": {\"x\": 0.05}, \"xaxis\": {\"automargin\": true, \"gridcolor\": \"white\", \"linecolor\": \"white\", \"ticks\": \"\", \"zerolinecolor\": \"white\", \"zerolinewidth\": 2}, \"yaxis\": {\"automargin\": true, \"gridcolor\": \"white\", \"linecolor\": \"white\", \"ticks\": \"\", \"zerolinecolor\": \"white\", \"zerolinewidth\": 2}}}},\n",
              "                        {\"responsive\": true}\n",
              "                    ).then(function(){\n",
              "                            \n",
              "var gd = document.getElementById('c2a8abcb-bdab-4e9f-9096-e2236b60297d');\n",
              "var x = new MutationObserver(function (mutations, observer) {{\n",
              "        var display = window.getComputedStyle(gd).display;\n",
              "        if (!display || display === 'none') {{\n",
              "            console.log([gd, 'removed!']);\n",
              "            Plotly.purge(gd);\n",
              "            observer.disconnect();\n",
              "        }}\n",
              "}});\n",
              "\n",
              "// Listen for the removal of the full notebook cells\n",
              "var notebookContainer = gd.closest('#notebook-container');\n",
              "if (notebookContainer) {{\n",
              "    x.observe(notebookContainer, {childList: true});\n",
              "}}\n",
              "\n",
              "// Listen for the clearing of the current output cell\n",
              "var outputEl = gd.closest('.output');\n",
              "if (outputEl) {{\n",
              "    x.observe(outputEl, {childList: true});\n",
              "}}\n",
              "\n",
              "                        })\n",
              "                };\n",
              "                \n",
              "            </script>\n",
              "        </div>\n",
              "</body>\n",
              "</html>"
            ]
          },
          "metadata": {
            "tags": []
          }
        }
      ]
    },
    {
      "cell_type": "code",
      "metadata": {
        "id": "vh9-sPKRXIod",
        "colab_type": "code",
        "colab": {
          "base_uri": "https://localhost:8080/",
          "height": 302
        },
        "outputId": "24482d2e-6476-479b-b14f-dc50172c1f6a"
      },
      "source": [
        "import seaborn as sns\n",
        " \n",
        "sns.regplot(x=x[\"vecto_mes\"], y=x[\"liquido\"])\n",
        "#sns.plt.show()\n",
        " \n",
        "# Without regression fit:\n",
        "sns.regplot(x=x[\"vecto_mes\"], y=x[\"liquido\"], fit_reg=False)\n",
        "#sns.plt.show()\n"
      ],
      "execution_count": 84,
      "outputs": [
        {
          "output_type": "execute_result",
          "data": {
            "text/plain": [
              "<matplotlib.axes._subplots.AxesSubplot at 0x7f74f3ceadd8>"
            ]
          },
          "metadata": {
            "tags": []
          },
          "execution_count": 84
        },
        {
          "output_type": "display_data",
          "data": {
            "image/png": "[encoded data removed]",
            "text/plain": [
              "<Figure size 432x288 with 1 Axes>"
            ]
          },
          "metadata": {
            "tags": []
          }
        }
      ]
    },
    {
      "cell_type": "code",
      "metadata": {
        "id": "iOD5bcuMXiOq",
        "colab_type": "code",
        "colab": {
          "base_uri": "https://localhost:8080/",
          "height": 302
        },
        "outputId": "be589f9a-ca69-4bb0-e8a2-5686649fafe7"
      },
      "source": [
        "# library &amp; dataset\n",
        "import seaborn as sns\n",
        " \n",
        "# plot\n",
        "sns.regplot(x=x[\"vecto_mes\"], y=x[\"liquido\"], line_kws={\"color\":\"r\",\"alpha\":0.7,\"lw\":5})\n",
        "#sns.plt.show()\n"
      ],
      "execution_count": 85,
      "outputs": [
        {
          "output_type": "execute_result",
          "data": {
            "text/plain": [
              "<matplotlib.axes._subplots.AxesSubplot at 0x7f74f3996780>"
            ]
          },
          "metadata": {
            "tags": []
          },
          "execution_count": 85
        },
        {
          "output_type": "display_data",
          "data": {
            "image/png": "[encoded data removed]",
            "text/plain": [
              "<Figure size 432x288 with 1 Axes>"
            ]
          },
          "metadata": {
            "tags": []
          }
        }
      ]
    },
    {
      "cell_type": "markdown",
      "metadata": {
        "id": "WOcygplPU0Z1",
        "colab_type": "text"
      },
      "source": [
        "#### Os 20 maiores liquido"
      ]
    },
    {
      "cell_type": "code",
      "metadata": {
        "id": "scsD_RoBUyI_",
        "colab_type": "code",
        "outputId": "54a20fd7-d15a-453b-a2f3-bacde5fc9293",
        "colab": {
          "base_uri": "https://localhost:8080/",
          "height": 771
        }
      },
      "source": [
        "vinte = df_df2.loc[(df_df2['liquido'] > 10000) & (df_df2['liquido'] < df_df2['liquido'].max())]\n",
        "vinte = vinte.sort_values('liquido', ascending = False)[:20]\n",
        "vinte"
      ],
      "execution_count": 90,
      "outputs": [
        {
          "output_type": "execute_result",
          "data": {
            "text/html": [
              "<div>\n",
              "<style scoped>\n",
              "    .dataframe tbody tr th:only-of-type {\n",
              "        vertical-align: middle;\n",
              "    }\n",
              "\n",
              "    .dataframe tbody tr th {\n",
              "        vertical-align: top;\n",
              "    }\n",
              "\n",
              "    .dataframe thead th {\n",
              "        text-align: right;\n",
              "    }\n",
              "</style>\n",
              "<table border=\"1\" class=\"dataframe\">\n",
              "  <thead>\n",
              "    <tr style=\"text-align: right;\">\n",
              "      <th></th>\n",
              "      <th>matricula</th>\n",
              "      <th>tipo_de_vinculo</th>\n",
              "      <th>lotacao</th>\n",
              "      <th>local_de_trabalho</th>\n",
              "      <th>cargo</th>\n",
              "      <th>situacao</th>\n",
              "      <th>vecto_mes</th>\n",
              "      <th>liquido</th>\n",
              "      <th>dif</th>\n",
              "    </tr>\n",
              "  </thead>\n",
              "  <tbody>\n",
              "    <tr>\n",
              "      <th>524</th>\n",
              "      <td>12338</td>\n",
              "      <td>ESTATUTÁRIO</td>\n",
              "      <td>SECRETARIA DE FINANCAS</td>\n",
              "      <td>PAÇO</td>\n",
              "      <td>AGENTE FAZENDARIO</td>\n",
              "      <td>ATIVO</td>\n",
              "      <td>17190.74</td>\n",
              "      <td>12116.10</td>\n",
              "      <td>5074.64</td>\n",
              "    </tr>\n",
              "    <tr>\n",
              "      <th>1870</th>\n",
              "      <td>13598</td>\n",
              "      <td>ESTATUTÁRIO</td>\n",
              "      <td>UPA CENTRAL</td>\n",
              "      <td>CENTRO DE SAUDE RIO ACIMA</td>\n",
              "      <td>MEDICO PLANTONISTA</td>\n",
              "      <td>ATIVO</td>\n",
              "      <td>17069.93</td>\n",
              "      <td>11850.49</td>\n",
              "      <td>5219.44</td>\n",
              "    </tr>\n",
              "    <tr>\n",
              "      <th>817</th>\n",
              "      <td>14158</td>\n",
              "      <td>ESTATUTÁRIO</td>\n",
              "      <td>UPA CENTRAL</td>\n",
              "      <td>PAÇO</td>\n",
              "      <td>MEDICO PLANTONISTA</td>\n",
              "      <td>ATIVO</td>\n",
              "      <td>16864.75</td>\n",
              "      <td>11801.48</td>\n",
              "      <td>5063.27</td>\n",
              "    </tr>\n",
              "    <tr>\n",
              "      <th>1343</th>\n",
              "      <td>11621</td>\n",
              "      <td>ESTATUTÁRIO</td>\n",
              "      <td>UPA CENTRAL</td>\n",
              "      <td>PAÇO</td>\n",
              "      <td>MEDICO PLANTONISTA</td>\n",
              "      <td>ATIVO</td>\n",
              "      <td>16921.63</td>\n",
              "      <td>11786.04</td>\n",
              "      <td>5135.59</td>\n",
              "    </tr>\n",
              "    <tr>\n",
              "      <th>1528</th>\n",
              "      <td>11692</td>\n",
              "      <td>ESTATUTÁRIO</td>\n",
              "      <td>UPA CENTRAL</td>\n",
              "      <td>PAÇO</td>\n",
              "      <td>MEDICO PLANTONISTA</td>\n",
              "      <td>ATIVO</td>\n",
              "      <td>16875.14</td>\n",
              "      <td>11756.04</td>\n",
              "      <td>5119.10</td>\n",
              "    </tr>\n",
              "    <tr>\n",
              "      <th>883</th>\n",
              "      <td>11791</td>\n",
              "      <td>ESTATUTÁRIO</td>\n",
              "      <td>AMBULATORIO DE SAUDE DA MULHER E DA CRIANÇA</td>\n",
              "      <td>PAÇO</td>\n",
              "      <td>MEDICO PLANTONISTA</td>\n",
              "      <td>ATIVO</td>\n",
              "      <td>16521.69</td>\n",
              "      <td>11527.98</td>\n",
              "      <td>4993.71</td>\n",
              "    </tr>\n",
              "    <tr>\n",
              "      <th>2445</th>\n",
              "      <td>12349</td>\n",
              "      <td>CARGO EM COMISSÃO</td>\n",
              "      <td>DEPTO TRIBUTACAO RECEITA E FISCALIZACAO</td>\n",
              "      <td>PAÇO</td>\n",
              "      <td>JULGADOR TRIBUTARIO SECR, FINANCAS</td>\n",
              "      <td>ATIVO</td>\n",
              "      <td>17190.74</td>\n",
              "      <td>11445.28</td>\n",
              "      <td>5745.46</td>\n",
              "    </tr>\n",
              "    <tr>\n",
              "      <th>436</th>\n",
              "      <td>11505</td>\n",
              "      <td>ESTATUTÁRIO</td>\n",
              "      <td>SECRETARIA DE SAUDE</td>\n",
              "      <td>PAÇO</td>\n",
              "      <td>MEDICO PEDIATRA</td>\n",
              "      <td>ATIVO</td>\n",
              "      <td>16320.78</td>\n",
              "      <td>11398.34</td>\n",
              "      <td>4922.44</td>\n",
              "    </tr>\n",
              "    <tr>\n",
              "      <th>391</th>\n",
              "      <td>12353</td>\n",
              "      <td>ESTATUTÁRIO</td>\n",
              "      <td>UPA CENTRAL</td>\n",
              "      <td>PAÇO</td>\n",
              "      <td>MEDICO PLANTONISTA</td>\n",
              "      <td>ATIVO</td>\n",
              "      <td>17084.27</td>\n",
              "      <td>11376.57</td>\n",
              "      <td>5707.70</td>\n",
              "    </tr>\n",
              "    <tr>\n",
              "      <th>824</th>\n",
              "      <td>13984</td>\n",
              "      <td>ESTATUTÁRIO</td>\n",
              "      <td>UPA CENTRAL</td>\n",
              "      <td>PAÇO</td>\n",
              "      <td>MEDICO PLANTONISTA</td>\n",
              "      <td>ATIVO</td>\n",
              "      <td>16971.83</td>\n",
              "      <td>11304.02</td>\n",
              "      <td>5667.81</td>\n",
              "    </tr>\n",
              "    <tr>\n",
              "      <th>400</th>\n",
              "      <td>10306</td>\n",
              "      <td>CARGO EM COMISSÃO</td>\n",
              "      <td>SECRETARIA DE SAUDE</td>\n",
              "      <td>PAÇO</td>\n",
              "      <td>DIRETOR DEPTO MEDICINA</td>\n",
              "      <td>ATIVO</td>\n",
              "      <td>16173.41</td>\n",
              "      <td>11303.25</td>\n",
              "      <td>4870.16</td>\n",
              "    </tr>\n",
              "    <tr>\n",
              "      <th>362</th>\n",
              "      <td>14151</td>\n",
              "      <td>ESTATUTÁRIO</td>\n",
              "      <td>UPA CENTRAL</td>\n",
              "      <td>PAÇO</td>\n",
              "      <td>MEDICO PLANTONISTA</td>\n",
              "      <td>ATIVO</td>\n",
              "      <td>16725.33</td>\n",
              "      <td>11181.48</td>\n",
              "      <td>5543.85</td>\n",
              "    </tr>\n",
              "    <tr>\n",
              "      <th>552</th>\n",
              "      <td>11482</td>\n",
              "      <td>ESTATUTÁRIO</td>\n",
              "      <td>UPA CENTRAL</td>\n",
              "      <td>PAÇO</td>\n",
              "      <td>MEDICO PLANTONISTA</td>\n",
              "      <td>ATIVO</td>\n",
              "      <td>15837.49</td>\n",
              "      <td>11086.50</td>\n",
              "      <td>4750.99</td>\n",
              "    </tr>\n",
              "    <tr>\n",
              "      <th>1294</th>\n",
              "      <td>10048</td>\n",
              "      <td>CARGO EM COMISSÃO</td>\n",
              "      <td>CONTROLE DE ZOONOSES</td>\n",
              "      <td>PAÇO</td>\n",
              "      <td>COORDENADOR CONTROLE DE ZOONOSES</td>\n",
              "      <td>ATIVO</td>\n",
              "      <td>16615.94</td>\n",
              "      <td>11074.39</td>\n",
              "      <td>5541.55</td>\n",
              "    </tr>\n",
              "    <tr>\n",
              "      <th>1263</th>\n",
              "      <td>11803</td>\n",
              "      <td>ESTATUTÁRIO</td>\n",
              "      <td>UPA CENTRAL</td>\n",
              "      <td>PAÇO</td>\n",
              "      <td>MEDICO PLANTONISTA</td>\n",
              "      <td>ATIVO</td>\n",
              "      <td>16612.39</td>\n",
              "      <td>11072.10</td>\n",
              "      <td>5540.29</td>\n",
              "    </tr>\n",
              "    <tr>\n",
              "      <th>520</th>\n",
              "      <td>14147</td>\n",
              "      <td>ESTATUTÁRIO</td>\n",
              "      <td>UPA CENTRAL</td>\n",
              "      <td>PAÇO</td>\n",
              "      <td>MEDICO PLANTONISTA</td>\n",
              "      <td>ATIVO</td>\n",
              "      <td>15335.00</td>\n",
              "      <td>10866.54</td>\n",
              "      <td>4468.46</td>\n",
              "    </tr>\n",
              "    <tr>\n",
              "      <th>1116</th>\n",
              "      <td>12140</td>\n",
              "      <td>CARGO EM COMISSÃO</td>\n",
              "      <td>UPA CENTRAL</td>\n",
              "      <td>PAÇO</td>\n",
              "      <td>DIRETOR DE DEP MED DE URGENCIA E</td>\n",
              "      <td>ATIVO</td>\n",
              "      <td>15445.86</td>\n",
              "      <td>10833.80</td>\n",
              "      <td>4612.06</td>\n",
              "    </tr>\n",
              "    <tr>\n",
              "      <th>815</th>\n",
              "      <td>10222</td>\n",
              "      <td>ESTATUTÁRIO</td>\n",
              "      <td>UBS JARDIM ARCHILA</td>\n",
              "      <td>PAÇO</td>\n",
              "      <td>CIRURGIAO DENTISTA</td>\n",
              "      <td>ATIVO</td>\n",
              "      <td>15088.75</td>\n",
              "      <td>10585.33</td>\n",
              "      <td>4503.42</td>\n",
              "    </tr>\n",
              "    <tr>\n",
              "      <th>2039</th>\n",
              "      <td>10630</td>\n",
              "      <td>ESTATUTÁRIO</td>\n",
              "      <td>SECRETARIA DE NEGOCIOS JURIDICOS</td>\n",
              "      <td>PAÇO</td>\n",
              "      <td>OFICIAL ADMINISTRATIVO</td>\n",
              "      <td>ATIVO</td>\n",
              "      <td>15036.60</td>\n",
              "      <td>10565.89</td>\n",
              "      <td>4470.71</td>\n",
              "    </tr>\n",
              "    <tr>\n",
              "      <th>283</th>\n",
              "      <td>10220</td>\n",
              "      <td>ESTATUTÁRIO</td>\n",
              "      <td>PLANEJAMENTO E DESENVOLVIMENTO</td>\n",
              "      <td>PAÇO</td>\n",
              "      <td>ARQUITETO</td>\n",
              "      <td>ATIVO</td>\n",
              "      <td>15710.97</td>\n",
              "      <td>10472.40</td>\n",
              "      <td>5238.57</td>\n",
              "    </tr>\n",
              "  </tbody>\n",
              "</table>\n",
              "</div>"
            ],
            "text/plain": [
              "     matricula    tipo_de_vinculo  ...   liquido      dif\n",
              "524      12338        ESTATUTÁRIO  ...  12116.10  5074.64\n",
              "1870     13598        ESTATUTÁRIO  ...  11850.49  5219.44\n",
              "817      14158        ESTATUTÁRIO  ...  11801.48  5063.27\n",
              "1343     11621        ESTATUTÁRIO  ...  11786.04  5135.59\n",
              "1528     11692        ESTATUTÁRIO  ...  11756.04  5119.10\n",
              "883      11791        ESTATUTÁRIO  ...  11527.98  4993.71\n",
              "2445     12349  CARGO EM COMISSÃO  ...  11445.28  5745.46\n",
              "436      11505        ESTATUTÁRIO  ...  11398.34  4922.44\n",
              "391      12353        ESTATUTÁRIO  ...  11376.57  5707.70\n",
              "824      13984        ESTATUTÁRIO  ...  11304.02  5667.81\n",
              "400      10306  CARGO EM COMISSÃO  ...  11303.25  4870.16\n",
              "362      14151        ESTATUTÁRIO  ...  11181.48  5543.85\n",
              "552      11482        ESTATUTÁRIO  ...  11086.50  4750.99\n",
              "1294     10048  CARGO EM COMISSÃO  ...  11074.39  5541.55\n",
              "1263     11803        ESTATUTÁRIO  ...  11072.10  5540.29\n",
              "520      14147        ESTATUTÁRIO  ...  10866.54  4468.46\n",
              "1116     12140  CARGO EM COMISSÃO  ...  10833.80  4612.06\n",
              "815      10222        ESTATUTÁRIO  ...  10585.33  4503.42\n",
              "2039     10630        ESTATUTÁRIO  ...  10565.89  4470.71\n",
              "283      10220        ESTATUTÁRIO  ...  10472.40  5238.57\n",
              "\n",
              "[20 rows x 9 columns]"
            ]
          },
          "metadata": {
            "tags": []
          },
          "execution_count": 90
        }
      ]
    },
    {
      "cell_type": "code",
      "metadata": {
        "id": "miNzfOwSWWui",
        "colab_type": "code",
        "outputId": "c59d16a8-ff03-4208-d46e-09d72bc13f5c",
        "colab": {
          "base_uri": "https://localhost:8080/",
          "height": 173
        }
      },
      "source": [
        "comissao = df_df2.loc[(df_df2['liquido'] > 10000) & (df_df2['liquido'] < df_df2['liquido'].max()) & (df_df2['tipo_de_vinculo'] == 'CARGO EM COMISSÃO')]\n",
        "comissao.sort_values('liquido', ascending = False)[:20]"
      ],
      "execution_count": 91,
      "outputs": [
        {
          "output_type": "execute_result",
          "data": {
            "text/html": [
              "<div>\n",
              "<style scoped>\n",
              "    .dataframe tbody tr th:only-of-type {\n",
              "        vertical-align: middle;\n",
              "    }\n",
              "\n",
              "    .dataframe tbody tr th {\n",
              "        vertical-align: top;\n",
              "    }\n",
              "\n",
              "    .dataframe thead th {\n",
              "        text-align: right;\n",
              "    }\n",
              "</style>\n",
              "<table border=\"1\" class=\"dataframe\">\n",
              "  <thead>\n",
              "    <tr style=\"text-align: right;\">\n",
              "      <th></th>\n",
              "      <th>matricula</th>\n",
              "      <th>tipo_de_vinculo</th>\n",
              "      <th>lotacao</th>\n",
              "      <th>local_de_trabalho</th>\n",
              "      <th>cargo</th>\n",
              "      <th>situacao</th>\n",
              "      <th>vecto_mes</th>\n",
              "      <th>liquido</th>\n",
              "      <th>dif</th>\n",
              "    </tr>\n",
              "  </thead>\n",
              "  <tbody>\n",
              "    <tr>\n",
              "      <th>2445</th>\n",
              "      <td>12349</td>\n",
              "      <td>CARGO EM COMISSÃO</td>\n",
              "      <td>DEPTO TRIBUTACAO RECEITA E FISCALIZACAO</td>\n",
              "      <td>PAÇO</td>\n",
              "      <td>JULGADOR TRIBUTARIO SECR, FINANCAS</td>\n",
              "      <td>ATIVO</td>\n",
              "      <td>17190.74</td>\n",
              "      <td>11445.28</td>\n",
              "      <td>5745.46</td>\n",
              "    </tr>\n",
              "    <tr>\n",
              "      <th>400</th>\n",
              "      <td>10306</td>\n",
              "      <td>CARGO EM COMISSÃO</td>\n",
              "      <td>SECRETARIA DE SAUDE</td>\n",
              "      <td>PAÇO</td>\n",
              "      <td>DIRETOR DEPTO MEDICINA</td>\n",
              "      <td>ATIVO</td>\n",
              "      <td>16173.41</td>\n",
              "      <td>11303.25</td>\n",
              "      <td>4870.16</td>\n",
              "    </tr>\n",
              "    <tr>\n",
              "      <th>1294</th>\n",
              "      <td>10048</td>\n",
              "      <td>CARGO EM COMISSÃO</td>\n",
              "      <td>CONTROLE DE ZOONOSES</td>\n",
              "      <td>PAÇO</td>\n",
              "      <td>COORDENADOR CONTROLE DE ZOONOSES</td>\n",
              "      <td>ATIVO</td>\n",
              "      <td>16615.94</td>\n",
              "      <td>11074.39</td>\n",
              "      <td>5541.55</td>\n",
              "    </tr>\n",
              "    <tr>\n",
              "      <th>1116</th>\n",
              "      <td>12140</td>\n",
              "      <td>CARGO EM COMISSÃO</td>\n",
              "      <td>UPA CENTRAL</td>\n",
              "      <td>PAÇO</td>\n",
              "      <td>DIRETOR DE DEP MED DE URGENCIA E</td>\n",
              "      <td>ATIVO</td>\n",
              "      <td>15445.86</td>\n",
              "      <td>10833.80</td>\n",
              "      <td>4612.06</td>\n",
              "    </tr>\n",
              "  </tbody>\n",
              "</table>\n",
              "</div>"
            ],
            "text/plain": [
              "     matricula    tipo_de_vinculo  ...   liquido      dif\n",
              "2445     12349  CARGO EM COMISSÃO  ...  11445.28  5745.46\n",
              "400      10306  CARGO EM COMISSÃO  ...  11303.25  4870.16\n",
              "1294     10048  CARGO EM COMISSÃO  ...  11074.39  5541.55\n",
              "1116     12140  CARGO EM COMISSÃO  ...  10833.80  4612.06\n",
              "\n",
              "[4 rows x 9 columns]"
            ]
          },
          "metadata": {
            "tags": []
          },
          "execution_count": 91
        }
      ]
    },
    {
      "cell_type": "code",
      "metadata": {
        "id": "ZXl64Cx7FP90",
        "colab_type": "code",
        "outputId": "49ad9160-06ec-4c12-cfa1-83395a1d933c",
        "colab": {
          "base_uri": "https://localhost:8080/",
          "height": 285
        }
      },
      "source": [
        "paco = df_df2[df_df2['local_de_trabalho'] == 'PAÇO']\n",
        "paco.groupby(u'tipo_de_vinculo')['local_de_trabalho'].value_counts().plot.barh()"
      ],
      "execution_count": 92,
      "outputs": [
        {
          "output_type": "execute_result",
          "data": {
            "text/plain": [
              "<matplotlib.axes._subplots.AxesSubplot at 0x7f74e0801fd0>"
            ]
          },
          "metadata": {
            "tags": []
          },
          "execution_count": 92
        },
        {
          "output_type": "display_data",
          "data": {
            "image/png": "[encoded data removed]",
            "text/plain": [
              "<Figure size 432x288 with 1 Axes>"
            ]
          },
          "metadata": {
            "tags": []
          }
        }
      ]
    },
    {
      "cell_type": "code",
      "metadata": {
        "id": "07yjtYyrE538",
        "colab_type": "code",
        "outputId": "d6ff5de0-c8bc-44ee-b1db-b7ea50f504c3",
        "colab": {
          "base_uri": "https://localhost:8080/",
          "height": 238
        }
      },
      "source": [
        "df_df2.groupby('tipo_de_vinculo')[u'local_de_trabalho'].value_counts()"
      ],
      "execution_count": 94,
      "outputs": [
        {
          "output_type": "execute_result",
          "data": {
            "text/plain": [
              "tipo_de_vinculo    local_de_trabalho                     \n",
              "AGENTE POLÍTICO    PAÇO                                       2\n",
              "CARGO EM COMISSÃO  PAÇO                                      89\n",
              "                   SECRETARIA DE SAUDE                       25\n",
              "                   GABINETE                                  16\n",
              "                   SERVICOS PUBLICOS                         15\n",
              "                                                             ..\n",
              "TEMPORÁRIO         EMEIEF CELIA PIERONI                       1\n",
              "                   EMEIEF IZABEL FERNANDES PEDROSO            1\n",
              "                   EMEIEF LUCINDA RODRIG. PEREIRA IGNACIO     1\n",
              "                   PSF PROMORAR                               1\n",
              "                   UNIDADE DE PRONTO ATENDIMENTO              1\n",
              "Name: local_de_trabalho, Length: 184, dtype: int64"
            ]
          },
          "metadata": {
            "tags": []
          },
          "execution_count": 94
        }
      ]
    },
    {
      "cell_type": "code",
      "metadata": {
        "id": "VafOWYlPEkL1",
        "colab_type": "code",
        "outputId": "d1f384ed-e2f0-46a1-c151-1367adcc940c",
        "colab": {
          "base_uri": "https://localhost:8080/",
          "height": 238
        }
      },
      "source": [
        "df_df2.groupby('tipo_de_vinculo')[u'cargo'].value_counts()"
      ],
      "execution_count": 93,
      "outputs": [
        {
          "output_type": "execute_result",
          "data": {
            "text/plain": [
              "tipo_de_vinculo    cargo                               \n",
              "AGENTE POLÍTICO    PREFEITO                                 1\n",
              "                   VICE PREFEITO                            1\n",
              "CARGO EM COMISSÃO  COORDENADOR DE SERVICO DA SAUDE SESA    15\n",
              "                   ASSESSOR I                              11\n",
              "                   ASSESSOR III                             9\n",
              "                                                           ..\n",
              "TEMPORÁRIO         PEB I CONTRATO                          47\n",
              "                   AGENTE COMUNITARIO DE SAUDE             14\n",
              "                   PEB II CONTRATO                          9\n",
              "                   AUX, DE ENFERMAGEM PLANTONISTA           2\n",
              "                   ENFERMEIRO PLANTONISTA                   1\n",
              "Name: cargo, Length: 265, dtype: int64"
            ]
          },
          "metadata": {
            "tags": []
          },
          "execution_count": 93
        }
      ]
    },
    {
      "cell_type": "code",
      "metadata": {
        "id": "iriEZjRhEwpT",
        "colab_type": "code",
        "outputId": "01bfb05e-419a-46db-cfb2-fe31cecff401",
        "colab": {
          "base_uri": "https://localhost:8080/",
          "height": 170
        }
      },
      "source": [
        "df_df2.groupby('tipo_de_vinculo')[u'situacao'].value_counts()"
      ],
      "execution_count": 96,
      "outputs": [
        {
          "output_type": "execute_result",
          "data": {
            "text/plain": [
              "tipo_de_vinculo    situacao \n",
              "AGENTE POLÍTICO    ATIVO           2\n",
              "CARGO EM COMISSÃO  ATIVO         197\n",
              "ESTAGIÁRIO         ATIVO         193\n",
              "                   DESLIGADO       1\n",
              "ESTATUTÁRIO        ATIVO        2017\n",
              "TEMPORÁRIO         ATIVO          71\n",
              "                   DESLIGADO       2\n",
              "Name: situacao, dtype: int64"
            ]
          },
          "metadata": {
            "tags": []
          },
          "execution_count": 96
        }
      ]
    },
    {
      "cell_type": "markdown",
      "metadata": {
        "id": "2zhgzUsiCkjy",
        "colab_type": "text"
      },
      "source": [
        "#### Agrupar nossa Base de Dados por Departamento e somando os valores resultados das colunas"
      ]
    },
    {
      "cell_type": "code",
      "metadata": {
        "id": "2cXXCOOVnrsD",
        "colab_type": "code",
        "outputId": "96f2f794-0873-4856-afa3-4598ea0c4edd",
        "colab": {
          "base_uri": "https://localhost:8080/",
          "height": 450
        }
      },
      "source": [
        "df_df2.groupby(by = 'local_de_trabalho').sum()"
      ],
      "execution_count": 95,
      "outputs": [
        {
          "output_type": "execute_result",
          "data": {
            "text/html": [
              "<div>\n",
              "<style scoped>\n",
              "    .dataframe tbody tr th:only-of-type {\n",
              "        vertical-align: middle;\n",
              "    }\n",
              "\n",
              "    .dataframe tbody tr th {\n",
              "        vertical-align: top;\n",
              "    }\n",
              "\n",
              "    .dataframe thead th {\n",
              "        text-align: right;\n",
              "    }\n",
              "</style>\n",
              "<table border=\"1\" class=\"dataframe\">\n",
              "  <thead>\n",
              "    <tr style=\"text-align: right;\">\n",
              "      <th></th>\n",
              "      <th>vecto_mes</th>\n",
              "      <th>liquido</th>\n",
              "      <th>dif</th>\n",
              "    </tr>\n",
              "    <tr>\n",
              "      <th>local_de_trabalho</th>\n",
              "      <th></th>\n",
              "      <th></th>\n",
              "      <th></th>\n",
              "    </tr>\n",
              "  </thead>\n",
              "  <tbody>\n",
              "    <tr>\n",
              "      <th>2 DP</th>\n",
              "      <td>981.11</td>\n",
              "      <td>981.11</td>\n",
              "      <td>0.00</td>\n",
              "    </tr>\n",
              "    <tr>\n",
              "      <th>ALMOXARIFADO DA SAUDE</th>\n",
              "      <td>13771.42</td>\n",
              "      <td>10081.17</td>\n",
              "      <td>3690.25</td>\n",
              "    </tr>\n",
              "    <tr>\n",
              "      <th>AMBULANCIA</th>\n",
              "      <td>66079.04</td>\n",
              "      <td>42684.37</td>\n",
              "      <td>23394.67</td>\n",
              "    </tr>\n",
              "    <tr>\n",
              "      <th>CAPS AD</th>\n",
              "      <td>3331.72</td>\n",
              "      <td>2562.98</td>\n",
              "      <td>768.74</td>\n",
              "    </tr>\n",
              "    <tr>\n",
              "      <th>CARTORIO ELEITORAL</th>\n",
              "      <td>2406.65</td>\n",
              "      <td>1330.57</td>\n",
              "      <td>1076.08</td>\n",
              "    </tr>\n",
              "    <tr>\n",
              "      <th>...</th>\n",
              "      <td>...</td>\n",
              "      <td>...</td>\n",
              "      <td>...</td>\n",
              "    </tr>\n",
              "    <tr>\n",
              "      <th>UBS PQ BELA VISTA</th>\n",
              "      <td>6161.65</td>\n",
              "      <td>4875.88</td>\n",
              "      <td>1285.77</td>\n",
              "    </tr>\n",
              "    <tr>\n",
              "      <th>UBS VILA NOVA</th>\n",
              "      <td>5851.46</td>\n",
              "      <td>4663.91</td>\n",
              "      <td>1187.55</td>\n",
              "    </tr>\n",
              "    <tr>\n",
              "      <th>UNIDADE DE PRONTO ATENDIMENTO</th>\n",
              "      <td>19408.68</td>\n",
              "      <td>14573.15</td>\n",
              "      <td>4835.53</td>\n",
              "    </tr>\n",
              "    <tr>\n",
              "      <th>VIGILANCIA EPIDEMIOLOGICA</th>\n",
              "      <td>3633.12</td>\n",
              "      <td>2740.08</td>\n",
              "      <td>893.04</td>\n",
              "    </tr>\n",
              "    <tr>\n",
              "      <th>ZOONOSES</th>\n",
              "      <td>15562.10</td>\n",
              "      <td>10719.78</td>\n",
              "      <td>4842.32</td>\n",
              "    </tr>\n",
              "  </tbody>\n",
              "</table>\n",
              "<p>95 rows × 3 columns</p>\n",
              "</div>"
            ],
            "text/plain": [
              "                               vecto_mes   liquido       dif\n",
              "local_de_trabalho                                           \n",
              "2 DP                              981.11    981.11      0.00\n",
              "ALMOXARIFADO DA SAUDE           13771.42  10081.17   3690.25\n",
              "AMBULANCIA                      66079.04  42684.37  23394.67\n",
              "CAPS AD                          3331.72   2562.98    768.74\n",
              "CARTORIO ELEITORAL               2406.65   1330.57   1076.08\n",
              "...                                  ...       ...       ...\n",
              "UBS PQ BELA VISTA                6161.65   4875.88   1285.77\n",
              "UBS VILA NOVA                    5851.46   4663.91   1187.55\n",
              "UNIDADE DE PRONTO ATENDIMENTO   19408.68  14573.15   4835.53\n",
              "VIGILANCIA EPIDEMIOLOGICA        3633.12   2740.08    893.04\n",
              "ZOONOSES                        15562.10  10719.78   4842.32\n",
              "\n",
              "[95 rows x 3 columns]"
            ]
          },
          "metadata": {
            "tags": []
          },
          "execution_count": 95
        }
      ]
    },
    {
      "cell_type": "code",
      "metadata": {
        "id": "3aHkdVkYnrsI",
        "colab_type": "code",
        "outputId": "60856970-a949-4887-c78b-30b570848c39",
        "colab": {
          "base_uri": "https://localhost:8080/",
          "height": 450
        }
      },
      "source": [
        "# agrupar nosso DataFrame por Genero para saber a número total das variáveis\n",
        "df_df2.groupby(by = 'lotacao').sum()"
      ],
      "execution_count": 97,
      "outputs": [
        {
          "output_type": "execute_result",
          "data": {
            "text/html": [
              "<div>\n",
              "<style scoped>\n",
              "    .dataframe tbody tr th:only-of-type {\n",
              "        vertical-align: middle;\n",
              "    }\n",
              "\n",
              "    .dataframe tbody tr th {\n",
              "        vertical-align: top;\n",
              "    }\n",
              "\n",
              "    .dataframe thead th {\n",
              "        text-align: right;\n",
              "    }\n",
              "</style>\n",
              "<table border=\"1\" class=\"dataframe\">\n",
              "  <thead>\n",
              "    <tr style=\"text-align: right;\">\n",
              "      <th></th>\n",
              "      <th>vecto_mes</th>\n",
              "      <th>liquido</th>\n",
              "      <th>dif</th>\n",
              "    </tr>\n",
              "    <tr>\n",
              "      <th>lotacao</th>\n",
              "      <th></th>\n",
              "      <th></th>\n",
              "      <th></th>\n",
              "    </tr>\n",
              "  </thead>\n",
              "  <tbody>\n",
              "    <tr>\n",
              "      <th>A IDENTIFICAR</th>\n",
              "      <td>3147.87</td>\n",
              "      <td>1404.00</td>\n",
              "      <td>1743.87</td>\n",
              "    </tr>\n",
              "    <tr>\n",
              "      <th>ALMOXARIFADO SESA</th>\n",
              "      <td>14359.30</td>\n",
              "      <td>10340.64</td>\n",
              "      <td>4018.66</td>\n",
              "    </tr>\n",
              "    <tr>\n",
              "      <th>AMBULANCIA</th>\n",
              "      <td>104389.20</td>\n",
              "      <td>68075.28</td>\n",
              "      <td>36313.92</td>\n",
              "    </tr>\n",
              "    <tr>\n",
              "      <th>AMBULATORIO DE ESPECIALIDADES MEDICAS (ANT CS HEITOR AVINO)</th>\n",
              "      <td>167688.79</td>\n",
              "      <td>118886.78</td>\n",
              "      <td>48802.01</td>\n",
              "    </tr>\n",
              "    <tr>\n",
              "      <th>AMBULATORIO DE SAUDE DA MULHER E DA CRIANÇA</th>\n",
              "      <td>73683.19</td>\n",
              "      <td>52675.51</td>\n",
              "      <td>21007.68</td>\n",
              "    </tr>\n",
              "    <tr>\n",
              "      <th>...</th>\n",
              "      <td>...</td>\n",
              "      <td>...</td>\n",
              "      <td>...</td>\n",
              "    </tr>\n",
              "    <tr>\n",
              "      <th>UBS PARQUE BELA VISTA</th>\n",
              "      <td>149765.07</td>\n",
              "      <td>107484.38</td>\n",
              "      <td>42280.69</td>\n",
              "    </tr>\n",
              "    <tr>\n",
              "      <th>UBS RIO ACIMA</th>\n",
              "      <td>110446.38</td>\n",
              "      <td>78127.07</td>\n",
              "      <td>32319.31</td>\n",
              "    </tr>\n",
              "    <tr>\n",
              "      <th>UBS VILA GARCIA</th>\n",
              "      <td>130023.10</td>\n",
              "      <td>90042.22</td>\n",
              "      <td>39980.88</td>\n",
              "    </tr>\n",
              "    <tr>\n",
              "      <th>UBS VILA NOVA</th>\n",
              "      <td>160191.53</td>\n",
              "      <td>111792.16</td>\n",
              "      <td>48399.37</td>\n",
              "    </tr>\n",
              "    <tr>\n",
              "      <th>UPA CENTRAL</th>\n",
              "      <td>855732.65</td>\n",
              "      <td>559071.85</td>\n",
              "      <td>296660.80</td>\n",
              "    </tr>\n",
              "  </tbody>\n",
              "</table>\n",
              "<p>177 rows × 3 columns</p>\n",
              "</div>"
            ],
            "text/plain": [
              "                                                    vecto_mes  ...        dif\n",
              "lotacao                                                        ...           \n",
              "A IDENTIFICAR                                         3147.87  ...    1743.87\n",
              "ALMOXARIFADO SESA                                    14359.30  ...    4018.66\n",
              "AMBULANCIA                                          104389.20  ...   36313.92\n",
              "AMBULATORIO DE ESPECIALIDADES MEDICAS (ANT CS H...  167688.79  ...   48802.01\n",
              "AMBULATORIO DE SAUDE DA MULHER E DA CRIANÇA          73683.19  ...   21007.68\n",
              "...                                                       ...  ...        ...\n",
              "UBS PARQUE BELA VISTA                               149765.07  ...   42280.69\n",
              "UBS RIO ACIMA                                       110446.38  ...   32319.31\n",
              "UBS VILA GARCIA                                     130023.10  ...   39980.88\n",
              "UBS VILA NOVA                                       160191.53  ...   48399.37\n",
              "UPA CENTRAL                                         855732.65  ...  296660.80\n",
              "\n",
              "[177 rows x 3 columns]"
            ]
          },
          "metadata": {
            "tags": []
          },
          "execution_count": 97
        }
      ]
    },
    {
      "cell_type": "code",
      "metadata": {
        "id": "fE_csD-knrsK",
        "colab_type": "code",
        "outputId": "d493fc02-424f-42ff-9e14-6f19c7c620a0",
        "colab": {
          "base_uri": "https://localhost:8080/",
          "height": 450
        }
      },
      "source": [
        "# agrupar nosso DataFrame por Genero para saber a número total das variáveis\n",
        "df_df2.groupby(by = 'cargo').sum()"
      ],
      "execution_count": 98,
      "outputs": [
        {
          "output_type": "execute_result",
          "data": {
            "text/html": [
              "<div>\n",
              "<style scoped>\n",
              "    .dataframe tbody tr th:only-of-type {\n",
              "        vertical-align: middle;\n",
              "    }\n",
              "\n",
              "    .dataframe tbody tr th {\n",
              "        vertical-align: top;\n",
              "    }\n",
              "\n",
              "    .dataframe thead th {\n",
              "        text-align: right;\n",
              "    }\n",
              "</style>\n",
              "<table border=\"1\" class=\"dataframe\">\n",
              "  <thead>\n",
              "    <tr style=\"text-align: right;\">\n",
              "      <th></th>\n",
              "      <th>vecto_mes</th>\n",
              "      <th>liquido</th>\n",
              "      <th>dif</th>\n",
              "    </tr>\n",
              "    <tr>\n",
              "      <th>cargo</th>\n",
              "      <th></th>\n",
              "      <th></th>\n",
              "      <th></th>\n",
              "    </tr>\n",
              "  </thead>\n",
              "  <tbody>\n",
              "    <tr>\n",
              "      <th>AGENTE COMUNITARIO DE SAUDE</th>\n",
              "      <td>20535.20</td>\n",
              "      <td>18778.15</td>\n",
              "      <td>1757.05</td>\n",
              "    </tr>\n",
              "    <tr>\n",
              "      <th>AGENTE DE APOIO OPERACIONAL E CONSERVACAO</th>\n",
              "      <td>54133.98</td>\n",
              "      <td>35631.54</td>\n",
              "      <td>18502.44</td>\n",
              "    </tr>\n",
              "    <tr>\n",
              "      <th>AGENTE DE CONTROLE DE ENDEMIAS</th>\n",
              "      <td>7830.28</td>\n",
              "      <td>5801.11</td>\n",
              "      <td>2029.17</td>\n",
              "    </tr>\n",
              "    <tr>\n",
              "      <th>AGENTE FAZENDARIO</th>\n",
              "      <td>59449.94</td>\n",
              "      <td>38125.79</td>\n",
              "      <td>21324.15</td>\n",
              "    </tr>\n",
              "    <tr>\n",
              "      <th>AJUDANDE DE MANUTENCAO DE AUTOS</th>\n",
              "      <td>6966.48</td>\n",
              "      <td>4099.36</td>\n",
              "      <td>2867.12</td>\n",
              "    </tr>\n",
              "    <tr>\n",
              "      <th>...</th>\n",
              "      <td>...</td>\n",
              "      <td>...</td>\n",
              "      <td>...</td>\n",
              "    </tr>\n",
              "    <tr>\n",
              "      <th>TECNICO EM INFORMATICA</th>\n",
              "      <td>4848.59</td>\n",
              "      <td>3568.94</td>\n",
              "      <td>1279.65</td>\n",
              "    </tr>\n",
              "    <tr>\n",
              "      <th>TECNICO QUIMICO</th>\n",
              "      <td>9110.09</td>\n",
              "      <td>5640.31</td>\n",
              "      <td>3469.78</td>\n",
              "    </tr>\n",
              "    <tr>\n",
              "      <th>TELEFONISTA</th>\n",
              "      <td>13651.81</td>\n",
              "      <td>10512.44</td>\n",
              "      <td>3139.37</td>\n",
              "    </tr>\n",
              "    <tr>\n",
              "      <th>TERAPEUTA OCUPACIONAL</th>\n",
              "      <td>5175.04</td>\n",
              "      <td>3368.43</td>\n",
              "      <td>1806.61</td>\n",
              "    </tr>\n",
              "    <tr>\n",
              "      <th>VICE PREFEITO</th>\n",
              "      <td>8197.45</td>\n",
              "      <td>5832.41</td>\n",
              "      <td>2365.04</td>\n",
              "    </tr>\n",
              "  </tbody>\n",
              "</table>\n",
              "<p>260 rows × 3 columns</p>\n",
              "</div>"
            ],
            "text/plain": [
              "                                           vecto_mes   liquido       dif\n",
              "cargo                                                                   \n",
              "AGENTE COMUNITARIO DE SAUDE                 20535.20  18778.15   1757.05\n",
              "AGENTE DE APOIO OPERACIONAL E CONSERVACAO   54133.98  35631.54  18502.44\n",
              "AGENTE DE CONTROLE DE ENDEMIAS               7830.28   5801.11   2029.17\n",
              "AGENTE FAZENDARIO                           59449.94  38125.79  21324.15\n",
              "AJUDANDE DE MANUTENCAO DE AUTOS              6966.48   4099.36   2867.12\n",
              "...                                              ...       ...       ...\n",
              "TECNICO EM INFORMATICA                       4848.59   3568.94   1279.65\n",
              "TECNICO QUIMICO                              9110.09   5640.31   3469.78\n",
              "TELEFONISTA                                 13651.81  10512.44   3139.37\n",
              "TERAPEUTA OCUPACIONAL                        5175.04   3368.43   1806.61\n",
              "VICE PREFEITO                                8197.45   5832.41   2365.04\n",
              "\n",
              "[260 rows x 3 columns]"
            ]
          },
          "metadata": {
            "tags": []
          },
          "execution_count": 98
        }
      ]
    },
    {
      "cell_type": "code",
      "metadata": {
        "id": "92_ll-U_nrsM",
        "colab_type": "code",
        "outputId": "af9651b5-19e0-4e01-e3c8-6211538f740c",
        "colab": {
          "base_uri": "https://localhost:8080/",
          "height": 235
        }
      },
      "source": [
        "# agrupar nosso DataFrame por Genero para saber a número total das variáveis\n",
        "df_df2.groupby(by = 'tipo_de_vinculo').sum()"
      ],
      "execution_count": 99,
      "outputs": [
        {
          "output_type": "execute_result",
          "data": {
            "text/html": [
              "<div>\n",
              "<style scoped>\n",
              "    .dataframe tbody tr th:only-of-type {\n",
              "        vertical-align: middle;\n",
              "    }\n",
              "\n",
              "    .dataframe tbody tr th {\n",
              "        vertical-align: top;\n",
              "    }\n",
              "\n",
              "    .dataframe thead th {\n",
              "        text-align: right;\n",
              "    }\n",
              "</style>\n",
              "<table border=\"1\" class=\"dataframe\">\n",
              "  <thead>\n",
              "    <tr style=\"text-align: right;\">\n",
              "      <th></th>\n",
              "      <th>vecto_mes</th>\n",
              "      <th>liquido</th>\n",
              "      <th>dif</th>\n",
              "    </tr>\n",
              "    <tr>\n",
              "      <th>tipo_de_vinculo</th>\n",
              "      <th></th>\n",
              "      <th></th>\n",
              "      <th></th>\n",
              "    </tr>\n",
              "  </thead>\n",
              "  <tbody>\n",
              "    <tr>\n",
              "      <th>AGENTE POLÍTICO</th>\n",
              "      <td>25388.19</td>\n",
              "      <td>12752.71</td>\n",
              "      <td>12635.48</td>\n",
              "    </tr>\n",
              "    <tr>\n",
              "      <th>CARGO EM COMISSÃO</th>\n",
              "      <td>1010513.39</td>\n",
              "      <td>693827.89</td>\n",
              "      <td>316685.50</td>\n",
              "    </tr>\n",
              "    <tr>\n",
              "      <th>ESTAGIÁRIO</th>\n",
              "      <td>138629.93</td>\n",
              "      <td>135750.49</td>\n",
              "      <td>2879.44</td>\n",
              "    </tr>\n",
              "    <tr>\n",
              "      <th>ESTATUTÁRIO</th>\n",
              "      <td>7747185.44</td>\n",
              "      <td>5215634.23</td>\n",
              "      <td>2531551.21</td>\n",
              "    </tr>\n",
              "    <tr>\n",
              "      <th>TEMPORÁRIO</th>\n",
              "      <td>160852.33</td>\n",
              "      <td>143835.39</td>\n",
              "      <td>17016.94</td>\n",
              "    </tr>\n",
              "  </tbody>\n",
              "</table>\n",
              "</div>"
            ],
            "text/plain": [
              "                    vecto_mes     liquido         dif\n",
              "tipo_de_vinculo                                      \n",
              "AGENTE POLÍTICO      25388.19    12752.71    12635.48\n",
              "CARGO EM COMISSÃO  1010513.39   693827.89   316685.50\n",
              "ESTAGIÁRIO          138629.93   135750.49     2879.44\n",
              "ESTATUTÁRIO        7747185.44  5215634.23  2531551.21\n",
              "TEMPORÁRIO          160852.33   143835.39    17016.94"
            ]
          },
          "metadata": {
            "tags": []
          },
          "execution_count": 99
        }
      ]
    },
    {
      "cell_type": "code",
      "metadata": {
        "id": "o375rLTfnrsP",
        "colab_type": "code",
        "outputId": "72d5c965-e56b-4506-c905-8bbadf9f7db6",
        "colab": {
          "base_uri": "https://localhost:8080/",
          "height": 68
        }
      },
      "source": [
        "df_df2.situacao.value_counts()"
      ],
      "execution_count": 100,
      "outputs": [
        {
          "output_type": "execute_result",
          "data": {
            "text/plain": [
              "ATIVO        2480\n",
              "DESLIGADO       3\n",
              "Name: situacao, dtype: int64"
            ]
          },
          "metadata": {
            "tags": []
          },
          "execution_count": 100
        }
      ]
    },
    {
      "cell_type": "code",
      "metadata": {
        "id": "SMKvXWbBnrsV",
        "colab_type": "code",
        "outputId": "6ae2ea8f-bc36-4064-a20f-ff7e071eb41a",
        "colab": {
          "base_uri": "https://localhost:8080/",
          "height": 119
        }
      },
      "source": [
        "df_df2.tipo_de_vinculo.value_counts()"
      ],
      "execution_count": 102,
      "outputs": [
        {
          "output_type": "execute_result",
          "data": {
            "text/plain": [
              "ESTATUTÁRIO          2017\n",
              "CARGO EM COMISSÃO     197\n",
              "ESTAGIÁRIO            194\n",
              "TEMPORÁRIO             73\n",
              "AGENTE POLÍTICO         2\n",
              "Name: tipo_de_vinculo, dtype: int64"
            ]
          },
          "metadata": {
            "tags": []
          },
          "execution_count": 102
        }
      ]
    },
    {
      "cell_type": "code",
      "metadata": {
        "id": "9cGhR9V9nrsa",
        "colab_type": "code",
        "outputId": "804fcd57-dbd8-45ee-a9a5-eb65458077e4",
        "colab": {
          "base_uri": "https://localhost:8080/",
          "height": 450
        }
      },
      "source": [
        "df_df2.groupby(['cargo'], sort = False).sum()"
      ],
      "execution_count": 103,
      "outputs": [
        {
          "output_type": "execute_result",
          "data": {
            "text/html": [
              "<div>\n",
              "<style scoped>\n",
              "    .dataframe tbody tr th:only-of-type {\n",
              "        vertical-align: middle;\n",
              "    }\n",
              "\n",
              "    .dataframe tbody tr th {\n",
              "        vertical-align: top;\n",
              "    }\n",
              "\n",
              "    .dataframe thead th {\n",
              "        text-align: right;\n",
              "    }\n",
              "</style>\n",
              "<table border=\"1\" class=\"dataframe\">\n",
              "  <thead>\n",
              "    <tr style=\"text-align: right;\">\n",
              "      <th></th>\n",
              "      <th>vecto_mes</th>\n",
              "      <th>liquido</th>\n",
              "      <th>dif</th>\n",
              "    </tr>\n",
              "    <tr>\n",
              "      <th>cargo</th>\n",
              "      <th></th>\n",
              "      <th></th>\n",
              "      <th></th>\n",
              "    </tr>\n",
              "  </thead>\n",
              "  <tbody>\n",
              "    <tr>\n",
              "      <th>ELETRICISTA</th>\n",
              "      <td>13670.52</td>\n",
              "      <td>9332.98</td>\n",
              "      <td>4337.54</td>\n",
              "    </tr>\n",
              "    <tr>\n",
              "      <th>AGENTE DE APOIO OPERACIONAL E CONSERVACAO</th>\n",
              "      <td>54133.98</td>\n",
              "      <td>35631.54</td>\n",
              "      <td>18502.44</td>\n",
              "    </tr>\n",
              "    <tr>\n",
              "      <th>MOTORISTA</th>\n",
              "      <td>285478.03</td>\n",
              "      <td>188278.19</td>\n",
              "      <td>97199.84</td>\n",
              "    </tr>\n",
              "    <tr>\n",
              "      <th>AUXILIAR DE SERVICOS INFANTIS</th>\n",
              "      <td>563618.85</td>\n",
              "      <td>362067.05</td>\n",
              "      <td>201551.80</td>\n",
              "    </tr>\n",
              "    <tr>\n",
              "      <th>FARMACEUTICO</th>\n",
              "      <td>19089.98</td>\n",
              "      <td>13937.86</td>\n",
              "      <td>5152.12</td>\n",
              "    </tr>\n",
              "    <tr>\n",
              "      <th>...</th>\n",
              "      <td>...</td>\n",
              "      <td>...</td>\n",
              "      <td>...</td>\n",
              "    </tr>\n",
              "    <tr>\n",
              "      <th>DIRETOR DEPARTAMENTO LICITACOES E</th>\n",
              "      <td>7153.20</td>\n",
              "      <td>5073.33</td>\n",
              "      <td>2079.87</td>\n",
              "    </tr>\n",
              "    <tr>\n",
              "      <th>ENCARREGADO CENTRO ESP COMUNITARIO</th>\n",
              "      <td>2882.88</td>\n",
              "      <td>2267.03</td>\n",
              "      <td>615.85</td>\n",
              "    </tr>\n",
              "    <tr>\n",
              "      <th>DIRETOR DE DEPTO DE PLANEJ E CONTROLE</th>\n",
              "      <td>6676.32</td>\n",
              "      <td>3761.27</td>\n",
              "      <td>2915.05</td>\n",
              "    </tr>\n",
              "    <tr>\n",
              "      <th>DIRETOR DEPTO DE PLANEJAMENTO E GESTAO DE</th>\n",
              "      <td>6676.32</td>\n",
              "      <td>5242.00</td>\n",
              "      <td>1434.32</td>\n",
              "    </tr>\n",
              "    <tr>\n",
              "      <th>SUPERVISOR DE GABINETE SEED</th>\n",
              "      <td>2508.75</td>\n",
              "      <td>1802.97</td>\n",
              "      <td>705.78</td>\n",
              "    </tr>\n",
              "  </tbody>\n",
              "</table>\n",
              "<p>260 rows × 3 columns</p>\n",
              "</div>"
            ],
            "text/plain": [
              "                                           vecto_mes    liquido        dif\n",
              "cargo                                                                     \n",
              "ELETRICISTA                                 13670.52    9332.98    4337.54\n",
              "AGENTE DE APOIO OPERACIONAL E CONSERVACAO   54133.98   35631.54   18502.44\n",
              "MOTORISTA                                  285478.03  188278.19   97199.84\n",
              "AUXILIAR DE SERVICOS INFANTIS              563618.85  362067.05  201551.80\n",
              "FARMACEUTICO                                19089.98   13937.86    5152.12\n",
              "...                                              ...        ...        ...\n",
              "DIRETOR DEPARTAMENTO LICITACOES E            7153.20    5073.33    2079.87\n",
              "ENCARREGADO CENTRO ESP COMUNITARIO           2882.88    2267.03     615.85\n",
              "DIRETOR DE DEPTO DE PLANEJ E CONTROLE        6676.32    3761.27    2915.05\n",
              "DIRETOR DEPTO DE PLANEJAMENTO E GESTAO DE    6676.32    5242.00    1434.32\n",
              "SUPERVISOR DE GABINETE SEED                  2508.75    1802.97     705.78\n",
              "\n",
              "[260 rows x 3 columns]"
            ]
          },
          "metadata": {
            "tags": []
          },
          "execution_count": 103
        }
      ]
    },
    {
      "cell_type": "code",
      "metadata": {
        "id": "hKHynYaDnrse",
        "colab_type": "code",
        "outputId": "1447dac5-6902-43dd-e8c1-76b628c54c04",
        "colab": {
          "base_uri": "https://localhost:8080/",
          "height": 142
        }
      },
      "source": [
        "df2.groupby(['situacao'], sort = False).sum()"
      ],
      "execution_count": 104,
      "outputs": [
        {
          "output_type": "execute_result",
          "data": {
            "text/html": [
              "<div>\n",
              "<style scoped>\n",
              "    .dataframe tbody tr th:only-of-type {\n",
              "        vertical-align: middle;\n",
              "    }\n",
              "\n",
              "    .dataframe tbody tr th {\n",
              "        vertical-align: top;\n",
              "    }\n",
              "\n",
              "    .dataframe thead th {\n",
              "        text-align: right;\n",
              "    }\n",
              "</style>\n",
              "<table border=\"1\" class=\"dataframe\">\n",
              "  <thead>\n",
              "    <tr style=\"text-align: right;\">\n",
              "      <th></th>\n",
              "      <th>vecto_mes</th>\n",
              "      <th>liquido</th>\n",
              "    </tr>\n",
              "    <tr>\n",
              "      <th>situacao</th>\n",
              "      <th></th>\n",
              "      <th></th>\n",
              "    </tr>\n",
              "  </thead>\n",
              "  <tbody>\n",
              "    <tr>\n",
              "      <th>ATIVO</th>\n",
              "      <td>9078782.53</td>\n",
              "      <td>6199162.15</td>\n",
              "    </tr>\n",
              "    <tr>\n",
              "      <th>DESLIGADO</th>\n",
              "      <td>196207.26</td>\n",
              "      <td>184425.63</td>\n",
              "    </tr>\n",
              "  </tbody>\n",
              "</table>\n",
              "</div>"
            ],
            "text/plain": [
              "            vecto_mes     liquido\n",
              "situacao                         \n",
              "ATIVO      9078782.53  6199162.15\n",
              "DESLIGADO   196207.26   184425.63"
            ]
          },
          "metadata": {
            "tags": []
          },
          "execution_count": 104
        }
      ]
    },
    {
      "cell_type": "code",
      "metadata": {
        "id": "u8JaQvdOnrsh",
        "colab_type": "code",
        "outputId": "cfc8eb4b-be60-4e67-ea14-d32a8c9cfc8a",
        "colab": {
          "base_uri": "https://localhost:8080/",
          "height": 235
        }
      },
      "source": [
        "df_df2.groupby(['tipo_de_vinculo'], sort = False).sum()"
      ],
      "execution_count": 105,
      "outputs": [
        {
          "output_type": "execute_result",
          "data": {
            "text/html": [
              "<div>\n",
              "<style scoped>\n",
              "    .dataframe tbody tr th:only-of-type {\n",
              "        vertical-align: middle;\n",
              "    }\n",
              "\n",
              "    .dataframe tbody tr th {\n",
              "        vertical-align: top;\n",
              "    }\n",
              "\n",
              "    .dataframe thead th {\n",
              "        text-align: right;\n",
              "    }\n",
              "</style>\n",
              "<table border=\"1\" class=\"dataframe\">\n",
              "  <thead>\n",
              "    <tr style=\"text-align: right;\">\n",
              "      <th></th>\n",
              "      <th>vecto_mes</th>\n",
              "      <th>liquido</th>\n",
              "      <th>dif</th>\n",
              "    </tr>\n",
              "    <tr>\n",
              "      <th>tipo_de_vinculo</th>\n",
              "      <th></th>\n",
              "      <th></th>\n",
              "      <th></th>\n",
              "    </tr>\n",
              "  </thead>\n",
              "  <tbody>\n",
              "    <tr>\n",
              "      <th>ESTATUTÁRIO</th>\n",
              "      <td>7747185.44</td>\n",
              "      <td>5215634.23</td>\n",
              "      <td>2531551.21</td>\n",
              "    </tr>\n",
              "    <tr>\n",
              "      <th>CARGO EM COMISSÃO</th>\n",
              "      <td>1010513.39</td>\n",
              "      <td>693827.89</td>\n",
              "      <td>316685.50</td>\n",
              "    </tr>\n",
              "    <tr>\n",
              "      <th>ESTAGIÁRIO</th>\n",
              "      <td>138629.93</td>\n",
              "      <td>135750.49</td>\n",
              "      <td>2879.44</td>\n",
              "    </tr>\n",
              "    <tr>\n",
              "      <th>AGENTE POLÍTICO</th>\n",
              "      <td>25388.19</td>\n",
              "      <td>12752.71</td>\n",
              "      <td>12635.48</td>\n",
              "    </tr>\n",
              "    <tr>\n",
              "      <th>TEMPORÁRIO</th>\n",
              "      <td>160852.33</td>\n",
              "      <td>143835.39</td>\n",
              "      <td>17016.94</td>\n",
              "    </tr>\n",
              "  </tbody>\n",
              "</table>\n",
              "</div>"
            ],
            "text/plain": [
              "                    vecto_mes     liquido         dif\n",
              "tipo_de_vinculo                                      \n",
              "ESTATUTÁRIO        7747185.44  5215634.23  2531551.21\n",
              "CARGO EM COMISSÃO  1010513.39   693827.89   316685.50\n",
              "ESTAGIÁRIO          138629.93   135750.49     2879.44\n",
              "AGENTE POLÍTICO      25388.19    12752.71    12635.48\n",
              "TEMPORÁRIO          160852.33   143835.39    17016.94"
            ]
          },
          "metadata": {
            "tags": []
          },
          "execution_count": 105
        }
      ]
    },
    {
      "cell_type": "code",
      "metadata": {
        "id": "pZ5OKh9xnrsl",
        "colab_type": "code",
        "outputId": "38ceb628-8947-4827-e3e5-4ed985637e1a",
        "colab": {
          "base_uri": "https://localhost:8080/",
          "height": 450
        }
      },
      "source": [
        "df_df2.groupby(['lotacao'], sort = False).sum()"
      ],
      "execution_count": 106,
      "outputs": [
        {
          "output_type": "execute_result",
          "data": {
            "text/html": [
              "<div>\n",
              "<style scoped>\n",
              "    .dataframe tbody tr th:only-of-type {\n",
              "        vertical-align: middle;\n",
              "    }\n",
              "\n",
              "    .dataframe tbody tr th {\n",
              "        vertical-align: top;\n",
              "    }\n",
              "\n",
              "    .dataframe thead th {\n",
              "        text-align: right;\n",
              "    }\n",
              "</style>\n",
              "<table border=\"1\" class=\"dataframe\">\n",
              "  <thead>\n",
              "    <tr style=\"text-align: right;\">\n",
              "      <th></th>\n",
              "      <th>vecto_mes</th>\n",
              "      <th>liquido</th>\n",
              "      <th>dif</th>\n",
              "    </tr>\n",
              "    <tr>\n",
              "      <th>lotacao</th>\n",
              "      <th></th>\n",
              "      <th></th>\n",
              "      <th></th>\n",
              "    </tr>\n",
              "  </thead>\n",
              "  <tbody>\n",
              "    <tr>\n",
              "      <th>SECRETARIA DE SERVICOS PUBLICOS</th>\n",
              "      <td>345365.90</td>\n",
              "      <td>231590.32</td>\n",
              "      <td>113775.58</td>\n",
              "    </tr>\n",
              "    <tr>\n",
              "      <th>SECRETARIA DE EDUCACAO</th>\n",
              "      <td>226619.41</td>\n",
              "      <td>138440.87</td>\n",
              "      <td>88178.54</td>\n",
              "    </tr>\n",
              "    <tr>\n",
              "      <th>SECAO DE VIGILANCIA</th>\n",
              "      <td>106842.09</td>\n",
              "      <td>68747.98</td>\n",
              "      <td>38094.11</td>\n",
              "    </tr>\n",
              "    <tr>\n",
              "      <th>EMEI CRECHE ALDA LUCHINI VIAL</th>\n",
              "      <td>31523.70</td>\n",
              "      <td>20563.16</td>\n",
              "      <td>10960.54</td>\n",
              "    </tr>\n",
              "    <tr>\n",
              "      <th>UBS VILA NOVA</th>\n",
              "      <td>160191.53</td>\n",
              "      <td>111792.16</td>\n",
              "      <td>48399.37</td>\n",
              "    </tr>\n",
              "    <tr>\n",
              "      <th>...</th>\n",
              "      <td>...</td>\n",
              "      <td>...</td>\n",
              "      <td>...</td>\n",
              "    </tr>\n",
              "    <tr>\n",
              "      <th>DEPTO DE MANUTENCAO</th>\n",
              "      <td>2640.57</td>\n",
              "      <td>1155.44</td>\n",
              "      <td>1485.13</td>\n",
              "    </tr>\n",
              "    <tr>\n",
              "      <th>SECAO DE COMPRAS</th>\n",
              "      <td>2652.62</td>\n",
              "      <td>2105.11</td>\n",
              "      <td>547.51</td>\n",
              "    </tr>\n",
              "    <tr>\n",
              "      <th>SECAO DE PLANIFICACAO PROJ E C</th>\n",
              "      <td>1761.10</td>\n",
              "      <td>1208.44</td>\n",
              "      <td>552.66</td>\n",
              "    </tr>\n",
              "    <tr>\n",
              "      <th>CENTRO DO TRABALHADOR  ITAPEVA</th>\n",
              "      <td>2882.88</td>\n",
              "      <td>2267.03</td>\n",
              "      <td>615.85</td>\n",
              "    </tr>\n",
              "    <tr>\n",
              "      <th>SECAO DE TRANSPORTES  SEED</th>\n",
              "      <td>2405.67</td>\n",
              "      <td>1958.15</td>\n",
              "      <td>447.52</td>\n",
              "    </tr>\n",
              "  </tbody>\n",
              "</table>\n",
              "<p>177 rows × 3 columns</p>\n",
              "</div>"
            ],
            "text/plain": [
              "                                 vecto_mes    liquido        dif\n",
              "lotacao                                                         \n",
              "SECRETARIA DE SERVICOS PUBLICOS  345365.90  231590.32  113775.58\n",
              "SECRETARIA DE EDUCACAO           226619.41  138440.87   88178.54\n",
              "SECAO DE VIGILANCIA              106842.09   68747.98   38094.11\n",
              "EMEI CRECHE ALDA LUCHINI VIAL     31523.70   20563.16   10960.54\n",
              "UBS VILA NOVA                    160191.53  111792.16   48399.37\n",
              "...                                    ...        ...        ...\n",
              "DEPTO DE MANUTENCAO                2640.57    1155.44    1485.13\n",
              "SECAO DE COMPRAS                   2652.62    2105.11     547.51\n",
              "SECAO DE PLANIFICACAO PROJ E C     1761.10    1208.44     552.66\n",
              "CENTRO DO TRABALHADOR  ITAPEVA     2882.88    2267.03     615.85\n",
              "SECAO DE TRANSPORTES  SEED         2405.67    1958.15     447.52\n",
              "\n",
              "[177 rows x 3 columns]"
            ]
          },
          "metadata": {
            "tags": []
          },
          "execution_count": 106
        }
      ]
    },
    {
      "cell_type": "code",
      "metadata": {
        "id": "ZQpwUXVJnrsr",
        "colab_type": "code",
        "outputId": "b739d970-edc4-490b-8425-69cb740fed55",
        "colab": {
          "base_uri": "https://localhost:8080/",
          "height": 450
        }
      },
      "source": [
        "df_df2.groupby(['local_de_trabalho'], sort = False).sum()"
      ],
      "execution_count": 107,
      "outputs": [
        {
          "output_type": "execute_result",
          "data": {
            "text/html": [
              "<div>\n",
              "<style scoped>\n",
              "    .dataframe tbody tr th:only-of-type {\n",
              "        vertical-align: middle;\n",
              "    }\n",
              "\n",
              "    .dataframe tbody tr th {\n",
              "        vertical-align: top;\n",
              "    }\n",
              "\n",
              "    .dataframe thead th {\n",
              "        text-align: right;\n",
              "    }\n",
              "</style>\n",
              "<table border=\"1\" class=\"dataframe\">\n",
              "  <thead>\n",
              "    <tr style=\"text-align: right;\">\n",
              "      <th></th>\n",
              "      <th>vecto_mes</th>\n",
              "      <th>liquido</th>\n",
              "      <th>dif</th>\n",
              "    </tr>\n",
              "    <tr>\n",
              "      <th>local_de_trabalho</th>\n",
              "      <th></th>\n",
              "      <th></th>\n",
              "      <th></th>\n",
              "    </tr>\n",
              "  </thead>\n",
              "  <tbody>\n",
              "    <tr>\n",
              "      <th>SERVICOS PUBLICOS</th>\n",
              "      <td>255124.89</td>\n",
              "      <td>172010.21</td>\n",
              "      <td>83114.68</td>\n",
              "    </tr>\n",
              "    <tr>\n",
              "      <th>SECRETARIA DE EDUCACAO</th>\n",
              "      <td>232612.60</td>\n",
              "      <td>144249.04</td>\n",
              "      <td>88363.56</td>\n",
              "    </tr>\n",
              "    <tr>\n",
              "      <th>PAÇO</th>\n",
              "      <td>4141477.68</td>\n",
              "      <td>2820988.09</td>\n",
              "      <td>1320489.59</td>\n",
              "    </tr>\n",
              "    <tr>\n",
              "      <th>CMEI ALDA LUCHINI VIAL</th>\n",
              "      <td>58584.29</td>\n",
              "      <td>40063.29</td>\n",
              "      <td>18521.00</td>\n",
              "    </tr>\n",
              "    <tr>\n",
              "      <th>ALMOXARIFADO DA SAUDE</th>\n",
              "      <td>13771.42</td>\n",
              "      <td>10081.17</td>\n",
              "      <td>3690.25</td>\n",
              "    </tr>\n",
              "    <tr>\n",
              "      <th>...</th>\n",
              "      <td>...</td>\n",
              "      <td>...</td>\n",
              "      <td>...</td>\n",
              "    </tr>\n",
              "    <tr>\n",
              "      <th>PSF JD TATIANA</th>\n",
              "      <td>6245.15</td>\n",
              "      <td>3809.84</td>\n",
              "      <td>2435.31</td>\n",
              "    </tr>\n",
              "    <tr>\n",
              "      <th>VIGILANCIA EPIDEMIOLOGICA</th>\n",
              "      <td>3633.12</td>\n",
              "      <td>2740.08</td>\n",
              "      <td>893.04</td>\n",
              "    </tr>\n",
              "    <tr>\n",
              "      <th>PSF PROMORAR</th>\n",
              "      <td>1466.80</td>\n",
              "      <td>1292.41</td>\n",
              "      <td>174.39</td>\n",
              "    </tr>\n",
              "    <tr>\n",
              "      <th>LICITACAO</th>\n",
              "      <td>359.74</td>\n",
              "      <td>359.74</td>\n",
              "      <td>0.00</td>\n",
              "    </tr>\n",
              "    <tr>\n",
              "      <th>SECRETARIA DE CULTURA</th>\n",
              "      <td>2219.53</td>\n",
              "      <td>1892.45</td>\n",
              "      <td>327.08</td>\n",
              "    </tr>\n",
              "  </tbody>\n",
              "</table>\n",
              "<p>95 rows × 3 columns</p>\n",
              "</div>"
            ],
            "text/plain": [
              "                            vecto_mes     liquido         dif\n",
              "local_de_trabalho                                            \n",
              "SERVICOS PUBLICOS           255124.89   172010.21    83114.68\n",
              "SECRETARIA DE EDUCACAO      232612.60   144249.04    88363.56\n",
              "PAÇO                       4141477.68  2820988.09  1320489.59\n",
              "CMEI ALDA LUCHINI VIAL       58584.29    40063.29    18521.00\n",
              "ALMOXARIFADO DA SAUDE        13771.42    10081.17     3690.25\n",
              "...                               ...         ...         ...\n",
              "PSF JD TATIANA                6245.15     3809.84     2435.31\n",
              "VIGILANCIA EPIDEMIOLOGICA     3633.12     2740.08      893.04\n",
              "PSF PROMORAR                  1466.80     1292.41      174.39\n",
              "LICITACAO                      359.74      359.74        0.00\n",
              "SECRETARIA DE CULTURA         2219.53     1892.45      327.08\n",
              "\n",
              "[95 rows x 3 columns]"
            ]
          },
          "metadata": {
            "tags": []
          },
          "execution_count": 107
        }
      ]
    },
    {
      "cell_type": "code",
      "metadata": {
        "id": "ZP0a1by_nrst",
        "colab_type": "code",
        "outputId": "77d90d8f-941a-496c-ca3a-8a1357029947",
        "colab": {
          "base_uri": "https://localhost:8080/",
          "height": 450
        }
      },
      "source": [
        "df_df2.groupby(['cargo'], sort = False).sum()"
      ],
      "execution_count": 109,
      "outputs": [
        {
          "output_type": "execute_result",
          "data": {
            "text/html": [
              "<div>\n",
              "<style scoped>\n",
              "    .dataframe tbody tr th:only-of-type {\n",
              "        vertical-align: middle;\n",
              "    }\n",
              "\n",
              "    .dataframe tbody tr th {\n",
              "        vertical-align: top;\n",
              "    }\n",
              "\n",
              "    .dataframe thead th {\n",
              "        text-align: right;\n",
              "    }\n",
              "</style>\n",
              "<table border=\"1\" class=\"dataframe\">\n",
              "  <thead>\n",
              "    <tr style=\"text-align: right;\">\n",
              "      <th></th>\n",
              "      <th>vecto_mes</th>\n",
              "      <th>liquido</th>\n",
              "      <th>dif</th>\n",
              "    </tr>\n",
              "    <tr>\n",
              "      <th>cargo</th>\n",
              "      <th></th>\n",
              "      <th></th>\n",
              "      <th></th>\n",
              "    </tr>\n",
              "  </thead>\n",
              "  <tbody>\n",
              "    <tr>\n",
              "      <th>ELETRICISTA</th>\n",
              "      <td>13670.52</td>\n",
              "      <td>9332.98</td>\n",
              "      <td>4337.54</td>\n",
              "    </tr>\n",
              "    <tr>\n",
              "      <th>AGENTE DE APOIO OPERACIONAL E CONSERVACAO</th>\n",
              "      <td>54133.98</td>\n",
              "      <td>35631.54</td>\n",
              "      <td>18502.44</td>\n",
              "    </tr>\n",
              "    <tr>\n",
              "      <th>MOTORISTA</th>\n",
              "      <td>285478.03</td>\n",
              "      <td>188278.19</td>\n",
              "      <td>97199.84</td>\n",
              "    </tr>\n",
              "    <tr>\n",
              "      <th>AUXILIAR DE SERVICOS INFANTIS</th>\n",
              "      <td>563618.85</td>\n",
              "      <td>362067.05</td>\n",
              "      <td>201551.80</td>\n",
              "    </tr>\n",
              "    <tr>\n",
              "      <th>FARMACEUTICO</th>\n",
              "      <td>19089.98</td>\n",
              "      <td>13937.86</td>\n",
              "      <td>5152.12</td>\n",
              "    </tr>\n",
              "    <tr>\n",
              "      <th>...</th>\n",
              "      <td>...</td>\n",
              "      <td>...</td>\n",
              "      <td>...</td>\n",
              "    </tr>\n",
              "    <tr>\n",
              "      <th>DIRETOR DEPARTAMENTO LICITACOES E</th>\n",
              "      <td>7153.20</td>\n",
              "      <td>5073.33</td>\n",
              "      <td>2079.87</td>\n",
              "    </tr>\n",
              "    <tr>\n",
              "      <th>ENCARREGADO CENTRO ESP COMUNITARIO</th>\n",
              "      <td>2882.88</td>\n",
              "      <td>2267.03</td>\n",
              "      <td>615.85</td>\n",
              "    </tr>\n",
              "    <tr>\n",
              "      <th>DIRETOR DE DEPTO DE PLANEJ E CONTROLE</th>\n",
              "      <td>6676.32</td>\n",
              "      <td>3761.27</td>\n",
              "      <td>2915.05</td>\n",
              "    </tr>\n",
              "    <tr>\n",
              "      <th>DIRETOR DEPTO DE PLANEJAMENTO E GESTAO DE</th>\n",
              "      <td>6676.32</td>\n",
              "      <td>5242.00</td>\n",
              "      <td>1434.32</td>\n",
              "    </tr>\n",
              "    <tr>\n",
              "      <th>SUPERVISOR DE GABINETE SEED</th>\n",
              "      <td>2508.75</td>\n",
              "      <td>1802.97</td>\n",
              "      <td>705.78</td>\n",
              "    </tr>\n",
              "  </tbody>\n",
              "</table>\n",
              "<p>260 rows × 3 columns</p>\n",
              "</div>"
            ],
            "text/plain": [
              "                                           vecto_mes    liquido        dif\n",
              "cargo                                                                     \n",
              "ELETRICISTA                                 13670.52    9332.98    4337.54\n",
              "AGENTE DE APOIO OPERACIONAL E CONSERVACAO   54133.98   35631.54   18502.44\n",
              "MOTORISTA                                  285478.03  188278.19   97199.84\n",
              "AUXILIAR DE SERVICOS INFANTIS              563618.85  362067.05  201551.80\n",
              "FARMACEUTICO                                19089.98   13937.86    5152.12\n",
              "...                                              ...        ...        ...\n",
              "DIRETOR DEPARTAMENTO LICITACOES E            7153.20    5073.33    2079.87\n",
              "ENCARREGADO CENTRO ESP COMUNITARIO           2882.88    2267.03     615.85\n",
              "DIRETOR DE DEPTO DE PLANEJ E CONTROLE        6676.32    3761.27    2915.05\n",
              "DIRETOR DEPTO DE PLANEJAMENTO E GESTAO DE    6676.32    5242.00    1434.32\n",
              "SUPERVISOR DE GABINETE SEED                  2508.75    1802.97     705.78\n",
              "\n",
              "[260 rows x 3 columns]"
            ]
          },
          "metadata": {
            "tags": []
          },
          "execution_count": 109
        }
      ]
    },
    {
      "cell_type": "code",
      "metadata": {
        "id": "nrFaHqnNnrsw",
        "colab_type": "code",
        "outputId": "9643342d-2a91-4888-9d77-15509f3137c0",
        "colab": {
          "base_uri": "https://localhost:8080/",
          "height": 450
        }
      },
      "source": [
        "df_df2.groupby(['cargo'], sort = False).sum()"
      ],
      "execution_count": 110,
      "outputs": [
        {
          "output_type": "execute_result",
          "data": {
            "text/html": [
              "<div>\n",
              "<style scoped>\n",
              "    .dataframe tbody tr th:only-of-type {\n",
              "        vertical-align: middle;\n",
              "    }\n",
              "\n",
              "    .dataframe tbody tr th {\n",
              "        vertical-align: top;\n",
              "    }\n",
              "\n",
              "    .dataframe thead th {\n",
              "        text-align: right;\n",
              "    }\n",
              "</style>\n",
              "<table border=\"1\" class=\"dataframe\">\n",
              "  <thead>\n",
              "    <tr style=\"text-align: right;\">\n",
              "      <th></th>\n",
              "      <th>vecto_mes</th>\n",
              "      <th>liquido</th>\n",
              "      <th>dif</th>\n",
              "    </tr>\n",
              "    <tr>\n",
              "      <th>cargo</th>\n",
              "      <th></th>\n",
              "      <th></th>\n",
              "      <th></th>\n",
              "    </tr>\n",
              "  </thead>\n",
              "  <tbody>\n",
              "    <tr>\n",
              "      <th>ELETRICISTA</th>\n",
              "      <td>13670.52</td>\n",
              "      <td>9332.98</td>\n",
              "      <td>4337.54</td>\n",
              "    </tr>\n",
              "    <tr>\n",
              "      <th>AGENTE DE APOIO OPERACIONAL E CONSERVACAO</th>\n",
              "      <td>54133.98</td>\n",
              "      <td>35631.54</td>\n",
              "      <td>18502.44</td>\n",
              "    </tr>\n",
              "    <tr>\n",
              "      <th>MOTORISTA</th>\n",
              "      <td>285478.03</td>\n",
              "      <td>188278.19</td>\n",
              "      <td>97199.84</td>\n",
              "    </tr>\n",
              "    <tr>\n",
              "      <th>AUXILIAR DE SERVICOS INFANTIS</th>\n",
              "      <td>563618.85</td>\n",
              "      <td>362067.05</td>\n",
              "      <td>201551.80</td>\n",
              "    </tr>\n",
              "    <tr>\n",
              "      <th>FARMACEUTICO</th>\n",
              "      <td>19089.98</td>\n",
              "      <td>13937.86</td>\n",
              "      <td>5152.12</td>\n",
              "    </tr>\n",
              "    <tr>\n",
              "      <th>...</th>\n",
              "      <td>...</td>\n",
              "      <td>...</td>\n",
              "      <td>...</td>\n",
              "    </tr>\n",
              "    <tr>\n",
              "      <th>DIRETOR DEPARTAMENTO LICITACOES E</th>\n",
              "      <td>7153.20</td>\n",
              "      <td>5073.33</td>\n",
              "      <td>2079.87</td>\n",
              "    </tr>\n",
              "    <tr>\n",
              "      <th>ENCARREGADO CENTRO ESP COMUNITARIO</th>\n",
              "      <td>2882.88</td>\n",
              "      <td>2267.03</td>\n",
              "      <td>615.85</td>\n",
              "    </tr>\n",
              "    <tr>\n",
              "      <th>DIRETOR DE DEPTO DE PLANEJ E CONTROLE</th>\n",
              "      <td>6676.32</td>\n",
              "      <td>3761.27</td>\n",
              "      <td>2915.05</td>\n",
              "    </tr>\n",
              "    <tr>\n",
              "      <th>DIRETOR DEPTO DE PLANEJAMENTO E GESTAO DE</th>\n",
              "      <td>6676.32</td>\n",
              "      <td>5242.00</td>\n",
              "      <td>1434.32</td>\n",
              "    </tr>\n",
              "    <tr>\n",
              "      <th>SUPERVISOR DE GABINETE SEED</th>\n",
              "      <td>2508.75</td>\n",
              "      <td>1802.97</td>\n",
              "      <td>705.78</td>\n",
              "    </tr>\n",
              "  </tbody>\n",
              "</table>\n",
              "<p>260 rows × 3 columns</p>\n",
              "</div>"
            ],
            "text/plain": [
              "                                           vecto_mes    liquido        dif\n",
              "cargo                                                                     \n",
              "ELETRICISTA                                 13670.52    9332.98    4337.54\n",
              "AGENTE DE APOIO OPERACIONAL E CONSERVACAO   54133.98   35631.54   18502.44\n",
              "MOTORISTA                                  285478.03  188278.19   97199.84\n",
              "AUXILIAR DE SERVICOS INFANTIS              563618.85  362067.05  201551.80\n",
              "FARMACEUTICO                                19089.98   13937.86    5152.12\n",
              "...                                              ...        ...        ...\n",
              "DIRETOR DEPARTAMENTO LICITACOES E            7153.20    5073.33    2079.87\n",
              "ENCARREGADO CENTRO ESP COMUNITARIO           2882.88    2267.03     615.85\n",
              "DIRETOR DE DEPTO DE PLANEJ E CONTROLE        6676.32    3761.27    2915.05\n",
              "DIRETOR DEPTO DE PLANEJAMENTO E GESTAO DE    6676.32    5242.00    1434.32\n",
              "SUPERVISOR DE GABINETE SEED                  2508.75    1802.97     705.78\n",
              "\n",
              "[260 rows x 3 columns]"
            ]
          },
          "metadata": {
            "tags": []
          },
          "execution_count": 110
        }
      ]
    },
    {
      "cell_type": "code",
      "metadata": {
        "id": "p7TAuGCMnrsy",
        "colab_type": "code",
        "outputId": "a07da33b-873a-4dc8-a111-0732ddb41970",
        "colab": {
          "base_uri": "https://localhost:8080/",
          "height": 238
        }
      },
      "source": [
        "mg = df.query('local_de_trabalho == \"PAÇO\"')\n",
        "agrupado = df2.groupby(['cargo', 'situacao'])\n",
        "agrupado['liquido'].sum().round(2)"
      ],
      "execution_count": 111,
      "outputs": [
        {
          "output_type": "execute_result",
          "data": {
            "text/plain": [
              "cargo                                      situacao \n",
              "AGENTE COMUNITARIO DE SAUDE                ATIVO        18778.15\n",
              "                                           DESLIGADO     4144.91\n",
              "AGENTE DE APOIO OPERACIONAL E CONSERVACAO  ATIVO        35631.54\n",
              "AGENTE DE CONTROLE DE ENDEMIAS             ATIVO         5801.11\n",
              "AGENTE FAZENDARIO                          ATIVO        38125.79\n",
              "                                                          ...   \n",
              "TECNICO EM INFORMATICA                     ATIVO         3568.94\n",
              "TECNICO QUIMICO                            ATIVO         5640.31\n",
              "TELEFONISTA                                ATIVO        10512.44\n",
              "TERAPEUTA OCUPACIONAL                      ATIVO         3368.43\n",
              "VICE PREFEITO                              ATIVO         5832.41\n",
              "Name: liquido, Length: 276, dtype: float64"
            ]
          },
          "metadata": {
            "tags": []
          },
          "execution_count": 111
        }
      ]
    },
    {
      "cell_type": "code",
      "metadata": {
        "id": "9ZXTaVw_nrs0",
        "colab_type": "code",
        "outputId": "95c541af-e52e-4fa3-a3b7-3a4f9b50b148",
        "colab": {
          "base_uri": "https://localhost:8080/",
          "height": 34
        }
      },
      "source": [
        "# trazendo os maiores gastos\n",
        "eletricista = df_df2[df_df2['cargo'] == 'ELETRICISTA'].reset_index()\n",
        "print('Os {0} eletrecistas que mais ganharam dentro do mês'.format(eletricista.shape[0]))"
      ],
      "execution_count": 112,
      "outputs": [
        {
          "output_type": "stream",
          "text": [
            "Os 6 eletrecistas que mais ganharam dentro do mês\n"
          ],
          "name": "stdout"
        }
      ]
    },
    {
      "cell_type": "code",
      "metadata": {
        "id": "IoGq9AP-nrs2",
        "colab_type": "code",
        "outputId": "87817903-ff91-44ef-f62a-dcc1c7b65d45",
        "colab": {
          "base_uri": "https://localhost:8080/",
          "height": 235
        }
      },
      "source": [
        "eletricista"
      ],
      "execution_count": 113,
      "outputs": [
        {
          "output_type": "execute_result",
          "data": {
            "text/html": [
              "<div>\n",
              "<style scoped>\n",
              "    .dataframe tbody tr th:only-of-type {\n",
              "        vertical-align: middle;\n",
              "    }\n",
              "\n",
              "    .dataframe tbody tr th {\n",
              "        vertical-align: top;\n",
              "    }\n",
              "\n",
              "    .dataframe thead th {\n",
              "        text-align: right;\n",
              "    }\n",
              "</style>\n",
              "<table border=\"1\" class=\"dataframe\">\n",
              "  <thead>\n",
              "    <tr style=\"text-align: right;\">\n",
              "      <th></th>\n",
              "      <th>index</th>\n",
              "      <th>matricula</th>\n",
              "      <th>tipo_de_vinculo</th>\n",
              "      <th>lotacao</th>\n",
              "      <th>local_de_trabalho</th>\n",
              "      <th>cargo</th>\n",
              "      <th>situacao</th>\n",
              "      <th>vecto_mes</th>\n",
              "      <th>liquido</th>\n",
              "      <th>dif</th>\n",
              "    </tr>\n",
              "  </thead>\n",
              "  <tbody>\n",
              "    <tr>\n",
              "      <th>0</th>\n",
              "      <td>0</td>\n",
              "      <td>13646</td>\n",
              "      <td>ESTATUTÁRIO</td>\n",
              "      <td>SECRETARIA DE SERVICOS PUBLICOS</td>\n",
              "      <td>SERVICOS PUBLICOS</td>\n",
              "      <td>ELETRICISTA</td>\n",
              "      <td>ATIVO</td>\n",
              "      <td>2250.40</td>\n",
              "      <td>1745.52</td>\n",
              "      <td>504.88</td>\n",
              "    </tr>\n",
              "    <tr>\n",
              "      <th>1</th>\n",
              "      <td>299</td>\n",
              "      <td>12758</td>\n",
              "      <td>ESTATUTÁRIO</td>\n",
              "      <td>SECRETARIA DE EDUCACAO</td>\n",
              "      <td>MANUTENCAO ESCOLAR</td>\n",
              "      <td>ELETRICISTA</td>\n",
              "      <td>ATIVO</td>\n",
              "      <td>2096.87</td>\n",
              "      <td>1207.04</td>\n",
              "      <td>889.83</td>\n",
              "    </tr>\n",
              "    <tr>\n",
              "      <th>2</th>\n",
              "      <td>502</td>\n",
              "      <td>12825</td>\n",
              "      <td>ESTATUTÁRIO</td>\n",
              "      <td>SECRETARIA DE SERVICOS PUBLICOS</td>\n",
              "      <td>SERVICOS PUBLICOS</td>\n",
              "      <td>ELETRICISTA</td>\n",
              "      <td>ATIVO</td>\n",
              "      <td>2041.56</td>\n",
              "      <td>1104.77</td>\n",
              "      <td>936.79</td>\n",
              "    </tr>\n",
              "    <tr>\n",
              "      <th>3</th>\n",
              "      <td>619</td>\n",
              "      <td>13799</td>\n",
              "      <td>ESTATUTÁRIO</td>\n",
              "      <td>SECRETARIA DE SERVICOS PUBLICOS</td>\n",
              "      <td>PAÇO</td>\n",
              "      <td>ELETRICISTA</td>\n",
              "      <td>ATIVO</td>\n",
              "      <td>2934.42</td>\n",
              "      <td>2309.46</td>\n",
              "      <td>624.96</td>\n",
              "    </tr>\n",
              "    <tr>\n",
              "      <th>4</th>\n",
              "      <td>746</td>\n",
              "      <td>12568</td>\n",
              "      <td>ESTATUTÁRIO</td>\n",
              "      <td>SECRETARIA DE ADMINISTRACAO  SEA</td>\n",
              "      <td>PAÇO</td>\n",
              "      <td>ELETRICISTA</td>\n",
              "      <td>ATIVO</td>\n",
              "      <td>2250.40</td>\n",
              "      <td>1796.75</td>\n",
              "      <td>453.65</td>\n",
              "    </tr>\n",
              "    <tr>\n",
              "      <th>5</th>\n",
              "      <td>1125</td>\n",
              "      <td>12781</td>\n",
              "      <td>ESTATUTÁRIO</td>\n",
              "      <td>SECRETARIA DE EDUCACAO</td>\n",
              "      <td>MANUTENCAO ESCOLAR</td>\n",
              "      <td>ELETRICISTA</td>\n",
              "      <td>ATIVO</td>\n",
              "      <td>2096.87</td>\n",
              "      <td>1169.44</td>\n",
              "      <td>927.43</td>\n",
              "    </tr>\n",
              "  </tbody>\n",
              "</table>\n",
              "</div>"
            ],
            "text/plain": [
              "   index matricula tipo_de_vinculo  ... vecto_mes  liquido     dif\n",
              "0      0     13646     ESTATUTÁRIO  ...   2250.40  1745.52  504.88\n",
              "1    299     12758     ESTATUTÁRIO  ...   2096.87  1207.04  889.83\n",
              "2    502     12825     ESTATUTÁRIO  ...   2041.56  1104.77  936.79\n",
              "3    619     13799     ESTATUTÁRIO  ...   2934.42  2309.46  624.96\n",
              "4    746     12568     ESTATUTÁRIO  ...   2250.40  1796.75  453.65\n",
              "5   1125     12781     ESTATUTÁRIO  ...   2096.87  1169.44  927.43\n",
              "\n",
              "[6 rows x 10 columns]"
            ]
          },
          "metadata": {
            "tags": []
          },
          "execution_count": 113
        }
      ]
    },
    {
      "cell_type": "code",
      "metadata": {
        "id": "fBte2iNmnrs4",
        "colab_type": "code",
        "outputId": "3250b9ce-79fb-443d-b505-c3a9d05d4961",
        "colab": {
          "base_uri": "https://localhost:8080/",
          "height": 142
        }
      },
      "source": [
        "desligado = df_df2[df_df2['situacao'] == 'DESLIGADO'].reset_index()\n",
        "desligado"
      ],
      "execution_count": 114,
      "outputs": [
        {
          "output_type": "execute_result",
          "data": {
            "text/html": [
              "<div>\n",
              "<style scoped>\n",
              "    .dataframe tbody tr th:only-of-type {\n",
              "        vertical-align: middle;\n",
              "    }\n",
              "\n",
              "    .dataframe tbody tr th {\n",
              "        vertical-align: top;\n",
              "    }\n",
              "\n",
              "    .dataframe thead th {\n",
              "        text-align: right;\n",
              "    }\n",
              "</style>\n",
              "<table border=\"1\" class=\"dataframe\">\n",
              "  <thead>\n",
              "    <tr style=\"text-align: right;\">\n",
              "      <th></th>\n",
              "      <th>index</th>\n",
              "      <th>matricula</th>\n",
              "      <th>tipo_de_vinculo</th>\n",
              "      <th>lotacao</th>\n",
              "      <th>local_de_trabalho</th>\n",
              "      <th>cargo</th>\n",
              "      <th>situacao</th>\n",
              "      <th>vecto_mes</th>\n",
              "      <th>liquido</th>\n",
              "      <th>dif</th>\n",
              "    </tr>\n",
              "  </thead>\n",
              "  <tbody>\n",
              "    <tr>\n",
              "      <th>0</th>\n",
              "      <td>222</td>\n",
              "      <td>75527</td>\n",
              "      <td>TEMPORÁRIO</td>\n",
              "      <td>EMEI ROSA PEREIRA  PROMORAR</td>\n",
              "      <td>CMEI ROSA PEREIRA</td>\n",
              "      <td>PEB I CONTRATO</td>\n",
              "      <td>DESLIGADO</td>\n",
              "      <td>2075.62</td>\n",
              "      <td>1886.82</td>\n",
              "      <td>188.80</td>\n",
              "    </tr>\n",
              "    <tr>\n",
              "      <th>1</th>\n",
              "      <td>223</td>\n",
              "      <td>75527</td>\n",
              "      <td>TEMPORÁRIO</td>\n",
              "      <td>EMEI ROSA PEREIRA  PROMORAR</td>\n",
              "      <td>CMEI ROSA PEREIRA</td>\n",
              "      <td>PEB I CONTRATO</td>\n",
              "      <td>DESLIGADO</td>\n",
              "      <td>1678.43</td>\n",
              "      <td>719.04</td>\n",
              "      <td>959.39</td>\n",
              "    </tr>\n",
              "    <tr>\n",
              "      <th>2</th>\n",
              "      <td>2390</td>\n",
              "      <td>40751</td>\n",
              "      <td>ESTAGIÁRIO</td>\n",
              "      <td>DEPARTAMENTO DE RECURSOS HUMANOS</td>\n",
              "      <td>PAÇO</td>\n",
              "      <td>ESTAGIARIO GESTAO EM RECURSOS HUMANOS</td>\n",
              "      <td>DESLIGADO</td>\n",
              "      <td>32.70</td>\n",
              "      <td>32.70</td>\n",
              "      <td>0.00</td>\n",
              "    </tr>\n",
              "  </tbody>\n",
              "</table>\n",
              "</div>"
            ],
            "text/plain": [
              "   index matricula tipo_de_vinculo  ... vecto_mes  liquido     dif\n",
              "0    222     75527      TEMPORÁRIO  ...   2075.62  1886.82  188.80\n",
              "1    223     75527      TEMPORÁRIO  ...   1678.43   719.04  959.39\n",
              "2   2390     40751      ESTAGIÁRIO  ...     32.70    32.70    0.00\n",
              "\n",
              "[3 rows x 10 columns]"
            ]
          },
          "metadata": {
            "tags": []
          },
          "execution_count": 114
        }
      ]
    },
    {
      "cell_type": "code",
      "metadata": {
        "id": "UsxZ8LrDnrs6",
        "colab_type": "code",
        "outputId": "654c0bd5-748d-4327-c70f-d54bd046fcef",
        "colab": {
          "base_uri": "https://localhost:8080/",
          "height": 979
        }
      },
      "source": [
        "maior_salario = df_df2[df_df2['cargo'] == 'MEDICO CLINICO GERAL']\n",
        "maior_salario"
      ],
      "execution_count": 116,
      "outputs": [
        {
          "output_type": "execute_result",
          "data": {
            "text/html": [
              "<div>\n",
              "<style scoped>\n",
              "    .dataframe tbody tr th:only-of-type {\n",
              "        vertical-align: middle;\n",
              "    }\n",
              "\n",
              "    .dataframe tbody tr th {\n",
              "        vertical-align: top;\n",
              "    }\n",
              "\n",
              "    .dataframe thead th {\n",
              "        text-align: right;\n",
              "    }\n",
              "</style>\n",
              "<table border=\"1\" class=\"dataframe\">\n",
              "  <thead>\n",
              "    <tr style=\"text-align: right;\">\n",
              "      <th></th>\n",
              "      <th>matricula</th>\n",
              "      <th>tipo_de_vinculo</th>\n",
              "      <th>lotacao</th>\n",
              "      <th>local_de_trabalho</th>\n",
              "      <th>cargo</th>\n",
              "      <th>situacao</th>\n",
              "      <th>vecto_mes</th>\n",
              "      <th>liquido</th>\n",
              "      <th>dif</th>\n",
              "    </tr>\n",
              "  </thead>\n",
              "  <tbody>\n",
              "    <tr>\n",
              "      <th>85</th>\n",
              "      <td>14177</td>\n",
              "      <td>ESTATUTÁRIO</td>\n",
              "      <td>MELHOR EM CASA</td>\n",
              "      <td>PAÇO</td>\n",
              "      <td>MEDICO CLINICO GERAL</td>\n",
              "      <td>ATIVO</td>\n",
              "      <td>5836.24</td>\n",
              "      <td>4635.19</td>\n",
              "      <td>1201.05</td>\n",
              "    </tr>\n",
              "    <tr>\n",
              "      <th>86</th>\n",
              "      <td>13981</td>\n",
              "      <td>ESTATUTÁRIO</td>\n",
              "      <td>UBS JARDIM ARCHILA</td>\n",
              "      <td>PAÇO</td>\n",
              "      <td>MEDICO CLINICO GERAL</td>\n",
              "      <td>ATIVO</td>\n",
              "      <td>6061.82</td>\n",
              "      <td>4778.75</td>\n",
              "      <td>1283.07</td>\n",
              "    </tr>\n",
              "    <tr>\n",
              "      <th>358</th>\n",
              "      <td>11771</td>\n",
              "      <td>ESTATUTÁRIO</td>\n",
              "      <td>UBS PARQUE BELA VISTA</td>\n",
              "      <td>PAÇO</td>\n",
              "      <td>MEDICO CLINICO GERAL</td>\n",
              "      <td>ATIVO</td>\n",
              "      <td>7804.43</td>\n",
              "      <td>4403.96</td>\n",
              "      <td>3400.47</td>\n",
              "    </tr>\n",
              "    <tr>\n",
              "      <th>377</th>\n",
              "      <td>10083</td>\n",
              "      <td>ESTATUTÁRIO</td>\n",
              "      <td>UBS ITAPEVA</td>\n",
              "      <td>PAÇO</td>\n",
              "      <td>MEDICO CLINICO GERAL</td>\n",
              "      <td>ATIVO</td>\n",
              "      <td>11671.04</td>\n",
              "      <td>8398.10</td>\n",
              "      <td>3272.94</td>\n",
              "    </tr>\n",
              "    <tr>\n",
              "      <th>398</th>\n",
              "      <td>11789</td>\n",
              "      <td>ESTATUTÁRIO</td>\n",
              "      <td>UBS JARDIM ARCHILA</td>\n",
              "      <td>PAÇO</td>\n",
              "      <td>MEDICO CLINICO GERAL</td>\n",
              "      <td>ATIVO</td>\n",
              "      <td>8208.19</td>\n",
              "      <td>6215.83</td>\n",
              "      <td>1992.36</td>\n",
              "    </tr>\n",
              "    <tr>\n",
              "      <th>411</th>\n",
              "      <td>11673</td>\n",
              "      <td>ESTATUTÁRIO</td>\n",
              "      <td>UBS VILA GARCIA</td>\n",
              "      <td>PAÇO</td>\n",
              "      <td>MEDICO CLINICO GERAL</td>\n",
              "      <td>ATIVO</td>\n",
              "      <td>5249.41</td>\n",
              "      <td>4299.56</td>\n",
              "      <td>949.85</td>\n",
              "    </tr>\n",
              "    <tr>\n",
              "      <th>485</th>\n",
              "      <td>11674</td>\n",
              "      <td>ESTATUTÁRIO</td>\n",
              "      <td>UBS ITAPEVA</td>\n",
              "      <td>PAÇO</td>\n",
              "      <td>MEDICO CLINICO GERAL</td>\n",
              "      <td>ATIVO</td>\n",
              "      <td>10080.18</td>\n",
              "      <td>7371.60</td>\n",
              "      <td>2708.58</td>\n",
              "    </tr>\n",
              "    <tr>\n",
              "      <th>810</th>\n",
              "      <td>13638</td>\n",
              "      <td>ESTATUTÁRIO</td>\n",
              "      <td>UBS ITAPEVA</td>\n",
              "      <td>PAÇO</td>\n",
              "      <td>MEDICO CLINICO GERAL</td>\n",
              "      <td>ATIVO</td>\n",
              "      <td>12040.22</td>\n",
              "      <td>7498.42</td>\n",
              "      <td>4541.80</td>\n",
              "    </tr>\n",
              "    <tr>\n",
              "      <th>924</th>\n",
              "      <td>14314</td>\n",
              "      <td>ESTATUTÁRIO</td>\n",
              "      <td>UBS JARDIM CLARICE</td>\n",
              "      <td>PAÇO</td>\n",
              "      <td>MEDICO CLINICO GERAL</td>\n",
              "      <td>ATIVO</td>\n",
              "      <td>5781.49</td>\n",
              "      <td>4652.01</td>\n",
              "      <td>1129.48</td>\n",
              "    </tr>\n",
              "    <tr>\n",
              "      <th>925</th>\n",
              "      <td>13604</td>\n",
              "      <td>ESTATUTÁRIO</td>\n",
              "      <td>UBS RIO ACIMA</td>\n",
              "      <td>PAÇO</td>\n",
              "      <td>MEDICO CLINICO GERAL</td>\n",
              "      <td>ATIVO</td>\n",
              "      <td>6295.41</td>\n",
              "      <td>4565.11</td>\n",
              "      <td>1730.30</td>\n",
              "    </tr>\n",
              "    <tr>\n",
              "      <th>1182</th>\n",
              "      <td>12029</td>\n",
              "      <td>ESTATUTÁRIO</td>\n",
              "      <td>UBS  JARDIM NOVO MUNDO</td>\n",
              "      <td>PAÇO</td>\n",
              "      <td>MEDICO CLINICO GERAL</td>\n",
              "      <td>ATIVO</td>\n",
              "      <td>7283.38</td>\n",
              "      <td>5488.47</td>\n",
              "      <td>1794.91</td>\n",
              "    </tr>\n",
              "    <tr>\n",
              "      <th>1195</th>\n",
              "      <td>11054</td>\n",
              "      <td>ESTATUTÁRIO</td>\n",
              "      <td>SECRETARIA DE SAUDE</td>\n",
              "      <td>PAÇO</td>\n",
              "      <td>MEDICO CLINICO GERAL</td>\n",
              "      <td>ATIVO</td>\n",
              "      <td>11160.15</td>\n",
              "      <td>8068.44</td>\n",
              "      <td>3091.71</td>\n",
              "    </tr>\n",
              "    <tr>\n",
              "      <th>1231</th>\n",
              "      <td>13530</td>\n",
              "      <td>ESTATUTÁRIO</td>\n",
              "      <td>UBS JARDIM CLARICE</td>\n",
              "      <td>PAÇO</td>\n",
              "      <td>MEDICO CLINICO GERAL</td>\n",
              "      <td>ATIVO</td>\n",
              "      <td>6118.22</td>\n",
              "      <td>4815.14</td>\n",
              "      <td>1303.08</td>\n",
              "    </tr>\n",
              "    <tr>\n",
              "      <th>1437</th>\n",
              "      <td>11383</td>\n",
              "      <td>ESTATUTÁRIO</td>\n",
              "      <td>AMBULATORIO DE ESPECIALIDADES MEDICAS (ANT CS ...</td>\n",
              "      <td>PAÇO</td>\n",
              "      <td>MEDICO CLINICO GERAL</td>\n",
              "      <td>ATIVO</td>\n",
              "      <td>5857.77</td>\n",
              "      <td>4649.09</td>\n",
              "      <td>1208.68</td>\n",
              "    </tr>\n",
              "    <tr>\n",
              "      <th>1494</th>\n",
              "      <td>11366</td>\n",
              "      <td>ESTATUTÁRIO</td>\n",
              "      <td>UBS BARRA FUNDA</td>\n",
              "      <td>PAÇO</td>\n",
              "      <td>MEDICO CLINICO GERAL</td>\n",
              "      <td>ATIVO</td>\n",
              "      <td>10756.39</td>\n",
              "      <td>7807.92</td>\n",
              "      <td>2948.47</td>\n",
              "    </tr>\n",
              "    <tr>\n",
              "      <th>1538</th>\n",
              "      <td>11471</td>\n",
              "      <td>ESTATUTÁRIO</td>\n",
              "      <td>UBS PARQUE BELA VISTA</td>\n",
              "      <td>PAÇO</td>\n",
              "      <td>MEDICO CLINICO GERAL</td>\n",
              "      <td>ATIVO</td>\n",
              "      <td>10314.85</td>\n",
              "      <td>6826.13</td>\n",
              "      <td>3488.72</td>\n",
              "    </tr>\n",
              "    <tr>\n",
              "      <th>1610</th>\n",
              "      <td>12305</td>\n",
              "      <td>ESTATUTÁRIO</td>\n",
              "      <td>UBS VILA GARCIA</td>\n",
              "      <td>PAÇO</td>\n",
              "      <td>MEDICO CLINICO GERAL</td>\n",
              "      <td>ATIVO</td>\n",
              "      <td>6724.12</td>\n",
              "      <td>5258.24</td>\n",
              "      <td>1465.88</td>\n",
              "    </tr>\n",
              "    <tr>\n",
              "      <th>1648</th>\n",
              "      <td>13047</td>\n",
              "      <td>ESTATUTÁRIO</td>\n",
              "      <td>MELHOR EM CASA</td>\n",
              "      <td>PAÇO</td>\n",
              "      <td>MEDICO CLINICO GERAL</td>\n",
              "      <td>ATIVO</td>\n",
              "      <td>3550.71</td>\n",
              "      <td>3040.91</td>\n",
              "      <td>509.80</td>\n",
              "    </tr>\n",
              "    <tr>\n",
              "      <th>1652</th>\n",
              "      <td>14310</td>\n",
              "      <td>ESTATUTÁRIO</td>\n",
              "      <td>UBS PARQUE BELA VISTA</td>\n",
              "      <td>PAÇO</td>\n",
              "      <td>MEDICO CLINICO GERAL</td>\n",
              "      <td>ATIVO</td>\n",
              "      <td>5781.49</td>\n",
              "      <td>4597.87</td>\n",
              "      <td>1183.62</td>\n",
              "    </tr>\n",
              "    <tr>\n",
              "      <th>1729</th>\n",
              "      <td>13608</td>\n",
              "      <td>ESTATUTÁRIO</td>\n",
              "      <td>SECRETARIA DE SAUDE</td>\n",
              "      <td>PAÇO</td>\n",
              "      <td>MEDICO CLINICO GERAL</td>\n",
              "      <td>ATIVO</td>\n",
              "      <td>6736.89</td>\n",
              "      <td>5214.34</td>\n",
              "      <td>1522.55</td>\n",
              "    </tr>\n",
              "    <tr>\n",
              "      <th>1824</th>\n",
              "      <td>10120</td>\n",
              "      <td>ESTATUTÁRIO</td>\n",
              "      <td>UBS BARRA FUNDA</td>\n",
              "      <td>PAÇO</td>\n",
              "      <td>MEDICO CLINICO GERAL</td>\n",
              "      <td>ATIVO</td>\n",
              "      <td>11013.95</td>\n",
              "      <td>7974.11</td>\n",
              "      <td>3039.84</td>\n",
              "    </tr>\n",
              "    <tr>\n",
              "      <th>1854</th>\n",
              "      <td>14530</td>\n",
              "      <td>ESTATUTÁRIO</td>\n",
              "      <td>UBS  JARDIM NOVO MUNDO</td>\n",
              "      <td>SECRETARIA DE SAUDE</td>\n",
              "      <td>MEDICO CLINICO GERAL</td>\n",
              "      <td>ATIVO</td>\n",
              "      <td>5726.73</td>\n",
              "      <td>4531.29</td>\n",
              "      <td>1195.44</td>\n",
              "    </tr>\n",
              "    <tr>\n",
              "      <th>1871</th>\n",
              "      <td>11057</td>\n",
              "      <td>ESTATUTÁRIO</td>\n",
              "      <td>UBS VILA NOVA</td>\n",
              "      <td>PAÇO</td>\n",
              "      <td>MEDICO CLINICO GERAL</td>\n",
              "      <td>ATIVO</td>\n",
              "      <td>10721.59</td>\n",
              "      <td>7785.46</td>\n",
              "      <td>2936.13</td>\n",
              "    </tr>\n",
              "    <tr>\n",
              "      <th>1879</th>\n",
              "      <td>14536</td>\n",
              "      <td>ESTATUTÁRIO</td>\n",
              "      <td>UBS JARDIM SERRANO</td>\n",
              "      <td>SECRETARIA DE SAUDE</td>\n",
              "      <td>MEDICO CLINICO GERAL</td>\n",
              "      <td>ATIVO</td>\n",
              "      <td>8528.85</td>\n",
              "      <td>6370.60</td>\n",
              "      <td>2158.25</td>\n",
              "    </tr>\n",
              "    <tr>\n",
              "      <th>1903</th>\n",
              "      <td>14243</td>\n",
              "      <td>ESTATUTÁRIO</td>\n",
              "      <td>UBS VILA NOVA</td>\n",
              "      <td>PAÇO</td>\n",
              "      <td>MEDICO CLINICO GERAL</td>\n",
              "      <td>ATIVO</td>\n",
              "      <td>9579.47</td>\n",
              "      <td>6586.24</td>\n",
              "      <td>2993.23</td>\n",
              "    </tr>\n",
              "    <tr>\n",
              "      <th>1982</th>\n",
              "      <td>12868</td>\n",
              "      <td>ESTATUTÁRIO</td>\n",
              "      <td>UBS JARDIM CLARICE</td>\n",
              "      <td>PAÇO</td>\n",
              "      <td>MEDICO CLINICO GERAL</td>\n",
              "      <td>ATIVO</td>\n",
              "      <td>8725.23</td>\n",
              "      <td>6497.31</td>\n",
              "      <td>2227.92</td>\n",
              "    </tr>\n",
              "    <tr>\n",
              "      <th>2026</th>\n",
              "      <td>14553</td>\n",
              "      <td>ESTATUTÁRIO</td>\n",
              "      <td>UBS RIO ACIMA</td>\n",
              "      <td>SECRETARIA DE SAUDE</td>\n",
              "      <td>MEDICO CLINICO GERAL</td>\n",
              "      <td>ATIVO</td>\n",
              "      <td>5726.73</td>\n",
              "      <td>4614.67</td>\n",
              "      <td>1112.06</td>\n",
              "    </tr>\n",
              "    <tr>\n",
              "      <th>2142</th>\n",
              "      <td>11679</td>\n",
              "      <td>ESTATUTÁRIO</td>\n",
              "      <td>UBS PARQUE BELA VISTA</td>\n",
              "      <td>PAÇO</td>\n",
              "      <td>MEDICO CLINICO GERAL</td>\n",
              "      <td>ATIVO</td>\n",
              "      <td>10498.82</td>\n",
              "      <td>7641.72</td>\n",
              "      <td>2857.10</td>\n",
              "    </tr>\n",
              "    <tr>\n",
              "      <th>2272</th>\n",
              "      <td>12033</td>\n",
              "      <td>ESTATUTÁRIO</td>\n",
              "      <td>UBS JARDIM SERRANO</td>\n",
              "      <td>PAÇO</td>\n",
              "      <td>MEDICO CLINICO GERAL</td>\n",
              "      <td>ATIVO</td>\n",
              "      <td>9327.36</td>\n",
              "      <td>4654.79</td>\n",
              "      <td>4672.57</td>\n",
              "    </tr>\n",
              "    <tr>\n",
              "      <th>2412</th>\n",
              "      <td>11369</td>\n",
              "      <td>ESTATUTÁRIO</td>\n",
              "      <td>UBS JARDIM SERRANO</td>\n",
              "      <td>PAÇO</td>\n",
              "      <td>MEDICO CLINICO GERAL</td>\n",
              "      <td>ATIVO</td>\n",
              "      <td>10449.66</td>\n",
              "      <td>6440.82</td>\n",
              "      <td>4008.84</td>\n",
              "    </tr>\n",
              "  </tbody>\n",
              "</table>\n",
              "</div>"
            ],
            "text/plain": [
              "     matricula tipo_de_vinculo  ...  liquido      dif\n",
              "85       14177     ESTATUTÁRIO  ...  4635.19  1201.05\n",
              "86       13981     ESTATUTÁRIO  ...  4778.75  1283.07\n",
              "358      11771     ESTATUTÁRIO  ...  4403.96  3400.47\n",
              "377      10083     ESTATUTÁRIO  ...  8398.10  3272.94\n",
              "398      11789     ESTATUTÁRIO  ...  6215.83  1992.36\n",
              "411      11673     ESTATUTÁRIO  ...  4299.56   949.85\n",
              "485      11674     ESTATUTÁRIO  ...  7371.60  2708.58\n",
              "810      13638     ESTATUTÁRIO  ...  7498.42  4541.80\n",
              "924      14314     ESTATUTÁRIO  ...  4652.01  1129.48\n",
              "925      13604     ESTATUTÁRIO  ...  4565.11  1730.30\n",
              "1182     12029     ESTATUTÁRIO  ...  5488.47  1794.91\n",
              "1195     11054     ESTATUTÁRIO  ...  8068.44  3091.71\n",
              "1231     13530     ESTATUTÁRIO  ...  4815.14  1303.08\n",
              "1437     11383     ESTATUTÁRIO  ...  4649.09  1208.68\n",
              "1494     11366     ESTATUTÁRIO  ...  7807.92  2948.47\n",
              "1538     11471     ESTATUTÁRIO  ...  6826.13  3488.72\n",
              "1610     12305     ESTATUTÁRIO  ...  5258.24  1465.88\n",
              "1648     13047     ESTATUTÁRIO  ...  3040.91   509.80\n",
              "1652     14310     ESTATUTÁRIO  ...  4597.87  1183.62\n",
              "1729     13608     ESTATUTÁRIO  ...  5214.34  1522.55\n",
              "1824     10120     ESTATUTÁRIO  ...  7974.11  3039.84\n",
              "1854     14530     ESTATUTÁRIO  ...  4531.29  1195.44\n",
              "1871     11057     ESTATUTÁRIO  ...  7785.46  2936.13\n",
              "1879     14536     ESTATUTÁRIO  ...  6370.60  2158.25\n",
              "1903     14243     ESTATUTÁRIO  ...  6586.24  2993.23\n",
              "1982     12868     ESTATUTÁRIO  ...  6497.31  2227.92\n",
              "2026     14553     ESTATUTÁRIO  ...  4614.67  1112.06\n",
              "2142     11679     ESTATUTÁRIO  ...  7641.72  2857.10\n",
              "2272     12033     ESTATUTÁRIO  ...  4654.79  4672.57\n",
              "2412     11369     ESTATUTÁRIO  ...  6440.82  4008.84\n",
              "\n",
              "[30 rows x 9 columns]"
            ]
          },
          "metadata": {
            "tags": []
          },
          "execution_count": 116
        }
      ]
    },
    {
      "cell_type": "code",
      "metadata": {
        "id": "LTf-Nz5ynrs8",
        "colab_type": "code",
        "outputId": "b38b9c7c-b8fb-4bea-b313-3db2f51f631f",
        "colab": {
          "base_uri": "https://localhost:8080/",
          "height": 34
        }
      },
      "source": [
        "# trazendo os maiores gastos\n",
        "local = df_df2[df_df2['local_de_trabalho'] == 'PAÇO'].reset_index()\n",
        "# quantas linhas possue o arquivo\n",
        "local.shape[0]"
      ],
      "execution_count": 117,
      "outputs": [
        {
          "output_type": "execute_result",
          "data": {
            "text/plain": [
              "849"
            ]
          },
          "metadata": {
            "tags": []
          },
          "execution_count": 117
        }
      ]
    },
    {
      "cell_type": "code",
      "metadata": {
        "id": "h4edDTKrnrs-",
        "colab_type": "code",
        "outputId": "bdaabea2-09cd-40f8-d10d-8b134e123043",
        "colab": {
          "base_uri": "https://localhost:8080/",
          "height": 393
        }
      },
      "source": [
        "dez_maiores_vecto_mes = local.sort_values('liquido', ascending = False).head(n = 10)\n",
        "dez_maiores_vecto_mes"
      ],
      "execution_count": 118,
      "outputs": [
        {
          "output_type": "execute_result",
          "data": {
            "text/html": [
              "<div>\n",
              "<style scoped>\n",
              "    .dataframe tbody tr th:only-of-type {\n",
              "        vertical-align: middle;\n",
              "    }\n",
              "\n",
              "    .dataframe tbody tr th {\n",
              "        vertical-align: top;\n",
              "    }\n",
              "\n",
              "    .dataframe thead th {\n",
              "        text-align: right;\n",
              "    }\n",
              "</style>\n",
              "<table border=\"1\" class=\"dataframe\">\n",
              "  <thead>\n",
              "    <tr style=\"text-align: right;\">\n",
              "      <th></th>\n",
              "      <th>index</th>\n",
              "      <th>matricula</th>\n",
              "      <th>tipo_de_vinculo</th>\n",
              "      <th>lotacao</th>\n",
              "      <th>local_de_trabalho</th>\n",
              "      <th>cargo</th>\n",
              "      <th>situacao</th>\n",
              "      <th>vecto_mes</th>\n",
              "      <th>liquido</th>\n",
              "      <th>dif</th>\n",
              "    </tr>\n",
              "  </thead>\n",
              "  <tbody>\n",
              "    <tr>\n",
              "      <th>745</th>\n",
              "      <td>2143</td>\n",
              "      <td>10661</td>\n",
              "      <td>ESTATUTÁRIO</td>\n",
              "      <td>SERVICO DE PESSOAL</td>\n",
              "      <td>PAÇO</td>\n",
              "      <td>ESCRITURARIO</td>\n",
              "      <td>ATIVO</td>\n",
              "      <td>22257.78</td>\n",
              "      <td>20716.24</td>\n",
              "      <td>1541.54</td>\n",
              "    </tr>\n",
              "    <tr>\n",
              "      <th>169</th>\n",
              "      <td>524</td>\n",
              "      <td>12338</td>\n",
              "      <td>ESTATUTÁRIO</td>\n",
              "      <td>SECRETARIA DE FINANCAS</td>\n",
              "      <td>PAÇO</td>\n",
              "      <td>AGENTE FAZENDARIO</td>\n",
              "      <td>ATIVO</td>\n",
              "      <td>17190.74</td>\n",
              "      <td>12116.10</td>\n",
              "      <td>5074.64</td>\n",
              "    </tr>\n",
              "    <tr>\n",
              "      <th>282</th>\n",
              "      <td>817</td>\n",
              "      <td>14158</td>\n",
              "      <td>ESTATUTÁRIO</td>\n",
              "      <td>UPA CENTRAL</td>\n",
              "      <td>PAÇO</td>\n",
              "      <td>MEDICO PLANTONISTA</td>\n",
              "      <td>ATIVO</td>\n",
              "      <td>16864.75</td>\n",
              "      <td>11801.48</td>\n",
              "      <td>5063.27</td>\n",
              "    </tr>\n",
              "    <tr>\n",
              "      <th>472</th>\n",
              "      <td>1343</td>\n",
              "      <td>11621</td>\n",
              "      <td>ESTATUTÁRIO</td>\n",
              "      <td>UPA CENTRAL</td>\n",
              "      <td>PAÇO</td>\n",
              "      <td>MEDICO PLANTONISTA</td>\n",
              "      <td>ATIVO</td>\n",
              "      <td>16921.63</td>\n",
              "      <td>11786.04</td>\n",
              "      <td>5135.59</td>\n",
              "    </tr>\n",
              "    <tr>\n",
              "      <th>533</th>\n",
              "      <td>1528</td>\n",
              "      <td>11692</td>\n",
              "      <td>ESTATUTÁRIO</td>\n",
              "      <td>UPA CENTRAL</td>\n",
              "      <td>PAÇO</td>\n",
              "      <td>MEDICO PLANTONISTA</td>\n",
              "      <td>ATIVO</td>\n",
              "      <td>16875.14</td>\n",
              "      <td>11756.04</td>\n",
              "      <td>5119.10</td>\n",
              "    </tr>\n",
              "    <tr>\n",
              "      <th>309</th>\n",
              "      <td>883</td>\n",
              "      <td>11791</td>\n",
              "      <td>ESTATUTÁRIO</td>\n",
              "      <td>AMBULATORIO DE SAUDE DA MULHER E DA CRIANÇA</td>\n",
              "      <td>PAÇO</td>\n",
              "      <td>MEDICO PLANTONISTA</td>\n",
              "      <td>ATIVO</td>\n",
              "      <td>16521.69</td>\n",
              "      <td>11527.98</td>\n",
              "      <td>4993.71</td>\n",
              "    </tr>\n",
              "    <tr>\n",
              "      <th>828</th>\n",
              "      <td>2445</td>\n",
              "      <td>12349</td>\n",
              "      <td>CARGO EM COMISSÃO</td>\n",
              "      <td>DEPTO TRIBUTACAO RECEITA E FISCALIZACAO</td>\n",
              "      <td>PAÇO</td>\n",
              "      <td>JULGADOR TRIBUTARIO SECR, FINANCAS</td>\n",
              "      <td>ATIVO</td>\n",
              "      <td>17190.74</td>\n",
              "      <td>11445.28</td>\n",
              "      <td>5745.46</td>\n",
              "    </tr>\n",
              "    <tr>\n",
              "      <th>141</th>\n",
              "      <td>436</td>\n",
              "      <td>11505</td>\n",
              "      <td>ESTATUTÁRIO</td>\n",
              "      <td>SECRETARIA DE SAUDE</td>\n",
              "      <td>PAÇO</td>\n",
              "      <td>MEDICO PEDIATRA</td>\n",
              "      <td>ATIVO</td>\n",
              "      <td>16320.78</td>\n",
              "      <td>11398.34</td>\n",
              "      <td>4922.44</td>\n",
              "    </tr>\n",
              "    <tr>\n",
              "      <th>126</th>\n",
              "      <td>391</td>\n",
              "      <td>12353</td>\n",
              "      <td>ESTATUTÁRIO</td>\n",
              "      <td>UPA CENTRAL</td>\n",
              "      <td>PAÇO</td>\n",
              "      <td>MEDICO PLANTONISTA</td>\n",
              "      <td>ATIVO</td>\n",
              "      <td>17084.27</td>\n",
              "      <td>11376.57</td>\n",
              "      <td>5707.70</td>\n",
              "    </tr>\n",
              "    <tr>\n",
              "      <th>288</th>\n",
              "      <td>824</td>\n",
              "      <td>13984</td>\n",
              "      <td>ESTATUTÁRIO</td>\n",
              "      <td>UPA CENTRAL</td>\n",
              "      <td>PAÇO</td>\n",
              "      <td>MEDICO PLANTONISTA</td>\n",
              "      <td>ATIVO</td>\n",
              "      <td>16971.83</td>\n",
              "      <td>11304.02</td>\n",
              "      <td>5667.81</td>\n",
              "    </tr>\n",
              "  </tbody>\n",
              "</table>\n",
              "</div>"
            ],
            "text/plain": [
              "     index matricula    tipo_de_vinculo  ... vecto_mes   liquido      dif\n",
              "745   2143     10661        ESTATUTÁRIO  ...  22257.78  20716.24  1541.54\n",
              "169    524     12338        ESTATUTÁRIO  ...  17190.74  12116.10  5074.64\n",
              "282    817     14158        ESTATUTÁRIO  ...  16864.75  11801.48  5063.27\n",
              "472   1343     11621        ESTATUTÁRIO  ...  16921.63  11786.04  5135.59\n",
              "533   1528     11692        ESTATUTÁRIO  ...  16875.14  11756.04  5119.10\n",
              "309    883     11791        ESTATUTÁRIO  ...  16521.69  11527.98  4993.71\n",
              "828   2445     12349  CARGO EM COMISSÃO  ...  17190.74  11445.28  5745.46\n",
              "141    436     11505        ESTATUTÁRIO  ...  16320.78  11398.34  4922.44\n",
              "126    391     12353        ESTATUTÁRIO  ...  17084.27  11376.57  5707.70\n",
              "288    824     13984        ESTATUTÁRIO  ...  16971.83  11304.02  5667.81\n",
              "\n",
              "[10 rows x 10 columns]"
            ]
          },
          "metadata": {
            "tags": []
          },
          "execution_count": 118
        }
      ]
    },
    {
      "cell_type": "code",
      "metadata": {
        "id": "muExDw04nrtA",
        "colab_type": "code",
        "outputId": "60252a9b-7b7c-4eb2-c310-b19cfa1c684d",
        "colab": {
          "base_uri": "https://localhost:8080/",
          "height": 479
        }
      },
      "source": [
        "dez_maiores_vecto_mes.boxplot(by='tipo_de_vinculo', column='liquido', rot=90, figsize=(10,5), sym='k. ')\n",
        "plt.title('10 MAIORES SALÁRIO LÍQUIDO')\n",
        "plt.ylabel('VALOR EM R$')\n",
        "plt.show()"
      ],
      "execution_count": 119,
      "outputs": [
        {
          "output_type": "display_data",
          "data": {
            "image/png": "[encoded data removed]",
            "text/plain": [
              "<Figure size 720x360 with 1 Axes>"
            ]
          },
          "metadata": {
            "tags": []
          }
        }
      ]
    },
    {
      "cell_type": "code",
      "metadata": {
        "id": "D-U3pVBSnrtE",
        "colab_type": "code",
        "outputId": "282b4329-3c00-4e39-a153-2878f817259d",
        "colab": {
          "base_uri": "https://localhost:8080/",
          "height": 238
        }
      },
      "source": [
        "round(df_df2.groupby('cargo')['liquido'].mean(), 2)"
      ],
      "execution_count": 122,
      "outputs": [
        {
          "output_type": "execute_result",
          "data": {
            "text/plain": [
              "cargo\n",
              "AGENTE COMUNITARIO DE SAUDE                  1341.30\n",
              "AGENTE DE APOIO OPERACIONAL E CONSERVACAO    2375.44\n",
              "AGENTE DE CONTROLE DE ENDEMIAS               1450.28\n",
              "AGENTE FAZENDARIO                            5446.54\n",
              "AJUDANDE DE MANUTENCAO DE AUTOS              2049.68\n",
              "                                              ...   \n",
              "TECNICO EM INFORMATICA                       1784.47\n",
              "TECNICO QUIMICO                              2820.16\n",
              "TELEFONISTA                                  2628.11\n",
              "TERAPEUTA OCUPACIONAL                        3368.43\n",
              "VICE PREFEITO                                5832.41\n",
              "Name: liquido, Length: 260, dtype: float64"
            ]
          },
          "metadata": {
            "tags": []
          },
          "execution_count": 122
        }
      ]
    },
    {
      "cell_type": "code",
      "metadata": {
        "id": "0BsuGTZXnrtI",
        "colab_type": "code",
        "outputId": "1f8e0346-ac7f-4117-bc2b-c96a357bbdf3",
        "colab": {
          "base_uri": "https://localhost:8080/",
          "height": 238
        }
      },
      "source": [
        "round(df_df2.groupby('cargo')['liquido'].sum(), 2)"
      ],
      "execution_count": 123,
      "outputs": [
        {
          "output_type": "execute_result",
          "data": {
            "text/plain": [
              "cargo\n",
              "AGENTE COMUNITARIO DE SAUDE                  18778.15\n",
              "AGENTE DE APOIO OPERACIONAL E CONSERVACAO    35631.54\n",
              "AGENTE DE CONTROLE DE ENDEMIAS                5801.11\n",
              "AGENTE FAZENDARIO                            38125.79\n",
              "AJUDANDE DE MANUTENCAO DE AUTOS               4099.36\n",
              "                                               ...   \n",
              "TECNICO EM INFORMATICA                        3568.94\n",
              "TECNICO QUIMICO                               5640.31\n",
              "TELEFONISTA                                  10512.44\n",
              "TERAPEUTA OCUPACIONAL                         3368.43\n",
              "VICE PREFEITO                                 5832.41\n",
              "Name: liquido, Length: 260, dtype: float64"
            ]
          },
          "metadata": {
            "tags": []
          },
          "execution_count": 123
        }
      ]
    },
    {
      "cell_type": "code",
      "metadata": {
        "id": "35S7Jld6nrtJ",
        "colab_type": "code",
        "outputId": "7d865298-08b0-4490-d48f-4a73bc2b41e3",
        "colab": {
          "base_uri": "https://localhost:8080/",
          "height": 204
        }
      },
      "source": [
        "# breaking the groupby down\n",
        "ativo = df_df2.loc[df_df2['situacao'] == 'ATIVO', :]\n",
        "ativo.head()"
      ],
      "execution_count": 124,
      "outputs": [
        {
          "output_type": "execute_result",
          "data": {
            "text/html": [
              "<div>\n",
              "<style scoped>\n",
              "    .dataframe tbody tr th:only-of-type {\n",
              "        vertical-align: middle;\n",
              "    }\n",
              "\n",
              "    .dataframe tbody tr th {\n",
              "        vertical-align: top;\n",
              "    }\n",
              "\n",
              "    .dataframe thead th {\n",
              "        text-align: right;\n",
              "    }\n",
              "</style>\n",
              "<table border=\"1\" class=\"dataframe\">\n",
              "  <thead>\n",
              "    <tr style=\"text-align: right;\">\n",
              "      <th></th>\n",
              "      <th>matricula</th>\n",
              "      <th>tipo_de_vinculo</th>\n",
              "      <th>lotacao</th>\n",
              "      <th>local_de_trabalho</th>\n",
              "      <th>cargo</th>\n",
              "      <th>situacao</th>\n",
              "      <th>vecto_mes</th>\n",
              "      <th>liquido</th>\n",
              "      <th>dif</th>\n",
              "    </tr>\n",
              "  </thead>\n",
              "  <tbody>\n",
              "    <tr>\n",
              "      <th>0</th>\n",
              "      <td>13646</td>\n",
              "      <td>ESTATUTÁRIO</td>\n",
              "      <td>SECRETARIA DE SERVICOS PUBLICOS</td>\n",
              "      <td>SERVICOS PUBLICOS</td>\n",
              "      <td>ELETRICISTA</td>\n",
              "      <td>ATIVO</td>\n",
              "      <td>2250.40</td>\n",
              "      <td>1745.52</td>\n",
              "      <td>504.88</td>\n",
              "    </tr>\n",
              "    <tr>\n",
              "      <th>1</th>\n",
              "      <td>13647</td>\n",
              "      <td>ESTATUTÁRIO</td>\n",
              "      <td>SECRETARIA DE EDUCACAO</td>\n",
              "      <td>SECRETARIA DE EDUCACAO</td>\n",
              "      <td>AGENTE DE APOIO OPERACIONAL E CONSERVACAO</td>\n",
              "      <td>ATIVO</td>\n",
              "      <td>3150.30</td>\n",
              "      <td>2413.45</td>\n",
              "      <td>736.85</td>\n",
              "    </tr>\n",
              "    <tr>\n",
              "      <th>2</th>\n",
              "      <td>13648</td>\n",
              "      <td>ESTATUTÁRIO</td>\n",
              "      <td>SECAO DE VIGILANCIA</td>\n",
              "      <td>PAÇO</td>\n",
              "      <td>AGENTE DE APOIO OPERACIONAL E CONSERVACAO</td>\n",
              "      <td>ATIVO</td>\n",
              "      <td>5272.67</td>\n",
              "      <td>4172.73</td>\n",
              "      <td>1099.94</td>\n",
              "    </tr>\n",
              "    <tr>\n",
              "      <th>3</th>\n",
              "      <td>11561</td>\n",
              "      <td>ESTATUTÁRIO</td>\n",
              "      <td>SECRETARIA DE EDUCACAO</td>\n",
              "      <td>SECRETARIA DE EDUCACAO</td>\n",
              "      <td>MOTORISTA</td>\n",
              "      <td>ATIVO</td>\n",
              "      <td>4360.52</td>\n",
              "      <td>2888.97</td>\n",
              "      <td>1471.55</td>\n",
              "    </tr>\n",
              "    <tr>\n",
              "      <th>4</th>\n",
              "      <td>13577</td>\n",
              "      <td>ESTATUTÁRIO</td>\n",
              "      <td>EMEI CRECHE ALDA LUCHINI VIAL</td>\n",
              "      <td>CMEI ALDA LUCHINI VIAL</td>\n",
              "      <td>AUXILIAR DE SERVICOS INFANTIS</td>\n",
              "      <td>ATIVO</td>\n",
              "      <td>1822.69</td>\n",
              "      <td>1062.90</td>\n",
              "      <td>759.79</td>\n",
              "    </tr>\n",
              "  </tbody>\n",
              "</table>\n",
              "</div>"
            ],
            "text/plain": [
              "  matricula tipo_de_vinculo  ...  liquido      dif\n",
              "0     13646     ESTATUTÁRIO  ...  1745.52   504.88\n",
              "1     13647     ESTATUTÁRIO  ...  2413.45   736.85\n",
              "2     13648     ESTATUTÁRIO  ...  4172.73  1099.94\n",
              "3     11561     ESTATUTÁRIO  ...  2888.97  1471.55\n",
              "4     13577     ESTATUTÁRIO  ...  1062.90   759.79\n",
              "\n",
              "[5 rows x 9 columns]"
            ]
          },
          "metadata": {
            "tags": []
          },
          "execution_count": 124
        }
      ]
    },
    {
      "cell_type": "code",
      "metadata": {
        "id": "tm9Q1jWWnrtL",
        "colab_type": "code",
        "outputId": "b7597a9e-4337-4c0a-ff1d-6991edff7081",
        "colab": {
          "base_uri": "https://localhost:8080/",
          "height": 297
        }
      },
      "source": [
        "round(df_df2.groupby(['situacao', 'tipo_de_vinculo'])[['vecto_mes', 'liquido']].sum(), 2)"
      ],
      "execution_count": 125,
      "outputs": [
        {
          "output_type": "execute_result",
          "data": {
            "text/html": [
              "<div>\n",
              "<style scoped>\n",
              "    .dataframe tbody tr th:only-of-type {\n",
              "        vertical-align: middle;\n",
              "    }\n",
              "\n",
              "    .dataframe tbody tr th {\n",
              "        vertical-align: top;\n",
              "    }\n",
              "\n",
              "    .dataframe thead th {\n",
              "        text-align: right;\n",
              "    }\n",
              "</style>\n",
              "<table border=\"1\" class=\"dataframe\">\n",
              "  <thead>\n",
              "    <tr style=\"text-align: right;\">\n",
              "      <th></th>\n",
              "      <th></th>\n",
              "      <th>vecto_mes</th>\n",
              "      <th>liquido</th>\n",
              "    </tr>\n",
              "    <tr>\n",
              "      <th>situacao</th>\n",
              "      <th>tipo_de_vinculo</th>\n",
              "      <th></th>\n",
              "      <th></th>\n",
              "    </tr>\n",
              "  </thead>\n",
              "  <tbody>\n",
              "    <tr>\n",
              "      <th rowspan=\"5\" valign=\"top\">ATIVO</th>\n",
              "      <th>AGENTE POLÍTICO</th>\n",
              "      <td>25388.19</td>\n",
              "      <td>12752.71</td>\n",
              "    </tr>\n",
              "    <tr>\n",
              "      <th>CARGO EM COMISSÃO</th>\n",
              "      <td>1010513.39</td>\n",
              "      <td>693827.89</td>\n",
              "    </tr>\n",
              "    <tr>\n",
              "      <th>ESTAGIÁRIO</th>\n",
              "      <td>138597.23</td>\n",
              "      <td>135717.79</td>\n",
              "    </tr>\n",
              "    <tr>\n",
              "      <th>ESTATUTÁRIO</th>\n",
              "      <td>7747185.44</td>\n",
              "      <td>5215634.23</td>\n",
              "    </tr>\n",
              "    <tr>\n",
              "      <th>TEMPORÁRIO</th>\n",
              "      <td>157098.28</td>\n",
              "      <td>141229.53</td>\n",
              "    </tr>\n",
              "    <tr>\n",
              "      <th rowspan=\"2\" valign=\"top\">DESLIGADO</th>\n",
              "      <th>ESTAGIÁRIO</th>\n",
              "      <td>32.70</td>\n",
              "      <td>32.70</td>\n",
              "    </tr>\n",
              "    <tr>\n",
              "      <th>TEMPORÁRIO</th>\n",
              "      <td>3754.05</td>\n",
              "      <td>2605.86</td>\n",
              "    </tr>\n",
              "  </tbody>\n",
              "</table>\n",
              "</div>"
            ],
            "text/plain": [
              "                              vecto_mes     liquido\n",
              "situacao  tipo_de_vinculo                          \n",
              "ATIVO     AGENTE POLÍTICO      25388.19    12752.71\n",
              "          CARGO EM COMISSÃO  1010513.39   693827.89\n",
              "          ESTAGIÁRIO          138597.23   135717.79\n",
              "          ESTATUTÁRIO        7747185.44  5215634.23\n",
              "          TEMPORÁRIO          157098.28   141229.53\n",
              "DESLIGADO ESTAGIÁRIO              32.70       32.70\n",
              "          TEMPORÁRIO            3754.05     2605.86"
            ]
          },
          "metadata": {
            "tags": []
          },
          "execution_count": 125
        }
      ]
    },
    {
      "cell_type": "code",
      "metadata": {
        "id": "FWNrYSRxnrtN",
        "colab_type": "code",
        "outputId": "a5c2f23b-a327-4f09-ec83-20b3b69a8c84",
        "colab": {
          "base_uri": "https://localhost:8080/",
          "height": 80
        }
      },
      "source": [
        "df_df2.loc[df_df2['matricula'] == 13577]"
      ],
      "execution_count": 126,
      "outputs": [
        {
          "output_type": "execute_result",
          "data": {
            "text/html": [
              "<div>\n",
              "<style scoped>\n",
              "    .dataframe tbody tr th:only-of-type {\n",
              "        vertical-align: middle;\n",
              "    }\n",
              "\n",
              "    .dataframe tbody tr th {\n",
              "        vertical-align: top;\n",
              "    }\n",
              "\n",
              "    .dataframe thead th {\n",
              "        text-align: right;\n",
              "    }\n",
              "</style>\n",
              "<table border=\"1\" class=\"dataframe\">\n",
              "  <thead>\n",
              "    <tr style=\"text-align: right;\">\n",
              "      <th></th>\n",
              "      <th>matricula</th>\n",
              "      <th>tipo_de_vinculo</th>\n",
              "      <th>lotacao</th>\n",
              "      <th>local_de_trabalho</th>\n",
              "      <th>cargo</th>\n",
              "      <th>situacao</th>\n",
              "      <th>vecto_mes</th>\n",
              "      <th>liquido</th>\n",
              "      <th>dif</th>\n",
              "    </tr>\n",
              "  </thead>\n",
              "  <tbody>\n",
              "    <tr>\n",
              "      <th>4</th>\n",
              "      <td>13577</td>\n",
              "      <td>ESTATUTÁRIO</td>\n",
              "      <td>EMEI CRECHE ALDA LUCHINI VIAL</td>\n",
              "      <td>CMEI ALDA LUCHINI VIAL</td>\n",
              "      <td>AUXILIAR DE SERVICOS INFANTIS</td>\n",
              "      <td>ATIVO</td>\n",
              "      <td>1822.69</td>\n",
              "      <td>1062.9</td>\n",
              "      <td>759.79</td>\n",
              "    </tr>\n",
              "  </tbody>\n",
              "</table>\n",
              "</div>"
            ],
            "text/plain": [
              "  matricula tipo_de_vinculo  ... liquido     dif\n",
              "4     13577     ESTATUTÁRIO  ...  1062.9  759.79\n",
              "\n",
              "[1 rows x 9 columns]"
            ]
          },
          "metadata": {
            "tags": []
          },
          "execution_count": 126
        }
      ]
    },
    {
      "cell_type": "code",
      "metadata": {
        "id": "juLmsuzJnrtQ",
        "colab_type": "code",
        "colab": {}
      },
      "source": [
        "df_df2.loc[df_df2['nome'] == 'ESCREVA O NOME DA COLABORADOR']"
      ],
      "execution_count": 0,
      "outputs": []
    },
    {
      "cell_type": "code",
      "metadata": {
        "id": "67UKV1junrtS",
        "colab_type": "code",
        "colab": {}
      },
      "source": [
        "# quero criar uma outra coluna no meu dataframe, nesta coluna quero categorizar os imóveis entre Big(Grande), Medium(Médio) e Small(Pequeno)\n",
        "# apply()\n",
        "def categoriza(tamanho_liquido):\n",
        "    if tamanho_liquido >= 6000:\n",
        "        return 'Grande';\n",
        "    elif tamanho_liquido >= 3000:\n",
        "        return 'Medio';\n",
        "    elif tamanho_liquido >= 960:\n",
        "        return 'Pequeno';   "
      ],
      "execution_count": 0,
      "outputs": []
    },
    {
      "cell_type": "code",
      "metadata": {
        "id": "11lciCaOnrtX",
        "colab_type": "code",
        "outputId": "d3490fdc-86a2-45dd-a5d3-7eb9c2d930f0",
        "colab": {
          "base_uri": "https://localhost:8080/",
          "height": 221
        }
      },
      "source": [
        "# passar os dados para a função usando o método apply()\n",
        "df_df2['nivel_liquido'] = df_df2['liquido'].apply(categoriza)\n",
        "df_df2['nivel_liquido']"
      ],
      "execution_count": 129,
      "outputs": [
        {
          "output_type": "execute_result",
          "data": {
            "text/plain": [
              "0       Pequeno\n",
              "1       Pequeno\n",
              "2         Medio\n",
              "3       Pequeno\n",
              "4       Pequeno\n",
              "         ...   \n",
              "2478    Pequeno\n",
              "2479      Medio\n",
              "2480     Grande\n",
              "2481    Pequeno\n",
              "2482    Pequeno\n",
              "Name: nivel_liquido, Length: 2483, dtype: object"
            ]
          },
          "metadata": {
            "tags": []
          },
          "execution_count": 129
        }
      ]
    },
    {
      "cell_type": "code",
      "metadata": {
        "id": "gdwI_NFwnrta",
        "colab_type": "code",
        "outputId": "7b467470-634a-4600-ad38-5fca2e8f73e8",
        "colab": {
          "base_uri": "https://localhost:8080/",
          "height": 193
        }
      },
      "source": [
        "df_df2.head(n = 3)"
      ],
      "execution_count": 130,
      "outputs": [
        {
          "output_type": "execute_result",
          "data": {
            "text/html": [
              "<div>\n",
              "<style scoped>\n",
              "    .dataframe tbody tr th:only-of-type {\n",
              "        vertical-align: middle;\n",
              "    }\n",
              "\n",
              "    .dataframe tbody tr th {\n",
              "        vertical-align: top;\n",
              "    }\n",
              "\n",
              "    .dataframe thead th {\n",
              "        text-align: right;\n",
              "    }\n",
              "</style>\n",
              "<table border=\"1\" class=\"dataframe\">\n",
              "  <thead>\n",
              "    <tr style=\"text-align: right;\">\n",
              "      <th></th>\n",
              "      <th>matricula</th>\n",
              "      <th>tipo_de_vinculo</th>\n",
              "      <th>lotacao</th>\n",
              "      <th>local_de_trabalho</th>\n",
              "      <th>cargo</th>\n",
              "      <th>situacao</th>\n",
              "      <th>vecto_mes</th>\n",
              "      <th>liquido</th>\n",
              "      <th>dif</th>\n",
              "      <th>nivel_liquido</th>\n",
              "    </tr>\n",
              "  </thead>\n",
              "  <tbody>\n",
              "    <tr>\n",
              "      <th>0</th>\n",
              "      <td>13646</td>\n",
              "      <td>ESTATUTÁRIO</td>\n",
              "      <td>SECRETARIA DE SERVICOS PUBLICOS</td>\n",
              "      <td>SERVICOS PUBLICOS</td>\n",
              "      <td>ELETRICISTA</td>\n",
              "      <td>ATIVO</td>\n",
              "      <td>2250.40</td>\n",
              "      <td>1745.52</td>\n",
              "      <td>504.88</td>\n",
              "      <td>Pequeno</td>\n",
              "    </tr>\n",
              "    <tr>\n",
              "      <th>1</th>\n",
              "      <td>13647</td>\n",
              "      <td>ESTATUTÁRIO</td>\n",
              "      <td>SECRETARIA DE EDUCACAO</td>\n",
              "      <td>SECRETARIA DE EDUCACAO</td>\n",
              "      <td>AGENTE DE APOIO OPERACIONAL E CONSERVACAO</td>\n",
              "      <td>ATIVO</td>\n",
              "      <td>3150.30</td>\n",
              "      <td>2413.45</td>\n",
              "      <td>736.85</td>\n",
              "      <td>Pequeno</td>\n",
              "    </tr>\n",
              "    <tr>\n",
              "      <th>2</th>\n",
              "      <td>13648</td>\n",
              "      <td>ESTATUTÁRIO</td>\n",
              "      <td>SECAO DE VIGILANCIA</td>\n",
              "      <td>PAÇO</td>\n",
              "      <td>AGENTE DE APOIO OPERACIONAL E CONSERVACAO</td>\n",
              "      <td>ATIVO</td>\n",
              "      <td>5272.67</td>\n",
              "      <td>4172.73</td>\n",
              "      <td>1099.94</td>\n",
              "      <td>Medio</td>\n",
              "    </tr>\n",
              "  </tbody>\n",
              "</table>\n",
              "</div>"
            ],
            "text/plain": [
              "  matricula tipo_de_vinculo  ...      dif nivel_liquido\n",
              "0     13646     ESTATUTÁRIO  ...   504.88       Pequeno\n",
              "1     13647     ESTATUTÁRIO  ...   736.85       Pequeno\n",
              "2     13648     ESTATUTÁRIO  ...  1099.94         Medio\n",
              "\n",
              "[3 rows x 10 columns]"
            ]
          },
          "metadata": {
            "tags": []
          },
          "execution_count": 130
        }
      ]
    },
    {
      "cell_type": "code",
      "metadata": {
        "id": "Thk4DGeAnrtc",
        "colab_type": "code",
        "outputId": "6d7206a8-d1cb-4a2d-e9b2-aa3660d84b10",
        "colab": {
          "base_uri": "https://localhost:8080/",
          "height": 85
        }
      },
      "source": [
        "#distribuição dos valores da coluna\n",
        "pd.value_counts(df_df2['nivel_liquido'])"
      ],
      "execution_count": 131,
      "outputs": [
        {
          "output_type": "execute_result",
          "data": {
            "text/plain": [
              "Pequeno    1490\n",
              "Medio       489\n",
              "Grande      160\n",
              "Name: nivel_liquido, dtype: int64"
            ]
          },
          "metadata": {
            "tags": []
          },
          "execution_count": 131
        }
      ]
    },
    {
      "cell_type": "code",
      "metadata": {
        "id": "TO0fvwwxnrte",
        "colab_type": "code",
        "outputId": "f6d0e3bc-02b8-4f62-eae1-33839d4dd8a9",
        "colab": {
          "base_uri": "https://localhost:8080/",
          "height": 335
        }
      },
      "source": [
        "df_df2[['vecto_mes','liquido']].hist(bins=30,alpha=0.5,color='Green')"
      ],
      "execution_count": 132,
      "outputs": [
        {
          "output_type": "execute_result",
          "data": {
            "text/plain": [
              "array([[<matplotlib.axes._subplots.AxesSubplot object at 0x7f74e072b0b8>,\n",
              "        <matplotlib.axes._subplots.AxesSubplot object at 0x7f74e06d0dd8>]],\n",
              "      dtype=object)"
            ]
          },
          "metadata": {
            "tags": []
          },
          "execution_count": 132
        },
        {
          "output_type": "display_data",
          "data": {
            "image/png": "[encoded data removed]",
            "text/plain": [
              "<Figure size 432x288 with 2 Axes>"
            ]
          },
          "metadata": {
            "tags": []
          }
        }
      ]
    },
    {
      "cell_type": "code",
      "metadata": {
        "id": "BbGnP-MOnrtg",
        "colab_type": "code",
        "outputId": "2e75f903-a1bf-4375-ed07-f25c6c1ae077",
        "colab": {
          "base_uri": "https://localhost:8080/",
          "height": 241
        }
      },
      "source": [
        "df_df2[(df_df2.nivel_liquido == 'Grande') & (df_df2.liquido >= 10000) & (df_df2.tipo_de_vinculo == 'CARGO EM COMISSÃO')]\n"
      ],
      "execution_count": 133,
      "outputs": [
        {
          "output_type": "execute_result",
          "data": {
            "text/html": [
              "<div>\n",
              "<style scoped>\n",
              "    .dataframe tbody tr th:only-of-type {\n",
              "        vertical-align: middle;\n",
              "    }\n",
              "\n",
              "    .dataframe tbody tr th {\n",
              "        vertical-align: top;\n",
              "    }\n",
              "\n",
              "    .dataframe thead th {\n",
              "        text-align: right;\n",
              "    }\n",
              "</style>\n",
              "<table border=\"1\" class=\"dataframe\">\n",
              "  <thead>\n",
              "    <tr style=\"text-align: right;\">\n",
              "      <th></th>\n",
              "      <th>matricula</th>\n",
              "      <th>tipo_de_vinculo</th>\n",
              "      <th>lotacao</th>\n",
              "      <th>local_de_trabalho</th>\n",
              "      <th>cargo</th>\n",
              "      <th>situacao</th>\n",
              "      <th>vecto_mes</th>\n",
              "      <th>liquido</th>\n",
              "      <th>dif</th>\n",
              "      <th>nivel_liquido</th>\n",
              "    </tr>\n",
              "  </thead>\n",
              "  <tbody>\n",
              "    <tr>\n",
              "      <th>400</th>\n",
              "      <td>10306</td>\n",
              "      <td>CARGO EM COMISSÃO</td>\n",
              "      <td>SECRETARIA DE SAUDE</td>\n",
              "      <td>PAÇO</td>\n",
              "      <td>DIRETOR DEPTO MEDICINA</td>\n",
              "      <td>ATIVO</td>\n",
              "      <td>16173.41</td>\n",
              "      <td>11303.25</td>\n",
              "      <td>4870.16</td>\n",
              "      <td>Grande</td>\n",
              "    </tr>\n",
              "    <tr>\n",
              "      <th>1116</th>\n",
              "      <td>12140</td>\n",
              "      <td>CARGO EM COMISSÃO</td>\n",
              "      <td>UPA CENTRAL</td>\n",
              "      <td>PAÇO</td>\n",
              "      <td>DIRETOR DE DEP MED DE URGENCIA E</td>\n",
              "      <td>ATIVO</td>\n",
              "      <td>15445.86</td>\n",
              "      <td>10833.80</td>\n",
              "      <td>4612.06</td>\n",
              "      <td>Grande</td>\n",
              "    </tr>\n",
              "    <tr>\n",
              "      <th>1294</th>\n",
              "      <td>10048</td>\n",
              "      <td>CARGO EM COMISSÃO</td>\n",
              "      <td>CONTROLE DE ZOONOSES</td>\n",
              "      <td>PAÇO</td>\n",
              "      <td>COORDENADOR CONTROLE DE ZOONOSES</td>\n",
              "      <td>ATIVO</td>\n",
              "      <td>16615.94</td>\n",
              "      <td>11074.39</td>\n",
              "      <td>5541.55</td>\n",
              "      <td>Grande</td>\n",
              "    </tr>\n",
              "    <tr>\n",
              "      <th>2445</th>\n",
              "      <td>12349</td>\n",
              "      <td>CARGO EM COMISSÃO</td>\n",
              "      <td>DEPTO TRIBUTACAO RECEITA E FISCALIZACAO</td>\n",
              "      <td>PAÇO</td>\n",
              "      <td>JULGADOR TRIBUTARIO SECR, FINANCAS</td>\n",
              "      <td>ATIVO</td>\n",
              "      <td>17190.74</td>\n",
              "      <td>11445.28</td>\n",
              "      <td>5745.46</td>\n",
              "      <td>Grande</td>\n",
              "    </tr>\n",
              "  </tbody>\n",
              "</table>\n",
              "</div>"
            ],
            "text/plain": [
              "     matricula    tipo_de_vinculo  ...      dif nivel_liquido\n",
              "400      10306  CARGO EM COMISSÃO  ...  4870.16        Grande\n",
              "1116     12140  CARGO EM COMISSÃO  ...  4612.06        Grande\n",
              "1294     10048  CARGO EM COMISSÃO  ...  5541.55        Grande\n",
              "2445     12349  CARGO EM COMISSÃO  ...  5745.46        Grande\n",
              "\n",
              "[4 rows x 10 columns]"
            ]
          },
          "metadata": {
            "tags": []
          },
          "execution_count": 133
        }
      ]
    },
    {
      "cell_type": "code",
      "metadata": {
        "id": "WcBpbmfinrth",
        "colab_type": "code",
        "colab": {}
      },
      "source": [
        "df_df2[df_df2['nome'].str.contains(\"QUALQUER PARTE DO NOME NA BUSCA\")]"
      ],
      "execution_count": 0,
      "outputs": []
    },
    {
      "cell_type": "code",
      "metadata": {
        "id": "rdtE4TWbnrtj",
        "colab_type": "code",
        "outputId": "74addbe6-e444-488c-b319-a6c9f95ecfff",
        "colab": {
          "base_uri": "https://localhost:8080/",
          "height": 1000
        }
      },
      "source": [
        "df_df2[df_df2['cargo'].str.contains('CHEFE')].sort_values(by = 'liquido', ascending = False)"
      ],
      "execution_count": 135,
      "outputs": [
        {
          "output_type": "execute_result",
          "data": {
            "text/html": [
              "<div>\n",
              "<style scoped>\n",
              "    .dataframe tbody tr th:only-of-type {\n",
              "        vertical-align: middle;\n",
              "    }\n",
              "\n",
              "    .dataframe tbody tr th {\n",
              "        vertical-align: top;\n",
              "    }\n",
              "\n",
              "    .dataframe thead th {\n",
              "        text-align: right;\n",
              "    }\n",
              "</style>\n",
              "<table border=\"1\" class=\"dataframe\">\n",
              "  <thead>\n",
              "    <tr style=\"text-align: right;\">\n",
              "      <th></th>\n",
              "      <th>matricula</th>\n",
              "      <th>tipo_de_vinculo</th>\n",
              "      <th>lotacao</th>\n",
              "      <th>local_de_trabalho</th>\n",
              "      <th>cargo</th>\n",
              "      <th>situacao</th>\n",
              "      <th>vecto_mes</th>\n",
              "      <th>liquido</th>\n",
              "      <th>dif</th>\n",
              "      <th>nivel_liquido</th>\n",
              "    </tr>\n",
              "  </thead>\n",
              "  <tbody>\n",
              "    <tr>\n",
              "      <th>467</th>\n",
              "      <td>12326</td>\n",
              "      <td>CARGO EM COMISSÃO</td>\n",
              "      <td>DEPTO TRIBUTACAO RECEITA E FISCALIZACAO</td>\n",
              "      <td>PAÇO</td>\n",
              "      <td>CHEFE SECAO DE TESOURARIA</td>\n",
              "      <td>ATIVO</td>\n",
              "      <td>11237.18</td>\n",
              "      <td>8199.01</td>\n",
              "      <td>3038.17</td>\n",
              "      <td>Grande</td>\n",
              "    </tr>\n",
              "    <tr>\n",
              "      <th>1282</th>\n",
              "      <td>12776</td>\n",
              "      <td>CARGO EM COMISSÃO</td>\n",
              "      <td>DEPTO TRIBUTACAO RECEITA E FISCALIZACAO</td>\n",
              "      <td>PAÇO</td>\n",
              "      <td>CHEFE DE SECAO CONTR MELHORIA ITBI SEF</td>\n",
              "      <td>ATIVO</td>\n",
              "      <td>7602.68</td>\n",
              "      <td>5953.06</td>\n",
              "      <td>1649.62</td>\n",
              "      <td>Medio</td>\n",
              "    </tr>\n",
              "    <tr>\n",
              "      <th>2161</th>\n",
              "      <td>12512</td>\n",
              "      <td>CARGO EM COMISSÃO</td>\n",
              "      <td>SERVICO DE INFORMATICA</td>\n",
              "      <td>PAÇO</td>\n",
              "      <td>CHEFE SERV DE INFORMATICA</td>\n",
              "      <td>ATIVO</td>\n",
              "      <td>6857.92</td>\n",
              "      <td>5471.23</td>\n",
              "      <td>1386.69</td>\n",
              "      <td>Medio</td>\n",
              "    </tr>\n",
              "    <tr>\n",
              "      <th>2460</th>\n",
              "      <td>13247</td>\n",
              "      <td>CARGO EM COMISSÃO</td>\n",
              "      <td>SECRETARIA DE CULTURA</td>\n",
              "      <td>PAÇO</td>\n",
              "      <td>CHEFE SERV DE GESTAO PROJ E ACERVOS</td>\n",
              "      <td>ATIVO</td>\n",
              "      <td>6095.93</td>\n",
              "      <td>5011.41</td>\n",
              "      <td>1084.52</td>\n",
              "      <td>Medio</td>\n",
              "    </tr>\n",
              "    <tr>\n",
              "      <th>25</th>\n",
              "      <td>12822</td>\n",
              "      <td>CARGO EM COMISSÃO</td>\n",
              "      <td>PLANEJAMENTO E DESENVOLVIMENTO</td>\n",
              "      <td>PAÇO</td>\n",
              "      <td>CHEFE SERV ACOMPANH PROJ E GESTAO</td>\n",
              "      <td>ATIVO</td>\n",
              "      <td>6376.66</td>\n",
              "      <td>4957.91</td>\n",
              "      <td>1418.75</td>\n",
              "      <td>Medio</td>\n",
              "    </tr>\n",
              "    <tr>\n",
              "      <th>1948</th>\n",
              "      <td>13885</td>\n",
              "      <td>CARGO EM COMISSÃO</td>\n",
              "      <td>DEPARTAMENTO DE RECURSOS HUMANOS</td>\n",
              "      <td>PAÇO</td>\n",
              "      <td>CHEFE DE SERVICO DE FOLHA DE PAGAMENTO SEA</td>\n",
              "      <td>ATIVO</td>\n",
              "      <td>6456.87</td>\n",
              "      <td>4896.02</td>\n",
              "      <td>1560.85</td>\n",
              "      <td>Medio</td>\n",
              "    </tr>\n",
              "    <tr>\n",
              "      <th>1412</th>\n",
              "      <td>10828</td>\n",
              "      <td>CARGO EM COMISSÃO</td>\n",
              "      <td>SECRETARIA DE SAUDE</td>\n",
              "      <td>SECRETARIA DE SAUDE</td>\n",
              "      <td>CHEFE DE GESTAO DE PESSOAL SESA</td>\n",
              "      <td>ATIVO</td>\n",
              "      <td>6381.42</td>\n",
              "      <td>4502.15</td>\n",
              "      <td>1879.27</td>\n",
              "      <td>Medio</td>\n",
              "    </tr>\n",
              "    <tr>\n",
              "      <th>571</th>\n",
              "      <td>81377</td>\n",
              "      <td>CARGO EM COMISSÃO</td>\n",
              "      <td>SECRETARIA DE OBRAS E URBANISMO</td>\n",
              "      <td>PAÇO</td>\n",
              "      <td>CHEFE DE SERVICO DE CONTROLE DE USO DE</td>\n",
              "      <td>ATIVO</td>\n",
              "      <td>5614.67</td>\n",
              "      <td>4490.23</td>\n",
              "      <td>1124.44</td>\n",
              "      <td>Medio</td>\n",
              "    </tr>\n",
              "    <tr>\n",
              "      <th>2455</th>\n",
              "      <td>81266</td>\n",
              "      <td>CARGO EM COMISSÃO</td>\n",
              "      <td>PLANEJAMENTO E DESENVOLVIMENTO</td>\n",
              "      <td>PAÇO</td>\n",
              "      <td>CHEFE DE SERV DE APOIO E F AO EMPREED E</td>\n",
              "      <td>ATIVO</td>\n",
              "      <td>5614.67</td>\n",
              "      <td>4490.23</td>\n",
              "      <td>1124.44</td>\n",
              "      <td>Medio</td>\n",
              "    </tr>\n",
              "    <tr>\n",
              "      <th>14</th>\n",
              "      <td>13502</td>\n",
              "      <td>CARGO EM COMISSÃO</td>\n",
              "      <td>SECRETARIA DE OBRAS E URBANISMO</td>\n",
              "      <td>PAÇO</td>\n",
              "      <td>CHEFE SERVICO DE GESTAO E ACOMP, DE OBRAS</td>\n",
              "      <td>ATIVO</td>\n",
              "      <td>5815.19</td>\n",
              "      <td>4412.30</td>\n",
              "      <td>1402.89</td>\n",
              "      <td>Medio</td>\n",
              "    </tr>\n",
              "    <tr>\n",
              "      <th>1159</th>\n",
              "      <td>13528</td>\n",
              "      <td>CARGO EM COMISSÃO</td>\n",
              "      <td>SECRETARIA DE GOVERNO</td>\n",
              "      <td>GABINETE</td>\n",
              "      <td>CHEFE SECAO DA JUNTA DE SERVICO MILITAR</td>\n",
              "      <td>ATIVO</td>\n",
              "      <td>5483.16</td>\n",
              "      <td>4387.09</td>\n",
              "      <td>1096.07</td>\n",
              "      <td>Medio</td>\n",
              "    </tr>\n",
              "    <tr>\n",
              "      <th>1424</th>\n",
              "      <td>12741</td>\n",
              "      <td>CARGO EM COMISSÃO</td>\n",
              "      <td>SERVICO DE LICITACAO</td>\n",
              "      <td>PAÇO</td>\n",
              "      <td>CHEFE DE SERVICO DE LICITACAO SEA</td>\n",
              "      <td>ATIVO</td>\n",
              "      <td>5574.57</td>\n",
              "      <td>4303.82</td>\n",
              "      <td>1270.75</td>\n",
              "      <td>Medio</td>\n",
              "    </tr>\n",
              "    <tr>\n",
              "      <th>65</th>\n",
              "      <td>12780</td>\n",
              "      <td>CARGO EM COMISSÃO</td>\n",
              "      <td>DEPARTAMENTO DE RECURSOS HUMANOS</td>\n",
              "      <td>PAÇO</td>\n",
              "      <td>CHEFE DE SERV DE VIDA FUNCIONAL SEG E MED</td>\n",
              "      <td>ATIVO</td>\n",
              "      <td>5975.61</td>\n",
              "      <td>4274.21</td>\n",
              "      <td>1701.40</td>\n",
              "      <td>Medio</td>\n",
              "    </tr>\n",
              "    <tr>\n",
              "      <th>1492</th>\n",
              "      <td>12529</td>\n",
              "      <td>CARGO EM COMISSÃO</td>\n",
              "      <td>SECRETARIA DE OBRAS E URBANISMO</td>\n",
              "      <td>PAÇO</td>\n",
              "      <td>CHEFE DE SERVICO DE TOPOGRAFIA E DESENHO</td>\n",
              "      <td>ATIVO</td>\n",
              "      <td>4491.73</td>\n",
              "      <td>3738.88</td>\n",
              "      <td>752.85</td>\n",
              "      <td>Medio</td>\n",
              "    </tr>\n",
              "    <tr>\n",
              "      <th>2122</th>\n",
              "      <td>10553</td>\n",
              "      <td>CARGO EM COMISSÃO</td>\n",
              "      <td>SECRETARIA DE CULTURA</td>\n",
              "      <td>PORTARIA</td>\n",
              "      <td>CHEFE DE SECAO DE TURISMO E LAZER</td>\n",
              "      <td>ATIVO</td>\n",
              "      <td>6302.82</td>\n",
              "      <td>3458.22</td>\n",
              "      <td>2844.60</td>\n",
              "      <td>Medio</td>\n",
              "    </tr>\n",
              "    <tr>\n",
              "      <th>567</th>\n",
              "      <td>12778</td>\n",
              "      <td>CARGO EM COMISSÃO</td>\n",
              "      <td>DEPTO  LICITACAO E CONTRATO</td>\n",
              "      <td>PAÇO</td>\n",
              "      <td>CHEFE SERV DE CONTROLE ADM DE CONTRATOS</td>\n",
              "      <td>ATIVO</td>\n",
              "      <td>5173.52</td>\n",
              "      <td>3431.34</td>\n",
              "      <td>1742.18</td>\n",
              "      <td>Medio</td>\n",
              "    </tr>\n",
              "    <tr>\n",
              "      <th>530</th>\n",
              "      <td>81339</td>\n",
              "      <td>CARGO EM COMISSÃO</td>\n",
              "      <td>SECRETARIA DE NEGOCIOS JURIDICOS</td>\n",
              "      <td>PAÇO</td>\n",
              "      <td>CHEFE DE SERVICO DE PATR, E DOCUMENTACAO</td>\n",
              "      <td>ATIVO</td>\n",
              "      <td>4010.48</td>\n",
              "      <td>3386.73</td>\n",
              "      <td>623.75</td>\n",
              "      <td>Medio</td>\n",
              "    </tr>\n",
              "    <tr>\n",
              "      <th>103</th>\n",
              "      <td>11036</td>\n",
              "      <td>CARGO EM COMISSÃO</td>\n",
              "      <td>SECRETARIA DE SERVICOS PUBLICOS</td>\n",
              "      <td>SERVICOS PUBLICOS</td>\n",
              "      <td>CHEFE DE SECAO DE PAVIMENTACAO SESP</td>\n",
              "      <td>ATIVO</td>\n",
              "      <td>5491.77</td>\n",
              "      <td>3256.38</td>\n",
              "      <td>2235.39</td>\n",
              "      <td>Medio</td>\n",
              "    </tr>\n",
              "    <tr>\n",
              "      <th>535</th>\n",
              "      <td>12549</td>\n",
              "      <td>CARGO EM COMISSÃO</td>\n",
              "      <td>SECRETARIA DE CULTURA</td>\n",
              "      <td>PAÇO</td>\n",
              "      <td>CHEFE DE SECAO DE EVENTOS SECTUR</td>\n",
              "      <td>ATIVO</td>\n",
              "      <td>4030.66</td>\n",
              "      <td>3134.98</td>\n",
              "      <td>895.68</td>\n",
              "      <td>Medio</td>\n",
              "    </tr>\n",
              "    <tr>\n",
              "      <th>1883</th>\n",
              "      <td>81351</td>\n",
              "      <td>CARGO EM COMISSÃO</td>\n",
              "      <td>SECRETARIA DE ADMINISTRACAO  SEA</td>\n",
              "      <td>PAÇO</td>\n",
              "      <td>CHEFE DE SECAO DE GESTAO OP DE</td>\n",
              "      <td>ATIVO</td>\n",
              "      <td>3631.23</td>\n",
              "      <td>3128.27</td>\n",
              "      <td>502.96</td>\n",
              "      <td>Medio</td>\n",
              "    </tr>\n",
              "    <tr>\n",
              "      <th>2021</th>\n",
              "      <td>81383</td>\n",
              "      <td>CARGO EM COMISSÃO</td>\n",
              "      <td>SECRETARIA DE SERVICOS PUBLICOS</td>\n",
              "      <td>SERVICOS PUBLICOS</td>\n",
              "      <td>CHEFE SECAO DE LIMPEZA PUBLICA</td>\n",
              "      <td>ATIVO</td>\n",
              "      <td>3631.23</td>\n",
              "      <td>3099.83</td>\n",
              "      <td>531.40</td>\n",
              "      <td>Medio</td>\n",
              "    </tr>\n",
              "    <tr>\n",
              "      <th>1230</th>\n",
              "      <td>81238</td>\n",
              "      <td>CARGO EM COMISSÃO</td>\n",
              "      <td>SECRETARIA DE MEIO AMBIENTE</td>\n",
              "      <td>MEIO AMBIENTE</td>\n",
              "      <td>CHEFE SECAO DE PLANEJ E EDUCACAO</td>\n",
              "      <td>ATIVO</td>\n",
              "      <td>3631.23</td>\n",
              "      <td>3099.83</td>\n",
              "      <td>531.40</td>\n",
              "      <td>Medio</td>\n",
              "    </tr>\n",
              "    <tr>\n",
              "      <th>1061</th>\n",
              "      <td>81010</td>\n",
              "      <td>CARGO EM COMISSÃO</td>\n",
              "      <td>SECRETARIA DE SERVICOS PUBLICOS</td>\n",
              "      <td>SERVICOS PUBLICOS</td>\n",
              "      <td>CHEFE DE SERV DE EXP GESTAO PESSOAL E</td>\n",
              "      <td>ATIVO</td>\n",
              "      <td>4010.48</td>\n",
              "      <td>3076.46</td>\n",
              "      <td>934.02</td>\n",
              "      <td>Medio</td>\n",
              "    </tr>\n",
              "    <tr>\n",
              "      <th>621</th>\n",
              "      <td>13476</td>\n",
              "      <td>CARGO EM COMISSÃO</td>\n",
              "      <td>SECRETARIA DE MEIO AMBIENTE</td>\n",
              "      <td>SERVICOS PUBLICOS</td>\n",
              "      <td>CHEFE DE SECAO DE PAISAGISMO E PODA SEMA</td>\n",
              "      <td>ATIVO</td>\n",
              "      <td>4423.10</td>\n",
              "      <td>3059.21</td>\n",
              "      <td>1363.89</td>\n",
              "      <td>Medio</td>\n",
              "    </tr>\n",
              "    <tr>\n",
              "      <th>617</th>\n",
              "      <td>81287</td>\n",
              "      <td>CARGO EM COMISSÃO</td>\n",
              "      <td>SECRETARIA DE ADMINISTRACAO  SEA</td>\n",
              "      <td>PAÇO</td>\n",
              "      <td>CHEFE DE SECAO DE ALMOXARIFADO SESA</td>\n",
              "      <td>ATIVO</td>\n",
              "      <td>3631.23</td>\n",
              "      <td>2789.56</td>\n",
              "      <td>841.67</td>\n",
              "      <td>Pequeno</td>\n",
              "    </tr>\n",
              "    <tr>\n",
              "      <th>42</th>\n",
              "      <td>81345</td>\n",
              "      <td>CARGO EM COMISSÃO</td>\n",
              "      <td>SECRETARIA DE SERVICOS PUBLICOS</td>\n",
              "      <td>SERVICOS PUBLICOS</td>\n",
              "      <td>CHEFE DE SECAO DE ZELADORIA SEA</td>\n",
              "      <td>ATIVO</td>\n",
              "      <td>3631.23</td>\n",
              "      <td>2789.56</td>\n",
              "      <td>841.67</td>\n",
              "      <td>Pequeno</td>\n",
              "    </tr>\n",
              "    <tr>\n",
              "      <th>762</th>\n",
              "      <td>81229</td>\n",
              "      <td>CARGO EM COMISSÃO</td>\n",
              "      <td>CIDADANIA E GERACAO DE RENDA</td>\n",
              "      <td>CIDADANIA</td>\n",
              "      <td>CHEFE DE SECAO DE GESTAO DE PROGRAMAS</td>\n",
              "      <td>ATIVO</td>\n",
              "      <td>3631.23</td>\n",
              "      <td>2789.56</td>\n",
              "      <td>841.67</td>\n",
              "      <td>Pequeno</td>\n",
              "    </tr>\n",
              "    <tr>\n",
              "      <th>1675</th>\n",
              "      <td>81363</td>\n",
              "      <td>CARGO EM COMISSÃO</td>\n",
              "      <td>SECRETARIA DE MEIO AMBIENTE</td>\n",
              "      <td>MEIO AMBIENTE</td>\n",
              "      <td>CHEFE SECAO DE PARQUES E VIVEIROS</td>\n",
              "      <td>ATIVO</td>\n",
              "      <td>3631.23</td>\n",
              "      <td>2786.44</td>\n",
              "      <td>844.79</td>\n",
              "      <td>Pequeno</td>\n",
              "    </tr>\n",
              "    <tr>\n",
              "      <th>1812</th>\n",
              "      <td>81022</td>\n",
              "      <td>CARGO EM COMISSÃO</td>\n",
              "      <td>SECAO DE VIAS E GALERIAS</td>\n",
              "      <td>SERVICOS PUBLICOS</td>\n",
              "      <td>CHEFE SECAO DE GALERIAS CORREGOS E CANAIS</td>\n",
              "      <td>ATIVO</td>\n",
              "      <td>3631.23</td>\n",
              "      <td>2758.32</td>\n",
              "      <td>872.91</td>\n",
              "      <td>Pequeno</td>\n",
              "    </tr>\n",
              "    <tr>\n",
              "      <th>624</th>\n",
              "      <td>81227</td>\n",
              "      <td>CARGO EM COMISSÃO</td>\n",
              "      <td>CHEFIA DE GABINETE</td>\n",
              "      <td>GABINETE</td>\n",
              "      <td>CHEFE DE GABINETE SEG</td>\n",
              "      <td>ATIVO</td>\n",
              "      <td>4010.48</td>\n",
              "      <td>2504.19</td>\n",
              "      <td>1506.29</td>\n",
              "      <td>Pequeno</td>\n",
              "    </tr>\n",
              "    <tr>\n",
              "      <th>1373</th>\n",
              "      <td>13214</td>\n",
              "      <td>CARGO EM COMISSÃO</td>\n",
              "      <td>SECRETARIA DE FINANCAS</td>\n",
              "      <td>PAÇO</td>\n",
              "      <td>CHEFE SECAO DE CADASTRO FISCAL</td>\n",
              "      <td>ATIVO</td>\n",
              "      <td>4066.98</td>\n",
              "      <td>2459.73</td>\n",
              "      <td>1607.25</td>\n",
              "      <td>Pequeno</td>\n",
              "    </tr>\n",
              "    <tr>\n",
              "      <th>588</th>\n",
              "      <td>81308</td>\n",
              "      <td>CARGO EM COMISSÃO</td>\n",
              "      <td>SECRETARIA DE OBRAS E URBANISMO</td>\n",
              "      <td>PAÇO</td>\n",
              "      <td>CHEFE SECAO MANUTENCAO PROPRIOS</td>\n",
              "      <td>ATIVO</td>\n",
              "      <td>3631.23</td>\n",
              "      <td>2405.78</td>\n",
              "      <td>1225.45</td>\n",
              "      <td>Pequeno</td>\n",
              "    </tr>\n",
              "    <tr>\n",
              "      <th>572</th>\n",
              "      <td>11424</td>\n",
              "      <td>CARGO EM COMISSÃO</td>\n",
              "      <td>SECRETARIA DE NEGOCIOS JURIDICOS</td>\n",
              "      <td>PAÇO</td>\n",
              "      <td>CHEFE DE SECAO DE EXECUCAO FISCAL SENJ</td>\n",
              "      <td>ATIVO</td>\n",
              "      <td>5168.46</td>\n",
              "      <td>2255.78</td>\n",
              "      <td>2912.68</td>\n",
              "      <td>Pequeno</td>\n",
              "    </tr>\n",
              "    <tr>\n",
              "      <th>895</th>\n",
              "      <td>81346</td>\n",
              "      <td>CARGO EM COMISSÃO</td>\n",
              "      <td>SECRETARIA DE SERVICOS PUBLICOS</td>\n",
              "      <td>SERVICOS PUBLICOS</td>\n",
              "      <td>CHEFE DE SECAO DE PRE MOLDADOS</td>\n",
              "      <td>ATIVO</td>\n",
              "      <td>3631.23</td>\n",
              "      <td>2026.60</td>\n",
              "      <td>1604.63</td>\n",
              "      <td>Pequeno</td>\n",
              "    </tr>\n",
              "    <tr>\n",
              "      <th>822</th>\n",
              "      <td>81341</td>\n",
              "      <td>CARGO EM COMISSÃO</td>\n",
              "      <td>SECRETARIA DE NEGOCIOS JURIDICOS</td>\n",
              "      <td>PAÇO</td>\n",
              "      <td>CHEFE SECAO DE DIVIDA ATIVA</td>\n",
              "      <td>ATIVO</td>\n",
              "      <td>3631.23</td>\n",
              "      <td>1956.72</td>\n",
              "      <td>1674.51</td>\n",
              "      <td>Pequeno</td>\n",
              "    </tr>\n",
              "    <tr>\n",
              "      <th>248</th>\n",
              "      <td>11777</td>\n",
              "      <td>CARGO EM COMISSÃO</td>\n",
              "      <td>SECAO DE VIGILANCIA</td>\n",
              "      <td>PAÇO</td>\n",
              "      <td>CHEFE SECAO DE VIGILANCIA SEMU</td>\n",
              "      <td>ATIVO</td>\n",
              "      <td>3024.81</td>\n",
              "      <td>1711.01</td>\n",
              "      <td>1313.80</td>\n",
              "      <td>Pequeno</td>\n",
              "    </tr>\n",
              "    <tr>\n",
              "      <th>2023</th>\n",
              "      <td>13311</td>\n",
              "      <td>CARGO EM COMISSÃO</td>\n",
              "      <td>AMBULANCIA</td>\n",
              "      <td>AMBULANCIA</td>\n",
              "      <td>CHEFE DE SERVICO DO SAMU SESA</td>\n",
              "      <td>ATIVO</td>\n",
              "      <td>2243.72</td>\n",
              "      <td>1649.38</td>\n",
              "      <td>594.34</td>\n",
              "      <td>Pequeno</td>\n",
              "    </tr>\n",
              "    <tr>\n",
              "      <th>1884</th>\n",
              "      <td>81027</td>\n",
              "      <td>CARGO EM COMISSÃO</td>\n",
              "      <td>SECRETARIA DE ESPORTES E LAZER</td>\n",
              "      <td>SECRETARIA DE ESPORTES</td>\n",
              "      <td>CHEFE DE SECAO DE EVENTOS ESPORTIVOS</td>\n",
              "      <td>ATIVO</td>\n",
              "      <td>3631.23</td>\n",
              "      <td>1605.51</td>\n",
              "      <td>2025.72</td>\n",
              "      <td>Pequeno</td>\n",
              "    </tr>\n",
              "    <tr>\n",
              "      <th>587</th>\n",
              "      <td>81337</td>\n",
              "      <td>CARGO EM COMISSÃO</td>\n",
              "      <td>SECRETARIA DE FINANCAS</td>\n",
              "      <td>PAÇO</td>\n",
              "      <td>CHEFE DE SECAO DE ELABORACAO DE ORCAMENTO</td>\n",
              "      <td>ATIVO</td>\n",
              "      <td>3631.23</td>\n",
              "      <td>1385.84</td>\n",
              "      <td>2245.39</td>\n",
              "      <td>Pequeno</td>\n",
              "    </tr>\n",
              "    <tr>\n",
              "      <th>1101</th>\n",
              "      <td>81244</td>\n",
              "      <td>CARGO EM COMISSÃO</td>\n",
              "      <td>SECRETARIA DE EDUCACAO</td>\n",
              "      <td>SECRETARIA DE EDUCACAO</td>\n",
              "      <td>CHEFE DE SERV DE PLAN ORC E GESTAO DE</td>\n",
              "      <td>ATIVO</td>\n",
              "      <td>1604.19</td>\n",
              "      <td>1374.25</td>\n",
              "      <td>229.94</td>\n",
              "      <td>Pequeno</td>\n",
              "    </tr>\n",
              "    <tr>\n",
              "      <th>221</th>\n",
              "      <td>13612</td>\n",
              "      <td>CARGO EM COMISSÃO</td>\n",
              "      <td>SECRETARIA DE EDUCACAO</td>\n",
              "      <td>SECRETARIA DE EDUCACAO</td>\n",
              "      <td>CHEFE DE SERV DE APOIO E PLANJ ESTRAT DA</td>\n",
              "      <td>ATIVO</td>\n",
              "      <td>2326.08</td>\n",
              "      <td>1348.46</td>\n",
              "      <td>977.62</td>\n",
              "      <td>Pequeno</td>\n",
              "    </tr>\n",
              "    <tr>\n",
              "      <th>2224</th>\n",
              "      <td>81382</td>\n",
              "      <td>CARGO EM COMISSÃO</td>\n",
              "      <td>SECAO DE EXPEDIENTE</td>\n",
              "      <td>CIDADANIA</td>\n",
              "      <td>CHEFE SECAO DE EXPEDIENTE SECI</td>\n",
              "      <td>ATIVO</td>\n",
              "      <td>1210.41</td>\n",
              "      <td>890.98</td>\n",
              "      <td>319.43</td>\n",
              "      <td>None</td>\n",
              "    </tr>\n",
              "    <tr>\n",
              "      <th>1269</th>\n",
              "      <td>13320</td>\n",
              "      <td>CARGO EM COMISSÃO</td>\n",
              "      <td>SECRETARIA DE SERVICOS PUBLICOS</td>\n",
              "      <td>PAÇO</td>\n",
              "      <td>CHEFE DE SECAO DE TRANSPORTES INTERNOS</td>\n",
              "      <td>ATIVO</td>\n",
              "      <td>1283.03</td>\n",
              "      <td>637.37</td>\n",
              "      <td>645.66</td>\n",
              "      <td>None</td>\n",
              "    </tr>\n",
              "  </tbody>\n",
              "</table>\n",
              "</div>"
            ],
            "text/plain": [
              "     matricula    tipo_de_vinculo  ...      dif nivel_liquido\n",
              "467      12326  CARGO EM COMISSÃO  ...  3038.17        Grande\n",
              "1282     12776  CARGO EM COMISSÃO  ...  1649.62         Medio\n",
              "2161     12512  CARGO EM COMISSÃO  ...  1386.69         Medio\n",
              "2460     13247  CARGO EM COMISSÃO  ...  1084.52         Medio\n",
              "25       12822  CARGO EM COMISSÃO  ...  1418.75         Medio\n",
              "1948     13885  CARGO EM COMISSÃO  ...  1560.85         Medio\n",
              "1412     10828  CARGO EM COMISSÃO  ...  1879.27         Medio\n",
              "571      81377  CARGO EM COMISSÃO  ...  1124.44         Medio\n",
              "2455     81266  CARGO EM COMISSÃO  ...  1124.44         Medio\n",
              "14       13502  CARGO EM COMISSÃO  ...  1402.89         Medio\n",
              "1159     13528  CARGO EM COMISSÃO  ...  1096.07         Medio\n",
              "1424     12741  CARGO EM COMISSÃO  ...  1270.75         Medio\n",
              "65       12780  CARGO EM COMISSÃO  ...  1701.40         Medio\n",
              "1492     12529  CARGO EM COMISSÃO  ...   752.85         Medio\n",
              "2122     10553  CARGO EM COMISSÃO  ...  2844.60         Medio\n",
              "567      12778  CARGO EM COMISSÃO  ...  1742.18         Medio\n",
              "530      81339  CARGO EM COMISSÃO  ...   623.75         Medio\n",
              "103      11036  CARGO EM COMISSÃO  ...  2235.39         Medio\n",
              "535      12549  CARGO EM COMISSÃO  ...   895.68         Medio\n",
              "1883     81351  CARGO EM COMISSÃO  ...   502.96         Medio\n",
              "2021     81383  CARGO EM COMISSÃO  ...   531.40         Medio\n",
              "1230     81238  CARGO EM COMISSÃO  ...   531.40         Medio\n",
              "1061     81010  CARGO EM COMISSÃO  ...   934.02         Medio\n",
              "621      13476  CARGO EM COMISSÃO  ...  1363.89         Medio\n",
              "617      81287  CARGO EM COMISSÃO  ...   841.67       Pequeno\n",
              "42       81345  CARGO EM COMISSÃO  ...   841.67       Pequeno\n",
              "762      81229  CARGO EM COMISSÃO  ...   841.67       Pequeno\n",
              "1675     81363  CARGO EM COMISSÃO  ...   844.79       Pequeno\n",
              "1812     81022  CARGO EM COMISSÃO  ...   872.91       Pequeno\n",
              "624      81227  CARGO EM COMISSÃO  ...  1506.29       Pequeno\n",
              "1373     13214  CARGO EM COMISSÃO  ...  1607.25       Pequeno\n",
              "588      81308  CARGO EM COMISSÃO  ...  1225.45       Pequeno\n",
              "572      11424  CARGO EM COMISSÃO  ...  2912.68       Pequeno\n",
              "895      81346  CARGO EM COMISSÃO  ...  1604.63       Pequeno\n",
              "822      81341  CARGO EM COMISSÃO  ...  1674.51       Pequeno\n",
              "248      11777  CARGO EM COMISSÃO  ...  1313.80       Pequeno\n",
              "2023     13311  CARGO EM COMISSÃO  ...   594.34       Pequeno\n",
              "1884     81027  CARGO EM COMISSÃO  ...  2025.72       Pequeno\n",
              "587      81337  CARGO EM COMISSÃO  ...  2245.39       Pequeno\n",
              "1101     81244  CARGO EM COMISSÃO  ...   229.94       Pequeno\n",
              "221      13612  CARGO EM COMISSÃO  ...   977.62       Pequeno\n",
              "2224     81382  CARGO EM COMISSÃO  ...   319.43          None\n",
              "1269     13320  CARGO EM COMISSÃO  ...   645.66          None\n",
              "\n",
              "[43 rows x 10 columns]"
            ]
          },
          "metadata": {
            "tags": []
          },
          "execution_count": 135
        }
      ]
    },
    {
      "cell_type": "code",
      "metadata": {
        "id": "NrRE5gcBnrtl",
        "colab_type": "code",
        "colab": {}
      },
      "source": [
        "tabela = df_df2.groupby('local_de_trabalho').liquido.sum()"
      ],
      "execution_count": 0,
      "outputs": []
    },
    {
      "cell_type": "code",
      "metadata": {
        "id": "JPPVHx8dnrtn",
        "colab_type": "code",
        "outputId": "241da792-a579-4dfa-9bf4-2daa74b162cd",
        "colab": {
          "base_uri": "https://localhost:8080/",
          "height": 238
        }
      },
      "source": [
        "tabela.sort_values(ascending = False)"
      ],
      "execution_count": 137,
      "outputs": [
        {
          "output_type": "execute_result",
          "data": {
            "text/plain": [
              "local_de_trabalho\n",
              "PAÇO                           2820988.09\n",
              "SECRETARIA DE SAUDE             317136.40\n",
              "SERVICOS PUBLICOS               172010.21\n",
              "SECRETARIA DE EDUCACAO          144249.04\n",
              "PORTARIA                         92331.87\n",
              "                                  ...    \n",
              "CMEI M AP. FERRATO EXTENÇAO       1166.59\n",
              "2 DP                               981.11\n",
              "CONSELHO TUTELAR                   359.74\n",
              "LICITACAO                          359.74\n",
              "UBS BARRA FUNDA                    359.74\n",
              "Name: liquido, Length: 95, dtype: float64"
            ]
          },
          "metadata": {
            "tags": []
          },
          "execution_count": 137
        }
      ]
    },
    {
      "cell_type": "code",
      "metadata": {
        "id": "dumUrzkXnrtp",
        "colab_type": "code",
        "outputId": "d30a74a2-0679-420e-8f3c-5da4433e4257",
        "colab": {
          "base_uri": "https://localhost:8080/",
          "height": 102
        }
      },
      "source": [
        "df_df2.groupby('nivel_liquido').liquido.sum().sort_values(ascending = False)"
      ],
      "execution_count": 138,
      "outputs": [
        {
          "output_type": "execute_result",
          "data": {
            "text/plain": [
              "nivel_liquido\n",
              "Pequeno    2664728.31\n",
              "Medio      2042052.28\n",
              "Grande     1272937.81\n",
              "Name: liquido, dtype: float64"
            ]
          },
          "metadata": {
            "tags": []
          },
          "execution_count": 138
        }
      ]
    },
    {
      "cell_type": "code",
      "metadata": {
        "id": "SCpnlG_ynrts",
        "colab_type": "code",
        "outputId": "bc30b3e9-fa54-45e2-dab5-f13adca58c15",
        "colab": {
          "base_uri": "https://localhost:8080/",
          "height": 285
        }
      },
      "source": [
        "plt.scatter('vecto_mes', 'liquido', data=df_df2)\n",
        "plt.xlabel('VENCIMENTO')\n",
        "plt.ylabel('LIQUIDO')\n",
        "plt.show()"
      ],
      "execution_count": 139,
      "outputs": [
        {
          "output_type": "display_data",
          "data": {
            "image/png": "[encoded data removed]",
            "text/plain": [
              "<Figure size 432x288 with 1 Axes>"
            ]
          },
          "metadata": {
            "tags": []
          }
        }
      ]
    },
    {
      "cell_type": "code",
      "metadata": {
        "id": "Ox8FKd13nrtu",
        "colab_type": "code",
        "outputId": "0431d50e-822e-4093-8740-54dfa5035959",
        "colab": {
          "base_uri": "https://localhost:8080/",
          "height": 450
        }
      },
      "source": [
        "df_df2.groupby('local_de_trabalho').vecto_mes.describe()"
      ],
      "execution_count": 141,
      "outputs": [
        {
          "output_type": "execute_result",
          "data": {
            "text/html": [
              "<div>\n",
              "<style scoped>\n",
              "    .dataframe tbody tr th:only-of-type {\n",
              "        vertical-align: middle;\n",
              "    }\n",
              "\n",
              "    .dataframe tbody tr th {\n",
              "        vertical-align: top;\n",
              "    }\n",
              "\n",
              "    .dataframe thead th {\n",
              "        text-align: right;\n",
              "    }\n",
              "</style>\n",
              "<table border=\"1\" class=\"dataframe\">\n",
              "  <thead>\n",
              "    <tr style=\"text-align: right;\">\n",
              "      <th></th>\n",
              "      <th>count</th>\n",
              "      <th>mean</th>\n",
              "      <th>std</th>\n",
              "      <th>min</th>\n",
              "      <th>25%</th>\n",
              "      <th>50%</th>\n",
              "      <th>75%</th>\n",
              "      <th>max</th>\n",
              "    </tr>\n",
              "    <tr>\n",
              "      <th>local_de_trabalho</th>\n",
              "      <th></th>\n",
              "      <th></th>\n",
              "      <th></th>\n",
              "      <th></th>\n",
              "      <th></th>\n",
              "      <th></th>\n",
              "      <th></th>\n",
              "      <th></th>\n",
              "    </tr>\n",
              "  </thead>\n",
              "  <tbody>\n",
              "    <tr>\n",
              "      <th>2 DP</th>\n",
              "      <td>1.0</td>\n",
              "      <td>981.110000</td>\n",
              "      <td>NaN</td>\n",
              "      <td>981.11</td>\n",
              "      <td>981.1100</td>\n",
              "      <td>981.110</td>\n",
              "      <td>981.1100</td>\n",
              "      <td>981.11</td>\n",
              "    </tr>\n",
              "    <tr>\n",
              "      <th>ALMOXARIFADO DA SAUDE</th>\n",
              "      <td>2.0</td>\n",
              "      <td>6885.710000</td>\n",
              "      <td>3215.737793</td>\n",
              "      <td>4611.84</td>\n",
              "      <td>5748.7750</td>\n",
              "      <td>6885.710</td>\n",
              "      <td>8022.6450</td>\n",
              "      <td>9159.58</td>\n",
              "    </tr>\n",
              "    <tr>\n",
              "      <th>AMBULANCIA</th>\n",
              "      <td>15.0</td>\n",
              "      <td>4405.269333</td>\n",
              "      <td>3682.605553</td>\n",
              "      <td>1959.74</td>\n",
              "      <td>3018.3300</td>\n",
              "      <td>3494.000</td>\n",
              "      <td>4039.0000</td>\n",
              "      <td>17190.74</td>\n",
              "    </tr>\n",
              "    <tr>\n",
              "      <th>CAPS AD</th>\n",
              "      <td>1.0</td>\n",
              "      <td>3331.720000</td>\n",
              "      <td>NaN</td>\n",
              "      <td>3331.72</td>\n",
              "      <td>3331.7200</td>\n",
              "      <td>3331.720</td>\n",
              "      <td>3331.7200</td>\n",
              "      <td>3331.72</td>\n",
              "    </tr>\n",
              "    <tr>\n",
              "      <th>CARTORIO ELEITORAL</th>\n",
              "      <td>1.0</td>\n",
              "      <td>2406.650000</td>\n",
              "      <td>NaN</td>\n",
              "      <td>2406.65</td>\n",
              "      <td>2406.6500</td>\n",
              "      <td>2406.650</td>\n",
              "      <td>2406.6500</td>\n",
              "      <td>2406.65</td>\n",
              "    </tr>\n",
              "    <tr>\n",
              "      <th>...</th>\n",
              "      <td>...</td>\n",
              "      <td>...</td>\n",
              "      <td>...</td>\n",
              "      <td>...</td>\n",
              "      <td>...</td>\n",
              "      <td>...</td>\n",
              "      <td>...</td>\n",
              "      <td>...</td>\n",
              "    </tr>\n",
              "    <tr>\n",
              "      <th>UBS PQ BELA VISTA</th>\n",
              "      <td>2.0</td>\n",
              "      <td>3080.825000</td>\n",
              "      <td>1382.810950</td>\n",
              "      <td>2103.03</td>\n",
              "      <td>2591.9275</td>\n",
              "      <td>3080.825</td>\n",
              "      <td>3569.7225</td>\n",
              "      <td>4058.62</td>\n",
              "    </tr>\n",
              "    <tr>\n",
              "      <th>UBS VILA NOVA</th>\n",
              "      <td>1.0</td>\n",
              "      <td>5851.460000</td>\n",
              "      <td>NaN</td>\n",
              "      <td>5851.46</td>\n",
              "      <td>5851.4600</td>\n",
              "      <td>5851.460</td>\n",
              "      <td>5851.4600</td>\n",
              "      <td>5851.46</td>\n",
              "    </tr>\n",
              "    <tr>\n",
              "      <th>UNIDADE DE PRONTO ATENDIMENTO</th>\n",
              "      <td>6.0</td>\n",
              "      <td>3234.780000</td>\n",
              "      <td>765.488127</td>\n",
              "      <td>2389.84</td>\n",
              "      <td>2615.3300</td>\n",
              "      <td>3171.255</td>\n",
              "      <td>3915.0700</td>\n",
              "      <td>4083.30</td>\n",
              "    </tr>\n",
              "    <tr>\n",
              "      <th>VIGILANCIA EPIDEMIOLOGICA</th>\n",
              "      <td>1.0</td>\n",
              "      <td>3633.120000</td>\n",
              "      <td>NaN</td>\n",
              "      <td>3633.12</td>\n",
              "      <td>3633.1200</td>\n",
              "      <td>3633.120</td>\n",
              "      <td>3633.1200</td>\n",
              "      <td>3633.12</td>\n",
              "    </tr>\n",
              "    <tr>\n",
              "      <th>ZOONOSES</th>\n",
              "      <td>5.0</td>\n",
              "      <td>3112.420000</td>\n",
              "      <td>1425.497211</td>\n",
              "      <td>1985.51</td>\n",
              "      <td>2127.4700</td>\n",
              "      <td>2193.830</td>\n",
              "      <td>4151.9900</td>\n",
              "      <td>5103.30</td>\n",
              "    </tr>\n",
              "  </tbody>\n",
              "</table>\n",
              "<p>95 rows × 8 columns</p>\n",
              "</div>"
            ],
            "text/plain": [
              "                               count         mean  ...        75%       max\n",
              "local_de_trabalho                                  ...                     \n",
              "2 DP                             1.0   981.110000  ...   981.1100    981.11\n",
              "ALMOXARIFADO DA SAUDE            2.0  6885.710000  ...  8022.6450   9159.58\n",
              "AMBULANCIA                      15.0  4405.269333  ...  4039.0000  17190.74\n",
              "CAPS AD                          1.0  3331.720000  ...  3331.7200   3331.72\n",
              "CARTORIO ELEITORAL               1.0  2406.650000  ...  2406.6500   2406.65\n",
              "...                              ...          ...  ...        ...       ...\n",
              "UBS PQ BELA VISTA                2.0  3080.825000  ...  3569.7225   4058.62\n",
              "UBS VILA NOVA                    1.0  5851.460000  ...  5851.4600   5851.46\n",
              "UNIDADE DE PRONTO ATENDIMENTO    6.0  3234.780000  ...  3915.0700   4083.30\n",
              "VIGILANCIA EPIDEMIOLOGICA        1.0  3633.120000  ...  3633.1200   3633.12\n",
              "ZOONOSES                         5.0  3112.420000  ...  4151.9900   5103.30\n",
              "\n",
              "[95 rows x 8 columns]"
            ]
          },
          "metadata": {
            "tags": []
          },
          "execution_count": 141
        }
      ]
    },
    {
      "cell_type": "code",
      "metadata": {
        "id": "uvD77vZMnrtw",
        "colab_type": "code",
        "outputId": "c5e13013-e758-4af4-eaff-56c1c2acbd54",
        "colab": {
          "base_uri": "https://localhost:8080/",
          "height": 450
        }
      },
      "source": [
        "df_df2.groupby('cargo').vecto_mes.describe()"
      ],
      "execution_count": 142,
      "outputs": [
        {
          "output_type": "execute_result",
          "data": {
            "text/html": [
              "<div>\n",
              "<style scoped>\n",
              "    .dataframe tbody tr th:only-of-type {\n",
              "        vertical-align: middle;\n",
              "    }\n",
              "\n",
              "    .dataframe tbody tr th {\n",
              "        vertical-align: top;\n",
              "    }\n",
              "\n",
              "    .dataframe thead th {\n",
              "        text-align: right;\n",
              "    }\n",
              "</style>\n",
              "<table border=\"1\" class=\"dataframe\">\n",
              "  <thead>\n",
              "    <tr style=\"text-align: right;\">\n",
              "      <th></th>\n",
              "      <th>count</th>\n",
              "      <th>mean</th>\n",
              "      <th>std</th>\n",
              "      <th>min</th>\n",
              "      <th>25%</th>\n",
              "      <th>50%</th>\n",
              "      <th>75%</th>\n",
              "      <th>max</th>\n",
              "    </tr>\n",
              "    <tr>\n",
              "      <th>cargo</th>\n",
              "      <th></th>\n",
              "      <th></th>\n",
              "      <th></th>\n",
              "      <th></th>\n",
              "      <th></th>\n",
              "      <th></th>\n",
              "      <th></th>\n",
              "      <th></th>\n",
              "    </tr>\n",
              "  </thead>\n",
              "  <tbody>\n",
              "    <tr>\n",
              "      <th>AGENTE COMUNITARIO DE SAUDE</th>\n",
              "      <td>14.0</td>\n",
              "      <td>1466.800000</td>\n",
              "      <td>4.719136e-13</td>\n",
              "      <td>1466.80</td>\n",
              "      <td>1466.8000</td>\n",
              "      <td>1466.800</td>\n",
              "      <td>1466.8000</td>\n",
              "      <td>1466.80</td>\n",
              "    </tr>\n",
              "    <tr>\n",
              "      <th>AGENTE DE APOIO OPERACIONAL E CONSERVACAO</th>\n",
              "      <td>15.0</td>\n",
              "      <td>3608.932000</td>\n",
              "      <td>8.494724e+02</td>\n",
              "      <td>2165.75</td>\n",
              "      <td>3163.1950</td>\n",
              "      <td>3529.050</td>\n",
              "      <td>4253.3000</td>\n",
              "      <td>5272.67</td>\n",
              "    </tr>\n",
              "    <tr>\n",
              "      <th>AGENTE DE CONTROLE DE ENDEMIAS</th>\n",
              "      <td>4.0</td>\n",
              "      <td>1957.570000</td>\n",
              "      <td>1.280846e+02</td>\n",
              "      <td>1858.65</td>\n",
              "      <td>1858.6500</td>\n",
              "      <td>1922.080</td>\n",
              "      <td>2021.0000</td>\n",
              "      <td>2127.47</td>\n",
              "    </tr>\n",
              "    <tr>\n",
              "      <th>AGENTE FAZENDARIO</th>\n",
              "      <td>7.0</td>\n",
              "      <td>8492.848571</td>\n",
              "      <td>4.107530e+03</td>\n",
              "      <td>4394.53</td>\n",
              "      <td>6911.9800</td>\n",
              "      <td>7273.510</td>\n",
              "      <td>8383.6000</td>\n",
              "      <td>17190.74</td>\n",
              "    </tr>\n",
              "    <tr>\n",
              "      <th>AJUDANDE DE MANUTENCAO DE AUTOS</th>\n",
              "      <td>2.0</td>\n",
              "      <td>3483.240000</td>\n",
              "      <td>1.191715e+03</td>\n",
              "      <td>2640.57</td>\n",
              "      <td>3061.9050</td>\n",
              "      <td>3483.240</td>\n",
              "      <td>3904.5750</td>\n",
              "      <td>4325.91</td>\n",
              "    </tr>\n",
              "    <tr>\n",
              "      <th>...</th>\n",
              "      <td>...</td>\n",
              "      <td>...</td>\n",
              "      <td>...</td>\n",
              "      <td>...</td>\n",
              "      <td>...</td>\n",
              "      <td>...</td>\n",
              "      <td>...</td>\n",
              "      <td>...</td>\n",
              "    </tr>\n",
              "    <tr>\n",
              "      <th>TECNICO EM INFORMATICA</th>\n",
              "      <td>2.0</td>\n",
              "      <td>2424.295000</td>\n",
              "      <td>4.714493e+02</td>\n",
              "      <td>2090.93</td>\n",
              "      <td>2257.6125</td>\n",
              "      <td>2424.295</td>\n",
              "      <td>2590.9775</td>\n",
              "      <td>2757.66</td>\n",
              "    </tr>\n",
              "    <tr>\n",
              "      <th>TECNICO QUIMICO</th>\n",
              "      <td>2.0</td>\n",
              "      <td>4555.045000</td>\n",
              "      <td>2.570962e+03</td>\n",
              "      <td>2737.10</td>\n",
              "      <td>3646.0725</td>\n",
              "      <td>4555.045</td>\n",
              "      <td>5464.0175</td>\n",
              "      <td>6372.99</td>\n",
              "    </tr>\n",
              "    <tr>\n",
              "      <th>TELEFONISTA</th>\n",
              "      <td>4.0</td>\n",
              "      <td>3412.952500</td>\n",
              "      <td>4.119593e+03</td>\n",
              "      <td>629.28</td>\n",
              "      <td>1052.1225</td>\n",
              "      <td>1760.905</td>\n",
              "      <td>4121.7350</td>\n",
              "      <td>9500.72</td>\n",
              "    </tr>\n",
              "    <tr>\n",
              "      <th>TERAPEUTA OCUPACIONAL</th>\n",
              "      <td>1.0</td>\n",
              "      <td>5175.040000</td>\n",
              "      <td>NaN</td>\n",
              "      <td>5175.04</td>\n",
              "      <td>5175.0400</td>\n",
              "      <td>5175.040</td>\n",
              "      <td>5175.0400</td>\n",
              "      <td>5175.04</td>\n",
              "    </tr>\n",
              "    <tr>\n",
              "      <th>VICE PREFEITO</th>\n",
              "      <td>1.0</td>\n",
              "      <td>8197.450000</td>\n",
              "      <td>NaN</td>\n",
              "      <td>8197.45</td>\n",
              "      <td>8197.4500</td>\n",
              "      <td>8197.450</td>\n",
              "      <td>8197.4500</td>\n",
              "      <td>8197.45</td>\n",
              "    </tr>\n",
              "  </tbody>\n",
              "</table>\n",
              "<p>260 rows × 8 columns</p>\n",
              "</div>"
            ],
            "text/plain": [
              "                                           count  ...       max\n",
              "cargo                                             ...          \n",
              "AGENTE COMUNITARIO DE SAUDE                 14.0  ...   1466.80\n",
              "AGENTE DE APOIO OPERACIONAL E CONSERVACAO   15.0  ...   5272.67\n",
              "AGENTE DE CONTROLE DE ENDEMIAS               4.0  ...   2127.47\n",
              "AGENTE FAZENDARIO                            7.0  ...  17190.74\n",
              "AJUDANDE DE MANUTENCAO DE AUTOS              2.0  ...   4325.91\n",
              "...                                          ...  ...       ...\n",
              "TECNICO EM INFORMATICA                       2.0  ...   2757.66\n",
              "TECNICO QUIMICO                              2.0  ...   6372.99\n",
              "TELEFONISTA                                  4.0  ...   9500.72\n",
              "TERAPEUTA OCUPACIONAL                        1.0  ...   5175.04\n",
              "VICE PREFEITO                                1.0  ...   8197.45\n",
              "\n",
              "[260 rows x 8 columns]"
            ]
          },
          "metadata": {
            "tags": []
          },
          "execution_count": 142
        }
      ]
    },
    {
      "cell_type": "code",
      "metadata": {
        "id": "gHoKPpxgnrty",
        "colab_type": "code",
        "outputId": "c049ba8d-42de-43a5-f645-fe29873dd9b8",
        "colab": {
          "base_uri": "https://localhost:8080/",
          "height": 235
        }
      },
      "source": [
        "df_df2.groupby('tipo_de_vinculo').vecto_mes.describe()"
      ],
      "execution_count": 143,
      "outputs": [
        {
          "output_type": "execute_result",
          "data": {
            "text/html": [
              "<div>\n",
              "<style scoped>\n",
              "    .dataframe tbody tr th:only-of-type {\n",
              "        vertical-align: middle;\n",
              "    }\n",
              "\n",
              "    .dataframe tbody tr th {\n",
              "        vertical-align: top;\n",
              "    }\n",
              "\n",
              "    .dataframe thead th {\n",
              "        text-align: right;\n",
              "    }\n",
              "</style>\n",
              "<table border=\"1\" class=\"dataframe\">\n",
              "  <thead>\n",
              "    <tr style=\"text-align: right;\">\n",
              "      <th></th>\n",
              "      <th>count</th>\n",
              "      <th>mean</th>\n",
              "      <th>std</th>\n",
              "      <th>min</th>\n",
              "      <th>25%</th>\n",
              "      <th>50%</th>\n",
              "      <th>75%</th>\n",
              "      <th>max</th>\n",
              "    </tr>\n",
              "    <tr>\n",
              "      <th>tipo_de_vinculo</th>\n",
              "      <th></th>\n",
              "      <th></th>\n",
              "      <th></th>\n",
              "      <th></th>\n",
              "      <th></th>\n",
              "      <th></th>\n",
              "      <th></th>\n",
              "      <th></th>\n",
              "    </tr>\n",
              "  </thead>\n",
              "  <tbody>\n",
              "    <tr>\n",
              "      <th>AGENTE POLÍTICO</th>\n",
              "      <td>2.0</td>\n",
              "      <td>12694.095000</td>\n",
              "      <td>6359.216344</td>\n",
              "      <td>8197.45</td>\n",
              "      <td>10445.7725</td>\n",
              "      <td>12694.095</td>\n",
              "      <td>14942.4175</td>\n",
              "      <td>17190.74</td>\n",
              "    </tr>\n",
              "    <tr>\n",
              "      <th>CARGO EM COMISSÃO</th>\n",
              "      <td>197.0</td>\n",
              "      <td>5129.509594</td>\n",
              "      <td>3376.060098</td>\n",
              "      <td>658.03</td>\n",
              "      <td>2508.7500</td>\n",
              "      <td>4491.730</td>\n",
              "      <td>6676.3200</td>\n",
              "      <td>19749.00</td>\n",
              "    </tr>\n",
              "    <tr>\n",
              "      <th>ESTAGIÁRIO</th>\n",
              "      <td>194.0</td>\n",
              "      <td>714.587268</td>\n",
              "      <td>304.619396</td>\n",
              "      <td>32.70</td>\n",
              "      <td>513.4000</td>\n",
              "      <td>572.315</td>\n",
              "      <td>981.1100</td>\n",
              "      <td>1962.22</td>\n",
              "    </tr>\n",
              "    <tr>\n",
              "      <th>ESTATUTÁRIO</th>\n",
              "      <td>2017.0</td>\n",
              "      <td>3840.944690</td>\n",
              "      <td>2874.676951</td>\n",
              "      <td>13.08</td>\n",
              "      <td>1959.7400</td>\n",
              "      <td>2907.700</td>\n",
              "      <td>4510.6600</td>\n",
              "      <td>22257.78</td>\n",
              "    </tr>\n",
              "    <tr>\n",
              "      <th>TEMPORÁRIO</th>\n",
              "      <td>73.0</td>\n",
              "      <td>2203.456575</td>\n",
              "      <td>687.674109</td>\n",
              "      <td>709.60</td>\n",
              "      <td>2075.6200</td>\n",
              "      <td>2075.620</td>\n",
              "      <td>2690.5900</td>\n",
              "      <td>6378.50</td>\n",
              "    </tr>\n",
              "  </tbody>\n",
              "</table>\n",
              "</div>"
            ],
            "text/plain": [
              "                    count          mean  ...         75%       max\n",
              "tipo_de_vinculo                          ...                      \n",
              "AGENTE POLÍTICO       2.0  12694.095000  ...  14942.4175  17190.74\n",
              "CARGO EM COMISSÃO   197.0   5129.509594  ...   6676.3200  19749.00\n",
              "ESTAGIÁRIO          194.0    714.587268  ...    981.1100   1962.22\n",
              "ESTATUTÁRIO        2017.0   3840.944690  ...   4510.6600  22257.78\n",
              "TEMPORÁRIO           73.0   2203.456575  ...   2690.5900   6378.50\n",
              "\n",
              "[5 rows x 8 columns]"
            ]
          },
          "metadata": {
            "tags": []
          },
          "execution_count": 143
        }
      ]
    },
    {
      "cell_type": "code",
      "metadata": {
        "id": "Dpb4Kv56nrt2",
        "colab_type": "code",
        "outputId": "1d4d76a5-11ee-4789-fa26-cf6750b868b7",
        "colab": {
          "base_uri": "https://localhost:8080/",
          "height": 80
        }
      },
      "source": [
        "df_df2[df_df2.vecto_mes >= 20000]"
      ],
      "execution_count": 0,
      "outputs": [
        {
          "output_type": "execute_result",
          "data": {
            "text/html": [
              "<div>\n",
              "<style scoped>\n",
              "    .dataframe tbody tr th:only-of-type {\n",
              "        vertical-align: middle;\n",
              "    }\n",
              "\n",
              "    .dataframe tbody tr th {\n",
              "        vertical-align: top;\n",
              "    }\n",
              "\n",
              "    .dataframe thead th {\n",
              "        text-align: right;\n",
              "    }\n",
              "</style>\n",
              "<table border=\"1\" class=\"dataframe\">\n",
              "  <thead>\n",
              "    <tr style=\"text-align: right;\">\n",
              "      <th></th>\n",
              "      <th>matricula</th>\n",
              "      <th>tipo_de_vinculo</th>\n",
              "      <th>lotacao</th>\n",
              "      <th>local_de_trabalho</th>\n",
              "      <th>cargo</th>\n",
              "      <th>situacao</th>\n",
              "      <th>vecto_mes</th>\n",
              "      <th>liquido</th>\n",
              "      <th>dif</th>\n",
              "      <th>nivel_liquido</th>\n",
              "    </tr>\n",
              "  </thead>\n",
              "  <tbody>\n",
              "    <tr>\n",
              "      <th>2143</th>\n",
              "      <td>10661</td>\n",
              "      <td>ESTATUTÁRIO</td>\n",
              "      <td>SERVICO DE PESSOAL</td>\n",
              "      <td>PAÇO</td>\n",
              "      <td>ESCRITURARIO</td>\n",
              "      <td>ATIVO</td>\n",
              "      <td>22257.78</td>\n",
              "      <td>20716.24</td>\n",
              "      <td>1541.54</td>\n",
              "      <td>Grande</td>\n",
              "    </tr>\n",
              "  </tbody>\n",
              "</table>\n",
              "</div>"
            ],
            "text/plain": [
              "     matricula tipo_de_vinculo  ...      dif nivel_liquido\n",
              "2143     10661     ESTATUTÁRIO  ...  1541.54        Grande\n",
              "\n",
              "[1 rows x 10 columns]"
            ]
          },
          "metadata": {
            "tags": []
          },
          "execution_count": 193
        }
      ]
    },
    {
      "cell_type": "code",
      "metadata": {
        "id": "62R-MOdcnrt6",
        "colab_type": "code",
        "outputId": "ab2b5b85-25dd-45dc-e575-16e8551ba2b6",
        "colab": {
          "base_uri": "https://localhost:8080/",
          "height": 221
        }
      },
      "source": [
        "df_df2.cargo.value_counts()"
      ],
      "execution_count": 145,
      "outputs": [
        {
          "output_type": "execute_result",
          "data": {
            "text/plain": [
              "AUXILIAR DE SERVICOS INFANTIS               307\n",
              "PEB I JORNADA BASICA                        252\n",
              "PEB I JORNADA UNICA                         165\n",
              "ESCRITURARIO                                155\n",
              "MOTORISTA                                    88\n",
              "                                           ... \n",
              "CHEFE DE SERVICO DO SAMU SESA                 1\n",
              "DIRETOR DE DEPTO DE SAUDE DA MULHER E DA      1\n",
              "CHEFE DE SERVICO DE PATR, E DOCUMENTACAO      1\n",
              "MONITOR DE ARTES PLASTICAS                    1\n",
              "CHEFE DE SECAO DE EXECUCAO FISCAL SENJ        1\n",
              "Name: cargo, Length: 260, dtype: int64"
            ]
          },
          "metadata": {
            "tags": []
          },
          "execution_count": 145
        }
      ]
    },
    {
      "cell_type": "code",
      "metadata": {
        "id": "bcgk53kFnrt7",
        "colab_type": "code",
        "outputId": "40ff1de0-4d36-4951-ea05-e6202904f8e3",
        "colab": {
          "base_uri": "https://localhost:8080/",
          "height": 221
        }
      },
      "source": [
        "df_df2.local_de_trabalho.value_counts()"
      ],
      "execution_count": 146,
      "outputs": [
        {
          "output_type": "execute_result",
          "data": {
            "text/plain": [
              "PAÇO                              849\n",
              "SECRETARIA DE SAUDE               125\n",
              "SERVICOS PUBLICOS                  95\n",
              "SECRETARIA DE EDUCACAO             82\n",
              "CMEI CARMELA GUARIGLIA RAMOS       43\n",
              "                                 ... \n",
              "CMEI M AP. FERRATO EXTENÇAO         1\n",
              "PSF JD TATIANA                      1\n",
              "PSF PROMORAR                        1\n",
              "UBS BARRA FUNDA                     1\n",
              "CMEI GERALDO BERNARDINO SANTOS      1\n",
              "Name: local_de_trabalho, Length: 95, dtype: int64"
            ]
          },
          "metadata": {
            "tags": []
          },
          "execution_count": 146
        }
      ]
    },
    {
      "cell_type": "code",
      "metadata": {
        "id": "KwiC_wzxnrt9",
        "colab_type": "code",
        "outputId": "c4c9dc1a-dc35-43fe-a19c-6028cc51df30",
        "colab": {
          "base_uri": "https://localhost:8080/",
          "height": 119
        }
      },
      "source": [
        "soma_tipo_de_vinculo = df_df2.tipo_de_vinculo.value_counts()\n",
        "soma_tipo_de_vinculo"
      ],
      "execution_count": 147,
      "outputs": [
        {
          "output_type": "execute_result",
          "data": {
            "text/plain": [
              "ESTATUTÁRIO          2017\n",
              "CARGO EM COMISSÃO     197\n",
              "ESTAGIÁRIO            194\n",
              "TEMPORÁRIO             73\n",
              "AGENTE POLÍTICO         2\n",
              "Name: tipo_de_vinculo, dtype: int64"
            ]
          },
          "metadata": {
            "tags": []
          },
          "execution_count": 147
        }
      ]
    },
    {
      "cell_type": "code",
      "metadata": {
        "id": "mkWpV7p9nrt_",
        "colab_type": "code",
        "outputId": "b8723240-f1bd-4b3c-b4f6-b3053e397d84",
        "colab": {
          "base_uri": "https://localhost:8080/",
          "height": 301
        }
      },
      "source": [
        "df_df2.liquido.hist(bins = 60)\n",
        "plt.xlabel('LIQUIDO')\n",
        "plt.ylabel('QUANTIDADE')\n",
        "plt.title('LIQUIDO')\n",
        "plt.show()"
      ],
      "execution_count": 148,
      "outputs": [
        {
          "output_type": "display_data",
          "data": {
            "image/png": "[encoded data removed]",
            "text/plain": [
              "<Figure size 432x288 with 1 Axes>"
            ]
          },
          "metadata": {
            "tags": []
          }
        }
      ]
    },
    {
      "cell_type": "code",
      "metadata": {
        "id": "iR_X144wnruB",
        "colab_type": "code",
        "outputId": "4500dc34-c39c-45df-e7d6-4e251535c24b",
        "colab": {
          "base_uri": "https://localhost:8080/",
          "height": 301
        }
      },
      "source": [
        "df_df2.vecto_mes.hist(bins = 100)\n",
        "plt.xlabel('VENCIMENTO')\n",
        "plt.ylabel('QUANTIDADE')\n",
        "plt.title('VENCIMENTO')\n",
        "plt.show()"
      ],
      "execution_count": 149,
      "outputs": [
        {
          "output_type": "display_data",
          "data": {
            "image/png": "[encoded data removed]",
            "text/plain": [
              "<Figure size 432x288 with 1 Axes>"
            ]
          },
          "metadata": {
            "tags": []
          }
        }
      ]
    },
    {
      "cell_type": "code",
      "metadata": {
        "id": "_hbWhVvOnruE",
        "colab_type": "code",
        "colab": {}
      },
      "source": [
        "df_df2.to_excel('/gdrive/My Drive/Colab Notebooks/Datasets/Prefeitura de Votorantim.xlsx')"
      ],
      "execution_count": 0,
      "outputs": []
    },
    {
      "cell_type": "markdown",
      "metadata": {
        "id": "po85dM7xnruG",
        "colab_type": "text"
      },
      "source": [
        "# FIM"
      ]
    }
  ]
}
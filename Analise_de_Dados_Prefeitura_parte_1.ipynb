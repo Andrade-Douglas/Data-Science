{
  "nbformat": 4,
  "nbformat_minor": 0,
  "metadata": {
    "kernelspec": {
      "display_name": "Python 3",
      "language": "python",
      "name": "python3"
    },
    "language_info": {
      "codemirror_mode": {
        "name": "ipython",
        "version": 3
      },
      "file_extension": ".py",
      "mimetype": "text/x-python",
      "name": "python",
      "nbconvert_exporter": "python",
      "pygments_lexer": "ipython3",
      "version": "3.6.5"
    },
    "colab": {
      "name": "Analise_de_Dados_Prefeitura_parte_1.ipynb",
      "provenance": [],
      "collapsed_sections": [],
      "toc_visible": true,
      "include_colab_link": true
    }
  },
  "cells": [
    {
      "cell_type": "markdown",
      "metadata": {
        "id": "view-in-github",
        "colab_type": "text"
      },
      "source": [
        "<a href=\"https://colab.research.google.com/github/Andrade-Douglas/Data-Science/blob/master/Analise_de_Dados_Prefeitura_parte_1.ipynb\" target=\"_parent\"><img src=\"https://colab.research.google.com/assets/colab-badge.svg\" alt=\"Open In Colab\"/></a>"
      ]
    },
    {
      "cell_type": "markdown",
      "metadata": {
        "id": "f_sF_DdUnrqC",
        "colab_type": "text"
      },
      "source": [
        "# Projeto: Folha de Pagamento Prefeitura\n",
        "##### Fonte: https://www.votorantim.sp.gov.br/portal/transparencia\n",
        "\n",
        "##### Fonte de Dados: Folha de Pagamento [clique aqui](https://www.votorantim.sp.gov.br/portal/transparencia/121/2019/)\n",
        "\n",
        "##### Fonte de Dados: Relação de Servidores [clique aqui](http://s2.asp.srv.br/etransparencia.pm.votorantim.sp/servlet/wwpessoalservidor?4RjsYr9qVYuX_DVvfJ5jqa_01JYuFyZUMqEhneWx_YHSxoLnlrC_+vDnHQ2LtVXV) \n",
        " "
      ]
    },
    {
      "cell_type": "markdown",
      "metadata": {
        "id": "PwdpAM0jyoJA",
        "colab_type": "text"
      },
      "source": [
        "#### Montando Drive"
      ]
    },
    {
      "cell_type": "code",
      "metadata": {
        "id": "Vwq3Qik8u3tZ",
        "colab_type": "code",
        "colab": {}
      },
      "source": [
        "from google.colab import drive\n",
        "drive.mount('/gdrive')\n",
        "%cd /gdrive"
      ],
      "execution_count": 0,
      "outputs": []
    },
    {
      "cell_type": "markdown",
      "metadata": {
        "id": "SI_zs4kqy1wR",
        "colab_type": "text"
      },
      "source": [
        "#### Importando bibliotecas"
      ]
    },
    {
      "cell_type": "code",
      "metadata": {
        "id": "22xG6fCAnrqF",
        "colab_type": "code",
        "colab": {}
      },
      "source": [
        "import pandas as pd\n",
        "import numpy as np\n",
        "import matplotlib.pyplot as plt\n",
        "%matplotlib inline"
      ],
      "execution_count": 0,
      "outputs": []
    },
    {
      "cell_type": "markdown",
      "metadata": {
        "id": "wRialnAKy7vY",
        "colab_type": "text"
      },
      "source": [
        "#### Carregando a primeira Base de Dados com informações pessoais dos colaboradores"
      ]
    },
    {
      "cell_type": "code",
      "metadata": {
        "id": "0cv0uKnWnrqK",
        "colab_type": "code",
        "outputId": "71e17596-df27-44e7-b866-ca22be7ec6a2",
        "colab": {
          "base_uri": "https://localhost:8080/",
          "height": 142
        }
      },
      "source": [
        "df = pd.read_excel('/gdrive/My Drive/Colab Notebooks/Datasets/PessoalServidor-5251.xls', \n",
        "                   skiprows = 11, \n",
        "                   usecols=['Matrícula', 'Tipo de Vínculo', 'Lotação', 'Local de Trabalho']\n",
        "                   )\n",
        "df.head(n = 3)"
      ],
      "execution_count": 0,
      "outputs": [
        {
          "output_type": "execute_result",
          "data": {
            "text/html": [
              "<div>\n",
              "<style scoped>\n",
              "    .dataframe tbody tr th:only-of-type {\n",
              "        vertical-align: middle;\n",
              "    }\n",
              "\n",
              "    .dataframe tbody tr th {\n",
              "        vertical-align: top;\n",
              "    }\n",
              "\n",
              "    .dataframe thead th {\n",
              "        text-align: right;\n",
              "    }\n",
              "</style>\n",
              "<table border=\"1\" class=\"dataframe\">\n",
              "  <thead>\n",
              "    <tr style=\"text-align: right;\">\n",
              "      <th></th>\n",
              "      <th>Matrícula</th>\n",
              "      <th>Tipo de Vínculo</th>\n",
              "      <th>Lotação</th>\n",
              "      <th>Local de Trabalho</th>\n",
              "    </tr>\n",
              "  </thead>\n",
              "  <tbody>\n",
              "    <tr>\n",
              "      <th>0</th>\n",
              "      <td>13646.0</td>\n",
              "      <td>ESTATUTÁRIO</td>\n",
              "      <td>SECRETARIA DE SERVICOS PUBLICOS</td>\n",
              "      <td>SERVICOS PUBLICOS</td>\n",
              "    </tr>\n",
              "    <tr>\n",
              "      <th>1</th>\n",
              "      <td>10229.0</td>\n",
              "      <td>ESTATUTÁRIO</td>\n",
              "      <td>UBS ITAPEVA</td>\n",
              "      <td>PAÇO</td>\n",
              "    </tr>\n",
              "    <tr>\n",
              "      <th>2</th>\n",
              "      <td>13647.0</td>\n",
              "      <td>ESTATUTÁRIO</td>\n",
              "      <td>SECRETARIA DE EDUCACAO</td>\n",
              "      <td>SECRETARIA DE EDUCACAO</td>\n",
              "    </tr>\n",
              "  </tbody>\n",
              "</table>\n",
              "</div>"
            ],
            "text/plain": [
              "   Matrícula  ...       Local de Trabalho\n",
              "0    13646.0  ...       SERVICOS PUBLICOS\n",
              "1    10229.0  ...                    PAÇO\n",
              "2    13647.0  ...  SECRETARIA DE EDUCACAO\n",
              "\n",
              "[3 rows x 4 columns]"
            ]
          },
          "metadata": {
            "tags": []
          },
          "execution_count": 3
        }
      ]
    },
    {
      "cell_type": "markdown",
      "metadata": {
        "id": "qkhAZcc50aik",
        "colab_type": "text"
      },
      "source": [
        "#### Tamanho da nossa Base de Dados (linhas, colunas)"
      ]
    },
    {
      "cell_type": "code",
      "metadata": {
        "id": "BillR7SnnrqR",
        "colab_type": "code",
        "outputId": "6d732a99-3fd2-4a38-e298-c1ccc7b4a6ad",
        "colab": {
          "base_uri": "https://localhost:8080/",
          "height": 34
        }
      },
      "source": [
        "print('Número de linhas e colunas:', df.shape)"
      ],
      "execution_count": 0,
      "outputs": [
        {
          "output_type": "stream",
          "text": [
            "Número de linhas e colunas: (2573, 4)\n"
          ],
          "name": "stdout"
        }
      ]
    },
    {
      "cell_type": "code",
      "metadata": {
        "id": "roSNogJJQJku",
        "colab_type": "code",
        "outputId": "84668bba-919c-48cb-f094-65b0a7f8b77d",
        "colab": {
          "base_uri": "https://localhost:8080/",
          "height": 170
        }
      },
      "source": [
        "df.info()"
      ],
      "execution_count": 0,
      "outputs": [
        {
          "output_type": "stream",
          "text": [
            "<class 'pandas.core.frame.DataFrame'>\n",
            "RangeIndex: 2573 entries, 0 to 2572\n",
            "Data columns (total 4 columns):\n",
            "Matrícula            2568 non-null float64\n",
            "Tipo de Vínculo      2568 non-null object\n",
            "Lotação              2568 non-null object\n",
            "Local de Trabalho    2568 non-null object\n",
            "dtypes: float64(1), object(3)\n",
            "memory usage: 80.5+ KB\n"
          ],
          "name": "stdout"
        }
      ]
    },
    {
      "cell_type": "markdown",
      "metadata": {
        "id": "O663TtED0loe",
        "colab_type": "text"
      },
      "source": [
        "#### Existência de valores nulos dentro da Base de Dados"
      ]
    },
    {
      "cell_type": "code",
      "metadata": {
        "id": "8UdPiZb2nrqV",
        "colab_type": "code",
        "outputId": "4c1edeed-937a-4f73-c366-15e658dcecbf",
        "colab": {
          "base_uri": "https://localhost:8080/",
          "height": 34
        }
      },
      "source": [
        "print('Existe valor nulo dentro das colunas:', df.isnull().values.any())"
      ],
      "execution_count": 0,
      "outputs": [
        {
          "output_type": "stream",
          "text": [
            "Existe valor nulo dentro das colunas: True\n"
          ],
          "name": "stdout"
        }
      ]
    },
    {
      "cell_type": "markdown",
      "metadata": {
        "id": "psvcy6N10sEz",
        "colab_type": "text"
      },
      "source": [
        "#### Quantitativo de valores vazios"
      ]
    },
    {
      "cell_type": "code",
      "metadata": {
        "id": "hbyeAxKEnrqY",
        "colab_type": "code",
        "outputId": "232e9306-ba6b-4b47-d06d-835176c5523f",
        "colab": {
          "base_uri": "https://localhost:8080/",
          "height": 102
        }
      },
      "source": [
        "df.isnull().sum()"
      ],
      "execution_count": 0,
      "outputs": [
        {
          "output_type": "execute_result",
          "data": {
            "text/plain": [
              "Matrícula            5\n",
              "Tipo de Vínculo      5\n",
              "Lotação              5\n",
              "Local de Trabalho    5\n",
              "dtype: int64"
            ]
          },
          "metadata": {
            "tags": []
          },
          "execution_count": 7
        }
      ]
    },
    {
      "cell_type": "markdown",
      "metadata": {
        "id": "fAjIC0_W03oB",
        "colab_type": "text"
      },
      "source": [
        "#### Pesquisando as últimas linhas de nossa Base de Dados"
      ]
    },
    {
      "cell_type": "code",
      "metadata": {
        "id": "5Xo3YHmAnrqe",
        "colab_type": "code",
        "outputId": "08dc8eab-67b8-442f-fce7-23cc33558d9b",
        "colab": {
          "base_uri": "https://localhost:8080/",
          "height": 235
        }
      },
      "source": [
        "df.tail(n = 6)"
      ],
      "execution_count": 0,
      "outputs": [
        {
          "output_type": "execute_result",
          "data": {
            "text/html": [
              "<div>\n",
              "<style scoped>\n",
              "    .dataframe tbody tr th:only-of-type {\n",
              "        vertical-align: middle;\n",
              "    }\n",
              "\n",
              "    .dataframe tbody tr th {\n",
              "        vertical-align: top;\n",
              "    }\n",
              "\n",
              "    .dataframe thead th {\n",
              "        text-align: right;\n",
              "    }\n",
              "</style>\n",
              "<table border=\"1\" class=\"dataframe\">\n",
              "  <thead>\n",
              "    <tr style=\"text-align: right;\">\n",
              "      <th></th>\n",
              "      <th>Matrícula</th>\n",
              "      <th>Tipo de Vínculo</th>\n",
              "      <th>Lotação</th>\n",
              "      <th>Local de Trabalho</th>\n",
              "    </tr>\n",
              "  </thead>\n",
              "  <tbody>\n",
              "    <tr>\n",
              "      <th>2562</th>\n",
              "      <td>13259.0</td>\n",
              "      <td>ESTATUTÁRIO</td>\n",
              "      <td>CMEI  ODAIR JOSE CAU</td>\n",
              "      <td>CMEI ODAIR CAU</td>\n",
              "    </tr>\n",
              "    <tr>\n",
              "      <th>2563</th>\n",
              "      <td>81260.0</td>\n",
              "      <td>CARGO EM COMISSÃO</td>\n",
              "      <td>SECRETARIA DE EDUCACAO</td>\n",
              "      <td>SECRETARIA DE EDUCACAO</td>\n",
              "    </tr>\n",
              "    <tr>\n",
              "      <th>2564</th>\n",
              "      <td>10845.0</td>\n",
              "      <td>ESTATUTÁRIO</td>\n",
              "      <td>AMBULANCIA</td>\n",
              "      <td>PAÇO</td>\n",
              "    </tr>\n",
              "    <tr>\n",
              "      <th>2565</th>\n",
              "      <td>11070.0</td>\n",
              "      <td>ESTATUTÁRIO</td>\n",
              "      <td>SECRETARIA DE SAUDE</td>\n",
              "      <td>PAÇO</td>\n",
              "    </tr>\n",
              "    <tr>\n",
              "      <th>2566</th>\n",
              "      <td>12095.0</td>\n",
              "      <td>ESTATUTÁRIO</td>\n",
              "      <td>EMEF  PROF  WALTER ROCHA DE CAMARGO</td>\n",
              "      <td>EMEF  PROF  WALTER ROCHA DE CAMARGO</td>\n",
              "    </tr>\n",
              "    <tr>\n",
              "      <th>2567</th>\n",
              "      <td>12379.0</td>\n",
              "      <td>ESTATUTÁRIO</td>\n",
              "      <td>UBS RIO ACIMA</td>\n",
              "      <td>PAÇO</td>\n",
              "    </tr>\n",
              "  </tbody>\n",
              "</table>\n",
              "</div>"
            ],
            "text/plain": [
              "      Matrícula  ...                    Local de Trabalho\n",
              "2562    13259.0  ...                       CMEI ODAIR CAU\n",
              "2563    81260.0  ...               SECRETARIA DE EDUCACAO\n",
              "2564    10845.0  ...                                 PAÇO\n",
              "2565    11070.0  ...                                 PAÇO\n",
              "2566    12095.0  ...  EMEF  PROF  WALTER ROCHA DE CAMARGO\n",
              "2567    12379.0  ...                                 PAÇO\n",
              "\n",
              "[6 rows x 4 columns]"
            ]
          },
          "metadata": {
            "tags": []
          },
          "execution_count": 9
        }
      ]
    },
    {
      "cell_type": "markdown",
      "metadata": {
        "id": "R5SsUwhU1BnK",
        "colab_type": "text"
      },
      "source": [
        "#### Removendo valores faltantes"
      ]
    },
    {
      "cell_type": "code",
      "metadata": {
        "id": "UqvJjSdDnrqh",
        "colab_type": "code",
        "outputId": "e2109e6b-de5b-4209-b249-6686eef026c7",
        "colab": {
          "base_uri": "https://localhost:8080/",
          "height": 102
        }
      },
      "source": [
        "df.dropna(how = 'all', inplace = True)\n",
        "df.isnull().sum()"
      ],
      "execution_count": 0,
      "outputs": [
        {
          "output_type": "execute_result",
          "data": {
            "text/plain": [
              "Matrícula            0\n",
              "Tipo de Vínculo      0\n",
              "Lotação              0\n",
              "Local de Trabalho    0\n",
              "dtype: int64"
            ]
          },
          "metadata": {
            "tags": []
          },
          "execution_count": 8
        }
      ]
    },
    {
      "cell_type": "markdown",
      "metadata": {
        "id": "tIevk8mo1Hl6",
        "colab_type": "text"
      },
      "source": [
        "#### Após as atualizações segue o novo formato de nossa Base de Dados"
      ]
    },
    {
      "cell_type": "code",
      "metadata": {
        "id": "hjFdpP-rnrql",
        "colab_type": "code",
        "outputId": "6493eacf-23fb-44f8-913d-2a7ad6a29895",
        "colab": {
          "base_uri": "https://localhost:8080/",
          "height": 34
        }
      },
      "source": [
        "df.shape"
      ],
      "execution_count": 0,
      "outputs": [
        {
          "output_type": "execute_result",
          "data": {
            "text/plain": [
              "(2568, 4)"
            ]
          },
          "metadata": {
            "tags": []
          },
          "execution_count": 10
        }
      ]
    },
    {
      "cell_type": "markdown",
      "metadata": {
        "id": "ZBrg88MA1PUD",
        "colab_type": "text"
      },
      "source": [
        "#### Valores faltantes removidos"
      ]
    },
    {
      "cell_type": "code",
      "metadata": {
        "id": "VnmCEoWOnrqo",
        "colab_type": "code",
        "outputId": "20bd71d8-4cf7-4e39-c209-30f695689fc4",
        "colab": {
          "base_uri": "https://localhost:8080/",
          "height": 235
        }
      },
      "source": [
        "df.tail(n = 6)"
      ],
      "execution_count": 0,
      "outputs": [
        {
          "output_type": "execute_result",
          "data": {
            "text/html": [
              "<div>\n",
              "<style scoped>\n",
              "    .dataframe tbody tr th:only-of-type {\n",
              "        vertical-align: middle;\n",
              "    }\n",
              "\n",
              "    .dataframe tbody tr th {\n",
              "        vertical-align: top;\n",
              "    }\n",
              "\n",
              "    .dataframe thead th {\n",
              "        text-align: right;\n",
              "    }\n",
              "</style>\n",
              "<table border=\"1\" class=\"dataframe\">\n",
              "  <thead>\n",
              "    <tr style=\"text-align: right;\">\n",
              "      <th></th>\n",
              "      <th>Matrícula</th>\n",
              "      <th>Tipo de Vínculo</th>\n",
              "      <th>Lotação</th>\n",
              "      <th>Local de Trabalho</th>\n",
              "    </tr>\n",
              "  </thead>\n",
              "  <tbody>\n",
              "    <tr>\n",
              "      <th>2562</th>\n",
              "      <td>13259.0</td>\n",
              "      <td>ESTATUTÁRIO</td>\n",
              "      <td>CMEI  ODAIR JOSE CAU</td>\n",
              "      <td>CMEI ODAIR CAU</td>\n",
              "    </tr>\n",
              "    <tr>\n",
              "      <th>2563</th>\n",
              "      <td>81260.0</td>\n",
              "      <td>CARGO EM COMISSÃO</td>\n",
              "      <td>SECRETARIA DE EDUCACAO</td>\n",
              "      <td>SECRETARIA DE EDUCACAO</td>\n",
              "    </tr>\n",
              "    <tr>\n",
              "      <th>2564</th>\n",
              "      <td>10845.0</td>\n",
              "      <td>ESTATUTÁRIO</td>\n",
              "      <td>AMBULANCIA</td>\n",
              "      <td>PAÇO</td>\n",
              "    </tr>\n",
              "    <tr>\n",
              "      <th>2565</th>\n",
              "      <td>11070.0</td>\n",
              "      <td>ESTATUTÁRIO</td>\n",
              "      <td>SECRETARIA DE SAUDE</td>\n",
              "      <td>PAÇO</td>\n",
              "    </tr>\n",
              "    <tr>\n",
              "      <th>2566</th>\n",
              "      <td>12095.0</td>\n",
              "      <td>ESTATUTÁRIO</td>\n",
              "      <td>EMEF  PROF  WALTER ROCHA DE CAMARGO</td>\n",
              "      <td>EMEF  PROF  WALTER ROCHA DE CAMARGO</td>\n",
              "    </tr>\n",
              "    <tr>\n",
              "      <th>2567</th>\n",
              "      <td>12379.0</td>\n",
              "      <td>ESTATUTÁRIO</td>\n",
              "      <td>UBS RIO ACIMA</td>\n",
              "      <td>PAÇO</td>\n",
              "    </tr>\n",
              "  </tbody>\n",
              "</table>\n",
              "</div>"
            ],
            "text/plain": [
              "      Matrícula  ...                    Local de Trabalho\n",
              "2562    13259.0  ...                       CMEI ODAIR CAU\n",
              "2563    81260.0  ...               SECRETARIA DE EDUCACAO\n",
              "2564    10845.0  ...                                 PAÇO\n",
              "2565    11070.0  ...                                 PAÇO\n",
              "2566    12095.0  ...  EMEF  PROF  WALTER ROCHA DE CAMARGO\n",
              "2567    12379.0  ...                                 PAÇO\n",
              "\n",
              "[6 rows x 4 columns]"
            ]
          },
          "metadata": {
            "tags": []
          },
          "execution_count": 11
        }
      ]
    },
    {
      "cell_type": "markdown",
      "metadata": {
        "id": "xaIaxYUH1SSs",
        "colab_type": "text"
      },
      "source": [
        "#### Trabalhando com os tipos dos registros"
      ]
    },
    {
      "cell_type": "code",
      "metadata": {
        "id": "7-FSYY_onrqr",
        "colab_type": "code",
        "outputId": "2a8106df-b2e7-45d6-ae39-99a10c32ccd7",
        "colab": {
          "base_uri": "https://localhost:8080/",
          "height": 102
        }
      },
      "source": [
        "df.dtypes"
      ],
      "execution_count": 0,
      "outputs": [
        {
          "output_type": "execute_result",
          "data": {
            "text/plain": [
              "Matrícula            float64\n",
              "Tipo de Vínculo       object\n",
              "Lotação               object\n",
              "Local de Trabalho     object\n",
              "dtype: object"
            ]
          },
          "metadata": {
            "tags": []
          },
          "execution_count": 12
        }
      ]
    },
    {
      "cell_type": "markdown",
      "metadata": {
        "id": "AnLcPTut1XUz",
        "colab_type": "text"
      },
      "source": [
        "#### Convertendo matrícula do tipo float64 para tipo object"
      ]
    },
    {
      "cell_type": "code",
      "metadata": {
        "colab_type": "code",
        "outputId": "550d1d25-0d22-4189-cb37-2d9ca1acb287",
        "id": "BUE4ne6ew-Gs",
        "colab": {
          "base_uri": "https://localhost:8080/",
          "height": 102
        }
      },
      "source": [
        "df['Matrícula'] = df['Matrícula'].astype(object)\n",
        "df.dtypes"
      ],
      "execution_count": 0,
      "outputs": [
        {
          "output_type": "execute_result",
          "data": {
            "text/plain": [
              "Matrícula            object\n",
              "Tipo de Vínculo      object\n",
              "Lotação              object\n",
              "Local de Trabalho    object\n",
              "dtype: object"
            ]
          },
          "metadata": {
            "tags": []
          },
          "execution_count": 13
        }
      ]
    },
    {
      "cell_type": "markdown",
      "metadata": {
        "id": "i_RXIIvM1gtU",
        "colab_type": "text"
      },
      "source": [
        "#### Padronizando a compreensão dos títulos das colunas. Sem acentuação, nem caixa alta ou espaços"
      ]
    },
    {
      "cell_type": "code",
      "metadata": {
        "id": "HXbRqwajnrq2",
        "colab_type": "code",
        "outputId": "0e73b6f1-ef6a-4072-bde9-82dabce99f03",
        "colab": {
          "base_uri": "https://localhost:8080/",
          "height": 204
        }
      },
      "source": [
        "df.columns = df.columns.str.lower().str.replace(' ', '_').str.replace('í', 'i').str.replace('ã', 'a').str.replace('/', '_').str.replace('ç', 'c')\n",
        "df.head()"
      ],
      "execution_count": 0,
      "outputs": [
        {
          "output_type": "execute_result",
          "data": {
            "text/html": [
              "<div>\n",
              "<style scoped>\n",
              "    .dataframe tbody tr th:only-of-type {\n",
              "        vertical-align: middle;\n",
              "    }\n",
              "\n",
              "    .dataframe tbody tr th {\n",
              "        vertical-align: top;\n",
              "    }\n",
              "\n",
              "    .dataframe thead th {\n",
              "        text-align: right;\n",
              "    }\n",
              "</style>\n",
              "<table border=\"1\" class=\"dataframe\">\n",
              "  <thead>\n",
              "    <tr style=\"text-align: right;\">\n",
              "      <th></th>\n",
              "      <th>matricula</th>\n",
              "      <th>tipo_de_vinculo</th>\n",
              "      <th>lotacao</th>\n",
              "      <th>local_de_trabalho</th>\n",
              "    </tr>\n",
              "  </thead>\n",
              "  <tbody>\n",
              "    <tr>\n",
              "      <th>0</th>\n",
              "      <td>13646</td>\n",
              "      <td>ESTATUTÁRIO</td>\n",
              "      <td>SECRETARIA DE SERVICOS PUBLICOS</td>\n",
              "      <td>SERVICOS PUBLICOS</td>\n",
              "    </tr>\n",
              "    <tr>\n",
              "      <th>1</th>\n",
              "      <td>10229</td>\n",
              "      <td>ESTATUTÁRIO</td>\n",
              "      <td>UBS ITAPEVA</td>\n",
              "      <td>PAÇO</td>\n",
              "    </tr>\n",
              "    <tr>\n",
              "      <th>2</th>\n",
              "      <td>13647</td>\n",
              "      <td>ESTATUTÁRIO</td>\n",
              "      <td>SECRETARIA DE EDUCACAO</td>\n",
              "      <td>SECRETARIA DE EDUCACAO</td>\n",
              "    </tr>\n",
              "    <tr>\n",
              "      <th>3</th>\n",
              "      <td>13648</td>\n",
              "      <td>ESTATUTÁRIO</td>\n",
              "      <td>SECAO DE VIGILANCIA</td>\n",
              "      <td>PAÇO</td>\n",
              "    </tr>\n",
              "    <tr>\n",
              "      <th>4</th>\n",
              "      <td>11561</td>\n",
              "      <td>ESTATUTÁRIO</td>\n",
              "      <td>SECRETARIA DE EDUCACAO</td>\n",
              "      <td>SECRETARIA DE EDUCACAO</td>\n",
              "    </tr>\n",
              "  </tbody>\n",
              "</table>\n",
              "</div>"
            ],
            "text/plain": [
              "  matricula  ...       local_de_trabalho\n",
              "0     13646  ...       SERVICOS PUBLICOS\n",
              "1     10229  ...                    PAÇO\n",
              "2     13647  ...  SECRETARIA DE EDUCACAO\n",
              "3     13648  ...                    PAÇO\n",
              "4     11561  ...  SECRETARIA DE EDUCACAO\n",
              "\n",
              "[5 rows x 4 columns]"
            ]
          },
          "metadata": {
            "tags": []
          },
          "execution_count": 14
        }
      ]
    },
    {
      "cell_type": "markdown",
      "metadata": {
        "id": "Qnc3h7es1tds",
        "colab_type": "text"
      },
      "source": [
        "#### Carregando a segunda Base de Dados com informações financeiras dos colaboradores"
      ]
    },
    {
      "cell_type": "code",
      "metadata": {
        "id": "Gt6ebq4Lnrq8",
        "colab_type": "code",
        "outputId": "73fc3a88-fd53-4773-a012-1194b9f5f3da",
        "colab": {
          "base_uri": "https://localhost:8080/",
          "height": 204
        }
      },
      "source": [
        "df2 = pd.read_excel('/gdrive/My Drive/Colab Notebooks/Datasets/02-Transparencia-Servidor-FEVEREIRO_2019.xlsx', skiprows = 5, \n",
        "                    usecols = ['Matrícula', 'Cargo', 'Situação', 'Vecto Mês', 'Líquido'])\n",
        "df2.head()"
      ],
      "execution_count": 0,
      "outputs": [
        {
          "output_type": "execute_result",
          "data": {
            "text/html": [
              "<div>\n",
              "<style scoped>\n",
              "    .dataframe tbody tr th:only-of-type {\n",
              "        vertical-align: middle;\n",
              "    }\n",
              "\n",
              "    .dataframe tbody tr th {\n",
              "        vertical-align: top;\n",
              "    }\n",
              "\n",
              "    .dataframe thead th {\n",
              "        text-align: right;\n",
              "    }\n",
              "</style>\n",
              "<table border=\"1\" class=\"dataframe\">\n",
              "  <thead>\n",
              "    <tr style=\"text-align: right;\">\n",
              "      <th></th>\n",
              "      <th>Matrícula</th>\n",
              "      <th>Cargo</th>\n",
              "      <th>Situação</th>\n",
              "      <th>Vecto Mês</th>\n",
              "      <th>Líquido</th>\n",
              "    </tr>\n",
              "  </thead>\n",
              "  <tbody>\n",
              "    <tr>\n",
              "      <th>0</th>\n",
              "      <td>11.0</td>\n",
              "      <td>PREFEITO</td>\n",
              "      <td>ATIVO</td>\n",
              "      <td>17190.74</td>\n",
              "      <td>6920.30</td>\n",
              "    </tr>\n",
              "    <tr>\n",
              "      <th>1</th>\n",
              "      <td>12.0</td>\n",
              "      <td>VICE PREFEITO</td>\n",
              "      <td>ATIVO</td>\n",
              "      <td>8197.45</td>\n",
              "      <td>5832.41</td>\n",
              "    </tr>\n",
              "    <tr>\n",
              "      <th>2</th>\n",
              "      <td>1661.0</td>\n",
              "      <td>AUXILIAR DE SERVICOS DE CAMPO</td>\n",
              "      <td>ATIVO</td>\n",
              "      <td>2901.93</td>\n",
              "      <td>1426.24</td>\n",
              "    </tr>\n",
              "    <tr>\n",
              "      <th>3</th>\n",
              "      <td>1820.0</td>\n",
              "      <td>AUXILIAR DE TOPOGRAFIA E AGRIMENSURA</td>\n",
              "      <td>ATIVO</td>\n",
              "      <td>2918.42</td>\n",
              "      <td>2315.14</td>\n",
              "    </tr>\n",
              "    <tr>\n",
              "      <th>4</th>\n",
              "      <td>1848.0</td>\n",
              "      <td>MOTORISTA</td>\n",
              "      <td>ATIVO</td>\n",
              "      <td>5515.01</td>\n",
              "      <td>3380.86</td>\n",
              "    </tr>\n",
              "  </tbody>\n",
              "</table>\n",
              "</div>"
            ],
            "text/plain": [
              "   Matrícula                                 Cargo Situação  Vecto Mês  Líquido\n",
              "0       11.0                              PREFEITO    ATIVO   17190.74  6920.30\n",
              "1       12.0                         VICE PREFEITO    ATIVO    8197.45  5832.41\n",
              "2     1661.0         AUXILIAR DE SERVICOS DE CAMPO    ATIVO    2901.93  1426.24\n",
              "3     1820.0  AUXILIAR DE TOPOGRAFIA E AGRIMENSURA    ATIVO    2918.42  2315.14\n",
              "4     1848.0                             MOTORISTA    ATIVO    5515.01  3380.86"
            ]
          },
          "metadata": {
            "tags": []
          },
          "execution_count": 15
        }
      ]
    },
    {
      "cell_type": "markdown",
      "metadata": {
        "id": "4fSPdu5a25s2",
        "colab_type": "text"
      },
      "source": [
        "#### Existência de valores nulos dentro da Base de Dados"
      ]
    },
    {
      "cell_type": "code",
      "metadata": {
        "id": "Lg6Eb21InrrC",
        "colab_type": "code",
        "outputId": "2c1d94ad-2ecf-4e6c-eb73-3648d43216b8",
        "colab": {
          "base_uri": "https://localhost:8080/",
          "height": 34
        }
      },
      "source": [
        "print('Este DataFrame possui valores vazios: ', df2.isnull().values.any())"
      ],
      "execution_count": 0,
      "outputs": [
        {
          "output_type": "stream",
          "text": [
            "Este DataFrame possui valores vazios:  True\n"
          ],
          "name": "stdout"
        }
      ]
    },
    {
      "cell_type": "markdown",
      "metadata": {
        "id": "DvbBivRp3Oic",
        "colab_type": "text"
      },
      "source": [
        "#### Quantitativo de valores vazios"
      ]
    },
    {
      "cell_type": "code",
      "metadata": {
        "id": "Vx2GG4DtnrrF",
        "colab_type": "code",
        "outputId": "772bae6d-2679-4536-bf98-f8570a44ffbd",
        "colab": {
          "base_uri": "https://localhost:8080/",
          "height": 119
        }
      },
      "source": [
        "df2.isnull().sum()"
      ],
      "execution_count": 0,
      "outputs": [
        {
          "output_type": "execute_result",
          "data": {
            "text/plain": [
              "Matrícula    4\n",
              "Cargo        4\n",
              "Situação     4\n",
              "Vecto Mês    3\n",
              "Líquido      3\n",
              "dtype: int64"
            ]
          },
          "metadata": {
            "tags": []
          },
          "execution_count": 17
        }
      ]
    },
    {
      "cell_type": "markdown",
      "metadata": {
        "id": "EFEQN98z3U8H",
        "colab_type": "text"
      },
      "source": [
        "#### Quantitativo de linhas de nossa Base de Dados"
      ]
    },
    {
      "cell_type": "code",
      "metadata": {
        "id": "JNSgAZx1nrrK",
        "colab_type": "code",
        "outputId": "b992a42f-c18f-4200-843d-f4e0084432f6",
        "colab": {
          "base_uri": "https://localhost:8080/",
          "height": 34
        }
      },
      "source": [
        "df2.shape"
      ],
      "execution_count": 0,
      "outputs": [
        {
          "output_type": "execute_result",
          "data": {
            "text/plain": [
              "(2514, 5)"
            ]
          },
          "metadata": {
            "tags": []
          },
          "execution_count": 18
        }
      ]
    },
    {
      "cell_type": "markdown",
      "metadata": {
        "id": "huEU_JE33ar0",
        "colab_type": "text"
      },
      "source": [
        "#### Pesquisando as últimas linhas de nossa Base de Dados"
      ]
    },
    {
      "cell_type": "code",
      "metadata": {
        "id": "u9Sgl4elnrrO",
        "colab_type": "code",
        "outputId": "309f3c4b-bc49-48cd-9550-7f951b40eaf6",
        "colab": {
          "base_uri": "https://localhost:8080/",
          "height": 204
        }
      },
      "source": [
        "df2.tail()"
      ],
      "execution_count": 0,
      "outputs": [
        {
          "output_type": "execute_result",
          "data": {
            "text/html": [
              "<div>\n",
              "<style scoped>\n",
              "    .dataframe tbody tr th:only-of-type {\n",
              "        vertical-align: middle;\n",
              "    }\n",
              "\n",
              "    .dataframe tbody tr th {\n",
              "        vertical-align: top;\n",
              "    }\n",
              "\n",
              "    .dataframe thead th {\n",
              "        text-align: right;\n",
              "    }\n",
              "</style>\n",
              "<table border=\"1\" class=\"dataframe\">\n",
              "  <thead>\n",
              "    <tr style=\"text-align: right;\">\n",
              "      <th></th>\n",
              "      <th>Matrícula</th>\n",
              "      <th>Cargo</th>\n",
              "      <th>Situação</th>\n",
              "      <th>Vecto Mês</th>\n",
              "      <th>Líquido</th>\n",
              "    </tr>\n",
              "  </thead>\n",
              "  <tbody>\n",
              "    <tr>\n",
              "      <th>2509</th>\n",
              "      <td>100013.0</td>\n",
              "      <td>CONSELHEIRO TUTELAR</td>\n",
              "      <td>ATIVO</td>\n",
              "      <td>1963.48</td>\n",
              "      <td>1580.66</td>\n",
              "    </tr>\n",
              "    <tr>\n",
              "      <th>2510</th>\n",
              "      <td>NaN</td>\n",
              "      <td>NaN</td>\n",
              "      <td>NaN</td>\n",
              "      <td>NaN</td>\n",
              "      <td>NaN</td>\n",
              "    </tr>\n",
              "    <tr>\n",
              "      <th>2511</th>\n",
              "      <td>NaN</td>\n",
              "      <td>NaN</td>\n",
              "      <td>NaN</td>\n",
              "      <td>NaN</td>\n",
              "      <td>NaN</td>\n",
              "    </tr>\n",
              "    <tr>\n",
              "      <th>2512</th>\n",
              "      <td>NaN</td>\n",
              "      <td>NaN</td>\n",
              "      <td>NaN</td>\n",
              "      <td>NaN</td>\n",
              "      <td>NaN</td>\n",
              "    </tr>\n",
              "    <tr>\n",
              "      <th>2513</th>\n",
              "      <td>NaN</td>\n",
              "      <td>NaN</td>\n",
              "      <td>NaN</td>\n",
              "      <td>9239439.97</td>\n",
              "      <td>6383587.78</td>\n",
              "    </tr>\n",
              "  </tbody>\n",
              "</table>\n",
              "</div>"
            ],
            "text/plain": [
              "      Matrícula                Cargo Situação   Vecto Mês     Líquido\n",
              "2509   100013.0  CONSELHEIRO TUTELAR    ATIVO     1963.48     1580.66\n",
              "2510        NaN                  NaN      NaN         NaN         NaN\n",
              "2511        NaN                  NaN      NaN         NaN         NaN\n",
              "2512        NaN                  NaN      NaN         NaN         NaN\n",
              "2513        NaN                  NaN      NaN  9239439.97  6383587.78"
            ]
          },
          "metadata": {
            "tags": []
          },
          "execution_count": 19
        }
      ]
    },
    {
      "cell_type": "markdown",
      "metadata": {
        "id": "fQoF1MFc3ppH",
        "colab_type": "text"
      },
      "source": [
        "#### Removendo valores faltantes"
      ]
    },
    {
      "cell_type": "code",
      "metadata": {
        "id": "59LUNl26nrrT",
        "colab_type": "code",
        "outputId": "90f1565f-f2e2-46c5-d104-435c3b5ea8d3",
        "colab": {
          "base_uri": "https://localhost:8080/",
          "height": 204
        }
      },
      "source": [
        "df2 = df2.dropna(axis = 0, how = 'any')\n",
        "df2.tail()"
      ],
      "execution_count": 0,
      "outputs": [
        {
          "output_type": "execute_result",
          "data": {
            "text/html": [
              "<div>\n",
              "<style scoped>\n",
              "    .dataframe tbody tr th:only-of-type {\n",
              "        vertical-align: middle;\n",
              "    }\n",
              "\n",
              "    .dataframe tbody tr th {\n",
              "        vertical-align: top;\n",
              "    }\n",
              "\n",
              "    .dataframe thead th {\n",
              "        text-align: right;\n",
              "    }\n",
              "</style>\n",
              "<table border=\"1\" class=\"dataframe\">\n",
              "  <thead>\n",
              "    <tr style=\"text-align: right;\">\n",
              "      <th></th>\n",
              "      <th>Matrícula</th>\n",
              "      <th>Cargo</th>\n",
              "      <th>Situação</th>\n",
              "      <th>Vecto Mês</th>\n",
              "      <th>Líquido</th>\n",
              "    </tr>\n",
              "  </thead>\n",
              "  <tbody>\n",
              "    <tr>\n",
              "      <th>2505</th>\n",
              "      <td>100009.0</td>\n",
              "      <td>CONSELHEIRO TUTELAR</td>\n",
              "      <td>ATIVO</td>\n",
              "      <td>1963.48</td>\n",
              "      <td>1301.62</td>\n",
              "    </tr>\n",
              "    <tr>\n",
              "      <th>2506</th>\n",
              "      <td>100010.0</td>\n",
              "      <td>CONSELHEIRO TUTELAR</td>\n",
              "      <td>ATIVO</td>\n",
              "      <td>1963.48</td>\n",
              "      <td>1784.77</td>\n",
              "    </tr>\n",
              "    <tr>\n",
              "      <th>2507</th>\n",
              "      <td>100011.0</td>\n",
              "      <td>CONSELHEIRO TUTELAR</td>\n",
              "      <td>ATIVO</td>\n",
              "      <td>1963.48</td>\n",
              "      <td>1784.77</td>\n",
              "    </tr>\n",
              "    <tr>\n",
              "      <th>2508</th>\n",
              "      <td>100012.0</td>\n",
              "      <td>CONSELHEIRO TUTELAR</td>\n",
              "      <td>ATIVO</td>\n",
              "      <td>1963.48</td>\n",
              "      <td>1580.66</td>\n",
              "    </tr>\n",
              "    <tr>\n",
              "      <th>2509</th>\n",
              "      <td>100013.0</td>\n",
              "      <td>CONSELHEIRO TUTELAR</td>\n",
              "      <td>ATIVO</td>\n",
              "      <td>1963.48</td>\n",
              "      <td>1580.66</td>\n",
              "    </tr>\n",
              "  </tbody>\n",
              "</table>\n",
              "</div>"
            ],
            "text/plain": [
              "      Matrícula                Cargo Situação  Vecto Mês  Líquido\n",
              "2505   100009.0  CONSELHEIRO TUTELAR    ATIVO    1963.48  1301.62\n",
              "2506   100010.0  CONSELHEIRO TUTELAR    ATIVO    1963.48  1784.77\n",
              "2507   100011.0  CONSELHEIRO TUTELAR    ATIVO    1963.48  1784.77\n",
              "2508   100012.0  CONSELHEIRO TUTELAR    ATIVO    1963.48  1580.66\n",
              "2509   100013.0  CONSELHEIRO TUTELAR    ATIVO    1963.48  1580.66"
            ]
          },
          "metadata": {
            "tags": []
          },
          "execution_count": 20
        }
      ]
    },
    {
      "cell_type": "markdown",
      "metadata": {
        "id": "o62EZGs23t-W",
        "colab_type": "text"
      },
      "source": [
        "#### Padronizando a compreensão dos títulos das colunas. Sem acentuação, nem caixa alta ou espaços"
      ]
    },
    {
      "cell_type": "code",
      "metadata": {
        "id": "dTEAuYlynrrW",
        "colab_type": "code",
        "outputId": "f9f0fad8-3327-4934-8f55-bcbd5e1b45a5",
        "colab": {
          "base_uri": "https://localhost:8080/",
          "height": 204
        }
      },
      "source": [
        "df2.columns = df2.columns.str.lower().str.replace('í', 'i').str.replace('ç', 'c').str.replace('ã', 'a').str.replace(' ', '_').str.replace('ê', 'e').str.replace('ó', 'o')\n",
        "df2.head()"
      ],
      "execution_count": 0,
      "outputs": [
        {
          "output_type": "execute_result",
          "data": {
            "text/html": [
              "<div>\n",
              "<style scoped>\n",
              "    .dataframe tbody tr th:only-of-type {\n",
              "        vertical-align: middle;\n",
              "    }\n",
              "\n",
              "    .dataframe tbody tr th {\n",
              "        vertical-align: top;\n",
              "    }\n",
              "\n",
              "    .dataframe thead th {\n",
              "        text-align: right;\n",
              "    }\n",
              "</style>\n",
              "<table border=\"1\" class=\"dataframe\">\n",
              "  <thead>\n",
              "    <tr style=\"text-align: right;\">\n",
              "      <th></th>\n",
              "      <th>matricula</th>\n",
              "      <th>cargo</th>\n",
              "      <th>situacao</th>\n",
              "      <th>vecto_mes</th>\n",
              "      <th>liquido</th>\n",
              "    </tr>\n",
              "  </thead>\n",
              "  <tbody>\n",
              "    <tr>\n",
              "      <th>0</th>\n",
              "      <td>11.0</td>\n",
              "      <td>PREFEITO</td>\n",
              "      <td>ATIVO</td>\n",
              "      <td>17190.74</td>\n",
              "      <td>6920.30</td>\n",
              "    </tr>\n",
              "    <tr>\n",
              "      <th>1</th>\n",
              "      <td>12.0</td>\n",
              "      <td>VICE PREFEITO</td>\n",
              "      <td>ATIVO</td>\n",
              "      <td>8197.45</td>\n",
              "      <td>5832.41</td>\n",
              "    </tr>\n",
              "    <tr>\n",
              "      <th>2</th>\n",
              "      <td>1661.0</td>\n",
              "      <td>AUXILIAR DE SERVICOS DE CAMPO</td>\n",
              "      <td>ATIVO</td>\n",
              "      <td>2901.93</td>\n",
              "      <td>1426.24</td>\n",
              "    </tr>\n",
              "    <tr>\n",
              "      <th>3</th>\n",
              "      <td>1820.0</td>\n",
              "      <td>AUXILIAR DE TOPOGRAFIA E AGRIMENSURA</td>\n",
              "      <td>ATIVO</td>\n",
              "      <td>2918.42</td>\n",
              "      <td>2315.14</td>\n",
              "    </tr>\n",
              "    <tr>\n",
              "      <th>4</th>\n",
              "      <td>1848.0</td>\n",
              "      <td>MOTORISTA</td>\n",
              "      <td>ATIVO</td>\n",
              "      <td>5515.01</td>\n",
              "      <td>3380.86</td>\n",
              "    </tr>\n",
              "  </tbody>\n",
              "</table>\n",
              "</div>"
            ],
            "text/plain": [
              "   matricula                                 cargo situacao  vecto_mes  liquido\n",
              "0       11.0                              PREFEITO    ATIVO   17190.74  6920.30\n",
              "1       12.0                         VICE PREFEITO    ATIVO    8197.45  5832.41\n",
              "2     1661.0         AUXILIAR DE SERVICOS DE CAMPO    ATIVO    2901.93  1426.24\n",
              "3     1820.0  AUXILIAR DE TOPOGRAFIA E AGRIMENSURA    ATIVO    2918.42  2315.14\n",
              "4     1848.0                             MOTORISTA    ATIVO    5515.01  3380.86"
            ]
          },
          "metadata": {
            "tags": []
          },
          "execution_count": 21
        }
      ]
    },
    {
      "cell_type": "markdown",
      "metadata": {
        "id": "MQQNtjc8kg9e",
        "colab_type": "text"
      },
      "source": [
        "#### Base de Dados atualizada"
      ]
    },
    {
      "cell_type": "code",
      "metadata": {
        "id": "Ehz-1ucHnrrY",
        "colab_type": "code",
        "outputId": "e2e0d093-15d8-4d57-867b-3b5f0d2b7e57",
        "colab": {
          "base_uri": "https://localhost:8080/",
          "height": 34
        }
      },
      "source": [
        "df2.shape"
      ],
      "execution_count": 0,
      "outputs": [
        {
          "output_type": "execute_result",
          "data": {
            "text/plain": [
              "(2510, 5)"
            ]
          },
          "metadata": {
            "tags": []
          },
          "execution_count": 22
        }
      ]
    },
    {
      "cell_type": "markdown",
      "metadata": {
        "id": "P0hhxFnlklbz",
        "colab_type": "text"
      },
      "source": [
        "#### Nome das colunas de nossa Base de Dados"
      ]
    },
    {
      "cell_type": "markdown",
      "metadata": {
        "id": "ofcOB5ZQkr6u",
        "colab_type": "text"
      },
      "source": [
        "#### Entendendo os tipos de dados envolvendo nossos registros"
      ]
    },
    {
      "cell_type": "code",
      "metadata": {
        "id": "AEutaBVlnrrg",
        "colab_type": "code",
        "outputId": "d20de15f-f92f-45da-ecfc-dafeb8523c91",
        "colab": {
          "base_uri": "https://localhost:8080/",
          "height": 119
        }
      },
      "source": [
        "df2.dtypes"
      ],
      "execution_count": 0,
      "outputs": [
        {
          "output_type": "execute_result",
          "data": {
            "text/plain": [
              "matricula    float64\n",
              "cargo         object\n",
              "situacao      object\n",
              "vecto_mes    float64\n",
              "liquido      float64\n",
              "dtype: object"
            ]
          },
          "metadata": {
            "tags": []
          },
          "execution_count": 23
        }
      ]
    },
    {
      "cell_type": "markdown",
      "metadata": {
        "id": "ygZL1XVhkwYz",
        "colab_type": "text"
      },
      "source": [
        "#### Como não iremos trabalhar matematicamente com as colunas abaixo, iremos converter para tipo *object*"
      ]
    },
    {
      "cell_type": "code",
      "metadata": {
        "id": "moV7-m4Ynrri",
        "colab_type": "code",
        "outputId": "2091db9d-63d4-45cd-e15e-5b1a1f02829f",
        "colab": {
          "base_uri": "https://localhost:8080/",
          "height": 119
        }
      },
      "source": [
        "df2['matricula'] = df2['matricula'].astype(object)\n",
        "df2.dtypes"
      ],
      "execution_count": 0,
      "outputs": [
        {
          "output_type": "execute_result",
          "data": {
            "text/plain": [
              "matricula     object\n",
              "cargo         object\n",
              "situacao      object\n",
              "vecto_mes    float64\n",
              "liquido      float64\n",
              "dtype: object"
            ]
          },
          "metadata": {
            "tags": []
          },
          "execution_count": 24
        }
      ]
    },
    {
      "cell_type": "markdown",
      "metadata": {
        "id": "4Vh_kBe83_EP",
        "colab_type": "text"
      },
      "source": [
        "#### Base de Dados - Informações pessoais"
      ]
    },
    {
      "cell_type": "code",
      "metadata": {
        "id": "G9XX-cUxnrrq",
        "colab_type": "code",
        "outputId": "9d61b0be-c1db-4b0c-a741-bcb0c58325f6",
        "colab": {
          "base_uri": "https://localhost:8080/",
          "height": 204
        }
      },
      "source": [
        "df.head()"
      ],
      "execution_count": 0,
      "outputs": [
        {
          "output_type": "execute_result",
          "data": {
            "text/html": [
              "<div>\n",
              "<style scoped>\n",
              "    .dataframe tbody tr th:only-of-type {\n",
              "        vertical-align: middle;\n",
              "    }\n",
              "\n",
              "    .dataframe tbody tr th {\n",
              "        vertical-align: top;\n",
              "    }\n",
              "\n",
              "    .dataframe thead th {\n",
              "        text-align: right;\n",
              "    }\n",
              "</style>\n",
              "<table border=\"1\" class=\"dataframe\">\n",
              "  <thead>\n",
              "    <tr style=\"text-align: right;\">\n",
              "      <th></th>\n",
              "      <th>matricula</th>\n",
              "      <th>tipo_de_vinculo</th>\n",
              "      <th>lotacao</th>\n",
              "      <th>local_de_trabalho</th>\n",
              "    </tr>\n",
              "  </thead>\n",
              "  <tbody>\n",
              "    <tr>\n",
              "      <th>0</th>\n",
              "      <td>13646</td>\n",
              "      <td>ESTATUTÁRIO</td>\n",
              "      <td>SECRETARIA DE SERVICOS PUBLICOS</td>\n",
              "      <td>SERVICOS PUBLICOS</td>\n",
              "    </tr>\n",
              "    <tr>\n",
              "      <th>1</th>\n",
              "      <td>10229</td>\n",
              "      <td>ESTATUTÁRIO</td>\n",
              "      <td>UBS ITAPEVA</td>\n",
              "      <td>PAÇO</td>\n",
              "    </tr>\n",
              "    <tr>\n",
              "      <th>2</th>\n",
              "      <td>13647</td>\n",
              "      <td>ESTATUTÁRIO</td>\n",
              "      <td>SECRETARIA DE EDUCACAO</td>\n",
              "      <td>SECRETARIA DE EDUCACAO</td>\n",
              "    </tr>\n",
              "    <tr>\n",
              "      <th>3</th>\n",
              "      <td>13648</td>\n",
              "      <td>ESTATUTÁRIO</td>\n",
              "      <td>SECAO DE VIGILANCIA</td>\n",
              "      <td>PAÇO</td>\n",
              "    </tr>\n",
              "    <tr>\n",
              "      <th>4</th>\n",
              "      <td>11561</td>\n",
              "      <td>ESTATUTÁRIO</td>\n",
              "      <td>SECRETARIA DE EDUCACAO</td>\n",
              "      <td>SECRETARIA DE EDUCACAO</td>\n",
              "    </tr>\n",
              "  </tbody>\n",
              "</table>\n",
              "</div>"
            ],
            "text/plain": [
              "  matricula  ...       local_de_trabalho\n",
              "0     13646  ...       SERVICOS PUBLICOS\n",
              "1     10229  ...                    PAÇO\n",
              "2     13647  ...  SECRETARIA DE EDUCACAO\n",
              "3     13648  ...                    PAÇO\n",
              "4     11561  ...  SECRETARIA DE EDUCACAO\n",
              "\n",
              "[5 rows x 4 columns]"
            ]
          },
          "metadata": {
            "tags": []
          },
          "execution_count": 25
        }
      ]
    },
    {
      "cell_type": "markdown",
      "metadata": {
        "id": "0FHAkoWH4EkX",
        "colab_type": "text"
      },
      "source": [
        "#### Base de Dados - Informações Financeira"
      ]
    },
    {
      "cell_type": "code",
      "metadata": {
        "id": "wzfgDgO6nrrs",
        "colab_type": "code",
        "outputId": "4dea24fc-e673-4671-9506-445b1ebf186f",
        "colab": {
          "base_uri": "https://localhost:8080/",
          "height": 204
        }
      },
      "source": [
        "df2.head()"
      ],
      "execution_count": 0,
      "outputs": [
        {
          "output_type": "execute_result",
          "data": {
            "text/html": [
              "<div>\n",
              "<style scoped>\n",
              "    .dataframe tbody tr th:only-of-type {\n",
              "        vertical-align: middle;\n",
              "    }\n",
              "\n",
              "    .dataframe tbody tr th {\n",
              "        vertical-align: top;\n",
              "    }\n",
              "\n",
              "    .dataframe thead th {\n",
              "        text-align: right;\n",
              "    }\n",
              "</style>\n",
              "<table border=\"1\" class=\"dataframe\">\n",
              "  <thead>\n",
              "    <tr style=\"text-align: right;\">\n",
              "      <th></th>\n",
              "      <th>matricula</th>\n",
              "      <th>cargo</th>\n",
              "      <th>situacao</th>\n",
              "      <th>vecto_mes</th>\n",
              "      <th>liquido</th>\n",
              "    </tr>\n",
              "  </thead>\n",
              "  <tbody>\n",
              "    <tr>\n",
              "      <th>0</th>\n",
              "      <td>11</td>\n",
              "      <td>PREFEITO</td>\n",
              "      <td>ATIVO</td>\n",
              "      <td>17190.74</td>\n",
              "      <td>6920.30</td>\n",
              "    </tr>\n",
              "    <tr>\n",
              "      <th>1</th>\n",
              "      <td>12</td>\n",
              "      <td>VICE PREFEITO</td>\n",
              "      <td>ATIVO</td>\n",
              "      <td>8197.45</td>\n",
              "      <td>5832.41</td>\n",
              "    </tr>\n",
              "    <tr>\n",
              "      <th>2</th>\n",
              "      <td>1661</td>\n",
              "      <td>AUXILIAR DE SERVICOS DE CAMPO</td>\n",
              "      <td>ATIVO</td>\n",
              "      <td>2901.93</td>\n",
              "      <td>1426.24</td>\n",
              "    </tr>\n",
              "    <tr>\n",
              "      <th>3</th>\n",
              "      <td>1820</td>\n",
              "      <td>AUXILIAR DE TOPOGRAFIA E AGRIMENSURA</td>\n",
              "      <td>ATIVO</td>\n",
              "      <td>2918.42</td>\n",
              "      <td>2315.14</td>\n",
              "    </tr>\n",
              "    <tr>\n",
              "      <th>4</th>\n",
              "      <td>1848</td>\n",
              "      <td>MOTORISTA</td>\n",
              "      <td>ATIVO</td>\n",
              "      <td>5515.01</td>\n",
              "      <td>3380.86</td>\n",
              "    </tr>\n",
              "  </tbody>\n",
              "</table>\n",
              "</div>"
            ],
            "text/plain": [
              "  matricula                                 cargo situacao  vecto_mes  liquido\n",
              "0        11                              PREFEITO    ATIVO   17190.74  6920.30\n",
              "1        12                         VICE PREFEITO    ATIVO    8197.45  5832.41\n",
              "2      1661         AUXILIAR DE SERVICOS DE CAMPO    ATIVO    2901.93  1426.24\n",
              "3      1820  AUXILIAR DE TOPOGRAFIA E AGRIMENSURA    ATIVO    2918.42  2315.14\n",
              "4      1848                             MOTORISTA    ATIVO    5515.01  3380.86"
            ]
          },
          "metadata": {
            "tags": []
          },
          "execution_count": 26
        }
      ]
    },
    {
      "cell_type": "markdown",
      "metadata": {
        "id": "CD32LK-n4KIU",
        "colab_type": "text"
      },
      "source": [
        "#### Para uma melhor visualização e entendimento tornaremos as duas Base de Dados em apenas uma"
      ]
    },
    {
      "cell_type": "code",
      "metadata": {
        "id": "6t-P9mFanrrw",
        "colab_type": "code",
        "outputId": "18584c07-3923-4bb5-c49a-0cd19825a856",
        "colab": {
          "base_uri": "https://localhost:8080/",
          "height": 142
        }
      },
      "source": [
        "df_df2 = df.merge(df2, on = 'matricula')\n",
        "df_df2.head(n = 3)"
      ],
      "execution_count": 0,
      "outputs": [
        {
          "output_type": "execute_result",
          "data": {
            "text/html": [
              "<div>\n",
              "<style scoped>\n",
              "    .dataframe tbody tr th:only-of-type {\n",
              "        vertical-align: middle;\n",
              "    }\n",
              "\n",
              "    .dataframe tbody tr th {\n",
              "        vertical-align: top;\n",
              "    }\n",
              "\n",
              "    .dataframe thead th {\n",
              "        text-align: right;\n",
              "    }\n",
              "</style>\n",
              "<table border=\"1\" class=\"dataframe\">\n",
              "  <thead>\n",
              "    <tr style=\"text-align: right;\">\n",
              "      <th></th>\n",
              "      <th>matricula</th>\n",
              "      <th>tipo_de_vinculo</th>\n",
              "      <th>lotacao</th>\n",
              "      <th>local_de_trabalho</th>\n",
              "      <th>cargo</th>\n",
              "      <th>situacao</th>\n",
              "      <th>vecto_mes</th>\n",
              "      <th>liquido</th>\n",
              "    </tr>\n",
              "  </thead>\n",
              "  <tbody>\n",
              "    <tr>\n",
              "      <th>0</th>\n",
              "      <td>13646</td>\n",
              "      <td>ESTATUTÁRIO</td>\n",
              "      <td>SECRETARIA DE SERVICOS PUBLICOS</td>\n",
              "      <td>SERVICOS PUBLICOS</td>\n",
              "      <td>ELETRICISTA</td>\n",
              "      <td>ATIVO</td>\n",
              "      <td>2250.40</td>\n",
              "      <td>1745.52</td>\n",
              "    </tr>\n",
              "    <tr>\n",
              "      <th>1</th>\n",
              "      <td>13647</td>\n",
              "      <td>ESTATUTÁRIO</td>\n",
              "      <td>SECRETARIA DE EDUCACAO</td>\n",
              "      <td>SECRETARIA DE EDUCACAO</td>\n",
              "      <td>AGENTE DE APOIO OPERACIONAL E CONSERVACAO</td>\n",
              "      <td>ATIVO</td>\n",
              "      <td>3150.30</td>\n",
              "      <td>2413.45</td>\n",
              "    </tr>\n",
              "    <tr>\n",
              "      <th>2</th>\n",
              "      <td>13648</td>\n",
              "      <td>ESTATUTÁRIO</td>\n",
              "      <td>SECAO DE VIGILANCIA</td>\n",
              "      <td>PAÇO</td>\n",
              "      <td>AGENTE DE APOIO OPERACIONAL E CONSERVACAO</td>\n",
              "      <td>ATIVO</td>\n",
              "      <td>5272.67</td>\n",
              "      <td>4172.73</td>\n",
              "    </tr>\n",
              "  </tbody>\n",
              "</table>\n",
              "</div>"
            ],
            "text/plain": [
              "  matricula tipo_de_vinculo  ... vecto_mes  liquido\n",
              "0     13646     ESTATUTÁRIO  ...   2250.40  1745.52\n",
              "1     13647     ESTATUTÁRIO  ...   3150.30  2413.45\n",
              "2     13648     ESTATUTÁRIO  ...   5272.67  4172.73\n",
              "\n",
              "[3 rows x 8 columns]"
            ]
          },
          "metadata": {
            "tags": []
          },
          "execution_count": 27
        }
      ]
    },
    {
      "cell_type": "markdown",
      "metadata": {
        "id": "gMD6S5sV4ybp",
        "colab_type": "text"
      },
      "source": [
        "### Pronto! Temos nossa tabela final para análise. Começaremos com um pouco de estatística:"
      ]
    },
    {
      "cell_type": "code",
      "metadata": {
        "id": "7BDo-gWAiu0Z",
        "colab_type": "code",
        "outputId": "441b1dae-ccc6-4dcc-90fc-4b6187ce876e",
        "colab": {
          "base_uri": "https://localhost:8080/",
          "height": 462
        }
      },
      "source": [
        "import seaborn as sns\n",
        "plt.style.use('ggplot')\n",
        "plt.rcParams['figure.figsize'] = (11,7)\n",
        "\n",
        " \n",
        "sns.regplot(x=df_df2[\"vecto_mes\"], y=df_df2[\"liquido\"])\n",
        "#sns.plt.show()\n",
        " \n",
        "# Without regression fit:\n",
        "sns.regplot(x=df_df2[\"vecto_mes\"], y=df_df2[\"liquido\"], fit_reg=False)\n",
        "#sns.plt.show()"
      ],
      "execution_count": 0,
      "outputs": [
        {
          "output_type": "execute_result",
          "data": {
            "text/plain": [
              "<matplotlib.axes._subplots.AxesSubplot at 0x7ff23466b438>"
            ]
          },
          "metadata": {
            "tags": []
          },
          "execution_count": 28
        },
        {
          "output_type": "display_data",
          "data": {
            "image/png": "[encoded data removed]",
            "text/plain": [
              "<Figure size 792x504 with 1 Axes>"
            ]
          },
          "metadata": {
            "tags": []
          }
        }
      ]
    },
    {
      "cell_type": "markdown",
      "metadata": {
        "id": "1W_mWguu5D6A",
        "colab_type": "text"
      },
      "source": [
        "#### Comando demonstra valores estatísticos:\n",
        "##### count: Contar o número de observações não nulas.\n",
        "##### mean: Média dos valores.\n",
        "##### std: Desvio padrão das observações.\n",
        "##### min: Mínimo dos valores no objeto.\n",
        "##### max: Máximo dos valores no objeto."
      ]
    },
    {
      "cell_type": "code",
      "metadata": {
        "colab_type": "code",
        "outputId": "e027bbc3-0145-4252-da87-f31a6c3beffd",
        "id": "GPieycbK5Al-",
        "colab": {
          "base_uri": "https://localhost:8080/",
          "height": 235
        }
      },
      "source": [
        "round(df_df2.groupby('tipo_de_vinculo').liquido.describe().sort_values(by = 'max', ascending = False), 2)"
      ],
      "execution_count": 0,
      "outputs": [
        {
          "output_type": "execute_result",
          "data": {
            "text/html": [
              "<div>\n",
              "<style scoped>\n",
              "    .dataframe tbody tr th:only-of-type {\n",
              "        vertical-align: middle;\n",
              "    }\n",
              "\n",
              "    .dataframe tbody tr th {\n",
              "        vertical-align: top;\n",
              "    }\n",
              "\n",
              "    .dataframe thead th {\n",
              "        text-align: right;\n",
              "    }\n",
              "</style>\n",
              "<table border=\"1\" class=\"dataframe\">\n",
              "  <thead>\n",
              "    <tr style=\"text-align: right;\">\n",
              "      <th></th>\n",
              "      <th>count</th>\n",
              "      <th>mean</th>\n",
              "      <th>std</th>\n",
              "      <th>min</th>\n",
              "      <th>25%</th>\n",
              "      <th>50%</th>\n",
              "      <th>75%</th>\n",
              "      <th>max</th>\n",
              "    </tr>\n",
              "    <tr>\n",
              "      <th>tipo_de_vinculo</th>\n",
              "      <th></th>\n",
              "      <th></th>\n",
              "      <th></th>\n",
              "      <th></th>\n",
              "      <th></th>\n",
              "      <th></th>\n",
              "      <th></th>\n",
              "      <th></th>\n",
              "    </tr>\n",
              "  </thead>\n",
              "  <tbody>\n",
              "    <tr>\n",
              "      <th>ESTATUTÁRIO</th>\n",
              "      <td>2017.0</td>\n",
              "      <td>2585.84</td>\n",
              "      <td>1960.05</td>\n",
              "      <td>0.00</td>\n",
              "      <td>1299.97</td>\n",
              "      <td>1969.59</td>\n",
              "      <td>3128.23</td>\n",
              "      <td>20716.24</td>\n",
              "    </tr>\n",
              "    <tr>\n",
              "      <th>CARGO EM COMISSÃO</th>\n",
              "      <td>197.0</td>\n",
              "      <td>3521.97</td>\n",
              "      <td>2068.37</td>\n",
              "      <td>263.21</td>\n",
              "      <td>1855.19</td>\n",
              "      <td>3124.67</td>\n",
              "      <td>5011.24</td>\n",
              "      <td>11445.28</td>\n",
              "    </tr>\n",
              "    <tr>\n",
              "      <th>AGENTE POLÍTICO</th>\n",
              "      <td>2.0</td>\n",
              "      <td>6376.36</td>\n",
              "      <td>769.25</td>\n",
              "      <td>5832.41</td>\n",
              "      <td>6104.38</td>\n",
              "      <td>6376.36</td>\n",
              "      <td>6648.33</td>\n",
              "      <td>6920.30</td>\n",
              "    </tr>\n",
              "    <tr>\n",
              "      <th>TEMPORÁRIO</th>\n",
              "      <td>73.0</td>\n",
              "      <td>1970.35</td>\n",
              "      <td>567.69</td>\n",
              "      <td>652.84</td>\n",
              "      <td>1886.82</td>\n",
              "      <td>1888.82</td>\n",
              "      <td>2405.61</td>\n",
              "      <td>5026.08</td>\n",
              "    </tr>\n",
              "    <tr>\n",
              "      <th>ESTAGIÁRIO</th>\n",
              "      <td>194.0</td>\n",
              "      <td>699.74</td>\n",
              "      <td>269.80</td>\n",
              "      <td>32.70</td>\n",
              "      <td>513.40</td>\n",
              "      <td>572.32</td>\n",
              "      <td>981.11</td>\n",
              "      <td>981.11</td>\n",
              "    </tr>\n",
              "  </tbody>\n",
              "</table>\n",
              "</div>"
            ],
            "text/plain": [
              "                    count     mean      std  ...      50%      75%       max\n",
              "tipo_de_vinculo                              ...                            \n",
              "ESTATUTÁRIO        2017.0  2585.84  1960.05  ...  1969.59  3128.23  20716.24\n",
              "CARGO EM COMISSÃO   197.0  3521.97  2068.37  ...  3124.67  5011.24  11445.28\n",
              "AGENTE POLÍTICO       2.0  6376.36   769.25  ...  6376.36  6648.33   6920.30\n",
              "TEMPORÁRIO           73.0  1970.35   567.69  ...  1888.82  2405.61   5026.08\n",
              "ESTAGIÁRIO          194.0   699.74   269.80  ...   572.32   981.11    981.11\n",
              "\n",
              "[5 rows x 8 columns]"
            ]
          },
          "metadata": {
            "tags": []
          },
          "execution_count": 30
        }
      ]
    },
    {
      "cell_type": "code",
      "metadata": {
        "id": "HSL_bd2gyxF7",
        "colab_type": "code",
        "outputId": "de9e5686-3acf-4a60-b6ef-b381b362087c",
        "colab": {
          "base_uri": "https://localhost:8080/",
          "height": 450
        }
      },
      "source": [
        "round(df_df2.groupby('lotacao').liquido.describe().sort_values(by = 'max', ascending = False), 2)"
      ],
      "execution_count": 0,
      "outputs": [
        {
          "output_type": "execute_result",
          "data": {
            "text/html": [
              "<div>\n",
              "<style scoped>\n",
              "    .dataframe tbody tr th:only-of-type {\n",
              "        vertical-align: middle;\n",
              "    }\n",
              "\n",
              "    .dataframe tbody tr th {\n",
              "        vertical-align: top;\n",
              "    }\n",
              "\n",
              "    .dataframe thead th {\n",
              "        text-align: right;\n",
              "    }\n",
              "</style>\n",
              "<table border=\"1\" class=\"dataframe\">\n",
              "  <thead>\n",
              "    <tr style=\"text-align: right;\">\n",
              "      <th></th>\n",
              "      <th>count</th>\n",
              "      <th>mean</th>\n",
              "      <th>std</th>\n",
              "      <th>min</th>\n",
              "      <th>25%</th>\n",
              "      <th>50%</th>\n",
              "      <th>75%</th>\n",
              "      <th>max</th>\n",
              "    </tr>\n",
              "    <tr>\n",
              "      <th>lotacao</th>\n",
              "      <th></th>\n",
              "      <th></th>\n",
              "      <th></th>\n",
              "      <th></th>\n",
              "      <th></th>\n",
              "      <th></th>\n",
              "      <th></th>\n",
              "      <th></th>\n",
              "    </tr>\n",
              "  </thead>\n",
              "  <tbody>\n",
              "    <tr>\n",
              "      <th>SERVICO DE PESSOAL</th>\n",
              "      <td>6.0</td>\n",
              "      <td>5518.89</td>\n",
              "      <td>7512.24</td>\n",
              "      <td>1289.85</td>\n",
              "      <td>1925.96</td>\n",
              "      <td>2595.21</td>\n",
              "      <td>3809.28</td>\n",
              "      <td>20716.24</td>\n",
              "    </tr>\n",
              "    <tr>\n",
              "      <th>SECRETARIA DE FINANCAS</th>\n",
              "      <td>28.0</td>\n",
              "      <td>2528.05</td>\n",
              "      <td>2617.25</td>\n",
              "      <td>425.15</td>\n",
              "      <td>974.65</td>\n",
              "      <td>1679.76</td>\n",
              "      <td>2517.46</td>\n",
              "      <td>12116.10</td>\n",
              "    </tr>\n",
              "    <tr>\n",
              "      <th>UPA CENTRAL</th>\n",
              "      <td>118.0</td>\n",
              "      <td>4737.90</td>\n",
              "      <td>3368.51</td>\n",
              "      <td>11.64</td>\n",
              "      <td>1973.27</td>\n",
              "      <td>3859.63</td>\n",
              "      <td>6872.47</td>\n",
              "      <td>11850.49</td>\n",
              "    </tr>\n",
              "    <tr>\n",
              "      <th>AMBULATORIO DE SAUDE DA MULHER E DA CRIANÇA</th>\n",
              "      <td>10.0</td>\n",
              "      <td>5267.55</td>\n",
              "      <td>3231.02</td>\n",
              "      <td>1541.58</td>\n",
              "      <td>3049.55</td>\n",
              "      <td>4629.07</td>\n",
              "      <td>6258.54</td>\n",
              "      <td>11527.98</td>\n",
              "    </tr>\n",
              "    <tr>\n",
              "      <th>DEPTO TRIBUTACAO RECEITA E FISCALIZACAO</th>\n",
              "      <td>12.0</td>\n",
              "      <td>5028.34</td>\n",
              "      <td>2548.11</td>\n",
              "      <td>2871.94</td>\n",
              "      <td>3254.77</td>\n",
              "      <td>4163.29</td>\n",
              "      <td>5437.89</td>\n",
              "      <td>11445.28</td>\n",
              "    </tr>\n",
              "    <tr>\n",
              "      <th>...</th>\n",
              "      <td>...</td>\n",
              "      <td>...</td>\n",
              "      <td>...</td>\n",
              "      <td>...</td>\n",
              "      <td>...</td>\n",
              "      <td>...</td>\n",
              "      <td>...</td>\n",
              "      <td>...</td>\n",
              "    </tr>\n",
              "    <tr>\n",
              "      <th>DEPARTAMENTO DE CULTURA</th>\n",
              "      <td>1.0</td>\n",
              "      <td>981.11</td>\n",
              "      <td>NaN</td>\n",
              "      <td>981.11</td>\n",
              "      <td>981.11</td>\n",
              "      <td>981.11</td>\n",
              "      <td>981.11</td>\n",
              "      <td>981.11</td>\n",
              "    </tr>\n",
              "    <tr>\n",
              "      <th>SECAO DE PARQUES E VIVEIROS</th>\n",
              "      <td>1.0</td>\n",
              "      <td>917.97</td>\n",
              "      <td>NaN</td>\n",
              "      <td>917.97</td>\n",
              "      <td>917.97</td>\n",
              "      <td>917.97</td>\n",
              "      <td>917.97</td>\n",
              "      <td>917.97</td>\n",
              "    </tr>\n",
              "    <tr>\n",
              "      <th>SECAO DE EXPEDIENTE</th>\n",
              "      <td>1.0</td>\n",
              "      <td>890.98</td>\n",
              "      <td>NaN</td>\n",
              "      <td>890.98</td>\n",
              "      <td>890.98</td>\n",
              "      <td>890.98</td>\n",
              "      <td>890.98</td>\n",
              "      <td>890.98</td>\n",
              "    </tr>\n",
              "    <tr>\n",
              "      <th>PROAMES</th>\n",
              "      <td>7.0</td>\n",
              "      <td>476.73</td>\n",
              "      <td>76.81</td>\n",
              "      <td>308.04</td>\n",
              "      <td>487.73</td>\n",
              "      <td>513.40</td>\n",
              "      <td>513.40</td>\n",
              "      <td>513.40</td>\n",
              "    </tr>\n",
              "    <tr>\n",
              "      <th>SECRETARIA DE COMUNICACAO</th>\n",
              "      <td>1.0</td>\n",
              "      <td>425.15</td>\n",
              "      <td>NaN</td>\n",
              "      <td>425.15</td>\n",
              "      <td>425.15</td>\n",
              "      <td>425.15</td>\n",
              "      <td>425.15</td>\n",
              "      <td>425.15</td>\n",
              "    </tr>\n",
              "  </tbody>\n",
              "</table>\n",
              "<p>177 rows × 8 columns</p>\n",
              "</div>"
            ],
            "text/plain": [
              "                                             count     mean  ...      75%       max\n",
              "lotacao                                                      ...                   \n",
              "SERVICO DE PESSOAL                             6.0  5518.89  ...  3809.28  20716.24\n",
              "SECRETARIA DE FINANCAS                        28.0  2528.05  ...  2517.46  12116.10\n",
              "UPA CENTRAL                                  118.0  4737.90  ...  6872.47  11850.49\n",
              "AMBULATORIO DE SAUDE DA MULHER E DA CRIANÇA   10.0  5267.55  ...  6258.54  11527.98\n",
              "DEPTO TRIBUTACAO RECEITA E FISCALIZACAO       12.0  5028.34  ...  5437.89  11445.28\n",
              "...                                            ...      ...  ...      ...       ...\n",
              "DEPARTAMENTO DE CULTURA                        1.0   981.11  ...   981.11    981.11\n",
              "SECAO DE PARQUES E VIVEIROS                    1.0   917.97  ...   917.97    917.97\n",
              "SECAO DE EXPEDIENTE                            1.0   890.98  ...   890.98    890.98\n",
              "PROAMES                                        7.0   476.73  ...   513.40    513.40\n",
              "SECRETARIA DE COMUNICACAO                      1.0   425.15  ...   425.15    425.15\n",
              "\n",
              "[177 rows x 8 columns]"
            ]
          },
          "metadata": {
            "tags": []
          },
          "execution_count": 31
        }
      ]
    },
    {
      "cell_type": "code",
      "metadata": {
        "id": "WGmu3Uw7y142",
        "colab_type": "code",
        "outputId": "947dc407-c1f3-4537-fb01-cc7520e4fba5",
        "colab": {
          "base_uri": "https://localhost:8080/",
          "height": 450
        }
      },
      "source": [
        "round(df_df2.groupby('local_de_trabalho').liquido.describe().sort_values(by = 'max', ascending = False), 2)"
      ],
      "execution_count": 0,
      "outputs": [
        {
          "output_type": "execute_result",
          "data": {
            "text/html": [
              "<div>\n",
              "<style scoped>\n",
              "    .dataframe tbody tr th:only-of-type {\n",
              "        vertical-align: middle;\n",
              "    }\n",
              "\n",
              "    .dataframe tbody tr th {\n",
              "        vertical-align: top;\n",
              "    }\n",
              "\n",
              "    .dataframe thead th {\n",
              "        text-align: right;\n",
              "    }\n",
              "</style>\n",
              "<table border=\"1\" class=\"dataframe\">\n",
              "  <thead>\n",
              "    <tr style=\"text-align: right;\">\n",
              "      <th></th>\n",
              "      <th>count</th>\n",
              "      <th>mean</th>\n",
              "      <th>std</th>\n",
              "      <th>min</th>\n",
              "      <th>25%</th>\n",
              "      <th>50%</th>\n",
              "      <th>75%</th>\n",
              "      <th>max</th>\n",
              "    </tr>\n",
              "    <tr>\n",
              "      <th>local_de_trabalho</th>\n",
              "      <th></th>\n",
              "      <th></th>\n",
              "      <th></th>\n",
              "      <th></th>\n",
              "      <th></th>\n",
              "      <th></th>\n",
              "      <th></th>\n",
              "      <th></th>\n",
              "    </tr>\n",
              "  </thead>\n",
              "  <tbody>\n",
              "    <tr>\n",
              "      <th>PAÇO</th>\n",
              "      <td>849.0</td>\n",
              "      <td>3322.72</td>\n",
              "      <td>2575.46</td>\n",
              "      <td>0.00</td>\n",
              "      <td>1396.18</td>\n",
              "      <td>2405.78</td>\n",
              "      <td>4764.57</td>\n",
              "      <td>20716.24</td>\n",
              "    </tr>\n",
              "    <tr>\n",
              "      <th>CENTRO DE SAUDE RIO ACIMA</th>\n",
              "      <td>6.0</td>\n",
              "      <td>4916.69</td>\n",
              "      <td>4382.82</td>\n",
              "      <td>1174.28</td>\n",
              "      <td>1855.15</td>\n",
              "      <td>2955.36</td>\n",
              "      <td>7546.00</td>\n",
              "      <td>11850.49</td>\n",
              "    </tr>\n",
              "    <tr>\n",
              "      <th>EMEIEF PROF PARIZETE J BRESSANE</th>\n",
              "      <td>15.0</td>\n",
              "      <td>2383.26</td>\n",
              "      <td>2264.45</td>\n",
              "      <td>513.40</td>\n",
              "      <td>1145.00</td>\n",
              "      <td>1594.41</td>\n",
              "      <td>2431.19</td>\n",
              "      <td>9419.55</td>\n",
              "    </tr>\n",
              "    <tr>\n",
              "      <th>PORTARIA</th>\n",
              "      <td>34.0</td>\n",
              "      <td>2715.64</td>\n",
              "      <td>1734.66</td>\n",
              "      <td>806.10</td>\n",
              "      <td>1533.13</td>\n",
              "      <td>2328.12</td>\n",
              "      <td>3214.69</td>\n",
              "      <td>8964.12</td>\n",
              "    </tr>\n",
              "    <tr>\n",
              "      <th>CMEI  RAPHAELA RESIO CAU</th>\n",
              "      <td>16.0</td>\n",
              "      <td>2638.83</td>\n",
              "      <td>1999.59</td>\n",
              "      <td>689.31</td>\n",
              "      <td>1838.80</td>\n",
              "      <td>2039.48</td>\n",
              "      <td>2923.63</td>\n",
              "      <td>8844.65</td>\n",
              "    </tr>\n",
              "    <tr>\n",
              "      <th>...</th>\n",
              "      <td>...</td>\n",
              "      <td>...</td>\n",
              "      <td>...</td>\n",
              "      <td>...</td>\n",
              "      <td>...</td>\n",
              "      <td>...</td>\n",
              "      <td>...</td>\n",
              "      <td>...</td>\n",
              "    </tr>\n",
              "    <tr>\n",
              "      <th>CMEI M AP. FERRATO EXTENÇAO</th>\n",
              "      <td>1.0</td>\n",
              "      <td>1166.59</td>\n",
              "      <td>NaN</td>\n",
              "      <td>1166.59</td>\n",
              "      <td>1166.59</td>\n",
              "      <td>1166.59</td>\n",
              "      <td>1166.59</td>\n",
              "      <td>1166.59</td>\n",
              "    </tr>\n",
              "    <tr>\n",
              "      <th>2 DP</th>\n",
              "      <td>1.0</td>\n",
              "      <td>981.11</td>\n",
              "      <td>NaN</td>\n",
              "      <td>981.11</td>\n",
              "      <td>981.11</td>\n",
              "      <td>981.11</td>\n",
              "      <td>981.11</td>\n",
              "      <td>981.11</td>\n",
              "    </tr>\n",
              "    <tr>\n",
              "      <th>UBS BARRA FUNDA</th>\n",
              "      <td>1.0</td>\n",
              "      <td>359.74</td>\n",
              "      <td>NaN</td>\n",
              "      <td>359.74</td>\n",
              "      <td>359.74</td>\n",
              "      <td>359.74</td>\n",
              "      <td>359.74</td>\n",
              "      <td>359.74</td>\n",
              "    </tr>\n",
              "    <tr>\n",
              "      <th>LICITACAO</th>\n",
              "      <td>1.0</td>\n",
              "      <td>359.74</td>\n",
              "      <td>NaN</td>\n",
              "      <td>359.74</td>\n",
              "      <td>359.74</td>\n",
              "      <td>359.74</td>\n",
              "      <td>359.74</td>\n",
              "      <td>359.74</td>\n",
              "    </tr>\n",
              "    <tr>\n",
              "      <th>CONSELHO TUTELAR</th>\n",
              "      <td>1.0</td>\n",
              "      <td>359.74</td>\n",
              "      <td>NaN</td>\n",
              "      <td>359.74</td>\n",
              "      <td>359.74</td>\n",
              "      <td>359.74</td>\n",
              "      <td>359.74</td>\n",
              "      <td>359.74</td>\n",
              "    </tr>\n",
              "  </tbody>\n",
              "</table>\n",
              "<p>95 rows × 8 columns</p>\n",
              "</div>"
            ],
            "text/plain": [
              "                                 count     mean  ...      75%       max\n",
              "local_de_trabalho                                ...                   \n",
              "PAÇO                             849.0  3322.72  ...  4764.57  20716.24\n",
              "CENTRO DE SAUDE RIO ACIMA          6.0  4916.69  ...  7546.00  11850.49\n",
              "EMEIEF PROF PARIZETE J BRESSANE   15.0  2383.26  ...  2431.19   9419.55\n",
              "PORTARIA                          34.0  2715.64  ...  3214.69   8964.12\n",
              "CMEI  RAPHAELA RESIO CAU          16.0  2638.83  ...  2923.63   8844.65\n",
              "...                                ...      ...  ...      ...       ...\n",
              "CMEI M AP. FERRATO EXTENÇAO        1.0  1166.59  ...  1166.59   1166.59\n",
              "2 DP                               1.0   981.11  ...   981.11    981.11\n",
              "UBS BARRA FUNDA                    1.0   359.74  ...   359.74    359.74\n",
              "LICITACAO                          1.0   359.74  ...   359.74    359.74\n",
              "CONSELHO TUTELAR                   1.0   359.74  ...   359.74    359.74\n",
              "\n",
              "[95 rows x 8 columns]"
            ]
          },
          "metadata": {
            "tags": []
          },
          "execution_count": 32
        }
      ]
    },
    {
      "cell_type": "code",
      "metadata": {
        "id": "ntHixIBhy5-R",
        "colab_type": "code",
        "outputId": "5b8e4d3a-6d56-4364-dcc7-7fc62b0b2e6b",
        "colab": {
          "base_uri": "https://localhost:8080/",
          "height": 450
        }
      },
      "source": [
        "round(df_df2.groupby('cargo').liquido.describe().sort_values(by = 'max', ascending = False), 2)"
      ],
      "execution_count": 0,
      "outputs": [
        {
          "output_type": "execute_result",
          "data": {
            "text/html": [
              "<div>\n",
              "<style scoped>\n",
              "    .dataframe tbody tr th:only-of-type {\n",
              "        vertical-align: middle;\n",
              "    }\n",
              "\n",
              "    .dataframe tbody tr th {\n",
              "        vertical-align: top;\n",
              "    }\n",
              "\n",
              "    .dataframe thead th {\n",
              "        text-align: right;\n",
              "    }\n",
              "</style>\n",
              "<table border=\"1\" class=\"dataframe\">\n",
              "  <thead>\n",
              "    <tr style=\"text-align: right;\">\n",
              "      <th></th>\n",
              "      <th>count</th>\n",
              "      <th>mean</th>\n",
              "      <th>std</th>\n",
              "      <th>min</th>\n",
              "      <th>25%</th>\n",
              "      <th>50%</th>\n",
              "      <th>75%</th>\n",
              "      <th>max</th>\n",
              "    </tr>\n",
              "    <tr>\n",
              "      <th>cargo</th>\n",
              "      <th></th>\n",
              "      <th></th>\n",
              "      <th></th>\n",
              "      <th></th>\n",
              "      <th></th>\n",
              "      <th></th>\n",
              "      <th></th>\n",
              "      <th></th>\n",
              "    </tr>\n",
              "  </thead>\n",
              "  <tbody>\n",
              "    <tr>\n",
              "      <th>ESCRITURARIO</th>\n",
              "      <td>155.0</td>\n",
              "      <td>1968.82</td>\n",
              "      <td>1835.76</td>\n",
              "      <td>0.00</td>\n",
              "      <td>1317.56</td>\n",
              "      <td>1631.48</td>\n",
              "      <td>2063.22</td>\n",
              "      <td>20716.24</td>\n",
              "    </tr>\n",
              "    <tr>\n",
              "      <th>AGENTE FAZENDARIO</th>\n",
              "      <td>7.0</td>\n",
              "      <td>5446.54</td>\n",
              "      <td>3114.49</td>\n",
              "      <td>3018.17</td>\n",
              "      <td>3490.57</td>\n",
              "      <td>5201.67</td>\n",
              "      <td>5404.36</td>\n",
              "      <td>12116.10</td>\n",
              "    </tr>\n",
              "    <tr>\n",
              "      <th>MEDICO PLANTONISTA</th>\n",
              "      <td>46.0</td>\n",
              "      <td>7904.11</td>\n",
              "      <td>2844.64</td>\n",
              "      <td>1226.21</td>\n",
              "      <td>5747.18</td>\n",
              "      <td>8122.67</td>\n",
              "      <td>10319.01</td>\n",
              "      <td>11850.49</td>\n",
              "    </tr>\n",
              "    <tr>\n",
              "      <th>JULGADOR TRIBUTARIO SECR, FINANCAS</th>\n",
              "      <td>1.0</td>\n",
              "      <td>11445.28</td>\n",
              "      <td>NaN</td>\n",
              "      <td>11445.28</td>\n",
              "      <td>11445.28</td>\n",
              "      <td>11445.28</td>\n",
              "      <td>11445.28</td>\n",
              "      <td>11445.28</td>\n",
              "    </tr>\n",
              "    <tr>\n",
              "      <th>MEDICO PEDIATRA</th>\n",
              "      <td>30.0</td>\n",
              "      <td>6551.01</td>\n",
              "      <td>2013.82</td>\n",
              "      <td>1102.24</td>\n",
              "      <td>5134.22</td>\n",
              "      <td>6345.25</td>\n",
              "      <td>7895.29</td>\n",
              "      <td>11398.34</td>\n",
              "    </tr>\n",
              "    <tr>\n",
              "      <th>...</th>\n",
              "      <td>...</td>\n",
              "      <td>...</td>\n",
              "      <td>...</td>\n",
              "      <td>...</td>\n",
              "      <td>...</td>\n",
              "      <td>...</td>\n",
              "      <td>...</td>\n",
              "      <td>...</td>\n",
              "    </tr>\n",
              "    <tr>\n",
              "      <th>ESTAGIO TECNICO EM SERVICOS JURIDICOS</th>\n",
              "      <td>2.0</td>\n",
              "      <td>588.67</td>\n",
              "      <td>0.00</td>\n",
              "      <td>588.67</td>\n",
              "      <td>588.67</td>\n",
              "      <td>588.67</td>\n",
              "      <td>588.67</td>\n",
              "      <td>588.67</td>\n",
              "    </tr>\n",
              "    <tr>\n",
              "      <th>ESTAGIO TECNICO SEGURANCA DO TRABALHO</th>\n",
              "      <td>1.0</td>\n",
              "      <td>588.67</td>\n",
              "      <td>NaN</td>\n",
              "      <td>588.67</td>\n",
              "      <td>588.67</td>\n",
              "      <td>588.67</td>\n",
              "      <td>588.67</td>\n",
              "      <td>588.67</td>\n",
              "    </tr>\n",
              "    <tr>\n",
              "      <th>OPERADOR USINA DE ASFALTO A FRIO</th>\n",
              "      <td>1.0</td>\n",
              "      <td>556.75</td>\n",
              "      <td>NaN</td>\n",
              "      <td>556.75</td>\n",
              "      <td>556.75</td>\n",
              "      <td>556.75</td>\n",
              "      <td>556.75</td>\n",
              "      <td>556.75</td>\n",
              "    </tr>\n",
              "    <tr>\n",
              "      <th>DIRETOR DE DEPARTAMENTO DE</th>\n",
              "      <td>1.0</td>\n",
              "      <td>286.21</td>\n",
              "      <td>NaN</td>\n",
              "      <td>286.21</td>\n",
              "      <td>286.21</td>\n",
              "      <td>286.21</td>\n",
              "      <td>286.21</td>\n",
              "      <td>286.21</td>\n",
              "    </tr>\n",
              "    <tr>\n",
              "      <th>ENGENHEIRO ELETRICO</th>\n",
              "      <td>1.0</td>\n",
              "      <td>280.24</td>\n",
              "      <td>NaN</td>\n",
              "      <td>280.24</td>\n",
              "      <td>280.24</td>\n",
              "      <td>280.24</td>\n",
              "      <td>280.24</td>\n",
              "      <td>280.24</td>\n",
              "    </tr>\n",
              "  </tbody>\n",
              "</table>\n",
              "<p>260 rows × 8 columns</p>\n",
              "</div>"
            ],
            "text/plain": [
              "                                       count      mean  ...       75%       max\n",
              "cargo                                                   ...                    \n",
              "ESCRITURARIO                           155.0   1968.82  ...   2063.22  20716.24\n",
              "AGENTE FAZENDARIO                        7.0   5446.54  ...   5404.36  12116.10\n",
              "MEDICO PLANTONISTA                      46.0   7904.11  ...  10319.01  11850.49\n",
              "JULGADOR TRIBUTARIO SECR, FINANCAS       1.0  11445.28  ...  11445.28  11445.28\n",
              "MEDICO PEDIATRA                         30.0   6551.01  ...   7895.29  11398.34\n",
              "...                                      ...       ...  ...       ...       ...\n",
              "ESTAGIO TECNICO EM SERVICOS JURIDICOS    2.0    588.67  ...    588.67    588.67\n",
              "ESTAGIO TECNICO SEGURANCA DO TRABALHO    1.0    588.67  ...    588.67    588.67\n",
              "OPERADOR USINA DE ASFALTO A FRIO         1.0    556.75  ...    556.75    556.75\n",
              "DIRETOR DE DEPARTAMENTO DE               1.0    286.21  ...    286.21    286.21\n",
              "ENGENHEIRO ELETRICO                      1.0    280.24  ...    280.24    280.24\n",
              "\n",
              "[260 rows x 8 columns]"
            ]
          },
          "metadata": {
            "tags": []
          },
          "execution_count": 33
        }
      ]
    },
    {
      "cell_type": "code",
      "metadata": {
        "id": "h-Hxfi3Vy89g",
        "colab_type": "code",
        "outputId": "cf0ba360-59aa-4935-f53f-dd71dbdc9c1c",
        "colab": {
          "base_uri": "https://localhost:8080/",
          "height": 142
        }
      },
      "source": [
        "round(df_df2.groupby('situacao').liquido.describe().sort_values(by = 'max', ascending = False), 2)"
      ],
      "execution_count": 0,
      "outputs": [
        {
          "output_type": "execute_result",
          "data": {
            "text/html": [
              "<div>\n",
              "<style scoped>\n",
              "    .dataframe tbody tr th:only-of-type {\n",
              "        vertical-align: middle;\n",
              "    }\n",
              "\n",
              "    .dataframe tbody tr th {\n",
              "        vertical-align: top;\n",
              "    }\n",
              "\n",
              "    .dataframe thead th {\n",
              "        text-align: right;\n",
              "    }\n",
              "</style>\n",
              "<table border=\"1\" class=\"dataframe\">\n",
              "  <thead>\n",
              "    <tr style=\"text-align: right;\">\n",
              "      <th></th>\n",
              "      <th>count</th>\n",
              "      <th>mean</th>\n",
              "      <th>std</th>\n",
              "      <th>min</th>\n",
              "      <th>25%</th>\n",
              "      <th>50%</th>\n",
              "      <th>75%</th>\n",
              "      <th>max</th>\n",
              "    </tr>\n",
              "    <tr>\n",
              "      <th>situacao</th>\n",
              "      <th></th>\n",
              "      <th></th>\n",
              "      <th></th>\n",
              "      <th></th>\n",
              "      <th></th>\n",
              "      <th></th>\n",
              "      <th></th>\n",
              "      <th></th>\n",
              "    </tr>\n",
              "  </thead>\n",
              "  <tbody>\n",
              "    <tr>\n",
              "      <th>ATIVO</th>\n",
              "      <td>2480.0</td>\n",
              "      <td>2499.66</td>\n",
              "      <td>1958.80</td>\n",
              "      <td>0.0</td>\n",
              "      <td>1210.07</td>\n",
              "      <td>1896.14</td>\n",
              "      <td>3083.71</td>\n",
              "      <td>20716.24</td>\n",
              "    </tr>\n",
              "    <tr>\n",
              "      <th>DESLIGADO</th>\n",
              "      <td>3.0</td>\n",
              "      <td>879.52</td>\n",
              "      <td>937.42</td>\n",
              "      <td>32.7</td>\n",
              "      <td>375.87</td>\n",
              "      <td>719.04</td>\n",
              "      <td>1302.93</td>\n",
              "      <td>1886.82</td>\n",
              "    </tr>\n",
              "  </tbody>\n",
              "</table>\n",
              "</div>"
            ],
            "text/plain": [
              "            count     mean      std   min      25%      50%      75%       max\n",
              "situacao                                                                      \n",
              "ATIVO      2480.0  2499.66  1958.80   0.0  1210.07  1896.14  3083.71  20716.24\n",
              "DESLIGADO     3.0   879.52   937.42  32.7   375.87   719.04  1302.93   1886.82"
            ]
          },
          "metadata": {
            "tags": []
          },
          "execution_count": 34
        }
      ]
    },
    {
      "cell_type": "code",
      "metadata": {
        "id": "um5zdH0Wj1Q2",
        "colab_type": "code",
        "outputId": "b630ed62-f082-4d56-f840-ba281fc26c10",
        "colab": {
          "base_uri": "https://localhost:8080/",
          "height": 235
        }
      },
      "source": [
        "round(df_df2.groupby(['tipo_de_vinculo']).agg({'vecto_mes': np.sum, 'tipo_de_vinculo': np.size}),2).sort_values('vecto_mes', ascending = False)"
      ],
      "execution_count": 0,
      "outputs": [
        {
          "output_type": "execute_result",
          "data": {
            "text/html": [
              "<div>\n",
              "<style scoped>\n",
              "    .dataframe tbody tr th:only-of-type {\n",
              "        vertical-align: middle;\n",
              "    }\n",
              "\n",
              "    .dataframe tbody tr th {\n",
              "        vertical-align: top;\n",
              "    }\n",
              "\n",
              "    .dataframe thead th {\n",
              "        text-align: right;\n",
              "    }\n",
              "</style>\n",
              "<table border=\"1\" class=\"dataframe\">\n",
              "  <thead>\n",
              "    <tr style=\"text-align: right;\">\n",
              "      <th></th>\n",
              "      <th>vecto_mes</th>\n",
              "      <th>tipo_de_vinculo</th>\n",
              "    </tr>\n",
              "    <tr>\n",
              "      <th>tipo_de_vinculo</th>\n",
              "      <th></th>\n",
              "      <th></th>\n",
              "    </tr>\n",
              "  </thead>\n",
              "  <tbody>\n",
              "    <tr>\n",
              "      <th>ESTATUTÁRIO</th>\n",
              "      <td>7747185.44</td>\n",
              "      <td>2017</td>\n",
              "    </tr>\n",
              "    <tr>\n",
              "      <th>CARGO EM COMISSÃO</th>\n",
              "      <td>974963.57</td>\n",
              "      <td>197</td>\n",
              "    </tr>\n",
              "    <tr>\n",
              "      <th>TEMPORÁRIO</th>\n",
              "      <td>160852.33</td>\n",
              "      <td>73</td>\n",
              "    </tr>\n",
              "    <tr>\n",
              "      <th>ESTAGIÁRIO</th>\n",
              "      <td>138629.93</td>\n",
              "      <td>194</td>\n",
              "    </tr>\n",
              "    <tr>\n",
              "      <th>AGENTE POLÍTICO</th>\n",
              "      <td>25388.19</td>\n",
              "      <td>2</td>\n",
              "    </tr>\n",
              "  </tbody>\n",
              "</table>\n",
              "</div>"
            ],
            "text/plain": [
              "                    vecto_mes  tipo_de_vinculo\n",
              "tipo_de_vinculo                               \n",
              "ESTATUTÁRIO        7747185.44             2017\n",
              "CARGO EM COMISSÃO   974963.57              197\n",
              "TEMPORÁRIO          160852.33               73\n",
              "ESTAGIÁRIO          138629.93              194\n",
              "AGENTE POLÍTICO      25388.19                2"
            ]
          },
          "metadata": {
            "tags": []
          },
          "execution_count": 35
        }
      ]
    },
    {
      "cell_type": "code",
      "metadata": {
        "id": "RRes2hTNkH_a",
        "colab_type": "code",
        "outputId": "e3a5d898-8d70-4280-da13-b66adac6afd4",
        "colab": {
          "base_uri": "https://localhost:8080/",
          "height": 450
        }
      },
      "source": [
        "round(df_df2.groupby(['lotacao']).agg({'vecto_mes': np.sum, 'tipo_de_vinculo': np.size}),2).sort_values('vecto_mes', ascending = False)"
      ],
      "execution_count": 0,
      "outputs": [
        {
          "output_type": "execute_result",
          "data": {
            "text/html": [
              "<div>\n",
              "<style scoped>\n",
              "    .dataframe tbody tr th:only-of-type {\n",
              "        vertical-align: middle;\n",
              "    }\n",
              "\n",
              "    .dataframe tbody tr th {\n",
              "        vertical-align: top;\n",
              "    }\n",
              "\n",
              "    .dataframe thead th {\n",
              "        text-align: right;\n",
              "    }\n",
              "</style>\n",
              "<table border=\"1\" class=\"dataframe\">\n",
              "  <thead>\n",
              "    <tr style=\"text-align: right;\">\n",
              "      <th></th>\n",
              "      <th>vecto_mes</th>\n",
              "      <th>tipo_de_vinculo</th>\n",
              "    </tr>\n",
              "    <tr>\n",
              "      <th>lotacao</th>\n",
              "      <th></th>\n",
              "      <th></th>\n",
              "    </tr>\n",
              "  </thead>\n",
              "  <tbody>\n",
              "    <tr>\n",
              "      <th>UPA CENTRAL</th>\n",
              "      <td>855732.65</td>\n",
              "      <td>118</td>\n",
              "    </tr>\n",
              "    <tr>\n",
              "      <th>SECRETARIA DE SERVICOS PUBLICOS</th>\n",
              "      <td>345365.90</td>\n",
              "      <td>124</td>\n",
              "    </tr>\n",
              "    <tr>\n",
              "      <th>SECRETARIA DE SAUDE</th>\n",
              "      <td>226115.17</td>\n",
              "      <td>55</td>\n",
              "    </tr>\n",
              "    <tr>\n",
              "      <th>SECRETARIA DE EDUCACAO</th>\n",
              "      <td>208844.50</td>\n",
              "      <td>77</td>\n",
              "    </tr>\n",
              "    <tr>\n",
              "      <th>SECRETARIA DE NEGOCIOS JURIDICOS</th>\n",
              "      <td>200691.30</td>\n",
              "      <td>55</td>\n",
              "    </tr>\n",
              "    <tr>\n",
              "      <th>...</th>\n",
              "      <td>...</td>\n",
              "      <td>...</td>\n",
              "    </tr>\n",
              "    <tr>\n",
              "      <th>CMEI AGOSTINHO KRIGUER</th>\n",
              "      <td>1804.27</td>\n",
              "      <td>1</td>\n",
              "    </tr>\n",
              "    <tr>\n",
              "      <th>SECAO DE PLANIFICACAO PROJ E C</th>\n",
              "      <td>1761.10</td>\n",
              "      <td>1</td>\n",
              "    </tr>\n",
              "    <tr>\n",
              "      <th>SECAO DE EXPEDIENTE</th>\n",
              "      <td>1210.41</td>\n",
              "      <td>1</td>\n",
              "    </tr>\n",
              "    <tr>\n",
              "      <th>DEPARTAMENTO DE CULTURA</th>\n",
              "      <td>981.11</td>\n",
              "      <td>1</td>\n",
              "    </tr>\n",
              "    <tr>\n",
              "      <th>SECRETARIA DE COMUNICACAO</th>\n",
              "      <td>425.15</td>\n",
              "      <td>1</td>\n",
              "    </tr>\n",
              "  </tbody>\n",
              "</table>\n",
              "<p>177 rows × 2 columns</p>\n",
              "</div>"
            ],
            "text/plain": [
              "                                  vecto_mes  tipo_de_vinculo\n",
              "lotacao                                                     \n",
              "UPA CENTRAL                       855732.65              118\n",
              "SECRETARIA DE SERVICOS PUBLICOS   345365.90              124\n",
              "SECRETARIA DE SAUDE               226115.17               55\n",
              "SECRETARIA DE EDUCACAO            208844.50               77\n",
              "SECRETARIA DE NEGOCIOS JURIDICOS  200691.30               55\n",
              "...                                     ...              ...\n",
              "CMEI AGOSTINHO KRIGUER              1804.27                1\n",
              "SECAO DE PLANIFICACAO PROJ E C      1761.10                1\n",
              "SECAO DE EXPEDIENTE                 1210.41                1\n",
              "DEPARTAMENTO DE CULTURA              981.11                1\n",
              "SECRETARIA DE COMUNICACAO            425.15                1\n",
              "\n",
              "[177 rows x 2 columns]"
            ]
          },
          "metadata": {
            "tags": []
          },
          "execution_count": 36
        }
      ]
    },
    {
      "cell_type": "code",
      "metadata": {
        "id": "Ke50_8sGkpwC",
        "colab_type": "code",
        "outputId": "cbb40543-11c5-4f46-9e35-59d82dc133e7",
        "colab": {
          "base_uri": "https://localhost:8080/",
          "height": 450
        }
      },
      "source": [
        "round(df_df2.groupby(['local_de_trabalho']).agg({'vecto_mes': np.sum, 'tipo_de_vinculo': np.size}),2).sort_values('vecto_mes', ascending = False)"
      ],
      "execution_count": 0,
      "outputs": [
        {
          "output_type": "execute_result",
          "data": {
            "text/html": [
              "<div>\n",
              "<style scoped>\n",
              "    .dataframe tbody tr th:only-of-type {\n",
              "        vertical-align: middle;\n",
              "    }\n",
              "\n",
              "    .dataframe tbody tr th {\n",
              "        vertical-align: top;\n",
              "    }\n",
              "\n",
              "    .dataframe thead th {\n",
              "        text-align: right;\n",
              "    }\n",
              "</style>\n",
              "<table border=\"1\" class=\"dataframe\">\n",
              "  <thead>\n",
              "    <tr style=\"text-align: right;\">\n",
              "      <th></th>\n",
              "      <th>vecto_mes</th>\n",
              "      <th>tipo_de_vinculo</th>\n",
              "    </tr>\n",
              "    <tr>\n",
              "      <th>local_de_trabalho</th>\n",
              "      <th></th>\n",
              "      <th></th>\n",
              "    </tr>\n",
              "  </thead>\n",
              "  <tbody>\n",
              "    <tr>\n",
              "      <th>PAÇO</th>\n",
              "      <td>4141477.68</td>\n",
              "      <td>849</td>\n",
              "    </tr>\n",
              "    <tr>\n",
              "      <th>SECRETARIA DE SAUDE</th>\n",
              "      <td>426466.18</td>\n",
              "      <td>125</td>\n",
              "    </tr>\n",
              "    <tr>\n",
              "      <th>SERVICOS PUBLICOS</th>\n",
              "      <td>255124.89</td>\n",
              "      <td>95</td>\n",
              "    </tr>\n",
              "    <tr>\n",
              "      <th>SECRETARIA DE EDUCACAO</th>\n",
              "      <td>214837.69</td>\n",
              "      <td>82</td>\n",
              "    </tr>\n",
              "    <tr>\n",
              "      <th>PORTARIA</th>\n",
              "      <td>141399.50</td>\n",
              "      <td>34</td>\n",
              "    </tr>\n",
              "    <tr>\n",
              "      <th>...</th>\n",
              "      <td>...</td>\n",
              "      <td>...</td>\n",
              "    </tr>\n",
              "    <tr>\n",
              "      <th>PSF PROMORAR</th>\n",
              "      <td>1466.80</td>\n",
              "      <td>1</td>\n",
              "    </tr>\n",
              "    <tr>\n",
              "      <th>2 DP</th>\n",
              "      <td>981.11</td>\n",
              "      <td>1</td>\n",
              "    </tr>\n",
              "    <tr>\n",
              "      <th>UBS BARRA FUNDA</th>\n",
              "      <td>359.74</td>\n",
              "      <td>1</td>\n",
              "    </tr>\n",
              "    <tr>\n",
              "      <th>LICITACAO</th>\n",
              "      <td>359.74</td>\n",
              "      <td>1</td>\n",
              "    </tr>\n",
              "    <tr>\n",
              "      <th>CONSELHO TUTELAR</th>\n",
              "      <td>359.74</td>\n",
              "      <td>1</td>\n",
              "    </tr>\n",
              "  </tbody>\n",
              "</table>\n",
              "<p>95 rows × 2 columns</p>\n",
              "</div>"
            ],
            "text/plain": [
              "                         vecto_mes  tipo_de_vinculo\n",
              "local_de_trabalho                                  \n",
              "PAÇO                    4141477.68              849\n",
              "SECRETARIA DE SAUDE      426466.18              125\n",
              "SERVICOS PUBLICOS        255124.89               95\n",
              "SECRETARIA DE EDUCACAO   214837.69               82\n",
              "PORTARIA                 141399.50               34\n",
              "...                            ...              ...\n",
              "PSF PROMORAR               1466.80                1\n",
              "2 DP                        981.11                1\n",
              "UBS BARRA FUNDA             359.74                1\n",
              "LICITACAO                   359.74                1\n",
              "CONSELHO TUTELAR            359.74                1\n",
              "\n",
              "[95 rows x 2 columns]"
            ]
          },
          "metadata": {
            "tags": []
          },
          "execution_count": 37
        }
      ]
    },
    {
      "cell_type": "code",
      "metadata": {
        "id": "gIXQEEqXk5nb",
        "colab_type": "code",
        "outputId": "6e2802ec-cc12-4134-d08a-b4864562b11f",
        "colab": {
          "base_uri": "https://localhost:8080/",
          "height": 450
        }
      },
      "source": [
        "round(df_df2.groupby(['cargo']).agg({'vecto_mes': np.sum, 'tipo_de_vinculo': np.size}),2).sort_values('vecto_mes', ascending = False)"
      ],
      "execution_count": 0,
      "outputs": [
        {
          "output_type": "execute_result",
          "data": {
            "text/html": [
              "<div>\n",
              "<style scoped>\n",
              "    .dataframe tbody tr th:only-of-type {\n",
              "        vertical-align: middle;\n",
              "    }\n",
              "\n",
              "    .dataframe tbody tr th {\n",
              "        vertical-align: top;\n",
              "    }\n",
              "\n",
              "    .dataframe thead th {\n",
              "        text-align: right;\n",
              "    }\n",
              "</style>\n",
              "<table border=\"1\" class=\"dataframe\">\n",
              "  <thead>\n",
              "    <tr style=\"text-align: right;\">\n",
              "      <th></th>\n",
              "      <th>vecto_mes</th>\n",
              "      <th>tipo_de_vinculo</th>\n",
              "    </tr>\n",
              "    <tr>\n",
              "      <th>cargo</th>\n",
              "      <th></th>\n",
              "      <th></th>\n",
              "    </tr>\n",
              "  </thead>\n",
              "  <tbody>\n",
              "    <tr>\n",
              "      <th>PEB I JORNADA BASICA</th>\n",
              "      <td>1058650.63</td>\n",
              "      <td>252</td>\n",
              "    </tr>\n",
              "    <tr>\n",
              "      <th>MEDICO PLANTONISTA</th>\n",
              "      <td>572736.26</td>\n",
              "      <td>46</td>\n",
              "    </tr>\n",
              "    <tr>\n",
              "      <th>AUXILIAR DE SERVICOS INFANTIS</th>\n",
              "      <td>563618.85</td>\n",
              "      <td>307</td>\n",
              "    </tr>\n",
              "    <tr>\n",
              "      <th>PEB I JORNADA UNICA</th>\n",
              "      <td>460056.35</td>\n",
              "      <td>165</td>\n",
              "    </tr>\n",
              "    <tr>\n",
              "      <th>ESCRITURARIO</th>\n",
              "      <td>449152.83</td>\n",
              "      <td>155</td>\n",
              "    </tr>\n",
              "    <tr>\n",
              "      <th>...</th>\n",
              "      <td>...</td>\n",
              "      <td>...</td>\n",
              "    </tr>\n",
              "    <tr>\n",
              "      <th>ESTAGIO ENGENHARIA ELETRICA</th>\n",
              "      <td>981.11</td>\n",
              "      <td>1</td>\n",
              "    </tr>\n",
              "    <tr>\n",
              "      <th>ESTAGIARIO DE CIENCIAS BIOLOGICAS</th>\n",
              "      <td>654.07</td>\n",
              "      <td>1</td>\n",
              "    </tr>\n",
              "    <tr>\n",
              "      <th>ESTAGIO TECNICO SEGURANCA DO TRABALHO</th>\n",
              "      <td>588.67</td>\n",
              "      <td>1</td>\n",
              "    </tr>\n",
              "    <tr>\n",
              "      <th>ESTAGIO PUBLICIDADE E PROPAGANDA</th>\n",
              "      <td>588.67</td>\n",
              "      <td>1</td>\n",
              "    </tr>\n",
              "    <tr>\n",
              "      <th>ENGENHEIRO ELETRICO</th>\n",
              "      <td>314.88</td>\n",
              "      <td>1</td>\n",
              "    </tr>\n",
              "  </tbody>\n",
              "</table>\n",
              "<p>260 rows × 2 columns</p>\n",
              "</div>"
            ],
            "text/plain": [
              "                                        vecto_mes  tipo_de_vinculo\n",
              "cargo                                                             \n",
              "PEB I JORNADA BASICA                   1058650.63              252\n",
              "MEDICO PLANTONISTA                      572736.26               46\n",
              "AUXILIAR DE SERVICOS INFANTIS           563618.85              307\n",
              "PEB I JORNADA UNICA                     460056.35              165\n",
              "ESCRITURARIO                            449152.83              155\n",
              "...                                           ...              ...\n",
              "ESTAGIO ENGENHARIA ELETRICA                981.11                1\n",
              "ESTAGIARIO DE CIENCIAS BIOLOGICAS          654.07                1\n",
              "ESTAGIO TECNICO SEGURANCA DO TRABALHO      588.67                1\n",
              "ESTAGIO PUBLICIDADE E PROPAGANDA           588.67                1\n",
              "ENGENHEIRO ELETRICO                        314.88                1\n",
              "\n",
              "[260 rows x 2 columns]"
            ]
          },
          "metadata": {
            "tags": []
          },
          "execution_count": 38
        }
      ]
    },
    {
      "cell_type": "code",
      "metadata": {
        "id": "juCBWidOk_tA",
        "colab_type": "code",
        "outputId": "ea34f170-89fa-46a3-868f-51c3f13b7f61",
        "colab": {
          "base_uri": "https://localhost:8080/",
          "height": 142
        }
      },
      "source": [
        "round(df_df2.groupby(['situacao']).agg({'vecto_mes': np.sum, 'tipo_de_vinculo': np.size}),2).sort_values('vecto_mes', ascending = False)"
      ],
      "execution_count": 0,
      "outputs": [
        {
          "output_type": "execute_result",
          "data": {
            "text/html": [
              "<div>\n",
              "<style scoped>\n",
              "    .dataframe tbody tr th:only-of-type {\n",
              "        vertical-align: middle;\n",
              "    }\n",
              "\n",
              "    .dataframe tbody tr th {\n",
              "        vertical-align: top;\n",
              "    }\n",
              "\n",
              "    .dataframe thead th {\n",
              "        text-align: right;\n",
              "    }\n",
              "</style>\n",
              "<table border=\"1\" class=\"dataframe\">\n",
              "  <thead>\n",
              "    <tr style=\"text-align: right;\">\n",
              "      <th></th>\n",
              "      <th>vecto_mes</th>\n",
              "      <th>tipo_de_vinculo</th>\n",
              "    </tr>\n",
              "    <tr>\n",
              "      <th>situacao</th>\n",
              "      <th></th>\n",
              "      <th></th>\n",
              "    </tr>\n",
              "  </thead>\n",
              "  <tbody>\n",
              "    <tr>\n",
              "      <th>ATIVO</th>\n",
              "      <td>9043232.71</td>\n",
              "      <td>2480</td>\n",
              "    </tr>\n",
              "    <tr>\n",
              "      <th>DESLIGADO</th>\n",
              "      <td>3786.75</td>\n",
              "      <td>3</td>\n",
              "    </tr>\n",
              "  </tbody>\n",
              "</table>\n",
              "</div>"
            ],
            "text/plain": [
              "            vecto_mes  tipo_de_vinculo\n",
              "situacao                              \n",
              "ATIVO      9043232.71             2480\n",
              "DESLIGADO     3786.75                3"
            ]
          },
          "metadata": {
            "tags": []
          },
          "execution_count": 39
        }
      ]
    },
    {
      "cell_type": "code",
      "metadata": {
        "id": "08pyh6EDzvgr",
        "colab_type": "code",
        "outputId": "5699c7c6-00b6-4cc2-8162-187af6348c65",
        "colab": {
          "base_uri": "https://localhost:8080/",
          "height": 297
        }
      },
      "source": [
        "round(df_df2.groupby(['situacao', 'tipo_de_vinculo'])[['vecto_mes', 'liquido']].sum().sort_values(by = 'liquido', ascending = False), 2)"
      ],
      "execution_count": 0,
      "outputs": [
        {
          "output_type": "execute_result",
          "data": {
            "text/html": [
              "<div>\n",
              "<style scoped>\n",
              "    .dataframe tbody tr th:only-of-type {\n",
              "        vertical-align: middle;\n",
              "    }\n",
              "\n",
              "    .dataframe tbody tr th {\n",
              "        vertical-align: top;\n",
              "    }\n",
              "\n",
              "    .dataframe thead th {\n",
              "        text-align: right;\n",
              "    }\n",
              "</style>\n",
              "<table border=\"1\" class=\"dataframe\">\n",
              "  <thead>\n",
              "    <tr style=\"text-align: right;\">\n",
              "      <th></th>\n",
              "      <th></th>\n",
              "      <th>vecto_mes</th>\n",
              "      <th>liquido</th>\n",
              "    </tr>\n",
              "    <tr>\n",
              "      <th>situacao</th>\n",
              "      <th>tipo_de_vinculo</th>\n",
              "      <th></th>\n",
              "      <th></th>\n",
              "    </tr>\n",
              "  </thead>\n",
              "  <tbody>\n",
              "    <tr>\n",
              "      <th rowspan=\"5\" valign=\"top\">ATIVO</th>\n",
              "      <th>ESTATUTÁRIO</th>\n",
              "      <td>7747185.44</td>\n",
              "      <td>5215634.23</td>\n",
              "    </tr>\n",
              "    <tr>\n",
              "      <th>CARGO EM COMISSÃO</th>\n",
              "      <td>974963.57</td>\n",
              "      <td>693827.89</td>\n",
              "    </tr>\n",
              "    <tr>\n",
              "      <th>TEMPORÁRIO</th>\n",
              "      <td>157098.28</td>\n",
              "      <td>141229.53</td>\n",
              "    </tr>\n",
              "    <tr>\n",
              "      <th>ESTAGIÁRIO</th>\n",
              "      <td>138597.23</td>\n",
              "      <td>135717.79</td>\n",
              "    </tr>\n",
              "    <tr>\n",
              "      <th>AGENTE POLÍTICO</th>\n",
              "      <td>25388.19</td>\n",
              "      <td>12752.71</td>\n",
              "    </tr>\n",
              "    <tr>\n",
              "      <th rowspan=\"2\" valign=\"top\">DESLIGADO</th>\n",
              "      <th>TEMPORÁRIO</th>\n",
              "      <td>3754.05</td>\n",
              "      <td>2605.86</td>\n",
              "    </tr>\n",
              "    <tr>\n",
              "      <th>ESTAGIÁRIO</th>\n",
              "      <td>32.70</td>\n",
              "      <td>32.70</td>\n",
              "    </tr>\n",
              "  </tbody>\n",
              "</table>\n",
              "</div>"
            ],
            "text/plain": [
              "                              vecto_mes     liquido\n",
              "situacao  tipo_de_vinculo                          \n",
              "ATIVO     ESTATUTÁRIO        7747185.44  5215634.23\n",
              "          CARGO EM COMISSÃO   974963.57   693827.89\n",
              "          TEMPORÁRIO          157098.28   141229.53\n",
              "          ESTAGIÁRIO          138597.23   135717.79\n",
              "          AGENTE POLÍTICO      25388.19    12752.71\n",
              "DESLIGADO TEMPORÁRIO            3754.05     2605.86\n",
              "          ESTAGIÁRIO              32.70       32.70"
            ]
          },
          "metadata": {
            "tags": []
          },
          "execution_count": 40
        }
      ]
    },
    {
      "cell_type": "code",
      "metadata": {
        "id": "IPNzKrHjgxI1",
        "colab_type": "code",
        "outputId": "728d75a2-1ffe-45b5-c008-a910f44c2567",
        "colab": {
          "base_uri": "https://localhost:8080/",
          "height": 80
        }
      },
      "source": [
        "df_df2[(df_df2['tipo_de_vinculo'] == 'AGENTE POLÍTICO') & (df_df2['vecto_mes'] >= 17190)]"
      ],
      "execution_count": 0,
      "outputs": [
        {
          "output_type": "execute_result",
          "data": {
            "text/html": [
              "<div>\n",
              "<style scoped>\n",
              "    .dataframe tbody tr th:only-of-type {\n",
              "        vertical-align: middle;\n",
              "    }\n",
              "\n",
              "    .dataframe tbody tr th {\n",
              "        vertical-align: top;\n",
              "    }\n",
              "\n",
              "    .dataframe thead th {\n",
              "        text-align: right;\n",
              "    }\n",
              "</style>\n",
              "<table border=\"1\" class=\"dataframe\">\n",
              "  <thead>\n",
              "    <tr style=\"text-align: right;\">\n",
              "      <th></th>\n",
              "      <th>matricula</th>\n",
              "      <th>tipo_de_vinculo</th>\n",
              "      <th>lotacao</th>\n",
              "      <th>local_de_trabalho</th>\n",
              "      <th>cargo</th>\n",
              "      <th>situacao</th>\n",
              "      <th>vecto_mes</th>\n",
              "      <th>liquido</th>\n",
              "    </tr>\n",
              "  </thead>\n",
              "  <tbody>\n",
              "    <tr>\n",
              "      <th>814</th>\n",
              "      <td>11</td>\n",
              "      <td>AGENTE POLÍTICO</td>\n",
              "      <td>PREFEITO</td>\n",
              "      <td>PAÇO</td>\n",
              "      <td>PREFEITO</td>\n",
              "      <td>ATIVO</td>\n",
              "      <td>17190.74</td>\n",
              "      <td>6920.3</td>\n",
              "    </tr>\n",
              "  </tbody>\n",
              "</table>\n",
              "</div>"
            ],
            "text/plain": [
              "    matricula  tipo_de_vinculo   lotacao  ... situacao vecto_mes liquido\n",
              "814        11  AGENTE POLÍTICO  PREFEITO  ...    ATIVO  17190.74  6920.3\n",
              "\n",
              "[1 rows x 8 columns]"
            ]
          },
          "metadata": {
            "tags": []
          },
          "execution_count": 41
        }
      ]
    },
    {
      "cell_type": "code",
      "metadata": {
        "id": "HFAjFVBygY8K",
        "colab_type": "code",
        "outputId": "08470728-f2b2-48c0-a78d-66e204c99b0d",
        "colab": {
          "base_uri": "https://localhost:8080/",
          "height": 111
        }
      },
      "source": [
        "df_df2[(df_df2['tipo_de_vinculo'] == 'CARGO EM COMISSÃO') & (df_df2['vecto_mes'] >= 17190)]"
      ],
      "execution_count": 0,
      "outputs": [
        {
          "output_type": "execute_result",
          "data": {
            "text/html": [
              "<div>\n",
              "<style scoped>\n",
              "    .dataframe tbody tr th:only-of-type {\n",
              "        vertical-align: middle;\n",
              "    }\n",
              "\n",
              "    .dataframe tbody tr th {\n",
              "        vertical-align: top;\n",
              "    }\n",
              "\n",
              "    .dataframe thead th {\n",
              "        text-align: right;\n",
              "    }\n",
              "</style>\n",
              "<table border=\"1\" class=\"dataframe\">\n",
              "  <thead>\n",
              "    <tr style=\"text-align: right;\">\n",
              "      <th></th>\n",
              "      <th>matricula</th>\n",
              "      <th>tipo_de_vinculo</th>\n",
              "      <th>lotacao</th>\n",
              "      <th>local_de_trabalho</th>\n",
              "      <th>cargo</th>\n",
              "      <th>situacao</th>\n",
              "      <th>vecto_mes</th>\n",
              "      <th>liquido</th>\n",
              "    </tr>\n",
              "  </thead>\n",
              "  <tbody>\n",
              "    <tr>\n",
              "      <th>1836</th>\n",
              "      <td>11659</td>\n",
              "      <td>CARGO EM COMISSÃO</td>\n",
              "      <td>SAMU</td>\n",
              "      <td>AMBULANCIA</td>\n",
              "      <td>COORDENADOR DE PROGRAMA DE SAUDE SESA</td>\n",
              "      <td>ATIVO</td>\n",
              "      <td>17190.74</td>\n",
              "      <td>6617.87</td>\n",
              "    </tr>\n",
              "    <tr>\n",
              "      <th>2445</th>\n",
              "      <td>12349</td>\n",
              "      <td>CARGO EM COMISSÃO</td>\n",
              "      <td>DEPTO TRIBUTACAO RECEITA E FISCALIZACAO</td>\n",
              "      <td>PAÇO</td>\n",
              "      <td>JULGADOR TRIBUTARIO SECR, FINANCAS</td>\n",
              "      <td>ATIVO</td>\n",
              "      <td>17190.74</td>\n",
              "      <td>11445.28</td>\n",
              "    </tr>\n",
              "  </tbody>\n",
              "</table>\n",
              "</div>"
            ],
            "text/plain": [
              "     matricula    tipo_de_vinculo  ... vecto_mes   liquido\n",
              "1836     11659  CARGO EM COMISSÃO  ...  17190.74   6617.87\n",
              "2445     12349  CARGO EM COMISSÃO  ...  17190.74  11445.28\n",
              "\n",
              "[2 rows x 8 columns]"
            ]
          },
          "metadata": {
            "tags": []
          },
          "execution_count": 42
        }
      ]
    },
    {
      "cell_type": "code",
      "metadata": {
        "id": "KNVfaIr9g78E",
        "colab_type": "code",
        "outputId": "afa8a35c-411f-46af-8027-34c6ab59a2d5",
        "colab": {
          "base_uri": "https://localhost:8080/",
          "height": 80
        }
      },
      "source": [
        "df_df2[(df_df2['tipo_de_vinculo'] == 'ESTATUTÁRIO') & (df_df2['vecto_mes'] >= 22000)]"
      ],
      "execution_count": 0,
      "outputs": [
        {
          "output_type": "execute_result",
          "data": {
            "text/html": [
              "<div>\n",
              "<style scoped>\n",
              "    .dataframe tbody tr th:only-of-type {\n",
              "        vertical-align: middle;\n",
              "    }\n",
              "\n",
              "    .dataframe tbody tr th {\n",
              "        vertical-align: top;\n",
              "    }\n",
              "\n",
              "    .dataframe thead th {\n",
              "        text-align: right;\n",
              "    }\n",
              "</style>\n",
              "<table border=\"1\" class=\"dataframe\">\n",
              "  <thead>\n",
              "    <tr style=\"text-align: right;\">\n",
              "      <th></th>\n",
              "      <th>matricula</th>\n",
              "      <th>tipo_de_vinculo</th>\n",
              "      <th>lotacao</th>\n",
              "      <th>local_de_trabalho</th>\n",
              "      <th>cargo</th>\n",
              "      <th>situacao</th>\n",
              "      <th>vecto_mes</th>\n",
              "      <th>liquido</th>\n",
              "    </tr>\n",
              "  </thead>\n",
              "  <tbody>\n",
              "    <tr>\n",
              "      <th>2143</th>\n",
              "      <td>10661</td>\n",
              "      <td>ESTATUTÁRIO</td>\n",
              "      <td>SERVICO DE PESSOAL</td>\n",
              "      <td>PAÇO</td>\n",
              "      <td>ESCRITURARIO</td>\n",
              "      <td>ATIVO</td>\n",
              "      <td>22257.78</td>\n",
              "      <td>20716.24</td>\n",
              "    </tr>\n",
              "  </tbody>\n",
              "</table>\n",
              "</div>"
            ],
            "text/plain": [
              "     matricula tipo_de_vinculo  ... vecto_mes   liquido\n",
              "2143     10661     ESTATUTÁRIO  ...  22257.78  20716.24\n",
              "\n",
              "[1 rows x 8 columns]"
            ]
          },
          "metadata": {
            "tags": []
          },
          "execution_count": 43
        }
      ]
    },
    {
      "cell_type": "code",
      "metadata": {
        "id": "ZV7FSICsKgn0",
        "colab_type": "code",
        "outputId": "b355789c-cac1-4181-a181-67580bbe9ec3",
        "colab": {
          "base_uri": "https://localhost:8080/",
          "height": 80
        }
      },
      "source": [
        "df_df2[(df_df2['tipo_de_vinculo'] == 'TEMPORÁRIO') & (df_df2['vecto_mes'] >= 4500)]"
      ],
      "execution_count": 0,
      "outputs": [
        {
          "output_type": "execute_result",
          "data": {
            "text/html": [
              "<div>\n",
              "<style scoped>\n",
              "    .dataframe tbody tr th:only-of-type {\n",
              "        vertical-align: middle;\n",
              "    }\n",
              "\n",
              "    .dataframe tbody tr th {\n",
              "        vertical-align: top;\n",
              "    }\n",
              "\n",
              "    .dataframe thead th {\n",
              "        text-align: right;\n",
              "    }\n",
              "</style>\n",
              "<table border=\"1\" class=\"dataframe\">\n",
              "  <thead>\n",
              "    <tr style=\"text-align: right;\">\n",
              "      <th></th>\n",
              "      <th>matricula</th>\n",
              "      <th>tipo_de_vinculo</th>\n",
              "      <th>lotacao</th>\n",
              "      <th>local_de_trabalho</th>\n",
              "      <th>cargo</th>\n",
              "      <th>situacao</th>\n",
              "      <th>vecto_mes</th>\n",
              "      <th>liquido</th>\n",
              "    </tr>\n",
              "  </thead>\n",
              "  <tbody>\n",
              "    <tr>\n",
              "      <th>1052</th>\n",
              "      <td>75518</td>\n",
              "      <td>TEMPORÁRIO</td>\n",
              "      <td>UPA CENTRAL</td>\n",
              "      <td>SECRETARIA DE SAUDE</td>\n",
              "      <td>ENFERMEIRO PLANTONISTA</td>\n",
              "      <td>ATIVO</td>\n",
              "      <td>6378.5</td>\n",
              "      <td>5026.08</td>\n",
              "    </tr>\n",
              "  </tbody>\n",
              "</table>\n",
              "</div>"
            ],
            "text/plain": [
              "     matricula tipo_de_vinculo      lotacao  ... situacao vecto_mes  liquido\n",
              "1052     75518      TEMPORÁRIO  UPA CENTRAL  ...    ATIVO    6378.5  5026.08\n",
              "\n",
              "[1 rows x 8 columns]"
            ]
          },
          "metadata": {
            "tags": []
          },
          "execution_count": 44
        }
      ]
    },
    {
      "cell_type": "markdown",
      "metadata": {
        "id": "7GWIBc54uVYZ",
        "colab_type": "text"
      },
      "source": [
        "#### Resultado"
      ]
    },
    {
      "cell_type": "code",
      "metadata": {
        "id": "9hw0ND-no-zk",
        "colab_type": "code",
        "outputId": "0340217b-2d0c-48a8-96ea-557007bcfbb2",
        "colab": {
          "base_uri": "https://localhost:8080/",
          "height": 68
        }
      },
      "source": [
        "liquido = round(df_df2['liquido'].sum(),2)\n",
        "vecto_mes = round(df_df2['vecto_mes'].sum(),2)\n",
        "desconto = round(df_df2['vecto_mes'].sum() - df_df2['liquido'].sum(), 2)\n",
        "\n",
        "print('Somatória: ')\n",
        "print('A coluna líquido: R$ {0:.2f} e a coluna vecto_mes R$ {1:.2f}'.format(liquido, vecto_mes))\n",
        "print('Diferença entre Vencimento Mês e Liquido: R$ {0:.2f}'.format(desconto))"
      ],
      "execution_count": 0,
      "outputs": [
        {
          "output_type": "stream",
          "text": [
            "Somatória: \n",
            "A coluna líquido: R$ 6201800.71 e a coluna vecto_mes R$ 9047019.46\n",
            "Diferença entre Vencimento Mês e Liquido: R$ 2845218.75\n"
          ],
          "name": "stdout"
        }
      ]
    },
    {
      "cell_type": "markdown",
      "metadata": {
        "id": "pMET66fL5rwY",
        "colab_type": "text"
      },
      "source": [
        "#### Criando nova coluna com a diferença dos valores para cada linha registrada"
      ]
    },
    {
      "cell_type": "code",
      "metadata": {
        "id": "lhf5NHS4nrsA",
        "colab_type": "code",
        "colab": {}
      },
      "source": [
        "df_df2['desconto'] =  df_df2['vecto_mes'] - df_df2['liquido']"
      ],
      "execution_count": 0,
      "outputs": []
    },
    {
      "cell_type": "markdown",
      "metadata": {
        "id": "CFKyTgbtVrvw",
        "colab_type": "text"
      },
      "source": [
        "#### Buscando as 10 primeiras colocações"
      ]
    },
    {
      "cell_type": "markdown",
      "metadata": {
        "id": "4hT7xQTHlWya",
        "colab_type": "text"
      },
      "source": [
        "#### Vencimento Mês"
      ]
    },
    {
      "cell_type": "code",
      "metadata": {
        "id": "CNN6lb2NlaXw",
        "colab_type": "code",
        "outputId": "233250dc-5a03-4474-ca41-63296fd28aa6",
        "colab": {
          "base_uri": "https://localhost:8080/",
          "height": 410
        }
      },
      "source": [
        "vecto_mes = df_df2.sort_values(by = 'vecto_mes', ascending = False)[:10]\n",
        "vecto_mes"
      ],
      "execution_count": 0,
      "outputs": [
        {
          "output_type": "execute_result",
          "data": {
            "text/html": [
              "<div>\n",
              "<style scoped>\n",
              "    .dataframe tbody tr th:only-of-type {\n",
              "        vertical-align: middle;\n",
              "    }\n",
              "\n",
              "    .dataframe tbody tr th {\n",
              "        vertical-align: top;\n",
              "    }\n",
              "\n",
              "    .dataframe thead th {\n",
              "        text-align: right;\n",
              "    }\n",
              "</style>\n",
              "<table border=\"1\" class=\"dataframe\">\n",
              "  <thead>\n",
              "    <tr style=\"text-align: right;\">\n",
              "      <th></th>\n",
              "      <th>matricula</th>\n",
              "      <th>tipo_de_vinculo</th>\n",
              "      <th>lotacao</th>\n",
              "      <th>local_de_trabalho</th>\n",
              "      <th>cargo</th>\n",
              "      <th>situacao</th>\n",
              "      <th>vecto_mes</th>\n",
              "      <th>liquido</th>\n",
              "      <th>desconto</th>\n",
              "    </tr>\n",
              "  </thead>\n",
              "  <tbody>\n",
              "    <tr>\n",
              "      <th>2143</th>\n",
              "      <td>10661</td>\n",
              "      <td>ESTATUTÁRIO</td>\n",
              "      <td>SERVICO DE PESSOAL</td>\n",
              "      <td>PAÇO</td>\n",
              "      <td>ESCRITURARIO</td>\n",
              "      <td>ATIVO</td>\n",
              "      <td>22257.78</td>\n",
              "      <td>20716.24</td>\n",
              "      <td>1541.54</td>\n",
              "    </tr>\n",
              "    <tr>\n",
              "      <th>1836</th>\n",
              "      <td>11659</td>\n",
              "      <td>CARGO EM COMISSÃO</td>\n",
              "      <td>SAMU</td>\n",
              "      <td>AMBULANCIA</td>\n",
              "      <td>COORDENADOR DE PROGRAMA DE SAUDE SESA</td>\n",
              "      <td>ATIVO</td>\n",
              "      <td>17190.74</td>\n",
              "      <td>6617.87</td>\n",
              "      <td>10572.87</td>\n",
              "    </tr>\n",
              "    <tr>\n",
              "      <th>2445</th>\n",
              "      <td>12349</td>\n",
              "      <td>CARGO EM COMISSÃO</td>\n",
              "      <td>DEPTO TRIBUTACAO RECEITA E FISCALIZACAO</td>\n",
              "      <td>PAÇO</td>\n",
              "      <td>JULGADOR TRIBUTARIO SECR, FINANCAS</td>\n",
              "      <td>ATIVO</td>\n",
              "      <td>17190.74</td>\n",
              "      <td>11445.28</td>\n",
              "      <td>5745.46</td>\n",
              "    </tr>\n",
              "    <tr>\n",
              "      <th>814</th>\n",
              "      <td>11</td>\n",
              "      <td>AGENTE POLÍTICO</td>\n",
              "      <td>PREFEITO</td>\n",
              "      <td>PAÇO</td>\n",
              "      <td>PREFEITO</td>\n",
              "      <td>ATIVO</td>\n",
              "      <td>17190.74</td>\n",
              "      <td>6920.30</td>\n",
              "      <td>10270.44</td>\n",
              "    </tr>\n",
              "    <tr>\n",
              "      <th>524</th>\n",
              "      <td>12338</td>\n",
              "      <td>ESTATUTÁRIO</td>\n",
              "      <td>SECRETARIA DE FINANCAS</td>\n",
              "      <td>PAÇO</td>\n",
              "      <td>AGENTE FAZENDARIO</td>\n",
              "      <td>ATIVO</td>\n",
              "      <td>17190.74</td>\n",
              "      <td>12116.10</td>\n",
              "      <td>5074.64</td>\n",
              "    </tr>\n",
              "    <tr>\n",
              "      <th>724</th>\n",
              "      <td>12268</td>\n",
              "      <td>ESTATUTÁRIO</td>\n",
              "      <td>UPA CENTRAL</td>\n",
              "      <td>PAÇO</td>\n",
              "      <td>MEDICO PLANTONISTA</td>\n",
              "      <td>ATIVO</td>\n",
              "      <td>17101.16</td>\n",
              "      <td>10286.77</td>\n",
              "      <td>6814.39</td>\n",
              "    </tr>\n",
              "    <tr>\n",
              "      <th>391</th>\n",
              "      <td>12353</td>\n",
              "      <td>ESTATUTÁRIO</td>\n",
              "      <td>UPA CENTRAL</td>\n",
              "      <td>PAÇO</td>\n",
              "      <td>MEDICO PLANTONISTA</td>\n",
              "      <td>ATIVO</td>\n",
              "      <td>17084.27</td>\n",
              "      <td>11376.57</td>\n",
              "      <td>5707.70</td>\n",
              "    </tr>\n",
              "    <tr>\n",
              "      <th>1870</th>\n",
              "      <td>13598</td>\n",
              "      <td>ESTATUTÁRIO</td>\n",
              "      <td>UPA CENTRAL</td>\n",
              "      <td>CENTRO DE SAUDE RIO ACIMA</td>\n",
              "      <td>MEDICO PLANTONISTA</td>\n",
              "      <td>ATIVO</td>\n",
              "      <td>17069.93</td>\n",
              "      <td>11850.49</td>\n",
              "      <td>5219.44</td>\n",
              "    </tr>\n",
              "    <tr>\n",
              "      <th>824</th>\n",
              "      <td>13984</td>\n",
              "      <td>ESTATUTÁRIO</td>\n",
              "      <td>UPA CENTRAL</td>\n",
              "      <td>PAÇO</td>\n",
              "      <td>MEDICO PLANTONISTA</td>\n",
              "      <td>ATIVO</td>\n",
              "      <td>16971.83</td>\n",
              "      <td>11304.02</td>\n",
              "      <td>5667.81</td>\n",
              "    </tr>\n",
              "    <tr>\n",
              "      <th>1343</th>\n",
              "      <td>11621</td>\n",
              "      <td>ESTATUTÁRIO</td>\n",
              "      <td>UPA CENTRAL</td>\n",
              "      <td>PAÇO</td>\n",
              "      <td>MEDICO PLANTONISTA</td>\n",
              "      <td>ATIVO</td>\n",
              "      <td>16921.63</td>\n",
              "      <td>11786.04</td>\n",
              "      <td>5135.59</td>\n",
              "    </tr>\n",
              "  </tbody>\n",
              "</table>\n",
              "</div>"
            ],
            "text/plain": [
              "     matricula    tipo_de_vinculo  ...   liquido  desconto\n",
              "2143     10661        ESTATUTÁRIO  ...  20716.24   1541.54\n",
              "1836     11659  CARGO EM COMISSÃO  ...   6617.87  10572.87\n",
              "2445     12349  CARGO EM COMISSÃO  ...  11445.28   5745.46\n",
              "814         11    AGENTE POLÍTICO  ...   6920.30  10270.44\n",
              "524      12338        ESTATUTÁRIO  ...  12116.10   5074.64\n",
              "724      12268        ESTATUTÁRIO  ...  10286.77   6814.39\n",
              "391      12353        ESTATUTÁRIO  ...  11376.57   5707.70\n",
              "1870     13598        ESTATUTÁRIO  ...  11850.49   5219.44\n",
              "824      13984        ESTATUTÁRIO  ...  11304.02   5667.81\n",
              "1343     11621        ESTATUTÁRIO  ...  11786.04   5135.59\n",
              "\n",
              "[10 rows x 9 columns]"
            ]
          },
          "metadata": {
            "tags": []
          },
          "execution_count": 66
        }
      ]
    },
    {
      "cell_type": "code",
      "metadata": {
        "id": "Gw_yQmi8sH0B",
        "colab_type": "code",
        "outputId": "b9d50905-831c-4afd-8e61-cf34c331e1ba",
        "colab": {
          "base_uri": "https://localhost:8080/",
          "height": 34
        }
      },
      "source": [
        "print('Os vinte maiores recebíveis liquido. Total: {0} registros, R$ {1} vencimento mês.'.format(len(vecto_mes), vecto_mes['vecto_mes'].sum()))"
      ],
      "execution_count": 0,
      "outputs": [
        {
          "output_type": "stream",
          "text": [
            "Os vinte maiores recebíveis liquido. Total: 10 registros, R$ 176169.56 vencimento mês.\n"
          ],
          "name": "stdout"
        }
      ]
    },
    {
      "cell_type": "markdown",
      "metadata": {
        "id": "6Oe1wvI3mTAm",
        "colab_type": "text"
      },
      "source": [
        "#### Liquido"
      ]
    },
    {
      "cell_type": "code",
      "metadata": {
        "id": "5_JMEtyMVLLF",
        "colab_type": "code",
        "outputId": "0b6c5080-a5ea-40f5-f3c4-8efd2d60a78d",
        "colab": {
          "base_uri": "https://localhost:8080/",
          "height": 410
        }
      },
      "source": [
        "liquido = df_df2.sort_values(by = 'liquido', ascending = False)[:10]\n",
        "liquido"
      ],
      "execution_count": 0,
      "outputs": [
        {
          "output_type": "execute_result",
          "data": {
            "text/html": [
              "<div>\n",
              "<style scoped>\n",
              "    .dataframe tbody tr th:only-of-type {\n",
              "        vertical-align: middle;\n",
              "    }\n",
              "\n",
              "    .dataframe tbody tr th {\n",
              "        vertical-align: top;\n",
              "    }\n",
              "\n",
              "    .dataframe thead th {\n",
              "        text-align: right;\n",
              "    }\n",
              "</style>\n",
              "<table border=\"1\" class=\"dataframe\">\n",
              "  <thead>\n",
              "    <tr style=\"text-align: right;\">\n",
              "      <th></th>\n",
              "      <th>matricula</th>\n",
              "      <th>tipo_de_vinculo</th>\n",
              "      <th>lotacao</th>\n",
              "      <th>local_de_trabalho</th>\n",
              "      <th>cargo</th>\n",
              "      <th>situacao</th>\n",
              "      <th>vecto_mes</th>\n",
              "      <th>liquido</th>\n",
              "      <th>desconto</th>\n",
              "    </tr>\n",
              "  </thead>\n",
              "  <tbody>\n",
              "    <tr>\n",
              "      <th>2143</th>\n",
              "      <td>10661</td>\n",
              "      <td>ESTATUTÁRIO</td>\n",
              "      <td>SERVICO DE PESSOAL</td>\n",
              "      <td>PAÇO</td>\n",
              "      <td>ESCRITURARIO</td>\n",
              "      <td>ATIVO</td>\n",
              "      <td>22257.78</td>\n",
              "      <td>20716.24</td>\n",
              "      <td>1541.54</td>\n",
              "    </tr>\n",
              "    <tr>\n",
              "      <th>524</th>\n",
              "      <td>12338</td>\n",
              "      <td>ESTATUTÁRIO</td>\n",
              "      <td>SECRETARIA DE FINANCAS</td>\n",
              "      <td>PAÇO</td>\n",
              "      <td>AGENTE FAZENDARIO</td>\n",
              "      <td>ATIVO</td>\n",
              "      <td>17190.74</td>\n",
              "      <td>12116.10</td>\n",
              "      <td>5074.64</td>\n",
              "    </tr>\n",
              "    <tr>\n",
              "      <th>1870</th>\n",
              "      <td>13598</td>\n",
              "      <td>ESTATUTÁRIO</td>\n",
              "      <td>UPA CENTRAL</td>\n",
              "      <td>CENTRO DE SAUDE RIO ACIMA</td>\n",
              "      <td>MEDICO PLANTONISTA</td>\n",
              "      <td>ATIVO</td>\n",
              "      <td>17069.93</td>\n",
              "      <td>11850.49</td>\n",
              "      <td>5219.44</td>\n",
              "    </tr>\n",
              "    <tr>\n",
              "      <th>817</th>\n",
              "      <td>14158</td>\n",
              "      <td>ESTATUTÁRIO</td>\n",
              "      <td>UPA CENTRAL</td>\n",
              "      <td>PAÇO</td>\n",
              "      <td>MEDICO PLANTONISTA</td>\n",
              "      <td>ATIVO</td>\n",
              "      <td>16864.75</td>\n",
              "      <td>11801.48</td>\n",
              "      <td>5063.27</td>\n",
              "    </tr>\n",
              "    <tr>\n",
              "      <th>1343</th>\n",
              "      <td>11621</td>\n",
              "      <td>ESTATUTÁRIO</td>\n",
              "      <td>UPA CENTRAL</td>\n",
              "      <td>PAÇO</td>\n",
              "      <td>MEDICO PLANTONISTA</td>\n",
              "      <td>ATIVO</td>\n",
              "      <td>16921.63</td>\n",
              "      <td>11786.04</td>\n",
              "      <td>5135.59</td>\n",
              "    </tr>\n",
              "    <tr>\n",
              "      <th>1528</th>\n",
              "      <td>11692</td>\n",
              "      <td>ESTATUTÁRIO</td>\n",
              "      <td>UPA CENTRAL</td>\n",
              "      <td>PAÇO</td>\n",
              "      <td>MEDICO PLANTONISTA</td>\n",
              "      <td>ATIVO</td>\n",
              "      <td>16875.14</td>\n",
              "      <td>11756.04</td>\n",
              "      <td>5119.10</td>\n",
              "    </tr>\n",
              "    <tr>\n",
              "      <th>883</th>\n",
              "      <td>11791</td>\n",
              "      <td>ESTATUTÁRIO</td>\n",
              "      <td>AMBULATORIO DE SAUDE DA MULHER E DA CRIANÇA</td>\n",
              "      <td>PAÇO</td>\n",
              "      <td>MEDICO PLANTONISTA</td>\n",
              "      <td>ATIVO</td>\n",
              "      <td>16521.69</td>\n",
              "      <td>11527.98</td>\n",
              "      <td>4993.71</td>\n",
              "    </tr>\n",
              "    <tr>\n",
              "      <th>2445</th>\n",
              "      <td>12349</td>\n",
              "      <td>CARGO EM COMISSÃO</td>\n",
              "      <td>DEPTO TRIBUTACAO RECEITA E FISCALIZACAO</td>\n",
              "      <td>PAÇO</td>\n",
              "      <td>JULGADOR TRIBUTARIO SECR, FINANCAS</td>\n",
              "      <td>ATIVO</td>\n",
              "      <td>17190.74</td>\n",
              "      <td>11445.28</td>\n",
              "      <td>5745.46</td>\n",
              "    </tr>\n",
              "    <tr>\n",
              "      <th>436</th>\n",
              "      <td>11505</td>\n",
              "      <td>ESTATUTÁRIO</td>\n",
              "      <td>SECRETARIA DE SAUDE</td>\n",
              "      <td>PAÇO</td>\n",
              "      <td>MEDICO PEDIATRA</td>\n",
              "      <td>ATIVO</td>\n",
              "      <td>16320.78</td>\n",
              "      <td>11398.34</td>\n",
              "      <td>4922.44</td>\n",
              "    </tr>\n",
              "    <tr>\n",
              "      <th>391</th>\n",
              "      <td>12353</td>\n",
              "      <td>ESTATUTÁRIO</td>\n",
              "      <td>UPA CENTRAL</td>\n",
              "      <td>PAÇO</td>\n",
              "      <td>MEDICO PLANTONISTA</td>\n",
              "      <td>ATIVO</td>\n",
              "      <td>17084.27</td>\n",
              "      <td>11376.57</td>\n",
              "      <td>5707.70</td>\n",
              "    </tr>\n",
              "  </tbody>\n",
              "</table>\n",
              "</div>"
            ],
            "text/plain": [
              "     matricula    tipo_de_vinculo  ...   liquido desconto\n",
              "2143     10661        ESTATUTÁRIO  ...  20716.24  1541.54\n",
              "524      12338        ESTATUTÁRIO  ...  12116.10  5074.64\n",
              "1870     13598        ESTATUTÁRIO  ...  11850.49  5219.44\n",
              "817      14158        ESTATUTÁRIO  ...  11801.48  5063.27\n",
              "1343     11621        ESTATUTÁRIO  ...  11786.04  5135.59\n",
              "1528     11692        ESTATUTÁRIO  ...  11756.04  5119.10\n",
              "883      11791        ESTATUTÁRIO  ...  11527.98  4993.71\n",
              "2445     12349  CARGO EM COMISSÃO  ...  11445.28  5745.46\n",
              "436      11505        ESTATUTÁRIO  ...  11398.34  4922.44\n",
              "391      12353        ESTATUTÁRIO  ...  11376.57  5707.70\n",
              "\n",
              "[10 rows x 9 columns]"
            ]
          },
          "metadata": {
            "tags": []
          },
          "execution_count": 68
        }
      ]
    },
    {
      "cell_type": "code",
      "metadata": {
        "id": "4qW9zL8jsPcy",
        "colab_type": "code",
        "outputId": "99fd5774-af27-422b-c4b6-3bcf50567e96",
        "colab": {
          "base_uri": "https://localhost:8080/",
          "height": 34
        }
      },
      "source": [
        "print('Os vinte maiores recebíveis liquido. Total: {0} registros, R$ {1} liquido.'.format(len(vecto_mes), liquido['liquido'].sum()))"
      ],
      "execution_count": 0,
      "outputs": [
        {
          "output_type": "stream",
          "text": [
            "Os vinte maiores recebíveis liquido. Total: 10 registros, R$ 125774.56 liquido.\n"
          ],
          "name": "stdout"
        }
      ]
    },
    {
      "cell_type": "markdown",
      "metadata": {
        "id": "8DGGAzjqmabU",
        "colab_type": "text"
      },
      "source": [
        "#### Desconto"
      ]
    },
    {
      "cell_type": "code",
      "metadata": {
        "id": "sdQnPEeFmYxO",
        "colab_type": "code",
        "outputId": "755a97ee-6592-4429-864a-5559c17d185a",
        "colab": {
          "base_uri": "https://localhost:8080/",
          "height": 359
        }
      },
      "source": [
        "desconto = df_df2.sort_values(by = 'desconto', ascending = False)[:10]\n",
        "desconto"
      ],
      "execution_count": 0,
      "outputs": [
        {
          "output_type": "execute_result",
          "data": {
            "text/html": [
              "<div>\n",
              "<style scoped>\n",
              "    .dataframe tbody tr th:only-of-type {\n",
              "        vertical-align: middle;\n",
              "    }\n",
              "\n",
              "    .dataframe tbody tr th {\n",
              "        vertical-align: top;\n",
              "    }\n",
              "\n",
              "    .dataframe thead th {\n",
              "        text-align: right;\n",
              "    }\n",
              "</style>\n",
              "<table border=\"1\" class=\"dataframe\">\n",
              "  <thead>\n",
              "    <tr style=\"text-align: right;\">\n",
              "      <th></th>\n",
              "      <th>matricula</th>\n",
              "      <th>tipo_de_vinculo</th>\n",
              "      <th>lotacao</th>\n",
              "      <th>local_de_trabalho</th>\n",
              "      <th>cargo</th>\n",
              "      <th>situacao</th>\n",
              "      <th>vecto_mes</th>\n",
              "      <th>liquido</th>\n",
              "      <th>desconto</th>\n",
              "    </tr>\n",
              "  </thead>\n",
              "  <tbody>\n",
              "    <tr>\n",
              "      <th>1836</th>\n",
              "      <td>11659</td>\n",
              "      <td>CARGO EM COMISSÃO</td>\n",
              "      <td>SAMU</td>\n",
              "      <td>AMBULANCIA</td>\n",
              "      <td>COORDENADOR DE PROGRAMA DE SAUDE SESA</td>\n",
              "      <td>ATIVO</td>\n",
              "      <td>17190.74</td>\n",
              "      <td>6617.87</td>\n",
              "      <td>10572.87</td>\n",
              "    </tr>\n",
              "    <tr>\n",
              "      <th>814</th>\n",
              "      <td>11</td>\n",
              "      <td>AGENTE POLÍTICO</td>\n",
              "      <td>PREFEITO</td>\n",
              "      <td>PAÇO</td>\n",
              "      <td>PREFEITO</td>\n",
              "      <td>ATIVO</td>\n",
              "      <td>17190.74</td>\n",
              "      <td>6920.30</td>\n",
              "      <td>10270.44</td>\n",
              "    </tr>\n",
              "    <tr>\n",
              "      <th>1710</th>\n",
              "      <td>12151</td>\n",
              "      <td>ESTATUTÁRIO</td>\n",
              "      <td>UPA CENTRAL</td>\n",
              "      <td>PAÇO</td>\n",
              "      <td>MEDICO PLANTONISTA</td>\n",
              "      <td>ATIVO</td>\n",
              "      <td>14826.12</td>\n",
              "      <td>5624.02</td>\n",
              "      <td>9202.10</td>\n",
              "    </tr>\n",
              "    <tr>\n",
              "      <th>1540</th>\n",
              "      <td>13592</td>\n",
              "      <td>ESTATUTÁRIO</td>\n",
              "      <td>UPA CENTRAL</td>\n",
              "      <td>PAÇO</td>\n",
              "      <td>MEDICO PLANTONISTA</td>\n",
              "      <td>ATIVO</td>\n",
              "      <td>16623.37</td>\n",
              "      <td>9273.31</td>\n",
              "      <td>7350.06</td>\n",
              "    </tr>\n",
              "    <tr>\n",
              "      <th>1979</th>\n",
              "      <td>12403</td>\n",
              "      <td>ESTATUTÁRIO</td>\n",
              "      <td>UPA CENTRAL</td>\n",
              "      <td>PAÇO</td>\n",
              "      <td>MEDICO PLANTONISTA</td>\n",
              "      <td>ATIVO</td>\n",
              "      <td>15225.59</td>\n",
              "      <td>8090.54</td>\n",
              "      <td>7135.05</td>\n",
              "    </tr>\n",
              "    <tr>\n",
              "      <th>1754</th>\n",
              "      <td>14148</td>\n",
              "      <td>ESTATUTÁRIO</td>\n",
              "      <td>UPA CENTRAL</td>\n",
              "      <td>PAÇO</td>\n",
              "      <td>MEDICO PLANTONISTA</td>\n",
              "      <td>ATIVO</td>\n",
              "      <td>15997.24</td>\n",
              "      <td>8867.87</td>\n",
              "      <td>7129.37</td>\n",
              "    </tr>\n",
              "    <tr>\n",
              "      <th>1519</th>\n",
              "      <td>11001</td>\n",
              "      <td>ESTATUTÁRIO</td>\n",
              "      <td>EMEIEF ANTONIO MARCIANO</td>\n",
              "      <td>EMEIEF  ANTONIO MARCIANO</td>\n",
              "      <td>DIRETOR DE ESCOLA ED BASICA</td>\n",
              "      <td>ATIVO</td>\n",
              "      <td>14578.03</td>\n",
              "      <td>7756.07</td>\n",
              "      <td>6821.96</td>\n",
              "    </tr>\n",
              "    <tr>\n",
              "      <th>724</th>\n",
              "      <td>12268</td>\n",
              "      <td>ESTATUTÁRIO</td>\n",
              "      <td>UPA CENTRAL</td>\n",
              "      <td>PAÇO</td>\n",
              "      <td>MEDICO PLANTONISTA</td>\n",
              "      <td>ATIVO</td>\n",
              "      <td>17101.16</td>\n",
              "      <td>10286.77</td>\n",
              "      <td>6814.39</td>\n",
              "    </tr>\n",
              "    <tr>\n",
              "      <th>2295</th>\n",
              "      <td>12864</td>\n",
              "      <td>ESTATUTÁRIO</td>\n",
              "      <td>UPA CENTRAL</td>\n",
              "      <td>PAÇO</td>\n",
              "      <td>MEDICO PLANTONISTA</td>\n",
              "      <td>ATIVO</td>\n",
              "      <td>15445.05</td>\n",
              "      <td>8663.72</td>\n",
              "      <td>6781.33</td>\n",
              "    </tr>\n",
              "    <tr>\n",
              "      <th>399</th>\n",
              "      <td>11551</td>\n",
              "      <td>ESTATUTÁRIO</td>\n",
              "      <td>UPA CENTRAL</td>\n",
              "      <td>PAÇO</td>\n",
              "      <td>MEDICO PLANTONISTA</td>\n",
              "      <td>ATIVO</td>\n",
              "      <td>16822.44</td>\n",
              "      <td>10152.13</td>\n",
              "      <td>6670.31</td>\n",
              "    </tr>\n",
              "  </tbody>\n",
              "</table>\n",
              "</div>"
            ],
            "text/plain": [
              "     matricula    tipo_de_vinculo  ...   liquido  desconto\n",
              "1836     11659  CARGO EM COMISSÃO  ...   6617.87  10572.87\n",
              "814         11    AGENTE POLÍTICO  ...   6920.30  10270.44\n",
              "1710     12151        ESTATUTÁRIO  ...   5624.02   9202.10\n",
              "1540     13592        ESTATUTÁRIO  ...   9273.31   7350.06\n",
              "1979     12403        ESTATUTÁRIO  ...   8090.54   7135.05\n",
              "1754     14148        ESTATUTÁRIO  ...   8867.87   7129.37\n",
              "1519     11001        ESTATUTÁRIO  ...   7756.07   6821.96\n",
              "724      12268        ESTATUTÁRIO  ...  10286.77   6814.39\n",
              "2295     12864        ESTATUTÁRIO  ...   8663.72   6781.33\n",
              "399      11551        ESTATUTÁRIO  ...  10152.13   6670.31\n",
              "\n",
              "[10 rows x 9 columns]"
            ]
          },
          "metadata": {
            "tags": []
          },
          "execution_count": 70
        }
      ]
    },
    {
      "cell_type": "code",
      "metadata": {
        "id": "vGz2bZxgsTd4",
        "colab_type": "code",
        "outputId": "e2cd216d-a2eb-4cce-c60a-5c04495ff87a",
        "colab": {
          "base_uri": "https://localhost:8080/",
          "height": 34
        }
      },
      "source": [
        "print('Os vinte maiores recebíveis liquido. Total: {0} registros, R$ {1} desconto.'.format(len(vecto_mes), round(desconto['desconto'].sum(),2)))"
      ],
      "execution_count": 0,
      "outputs": [
        {
          "output_type": "stream",
          "text": [
            "Os vinte maiores recebíveis liquido. Total: 10 registros, R$ 78747.88 desconto.\n"
          ],
          "name": "stdout"
        }
      ]
    }
  ]
}
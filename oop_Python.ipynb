{
  "nbformat": 4,
  "nbformat_minor": 0,
  "metadata": {
    "colab": {
      "name": "oop-Python.ipynb",
      "provenance": [],
      "collapsed_sections": [],
      "include_colab_link": true
    },
    "kernelspec": {
      "name": "python3",
      "display_name": "Python 3"
    }
  },
  "cells": [
    {
      "cell_type": "markdown",
      "metadata": {
        "id": "view-in-github",
        "colab_type": "text"
      },
      "source": [
        "<a href=\"https://colab.research.google.com/github/Andrade-Douglas/Data-Science/blob/master/oop_Python.ipynb\" target=\"_parent\"><img src=\"https://colab.research.google.com/assets/colab-badge.svg\" alt=\"Open In Colab\"/></a>"
      ]
    },
    {
      "cell_type": "code",
      "metadata": {
        "colab_type": "code",
        "id": "MoSOpJAb7YLc",
        "colab": {}
      },
      "source": [
        "from google.colab import drive\n",
        "drive.mount('gdrive')\n",
        "%cd /gdrive"
      ],
      "execution_count": 0,
      "outputs": []
    },
    {
      "cell_type": "markdown",
      "metadata": {
        "id": "_KT0Y_Wlku-Y",
        "colab_type": "text"
      },
      "source": [
        "Criando Classe "
      ]
    },
    {
      "cell_type": "code",
      "metadata": {
        "id": "dvImFNqGieHs",
        "colab_type": "code",
        "colab": {}
      },
      "source": [
        "class Mother:\n",
        "  def __init__(self):\n",
        "    self.name = 'Cida'\n",
        "    self.height = 1.65\n",
        "    self.address = 'Street at Flowers'\n",
        "    self.color_eyes = 'Green'\n",
        "  \n",
        "class Daugther:\n",
        "  name = 'Débora'"
      ],
      "execution_count": 0,
      "outputs": []
    },
    {
      "cell_type": "markdown",
      "metadata": {
        "id": "kQCs0L7Rk0GI",
        "colab_type": "text"
      },
      "source": [
        "Instância"
      ]
    },
    {
      "cell_type": "code",
      "metadata": {
        "id": "E38jcPWPkDC1",
        "colab_type": "code",
        "colab": {}
      },
      "source": [
        "mae = Mother()"
      ],
      "execution_count": 0,
      "outputs": []
    },
    {
      "cell_type": "code",
      "metadata": {
        "id": "arVWnG80jpPO",
        "colab_type": "code",
        "colab": {}
      },
      "source": [
        "filha = Daugther()"
      ],
      "execution_count": 0,
      "outputs": []
    },
    {
      "cell_type": "markdown",
      "metadata": {
        "id": "_VBSWDiek2nY",
        "colab_type": "text"
      },
      "source": [
        "Resultado"
      ]
    },
    {
      "cell_type": "code",
      "metadata": {
        "id": "VXG_gHABjwDU",
        "colab_type": "code",
        "colab": {
          "base_uri": "https://localhost:8080/",
          "height": 34
        },
        "outputId": "e2335bcd-b172-4838-b12d-c69a840bd5e8"
      },
      "source": [
        "print(mae.name)"
      ],
      "execution_count": 24,
      "outputs": [
        {
          "output_type": "stream",
          "text": [
            "Cida\n"
          ],
          "name": "stdout"
        }
      ]
    },
    {
      "cell_type": "code",
      "metadata": {
        "id": "VTBQuwdsjrYU",
        "colab_type": "code",
        "colab": {
          "base_uri": "https://localhost:8080/",
          "height": 34
        },
        "outputId": "d169663c-0889-4222-d0ba-7955dec18239"
      },
      "source": [
        "print(filha.name)"
      ],
      "execution_count": 25,
      "outputs": [
        {
          "output_type": "stream",
          "text": [
            "Débora\n"
          ],
          "name": "stdout"
        }
      ]
    },
    {
      "cell_type": "code",
      "metadata": {
        "id": "y6gkVUUejz9U",
        "colab_type": "code",
        "colab": {
          "base_uri": "https://localhost:8080/",
          "height": 34
        },
        "outputId": "8b704f62-a8f7-4648-c9ef-d1eb1dddb170"
      },
      "source": [
        "print(mae.color_eyes)"
      ],
      "execution_count": 26,
      "outputs": [
        {
          "output_type": "stream",
          "text": [
            "Green\n"
          ],
          "name": "stdout"
        }
      ]
    },
    {
      "cell_type": "markdown",
      "metadata": {
        "id": "ylfbK3-hk6lo",
        "colab_type": "text"
      },
      "source": [
        "Não encontrou atributo do objeto"
      ]
    },
    {
      "cell_type": "code",
      "metadata": {
        "id": "5Ami6-YCkIK8",
        "colab_type": "code",
        "colab": {
          "base_uri": "https://localhost:8080/",
          "height": 163
        },
        "outputId": "64326be9-e15d-4ed3-8f19-5901ca64de3b"
      },
      "source": [
        "print(filha.color_eyes)"
      ],
      "execution_count": 27,
      "outputs": [
        {
          "output_type": "error",
          "ename": "AttributeError",
          "evalue": "ignored",
          "traceback": [
            "\u001b[0;31m---------------------------------------------------------------------------\u001b[0m",
            "\u001b[0;31mAttributeError\u001b[0m                            Traceback (most recent call last)",
            "\u001b[0;32m<ipython-input-27-1f3a134ab691>\u001b[0m in \u001b[0;36m<module>\u001b[0;34m()\u001b[0m\n\u001b[0;32m----> 1\u001b[0;31m \u001b[0mprint\u001b[0m\u001b[0;34m(\u001b[0m\u001b[0mfilha\u001b[0m\u001b[0;34m.\u001b[0m\u001b[0mcolor_eyes\u001b[0m\u001b[0;34m)\u001b[0m\u001b[0;34m\u001b[0m\u001b[0;34m\u001b[0m\u001b[0m\n\u001b[0m",
            "\u001b[0;31mAttributeError\u001b[0m: 'Daugther' object has no attribute 'color_eyes'"
          ]
        }
      ]
    },
    {
      "cell_type": "markdown",
      "metadata": {
        "id": "kJCzeh5TlJML",
        "colab_type": "text"
      },
      "source": [
        "Herança: Herdando atributos do objeto (Classe) Mother"
      ]
    },
    {
      "cell_type": "code",
      "metadata": {
        "id": "RZUavjE0kLQ0",
        "colab_type": "code",
        "colab": {}
      },
      "source": [
        "class Daugther(Mother):\n",
        "  name = 'Debora'"
      ],
      "execution_count": 0,
      "outputs": []
    },
    {
      "cell_type": "code",
      "metadata": {
        "id": "gxpl2e01kckd",
        "colab_type": "code",
        "colab": {}
      },
      "source": [
        "filha = Daugther()"
      ],
      "execution_count": 0,
      "outputs": []
    },
    {
      "cell_type": "code",
      "metadata": {
        "id": "xqo9tXiMklGV",
        "colab_type": "code",
        "colab": {
          "base_uri": "https://localhost:8080/",
          "height": 34
        },
        "outputId": "aba39778-815e-457d-ca41-d921fca6ea68"
      },
      "source": [
        "print(filha.color_eyes)"
      ],
      "execution_count": 32,
      "outputs": [
        {
          "output_type": "stream",
          "text": [
            "Green\n"
          ],
          "name": "stdout"
        }
      ]
    }
  ]
}
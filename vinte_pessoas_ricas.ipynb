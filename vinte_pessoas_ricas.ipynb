{
  "nbformat": 4,
  "nbformat_minor": 0,
  "metadata": {
    "colab": {
      "name": "vinte_pessoas_ricas.ipynb",
      "provenance": [],
      "collapsed_sections": [],
      "toc_visible": true,
      "include_colab_link": true
    },
    "kernelspec": {
      "name": "python3",
      "display_name": "Python 3"
    }
  },
  "cells": [
    {
      "cell_type": "markdown",
      "metadata": {
        "id": "view-in-github",
        "colab_type": "text"
      },
      "source": [
        "<a href=\"https://colab.research.google.com/github/Andrade-Douglas/Data-Science/blob/master/vinte_pessoas_ricas.ipynb\" target=\"_parent\"><img src=\"https://colab.research.google.com/assets/colab-badge.svg\" alt=\"Open In Colab\"/></a>"
      ]
    },
    {
      "cell_type": "markdown",
      "metadata": {
        "id": "76H2biTOcQbB",
        "colab_type": "text"
      },
      "source": [
        "# **As 20 pessoas mais ricas do planeta**\n",
        "url: https://www.infomoney.com\n",
        "\n",
        "data: [clique aqui](https://www.infomoney.com.br/carreira/gestao-e-lideranca/noticia/7968899/as-20-pessoas-mais-ricas-do-mundo-segundo-a-forbes-)"
      ]
    },
    {
      "cell_type": "code",
      "metadata": {
        "id": "obOuci5RcL9s",
        "colab_type": "code",
        "colab": {
          "base_uri": "https://localhost:8080/",
          "height": 17
        },
        "outputId": "92bb8eee-2b1f-453e-b654-4192b4205f29"
      },
      "source": [
        "import pandas as pd\n",
        "import numpy as np\n",
        "import plotly.offline as py\n",
        "import plotly.graph_objs as go\n",
        "py.init_notebook_mode(connected=True)"
      ],
      "execution_count": 1,
      "outputs": [
        {
          "output_type": "display_data",
          "data": {
            "text/html": [
              "        <script type=\"text/javascript\">\n",
              "        window.PlotlyConfig = {MathJaxConfig: 'local'};\n",
              "        if (window.MathJax) {MathJax.Hub.Config({SVG: {font: \"STIX-Web\"}});}\n",
              "        if (typeof require !== 'undefined') {\n",
              "        require.undef(\"plotly\");\n",
              "        requirejs.config({\n",
              "            paths: {\n",
              "                'plotly': ['https://cdn.plot.ly/plotly-latest.min']\n",
              "            }\n",
              "        });\n",
              "        require(['plotly'], function(Plotly) {\n",
              "            window._Plotly = Plotly;\n",
              "        });\n",
              "        }\n",
              "        </script>\n",
              "        "
            ]
          },
          "metadata": {
            "tags": []
          }
        }
      ]
    },
    {
      "cell_type": "code",
      "metadata": {
        "id": "Sd4enfg0clDo",
        "colab_type": "code",
        "colab": {}
      },
      "source": [
        "import requests\n",
        "from bs4 import BeautifulSoup"
      ],
      "execution_count": 0,
      "outputs": []
    },
    {
      "cell_type": "code",
      "metadata": {
        "id": "gj24A4hLc3LG",
        "colab_type": "code",
        "colab": {
          "base_uri": "https://localhost:8080/",
          "height": 105
        },
        "outputId": "ef981f1f-1e71-477b-dd2a-81470830e112"
      },
      "source": [
        "# realizando chamada do site\n",
        "\n",
        "response = requests.get('https://www.infomoney.com.br/carreira/gestao-e-lideranca/noticia/7968899/as-20-pessoas-mais-ricas-do-mundo-segundo-a-forbes-')\n",
        "print(response.text[0:500])"
      ],
      "execution_count": 3,
      "outputs": [
        {
          "output_type": "stream",
          "text": [
            "<!doctype html>\n",
            "<html lang=\"pt-BR\">\n",
            "<head>\n",
            "    <meta charset=\"UTF-8\"><script type=\"text/javascript\">window.NREUM||(NREUM={}),__nr_require=function(e,n,t){function r(t){if(!n[t]){var o=n[t]={exports:{}};e[t][0].call(o.exports,function(n){var o=e[t][1][n];return r(o||n)},o,o.exports)}return n[t].exports}if(\"function\"==typeof __nr_require)return __nr_require;for(var o=0;o<t.length;o++)r(t[o]);return r}({1:[function(e,n,t){function r(){}function o(e,n,t){return function(){return i(e,[c.now()].concat\n"
          ],
          "name": "stdout"
        }
      ]
    },
    {
      "cell_type": "code",
      "metadata": {
        "id": "6HSxUj06c5KG",
        "colab_type": "code",
        "colab": {}
      },
      "source": [
        "# atribuindo conteúdo para uma variável\n",
        "\n",
        "soup = BeautifulSoup(response.text,'html.parser')"
      ],
      "execution_count": 0,
      "outputs": []
    },
    {
      "cell_type": "code",
      "metadata": {
        "id": "qLU7XWXPc7y-",
        "colab_type": "code",
        "colab": {}
      },
      "source": [
        "# interagindo com todas as <table> do projeto\n",
        "\n",
        "all_table = soup.find_all('table')"
      ],
      "execution_count": 0,
      "outputs": []
    },
    {
      "cell_type": "code",
      "metadata": {
        "id": "oIf-RQX2c9jG",
        "colab_type": "code",
        "colab": {}
      },
      "source": [
        "# interagindo apenas com a parte significativa do projeto <table>\n",
        "\n",
        "table = soup.find('table', {'style':'border-collapse: collapse;width: 96.8295%;height: 928px'})"
      ],
      "execution_count": 0,
      "outputs": []
    },
    {
      "cell_type": "code",
      "metadata": {
        "id": "BHPOQxOWc_1P",
        "colab_type": "code",
        "colab": {
          "base_uri": "https://localhost:8080/",
          "height": 34
        },
        "outputId": "50e48b7a-c3fd-4b56-860f-205e66311309"
      },
      "source": [
        "# entendendo quantos elementos <td> temos\n",
        "\n",
        "results = soup.find_all('td')\n",
        "print('Quantidade de elemento <td> existente na árvore: {0} unidades.' .format(len(results)))"
      ],
      "execution_count": 27,
      "outputs": [
        {
          "output_type": "stream",
          "text": [
            "Quantidade de elemento <td> existente na árvore: 42 unidades.\n"
          ],
          "name": "stdout"
        }
      ]
    },
    {
      "cell_type": "code",
      "metadata": {
        "id": "NvfhfVoVdCOm",
        "colab_type": "code",
        "colab": {
          "base_uri": "https://localhost:8080/",
          "height": 85
        },
        "outputId": "6a1e2c1d-ac3a-489e-8fe2-4b1f6c48b4bf"
      },
      "source": [
        "# entendendo a estrutura da combinação dos elementos <td>\n",
        "\n",
        "results[0:4]"
      ],
      "execution_count": 28,
      "outputs": [
        {
          "output_type": "execute_result",
          "data": {
            "text/plain": [
              "[<td style=\"width: 41.4021%;height: 41px\"><strong>Nome </strong></td>,\n",
              " <td style=\"width: 33.5979%;height: 41px\"><strong>Patrimônio </strong></td>,\n",
              " <td style=\"width: 41.4021%;height: 40px\">1. Jeff Bezos, dono da Amazon</td>,\n",
              " <td style=\"width: 33.5979%;height: 40px\">US$ 131 bilhões </td>]"
            ]
          },
          "metadata": {
            "tags": []
          },
          "execution_count": 28
        }
      ]
    },
    {
      "cell_type": "code",
      "metadata": {
        "id": "IC3555M-dFO2",
        "colab_type": "code",
        "colab": {
          "base_uri": "https://localhost:8080/",
          "height": 51
        },
        "outputId": "3a2527e0-b5f8-4f05-c83b-1dab873e4317"
      },
      "source": [
        "# buscando todos o elementos <tr>\n",
        "\n",
        "table.findAll('tr')[:2]"
      ],
      "execution_count": 29,
      "outputs": [
        {
          "output_type": "execute_result",
          "data": {
            "text/plain": [
              "[<tr style=\"height: 41px\"><td style=\"width: 41.4021%;height: 41px\"><strong>Nome </strong></td><td style=\"width: 33.5979%;height: 41px\"><strong>Patrimônio </strong></td></tr>,\n",
              " <tr style=\"height: 40px\"><td style=\"width: 41.4021%;height: 40px\">1. Jeff Bezos, dono da Amazon</td><td style=\"width: 33.5979%;height: 40px\">US$ 131 bilhões </td></tr>]"
            ]
          },
          "metadata": {
            "tags": []
          },
          "execution_count": 29
        }
      ]
    },
    {
      "cell_type": "code",
      "metadata": {
        "id": "lfhyqlomdG5X",
        "colab_type": "code",
        "colab": {}
      },
      "source": [
        "# inserindo o conteúdo do site dentro das listas: nome e patrimonio\n",
        "\n",
        "nome = []\n",
        "patrimonio = []\n",
        "\n",
        "for row in table.findAll('tr'):\n",
        "    cells=row.findAll('td')\n",
        "    if len(cells)==2:\n",
        "        nome.append(cells[0].find(text=True))\n",
        "        patrimonio.append(cells[1].find(text=True))"
      ],
      "execution_count": 0,
      "outputs": []
    },
    {
      "cell_type": "code",
      "metadata": {
        "id": "8Qls1hTodPS2",
        "colab_type": "code",
        "colab": {
          "base_uri": "https://localhost:8080/",
          "height": 204
        },
        "outputId": "7770c621-5e11-4f91-e5cb-741a5350a5dd"
      },
      "source": [
        "# transformando em DataFrame os conteúdos das listas\n",
        "\n",
        "import pandas as pd\n",
        "df=pd.DataFrame(nome,columns=['name'])\n",
        "df['patrimony']=patrimonio\n",
        "df[:5]"
      ],
      "execution_count": 31,
      "outputs": [
        {
          "output_type": "execute_result",
          "data": {
            "text/html": [
              "<div>\n",
              "<style scoped>\n",
              "    .dataframe tbody tr th:only-of-type {\n",
              "        vertical-align: middle;\n",
              "    }\n",
              "\n",
              "    .dataframe tbody tr th {\n",
              "        vertical-align: top;\n",
              "    }\n",
              "\n",
              "    .dataframe thead th {\n",
              "        text-align: right;\n",
              "    }\n",
              "</style>\n",
              "<table border=\"1\" class=\"dataframe\">\n",
              "  <thead>\n",
              "    <tr style=\"text-align: right;\">\n",
              "      <th></th>\n",
              "      <th>name</th>\n",
              "      <th>patrimony</th>\n",
              "    </tr>\n",
              "  </thead>\n",
              "  <tbody>\n",
              "    <tr>\n",
              "      <th>0</th>\n",
              "      <td>Nome</td>\n",
              "      <td>Patrimônio</td>\n",
              "    </tr>\n",
              "    <tr>\n",
              "      <th>1</th>\n",
              "      <td>1. Jeff Bezos, dono da Amazon</td>\n",
              "      <td>US$ 131 bilhões</td>\n",
              "    </tr>\n",
              "    <tr>\n",
              "      <th>2</th>\n",
              "      <td>2. Bill Gates, dono da Microsoft</td>\n",
              "      <td>US$ 96,5 bilhões</td>\n",
              "    </tr>\n",
              "    <tr>\n",
              "      <th>3</th>\n",
              "      <td>3. Warren Buffett, investidor</td>\n",
              "      <td>US$ 82,5 bilhões</td>\n",
              "    </tr>\n",
              "    <tr>\n",
              "      <th>4</th>\n",
              "      <td>4. Bernard Arnault, presidente do grupo LVMH (...</td>\n",
              "      <td>US$ 76 bilhões</td>\n",
              "    </tr>\n",
              "  </tbody>\n",
              "</table>\n",
              "</div>"
            ],
            "text/plain": [
              "                                                name          patrimony\n",
              "0                                              Nome         Patrimônio \n",
              "1                      1. Jeff Bezos, dono da Amazon   US$ 131 bilhões \n",
              "2                  2. Bill Gates, dono da Microsoft   US$ 96,5 bilhões \n",
              "3                     3. Warren Buffett, investidor   US$ 82,5 bilhões \n",
              "4  4. Bernard Arnault, presidente do grupo LVMH (...    US$ 76 bilhões "
            ]
          },
          "metadata": {
            "tags": []
          },
          "execution_count": 31
        }
      ]
    },
    {
      "cell_type": "code",
      "metadata": {
        "id": "Mfk-3ex2e_rA",
        "colab_type": "code",
        "colab": {
          "base_uri": "https://localhost:8080/",
          "height": 204
        },
        "outputId": "e74b77e3-92f3-469d-d5d4-bde7ad89928d"
      },
      "source": [
        "# a coluna name possui informações como nome e ocupação. \n",
        "# Logo, usando a virgula iremos separá-las em duas colunas: name e employment\n",
        "\n",
        "divisao = df['name'].str.split(',')\n",
        "df['name'] = divisao.str.get(0)\n",
        "df['employment'] = divisao.str.get(1)\n",
        "df[:5]"
      ],
      "execution_count": 32,
      "outputs": [
        {
          "output_type": "execute_result",
          "data": {
            "text/html": [
              "<div>\n",
              "<style scoped>\n",
              "    .dataframe tbody tr th:only-of-type {\n",
              "        vertical-align: middle;\n",
              "    }\n",
              "\n",
              "    .dataframe tbody tr th {\n",
              "        vertical-align: top;\n",
              "    }\n",
              "\n",
              "    .dataframe thead th {\n",
              "        text-align: right;\n",
              "    }\n",
              "</style>\n",
              "<table border=\"1\" class=\"dataframe\">\n",
              "  <thead>\n",
              "    <tr style=\"text-align: right;\">\n",
              "      <th></th>\n",
              "      <th>name</th>\n",
              "      <th>patrimony</th>\n",
              "      <th>employment</th>\n",
              "    </tr>\n",
              "  </thead>\n",
              "  <tbody>\n",
              "    <tr>\n",
              "      <th>0</th>\n",
              "      <td>Nome</td>\n",
              "      <td>Patrimônio</td>\n",
              "      <td>NaN</td>\n",
              "    </tr>\n",
              "    <tr>\n",
              "      <th>1</th>\n",
              "      <td>1. Jeff Bezos</td>\n",
              "      <td>US$ 131 bilhões</td>\n",
              "      <td>dono da Amazon</td>\n",
              "    </tr>\n",
              "    <tr>\n",
              "      <th>2</th>\n",
              "      <td>2. Bill Gates</td>\n",
              "      <td>US$ 96,5 bilhões</td>\n",
              "      <td>dono da Microsoft</td>\n",
              "    </tr>\n",
              "    <tr>\n",
              "      <th>3</th>\n",
              "      <td>3. Warren Buffett</td>\n",
              "      <td>US$ 82,5 bilhões</td>\n",
              "      <td>investidor</td>\n",
              "    </tr>\n",
              "    <tr>\n",
              "      <th>4</th>\n",
              "      <td>4. Bernard Arnault</td>\n",
              "      <td>US$ 76 bilhões</td>\n",
              "      <td>presidente do grupo LVMH (Louis Vuitton e Sep...</td>\n",
              "    </tr>\n",
              "  </tbody>\n",
              "</table>\n",
              "</div>"
            ],
            "text/plain": [
              "                 name  ...                                         employment\n",
              "0               Nome   ...                                                NaN\n",
              "1       1. Jeff Bezos  ...                                     dono da Amazon\n",
              "2       2. Bill Gates  ...                                 dono da Microsoft \n",
              "3   3. Warren Buffett  ...                                        investidor \n",
              "4  4. Bernard Arnault  ...   presidente do grupo LVMH (Louis Vuitton e Sep...\n",
              "\n",
              "[5 rows x 3 columns]"
            ]
          },
          "metadata": {
            "tags": []
          },
          "execution_count": 32
        }
      ]
    },
    {
      "cell_type": "code",
      "metadata": {
        "id": "7AJfNPQwfCdX",
        "colab_type": "code",
        "colab": {
          "base_uri": "https://localhost:8080/",
          "height": 204
        },
        "outputId": "6939748f-f5bb-467d-f818-23fbed67ba28"
      },
      "source": [
        "# iremos separar a coluna patrimony em 3 colunas distintas: uss, number e qtd \n",
        "\n",
        "patrimonio = df['patrimony'].str.split(' ')\n",
        "df['uss'] = patrimonio.str.get(0)\n",
        "df['number'] = patrimonio.str.get(1)\n",
        "df['qtd'] = patrimonio.str.get(2)\n",
        "df[:5]"
      ],
      "execution_count": 33,
      "outputs": [
        {
          "output_type": "execute_result",
          "data": {
            "text/html": [
              "<div>\n",
              "<style scoped>\n",
              "    .dataframe tbody tr th:only-of-type {\n",
              "        vertical-align: middle;\n",
              "    }\n",
              "\n",
              "    .dataframe tbody tr th {\n",
              "        vertical-align: top;\n",
              "    }\n",
              "\n",
              "    .dataframe thead th {\n",
              "        text-align: right;\n",
              "    }\n",
              "</style>\n",
              "<table border=\"1\" class=\"dataframe\">\n",
              "  <thead>\n",
              "    <tr style=\"text-align: right;\">\n",
              "      <th></th>\n",
              "      <th>name</th>\n",
              "      <th>patrimony</th>\n",
              "      <th>employment</th>\n",
              "      <th>uss</th>\n",
              "      <th>number</th>\n",
              "      <th>qtd</th>\n",
              "    </tr>\n",
              "  </thead>\n",
              "  <tbody>\n",
              "    <tr>\n",
              "      <th>0</th>\n",
              "      <td>Nome</td>\n",
              "      <td>Patrimônio</td>\n",
              "      <td>NaN</td>\n",
              "      <td>Patrimônio</td>\n",
              "      <td>NaN</td>\n",
              "      <td>NaN</td>\n",
              "    </tr>\n",
              "    <tr>\n",
              "      <th>1</th>\n",
              "      <td>1. Jeff Bezos</td>\n",
              "      <td>US$ 131 bilhões</td>\n",
              "      <td>dono da Amazon</td>\n",
              "      <td>US$</td>\n",
              "      <td>131</td>\n",
              "      <td>bilhões</td>\n",
              "    </tr>\n",
              "    <tr>\n",
              "      <th>2</th>\n",
              "      <td>2. Bill Gates</td>\n",
              "      <td>US$ 96,5 bilhões</td>\n",
              "      <td>dono da Microsoft</td>\n",
              "      <td>US$</td>\n",
              "      <td>96,5</td>\n",
              "      <td>bilhões</td>\n",
              "    </tr>\n",
              "    <tr>\n",
              "      <th>3</th>\n",
              "      <td>3. Warren Buffett</td>\n",
              "      <td>US$ 82,5 bilhões</td>\n",
              "      <td>investidor</td>\n",
              "      <td>US$</td>\n",
              "      <td>82,5</td>\n",
              "      <td>bilhões</td>\n",
              "    </tr>\n",
              "    <tr>\n",
              "      <th>4</th>\n",
              "      <td>4. Bernard Arnault</td>\n",
              "      <td>US$ 76 bilhões</td>\n",
              "      <td>presidente do grupo LVMH (Louis Vuitton e Sep...</td>\n",
              "      <td>US$</td>\n",
              "      <td>76</td>\n",
              "      <td>bilhões</td>\n",
              "    </tr>\n",
              "  </tbody>\n",
              "</table>\n",
              "</div>"
            ],
            "text/plain": [
              "                 name          patrimony  ... number       qtd\n",
              "0               Nome         Patrimônio   ...    NaN       NaN\n",
              "1       1. Jeff Bezos   US$ 131 bilhões   ...    131  bilhões \n",
              "2       2. Bill Gates  US$ 96,5 bilhões   ...   96,5  bilhões \n",
              "3   3. Warren Buffett  US$ 82,5 bilhões   ...   82,5  bilhões \n",
              "4  4. Bernard Arnault    US$ 76 bilhões   ...     76  bilhões \n",
              "\n",
              "[5 rows x 6 columns]"
            ]
          },
          "metadata": {
            "tags": []
          },
          "execution_count": 33
        }
      ]
    },
    {
      "cell_type": "code",
      "metadata": {
        "id": "QjEz88TafEjY",
        "colab_type": "code",
        "colab": {
          "base_uri": "https://localhost:8080/",
          "height": 204
        },
        "outputId": "36eae40b-7afb-4630-a662-503073496649"
      },
      "source": [
        "# excluindo a antiga coluna patrimony\n",
        "\n",
        "df.drop('patrimony', axis = 1, inplace = True)\n",
        "\n",
        "# excluindo a primeira linha\n",
        "\n",
        "df.drop(0, inplace = True)\n",
        "df[:5]"
      ],
      "execution_count": 34,
      "outputs": [
        {
          "output_type": "execute_result",
          "data": {
            "text/html": [
              "<div>\n",
              "<style scoped>\n",
              "    .dataframe tbody tr th:only-of-type {\n",
              "        vertical-align: middle;\n",
              "    }\n",
              "\n",
              "    .dataframe tbody tr th {\n",
              "        vertical-align: top;\n",
              "    }\n",
              "\n",
              "    .dataframe thead th {\n",
              "        text-align: right;\n",
              "    }\n",
              "</style>\n",
              "<table border=\"1\" class=\"dataframe\">\n",
              "  <thead>\n",
              "    <tr style=\"text-align: right;\">\n",
              "      <th></th>\n",
              "      <th>name</th>\n",
              "      <th>employment</th>\n",
              "      <th>uss</th>\n",
              "      <th>number</th>\n",
              "      <th>qtd</th>\n",
              "    </tr>\n",
              "  </thead>\n",
              "  <tbody>\n",
              "    <tr>\n",
              "      <th>1</th>\n",
              "      <td>1. Jeff Bezos</td>\n",
              "      <td>dono da Amazon</td>\n",
              "      <td>US$</td>\n",
              "      <td>131</td>\n",
              "      <td>bilhões</td>\n",
              "    </tr>\n",
              "    <tr>\n",
              "      <th>2</th>\n",
              "      <td>2. Bill Gates</td>\n",
              "      <td>dono da Microsoft</td>\n",
              "      <td>US$</td>\n",
              "      <td>96,5</td>\n",
              "      <td>bilhões</td>\n",
              "    </tr>\n",
              "    <tr>\n",
              "      <th>3</th>\n",
              "      <td>3. Warren Buffett</td>\n",
              "      <td>investidor</td>\n",
              "      <td>US$</td>\n",
              "      <td>82,5</td>\n",
              "      <td>bilhões</td>\n",
              "    </tr>\n",
              "    <tr>\n",
              "      <th>4</th>\n",
              "      <td>4. Bernard Arnault</td>\n",
              "      <td>presidente do grupo LVMH (Louis Vuitton e Sep...</td>\n",
              "      <td>US$</td>\n",
              "      <td>76</td>\n",
              "      <td>bilhões</td>\n",
              "    </tr>\n",
              "    <tr>\n",
              "      <th>5</th>\n",
              "      <td>5. Carlos Slim</td>\n",
              "      <td>dono da America Movil (controladora da Claro ...</td>\n",
              "      <td>US$</td>\n",
              "      <td>64</td>\n",
              "      <td>bilhões</td>\n",
              "    </tr>\n",
              "  </tbody>\n",
              "</table>\n",
              "</div>"
            ],
            "text/plain": [
              "                 name  ...       qtd\n",
              "1       1. Jeff Bezos  ...  bilhões \n",
              "2       2. Bill Gates  ...  bilhões \n",
              "3   3. Warren Buffett  ...  bilhões \n",
              "4  4. Bernard Arnault  ...  bilhões \n",
              "5      5. Carlos Slim  ...  bilhões \n",
              "\n",
              "[5 rows x 5 columns]"
            ]
          },
          "metadata": {
            "tags": []
          },
          "execution_count": 34
        }
      ]
    },
    {
      "cell_type": "code",
      "metadata": {
        "id": "jyHJLpYOfGTo",
        "colab_type": "code",
        "colab": {
          "base_uri": "https://localhost:8080/",
          "height": 119
        },
        "outputId": "f4968db8-1e54-4e33-f134-06438bcb406f"
      },
      "source": [
        "# descobrindo o tipo de cada coluna\n",
        "\n",
        "df.dtypes"
      ],
      "execution_count": 35,
      "outputs": [
        {
          "output_type": "execute_result",
          "data": {
            "text/plain": [
              "name          object\n",
              "employment    object\n",
              "uss           object\n",
              "number        object\n",
              "qtd           object\n",
              "dtype: object"
            ]
          },
          "metadata": {
            "tags": []
          },
          "execution_count": 35
        }
      ]
    },
    {
      "cell_type": "code",
      "metadata": {
        "id": "rA_RSG-bfHzY",
        "colab_type": "code",
        "colab": {
          "base_uri": "https://localhost:8080/",
          "height": 204
        },
        "outputId": "07b22370-8c6c-4c5c-899b-94e1c8883dbf"
      },
      "source": [
        "# para trabalharmos com números temos que converter a coluna number dê object para float\n",
        "\n",
        "df['number'] = df[\"number\"].str.replace(',', \".\").astype(float)\n",
        "df[:5]"
      ],
      "execution_count": 36,
      "outputs": [
        {
          "output_type": "execute_result",
          "data": {
            "text/html": [
              "<div>\n",
              "<style scoped>\n",
              "    .dataframe tbody tr th:only-of-type {\n",
              "        vertical-align: middle;\n",
              "    }\n",
              "\n",
              "    .dataframe tbody tr th {\n",
              "        vertical-align: top;\n",
              "    }\n",
              "\n",
              "    .dataframe thead th {\n",
              "        text-align: right;\n",
              "    }\n",
              "</style>\n",
              "<table border=\"1\" class=\"dataframe\">\n",
              "  <thead>\n",
              "    <tr style=\"text-align: right;\">\n",
              "      <th></th>\n",
              "      <th>name</th>\n",
              "      <th>employment</th>\n",
              "      <th>uss</th>\n",
              "      <th>number</th>\n",
              "      <th>qtd</th>\n",
              "    </tr>\n",
              "  </thead>\n",
              "  <tbody>\n",
              "    <tr>\n",
              "      <th>1</th>\n",
              "      <td>1. Jeff Bezos</td>\n",
              "      <td>dono da Amazon</td>\n",
              "      <td>US$</td>\n",
              "      <td>131.0</td>\n",
              "      <td>bilhões</td>\n",
              "    </tr>\n",
              "    <tr>\n",
              "      <th>2</th>\n",
              "      <td>2. Bill Gates</td>\n",
              "      <td>dono da Microsoft</td>\n",
              "      <td>US$</td>\n",
              "      <td>96.5</td>\n",
              "      <td>bilhões</td>\n",
              "    </tr>\n",
              "    <tr>\n",
              "      <th>3</th>\n",
              "      <td>3. Warren Buffett</td>\n",
              "      <td>investidor</td>\n",
              "      <td>US$</td>\n",
              "      <td>82.5</td>\n",
              "      <td>bilhões</td>\n",
              "    </tr>\n",
              "    <tr>\n",
              "      <th>4</th>\n",
              "      <td>4. Bernard Arnault</td>\n",
              "      <td>presidente do grupo LVMH (Louis Vuitton e Sep...</td>\n",
              "      <td>US$</td>\n",
              "      <td>76.0</td>\n",
              "      <td>bilhões</td>\n",
              "    </tr>\n",
              "    <tr>\n",
              "      <th>5</th>\n",
              "      <td>5. Carlos Slim</td>\n",
              "      <td>dono da America Movil (controladora da Claro ...</td>\n",
              "      <td>US$</td>\n",
              "      <td>64.0</td>\n",
              "      <td>bilhões</td>\n",
              "    </tr>\n",
              "  </tbody>\n",
              "</table>\n",
              "</div>"
            ],
            "text/plain": [
              "                 name  ...       qtd\n",
              "1       1. Jeff Bezos  ...  bilhões \n",
              "2       2. Bill Gates  ...  bilhões \n",
              "3   3. Warren Buffett  ...  bilhões \n",
              "4  4. Bernard Arnault  ...  bilhões \n",
              "5      5. Carlos Slim  ...  bilhões \n",
              "\n",
              "[5 rows x 5 columns]"
            ]
          },
          "metadata": {
            "tags": []
          },
          "execution_count": 36
        }
      ]
    },
    {
      "cell_type": "code",
      "metadata": {
        "id": "0FgbI1ntfJwY",
        "colab_type": "code",
        "colab": {
          "base_uri": "https://localhost:8080/",
          "height": 297
        },
        "outputId": "3440b01c-7e12-4a58-f249-9c2dbd639162"
      },
      "source": [
        "# inserindo informações em uma variável\n",
        "\n",
        "df_estatistico = round(df.describe(), 2)\n",
        "df_estatistico"
      ],
      "execution_count": 37,
      "outputs": [
        {
          "output_type": "execute_result",
          "data": {
            "text/html": [
              "<div>\n",
              "<style scoped>\n",
              "    .dataframe tbody tr th:only-of-type {\n",
              "        vertical-align: middle;\n",
              "    }\n",
              "\n",
              "    .dataframe tbody tr th {\n",
              "        vertical-align: top;\n",
              "    }\n",
              "\n",
              "    .dataframe thead th {\n",
              "        text-align: right;\n",
              "    }\n",
              "</style>\n",
              "<table border=\"1\" class=\"dataframe\">\n",
              "  <thead>\n",
              "    <tr style=\"text-align: right;\">\n",
              "      <th></th>\n",
              "      <th>number</th>\n",
              "    </tr>\n",
              "  </thead>\n",
              "  <tbody>\n",
              "    <tr>\n",
              "      <th>count</th>\n",
              "      <td>20.00</td>\n",
              "    </tr>\n",
              "    <tr>\n",
              "      <th>mean</th>\n",
              "      <td>60.36</td>\n",
              "    </tr>\n",
              "    <tr>\n",
              "      <th>std</th>\n",
              "      <td>22.13</td>\n",
              "    </tr>\n",
              "    <tr>\n",
              "      <th>min</th>\n",
              "      <td>38.80</td>\n",
              "    </tr>\n",
              "    <tr>\n",
              "      <th>25%</th>\n",
              "      <td>48.12</td>\n",
              "    </tr>\n",
              "    <tr>\n",
              "      <th>50%</th>\n",
              "      <td>50.65</td>\n",
              "    </tr>\n",
              "    <tr>\n",
              "      <th>75%</th>\n",
              "      <td>63.03</td>\n",
              "    </tr>\n",
              "    <tr>\n",
              "      <th>max</th>\n",
              "      <td>131.00</td>\n",
              "    </tr>\n",
              "  </tbody>\n",
              "</table>\n",
              "</div>"
            ],
            "text/plain": [
              "       number\n",
              "count   20.00\n",
              "mean    60.36\n",
              "std     22.13\n",
              "min     38.80\n",
              "25%     48.12\n",
              "50%     50.65\n",
              "75%     63.03\n",
              "max    131.00"
            ]
          },
          "metadata": {
            "tags": []
          },
          "execution_count": 37
        }
      ]
    },
    {
      "cell_type": "code",
      "metadata": {
        "id": "VwLB0lt7ftHy",
        "colab_type": "code",
        "colab": {
          "base_uri": "https://localhost:8080/",
          "height": 139
        },
        "outputId": "ba88cf6e-a40a-4a12-baa6-20ee9c7e3662"
      },
      "source": [
        "from google.colab import drive\n",
        "drive.mount('/gdrive')\n",
        "%cd /gdrive"
      ],
      "execution_count": 42,
      "outputs": [
        {
          "output_type": "stream",
          "text": [
            "Go to this URL in a browser: https://accounts.google.com/o/oauth2/auth?client_id=947318989803-6bn6qk8qdgf4n4g3pfee6491hc0brc4i.apps.googleusercontent.com&redirect_uri=urn%3Aietf%3Awg%3Aoauth%3A2.0%3Aoob&scope=email%20https%3A%2F%2Fwww.googleapis.com%2Fauth%2Fdocs.test%20https%3A%2F%2Fwww.googleapis.com%2Fauth%2Fdrive%20https%3A%2F%2Fwww.googleapis.com%2Fauth%2Fdrive.photos.readonly%20https%3A%2F%2Fwww.googleapis.com%2Fauth%2Fpeopleapi.readonly&response_type=code\n",
            "\n",
            "Enter your authorization code:\n",
            "··········\n",
            "Mounted at /gdrive\n",
            "/gdrive\n"
          ],
          "name": "stdout"
        }
      ]
    },
    {
      "cell_type": "code",
      "metadata": {
        "id": "kIEbUCtYfLMw",
        "colab_type": "code",
        "colab": {}
      },
      "source": [
        "# salvando informações\n",
        "df.to_csv('/gdrive/My Drive/Colab Notebooks/Datasets/rich_20.csv')\n",
        "df_estatistico.to_csv('/gdrive/My Drive/Colab Notebooks/Datasets/rich_20_estatistico.csv')"
      ],
      "execution_count": 0,
      "outputs": []
    }
  ]
}
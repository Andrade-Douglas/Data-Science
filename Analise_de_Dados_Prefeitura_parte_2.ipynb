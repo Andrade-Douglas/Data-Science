{
  "nbformat": 4,
  "nbformat_minor": 0,
  "metadata": {
    "kernelspec": {
      "display_name": "Python 3",
      "language": "python",
      "name": "python3"
    },
    "language_info": {
      "codemirror_mode": {
        "name": "ipython",
        "version": 3
      },
      "file_extension": ".py",
      "mimetype": "text/x-python",
      "name": "python",
      "nbconvert_exporter": "python",
      "pygments_lexer": "ipython3",
      "version": "3.6.5"
    },
    "colab": {
      "name": "Analise_de_Dados_Prefeitura_parte_2.ipynb",
      "provenance": [],
      "collapsed_sections": [],
      "toc_visible": true,
      "include_colab_link": true
    }
  },
  "cells": [
    {
      "cell_type": "markdown",
      "metadata": {
        "id": "view-in-github",
        "colab_type": "text"
      },
      "source": [
        "<a href=\"https://colab.research.google.com/github/Andrade-Douglas/Data-Science/blob/master/Analise_de_Dados_Prefeitura_parte_2.ipynb\" target=\"_parent\"><img src=\"https://colab.research.google.com/assets/colab-badge.svg\" alt=\"Open In Colab\"/></a>"
      ]
    },
    {
      "cell_type": "markdown",
      "metadata": {
        "id": "f_sF_DdUnrqC",
        "colab_type": "text"
      },
      "source": [
        "# Projeto: Folha de Pagamento Prefeitura\n",
        "##### Fonte: https://www.votorantim.sp.gov.br/portal/transparencia\n",
        "\n",
        "##### Fonte de Dados: Folha de Pagamento [clique aqui](https://www.votorantim.sp.gov.br/portal/transparencia/121/2019/)\n",
        "\n",
        "##### Fonte de Dados: Relação de Servidores [clique aqui](http://s2.asp.srv.br/etransparencia.pm.votorantim.sp/servlet/wwpessoalservidor?4RjsYr9qVYuX_DVvfJ5jqa_01JYuFyZUMqEhneWx_YHSxoLnlrC_+vDnHQ2LtVXV) \n",
        " "
      ]
    },
    {
      "cell_type": "markdown",
      "metadata": {
        "colab_type": "text",
        "id": "Ya0b92-gnRky"
      },
      "source": [
        "#### Após inserir uma nova coluna iremos começar a filtrar os dados. \n",
        "#### Tipo de Vínculo igual Estatutário e líquido maior ou igual a 10.000\n"
      ]
    },
    {
      "cell_type": "code",
      "metadata": {
        "colab_type": "code",
        "outputId": "cf2520b9-33fb-4390-db71-10d0683569e3",
        "id": "zuuDfJSTnQbc",
        "colab": {
          "base_uri": "https://localhost:8080/",
          "height": 34
        }
      },
      "source": [
        "estatutario = df_df2.loc[(df_df2['tipo_de_vinculo'] == 'ESTATUTÁRIO') & (df_df2['liquido'] >= 10000)].sort_values('liquido', ascending = False)\n",
        "print('Tipo de Vínculo igual Estatutário e líquido igual ou maior que 10.000. Total registros: {0} e somatória do liquido: {1}.'.format(len(estatutario), round(estatutario['liquido'].sum(),2)))"
      ],
      "execution_count": 0,
      "outputs": [
        {
          "output_type": "stream",
          "text": [
            "Tipo de Vínculo igual Estatutário e líquido igual ou maior que 10.000. Total registros: 22 e somatória do liquido: 252565.57.\n"
          ],
          "name": "stdout"
        }
      ]
    },
    {
      "cell_type": "code",
      "metadata": {
        "id": "5lrVORllsjaR",
        "colab_type": "code",
        "outputId": "62a5685e-49a7-4ff0-8f46-54e2320c4ade",
        "colab": {
          "base_uri": "https://localhost:8080/",
          "height": 462
        }
      },
      "source": [
        "import seaborn as sns\n",
        " \n",
        "sns.regplot(x=estatutario[\"vecto_mes\"], y=estatutario[\"desconto\"])\n",
        "#sns.plt.show()\n",
        " \n",
        "# Without regression fit:\n",
        "sns.regplot(x=estatutario[\"vecto_mes\"], y=estatutario[\"desconto\"], fit_reg=False)\n",
        "#sns.plt.show()"
      ],
      "execution_count": 0,
      "outputs": [
        {
          "output_type": "execute_result",
          "data": {
            "text/plain": [
              "<matplotlib.axes._subplots.AxesSubplot at 0x7ff2318669b0>"
            ]
          },
          "metadata": {
            "tags": []
          },
          "execution_count": 73
        },
        {
          "output_type": "display_data",
          "data": {
            "image/png": "[encoded data removed]",
            "text/plain": [
              "<Figure size 792x504 with 1 Axes>"
            ]
          },
          "metadata": {
            "tags": []
          }
        }
      ]
    },
    {
      "cell_type": "code",
      "metadata": {
        "id": "6ZZxAYwCteOD",
        "colab_type": "code",
        "outputId": "081698c8-a09e-4318-f7af-1fda133dce7e",
        "colab": {
          "base_uri": "https://localhost:8080/",
          "height": 204
        }
      },
      "source": [
        "estatutario[(estatutario['vecto_mes'] >= 15000) & (estatutario['desconto'] <= 4500) ^ (estatutario['vecto_mes'] >= 16000) & (estatutario['desconto'] >= 6500)]"
      ],
      "execution_count": 0,
      "outputs": [
        {
          "output_type": "execute_result",
          "data": {
            "text/html": [
              "<div>\n",
              "<style scoped>\n",
              "    .dataframe tbody tr th:only-of-type {\n",
              "        vertical-align: middle;\n",
              "    }\n",
              "\n",
              "    .dataframe tbody tr th {\n",
              "        vertical-align: top;\n",
              "    }\n",
              "\n",
              "    .dataframe thead th {\n",
              "        text-align: right;\n",
              "    }\n",
              "</style>\n",
              "<table border=\"1\" class=\"dataframe\">\n",
              "  <thead>\n",
              "    <tr style=\"text-align: right;\">\n",
              "      <th></th>\n",
              "      <th>matricula</th>\n",
              "      <th>tipo_de_vinculo</th>\n",
              "      <th>lotacao</th>\n",
              "      <th>local_de_trabalho</th>\n",
              "      <th>cargo</th>\n",
              "      <th>situacao</th>\n",
              "      <th>vecto_mes</th>\n",
              "      <th>liquido</th>\n",
              "      <th>desconto</th>\n",
              "    </tr>\n",
              "  </thead>\n",
              "  <tbody>\n",
              "    <tr>\n",
              "      <th>2143</th>\n",
              "      <td>10661</td>\n",
              "      <td>ESTATUTÁRIO</td>\n",
              "      <td>SERVICO DE PESSOAL</td>\n",
              "      <td>PAÇO</td>\n",
              "      <td>ESCRITURARIO</td>\n",
              "      <td>ATIVO</td>\n",
              "      <td>22257.78</td>\n",
              "      <td>20716.24</td>\n",
              "      <td>1541.54</td>\n",
              "    </tr>\n",
              "    <tr>\n",
              "      <th>520</th>\n",
              "      <td>14147</td>\n",
              "      <td>ESTATUTÁRIO</td>\n",
              "      <td>UPA CENTRAL</td>\n",
              "      <td>PAÇO</td>\n",
              "      <td>MEDICO PLANTONISTA</td>\n",
              "      <td>ATIVO</td>\n",
              "      <td>15335.00</td>\n",
              "      <td>10866.54</td>\n",
              "      <td>4468.46</td>\n",
              "    </tr>\n",
              "    <tr>\n",
              "      <th>2039</th>\n",
              "      <td>10630</td>\n",
              "      <td>ESTATUTÁRIO</td>\n",
              "      <td>SECRETARIA DE NEGOCIOS JURIDICOS</td>\n",
              "      <td>PAÇO</td>\n",
              "      <td>OFICIAL ADMINISTRATIVO</td>\n",
              "      <td>ATIVO</td>\n",
              "      <td>15036.60</td>\n",
              "      <td>10565.89</td>\n",
              "      <td>4470.71</td>\n",
              "    </tr>\n",
              "    <tr>\n",
              "      <th>724</th>\n",
              "      <td>12268</td>\n",
              "      <td>ESTATUTÁRIO</td>\n",
              "      <td>UPA CENTRAL</td>\n",
              "      <td>PAÇO</td>\n",
              "      <td>MEDICO PLANTONISTA</td>\n",
              "      <td>ATIVO</td>\n",
              "      <td>17101.16</td>\n",
              "      <td>10286.77</td>\n",
              "      <td>6814.39</td>\n",
              "    </tr>\n",
              "    <tr>\n",
              "      <th>399</th>\n",
              "      <td>11551</td>\n",
              "      <td>ESTATUTÁRIO</td>\n",
              "      <td>UPA CENTRAL</td>\n",
              "      <td>PAÇO</td>\n",
              "      <td>MEDICO PLANTONISTA</td>\n",
              "      <td>ATIVO</td>\n",
              "      <td>16822.44</td>\n",
              "      <td>10152.13</td>\n",
              "      <td>6670.31</td>\n",
              "    </tr>\n",
              "  </tbody>\n",
              "</table>\n",
              "</div>"
            ],
            "text/plain": [
              "     matricula tipo_de_vinculo  ...   liquido desconto\n",
              "2143     10661     ESTATUTÁRIO  ...  20716.24  1541.54\n",
              "520      14147     ESTATUTÁRIO  ...  10866.54  4468.46\n",
              "2039     10630     ESTATUTÁRIO  ...  10565.89  4470.71\n",
              "724      12268     ESTATUTÁRIO  ...  10286.77  6814.39\n",
              "399      11551     ESTATUTÁRIO  ...  10152.13  6670.31\n",
              "\n",
              "[5 rows x 9 columns]"
            ]
          },
          "metadata": {
            "tags": []
          },
          "execution_count": 74
        }
      ]
    },
    {
      "cell_type": "markdown",
      "metadata": {
        "id": "6w48c5hyMw6X",
        "colab_type": "text"
      },
      "source": [
        "#### Tipo de Vínculo diferente de Estatutário e liquido igual ou maior que R$ 10.000,00"
      ]
    },
    {
      "cell_type": "code",
      "metadata": {
        "id": "TV9OlQg2DdEA",
        "colab_type": "code",
        "outputId": "232955cf-62cb-4c54-ad20-12198f4ecf58",
        "colab": {
          "base_uri": "https://localhost:8080/",
          "height": 34
        }
      },
      "source": [
        "not_estatutario = df_df2.loc[(df_df2['tipo_de_vinculo'] != 'ESTATUTÁRIO') & (df_df2['liquido'] >= 10000)].sort_values('liquido', ascending = False)\n",
        "print('Tipo de Vínculo diferente Estatutário e líquido igual ou maior que 10.000. Total registros: {0} e somatória do liquido: {1}.'.format(len(not_estatutario), round(not_estatutario['liquido'].sum(),2)))"
      ],
      "execution_count": 0,
      "outputs": [
        {
          "output_type": "stream",
          "text": [
            "Tipo de Vínculo diferente Estatutário e líquido igual ou maior que 10.000. Total registros: 4 e somatória do liquido: 44656.72.\n"
          ],
          "name": "stdout"
        }
      ]
    },
    {
      "cell_type": "code",
      "metadata": {
        "id": "NYwgyEcqvgLm",
        "colab_type": "code",
        "outputId": "a24d6462-3590-4ead-d45d-6e4fc7e1e489",
        "colab": {
          "base_uri": "https://localhost:8080/",
          "height": 462
        }
      },
      "source": [
        "import seaborn as sns\n",
        " \n",
        "sns.regplot(x=not_estatutario[\"vecto_mes\"], y=not_estatutario[\"desconto\"])\n",
        "#sns.plt.show()\n",
        " \n",
        "# Without regression fit:\n",
        "sns.regplot(x=not_estatutario[\"vecto_mes\"], y=not_estatutario[\"desconto\"], fit_reg=False)\n",
        "#sns.plt.show()"
      ],
      "execution_count": 0,
      "outputs": [
        {
          "output_type": "execute_result",
          "data": {
            "text/plain": [
              "<matplotlib.axes._subplots.AxesSubplot at 0x7ff231866710>"
            ]
          },
          "metadata": {
            "tags": []
          },
          "execution_count": 76
        },
        {
          "output_type": "display_data",
          "data": {
            "image/png": "[encoded data removed]",
            "text/plain": [
              "<Figure size 792x504 with 1 Axes>"
            ]
          },
          "metadata": {
            "tags": []
          }
        }
      ]
    },
    {
      "cell_type": "code",
      "metadata": {
        "id": "JpcKG5YhDza1",
        "colab_type": "code",
        "outputId": "6baad189-49c3-423b-c6f1-3d0669321025",
        "colab": {
          "base_uri": "https://localhost:8080/",
          "height": 34
        }
      },
      "source": [
        "not_medico = df_df2.loc[(df_df2['cargo'] != 'MEDICO PLANTONISTA') & (df_df2['liquido'] >= 10000)].sort_values('liquido', ascending = False)\n",
        "print('Tipo de Vínculo diferente de Estatutário e liquido igual ou maior que R$ 10.000,00. Total registros: {0} e somatória dos descontos: {1}.'.format(len(not_medico), round(not_medico['desconto'].sum(),2)))"
      ],
      "execution_count": 0,
      "outputs": [
        {
          "output_type": "stream",
          "text": [
            "Tipo de Vínculo diferente de Estatutário e liquido igual ou maior que R$ 10.000,00. Total registros: 11 e somatória dos descontos: 50867.35.\n"
          ],
          "name": "stdout"
        }
      ]
    },
    {
      "cell_type": "code",
      "metadata": {
        "id": "c--yZ4-5v9tA",
        "colab_type": "code",
        "outputId": "202558da-a764-42e4-ae4f-bf8be15b2339",
        "colab": {
          "base_uri": "https://localhost:8080/",
          "height": 462
        }
      },
      "source": [
        "import seaborn as sns\n",
        " \n",
        "sns.regplot(x=not_medico[\"vecto_mes\"], y=not_medico[\"desconto\"])\n",
        "#sns.plt.show()\n",
        " \n",
        "# Without regression fit:\n",
        "sns.regplot(x=not_medico[\"vecto_mes\"], y=not_medico[\"desconto\"], fit_reg=False)\n",
        "#sns.plt.show()"
      ],
      "execution_count": 0,
      "outputs": [
        {
          "output_type": "execute_result",
          "data": {
            "text/plain": [
              "<matplotlib.axes._subplots.AxesSubplot at 0x7ff2303012e8>"
            ]
          },
          "metadata": {
            "tags": []
          },
          "execution_count": 78
        },
        {
          "output_type": "display_data",
          "data": {
            "image/png": "[encoded data removed]",
            "text/plain": [
              "<Figure size 792x504 with 1 Axes>"
            ]
          },
          "metadata": {
            "tags": []
          }
        }
      ]
    },
    {
      "cell_type": "code",
      "metadata": {
        "id": "1EvojafAwEKv",
        "colab_type": "code",
        "outputId": "824c2a8b-32df-4da6-87f2-777da13f1bc6",
        "colab": {
          "base_uri": "https://localhost:8080/",
          "height": 142
        }
      },
      "source": [
        "not_medico[(not_medico['vecto_mes'] >= 22000) & (not_medico['desconto'] <= 2000) ^ (not_medico['vecto_mes'] >= 16000) & (not_medico['desconto'] >= 5500)]"
      ],
      "execution_count": 0,
      "outputs": [
        {
          "output_type": "execute_result",
          "data": {
            "text/html": [
              "<div>\n",
              "<style scoped>\n",
              "    .dataframe tbody tr th:only-of-type {\n",
              "        vertical-align: middle;\n",
              "    }\n",
              "\n",
              "    .dataframe tbody tr th {\n",
              "        vertical-align: top;\n",
              "    }\n",
              "\n",
              "    .dataframe thead th {\n",
              "        text-align: right;\n",
              "    }\n",
              "</style>\n",
              "<table border=\"1\" class=\"dataframe\">\n",
              "  <thead>\n",
              "    <tr style=\"text-align: right;\">\n",
              "      <th></th>\n",
              "      <th>matricula</th>\n",
              "      <th>tipo_de_vinculo</th>\n",
              "      <th>lotacao</th>\n",
              "      <th>local_de_trabalho</th>\n",
              "      <th>cargo</th>\n",
              "      <th>situacao</th>\n",
              "      <th>vecto_mes</th>\n",
              "      <th>liquido</th>\n",
              "      <th>desconto</th>\n",
              "    </tr>\n",
              "  </thead>\n",
              "  <tbody>\n",
              "    <tr>\n",
              "      <th>2143</th>\n",
              "      <td>10661</td>\n",
              "      <td>ESTATUTÁRIO</td>\n",
              "      <td>SERVICO DE PESSOAL</td>\n",
              "      <td>PAÇO</td>\n",
              "      <td>ESCRITURARIO</td>\n",
              "      <td>ATIVO</td>\n",
              "      <td>22257.78</td>\n",
              "      <td>20716.24</td>\n",
              "      <td>1541.54</td>\n",
              "    </tr>\n",
              "    <tr>\n",
              "      <th>2445</th>\n",
              "      <td>12349</td>\n",
              "      <td>CARGO EM COMISSÃO</td>\n",
              "      <td>DEPTO TRIBUTACAO RECEITA E FISCALIZACAO</td>\n",
              "      <td>PAÇO</td>\n",
              "      <td>JULGADOR TRIBUTARIO SECR, FINANCAS</td>\n",
              "      <td>ATIVO</td>\n",
              "      <td>17190.74</td>\n",
              "      <td>11445.28</td>\n",
              "      <td>5745.46</td>\n",
              "    </tr>\n",
              "    <tr>\n",
              "      <th>1294</th>\n",
              "      <td>10048</td>\n",
              "      <td>CARGO EM COMISSÃO</td>\n",
              "      <td>CONTROLE DE ZOONOSES</td>\n",
              "      <td>PAÇO</td>\n",
              "      <td>COORDENADOR CONTROLE DE ZOONOSES</td>\n",
              "      <td>ATIVO</td>\n",
              "      <td>16615.94</td>\n",
              "      <td>11074.39</td>\n",
              "      <td>5541.55</td>\n",
              "    </tr>\n",
              "  </tbody>\n",
              "</table>\n",
              "</div>"
            ],
            "text/plain": [
              "     matricula    tipo_de_vinculo  ...   liquido desconto\n",
              "2143     10661        ESTATUTÁRIO  ...  20716.24  1541.54\n",
              "2445     12349  CARGO EM COMISSÃO  ...  11445.28  5745.46\n",
              "1294     10048  CARGO EM COMISSÃO  ...  11074.39  5541.55\n",
              "\n",
              "[3 rows x 9 columns]"
            ]
          },
          "metadata": {
            "tags": []
          },
          "execution_count": 79
        }
      ]
    },
    {
      "cell_type": "markdown",
      "metadata": {
        "id": "WOcygplPU0Z1",
        "colab_type": "text"
      },
      "source": [
        "#### As 20 maiores liquidez"
      ]
    },
    {
      "cell_type": "code",
      "metadata": {
        "id": "scsD_RoBUyI_",
        "colab_type": "code",
        "outputId": "7a86cce1-ec0a-4267-f2ba-2c2951b61ef7",
        "colab": {
          "base_uri": "https://localhost:8080/",
          "height": 34
        }
      },
      "source": [
        "vinte_vecto = df_df2.loc[(df_df2['vecto_mes'] > 10000) & (df_df2['vecto_mes'] < df_df2['vecto_mes'].max())].sort_values('vecto_mes', ascending = False)[:20]\n",
        "print('Os vinte maiores recebíveis liquido. Total: {0} registros, R$ {1} vencimento mês.'.format(len(vinte_vecto), vinte_vecto['vecto_mes'].sum()))"
      ],
      "execution_count": 0,
      "outputs": [
        {
          "output_type": "stream",
          "text": [
            "Os vinte maiores recebíveis liquido. Total: 20 registros, R$ 336064.26 vencimento mês.\n"
          ],
          "name": "stdout"
        }
      ]
    },
    {
      "cell_type": "code",
      "metadata": {
        "id": "Zh_v7wmx9pBM",
        "colab_type": "code",
        "outputId": "51e637ac-c2a0-4278-fb7c-aa09c948bed5",
        "colab": {
          "base_uri": "https://localhost:8080/",
          "height": 465
        }
      },
      "source": [
        "import seaborn as sns\n",
        " \n",
        "sns.regplot(x=vinte_vecto[\"vecto_mes\"], y=vinte_vecto[\"desconto\"])\n",
        "#sns.plt.show()\n",
        " \n",
        "# Without regression fit:\n",
        "sns.regplot(x=vinte_vecto[\"vecto_mes\"], y=vinte_vecto[\"desconto\"], fit_reg=False)\n",
        "#sns.plt.show()"
      ],
      "execution_count": 0,
      "outputs": [
        {
          "output_type": "execute_result",
          "data": {
            "text/plain": [
              "<matplotlib.axes._subplots.AxesSubplot at 0x7ff23029f9b0>"
            ]
          },
          "metadata": {
            "tags": []
          },
          "execution_count": 93
        },
        {
          "output_type": "display_data",
          "data": {
            "image/png": "[encoded data removed]",
            "text/plain": [
              "<Figure size 792x504 with 1 Axes>"
            ]
          },
          "metadata": {
            "tags": []
          }
        }
      ]
    },
    {
      "cell_type": "code",
      "metadata": {
        "id": "yMAtPgAbQmhB",
        "colab_type": "code",
        "outputId": "df57fe71-969c-423a-aabf-7078ac7dd0d4",
        "colab": {
          "base_uri": "https://localhost:8080/",
          "height": 328
        }
      },
      "source": [
        "vinte_vecto[(vinte_vecto['vecto_mes'] >= 16800) & (vinte_vecto['desconto'] <= 5500) ^ (vinte_vecto['vecto_mes'] >= 15000) & (vinte_vecto['desconto'] >= 7000)].sort_values(by='liquido', ascending=False)"
      ],
      "execution_count": 0,
      "outputs": [
        {
          "output_type": "execute_result",
          "data": {
            "text/html": [
              "<div>\n",
              "<style scoped>\n",
              "    .dataframe tbody tr th:only-of-type {\n",
              "        vertical-align: middle;\n",
              "    }\n",
              "\n",
              "    .dataframe tbody tr th {\n",
              "        vertical-align: top;\n",
              "    }\n",
              "\n",
              "    .dataframe thead th {\n",
              "        text-align: right;\n",
              "    }\n",
              "</style>\n",
              "<table border=\"1\" class=\"dataframe\">\n",
              "  <thead>\n",
              "    <tr style=\"text-align: right;\">\n",
              "      <th></th>\n",
              "      <th>matricula</th>\n",
              "      <th>tipo_de_vinculo</th>\n",
              "      <th>lotacao</th>\n",
              "      <th>local_de_trabalho</th>\n",
              "      <th>cargo</th>\n",
              "      <th>situacao</th>\n",
              "      <th>vecto_mes</th>\n",
              "      <th>liquido</th>\n",
              "      <th>desconto</th>\n",
              "    </tr>\n",
              "  </thead>\n",
              "  <tbody>\n",
              "    <tr>\n",
              "      <th>524</th>\n",
              "      <td>12338</td>\n",
              "      <td>ESTATUTÁRIO</td>\n",
              "      <td>SECRETARIA DE FINANCAS</td>\n",
              "      <td>PAÇO</td>\n",
              "      <td>AGENTE FAZENDARIO</td>\n",
              "      <td>ATIVO</td>\n",
              "      <td>17190.74</td>\n",
              "      <td>12116.10</td>\n",
              "      <td>5074.64</td>\n",
              "    </tr>\n",
              "    <tr>\n",
              "      <th>1870</th>\n",
              "      <td>13598</td>\n",
              "      <td>ESTATUTÁRIO</td>\n",
              "      <td>UPA CENTRAL</td>\n",
              "      <td>CENTRO DE SAUDE RIO ACIMA</td>\n",
              "      <td>MEDICO PLANTONISTA</td>\n",
              "      <td>ATIVO</td>\n",
              "      <td>17069.93</td>\n",
              "      <td>11850.49</td>\n",
              "      <td>5219.44</td>\n",
              "    </tr>\n",
              "    <tr>\n",
              "      <th>817</th>\n",
              "      <td>14158</td>\n",
              "      <td>ESTATUTÁRIO</td>\n",
              "      <td>UPA CENTRAL</td>\n",
              "      <td>PAÇO</td>\n",
              "      <td>MEDICO PLANTONISTA</td>\n",
              "      <td>ATIVO</td>\n",
              "      <td>16864.75</td>\n",
              "      <td>11801.48</td>\n",
              "      <td>5063.27</td>\n",
              "    </tr>\n",
              "    <tr>\n",
              "      <th>1343</th>\n",
              "      <td>11621</td>\n",
              "      <td>ESTATUTÁRIO</td>\n",
              "      <td>UPA CENTRAL</td>\n",
              "      <td>PAÇO</td>\n",
              "      <td>MEDICO PLANTONISTA</td>\n",
              "      <td>ATIVO</td>\n",
              "      <td>16921.63</td>\n",
              "      <td>11786.04</td>\n",
              "      <td>5135.59</td>\n",
              "    </tr>\n",
              "    <tr>\n",
              "      <th>1528</th>\n",
              "      <td>11692</td>\n",
              "      <td>ESTATUTÁRIO</td>\n",
              "      <td>UPA CENTRAL</td>\n",
              "      <td>PAÇO</td>\n",
              "      <td>MEDICO PLANTONISTA</td>\n",
              "      <td>ATIVO</td>\n",
              "      <td>16875.14</td>\n",
              "      <td>11756.04</td>\n",
              "      <td>5119.10</td>\n",
              "    </tr>\n",
              "    <tr>\n",
              "      <th>1540</th>\n",
              "      <td>13592</td>\n",
              "      <td>ESTATUTÁRIO</td>\n",
              "      <td>UPA CENTRAL</td>\n",
              "      <td>PAÇO</td>\n",
              "      <td>MEDICO PLANTONISTA</td>\n",
              "      <td>ATIVO</td>\n",
              "      <td>16623.37</td>\n",
              "      <td>9273.31</td>\n",
              "      <td>7350.06</td>\n",
              "    </tr>\n",
              "    <tr>\n",
              "      <th>1754</th>\n",
              "      <td>14148</td>\n",
              "      <td>ESTATUTÁRIO</td>\n",
              "      <td>UPA CENTRAL</td>\n",
              "      <td>PAÇO</td>\n",
              "      <td>MEDICO PLANTONISTA</td>\n",
              "      <td>ATIVO</td>\n",
              "      <td>15997.24</td>\n",
              "      <td>8867.87</td>\n",
              "      <td>7129.37</td>\n",
              "    </tr>\n",
              "    <tr>\n",
              "      <th>814</th>\n",
              "      <td>11</td>\n",
              "      <td>AGENTE POLÍTICO</td>\n",
              "      <td>PREFEITO</td>\n",
              "      <td>PAÇO</td>\n",
              "      <td>PREFEITO</td>\n",
              "      <td>ATIVO</td>\n",
              "      <td>17190.74</td>\n",
              "      <td>6920.30</td>\n",
              "      <td>10270.44</td>\n",
              "    </tr>\n",
              "    <tr>\n",
              "      <th>1836</th>\n",
              "      <td>11659</td>\n",
              "      <td>CARGO EM COMISSÃO</td>\n",
              "      <td>SAMU</td>\n",
              "      <td>AMBULANCIA</td>\n",
              "      <td>COORDENADOR DE PROGRAMA DE SAUDE SESA</td>\n",
              "      <td>ATIVO</td>\n",
              "      <td>17190.74</td>\n",
              "      <td>6617.87</td>\n",
              "      <td>10572.87</td>\n",
              "    </tr>\n",
              "  </tbody>\n",
              "</table>\n",
              "</div>"
            ],
            "text/plain": [
              "     matricula    tipo_de_vinculo  ...   liquido  desconto\n",
              "524      12338        ESTATUTÁRIO  ...  12116.10   5074.64\n",
              "1870     13598        ESTATUTÁRIO  ...  11850.49   5219.44\n",
              "817      14158        ESTATUTÁRIO  ...  11801.48   5063.27\n",
              "1343     11621        ESTATUTÁRIO  ...  11786.04   5135.59\n",
              "1528     11692        ESTATUTÁRIO  ...  11756.04   5119.10\n",
              "1540     13592        ESTATUTÁRIO  ...   9273.31   7350.06\n",
              "1754     14148        ESTATUTÁRIO  ...   8867.87   7129.37\n",
              "814         11    AGENTE POLÍTICO  ...   6920.30  10270.44\n",
              "1836     11659  CARGO EM COMISSÃO  ...   6617.87  10572.87\n",
              "\n",
              "[9 rows x 9 columns]"
            ]
          },
          "metadata": {
            "tags": []
          },
          "execution_count": 94
        }
      ]
    },
    {
      "cell_type": "markdown",
      "metadata": {
        "id": "2zhgzUsiCkjy",
        "colab_type": "text"
      },
      "source": [
        "#### Agrupar nossa Base de Dados por Departamento e somando os valores resultados das colunas"
      ]
    },
    {
      "cell_type": "code",
      "metadata": {
        "id": "2cXXCOOVnrsD",
        "colab_type": "code",
        "outputId": "4ff116e5-ca1c-449c-f838-579c43d90a95",
        "colab": {
          "base_uri": "https://localhost:8080/",
          "height": 450
        }
      },
      "source": [
        "df_df2.groupby(['tipo_de_vinculo','local_de_trabalho', 'cargo', 'lotacao'], sort = True).sum()"
      ],
      "execution_count": 0,
      "outputs": [
        {
          "output_type": "execute_result",
          "data": {
            "text/html": [
              "<div>\n",
              "<style scoped>\n",
              "    .dataframe tbody tr th:only-of-type {\n",
              "        vertical-align: middle;\n",
              "    }\n",
              "\n",
              "    .dataframe tbody tr th {\n",
              "        vertical-align: top;\n",
              "    }\n",
              "\n",
              "    .dataframe thead th {\n",
              "        text-align: right;\n",
              "    }\n",
              "</style>\n",
              "<table border=\"1\" class=\"dataframe\">\n",
              "  <thead>\n",
              "    <tr style=\"text-align: right;\">\n",
              "      <th></th>\n",
              "      <th></th>\n",
              "      <th></th>\n",
              "      <th></th>\n",
              "      <th>vecto_mes</th>\n",
              "      <th>liquido</th>\n",
              "      <th>desconto</th>\n",
              "    </tr>\n",
              "    <tr>\n",
              "      <th>tipo_de_vinculo</th>\n",
              "      <th>local_de_trabalho</th>\n",
              "      <th>cargo</th>\n",
              "      <th>lotacao</th>\n",
              "      <th></th>\n",
              "      <th></th>\n",
              "      <th></th>\n",
              "    </tr>\n",
              "  </thead>\n",
              "  <tbody>\n",
              "    <tr>\n",
              "      <th rowspan=\"2\" valign=\"top\">AGENTE POLÍTICO</th>\n",
              "      <th rowspan=\"2\" valign=\"top\">PAÇO</th>\n",
              "      <th>PREFEITO</th>\n",
              "      <th>PREFEITO</th>\n",
              "      <td>17190.74</td>\n",
              "      <td>6920.30</td>\n",
              "      <td>10270.44</td>\n",
              "    </tr>\n",
              "    <tr>\n",
              "      <th>VICE PREFEITO</th>\n",
              "      <th>PREFEITO</th>\n",
              "      <td>8197.45</td>\n",
              "      <td>5832.41</td>\n",
              "      <td>2365.04</td>\n",
              "    </tr>\n",
              "    <tr>\n",
              "      <th rowspan=\"3\" valign=\"top\">CARGO EM COMISSÃO</th>\n",
              "      <th rowspan=\"2\" valign=\"top\">AMBULANCIA</th>\n",
              "      <th>CHEFE DE SERVICO DO SAMU SESA</th>\n",
              "      <th>AMBULANCIA</th>\n",
              "      <td>2243.72</td>\n",
              "      <td>1649.38</td>\n",
              "      <td>594.34</td>\n",
              "    </tr>\n",
              "    <tr>\n",
              "      <th>COORDENADOR DE PROGRAMA DE SAUDE SESA</th>\n",
              "      <th>SAMU</th>\n",
              "      <td>17190.74</td>\n",
              "      <td>6617.87</td>\n",
              "      <td>10572.87</td>\n",
              "    </tr>\n",
              "    <tr>\n",
              "      <th>CIDADANIA</th>\n",
              "      <th>ASSESSOR II</th>\n",
              "      <th>CIDADANIA E GERACAO DE RENDA</th>\n",
              "      <td>2632.12</td>\n",
              "      <td>1755.94</td>\n",
              "      <td>876.18</td>\n",
              "    </tr>\n",
              "    <tr>\n",
              "      <th>...</th>\n",
              "      <th>...</th>\n",
              "      <th>...</th>\n",
              "      <th>...</th>\n",
              "      <td>...</td>\n",
              "      <td>...</td>\n",
              "      <td>...</td>\n",
              "    </tr>\n",
              "    <tr>\n",
              "      <th rowspan=\"5\" valign=\"top\">TEMPORÁRIO</th>\n",
              "      <th rowspan=\"4\" valign=\"top\">SECRETARIA DE SAUDE</th>\n",
              "      <th rowspan=\"2\" valign=\"top\">AGENTE COMUNITARIO DE SAUDE</th>\n",
              "      <th>PSF JD TATIANA</th>\n",
              "      <td>4400.40</td>\n",
              "      <td>4042.38</td>\n",
              "      <td>358.02</td>\n",
              "    </tr>\n",
              "    <tr>\n",
              "      <th>PSF PROMORAR</th>\n",
              "      <td>2933.60</td>\n",
              "      <td>2694.92</td>\n",
              "      <td>238.68</td>\n",
              "    </tr>\n",
              "    <tr>\n",
              "      <th>AUX, DE ENFERMAGEM PLANTONISTA</th>\n",
              "      <th>UPA CENTRAL</th>\n",
              "      <td>1971.00</td>\n",
              "      <td>1775.99</td>\n",
              "      <td>195.01</td>\n",
              "    </tr>\n",
              "    <tr>\n",
              "      <th>ENFERMEIRO PLANTONISTA</th>\n",
              "      <th>UPA CENTRAL</th>\n",
              "      <td>6378.50</td>\n",
              "      <td>5026.08</td>\n",
              "      <td>1352.42</td>\n",
              "    </tr>\n",
              "    <tr>\n",
              "      <th>UNIDADE DE PRONTO ATENDIMENTO</th>\n",
              "      <th>AUX, DE ENFERMAGEM PLANTONISTA</th>\n",
              "      <th>UPA CENTRAL</th>\n",
              "      <td>2596.92</td>\n",
              "      <td>2326.76</td>\n",
              "      <td>270.16</td>\n",
              "    </tr>\n",
              "  </tbody>\n",
              "</table>\n",
              "<p>1093 rows × 3 columns</p>\n",
              "</div>"
            ],
            "text/plain": [
              "                                                                                                                    vecto_mes  ...  desconto\n",
              "tipo_de_vinculo   local_de_trabalho             cargo                                 lotacao                                  ...          \n",
              "AGENTE POLÍTICO   PAÇO                          PREFEITO                              PREFEITO                       17190.74  ...  10270.44\n",
              "                                                VICE PREFEITO                         PREFEITO                        8197.45  ...   2365.04\n",
              "CARGO EM COMISSÃO AMBULANCIA                    CHEFE DE SERVICO DO SAMU SESA         AMBULANCIA                      2243.72  ...    594.34\n",
              "                                                COORDENADOR DE PROGRAMA DE SAUDE SESA SAMU                           17190.74  ...  10572.87\n",
              "                  CIDADANIA                     ASSESSOR II                           CIDADANIA E GERACAO DE RENDA    2632.12  ...    876.18\n",
              "...                                                                                                                       ...  ...       ...\n",
              "TEMPORÁRIO        SECRETARIA DE SAUDE           AGENTE COMUNITARIO DE SAUDE           PSF JD TATIANA                  4400.40  ...    358.02\n",
              "                                                                                      PSF PROMORAR                    2933.60  ...    238.68\n",
              "                                                AUX, DE ENFERMAGEM PLANTONISTA        UPA CENTRAL                     1971.00  ...    195.01\n",
              "                                                ENFERMEIRO PLANTONISTA                UPA CENTRAL                     6378.50  ...   1352.42\n",
              "                  UNIDADE DE PRONTO ATENDIMENTO AUX, DE ENFERMAGEM PLANTONISTA        UPA CENTRAL                     2596.92  ...    270.16\n",
              "\n",
              "[1093 rows x 3 columns]"
            ]
          },
          "metadata": {
            "tags": []
          },
          "execution_count": 95
        }
      ]
    },
    {
      "cell_type": "code",
      "metadata": {
        "id": "9ZXTaVw_nrs0",
        "colab_type": "code",
        "outputId": "64d96dab-c06d-4321-f67a-6632bd4272e3",
        "colab": {
          "base_uri": "https://localhost:8080/",
          "height": 34
        }
      },
      "source": [
        "# trazendo os maiores gastos\n",
        "cargo_comissao = df_df2[df_df2['tipo_de_vinculo'] == 'CARGO EM COMISSÃO'].reset_index()\n",
        "print('Os {0} cargo em comissão que mais ganharam dentro do mês.'.format(cargo_comissao.shape[0]))"
      ],
      "execution_count": 0,
      "outputs": [
        {
          "output_type": "stream",
          "text": [
            "Os 197 cargo em comissão que mais ganharam dentro do mês.\n"
          ],
          "name": "stdout"
        }
      ]
    },
    {
      "cell_type": "code",
      "metadata": {
        "id": "PzCPFcHQp_R2",
        "colab_type": "code",
        "outputId": "c292b0c8-9e3c-4b2f-fce4-348e3ae50d48",
        "colab": {
          "base_uri": "https://localhost:8080/",
          "height": 462
        }
      },
      "source": [
        "import seaborn as sns\n",
        " \n",
        "sns.regplot(x=cargo_comissao[\"vecto_mes\"], y=cargo_comissao[\"liquido\"])\n",
        "#sns.plt.show()\n",
        " \n",
        "# Without regression fit:\n",
        "sns.regplot(x=cargo_comissao[\"vecto_mes\"], y=cargo_comissao[\"liquido\"], fit_reg=False)\n",
        "#sns.plt.show()"
      ],
      "execution_count": 0,
      "outputs": [
        {
          "output_type": "execute_result",
          "data": {
            "text/plain": [
              "<matplotlib.axes._subplots.AxesSubplot at 0x7ff230250320>"
            ]
          },
          "metadata": {
            "tags": []
          },
          "execution_count": 97
        },
        {
          "output_type": "display_data",
          "data": {
            "image/png": "[encoded data removed]",
            "text/plain": [
              "<Figure size 792x504 with 1 Axes>"
            ]
          },
          "metadata": {
            "tags": []
          }
        }
      ]
    },
    {
      "cell_type": "code",
      "metadata": {
        "id": "UsxZ8LrDnrs6",
        "colab_type": "code",
        "outputId": "a2a8d575-5f6c-48e6-9ad9-1f4ed678550d",
        "colab": {
          "base_uri": "https://localhost:8080/",
          "height": 34
        }
      },
      "source": [
        "folha_medico = df_df2[df_df2['cargo'] == 'MEDICO CLINICO GERAL'].sort_index().sort_values('liquido', ascending = False)\n",
        "print('Número de médicos clinico geral registrados: {0} registros, R$ {1} liquido.'.format(len(folha_medico), round(folha_medico['liquido'].sum(),2)))"
      ],
      "execution_count": 0,
      "outputs": [
        {
          "output_type": "stream",
          "text": [
            "Número de médicos clinico geral registrados: 30 registros, R$ 175682.09 liquido.\n"
          ],
          "name": "stdout"
        }
      ]
    },
    {
      "cell_type": "code",
      "metadata": {
        "id": "hjeGNDHNqU-o",
        "colab_type": "code",
        "outputId": "a9fc4378-62ea-4514-fe0f-3233c47bbb04",
        "colab": {
          "base_uri": "https://localhost:8080/",
          "height": 464
        }
      },
      "source": [
        "import seaborn as sns\n",
        " \n",
        "sns.regplot(x=folha_medico[\"vecto_mes\"], y=folha_medico[\"liquido\"])\n",
        "#sns.plt.show()\n",
        " \n",
        "# Without regression fit:\n",
        "sns.regplot(x=folha_medico[\"vecto_mes\"], y=folha_medico[\"liquido\"], fit_reg=False)\n",
        "#sns.plt.show()"
      ],
      "execution_count": 0,
      "outputs": [
        {
          "output_type": "execute_result",
          "data": {
            "text/plain": [
              "<matplotlib.axes._subplots.AxesSubplot at 0x7ff230201550>"
            ]
          },
          "metadata": {
            "tags": []
          },
          "execution_count": 99
        },
        {
          "output_type": "display_data",
          "data": {
            "image/png": "[encoded data removed]",
            "text/plain": [
              "<Figure size 792x504 with 1 Axes>"
            ]
          },
          "metadata": {
            "tags": []
          }
        }
      ]
    },
    {
      "cell_type": "markdown",
      "metadata": {
        "id": "1o-P6BN2LV3h",
        "colab_type": "text"
      },
      "source": [
        "#### Vamos criar uma nova coluna no DataFrame, nesta coluna iremos categorizar a liquidez entre Big(Grande), Medium(Médio) e Small(Pequeno)\n"
      ]
    },
    {
      "cell_type": "code",
      "metadata": {
        "id": "67UKV1junrtS",
        "colab_type": "code",
        "colab": {}
      },
      "source": [
        "# apply()\n",
        "def categoriza(tamanho_liquido):\n",
        "    if tamanho_liquido >= 6000:\n",
        "        return '6K';\n",
        "    elif tamanho_liquido >= 3000:\n",
        "        return '3K-6K';\n",
        "    elif tamanho_liquido >= 1000:\n",
        "        return '1K-3K';   "
      ],
      "execution_count": 0,
      "outputs": []
    },
    {
      "cell_type": "code",
      "metadata": {
        "id": "11lciCaOnrtX",
        "colab_type": "code",
        "outputId": "1e72c689-c6a8-48fd-b6dd-b67edde6628f",
        "colab": {
          "base_uri": "https://localhost:8080/",
          "height": 221
        }
      },
      "source": [
        "# passar os dados para a função usando o método apply()\n",
        "df_df2['nivel_liquido'] = df_df2['liquido'].apply(categoriza)\n",
        "df_df2['nivel_liquido']"
      ],
      "execution_count": 0,
      "outputs": [
        {
          "output_type": "execute_result",
          "data": {
            "text/plain": [
              "0       1K-3K\n",
              "1       1K-3K\n",
              "2       3K-6K\n",
              "3       1K-3K\n",
              "4       1K-3K\n",
              "        ...  \n",
              "2478    1K-3K\n",
              "2479    3K-6K\n",
              "2480       6K\n",
              "2481    1K-3K\n",
              "2482    1K-3K\n",
              "Name: nivel_liquido, Length: 2483, dtype: object"
            ]
          },
          "metadata": {
            "tags": []
          },
          "execution_count": 102
        }
      ]
    },
    {
      "cell_type": "code",
      "metadata": {
        "id": "gdwI_NFwnrta",
        "colab_type": "code",
        "outputId": "5b955124-18bc-499b-ea9d-ab645595799b",
        "colab": {
          "base_uri": "https://localhost:8080/",
          "height": 193
        }
      },
      "source": [
        "df_df2.head(n = 3)"
      ],
      "execution_count": 0,
      "outputs": [
        {
          "output_type": "execute_result",
          "data": {
            "text/html": [
              "<div>\n",
              "<style scoped>\n",
              "    .dataframe tbody tr th:only-of-type {\n",
              "        vertical-align: middle;\n",
              "    }\n",
              "\n",
              "    .dataframe tbody tr th {\n",
              "        vertical-align: top;\n",
              "    }\n",
              "\n",
              "    .dataframe thead th {\n",
              "        text-align: right;\n",
              "    }\n",
              "</style>\n",
              "<table border=\"1\" class=\"dataframe\">\n",
              "  <thead>\n",
              "    <tr style=\"text-align: right;\">\n",
              "      <th></th>\n",
              "      <th>matricula</th>\n",
              "      <th>tipo_de_vinculo</th>\n",
              "      <th>lotacao</th>\n",
              "      <th>local_de_trabalho</th>\n",
              "      <th>cargo</th>\n",
              "      <th>situacao</th>\n",
              "      <th>vecto_mes</th>\n",
              "      <th>liquido</th>\n",
              "      <th>desconto</th>\n",
              "      <th>nivel_liquido</th>\n",
              "    </tr>\n",
              "  </thead>\n",
              "  <tbody>\n",
              "    <tr>\n",
              "      <th>0</th>\n",
              "      <td>13646</td>\n",
              "      <td>ESTATUTÁRIO</td>\n",
              "      <td>SECRETARIA DE SERVICOS PUBLICOS</td>\n",
              "      <td>SERVICOS PUBLICOS</td>\n",
              "      <td>ELETRICISTA</td>\n",
              "      <td>ATIVO</td>\n",
              "      <td>2250.40</td>\n",
              "      <td>1745.52</td>\n",
              "      <td>504.88</td>\n",
              "      <td>1K-3K</td>\n",
              "    </tr>\n",
              "    <tr>\n",
              "      <th>1</th>\n",
              "      <td>13647</td>\n",
              "      <td>ESTATUTÁRIO</td>\n",
              "      <td>SECRETARIA DE EDUCACAO</td>\n",
              "      <td>SECRETARIA DE EDUCACAO</td>\n",
              "      <td>AGENTE DE APOIO OPERACIONAL E CONSERVACAO</td>\n",
              "      <td>ATIVO</td>\n",
              "      <td>3150.30</td>\n",
              "      <td>2413.45</td>\n",
              "      <td>736.85</td>\n",
              "      <td>1K-3K</td>\n",
              "    </tr>\n",
              "    <tr>\n",
              "      <th>2</th>\n",
              "      <td>13648</td>\n",
              "      <td>ESTATUTÁRIO</td>\n",
              "      <td>SECAO DE VIGILANCIA</td>\n",
              "      <td>PAÇO</td>\n",
              "      <td>AGENTE DE APOIO OPERACIONAL E CONSERVACAO</td>\n",
              "      <td>ATIVO</td>\n",
              "      <td>5272.67</td>\n",
              "      <td>4172.73</td>\n",
              "      <td>1099.94</td>\n",
              "      <td>3K-6K</td>\n",
              "    </tr>\n",
              "  </tbody>\n",
              "</table>\n",
              "</div>"
            ],
            "text/plain": [
              "  matricula tipo_de_vinculo  ... desconto nivel_liquido\n",
              "0     13646     ESTATUTÁRIO  ...   504.88         1K-3K\n",
              "1     13647     ESTATUTÁRIO  ...   736.85         1K-3K\n",
              "2     13648     ESTATUTÁRIO  ...  1099.94         3K-6K\n",
              "\n",
              "[3 rows x 10 columns]"
            ]
          },
          "metadata": {
            "tags": []
          },
          "execution_count": 103
        }
      ]
    },
    {
      "cell_type": "markdown",
      "metadata": {
        "id": "e7sDstVTfxvH",
        "colab_type": "text"
      },
      "source": [
        "#### Somatória dos registros da coluna nivel_liquido"
      ]
    },
    {
      "cell_type": "code",
      "metadata": {
        "id": "Thk4DGeAnrtc",
        "colab_type": "code",
        "outputId": "b2ef6eba-b770-4efd-ce8e-4b3cc2479514",
        "colab": {
          "base_uri": "https://localhost:8080/",
          "height": 142
        }
      },
      "source": [
        "#distribuição dos valores da coluna\n",
        "pd.value_counts(df_df2['nivel_liquido']).reset_index()"
      ],
      "execution_count": 0,
      "outputs": [
        {
          "output_type": "execute_result",
          "data": {
            "text/html": [
              "<div>\n",
              "<style scoped>\n",
              "    .dataframe tbody tr th:only-of-type {\n",
              "        vertical-align: middle;\n",
              "    }\n",
              "\n",
              "    .dataframe tbody tr th {\n",
              "        vertical-align: top;\n",
              "    }\n",
              "\n",
              "    .dataframe thead th {\n",
              "        text-align: right;\n",
              "    }\n",
              "</style>\n",
              "<table border=\"1\" class=\"dataframe\">\n",
              "  <thead>\n",
              "    <tr style=\"text-align: right;\">\n",
              "      <th></th>\n",
              "      <th>index</th>\n",
              "      <th>nivel_liquido</th>\n",
              "    </tr>\n",
              "  </thead>\n",
              "  <tbody>\n",
              "    <tr>\n",
              "      <th>0</th>\n",
              "      <td>1K-3K</td>\n",
              "      <td>1377</td>\n",
              "    </tr>\n",
              "    <tr>\n",
              "      <th>1</th>\n",
              "      <td>3K-6K</td>\n",
              "      <td>489</td>\n",
              "    </tr>\n",
              "    <tr>\n",
              "      <th>2</th>\n",
              "      <td>6K</td>\n",
              "      <td>160</td>\n",
              "    </tr>\n",
              "  </tbody>\n",
              "</table>\n",
              "</div>"
            ],
            "text/plain": [
              "   index  nivel_liquido\n",
              "0  1K-3K           1377\n",
              "1  3K-6K            489\n",
              "2     6K            160"
            ]
          },
          "metadata": {
            "tags": []
          },
          "execution_count": 109
        }
      ]
    },
    {
      "cell_type": "markdown",
      "metadata": {
        "id": "RECCkqNfgpyI",
        "colab_type": "text"
      },
      "source": [
        "## Realizando buscas por registros:"
      ]
    },
    {
      "cell_type": "markdown",
      "metadata": {
        "id": "gOPwW-ZnhNof",
        "colab_type": "text"
      },
      "source": [
        " #### 'grande', '>= 10000' e 'cargo em comissão' "
      ]
    },
    {
      "cell_type": "code",
      "metadata": {
        "id": "BbGnP-MOnrtg",
        "colab_type": "code",
        "outputId": "11162bdc-287d-47b1-c181-7c520e0c7ecf",
        "colab": {
          "base_uri": "https://localhost:8080/",
          "height": 241
        }
      },
      "source": [
        "df_df2[(df_df2.nivel_liquido == '6K') & (df_df2.liquido >= 10000) & (df_df2.tipo_de_vinculo == 'CARGO EM COMISSÃO')]"
      ],
      "execution_count": 0,
      "outputs": [
        {
          "output_type": "execute_result",
          "data": {
            "text/html": [
              "<div>\n",
              "<style scoped>\n",
              "    .dataframe tbody tr th:only-of-type {\n",
              "        vertical-align: middle;\n",
              "    }\n",
              "\n",
              "    .dataframe tbody tr th {\n",
              "        vertical-align: top;\n",
              "    }\n",
              "\n",
              "    .dataframe thead th {\n",
              "        text-align: right;\n",
              "    }\n",
              "</style>\n",
              "<table border=\"1\" class=\"dataframe\">\n",
              "  <thead>\n",
              "    <tr style=\"text-align: right;\">\n",
              "      <th></th>\n",
              "      <th>matricula</th>\n",
              "      <th>tipo_de_vinculo</th>\n",
              "      <th>lotacao</th>\n",
              "      <th>local_de_trabalho</th>\n",
              "      <th>cargo</th>\n",
              "      <th>situacao</th>\n",
              "      <th>vecto_mes</th>\n",
              "      <th>liquido</th>\n",
              "      <th>desconto</th>\n",
              "      <th>nivel_liquido</th>\n",
              "    </tr>\n",
              "  </thead>\n",
              "  <tbody>\n",
              "    <tr>\n",
              "      <th>400</th>\n",
              "      <td>10306</td>\n",
              "      <td>CARGO EM COMISSÃO</td>\n",
              "      <td>SECRETARIA DE SAUDE</td>\n",
              "      <td>PAÇO</td>\n",
              "      <td>DIRETOR DEPTO MEDICINA</td>\n",
              "      <td>ATIVO</td>\n",
              "      <td>16173.41</td>\n",
              "      <td>11303.25</td>\n",
              "      <td>4870.16</td>\n",
              "      <td>6K</td>\n",
              "    </tr>\n",
              "    <tr>\n",
              "      <th>1116</th>\n",
              "      <td>12140</td>\n",
              "      <td>CARGO EM COMISSÃO</td>\n",
              "      <td>UPA CENTRAL</td>\n",
              "      <td>PAÇO</td>\n",
              "      <td>DIRETOR DE DEP MED DE URGENCIA E</td>\n",
              "      <td>ATIVO</td>\n",
              "      <td>15445.86</td>\n",
              "      <td>10833.80</td>\n",
              "      <td>4612.06</td>\n",
              "      <td>6K</td>\n",
              "    </tr>\n",
              "    <tr>\n",
              "      <th>1294</th>\n",
              "      <td>10048</td>\n",
              "      <td>CARGO EM COMISSÃO</td>\n",
              "      <td>CONTROLE DE ZOONOSES</td>\n",
              "      <td>PAÇO</td>\n",
              "      <td>COORDENADOR CONTROLE DE ZOONOSES</td>\n",
              "      <td>ATIVO</td>\n",
              "      <td>16615.94</td>\n",
              "      <td>11074.39</td>\n",
              "      <td>5541.55</td>\n",
              "      <td>6K</td>\n",
              "    </tr>\n",
              "    <tr>\n",
              "      <th>2445</th>\n",
              "      <td>12349</td>\n",
              "      <td>CARGO EM COMISSÃO</td>\n",
              "      <td>DEPTO TRIBUTACAO RECEITA E FISCALIZACAO</td>\n",
              "      <td>PAÇO</td>\n",
              "      <td>JULGADOR TRIBUTARIO SECR, FINANCAS</td>\n",
              "      <td>ATIVO</td>\n",
              "      <td>17190.74</td>\n",
              "      <td>11445.28</td>\n",
              "      <td>5745.46</td>\n",
              "      <td>6K</td>\n",
              "    </tr>\n",
              "  </tbody>\n",
              "</table>\n",
              "</div>"
            ],
            "text/plain": [
              "     matricula    tipo_de_vinculo  ... desconto nivel_liquido\n",
              "400      10306  CARGO EM COMISSÃO  ...  4870.16            6K\n",
              "1116     12140  CARGO EM COMISSÃO  ...  4612.06            6K\n",
              "1294     10048  CARGO EM COMISSÃO  ...  5541.55            6K\n",
              "2445     12349  CARGO EM COMISSÃO  ...  5745.46            6K\n",
              "\n",
              "[4 rows x 10 columns]"
            ]
          },
          "metadata": {
            "tags": []
          },
          "execution_count": 110
        }
      ]
    },
    {
      "cell_type": "markdown",
      "metadata": {
        "id": "RFuJAEV9hFp7",
        "colab_type": "text"
      },
      "source": [
        "#### cargo igual a chefe"
      ]
    },
    {
      "cell_type": "code",
      "metadata": {
        "id": "rdtE4TWbnrtj",
        "colab_type": "code",
        "outputId": "6889feb8-2029-4d23-d80e-8dc38a7fe8d1",
        "colab": {
          "base_uri": "https://localhost:8080/",
          "height": 80
        }
      },
      "source": [
        "df_df2[df_df2['cargo'].str.contains('CHEFE') & (df_df2.nivel_liquido == '6K')].sort_values(by = 'liquido', ascending = False)"
      ],
      "execution_count": 0,
      "outputs": [
        {
          "output_type": "execute_result",
          "data": {
            "text/html": [
              "<div>\n",
              "<style scoped>\n",
              "    .dataframe tbody tr th:only-of-type {\n",
              "        vertical-align: middle;\n",
              "    }\n",
              "\n",
              "    .dataframe tbody tr th {\n",
              "        vertical-align: top;\n",
              "    }\n",
              "\n",
              "    .dataframe thead th {\n",
              "        text-align: right;\n",
              "    }\n",
              "</style>\n",
              "<table border=\"1\" class=\"dataframe\">\n",
              "  <thead>\n",
              "    <tr style=\"text-align: right;\">\n",
              "      <th></th>\n",
              "      <th>matricula</th>\n",
              "      <th>tipo_de_vinculo</th>\n",
              "      <th>lotacao</th>\n",
              "      <th>local_de_trabalho</th>\n",
              "      <th>cargo</th>\n",
              "      <th>situacao</th>\n",
              "      <th>vecto_mes</th>\n",
              "      <th>liquido</th>\n",
              "      <th>desconto</th>\n",
              "      <th>nivel_liquido</th>\n",
              "    </tr>\n",
              "  </thead>\n",
              "  <tbody>\n",
              "    <tr>\n",
              "      <th>467</th>\n",
              "      <td>12326</td>\n",
              "      <td>CARGO EM COMISSÃO</td>\n",
              "      <td>DEPTO TRIBUTACAO RECEITA E FISCALIZACAO</td>\n",
              "      <td>PAÇO</td>\n",
              "      <td>CHEFE SECAO DE TESOURARIA</td>\n",
              "      <td>ATIVO</td>\n",
              "      <td>11237.18</td>\n",
              "      <td>8199.01</td>\n",
              "      <td>3038.17</td>\n",
              "      <td>6K</td>\n",
              "    </tr>\n",
              "  </tbody>\n",
              "</table>\n",
              "</div>"
            ],
            "text/plain": [
              "    matricula    tipo_de_vinculo  ... desconto nivel_liquido\n",
              "467     12326  CARGO EM COMISSÃO  ...  3038.17            6K\n",
              "\n",
              "[1 rows x 10 columns]"
            ]
          },
          "metadata": {
            "tags": []
          },
          "execution_count": 111
        }
      ]
    },
    {
      "cell_type": "code",
      "metadata": {
        "id": "vovLnj7u1fp_",
        "colab_type": "code",
        "outputId": "1e97302f-16ac-41a5-fcb5-71efa3dd1b79",
        "colab": {
          "base_uri": "https://localhost:8080/",
          "height": 328
        }
      },
      "source": [
        "_mean = pd.Series({'Estatistica': 'Média', 'Resultado': round(df_df2['liquido'].mean(),3)})\n",
        "_median = pd.Series({'Estatistica': 'Mediana', 'Resultado': round(df_df2['liquido'].median(),3)})\n",
        "_quantile = pd.Series({'Estatistica': 'Quartile', 'Resultado': round(df_df2['liquido'].quantile(),3)})\n",
        "_mode = pd.Series({'Estatistica': 'Moda', 'Resultado': df_df2['liquido'].mode()})\n",
        "_max = pd.Series({'Estatistica': 'Máximo', 'Resultado': round(df_df2['liquido'].max(),3)})\n",
        "_min = pd.Series({'Estatistica': 'Mínimo', 'Resultado': round(df_df2['liquido'].min(),3)})\n",
        "_var = pd.Series({'Estatistica': 'Variança', 'Resultado': round(df_df2['liquido'].var(),3)})\n",
        "_mad = pd.Series({'Estatistica': 'Desvio Absoluto', 'Resultado': round(df_df2['liquido'].mad(),3)})\n",
        "_std = pd.Series({'Estatistica': 'Desvio Padrão', 'Resultado': round(df_df2['liquido'].std(),3)})\n",
        "\n",
        "result = pd.DataFrame([_mean, _median, _quantile, _mode, _max, _min, _var, _mad, _std ])\n",
        "result"
      ],
      "execution_count": 0,
      "outputs": [
        {
          "output_type": "execute_result",
          "data": {
            "text/html": [
              "<div>\n",
              "<style scoped>\n",
              "    .dataframe tbody tr th:only-of-type {\n",
              "        vertical-align: middle;\n",
              "    }\n",
              "\n",
              "    .dataframe tbody tr th {\n",
              "        vertical-align: top;\n",
              "    }\n",
              "\n",
              "    .dataframe thead th {\n",
              "        text-align: right;\n",
              "    }\n",
              "</style>\n",
              "<table border=\"1\" class=\"dataframe\">\n",
              "  <thead>\n",
              "    <tr style=\"text-align: right;\">\n",
              "      <th></th>\n",
              "      <th>Estatistica</th>\n",
              "      <th>Resultado</th>\n",
              "    </tr>\n",
              "  </thead>\n",
              "  <tbody>\n",
              "    <tr>\n",
              "      <th>0</th>\n",
              "      <td>Média</td>\n",
              "      <td>2497.7</td>\n",
              "    </tr>\n",
              "    <tr>\n",
              "      <th>1</th>\n",
              "      <td>Mediana</td>\n",
              "      <td>1893.92</td>\n",
              "    </tr>\n",
              "    <tr>\n",
              "      <th>2</th>\n",
              "      <td>Quartile</td>\n",
              "      <td>1893.92</td>\n",
              "    </tr>\n",
              "    <tr>\n",
              "      <th>3</th>\n",
              "      <td>Moda</td>\n",
              "      <td>0    981.11\n",
              "dtype: float64</td>\n",
              "    </tr>\n",
              "    <tr>\n",
              "      <th>4</th>\n",
              "      <td>Máximo</td>\n",
              "      <td>20716.2</td>\n",
              "    </tr>\n",
              "    <tr>\n",
              "      <th>5</th>\n",
              "      <td>Mínimo</td>\n",
              "      <td>0</td>\n",
              "    </tr>\n",
              "    <tr>\n",
              "      <th>6</th>\n",
              "      <td>Variança</td>\n",
              "      <td>3.83615e+06</td>\n",
              "    </tr>\n",
              "    <tr>\n",
              "      <th>7</th>\n",
              "      <td>Desvio Absoluto</td>\n",
              "      <td>1403.7</td>\n",
              "    </tr>\n",
              "    <tr>\n",
              "      <th>8</th>\n",
              "      <td>Desvio Padrão</td>\n",
              "      <td>1958.61</td>\n",
              "    </tr>\n",
              "  </tbody>\n",
              "</table>\n",
              "</div>"
            ],
            "text/plain": [
              "       Estatistica                   Resultado\n",
              "0            Média                      2497.7\n",
              "1          Mediana                     1893.92\n",
              "2         Quartile                     1893.92\n",
              "3             Moda  0    981.11\n",
              "dtype: float64\n",
              "4           Máximo                     20716.2\n",
              "5           Mínimo                           0\n",
              "6         Variança                 3.83615e+06\n",
              "7  Desvio Absoluto                      1403.7\n",
              "8    Desvio Padrão                     1958.61"
            ]
          },
          "metadata": {
            "tags": []
          },
          "execution_count": 112
        }
      ]
    },
    {
      "cell_type": "markdown",
      "metadata": {
        "id": "-H87ePzbpw5D",
        "colab_type": "text"
      },
      "source": [
        "#### Salvando o DataFrame com extensão .csv para entregar ao setor responsável\n",
        "#### Podemos realizar este procedimento para todas as consultas"
      ]
    },
    {
      "cell_type": "code",
      "metadata": {
        "id": "_hbWhVvOnruE",
        "colab_type": "code",
        "colab": {}
      },
      "source": [
        "describe_tipo_de_vinculo.to_csv('/gdrive/My Drive/Colab Notebooks/Datasets/describe_tipo_de_vinculo.csv')"
      ],
      "execution_count": 0,
      "outputs": []
    }
  ]
}
{
  "nbformat": 4,
  "nbformat_minor": 0,
  "metadata": {
    "colab": {
      "name": "aprendendo python.ipynb",
      "provenance": [],
      "collapsed_sections": [],
      "toc_visible": true,
      "include_colab_link": true
    },
    "kernelspec": {
      "name": "python3",
      "display_name": "Python 3"
    }
  },
  "cells": [
    {
      "cell_type": "markdown",
      "metadata": {
        "id": "view-in-github",
        "colab_type": "text"
      },
      "source": [
        "<a href=\"https://colab.research.google.com/github/Andrade-Douglas/Data-Science/blob/master/aprendendo_python.ipynb\" target=\"_parent\"><img src=\"https://colab.research.google.com/assets/colab-badge.svg\" alt=\"Open In Colab\"/></a>"
      ]
    },
    {
      "cell_type": "code",
      "metadata": {
        "id": "bHcK3aGi9gJI",
        "colab_type": "code",
        "colab": {}
      },
      "source": [
        "from google.colab import drive\n",
        "drive.mount('/gdrive')\n",
        "%cd /gdrive"
      ],
      "execution_count": 0,
      "outputs": []
    },
    {
      "cell_type": "code",
      "metadata": {
        "id": "NkkQkeyAaAYW",
        "colab_type": "code",
        "outputId": "3e82a65e-5f88-4c6b-8abb-1e9142d13a2e",
        "colab": {
          "base_uri": "https://localhost:8080/",
          "height": 34
        }
      },
      "source": [
        "5 + 10 * 2.5"
      ],
      "execution_count": 0,
      "outputs": [
        {
          "output_type": "execute_result",
          "data": {
            "text/plain": [
              "30.0"
            ]
          },
          "metadata": {
            "tags": []
          },
          "execution_count": 3
        }
      ]
    },
    {
      "cell_type": "code",
      "metadata": {
        "id": "j_1XKV6cfXsg",
        "colab_type": "code",
        "outputId": "d9fc4520-720f-4ac3-99db-f2f242d2dbd7",
        "colab": {
          "base_uri": "https://localhost:8080/",
          "height": 34
        }
      },
      "source": [
        "# o underline recebe o último valor armazenado na memória\n",
        "20 + _"
      ],
      "execution_count": 0,
      "outputs": [
        {
          "output_type": "execute_result",
          "data": {
            "text/plain": [
              "50.0"
            ]
          },
          "metadata": {
            "tags": []
          },
          "execution_count": 4
        }
      ]
    },
    {
      "cell_type": "code",
      "metadata": {
        "id": "jE8uoNctfjFN",
        "colab_type": "code",
        "outputId": "3618ad46-4120-4d12-ccb8-737f63f5cf66",
        "colab": {
          "base_uri": "https://localhost:8080/",
          "height": 34
        }
      },
      "source": [
        "17 / 3"
      ],
      "execution_count": 0,
      "outputs": [
        {
          "output_type": "execute_result",
          "data": {
            "text/plain": [
              "5.666666666666667"
            ]
          },
          "metadata": {
            "tags": []
          },
          "execution_count": 5
        }
      ]
    },
    {
      "cell_type": "code",
      "metadata": {
        "id": "Soi3TikQlF3B",
        "colab_type": "code",
        "outputId": "c9ae3b51-4405-433f-8a1f-5da2678bc69f",
        "colab": {
          "base_uri": "https://localhost:8080/",
          "height": 34
        }
      },
      "source": [
        "10 + _"
      ],
      "execution_count": 0,
      "outputs": [
        {
          "output_type": "execute_result",
          "data": {
            "text/plain": [
              "15.666666666666668"
            ]
          },
          "metadata": {
            "tags": []
          },
          "execution_count": 6
        }
      ]
    },
    {
      "cell_type": "code",
      "metadata": {
        "id": "k5_IzKacldGT",
        "colab_type": "code",
        "outputId": "c9fdcf7b-437c-458d-9e03-f47b354f9fd9",
        "colab": {
          "base_uri": "https://localhost:8080/",
          "height": 129
        }
      },
      "source": [
        "'Don't eat'"
      ],
      "execution_count": 0,
      "outputs": [
        {
          "output_type": "error",
          "ename": "SyntaxError",
          "evalue": "ignored",
          "traceback": [
            "\u001b[0;36m  File \u001b[0;32m\"<ipython-input-8-9f1ddb32c861>\"\u001b[0;36m, line \u001b[0;32m1\u001b[0m\n\u001b[0;31m    'Don't eat'\u001b[0m\n\u001b[0m         ^\u001b[0m\n\u001b[0;31mSyntaxError\u001b[0m\u001b[0;31m:\u001b[0m invalid syntax\n"
          ]
        }
      ]
    },
    {
      "cell_type": "code",
      "metadata": {
        "id": "sNK77Mz8lHEg",
        "colab_type": "code",
        "outputId": "8da4dfe2-8bf9-45e0-8014-b062bdbfc6ba",
        "colab": {
          "base_uri": "https://localhost:8080/",
          "height": 34
        }
      },
      "source": [
        "\"Dont' eat\""
      ],
      "execution_count": 0,
      "outputs": [
        {
          "output_type": "execute_result",
          "data": {
            "text/plain": [
              "\"Dont' eat\""
            ]
          },
          "metadata": {
            "tags": []
          },
          "execution_count": 7
        }
      ]
    },
    {
      "cell_type": "code",
      "metadata": {
        "id": "ESlRLvaNlab5",
        "colab_type": "code",
        "outputId": "a5fa31e2-a3eb-4da1-9056-473e0024c5af",
        "colab": {
          "base_uri": "https://localhost:8080/",
          "height": 34
        }
      },
      "source": [
        "'Tal pessoa falou \"Bla bla bla\" na palestra'"
      ],
      "execution_count": 0,
      "outputs": [
        {
          "output_type": "execute_result",
          "data": {
            "text/plain": [
              "'Tal pessoa falou \"Bla bla bla\" na palestra'"
            ]
          },
          "metadata": {
            "tags": []
          },
          "execution_count": 9
        }
      ]
    },
    {
      "cell_type": "code",
      "metadata": {
        "id": "vTS4-fyelmrp",
        "colab_type": "code",
        "outputId": "f6c0ee64-d321-4eff-bffa-432cd235c205",
        "colab": {
          "base_uri": "https://localhost:8080/",
          "height": 34
        }
      },
      "source": [
        "print('Abel bla bla bla')"
      ],
      "execution_count": 0,
      "outputs": [
        {
          "output_type": "stream",
          "text": [
            "Abel bla bla bla\n"
          ],
          "name": "stdout"
        }
      ]
    },
    {
      "cell_type": "code",
      "metadata": {
        "id": "y23pw3rBlu-B",
        "colab_type": "code",
        "outputId": "ffe7a5a7-743e-4a07-cf84-edb9ff58ac85",
        "colab": {
          "base_uri": "https://localhost:8080/",
          "height": 34
        }
      },
      "source": [
        "# para encarar as aspas como caracter\n",
        "'Don\\'t eat'"
      ],
      "execution_count": 0,
      "outputs": [
        {
          "output_type": "execute_result",
          "data": {
            "text/plain": [
              "\"Don't eat\""
            ]
          },
          "metadata": {
            "tags": []
          },
          "execution_count": 11
        }
      ]
    },
    {
      "cell_type": "code",
      "metadata": {
        "id": "5QP94jdal3RJ",
        "colab_type": "code",
        "outputId": "553aa5f1-3058-4aec-f902-fd1af5404a3c",
        "colab": {
          "base_uri": "https://localhost:8080/",
          "height": 34
        }
      },
      "source": [
        "\"Citação: \\\"Tal pessoa disse isso\\\"\""
      ],
      "execution_count": 0,
      "outputs": [
        {
          "output_type": "execute_result",
          "data": {
            "text/plain": [
              "'Citação: \"Tal pessoa disse isso\"'"
            ]
          },
          "metadata": {
            "tags": []
          },
          "execution_count": 13
        }
      ]
    },
    {
      "cell_type": "code",
      "metadata": {
        "id": "OmkdHIaXmAdR",
        "colab_type": "code",
        "outputId": "146c5052-9fe4-4962-f2bb-bd205eddaff9",
        "colab": {
          "base_uri": "https://localhost:8080/",
          "height": 51
        }
      },
      "source": [
        "print('C:\\meupc\\novo') # considera \\n como quebra de linha"
      ],
      "execution_count": 0,
      "outputs": [
        {
          "output_type": "stream",
          "text": [
            "C:\\meupc\n",
            "ovo\n"
          ],
          "name": "stdout"
        }
      ]
    },
    {
      "cell_type": "code",
      "metadata": {
        "id": "scpzBqKgmKdB",
        "colab_type": "code",
        "outputId": "84a9b37a-40e0-4108-bf6b-56062e4ae0cc",
        "colab": {
          "base_uri": "https://localhost:8080/",
          "height": 34
        }
      },
      "source": [
        "print(r'C:\\meupc\\novo')"
      ],
      "execution_count": 0,
      "outputs": [
        {
          "output_type": "stream",
          "text": [
            "C:\\meupc\\novo\n"
          ],
          "name": "stdout"
        }
      ]
    },
    {
      "cell_type": "code",
      "metadata": {
        "id": "5Gwk7iFZmaWC",
        "colab_type": "code",
        "outputId": "84469aee-5268-499e-a4ec-5d72189fd657",
        "colab": {
          "base_uri": "https://localhost:8080/",
          "height": 34
        }
      },
      "source": [
        "'Abel' + ' Caim'"
      ],
      "execution_count": 0,
      "outputs": [
        {
          "output_type": "execute_result",
          "data": {
            "text/plain": [
              "'Abel Caim'"
            ]
          },
          "metadata": {
            "tags": []
          },
          "execution_count": 17
        }
      ]
    },
    {
      "cell_type": "code",
      "metadata": {
        "id": "ESlQaYPkm-QS",
        "colab_type": "code",
        "outputId": "5fb7e1f8-19f8-41f1-a2f0-e326adeb8e91",
        "colab": {
          "base_uri": "https://localhost:8080/",
          "height": 34
        }
      },
      "source": [
        "i = 5 * ' Tic' + ' Tac'\n",
        "i"
      ],
      "execution_count": 0,
      "outputs": [
        {
          "output_type": "execute_result",
          "data": {
            "text/plain": [
              "' Tic Tic Tic Tic Tic Tac'"
            ]
          },
          "metadata": {
            "tags": []
          },
          "execution_count": 24
        }
      ]
    },
    {
      "cell_type": "code",
      "metadata": {
        "id": "NhSPhmvDnkUl",
        "colab_type": "code",
        "outputId": "26339a8e-4d5e-4717-a7d4-1c791d39e773",
        "colab": {
          "base_uri": "https://localhost:8080/",
          "height": 34
        }
      },
      "source": [
        "type(i)"
      ],
      "execution_count": 0,
      "outputs": [
        {
          "output_type": "execute_result",
          "data": {
            "text/plain": [
              "str"
            ]
          },
          "metadata": {
            "tags": []
          },
          "execution_count": 25
        }
      ]
    },
    {
      "cell_type": "code",
      "metadata": {
        "id": "CTS0aAYNnVJK",
        "colab_type": "code",
        "outputId": "bc323deb-3be0-464a-8fa1-a6d37ea76020",
        "colab": {
          "base_uri": "https://localhost:8080/",
          "height": 34
        }
      },
      "source": [
        "A = ['a','b','c','d','e']\n",
        "B = [1,2,3,4,5]\n",
        "X =[A, B]\n",
        "X"
      ],
      "execution_count": 0,
      "outputs": [
        {
          "output_type": "execute_result",
          "data": {
            "text/plain": [
              "[['a', 'b', 'c', 'd', 'e'], [1, 2, 3, 4, 5]]"
            ]
          },
          "metadata": {
            "tags": []
          },
          "execution_count": 29
        }
      ]
    },
    {
      "cell_type": "code",
      "metadata": {
        "id": "jiXl-LjbpYKj",
        "colab_type": "code",
        "outputId": "8c5f5a96-b791-422d-b138-060df54f486e",
        "colab": {
          "base_uri": "https://localhost:8080/",
          "height": 34
        }
      },
      "source": [
        "X[1][0]"
      ],
      "execution_count": 0,
      "outputs": [
        {
          "output_type": "execute_result",
          "data": {
            "text/plain": [
              "1"
            ]
          },
          "metadata": {
            "tags": []
          },
          "execution_count": 30
        }
      ]
    },
    {
      "cell_type": "code",
      "metadata": {
        "id": "DFJO2WRwpaTT",
        "colab_type": "code",
        "colab": {}
      },
      "source": [
        "# múltiplas atribuições\n",
        "a, b, c = 4, 5, 6"
      ],
      "execution_count": 0,
      "outputs": []
    },
    {
      "cell_type": "code",
      "metadata": {
        "id": "3peWiXkHpjJT",
        "colab_type": "code",
        "outputId": "93847fbf-f53d-4793-c50b-23222a972293",
        "colab": {
          "base_uri": "https://localhost:8080/",
          "height": 34
        }
      },
      "source": [
        "a,b,c"
      ],
      "execution_count": 0,
      "outputs": [
        {
          "output_type": "execute_result",
          "data": {
            "text/plain": [
              "(4, 5, 6)"
            ]
          },
          "metadata": {
            "tags": []
          },
          "execution_count": 32
        }
      ]
    },
    {
      "cell_type": "code",
      "metadata": {
        "id": "kPrWdST-pkms",
        "colab_type": "code",
        "colab": {}
      },
      "source": [
        "a, b = 0, 1"
      ],
      "execution_count": 0,
      "outputs": []
    },
    {
      "cell_type": "code",
      "metadata": {
        "id": "Na4ZgO_fp-rP",
        "colab_type": "code",
        "outputId": "31b388d5-9aab-46d6-80e1-5ad06b68cbb7",
        "colab": {
          "base_uri": "https://localhost:8080/",
          "height": 34
        }
      },
      "source": [
        "a, b"
      ],
      "execution_count": 0,
      "outputs": [
        {
          "output_type": "execute_result",
          "data": {
            "text/plain": [
              "(0, 1)"
            ]
          },
          "metadata": {
            "tags": []
          },
          "execution_count": 44
        }
      ]
    },
    {
      "cell_type": "code",
      "metadata": {
        "id": "aqTW2vL8ptRM",
        "colab_type": "code",
        "colab": {}
      },
      "source": [
        "a, b = b, a + b"
      ],
      "execution_count": 0,
      "outputs": []
    },
    {
      "cell_type": "code",
      "metadata": {
        "id": "R_j2AhxVpxQM",
        "colab_type": "code",
        "outputId": "2e26beea-13f3-4888-f26f-562b1ddd29fb",
        "colab": {
          "base_uri": "https://localhost:8080/",
          "height": 34
        }
      },
      "source": [
        "a,b"
      ],
      "execution_count": 0,
      "outputs": [
        {
          "output_type": "execute_result",
          "data": {
            "text/plain": [
              "(1, 1)"
            ]
          },
          "metadata": {
            "tags": []
          },
          "execution_count": 46
        }
      ]
    },
    {
      "cell_type": "markdown",
      "metadata": {
        "id": "JxLO5gk0rjh8",
        "colab_type": "text"
      },
      "source": [
        "# **Fibonacci**"
      ]
    },
    {
      "cell_type": "code",
      "metadata": {
        "id": "1eqN0hBap1vM",
        "colab_type": "code",
        "outputId": "d440d695-04bf-47f8-8b5b-984433056cc9",
        "colab": {
          "base_uri": "https://localhost:8080/",
          "height": 119
        }
      },
      "source": [
        "# fibonacci\n",
        "a, b = 0,1\n",
        "while b < 10:\n",
        "  print(b)\n",
        "  a,b = b, a+b"
      ],
      "execution_count": 0,
      "outputs": [
        {
          "output_type": "stream",
          "text": [
            "1\n",
            "1\n",
            "2\n",
            "3\n",
            "5\n",
            "8\n"
          ],
          "name": "stdout"
        }
      ]
    },
    {
      "cell_type": "code",
      "metadata": {
        "id": "QrRMUlwSrfEU",
        "colab_type": "code",
        "outputId": "e30930aa-3ed4-461b-a748-b43c093a2af6",
        "colab": {
          "base_uri": "https://localhost:8080/",
          "height": 119
        }
      },
      "source": [
        "# pula dois em dois\n",
        "a = 0\n",
        "while a < 11:\n",
        "  print(a)\n",
        "  a = a+2"
      ],
      "execution_count": 0,
      "outputs": [
        {
          "output_type": "stream",
          "text": [
            "0\n",
            "2\n",
            "4\n",
            "6\n",
            "8\n",
            "10\n"
          ],
          "name": "stdout"
        }
      ]
    },
    {
      "cell_type": "code",
      "metadata": {
        "id": "IIZwj4vxrxGG",
        "colab_type": "code",
        "outputId": "6494fa99-cccc-4338-d0bb-397da0bee350",
        "colab": {
          "base_uri": "https://localhost:8080/",
          "height": 51
        }
      },
      "source": [
        "entrada = int(input('Sua idade: '))\n",
        "\n",
        "if entrada < 18:\n",
        "  print('Acesso negado. Você é menor de idade.')\n",
        "else:\n",
        "  print('Acesso autorizado. Você é maior de idade.')"
      ],
      "execution_count": 0,
      "outputs": [
        {
          "output_type": "stream",
          "text": [
            "Sua idade: 41\n",
            "Acesso autorizado. Você é maior de idade.\n"
          ],
          "name": "stdout"
        }
      ]
    },
    {
      "cell_type": "code",
      "metadata": {
        "id": "h2eWnvcAskkH",
        "colab_type": "code",
        "outputId": "47d29404-4db4-4abe-8f84-9c908032f9f2",
        "colab": {
          "base_uri": "https://localhost:8080/",
          "height": 34
        }
      },
      "source": [
        "a = 3\n",
        "\n",
        "if a < 2:\n",
        "  print('a é menor que 2')\n",
        "elif a == 2:\n",
        "  print('a é igual a 2')\n",
        "elif a == 3:\n",
        "  print('a é igual a 3')\n",
        "else:\n",
        "  print('isso não é menor que 2')"
      ],
      "execution_count": 0,
      "outputs": [
        {
          "output_type": "stream",
          "text": [
            "a é igual a 3\n"
          ],
          "name": "stdout"
        }
      ]
    },
    {
      "cell_type": "code",
      "metadata": {
        "id": "it_byr4btHbv",
        "colab_type": "code",
        "outputId": "af554635-2d80-450c-be79-80cc42673e83",
        "colab": {
          "base_uri": "https://localhost:8080/",
          "height": 51
        }
      },
      "source": [
        "while True:\n",
        "  a = int(input('Entre com o número: '))\n",
        "\n",
        "  if a < 2:\n",
        "    print('a é menor que 2')\n",
        "    break\n",
        "  elif a == 2:\n",
        "    print('a é igual a 2')\n",
        "    break\n",
        "  elif a == 3:\n",
        "    print('a é igual a 3')\n",
        "    break\n",
        "  else:\n",
        "    print('isso não é menor que 2')"
      ],
      "execution_count": 0,
      "outputs": [
        {
          "output_type": "stream",
          "text": [
            "Entre com o número: 3\n",
            "a é igual a 3\n"
          ],
          "name": "stdout"
        }
      ]
    },
    {
      "cell_type": "code",
      "metadata": {
        "id": "MaUk09IEtcBn",
        "colab_type": "code",
        "outputId": "42624bcd-29c2-477e-ed78-d0d25503fea5",
        "colab": {
          "base_uri": "https://localhost:8080/",
          "height": 34
        }
      },
      "source": [
        "numeros = [1,2,3,4,5,6,8,9,10,11,12]\n",
        "\n",
        "for numero in numeros:\n",
        "  print(numero, end=', ')"
      ],
      "execution_count": 0,
      "outputs": [
        {
          "output_type": "stream",
          "text": [
            "1, 2, 3, 4, 5, 6, 8, 9, 10, 11, 12, "
          ],
          "name": "stdout"
        }
      ]
    },
    {
      "cell_type": "code",
      "metadata": {
        "id": "oR342rNRuQrC",
        "colab_type": "code",
        "outputId": "d53484ce-cefa-4e9c-d0f6-581d4d53b89b",
        "colab": {
          "base_uri": "https://localhost:8080/",
          "height": 187
        }
      },
      "source": [
        "numeros = [1,2,3,4,5,6,7,8,9,10]\n",
        "\n",
        "for numero in numeros:\n",
        "  print(numero, 'x', numero, '=', numero*numero)"
      ],
      "execution_count": 0,
      "outputs": [
        {
          "output_type": "stream",
          "text": [
            "1 x 1 = 1\n",
            "2 x 2 = 4\n",
            "3 x 3 = 9\n",
            "4 x 4 = 16\n",
            "5 x 5 = 25\n",
            "6 x 6 = 36\n",
            "7 x 7 = 49\n",
            "8 x 8 = 64\n",
            "9 x 9 = 81\n",
            "10 x 10 = 100\n"
          ],
          "name": "stdout"
        }
      ]
    }
  ]
}